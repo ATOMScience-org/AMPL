{
 "cells": [
  {
   "cell_type": "code",
   "execution_count": 1,
   "metadata": {},
   "outputs": [],
   "source": [
    "import pandas as pd\n",
    "import chem_diversity as cd\n",
    "\n",
    "import inspect, os, sys\n",
    "currentdir = os.path.dirname(os.path.abspath(inspect.getfile(inspect.currentframe())))\n",
    "parentdir = os.path.dirname(currentdir)\n",
    "sys.path.insert(0,parentdir)\n",
    "import datastore_functions as ds_func\n",
    "from datastore_functions import retrieve_dataset_by_datasetkey as csv2df"
   ]
  },
  {
   "cell_type": "code",
   "execution_count": 2,
   "metadata": {},
   "outputs": [
    {
     "ename": "HTTPNotFound",
     "evalue": "404 NOT FOUND: Dataset Not Found",
     "output_type": "error",
     "traceback": [
      "\u001b[0;31m---------------------------------------------------------------------------\u001b[0m",
      "\u001b[0;31mHTTPNotFound\u001b[0m                              Traceback (most recent call last)",
      "\u001b[0;32m<ipython-input-2-3102f5688ae1>\u001b[0m in \u001b[0;36m<module>\u001b[0;34m()\u001b[0m\n\u001b[1;32m      2\u001b[0m \u001b[0;34m\u001b[0m\u001b[0m\n\u001b[1;32m      3\u001b[0m \u001b[0mfull_feature_matrix_key\u001b[0m \u001b[0;34m=\u001b[0m \u001b[0;34m'/ds/projdata/gsk_data/GSK_Descriptors/'\u001b[0m                           \u001b[0;34m'all_GSK_Compound_2D_3D_MOE_Descriptors_Scaled_With_Smiles_And_Inchi.csv'\u001b[0m\u001b[0;34m\u001b[0m\u001b[0m\n\u001b[0;32m----> 4\u001b[0;31m \u001b[0mfull_feature_matrix\u001b[0m \u001b[0;34m=\u001b[0m \u001b[0mcsv2df\u001b[0m\u001b[0;34m(\u001b[0m\u001b[0mfull_feature_matrix_key\u001b[0m\u001b[0;34m,\u001b[0m \u001b[0;34m'gskdata'\u001b[0m\u001b[0;34m,\u001b[0m \u001b[0mds_client\u001b[0m\u001b[0;34m)\u001b[0m\u001b[0;34m\u001b[0m\u001b[0m\n\u001b[0m",
      "\u001b[0;32m~/data_science/code/datastore_functions.py\u001b[0m in \u001b[0;36mretrieve_dataset_by_datasetkey\u001b[0;34m(dataset_key, bucket, client, max_rows, print_metadata)\u001b[0m\n\u001b[1;32m    210\u001b[0m \u001b[0;34m\u001b[0m\u001b[0m\n\u001b[1;32m    211\u001b[0m \u001b[0;34m\u001b[0m\u001b[0m\n\u001b[0;32m--> 212\u001b[0;31m     \u001b[0mall_results\u001b[0m \u001b[0;34m=\u001b[0m \u001b[0mclient\u001b[0m\u001b[0;34m.\u001b[0m\u001b[0mds_datasets\u001b[0m\u001b[0;34m.\u001b[0m\u001b[0mget_bucket_dataset\u001b[0m \u001b[0;34m(\u001b[0m\u001b[0mbucket_name\u001b[0m\u001b[0;34m=\u001b[0m\u001b[0mbucket\u001b[0m\u001b[0;34m,\u001b[0m \u001b[0mdataset_key\u001b[0m\u001b[0;34m=\u001b[0m\u001b[0mdataset_key\u001b[0m\u001b[0;34m)\u001b[0m\u001b[0;34m.\u001b[0m\u001b[0mresult\u001b[0m\u001b[0;34m(\u001b[0m\u001b[0;34m)\u001b[0m\u001b[0;34m\u001b[0m\u001b[0m\n\u001b[0m\u001b[1;32m    213\u001b[0m \u001b[0;34m\u001b[0m\u001b[0m\n\u001b[1;32m    214\u001b[0m     \u001b[0;32mif\u001b[0m \u001b[0mprint_metadata\u001b[0m\u001b[0;34m:\u001b[0m\u001b[0;34m\u001b[0m\u001b[0m\n",
      "\u001b[0;32m/anaconda3/envs/deepchem/lib/python3.5/site-packages/bravado/http_future.py\u001b[0m in \u001b[0;36mresult\u001b[0;34m(self, timeout)\u001b[0m\n\u001b[1;32m    211\u001b[0m         \"\"\"\n\u001b[1;32m    212\u001b[0m         \u001b[0mincoming_response\u001b[0m \u001b[0;34m=\u001b[0m \u001b[0mself\u001b[0m\u001b[0;34m.\u001b[0m\u001b[0m_get_incoming_response\u001b[0m\u001b[0;34m(\u001b[0m\u001b[0mtimeout\u001b[0m\u001b[0;34m)\u001b[0m\u001b[0;34m\u001b[0m\u001b[0m\n\u001b[0;32m--> 213\u001b[0;31m         \u001b[0mswagger_result\u001b[0m \u001b[0;34m=\u001b[0m \u001b[0mself\u001b[0m\u001b[0;34m.\u001b[0m\u001b[0m_get_swagger_result\u001b[0m\u001b[0;34m(\u001b[0m\u001b[0mincoming_response\u001b[0m\u001b[0;34m)\u001b[0m\u001b[0;34m\u001b[0m\u001b[0m\n\u001b[0m\u001b[1;32m    214\u001b[0m \u001b[0;34m\u001b[0m\u001b[0m\n\u001b[1;32m    215\u001b[0m         \u001b[0;32mif\u001b[0m \u001b[0mself\u001b[0m\u001b[0;34m.\u001b[0m\u001b[0moperation\u001b[0m \u001b[0;32mis\u001b[0m \u001b[0;32mnot\u001b[0m \u001b[0;32mNone\u001b[0m\u001b[0;34m:\u001b[0m\u001b[0;34m\u001b[0m\u001b[0m\n",
      "\u001b[0;32m/anaconda3/envs/deepchem/lib/python3.5/site-packages/bravado/http_future.py\u001b[0m in \u001b[0;36m_get_swagger_result\u001b[0;34m(self, incoming_response)\u001b[0m\n\u001b[1;32m    235\u001b[0m                 \u001b[0mincoming_response\u001b[0m\u001b[0;34m,\u001b[0m\u001b[0;34m\u001b[0m\u001b[0m\n\u001b[1;32m    236\u001b[0m                 \u001b[0mself\u001b[0m\u001b[0;34m.\u001b[0m\u001b[0moperation\u001b[0m\u001b[0;34m,\u001b[0m\u001b[0;34m\u001b[0m\u001b[0m\n\u001b[0;32m--> 237\u001b[0;31m                 \u001b[0mself\u001b[0m\u001b[0;34m.\u001b[0m\u001b[0mrequest_config\u001b[0m\u001b[0;34m.\u001b[0m\u001b[0mresponse_callbacks\u001b[0m\u001b[0;34m,\u001b[0m\u001b[0;34m\u001b[0m\u001b[0m\n\u001b[0m\u001b[1;32m    238\u001b[0m             )\n\u001b[1;32m    239\u001b[0m             \u001b[0mswagger_result\u001b[0m \u001b[0;34m=\u001b[0m \u001b[0mincoming_response\u001b[0m\u001b[0;34m.\u001b[0m\u001b[0mswagger_result\u001b[0m\u001b[0;34m\u001b[0m\u001b[0m\n",
      "\u001b[0;32m/anaconda3/envs/deepchem/lib/python3.5/site-packages/bravado/http_future.py\u001b[0m in \u001b[0;36munmarshal_response\u001b[0;34m(incoming_response, operation, response_callbacks)\u001b[0m\n\u001b[1;32m    280\u001b[0m             \u001b[0mresponse_callback\u001b[0m\u001b[0;34m(\u001b[0m\u001b[0mincoming_response\u001b[0m\u001b[0;34m,\u001b[0m \u001b[0moperation\u001b[0m\u001b[0;34m)\u001b[0m\u001b[0;34m\u001b[0m\u001b[0m\n\u001b[1;32m    281\u001b[0m \u001b[0;34m\u001b[0m\u001b[0m\n\u001b[0;32m--> 282\u001b[0;31m     \u001b[0mraise_on_expected\u001b[0m\u001b[0;34m(\u001b[0m\u001b[0mincoming_response\u001b[0m\u001b[0;34m)\u001b[0m\u001b[0;34m\u001b[0m\u001b[0m\n\u001b[0m\u001b[1;32m    283\u001b[0m \u001b[0;34m\u001b[0m\u001b[0m\n\u001b[1;32m    284\u001b[0m \u001b[0;34m\u001b[0m\u001b[0m\n",
      "\u001b[0;32m/anaconda3/envs/deepchem/lib/python3.5/site-packages/bravado/http_future.py\u001b[0m in \u001b[0;36mraise_on_expected\u001b[0;34m(http_response)\u001b[0m\n\u001b[1;32m    340\u001b[0m         raise make_http_exception(\n\u001b[1;32m    341\u001b[0m             \u001b[0mresponse\u001b[0m\u001b[0;34m=\u001b[0m\u001b[0mhttp_response\u001b[0m\u001b[0;34m,\u001b[0m\u001b[0;34m\u001b[0m\u001b[0m\n\u001b[0;32m--> 342\u001b[0;31m             swagger_result=http_response.swagger_result)\n\u001b[0m",
      "\u001b[0;31mHTTPNotFound\u001b[0m: 404 NOT FOUND: Dataset Not Found"
     ]
    }
   ],
   "source": [
    "ds_client = ds_func.config_client(token='/Users/minnich2/data_science/data/ds_token.txt')\n",
    "\n",
    "full_feature_matrix_key = '/ds/projdata/gsk_data/GSK_datasets/eXP_Panel_Min_100_Cmpds/scaled_descriptors/subset_all_GSK_Compound_2D_3D_MOE_Descriptors_Scaled_With_Smiles_And_Inchi_HTR2A_5_HT2A_Human_Antagonist_HEK_Luminescence_f_PIC50.csv'\n",
    "full_feature_matrix = csv2df(full_feature_matrix_key, 'gskdata', ds_client)"
   ]
  },
  {
   "cell_type": "code",
   "execution_count": null,
   "metadata": {},
   "outputs": [],
   "source": [
    "test = pd.read_csv('/Users/minnich2/data_science/data/test_small.csv')\n",
    "#dists = cd.calc_dist_smiles('ecfp', 'tanimoto', test['smiles1'], smiles_arr2=test['smiles2'], calc_type='all')\n",
    "dists = cd.calc_dist_smiles(None, 'mcs', test['smiles1'], calc_type='all')\n",
    "\n",
    "#dists = cd.calc_dist_smiles('ecfp', 'tanimoto', test['smiles1'], calc_type='nearest')\n"
   ]
  },
  {
   "cell_type": "code",
   "execution_count": null,
   "metadata": {},
   "outputs": [],
   "source": [
    "for row in dists:\n",
    "    print(row)"
   ]
  },
  {
   "cell_type": "code",
   "execution_count": null,
   "metadata": {},
   "outputs": [],
   "source": [
    "print(dists)\n",
    "dists = calc_dist_smiles('ecfp', 'tanimoto', test['smiles1'], smiles_arr2=test['smiles2'], calc_type='farthest')\n",
    "print(dists)"
   ]
  }
 ],
 "metadata": {
  "kernelspec": {
   "display_name": "Python 3",
   "language": "python",
   "name": "python3"
  },
  "language_info": {
   "codemirror_mode": {
    "name": "ipython",
    "version": 3
   },
   "file_extension": ".py",
   "mimetype": "text/x-python",
   "name": "python",
   "nbconvert_exporter": "python",
   "pygments_lexer": "ipython3",
   "version": "3.5.5"
  }
 },
 "nbformat": 4,
 "nbformat_minor": 2
}
