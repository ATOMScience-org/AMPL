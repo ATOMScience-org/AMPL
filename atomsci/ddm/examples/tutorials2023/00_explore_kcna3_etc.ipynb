{
 "cells": [
  {
   "cell_type": "code",
   "execution_count": 1,
   "metadata": {},
   "outputs": [
    {
     "name": "stdout",
     "output_type": "stream",
     "text": [
      "891\n",
      "['IC50']\n",
      "['nM' 'nan']\n",
      "880\n",
      "893\n",
      "['IC50']\n",
      "['nM' 'nan']\n",
      "891\n",
      "2418\n",
      "['IC50']\n",
      "['nM' 'nan' 'µM']\n",
      "2368\n",
      "Index(['molecule_chembl_id', 'smiles', 'standard_type', 'standard_relation',\n",
      "       'standard_value', 'standard_units'],\n",
      "      dtype='object')\n",
      "Index(['molecule_chembl_id', 'smiles', 'standard_type', 'standard_relation',\n",
      "       'standard_value', 'standard_units'],\n",
      "      dtype='object')\n",
      "Index(['molecule_chembl_id', 'smiles', 'standard_type', 'standard_relation',\n",
      "       'standard_value', 'standard_units'],\n",
      "      dtype='object')\n"
     ]
    }
   ],
   "source": [
    "import pandas as pd\n",
    "import numpy as np\n",
    "import sklearn as sns\n",
    "\n",
    "# read in data\n",
    "kcna5=pd.read_csv('dataset/raw_kcna5_ic50.csv', sep=';')\n",
    "kcna3=pd.read_csv('dataset/raw_kcna3_ic50.csv', sep=';')\n",
    "scn5a=pd.read_csv('dataset/raw_scn5a_ic50.csv', sep=';')\n",
    "\n",
    "# drop extra columns\n",
    "kcna5=kcna5[['Molecule ChEMBL ID', 'Smiles', 'Standard Type', 'Standard Relation', 'Standard Value','Standard Units']]\n",
    "kcna3=kcna3[['Molecule ChEMBL ID', 'Smiles', 'Standard Type', 'Standard Relation', 'Standard Value','Standard Units']]\n",
    "scn5a=scn5a[['Molecule ChEMBL ID', 'Smiles', 'Standard Type', 'Standard Relation', 'Standard Value','Standard Units']]\n",
    "\n",
    "for df in [kcna5,kcna3,scn5a]:\n",
    "    print(len(df))\n",
    "    print(np.unique(df['Standard Type'].astype(str)))\n",
    "    print(np.unique(df['Standard Units'].astype(str)))\n",
    "    df.dropna(axis=0, subset=['Standard Units'], inplace=True)\n",
    "    print(len(df))\n",
    "\n",
    "for df in [kcna5,kcna3,scn5a]:\n",
    "    df['Standard Relation']=df['Standard Relation'].replace('nan', np.nan)\n",
    "\n",
    "for df in [kcna5,kcna3,scn5a]:\n",
    "    df.columns=[x.lower().replace(' ','_') for x in df.columns]\n",
    "    print(df.columns)\n",
    "\n",
    "# read in data\n",
    "kcna5.to_csv('dataset/kcna5_ic50.csv', index=False)\n",
    "kcna3.to_csv('dataset/kcna3_ic50.csv', index=False)\n",
    "scn5a.to_csv('dataset/scn5a_ic50.csv', index=False)"
   ]
  }
 ],
 "metadata": {
  "kernelspec": {
   "display_name": "AMPL_virtualenv_1.6",
   "language": "python",
   "name": "python3"
  },
  "language_info": {
   "codemirror_mode": {
    "name": "ipython",
    "version": 3
   },
   "file_extension": ".py",
   "mimetype": "text/x-python",
   "name": "python",
   "nbconvert_exporter": "python",
   "pygments_lexer": "ipython3",
   "version": "3.9.12"
  },
  "orig_nbformat": 4
 },
 "nbformat": 4,
 "nbformat_minor": 2
}
