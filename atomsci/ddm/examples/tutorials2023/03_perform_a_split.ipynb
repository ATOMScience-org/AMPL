{
 "cells": [
  {
   "cell_type": "markdown",
   "id": "befcec8e",
   "metadata": {},
   "source": [
    "# Perform a Split\n",
    "\n",
    "One of the goals of machine learning is to build a model that can generalize and perform well on new data. \n",
    "The problem is that you may not have new data, but you can simulate this experience by splitting the dataset into train, validation and test sets. \n",
    "\n",
    "**Training set**: A subset of the main dataset will feed into the model so that that model can learn the data patterns.\n",
    "\n",
    "**Validation Set**: This subset helps evaluate if the model has trained optimally. It also helps to set the parameters of the model.For example:in neural networks (NN), we use the validation set to find the number of epochs for training; NN's weights etc.\n",
    "\n",
    "**Test set**: This set checks the final model’s accuracy.\n",
    "\n",
    "Performing a split helps the model validation process to simulate how your model perform with new data. This tutorial will cover some tools in AMPL to perform a split.\n",
    "\n",
    "\n",
    "\n"
   ]
  },
  {
   "cell_type": "code",
   "execution_count": 1,
   "id": "b09a3d2a",
   "metadata": {},
   "outputs": [],
   "source": [
    "'''We will use the curated dataset that we created in tutorial 2 \n",
    "and learn how to split it into train,validation and test sets.'''\n",
    "\n",
    "import pandas as pd\n",
    "\n",
    "# Set up\n",
    "dataset_file = 'dataset/curated_kcna5_ic50.csv'\n",
    "odir='dataset'"
   ]
  },
  {
   "cell_type": "markdown",
   "id": "442986b1",
   "metadata": {},
   "source": [
    "Machine learning (ML) models learn the relationship between molecules and molecular properties.\n",
    "These models can dramatically accelerate the screening process by giving researchers information on which molecules are most and least likely to have the desired properties.\n",
    "\n",
    "ML models, however, are only as good as the data they were trained on. In the chemical space, this problem manifests itself when a model is queried with molecules from an unfamiliar chemical space. "
   ]
  },
  {
   "cell_type": "markdown",
   "id": "ddc4934d",
   "metadata": {},
   "source": [
    "# Perform a Scaffold split\n",
    "\n",
    "Scaffolds' represent core structures of small molecules. Scaffold splits group molecules with different scaffold structures into the training, validation and test tests so that molecules with the same scaffold are grouped together in the same subset.This ensures that the train/validation/test sets are structurally different. \n",
    "\n",
    "A scaffold split is more challenging than a random split where the data are split into train/validation/test at random. If a model is trained on molecules that belong to only a handful of scaffold classes, its ability to predict a molecule in an unfamiliar scaffold is unknown."
   ]
  },
  {
   "cell_type": "code",
   "execution_count": 2,
   "id": "d1ce02ff",
   "metadata": {},
   "outputs": [],
   "source": [
    "split_type=['scaffold','random']\n",
    "param_lst=[]\n",
    "for split_val in split_type :\n",
    "    params = {\n",
    "        \"verbose\": \"True\",\n",
    "        \"system\": \"LC\",\n",
    "\n",
    "        # dataset info\n",
    "        \"dataset_key\" : dataset_file,\n",
    "        \"datastore\": \"False\",\n",
    "        \"response_cols\" : \"avg_pIC50\",\n",
    "        \"id_col\": \"compound_id\",\n",
    "        \"smiles_col\" : \"base_rdkit_smiles\",\n",
    "        \"result_dir\": odir,\n",
    "\n",
    "        # splitting\n",
    "        \"split_only\": \"True\",\n",
    "        \"previously_split\": \"False\",\n",
    "        \"splitter\": split_val,\n",
    "        \"split_valid_frac\": \"0.15\",\n",
    "        \"split_test_frac\": \"0.15\",\n",
    "\n",
    "        # featurization & training params\n",
    "        \"featurizer\": \"ecfp\",\n",
    "    }\n",
    "    param_lst.append(params)"
   ]
  },
  {
   "cell_type": "markdown",
   "id": "31e41f0e",
   "metadata": {},
   "source": [
    "The dataset split table is saved as a .csv in the same directory as the `dataset_key`. \n",
    "The name of the split file starts with the `dataset_key` and is followed by the split type (scaffold/random), \n",
    "split strategy, and the split_uuid; an unique identifier of the split."
   ]
  },
  {
   "cell_type": "code",
   "execution_count": 3,
   "id": "8ea9c51f",
   "metadata": {},
   "outputs": [
    {
     "name": "stderr",
     "output_type": "stream",
     "text": [
      "/usr/WS1/hiran/ampl160/lib/python3.9/site-packages/tqdm/auto.py:21: TqdmWarning: IProgress not found. Please update jupyter and ipywidgets. See https://ipywidgets.readthedocs.io/en/stable/user_install.html\n",
      "  from .autonotebook import tqdm as notebook_tqdm\n",
      "Skipped loading modules with pytorch-geometric dependency, missing a dependency. No module named 'torch_geometric'\n",
      "Skipped loading modules with pytorch-geometric dependency, missing a dependency. cannot import name 'DMPNN' from 'deepchem.models.torch_models' (/usr/WS1/hiran/ampl160/lib/python3.9/site-packages/deepchem/models/torch_models/__init__.py)\n",
      "Skipped loading modules with pytorch-lightning dependency, missing a dependency. No module named 'pytorch_lightning'\n",
      "Skipped loading some Jax models, missing a dependency. jax requires jaxlib to be installed. See https://github.com/google/jax#installation for installation instructions.\n",
      "INFO:ATOM:Created a dataset hash 'b7b8b0a25c13147093936f806045e0ac' from dataset_key '/usr/WS1/hiran/AMPL/atomsci/ddm/examples/tutorials2023/dataset/curated_kcna5_ic50.csv'\n",
      "DEBUG:ATOM:Attempting to load featurized dataset\n",
      "DEBUG:ATOM:Exception when trying to load featurized data:\n",
      "DynamicFeaturization doesn't support get_featurized_dset_name()\n",
      "INFO:ATOM:Featurized dataset not previously saved for dataset curated_kcna5_ic50, creating new\n",
      "INFO:ATOM:Featurizing sample 0\n",
      "DEBUG:ATOM:Number of features: 1024\n",
      "WARNING:ATOM:Splitting data by scaffold\n",
      "WARNING:ATOM:Dataset split table saved to /usr/WS1/hiran/AMPL/atomsci/ddm/examples/tutorials2023/dataset/curated_kcna5_ic50_train_valid_test_scaffold_bcd96299-6d61-4467-9e6b-814dcf8cde16.csv\n",
      "INFO:ATOM:Created a dataset hash 'b7b8b0a25c13147093936f806045e0ac' from dataset_key '/usr/WS1/hiran/AMPL/atomsci/ddm/examples/tutorials2023/dataset/curated_kcna5_ic50.csv'\n",
      "DEBUG:ATOM:Attempting to load featurized dataset\n",
      "DEBUG:ATOM:Exception when trying to load featurized data:\n",
      "DynamicFeaturization doesn't support get_featurized_dset_name()\n",
      "INFO:ATOM:Featurized dataset not previously saved for dataset curated_kcna5_ic50, creating new\n",
      "INFO:ATOM:Featurizing sample 0\n",
      "DEBUG:ATOM:Number of features: 1024\n",
      "WARNING:ATOM:Splitting data by random\n",
      "WARNING:ATOM:Dataset split table saved to /usr/WS1/hiran/AMPL/atomsci/ddm/examples/tutorials2023/dataset/curated_kcna5_ic50_train_valid_test_random_80f0616b-b3d6-46f2-abc1-23a55ccaed99.csv\n"
     ]
    }
   ],
   "source": [
    "from atomsci.ddm.pipeline import model_pipeline as mp\n",
    "from atomsci.ddm.pipeline import parameter_parser as parse\n",
    "\n",
    "split_lst=[]\n",
    "for params in param_lst :\n",
    "    pparams = parse.wrapper(params)\n",
    "    MP = mp.ModelPipeline(pparams)\n",
    "    split_uuid = MP.split_dataset()\n",
    "    split_lst.append((params,split_uuid))"
   ]
  },
  {
   "cell_type": "markdown",
   "id": "2ceb1106",
   "metadata": {},
   "source": [
    "# Rationale between using scaffold split and random split\n",
    "\n",
    "A generalizable model will be able to accurately predict the properties of molecules it has never seen before, \n",
    "reducing the need to perform extensive manual assays each time a new chemical class is to be tested. \n",
    "Generalizable models can predict across multiple different scaffolds and molecule types, while a non-generalizable model cannot.\n",
    "\n",
    "A scaffold split tests model generalizability better than a random split. When using a random split, there is no guarantee that the test set will be structurally different than the training sets."
   ]
  },
  {
   "cell_type": "code",
   "execution_count": 4,
   "id": "2331fff0",
   "metadata": {},
   "outputs": [
    {
     "name": "stdout",
     "output_type": "stream",
     "text": [
      "[('dataset/curated_kcna5_ic50_train_valid_test_scaffold_bcd96299-6d61-4467-9e6b-814dcf8cde16.csv', 'bcd96299-6d61-4467-9e6b-814dcf8cde16', 'scaffold'), ('dataset/curated_kcna5_ic50_train_valid_test_random_80f0616b-b3d6-46f2-abc1-23a55ccaed99.csv', '80f0616b-b3d6-46f2-abc1-23a55ccaed99', 'random')]\n"
     ]
    }
   ],
   "source": [
    "# display the split file location and names\n",
    "import os\n",
    "file_lst=[]\n",
    "for params, sid in split_lst :\n",
    "    fname=params['dataset_key']\n",
    "    dirname=os.path.dirname(fname)\n",
    "    split_val=params['splitter']\n",
    "\n",
    "    # find the file that contains the correct uuid\n",
    "    all_files = os.listdir(dirname)\n",
    "    for file in all_files:\n",
    "        if sid in file:\n",
    "            nfile = os.path.join(dirname, file)\n",
    "            file_lst.append((nfile,sid,split_val))\n",
    "            break\n",
    "print(file_lst)"
   ]
  },
  {
   "cell_type": "markdown",
   "id": "dc0923bd",
   "metadata": {},
   "source": [
    "# Format of the split file\n",
    "The split file consits of three columns: cmpd_id is the compound id; subset tells you if the compound is in the train/validation/ test set and fold tell you which fold (Folds and split stratergies will be explained in a later tutorial)"
   ]
  },
  {
   "cell_type": "code",
   "execution_count": 5,
   "id": "b7ab63ac",
   "metadata": {},
   "outputs": [
    {
     "data": {
      "text/html": [
       "<div>\n",
       "<style scoped>\n",
       "    .dataframe tbody tr th:only-of-type {\n",
       "        vertical-align: middle;\n",
       "    }\n",
       "\n",
       "    .dataframe tbody tr th {\n",
       "        vertical-align: top;\n",
       "    }\n",
       "\n",
       "    .dataframe thead th {\n",
       "        text-align: right;\n",
       "    }\n",
       "</style>\n",
       "<table border=\"1\" class=\"dataframe\">\n",
       "  <thead>\n",
       "    <tr style=\"text-align: right;\">\n",
       "      <th></th>\n",
       "      <th>cmpd_id</th>\n",
       "      <th>subset</th>\n",
       "      <th>fold</th>\n",
       "    </tr>\n",
       "  </thead>\n",
       "  <tbody>\n",
       "    <tr>\n",
       "      <th>0</th>\n",
       "      <td>CHEMBL3262827</td>\n",
       "      <td>train</td>\n",
       "      <td>0</td>\n",
       "    </tr>\n",
       "    <tr>\n",
       "      <th>1</th>\n",
       "      <td>CHEMBL475630</td>\n",
       "      <td>train</td>\n",
       "      <td>0</td>\n",
       "    </tr>\n",
       "    <tr>\n",
       "      <th>2</th>\n",
       "      <td>CHEMBL388538</td>\n",
       "      <td>train</td>\n",
       "      <td>0</td>\n",
       "    </tr>\n",
       "  </tbody>\n",
       "</table>\n",
       "</div>"
      ],
      "text/plain": [
       "         cmpd_id subset  fold\n",
       "0  CHEMBL3262827  train     0\n",
       "1   CHEMBL475630  train     0\n",
       "2   CHEMBL388538  train     0"
      ]
     },
     "execution_count": 5,
     "metadata": {},
     "output_type": "execute_result"
    }
   ],
   "source": [
    "# Explore contents of the split file\n",
    "file,sid,split_val = file_lst[0]\n",
    "df=pd.read_csv(file)\n",
    "df.head(3)"
   ]
  },
  {
   "cell_type": "markdown",
   "id": "8af4b581",
   "metadata": {},
   "source": [
    "### Show difference in Tanimoto distance between training and test comparison between random and scaffold split"
   ]
  },
  {
   "cell_type": "code",
   "execution_count": 7,
   "id": "1326d87c",
   "metadata": {
    "scrolled": false
   },
   "outputs": [
    {
     "data": {
      "image/png": "[encoded data removed]",
      "text/plain": [
       "<Figure size 360x360 with 1 Axes>"
      ]
     },
     "metadata": {
      "needs_background": "light"
     },
     "output_type": "display_data"
    },
    {
     "data": {
      "image/png": "[encoded data removed]",
      "text/plain": [
       "<Figure size 360x360 with 1 Axes>"
      ]
     },
     "metadata": {
      "needs_background": "light"
     },
     "output_type": "display_data"
    }
   ],
   "source": [
    "import atomsci.ddm.utils.compare_splits_plots as csp\n",
    "from atomsci.ddm.pipeline import chem_diversity as cd\n",
    "\n",
    "# read the dataset\n",
    "df = pd.read_csv('dataset/curated_kcna5_ic50.csv')\n",
    "\n",
    "for file, uuid, split_type in file_lst:\n",
    "    # read the split file\n",
    "    split = pd.read_csv(file)\n",
    "\n",
    "    # create SplitStats\n",
    "    ss = csp.SplitStats(df, split, smiles_col='base_rdkit_smiles', id_col='compound_id', response_cols=['avg_pIC50'])\n",
    "\n",
    "    g = ss.dist_hist_train_v_test_plot()\n",
    "    g.fig.suptitle(f\"Train vs Test pairwise Tanimoto Distance using {split_type} split\")"
   ]
  }
 ],
 "metadata": {
  "kernelspec": {
   "display_name": "ampl160",
   "language": "python",
   "name": "ampl160"
  },
  "language_info": {
   "codemirror_mode": {
    "name": "ipython",
    "version": 3
   },
   "file_extension": ".py",
   "mimetype": "text/x-python",
   "name": "python",
   "nbconvert_exporter": "python",
   "pygments_lexer": "ipython3",
   "version": "3.9.12"
  }
 },
 "nbformat": 4,
 "nbformat_minor": 5
}
