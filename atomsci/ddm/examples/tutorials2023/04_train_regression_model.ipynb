{
 "cells": [
  {
   "cell_type": "markdown",
   "id": "7f70f3f5",
   "metadata": {},
   "source": [
    "# Train a Simple Regression Model\n",
    "\n",
    "The process of training a machine learning (ML) model can be thought of as fitting a\n",
    "highly parameterized function to map inputs to outputs. An ML algorithm needs to learn from\n",
    "numerous examples of input and output pairs to accurately map an input to an output,\n",
    "i. e., make a prediction. After training, the result is referred to a trained ML model or an artifact.\n",
    "\n",
    "This tutorial will detail how we can use [AMPL](https://github.com/ATOMScience-org/AMPL) tools to train a regression model to predict \n",
    "how much a compound will inhibit the KCNA3 protein as measured by pIC50. \n",
    "We will train a random forest model using the following inputs:\n",
    "\n",
    "1. The curated kcna3 dataset from **tutorial 2**.\n",
    "2. The split file generated in **tutorial 3**.\n",
    "3. [RDKit](https://github.com/rdkit/rdkit) features calculated by the [AMPL](https://github.com/ATOMScience-org/AMPL) pipeline.\n",
    "\n",
    "We will explain the use of descriptors, how to evaulate model performance,\n",
    "and where the model is saved as a .tar.gz file.\n",
    "\n",
    "> **Note** *Training a random forest model and splitting the dataset are non-deterministic. \n",
    "You will obtain a slightly different random forest model by running this tutorial each time.*"
   ]
  },
  {
   "cell_type": "markdown",
   "id": "8ddf45a6",
   "metadata": {},
   "source": [
    "## Model Training (using already split data)\n",
    "\n",
    "We will use the curated dataset created in **tutorial 2** and the split file \n",
    "created in **tutorial 3** to build a json file for training. We set `\"previously_split\": \"True\"`\n",
    " and set the `split_uuid`. \n",
    "Here, we will use `\"split_uuid\" : \"8daa5687-c2ee-45e4-b385-36164246c419\"; \n",
    "the uuid for the scaffold split created in **tutorial 3**.\n",
    "\n",
    "[AMPL](https://github.com/ATOMScience-org/AMPL) provides an extensive featurization module that can generate a \n",
    "variety of molecular feature types, given SMILES strings as input. \n",
    "For demonstration purposes, we choose to use RDKit features in this tutorial.\n",
    "\n",
    "When the featurized dataset is not previously saved for curated_kcna3_ic50, \n",
    "[AMPL](https://github.com/ATOMScience-org/AMPL) will create a featurized dataset and save it in a folder called `scaled_descriptors` \n",
    "as a csv file e.g. `dataset/scaled_descriptors/curated_kcna3_ic50_with_rdkit_raw_descriptors.csv`"
   ]
  },
  {
   "cell_type": "code",
   "execution_count": 1,
   "id": "cd12dbd6",
   "metadata": {},
   "outputs": [
    {
     "name": "stderr",
     "output_type": "stream",
     "text": [
      "Skipped loading modules with pytorch-geometric dependency, missing a dependency. No module named 'torch_geometric'\n",
      "Skipped loading modules with pytorch-geometric dependency, missing a dependency. cannot import name 'DMPNN' from 'deepchem.models.torch_models' (/usr/WS2/kmelough/ampl16_env/lib/python3.9/site-packages/deepchem/models/torch_models/__init__.py)\n",
      "Skipped loading modules with pytorch-lightning dependency, missing a dependency. No module named 'pytorch_lightning'\n",
      "Skipped loading some Jax models, missing a dependency. jax requires jaxlib to be installed. See https://github.com/google/jax#installation for installation instructions.\n",
      "WARNING:ATOM:Previous dataset split restored\n",
      "/usr/WS2/kmelough/git3/AMPL/atomsci/ddm/pipeline/transformations.py:255: RuntimeWarning: invalid value encountered in divide\n",
      "  X = np.nan_to_num((X - self.X_means) * X_weight / self.X_stds)\n"
     ]
    }
   ],
   "source": [
    "# importing relevant libraries\n",
    "import pandas as pd\n",
    "from atomsci.ddm.pipeline import model_pipeline as mp\n",
    "from atomsci.ddm.pipeline import parameter_parser as parse\n",
    "\n",
    "# Set up\n",
    "dataset_file = 'dataset/curated_kcna3_ic50.csv'\n",
    "odir='dataset'\n",
    "\n",
    "response_col = \"avg_pIC50\"\n",
    "compound_id = \"compound_id\"\n",
    "smiles_col = \"base_rdkit_smiles\"\n",
    "split_uuid = \"8daa5687-c2ee-45e4-b385-36164246c419\"\n",
    "\n",
    "params = {\n",
    "        \"verbose\": \"True\",\n",
    "        \"system\": \"LC\",\n",
    "        \"datastore\": \"False\",\n",
    "        \"save_results\": \"False\",\n",
    "        \"prediction_type\": \"regression\",\n",
    "        \"dataset_key\": dataset_file,\n",
    "        \"id_col\": compound_id,\n",
    "        \"smiles_col\": smiles_col,\n",
    "        \"response_cols\": response_col,\n",
    "        \"previously_split\": \"True\",\n",
    "        \"split_uuid\" : split_uuid,\n",
    "        \"split_only\": \"False\",\n",
    "        \"featurizer\": \"computed_descriptors\",\n",
    "        \"descriptor_type\" : \"rdkit_raw\",\n",
    "        \"model_type\": \"RF\",\n",
    "        \"verbose\": \"True\",\n",
    "        \"transformers\": \"True\",\n",
    "        \"rerun\": \"False\",\n",
    "        \"result_dir\": odir\n",
    "    }\n",
    "\n",
    "ampl_param = parse.wrapper(params)\n",
    "pl = mp.ModelPipeline(ampl_param)\n",
    "pl.train_model()"
   ]
  },
  {
   "cell_type": "markdown",
   "id": "409083fb",
   "metadata": {},
   "source": [
    "## Model Training (Split data and train)\n",
    "\n",
    "It is possible to split and train a model in one step. \n",
    "Here, we set `\"previously_split\": \"False\"` and don't specify a split_uuid parameter. \n",
    "[AMPL](https://github.com/ATOMScience-org/AMPL) splits the data by the type of split specified in the splitter parameter, \n",
    "scaffold in this example, and writes the split file in\n",
    "`dataset/curated_kcna3_ic50_train_valid_test_scaffold_{split_uuid}.csv.` \n",
    "After training, [AMPL](https://github.com/ATOMScience-org/AMPL) saves the model and all of its parameters as a tarball in `result_dir`."
   ]
  },
  {
   "cell_type": "code",
   "execution_count": 2,
   "id": "1c5bbc2c",
   "metadata": {},
   "outputs": [
    {
     "name": "stderr",
     "output_type": "stream",
     "text": [
      "/usr/WS2/kmelough/git3/AMPL/atomsci/ddm/pipeline/transformations.py:255: RuntimeWarning: invalid value encountered in divide\n",
      "  X = np.nan_to_num((X - self.X_means) * X_weight / self.X_stds)\n"
     ]
    }
   ],
   "source": [
    "response_col = \"avg_pIC50\"\n",
    "compound_id = \"compound_id\"\n",
    "smiles_col = \"base_rdkit_smiles\"\n",
    "\n",
    "params = {\n",
    "        \"verbose\": \"True\",\n",
    "        \"system\": \"LC\",\n",
    "        \"datastore\": \"False\",\n",
    "        \"save_results\": \"False\",\n",
    "        \"prediction_type\": \"regression\",\n",
    "        \"dataset_key\": dataset_file,\n",
    "        \"id_col\": compound_id,\n",
    "        \"smiles_col\": smiles_col,\n",
    "        \"response_cols\": response_col,\n",
    "        \"previously_split\": \"False\",\n",
    "        \"split_only\": \"False\",\n",
    "        \"splitter\": \"scaffold\",\n",
    "        \"split_valid_frac\": \"0.15\",\n",
    "        \"split_test_frac\": \"0.15\",\n",
    "        \"featurizer\": \"computed_descriptors\",\n",
    "        \"descriptor_type\" : \"rdkit_raw\",\n",
    "        \"model_type\": \"RF\",\n",
    "        \"verbose\": \"True\",\n",
    "        \"transformers\": \"True\",\n",
    "        \"rerun\": \"False\",\n",
    "        \"result_dir\": odir\n",
    "    }\n",
    "\n",
    "ampl_param = parse.wrapper(params)\n",
    "pl = mp.ModelPipeline(ampl_param)\n",
    "pl.train_model()"
   ]
  },
  {
   "cell_type": "markdown",
   "id": "572d4387",
   "metadata": {},
   "source": [
    "## Performance of the Model\n",
    "We evaluate model performance by measuring how accurate \n",
    "model predictions are on validation and test sets. \n",
    "The validation set is used while optimizing the model and for choosing the best\n",
    "parameter settings. Then the performance on the test set is the final judge of\n",
    "model performance.\n",
    "\n",
    "AMPL has several popular metrics to evaulate regression models; \n",
    "Mean Absolute Error (MAE), Mean Squared Error (MSE), Root Mean Squared Error (RMSE) and R² (R-Squared).\n",
    "In our tutorials, we will use R² metric to compare our models. The best model will have the highest\n",
    "R² score.\n",
    "\n",
    "> **Note** *The model tracker client will not be supported in your environment.*"
   ]
  },
  {
   "cell_type": "code",
   "execution_count": 3,
   "id": "93d34b0e",
   "metadata": {},
   "outputs": [
    {
     "name": "stderr",
     "output_type": "stream",
     "text": [
      "WARNING:ATOM:Warning: column names have been changed to align with get_multitask_perf_from_tracker(): featurizer is now features and <subset>_<metric> has been changed to best_<subset>_<metric>.\n"
     ]
    },
    {
     "name": "stdout",
     "output_type": "stream",
     "text": [
      "Found data for 4 models under dataset\n"
     ]
    }
   ],
   "source": [
    "# Model Performance\n",
    "from atomsci.ddm.pipeline import compare_models as cm\n",
    "pred_df = cm.get_filesystem_perf_results(odir, pred_type='regression')"
   ]
  },
  {
   "cell_type": "markdown",
   "id": "1bf89a52",
   "metadata": {},
   "source": [
    "The pred_df dataframe has details about the model_uuid, model_path, ampl_version, model_type, features, splitter and the results for popular metrics that help evaluate the performance. Let us view the contents of the pred_df dataframe."
   ]
  },
  {
   "cell_type": "code",
   "execution_count": 4,
   "id": "605a4f10-17d5-4af1-b2e0-3d040b4fe1d5",
   "metadata": {
    "tags": []
   },
   "outputs": [],
   "source": [
    "pred_df.to_csv('./dataset/pred_df.csv')"
   ]
  },
  {
   "cell_type": "code",
   "execution_count": 5,
   "id": "b7fe7829",
   "metadata": {},
   "outputs": [
    {
     "data": {
      "text/html": [
       "<div>\n",
       "<style scoped>\n",
       "    .dataframe tbody tr th:only-of-type {\n",
       "        vertical-align: middle;\n",
       "    }\n",
       "\n",
       "    .dataframe tbody tr th {\n",
       "        vertical-align: top;\n",
       "    }\n",
       "\n",
       "    .dataframe thead th {\n",
       "        text-align: right;\n",
       "    }\n",
       "</style>\n",
       "<table border=\"1\" class=\"dataframe\">\n",
       "  <thead>\n",
       "    <tr style=\"text-align: right;\">\n",
       "      <th></th>\n",
       "      <th>model_uuid</th>\n",
       "      <th>model_path</th>\n",
       "      <th>ampl_version</th>\n",
       "      <th>model_type</th>\n",
       "      <th>dataset_key</th>\n",
       "      <th>features</th>\n",
       "      <th>splitter</th>\n",
       "      <th>split_strategy</th>\n",
       "      <th>model_score_type</th>\n",
       "      <th>feature_transform_type</th>\n",
       "      <th>...</th>\n",
       "      <th>dropouts</th>\n",
       "      <th>xgb_gamma</th>\n",
       "      <th>xgb_learning_rate</th>\n",
       "      <th>xgb_max_depth</th>\n",
       "      <th>xgb_colsample_bytree</th>\n",
       "      <th>xgb_subsample</th>\n",
       "      <th>xgb_n_estimators</th>\n",
       "      <th>xgb_min_child_weight</th>\n",
       "      <th>model_parameters_dict</th>\n",
       "      <th>feat_parameters_dict</th>\n",
       "    </tr>\n",
       "  </thead>\n",
       "  <tbody>\n",
       "    <tr>\n",
       "      <th>1</th>\n",
       "      <td>18d7ef2d-7192-41df-b3ad-ec92a7fd0e72</td>\n",
       "      <td>dataset/curated_kcna3_ic50_model_18d7ef2d-7192...</td>\n",
       "      <td>1.6.0</td>\n",
       "      <td>RF</td>\n",
       "      <td>/usr/WS2/kmelough/git3/AMPL/atomsci/ddm/exampl...</td>\n",
       "      <td>rdkit_raw</td>\n",
       "      <td>scaffold</td>\n",
       "      <td>train_valid_test</td>\n",
       "      <td>r2</td>\n",
       "      <td>normalization</td>\n",
       "      <td>...</td>\n",
       "      <td>NaN</td>\n",
       "      <td>NaN</td>\n",
       "      <td>NaN</td>\n",
       "      <td>NaN</td>\n",
       "      <td>NaN</td>\n",
       "      <td>NaN</td>\n",
       "      <td>NaN</td>\n",
       "      <td>NaN</td>\n",
       "      <td>{\"rf_estimators\": 500, \"rf_max_depth\": null, \"...</td>\n",
       "      <td>{}</td>\n",
       "    </tr>\n",
       "    <tr>\n",
       "      <th>3</th>\n",
       "      <td>2eb869ed-3581-4ea7-a601-90bb2f7e19a5</td>\n",
       "      <td>dataset/curated_kcna3_ic50_model_2eb869ed-3581...</td>\n",
       "      <td>1.6.0</td>\n",
       "      <td>RF</td>\n",
       "      <td>/usr/WS2/kmelough/git3/AMPL/atomsci/ddm/exampl...</td>\n",
       "      <td>rdkit_raw</td>\n",
       "      <td>scaffold</td>\n",
       "      <td>train_valid_test</td>\n",
       "      <td>r2</td>\n",
       "      <td>normalization</td>\n",
       "      <td>...</td>\n",
       "      <td>NaN</td>\n",
       "      <td>NaN</td>\n",
       "      <td>NaN</td>\n",
       "      <td>NaN</td>\n",
       "      <td>NaN</td>\n",
       "      <td>NaN</td>\n",
       "      <td>NaN</td>\n",
       "      <td>NaN</td>\n",
       "      <td>{\"rf_estimators\": 500, \"rf_max_depth\": null, \"...</td>\n",
       "      <td>{}</td>\n",
       "    </tr>\n",
       "    <tr>\n",
       "      <th>0</th>\n",
       "      <td>2e54d840-2145-4973-b975-9aad8edb2f35</td>\n",
       "      <td>dataset/curated_kcna3_ic50_model_2e54d840-2145...</td>\n",
       "      <td>1.6.0</td>\n",
       "      <td>RF</td>\n",
       "      <td>/usr/WS2/kmelough/git3/AMPL/atomsci/ddm/exampl...</td>\n",
       "      <td>rdkit_raw</td>\n",
       "      <td>scaffold</td>\n",
       "      <td>train_valid_test</td>\n",
       "      <td>r2</td>\n",
       "      <td>normalization</td>\n",
       "      <td>...</td>\n",
       "      <td>NaN</td>\n",
       "      <td>NaN</td>\n",
       "      <td>NaN</td>\n",
       "      <td>NaN</td>\n",
       "      <td>NaN</td>\n",
       "      <td>NaN</td>\n",
       "      <td>NaN</td>\n",
       "      <td>NaN</td>\n",
       "      <td>{\"rf_estimators\": 500, \"rf_max_depth\": null, \"...</td>\n",
       "      <td>{}</td>\n",
       "    </tr>\n",
       "    <tr>\n",
       "      <th>2</th>\n",
       "      <td>06bced83-b064-4163-91d2-8e56bb7d237f</td>\n",
       "      <td>dataset/curated_kcna3_ic50_model_06bced83-b064...</td>\n",
       "      <td>1.6.0</td>\n",
       "      <td>RF</td>\n",
       "      <td>/usr/WS2/kmelough/git3/AMPL/atomsci/ddm/exampl...</td>\n",
       "      <td>rdkit_raw</td>\n",
       "      <td>scaffold</td>\n",
       "      <td>train_valid_test</td>\n",
       "      <td>r2</td>\n",
       "      <td>normalization</td>\n",
       "      <td>...</td>\n",
       "      <td>NaN</td>\n",
       "      <td>NaN</td>\n",
       "      <td>NaN</td>\n",
       "      <td>NaN</td>\n",
       "      <td>NaN</td>\n",
       "      <td>NaN</td>\n",
       "      <td>NaN</td>\n",
       "      <td>NaN</td>\n",
       "      <td>{\"rf_estimators\": 500, \"rf_max_depth\": null, \"...</td>\n",
       "      <td>{}</td>\n",
       "    </tr>\n",
       "  </tbody>\n",
       "</table>\n",
       "<p>4 rows × 40 columns</p>\n",
       "</div>"
      ],
      "text/plain": [
       "                             model_uuid  \\\n",
       "1  18d7ef2d-7192-41df-b3ad-ec92a7fd0e72   \n",
       "3  2eb869ed-3581-4ea7-a601-90bb2f7e19a5   \n",
       "0  2e54d840-2145-4973-b975-9aad8edb2f35   \n",
       "2  06bced83-b064-4163-91d2-8e56bb7d237f   \n",
       "\n",
       "                                          model_path ampl_version model_type  \\\n",
       "1  dataset/curated_kcna3_ic50_model_18d7ef2d-7192...        1.6.0         RF   \n",
       "3  dataset/curated_kcna3_ic50_model_2eb869ed-3581...        1.6.0         RF   \n",
       "0  dataset/curated_kcna3_ic50_model_2e54d840-2145...        1.6.0         RF   \n",
       "2  dataset/curated_kcna3_ic50_model_06bced83-b064...        1.6.0         RF   \n",
       "\n",
       "                                         dataset_key   features  splitter  \\\n",
       "1  /usr/WS2/kmelough/git3/AMPL/atomsci/ddm/exampl...  rdkit_raw  scaffold   \n",
       "3  /usr/WS2/kmelough/git3/AMPL/atomsci/ddm/exampl...  rdkit_raw  scaffold   \n",
       "0  /usr/WS2/kmelough/git3/AMPL/atomsci/ddm/exampl...  rdkit_raw  scaffold   \n",
       "2  /usr/WS2/kmelough/git3/AMPL/atomsci/ddm/exampl...  rdkit_raw  scaffold   \n",
       "\n",
       "     split_strategy model_score_type feature_transform_type  ...  dropouts  \\\n",
       "1  train_valid_test               r2          normalization  ...       NaN   \n",
       "3  train_valid_test               r2          normalization  ...       NaN   \n",
       "0  train_valid_test               r2          normalization  ...       NaN   \n",
       "2  train_valid_test               r2          normalization  ...       NaN   \n",
       "\n",
       "   xgb_gamma  xgb_learning_rate  xgb_max_depth  xgb_colsample_bytree  \\\n",
       "1        NaN                NaN            NaN                   NaN   \n",
       "3        NaN                NaN            NaN                   NaN   \n",
       "0        NaN                NaN            NaN                   NaN   \n",
       "2        NaN                NaN            NaN                   NaN   \n",
       "\n",
       "   xgb_subsample  xgb_n_estimators  xgb_min_child_weight  \\\n",
       "1            NaN               NaN                   NaN   \n",
       "3            NaN               NaN                   NaN   \n",
       "0            NaN               NaN                   NaN   \n",
       "2            NaN               NaN                   NaN   \n",
       "\n",
       "                               model_parameters_dict  feat_parameters_dict  \n",
       "1  {\"rf_estimators\": 500, \"rf_max_depth\": null, \"...                    {}  \n",
       "3  {\"rf_estimators\": 500, \"rf_max_depth\": null, \"...                    {}  \n",
       "0  {\"rf_estimators\": 500, \"rf_max_depth\": null, \"...                    {}  \n",
       "2  {\"rf_estimators\": 500, \"rf_max_depth\": null, \"...                    {}  \n",
       "\n",
       "[4 rows x 40 columns]"
      ]
     },
     "execution_count": 5,
     "metadata": {},
     "output_type": "execute_result"
    }
   ],
   "source": [
    "# View the pred_df dataframe\n",
    "pred_df"
   ]
  },
  {
   "cell_type": "code",
   "execution_count": 7,
   "id": "d73cca89",
   "metadata": {},
   "outputs": [
    {
     "data": {
      "text/html": [
       "<div>\n",
       "<style scoped>\n",
       "    .dataframe tbody tr th:only-of-type {\n",
       "        vertical-align: middle;\n",
       "    }\n",
       "\n",
       "    .dataframe tbody tr th {\n",
       "        vertical-align: top;\n",
       "    }\n",
       "\n",
       "    .dataframe thead th {\n",
       "        text-align: right;\n",
       "    }\n",
       "</style>\n",
       "<table border=\"1\" class=\"dataframe\">\n",
       "  <thead>\n",
       "    <tr style=\"text-align: right;\">\n",
       "      <th></th>\n",
       "      <th>model_uuid</th>\n",
       "      <th>best_valid_r2_score</th>\n",
       "      <th>best_test_r2_score</th>\n",
       "      <th>best_train_num_compounds</th>\n",
       "    </tr>\n",
       "  </thead>\n",
       "  <tbody>\n",
       "    <tr>\n",
       "      <th>1</th>\n",
       "      <td>18d7ef2d-7192-41df-b3ad-ec92a7fd0e72</td>\n",
       "      <td>0.372506</td>\n",
       "      <td>0.277066</td>\n",
       "      <td>259</td>\n",
       "    </tr>\n",
       "    <tr>\n",
       "      <th>3</th>\n",
       "      <td>2eb869ed-3581-4ea7-a601-90bb2f7e19a5</td>\n",
       "      <td>0.370694</td>\n",
       "      <td>0.291152</td>\n",
       "      <td>259</td>\n",
       "    </tr>\n",
       "    <tr>\n",
       "      <th>0</th>\n",
       "      <td>2e54d840-2145-4973-b975-9aad8edb2f35</td>\n",
       "      <td>0.365745</td>\n",
       "      <td>0.272580</td>\n",
       "      <td>259</td>\n",
       "    </tr>\n",
       "    <tr>\n",
       "      <th>2</th>\n",
       "      <td>06bced83-b064-4163-91d2-8e56bb7d237f</td>\n",
       "      <td>0.360854</td>\n",
       "      <td>0.272374</td>\n",
       "      <td>259</td>\n",
       "    </tr>\n",
       "  </tbody>\n",
       "</table>\n",
       "</div>"
      ],
      "text/plain": [
       "                             model_uuid  best_valid_r2_score  \\\n",
       "1  18d7ef2d-7192-41df-b3ad-ec92a7fd0e72             0.372506   \n",
       "3  2eb869ed-3581-4ea7-a601-90bb2f7e19a5             0.370694   \n",
       "0  2e54d840-2145-4973-b975-9aad8edb2f35             0.365745   \n",
       "2  06bced83-b064-4163-91d2-8e56bb7d237f             0.360854   \n",
       "\n",
       "   best_test_r2_score  best_train_num_compounds  \n",
       "1            0.277066                       259  \n",
       "3            0.291152                       259  \n",
       "0            0.272580                       259  \n",
       "2            0.272374                       259  "
      ]
     },
     "execution_count": 7,
     "metadata": {},
     "output_type": "execute_result"
    }
   ],
   "source": [
    "pred_df[['model_uuid', 'best_valid_r2_score', 'best_test_r2_score', 'best_train_num_compounds']]"
   ]
  },
  {
   "cell_type": "markdown",
   "id": "6629959c",
   "metadata": {},
   "source": [
    "## Top Performing Model\n",
    "To pick the top performing model, we sort the `best_valid_r2_score` column in descending order and pick the one that is maximum."
   ]
  },
  {
   "cell_type": "code",
   "execution_count": 8,
   "id": "87973dc1",
   "metadata": {},
   "outputs": [
    {
     "data": {
      "text/plain": [
       "model_uuid                               18d7ef2d-7192-41df-b3ad-ec92a7fd0e72\n",
       "model_path                  dataset/curated_kcna3_ic50_model_18d7ef2d-7192...\n",
       "ampl_version                                                            1.6.0\n",
       "model_type                                                                 RF\n",
       "dataset_key                 /usr/WS2/kmelough/git3/AMPL/atomsci/ddm/exampl...\n",
       "features                                                            rdkit_raw\n",
       "splitter                                                             scaffold\n",
       "split_strategy                                               train_valid_test\n",
       "model_score_type                                                           r2\n",
       "feature_transform_type                                          normalization\n",
       "model_choice_score                                                   0.372506\n",
       "best_train_r2_score                                                  0.925609\n",
       "best_train_rms_score                                                 0.254406\n",
       "best_train_mae_score                                                 0.191158\n",
       "best_train_num_compounds                                                  259\n",
       "best_valid_r2_score                                                  0.372506\n",
       "best_valid_rms_score                                                 0.657188\n",
       "best_valid_mae_score                                                 0.517168\n",
       "best_valid_num_compounds                                                   55\n",
       "best_test_r2_score                                                   0.277066\n",
       "best_test_rms_score                                                  0.719186\n",
       "best_test_mae_score                                                  0.576978\n",
       "best_test_num_compounds                                                    56\n",
       "rf_estimators                                                             500\n",
       "rf_max_features                                                            32\n",
       "rf_max_depth                                                             None\n",
       "max_epochs                                                                NaN\n",
       "best_epoch                                                                NaN\n",
       "learning_rate                                                             NaN\n",
       "layer_sizes                                                               NaN\n",
       "dropouts                                                                  NaN\n",
       "xgb_gamma                                                                 NaN\n",
       "xgb_learning_rate                                                         NaN\n",
       "xgb_max_depth                                                             NaN\n",
       "xgb_colsample_bytree                                                      NaN\n",
       "xgb_subsample                                                             NaN\n",
       "xgb_n_estimators                                                          NaN\n",
       "xgb_min_child_weight                                                      NaN\n",
       "model_parameters_dict       {\"rf_estimators\": 500, \"rf_max_depth\": null, \"...\n",
       "feat_parameters_dict                                                       {}\n",
       "Name: 1, dtype: object"
      ]
     },
     "execution_count": 8,
     "metadata": {},
     "output_type": "execute_result"
    }
   ],
   "source": [
    "# Top performing model\n",
    "top_model=pred_df.sort_values(by=\"best_valid_r2_score\", ascending=False).iloc[0,:]\n",
    "top_model"
   ]
  },
  {
   "cell_type": "markdown",
   "id": "ca7761e8",
   "metadata": {},
   "source": [
    "## Model Tarball \n",
    "The model_path or the location of the tarball where the top performing model is saved is in `top_model.model_path`."
   ]
  },
  {
   "cell_type": "code",
   "execution_count": 9,
   "id": "f5022c97",
   "metadata": {},
   "outputs": [
    {
     "data": {
      "text/plain": [
       "'dataset/curated_kcna3_ic50_model_18d7ef2d-7192-41df-b3ad-ec92a7fd0e72.tar.gz'"
      ]
     },
     "execution_count": 9,
     "metadata": {},
     "output_type": "execute_result"
    }
   ],
   "source": [
    "# Top performing model path\n",
    "top_model.model_path"
   ]
  },
  {
   "cell_type": "markdown",
   "id": "3ec2c46b",
   "metadata": {},
   "source": [
    "We will need this path in the next tutorial in which we use the trained model to make predictions on a new dataset."
   ]
  },
  {
   "cell_type": "code",
   "execution_count": null,
   "id": "925b2b10",
   "metadata": {},
   "outputs": [],
   "source": []
  }
 ],
 "metadata": {
  "kernelspec": {
   "display_name": "Python 3.9.12 for AMPL 1.6",
   "language": "python",
   "name": "ampl16_py38"
  },
  "language_info": {
   "codemirror_mode": {
    "name": "ipython",
    "version": 3
   },
   "file_extension": ".py",
   "mimetype": "text/x-python",
   "name": "python",
   "nbconvert_exporter": "python",
   "pygments_lexer": "ipython3",
   "version": "3.9.12"
  }
 },
 "nbformat": 4,
 "nbformat_minor": 5
}
