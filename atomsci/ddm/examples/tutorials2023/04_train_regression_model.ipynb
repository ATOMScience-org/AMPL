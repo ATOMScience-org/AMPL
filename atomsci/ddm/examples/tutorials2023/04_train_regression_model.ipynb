{
 "cells": [
  {
   "cell_type": "markdown",
   "id": "7f70f3f5",
   "metadata": {},
   "source": [
    "# Train a Simple Regression Model\n",
    "\n",
    "The process of training a machine learning (ML) model can be thought of as fitting a\n",
    "highly parameterized function to map inputs to outputs. An ML algorithm needs to train\n",
    "numerous examples of input and output pairs to accurately map an input to an output,\n",
    "i. e., make a prediction. After training, result is referred to a trained ML model or an artifact.\n",
    "\n",
    "This tutorial will detail how we can use AMPL tools to train a regression model to predict \n",
    "how much a compound will inhibit the kcna3 gene as measured by pIC50. \n",
    "We will train a random forest model using the following inputs:\n",
    "\n",
    "1. The curated kcna3 dataset from tutorial 2.\n",
    "2. The split file generated in tutorial 3.\n",
    "3. RDKit features calculated by the AMPL pipeline.\n",
    "\n",
    "We will explain the use of descriptors, how to evaulate model performance,\n",
    "and where the model is saved as a .tar.gz file.\n",
    "\n",
    "> **Note** Training a random forest model and splitting the dataset are non-deterministic. \n",
    "You will obtain a slightly different random forest model by running this tutorial each time."
   ]
  },
  {
   "cell_type": "markdown",
   "id": "8ddf45a6",
   "metadata": {},
   "source": [
    "## Model Training (using already split data)\n",
    "\n",
    "We will use the curated dataset created in tutorial 2 and the split file \n",
    "created in tutorial 3 to build a json file for training. We set `\"previously_split\": \"True\"`\n",
    " and set the `split_uuid`. \n",
    "Here, we will use `\"split_uuid\" : \"c0313c63-8936-4297-925b-ee537b66dd89\"`; \n",
    "the uuid for the scaffold split created in tutorial 3.\n",
    "\n",
    "AMPL provides an extensive featurization module that can generate a \n",
    "variety of molecular feature types, given SMILES strings as input. \n",
    "For demonstration purposes, we choose to use RDKit features in this tutorial.\n",
    "\n",
    "When the featurized dataset is not previously saved for curated_kcna3_ic50, \n",
    "AMPL will create a featurized dataset and save it in a folder called `scaled_descriptors` \n",
    "as a csv file e.g. `dataset/scaled_descriptors/curated_kcna3_ic50_with_rdkit_raw_descriptors.csv`"
   ]
  },
  {
   "cell_type": "code",
   "execution_count": 8,
   "id": "cd12dbd6",
   "metadata": {},
   "outputs": [
    {
     "name": "stderr",
     "output_type": "stream",
     "text": [
      "INFO:ATOM:Created a dataset hash '389b161b7a4eb2304323a7dfddacfacc' from dataset_key '/usr/WS1/he6/code/ATOM/AMPL1.6/atomsci/ddm/examples/tutorials2023/dataset/curated_kcna3_ic50.csv'\n",
      "DEBUG:ATOM:Attempting to load featurized dataset\n",
      "DEBUG:ATOM:Got dataset, attempting to extract data\n",
      "DEBUG:ATOM:Creating deepchem dataset\n",
      "INFO:ATOM:Using prefeaturized data; number of features = 200\n",
      "WARNING:ATOM:Previous dataset split restored\n",
      "/usr/WS1/he6/AMPL_virtualenv_1.6/lib/python3.9/site-packages/deepchem/data/datasets.py:473: RuntimeWarning: overflow encountered in multiply\n",
      "  X_m2 += dx * (X - X_means)\n",
      "INFO:ATOM:Wrote transformers to dataset/curated_kcna3_ic50/RF_computed_descriptors_scaffold_regression/a6c93e7b-978b-4b2e-9358-70ff64fedadd/transformers.pkl\n",
      "INFO:ATOM:Transforming response data\n",
      "INFO:ATOM:Transforming feature data\n",
      "/usr/WS1/he6/code/ATOM/AMPL1.6/atomsci/ddm/pipeline/transformations.py:255: RuntimeWarning: invalid value encountered in divide\n",
      "  X = np.nan_to_num((X - self.X_means) * X_weight / self.X_stds)\n",
      "INFO:ATOM:Transforming response data\n",
      "INFO:ATOM:Transforming feature data\n",
      "INFO:ATOM:Transforming response data\n",
      "INFO:ATOM:Transforming feature data\n",
      "INFO:ATOM:Fitting random forest model\n",
      "INFO:ATOM:Fold 0: training r2_score = 0.975, validation r2_score = 0.720, test r2_score = 0.823\n",
      "INFO:ATOM:Wrote model tarball to dataset/curated_kcna3_ic50_model_a6c93e7b-978b-4b2e-9358-70ff64fedadd.tar.gz\n"
     ]
    }
   ],
   "source": [
    "# importing relevant libraries\n",
    "import pandas as pd\n",
    "from atomsci.ddm.pipeline import model_pipeline as mp\n",
    "from atomsci.ddm.pipeline import parameter_parser as parse\n",
    "\n",
    "# Set up\n",
    "dataset_file = 'dataset/curated_kcna3_ic50.csv'\n",
    "odir='dataset'\n",
    "\n",
    "response_col = \"avg_pIC50\"\n",
    "compound_id = \"compound_id\"\n",
    "smiles_col = \"base_rdkit_smiles\"\n",
    "\n",
    "params = {\n",
    "        \"verbose\": \"True\",\n",
    "        \"system\": \"LC\",\n",
    "        \"datastore\": \"False\",\n",
    "        \"save_results\": \"False\",\n",
    "        \"prediction_type\": \"regression\",\n",
    "        \"dataset_key\": dataset_file,\n",
    "        \"id_col\": compound_id,\n",
    "        \"smiles_col\": smiles_col,\n",
    "        \"response_cols\": response_col,\n",
    "        \"previously_split\": \"True\",\n",
    "        \"split_uuid\" : \"c0313c63-8936-4297-925b-ee537b66dd89\",\n",
    "        \"split_only\": \"False\",\n",
    "        \"featurizer\": \"computed_descriptors\",\n",
    "        \"descriptor_type\" : \"rdkit_raw\",\n",
    "        \"model_type\": \"RF\",\n",
    "        \"verbose\": \"True\",\n",
    "        \"transformers\": \"True\",\n",
    "        \"rerun\": \"False\",\n",
    "        \"result_dir\": odir\n",
    "    }\n",
    "\n",
    "ampl_param = parse.wrapper(params)\n",
    "pl = mp.ModelPipeline(ampl_param)\n",
    "pl.train_model()"
   ]
  },
  {
   "cell_type": "markdown",
   "id": "409083fb",
   "metadata": {},
   "source": [
    "## Model Training (Split data and train)\n",
    "\n",
    "It is possible to split and train a model in one step. \n",
    "Here, we set `\"previously_split\": \"False\"` and not have a split_uuid parameter. \n",
    "AMPL splits the data by the type of split specified in the splitter parameter, \n",
    "scaffold in this example, and writes the split file in\n",
    "`dataset/curated_kcna3_ic50_train_valid_test_scaffold_{split_uuid}.csv.` \n",
    "After training, AMPL saves the model and all of its parameters as a tarball in the result_dir."
   ]
  },
  {
   "cell_type": "code",
   "execution_count": 9,
   "id": "1c5bbc2c",
   "metadata": {},
   "outputs": [
    {
     "name": "stderr",
     "output_type": "stream",
     "text": [
      "INFO:ATOM:Created a dataset hash '389b161b7a4eb2304323a7dfddacfacc' from dataset_key '/usr/WS1/he6/code/ATOM/AMPL1.6/atomsci/ddm/examples/tutorials2023/dataset/curated_kcna3_ic50.csv'\n",
      "DEBUG:ATOM:Attempting to load featurized dataset\n",
      "DEBUG:ATOM:Got dataset, attempting to extract data\n",
      "DEBUG:ATOM:Creating deepchem dataset\n",
      "INFO:ATOM:Using prefeaturized data; number of features = 200\n",
      "WARNING:ATOM:Splitting data by scaffold\n",
      "WARNING:ATOM:Dataset split table saved to /usr/WS1/he6/code/ATOM/AMPL1.6/atomsci/ddm/examples/tutorials2023/dataset/curated_kcna3_ic50_train_valid_test_scaffold_62d130b6-dda4-4df0-861b-45ef31be9b3e.csv\n",
      "/usr/WS1/he6/AMPL_virtualenv_1.6/lib/python3.9/site-packages/deepchem/data/datasets.py:473: RuntimeWarning: overflow encountered in multiply\n",
      "  X_m2 += dx * (X - X_means)\n",
      "INFO:ATOM:Wrote transformers to dataset/curated_kcna3_ic50/RF_computed_descriptors_scaffold_regression/038baafa-e754-4110-b3aa-06c96d431f80/transformers.pkl\n",
      "INFO:ATOM:Transforming response data\n",
      "INFO:ATOM:Transforming feature data\n",
      "/usr/WS1/he6/code/ATOM/AMPL1.6/atomsci/ddm/pipeline/transformations.py:255: RuntimeWarning: invalid value encountered in divide\n",
      "  X = np.nan_to_num((X - self.X_means) * X_weight / self.X_stds)\n",
      "INFO:ATOM:Transforming response data\n",
      "INFO:ATOM:Transforming feature data\n",
      "INFO:ATOM:Transforming response data\n",
      "INFO:ATOM:Transforming feature data\n",
      "INFO:ATOM:Fitting random forest model\n",
      "INFO:ATOM:Fold 0: training r2_score = 0.975, validation r2_score = 0.716, test r2_score = 0.828\n",
      "INFO:ATOM:Wrote model tarball to dataset/curated_kcna3_ic50_model_038baafa-e754-4110-b3aa-06c96d431f80.tar.gz\n"
     ]
    }
   ],
   "source": [
    "response_col = \"avg_pIC50\"\n",
    "compound_id = \"compound_id\"\n",
    "smiles_col = \"base_rdkit_smiles\"\n",
    "\n",
    "params = {\n",
    "        \"verbose\": \"True\",\n",
    "        \"system\": \"LC\",\n",
    "        \"datastore\": \"False\",\n",
    "        \"save_results\": \"False\",\n",
    "        \"prediction_type\": \"regression\",\n",
    "        \"dataset_key\": dataset_file,\n",
    "        \"id_col\": compound_id,\n",
    "        \"smiles_col\": smiles_col,\n",
    "        \"response_cols\": response_col,\n",
    "        \"previously_split\": \"False\",\n",
    "        \"split_only\": \"False\",\n",
    "        \"splitter\": \"scaffold\",\n",
    "        \"split_valid_frac\": \"0.15\",\n",
    "        \"split_test_frac\": \"0.15\",\n",
    "        \"featurizer\": \"computed_descriptors\",\n",
    "        \"descriptor_type\" : \"rdkit_raw\",\n",
    "        \"model_type\": \"RF\",\n",
    "        \"verbose\": \"True\",\n",
    "        \"transformers\": \"True\",\n",
    "        \"rerun\": \"False\",\n",
    "        \"result_dir\": odir\n",
    "    }\n",
    "\n",
    "ampl_param = parse.wrapper(params)\n",
    "pl = mp.ModelPipeline(ampl_param)\n",
    "pl.train_model()"
   ]
  },
  {
   "cell_type": "markdown",
   "id": "572d4387",
   "metadata": {},
   "source": [
    "## Performance of the Model\n",
    "We evalualte model performance by measuring how a accurate \n",
    "models are on validation and test sets. \n",
    "The validation set is used while optimizing the model and choosing the best\n",
    "parameter settings. Then the performance on the test set is to final judge of\n",
    "model performance.\n",
    "\n",
    "AMPL has several popular metrics to evaulate regression models; \n",
    "Mean Absolute Error (MAE), Mean Squared Error (MSE), Root Mean Squared Error (RMSE) and R² (R-Squared).\n",
    "In our tutorials, we will use R² metric to compare our models. The best model will have the highest\n",
    "R² score.\n",
    "\n",
    "> **Note** The model tracker client will not be supported in your environment."
   ]
  },
  {
   "cell_type": "code",
   "execution_count": 10,
   "id": "93d34b0e",
   "metadata": {},
   "outputs": [
    {
     "name": "stderr",
     "output_type": "stream",
     "text": [
      "WARNING:ATOM:Warning: column names have been changed to align with get_multitask_perf_from_tracker(): featurizer is now features and <subset>_<metric> has been changed to best_<subset>_<metric>.\n"
     ]
    },
    {
     "name": "stdout",
     "output_type": "stream",
     "text": [
      "Found data for 2 models under dataset\n"
     ]
    }
   ],
   "source": [
    "# Model Performance\n",
    "from atomsci.ddm.pipeline import compare_models as cm\n",
    "pred_df = cm.get_filesystem_perf_results(odir, pred_type='regression')"
   ]
  },
  {
   "cell_type": "markdown",
   "id": "1bf89a52",
   "metadata": {},
   "source": [
    "The pred_df dataframe has details about the model_uuid, model_path, ampl_version, model_type, features, splitter and the results for popular metrics that help evaluate the performance. Let us view the contents of the pred_df dataframe."
   ]
  },
  {
   "cell_type": "code",
   "execution_count": 11,
   "id": "605a4f10-17d5-4af1-b2e0-3d040b4fe1d5",
   "metadata": {
    "tags": []
   },
   "outputs": [],
   "source": [
    "pred_df.to_csv('./dataset/pred_df.csv')"
   ]
  },
  {
   "cell_type": "code",
   "execution_count": 12,
   "id": "b7fe7829",
   "metadata": {},
   "outputs": [
    {
     "data": {
      "text/html": [
       "<div>\n",
       "<style scoped>\n",
       "    .dataframe tbody tr th:only-of-type {\n",
       "        vertical-align: middle;\n",
       "    }\n",
       "\n",
       "    .dataframe tbody tr th {\n",
       "        vertical-align: top;\n",
       "    }\n",
       "\n",
       "    .dataframe thead th {\n",
       "        text-align: right;\n",
       "    }\n",
       "</style>\n",
       "<table border=\"1\" class=\"dataframe\">\n",
       "  <thead>\n",
       "    <tr style=\"text-align: right;\">\n",
       "      <th></th>\n",
       "      <th>model_uuid</th>\n",
       "      <th>model_path</th>\n",
       "      <th>ampl_version</th>\n",
       "      <th>model_type</th>\n",
       "      <th>dataset_key</th>\n",
       "      <th>features</th>\n",
       "      <th>splitter</th>\n",
       "      <th>model_score_type</th>\n",
       "      <th>feature_transform_type</th>\n",
       "      <th>model_choice_score</th>\n",
       "      <th>...</th>\n",
       "      <th>rf_max_depth</th>\n",
       "      <th>max_epochs</th>\n",
       "      <th>best_epoch</th>\n",
       "      <th>learning_rate</th>\n",
       "      <th>layer_sizes</th>\n",
       "      <th>dropouts</th>\n",
       "      <th>xgb_gamma</th>\n",
       "      <th>xgb_learning_rate</th>\n",
       "      <th>model_parameters_dict</th>\n",
       "      <th>feat_parameters_dict</th>\n",
       "    </tr>\n",
       "  </thead>\n",
       "  <tbody>\n",
       "    <tr>\n",
       "      <th>0</th>\n",
       "      <td>a6c93e7b-978b-4b2e-9358-70ff64fedadd</td>\n",
       "      <td>dataset/curated_kcna3_ic50_model_a6c93e7b-978b...</td>\n",
       "      <td>1.6.0</td>\n",
       "      <td>RF</td>\n",
       "      <td>/usr/WS1/he6/code/ATOM/AMPL1.6/atomsci/ddm/exa...</td>\n",
       "      <td>rdkit_raw</td>\n",
       "      <td>scaffold</td>\n",
       "      <td>r2</td>\n",
       "      <td>normalization</td>\n",
       "      <td>0.719773</td>\n",
       "      <td>...</td>\n",
       "      <td>None</td>\n",
       "      <td>NaN</td>\n",
       "      <td>NaN</td>\n",
       "      <td>NaN</td>\n",
       "      <td>NaN</td>\n",
       "      <td>NaN</td>\n",
       "      <td>NaN</td>\n",
       "      <td>NaN</td>\n",
       "      <td>{\"rf_estimators\": 500, \"rf_max_depth\": null, \"...</td>\n",
       "      <td>{}</td>\n",
       "    </tr>\n",
       "    <tr>\n",
       "      <th>1</th>\n",
       "      <td>038baafa-e754-4110-b3aa-06c96d431f80</td>\n",
       "      <td>dataset/curated_kcna3_ic50_model_038baafa-e754...</td>\n",
       "      <td>1.6.0</td>\n",
       "      <td>RF</td>\n",
       "      <td>/usr/WS1/he6/code/ATOM/AMPL1.6/atomsci/ddm/exa...</td>\n",
       "      <td>rdkit_raw</td>\n",
       "      <td>scaffold</td>\n",
       "      <td>r2</td>\n",
       "      <td>normalization</td>\n",
       "      <td>0.716345</td>\n",
       "      <td>...</td>\n",
       "      <td>None</td>\n",
       "      <td>NaN</td>\n",
       "      <td>NaN</td>\n",
       "      <td>NaN</td>\n",
       "      <td>NaN</td>\n",
       "      <td>NaN</td>\n",
       "      <td>NaN</td>\n",
       "      <td>NaN</td>\n",
       "      <td>{\"rf_estimators\": 500, \"rf_max_depth\": null, \"...</td>\n",
       "      <td>{}</td>\n",
       "    </tr>\n",
       "  </tbody>\n",
       "</table>\n",
       "<p>2 rows × 34 columns</p>\n",
       "</div>"
      ],
      "text/plain": [
       "                             model_uuid  \\\n",
       "0  a6c93e7b-978b-4b2e-9358-70ff64fedadd   \n",
       "1  038baafa-e754-4110-b3aa-06c96d431f80   \n",
       "\n",
       "                                          model_path ampl_version model_type  \\\n",
       "0  dataset/curated_kcna3_ic50_model_a6c93e7b-978b...        1.6.0         RF   \n",
       "1  dataset/curated_kcna3_ic50_model_038baafa-e754...        1.6.0         RF   \n",
       "\n",
       "                                         dataset_key   features  splitter  \\\n",
       "0  /usr/WS1/he6/code/ATOM/AMPL1.6/atomsci/ddm/exa...  rdkit_raw  scaffold   \n",
       "1  /usr/WS1/he6/code/ATOM/AMPL1.6/atomsci/ddm/exa...  rdkit_raw  scaffold   \n",
       "\n",
       "  model_score_type feature_transform_type  model_choice_score  ...  \\\n",
       "0               r2          normalization            0.719773  ...   \n",
       "1               r2          normalization            0.716345  ...   \n",
       "\n",
       "   rf_max_depth  max_epochs  best_epoch  learning_rate  layer_sizes  dropouts  \\\n",
       "0          None         NaN         NaN            NaN          NaN       NaN   \n",
       "1          None         NaN         NaN            NaN          NaN       NaN   \n",
       "\n",
       "   xgb_gamma  xgb_learning_rate  \\\n",
       "0        NaN                NaN   \n",
       "1        NaN                NaN   \n",
       "\n",
       "                               model_parameters_dict  feat_parameters_dict  \n",
       "0  {\"rf_estimators\": 500, \"rf_max_depth\": null, \"...                    {}  \n",
       "1  {\"rf_estimators\": 500, \"rf_max_depth\": null, \"...                    {}  \n",
       "\n",
       "[2 rows x 34 columns]"
      ]
     },
     "execution_count": 12,
     "metadata": {},
     "output_type": "execute_result"
    }
   ],
   "source": [
    "# View the pred_df dataframe\n",
    "pred_df"
   ]
  },
  {
   "cell_type": "markdown",
   "id": "6629959c",
   "metadata": {},
   "source": [
    "## Top Performing Model\n",
    "To pick the top performing model, we sort the `best_valid_r2_score` column in descending order and pick the one that is maximum."
   ]
  },
  {
   "cell_type": "code",
   "execution_count": 13,
   "id": "87973dc1",
   "metadata": {},
   "outputs": [
    {
     "data": {
      "text/plain": [
       "model_uuid                               a6c93e7b-978b-4b2e-9358-70ff64fedadd\n",
       "model_path                  dataset/curated_kcna3_ic50_model_a6c93e7b-978b...\n",
       "ampl_version                                                            1.6.0\n",
       "model_type                                                                 RF\n",
       "dataset_key                 /usr/WS1/he6/code/ATOM/AMPL1.6/atomsci/ddm/exa...\n",
       "features                                                            rdkit_raw\n",
       "splitter                                                             scaffold\n",
       "model_score_type                                                           r2\n",
       "feature_transform_type                                          normalization\n",
       "model_choice_score                                                   0.719773\n",
       "best_train_r2_score                                                  0.975317\n",
       "best_train_rms_score                                                 0.286939\n",
       "best_train_mae_score                                                 0.213204\n",
       "best_train_num_compounds                                                  359\n",
       "best_valid_r2_score                                                  0.719773\n",
       "best_valid_rms_score                                                 0.757292\n",
       "best_valid_mae_score                                                 0.590851\n",
       "best_valid_num_compounds                                                   77\n",
       "best_test_r2_score                                                    0.82298\n",
       "best_test_rms_score                                                  0.713904\n",
       "best_test_mae_score                                                  0.566775\n",
       "best_test_num_compounds                                                    78\n",
       "rf_estimators                                                             500\n",
       "rf_max_features                                                            32\n",
       "rf_max_depth                                                             None\n",
       "max_epochs                                                                NaN\n",
       "best_epoch                                                                NaN\n",
       "learning_rate                                                             NaN\n",
       "layer_sizes                                                               NaN\n",
       "dropouts                                                                  NaN\n",
       "xgb_gamma                                                                 NaN\n",
       "xgb_learning_rate                                                         NaN\n",
       "model_parameters_dict       {\"rf_estimators\": 500, \"rf_max_depth\": null, \"...\n",
       "feat_parameters_dict                                                       {}\n",
       "Name: 0, dtype: object"
      ]
     },
     "execution_count": 13,
     "metadata": {},
     "output_type": "execute_result"
    }
   ],
   "source": [
    "# Top performing model\n",
    "top_model=pred_df.sort_values(by=\"best_valid_r2_score\", ascending=False).iloc[0,:]\n",
    "top_model"
   ]
  },
  {
   "cell_type": "markdown",
   "id": "ca7761e8",
   "metadata": {},
   "source": [
    "## Model Tarball \n",
    "The model_path or the location of the tarball where the top performing model is saved is in `top_model.model_path`."
   ]
  },
  {
   "cell_type": "code",
   "execution_count": 14,
   "id": "f5022c97",
   "metadata": {},
   "outputs": [
    {
     "data": {
      "text/plain": [
       "'dataset/curated_kcna3_ic50_model_a6c93e7b-978b-4b2e-9358-70ff64fedadd.tar.gz'"
      ]
     },
     "execution_count": 14,
     "metadata": {},
     "output_type": "execute_result"
    }
   ],
   "source": [
    "# Top performing model path\n",
    "top_model.model_path"
   ]
  }
 ],
 "metadata": {
  "kernelspec": {
   "display_name": "Python 3",
   "language": "python",
   "name": "python3"
  },
  "language_info": {
   "codemirror_mode": {
    "name": "ipython",
    "version": 3
   },
   "file_extension": ".py",
   "mimetype": "text/x-python",
   "name": "python",
   "nbconvert_exporter": "python",
   "pygments_lexer": "ipython3",
   "version": "3.9.12"
  }
 },
 "nbformat": 4,
 "nbformat_minor": 5
}
