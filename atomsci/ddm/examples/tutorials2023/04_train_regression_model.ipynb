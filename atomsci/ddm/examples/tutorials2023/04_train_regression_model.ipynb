{
 "cells": [
  {
   "cell_type": "markdown",
   "id": "7f70f3f5",
   "metadata": {},
   "source": [
    "# Train a Simple Regression Model\n",
    "\n",
    "The process of training a machine learning (ML) model can be thought of as fitting a\n",
    "highly parameterized function to map inputs to outputs. An ML algorithm needs to train\n",
    "numerous examples of input and output pairs to accurately map an input to an output,\n",
    "i. e., make a prediction. After training, the result is referred to as a trained ML model or an artifact.\n",
    "\n",
    "This tutorial will detail how we can use [AMPL](https://github.com/ATOMScience-org/AMPL) tools to train a regression model to predict \n",
    "how much a compound will inhibit the SLC6A3 protein as measured by pKi. \n",
    "We will train a random forest model using the following inputs:\n",
    "\n",
    "1. The curated SLC6A3 dataset from **tutorial 2**.\n",
    "2. The split file generated in **tutorial 3**.\n",
    "3. [RDKit](https://github.com/rdkit/rdkit) features calculated by the [AMPL](https://github.com/ATOMScience-org/AMPL) pipeline.\n",
    "\n",
    "We will explain the use of descriptors, how to evaluate model performance,\n",
    "and where the model is saved as a .tar.gz file.\n",
    "\n",
    "> **Note** *Training a random forest model and splitting the dataset are non-deterministic. \n",
    "You will obtain a slightly different random forest model by running this tutorial each time.*"
   ]
  },
  {
   "cell_type": "markdown",
   "id": "8ddf45a6",
   "metadata": {},
   "source": [
    "## Model Training (using already split data)\n",
    "\n",
    "We will use the curated dataset created in **tutorial 2** and the split file \n",
    "created in **tutorial 3** to build a json file for training. We set `\"previously_split\": \"True\"`\n",
    " and set the `split_uuid`. \n",
    "Here, we will use `\"split_uuid\": \"c35aeaab-910c-4dcf-8f9f-04b55179aa1a\"` which is saved in `dataset/` as a convenience for these tutorials.\n",
    "\n",
    "[AMPL](https://github.com/ATOMScience-org/AMPL) provides an extensive featurization module that can generate a \n",
    "variety of molecular feature types, given SMILES strings as input. \n",
    "For demonstration purposes, we choose to use RDKit features in this tutorial.\n",
    "\n",
    "When the featurized dataset is not previously saved for SLC6A3_Ki, \n",
    "[AMPL](https://github.com/ATOMScience-org/AMPL) will create a featurized dataset and save it in a folder called `scaled_descriptors` \n",
    "as a csv file e.g. `dataset/scaled_descriptors/SLC6A3_Ki_with_rdkit_raw_descriptors.csv`"
   ]
  },
  {
   "cell_type": "code",
   "execution_count": 1,
   "id": "cd12dbd6",
   "metadata": {},
   "outputs": [
    {
     "name": "stderr",
     "output_type": "stream",
     "text": [
      "Skipped loading some Jax models, missing a dependency. No module named 'jax'\n",
      "WARNING:ATOM:Previous dataset split restored\n",
      "/home/apaulson/repos/AMPL_umbrella/AMPL/atomsci/ddm/pipeline/transformations.py:255: RuntimeWarning: invalid value encountered in divide\n",
      "  X = np.nan_to_num((X - self.X_means) * X_weight / self.X_stds)\n"
     ]
    }
   ],
   "source": [
    "# importing relevant libraries\n",
    "import pandas as pd\n",
    "from atomsci.ddm.pipeline import model_pipeline as mp\n",
    "from atomsci.ddm.pipeline import parameter_parser as parse\n",
    "\n",
    "# Set up\n",
    "dataset_file = 'dataset/SLC6A3_Ki_curated.csv'\n",
    "odir='dataset/SLC6A3_models'\n",
    "\n",
    "response_col = \"avg_pKi\"\n",
    "compound_id = \"compound_id\"\n",
    "smiles_col = \"base_rdkit_smiles\"\n",
    "split_uuid = \"c35aeaab-910c-4dcf-8f9f-04b55179aa1a\"\n",
    "\n",
    "params = {\n",
    "        \"verbose\": \"True\",\n",
    "        \"system\": \"LC\",\n",
    "        \"datastore\": \"False\",\n",
    "        \"save_results\": \"False\",\n",
    "        \"prediction_type\": \"regression\",\n",
    "        \"dataset_key\": dataset_file,\n",
    "        \"id_col\": compound_id,\n",
    "        \"smiles_col\": smiles_col,\n",
    "        \"response_cols\": response_col,\n",
    "        \"previously_split\": \"True\",\n",
    "        \"split_uuid\" : split_uuid,\n",
    "        \"split_only\": \"False\",\n",
    "        \"featurizer\": \"computed_descriptors\",\n",
    "        \"descriptor_type\" : \"rdkit_raw\",\n",
    "        \"model_type\": \"RF\",\n",
    "        \"verbose\": \"True\",\n",
    "        \"transformers\": \"True\",\n",
    "        \"rerun\": \"False\",\n",
    "        \"result_dir\": odir\n",
    "    }\n",
    "\n",
    "ampl_param = parse.wrapper(params)\n",
    "pl = mp.ModelPipeline(ampl_param)\n",
    "pl.train_model()"
   ]
  },
  {
   "cell_type": "markdown",
   "id": "409083fb",
   "metadata": {},
   "source": [
    "## Model Training (Split data and train)\n",
    "\n",
    "It is possible to split and train a model in one step. \n",
    "Here, we set `\"previously_split\": \"False\"` and not have a split_uuid parameter. \n",
    "[AMPL](https://github.com/ATOMScience-org/AMPL) splits the data by the type of split specified in the splitter parameter, \n",
    "scaffold in this example, and writes the split file in\n",
    "`dataset/SLC6A3_Ki_train_valid_test_scaffold_{split_uuid}.csv.` \n",
    "After training, [AMPL](https://github.com/ATOMScience-org/AMPL) saves the model and all of its parameters as a tarball in the result_dir."
   ]
  },
  {
   "cell_type": "code",
   "execution_count": 2,
   "id": "1c5bbc2c",
   "metadata": {},
   "outputs": [
    {
     "name": "stderr",
     "output_type": "stream",
     "text": [
      "/home/apaulson/repos/AMPL_umbrella/AMPL/atomsci/ddm/pipeline/transformations.py:255: RuntimeWarning: invalid value encountered in divide\n",
      "  X = np.nan_to_num((X - self.X_means) * X_weight / self.X_stds)\n"
     ]
    }
   ],
   "source": [
    "params = {\n",
    "        \"verbose\": \"True\",\n",
    "        \"system\": \"LC\",\n",
    "        \"datastore\": \"False\",\n",
    "        \"save_results\": \"False\",\n",
    "        \"prediction_type\": \"regression\",\n",
    "        \"dataset_key\": dataset_file,\n",
    "        \"id_col\": compound_id,\n",
    "        \"smiles_col\": smiles_col,\n",
    "        \"response_cols\": response_col,\n",
    "    \n",
    "        \"previously_split\": \"False\",\n",
    "        \"split_only\": \"False\",\n",
    "        \"splitter\": \"scaffold\",\n",
    "        \"split_valid_frac\": \"0.15\",\n",
    "        \"split_test_frac\": \"0.15\",\n",
    "    \n",
    "        \"featurizer\": \"computed_descriptors\",\n",
    "        \"descriptor_type\" : \"rdkit_raw\",\n",
    "        \"model_type\": \"RF\",\n",
    "        \"verbose\": \"True\",\n",
    "        \"transformers\": \"True\",\n",
    "        \"rerun\": \"False\",\n",
    "        \"result_dir\": odir\n",
    "    }\n",
    "\n",
    "ampl_param = parse.wrapper(params)\n",
    "pl = mp.ModelPipeline(ampl_param)\n",
    "pl.train_model()"
   ]
  },
  {
   "cell_type": "markdown",
   "id": "572d4387",
   "metadata": {},
   "source": [
    "## Performance of the Model\n",
    "We evaluate model performance by measuring how a accurate \n",
    "models are on validation and test sets. \n",
    "The validation set is used while optimizing the model and choosing the best\n",
    "parameter settings. Then the performance on the test set is to final judge of\n",
    "model performance.\n",
    "\n",
    "AMPL has several popular metrics to evaulate regression models; \n",
    "Mean Absolute Error (MAE), Root Mean Squared Error (RMSE) and R² (R-Squared).\n",
    "In our tutorials, we will use R² metric to compare our models. The best model will have the highest\n",
    "R² score.\n",
    "\n",
    "> **Note** *The model tracker client will not be supported in your environment.*"
   ]
  },
  {
   "cell_type": "code",
   "execution_count": 3,
   "id": "93d34b0e",
   "metadata": {},
   "outputs": [
    {
     "name": "stdout",
     "output_type": "stream",
     "text": [
      "Found data for 2 models under dataset/SLC6A3_models\n"
     ]
    }
   ],
   "source": [
    "# Model Performance\n",
    "from atomsci.ddm.pipeline import compare_models as cm\n",
    "pred_df = cm.get_filesystem_perf_results(odir, pred_type='regression')"
   ]
  },
  {
   "cell_type": "markdown",
   "id": "1bf89a52",
   "metadata": {},
   "source": [
    "The pred_df dataframe has details about the model_uuid, model_path, ampl_version, model_type, features, splitter and the results for popular metrics that help evaluate the performance. Let us view the contents of the pred_df dataframe."
   ]
  },
  {
   "cell_type": "code",
   "execution_count": 4,
   "id": "605a4f10-17d5-4af1-b2e0-3d040b4fe1d5",
   "metadata": {
    "tags": []
   },
   "outputs": [],
   "source": [
    "# save pred_df\n",
    "import os\n",
    "pred_df.to_csv(os.path.join(odir, 'pred_df.csv'))"
   ]
  },
  {
   "cell_type": "code",
   "execution_count": 5,
   "id": "b7fe7829",
   "metadata": {},
   "outputs": [
    {
     "data": {
      "text/html": [
       "<div>\n",
       "<style scoped>\n",
       "    .dataframe tbody tr th:only-of-type {\n",
       "        vertical-align: middle;\n",
       "    }\n",
       "\n",
       "    .dataframe tbody tr th {\n",
       "        vertical-align: top;\n",
       "    }\n",
       "\n",
       "    .dataframe thead th {\n",
       "        text-align: right;\n",
       "    }\n",
       "</style>\n",
       "<table border=\"1\" class=\"dataframe\">\n",
       "  <thead>\n",
       "    <tr style=\"text-align: right;\">\n",
       "      <th></th>\n",
       "      <th>model_uuid</th>\n",
       "      <th>model_path</th>\n",
       "      <th>ampl_version</th>\n",
       "      <th>model_type</th>\n",
       "      <th>dataset_key</th>\n",
       "      <th>features</th>\n",
       "      <th>splitter</th>\n",
       "      <th>split_strategy</th>\n",
       "      <th>split_uuid</th>\n",
       "      <th>model_score_type</th>\n",
       "      <th>...</th>\n",
       "      <th>dropouts</th>\n",
       "      <th>xgb_gamma</th>\n",
       "      <th>xgb_learning_rate</th>\n",
       "      <th>xgb_max_depth</th>\n",
       "      <th>xgb_colsample_bytree</th>\n",
       "      <th>xgb_subsample</th>\n",
       "      <th>xgb_n_estimators</th>\n",
       "      <th>xgb_min_child_weight</th>\n",
       "      <th>model_parameters_dict</th>\n",
       "      <th>feat_parameters_dict</th>\n",
       "    </tr>\n",
       "  </thead>\n",
       "  <tbody>\n",
       "    <tr>\n",
       "      <th>0</th>\n",
       "      <td>8afb64d6-993e-4d8b-9072-60dcb40d2c83</td>\n",
       "      <td>dataset/SLC6A3_models/SLC6A3_Ki_curated_model_...</td>\n",
       "      <td>1.6.0</td>\n",
       "      <td>RF</td>\n",
       "      <td>/home/apaulson/repos/AMPL/atomsci/ddm/examples...</td>\n",
       "      <td>rdkit_raw</td>\n",
       "      <td>scaffold</td>\n",
       "      <td>train_valid_test</td>\n",
       "      <td>c35aeaab-910c-4dcf-8f9f-04b55179aa1a</td>\n",
       "      <td>r2</td>\n",
       "      <td>...</td>\n",
       "      <td>NaN</td>\n",
       "      <td>NaN</td>\n",
       "      <td>NaN</td>\n",
       "      <td>NaN</td>\n",
       "      <td>NaN</td>\n",
       "      <td>NaN</td>\n",
       "      <td>NaN</td>\n",
       "      <td>NaN</td>\n",
       "      <td>{\"rf_estimators\": 500, \"rf_max_depth\": null, \"...</td>\n",
       "      <td>{}</td>\n",
       "    </tr>\n",
       "    <tr>\n",
       "      <th>1</th>\n",
       "      <td>c9ed9de2-2f37-47cd-be4f-b5f1a2348b2f</td>\n",
       "      <td>dataset/SLC6A3_models/SLC6A3_Ki_curated_model_...</td>\n",
       "      <td>1.6.0</td>\n",
       "      <td>RF</td>\n",
       "      <td>/home/apaulson/repos/AMPL/atomsci/ddm/examples...</td>\n",
       "      <td>rdkit_raw</td>\n",
       "      <td>scaffold</td>\n",
       "      <td>train_valid_test</td>\n",
       "      <td>109e6070-7338-464f-ad8f-ce7e774506f7</td>\n",
       "      <td>r2</td>\n",
       "      <td>...</td>\n",
       "      <td>NaN</td>\n",
       "      <td>NaN</td>\n",
       "      <td>NaN</td>\n",
       "      <td>NaN</td>\n",
       "      <td>NaN</td>\n",
       "      <td>NaN</td>\n",
       "      <td>NaN</td>\n",
       "      <td>NaN</td>\n",
       "      <td>{\"rf_estimators\": 500, \"rf_max_depth\": null, \"...</td>\n",
       "      <td>{}</td>\n",
       "    </tr>\n",
       "  </tbody>\n",
       "</table>\n",
       "<p>2 rows × 41 columns</p>\n",
       "</div>"
      ],
      "text/plain": [
       "                             model_uuid  \\\n",
       "0  8afb64d6-993e-4d8b-9072-60dcb40d2c83   \n",
       "1  c9ed9de2-2f37-47cd-be4f-b5f1a2348b2f   \n",
       "\n",
       "                                          model_path ampl_version model_type  \\\n",
       "0  dataset/SLC6A3_models/SLC6A3_Ki_curated_model_...        1.6.0         RF   \n",
       "1  dataset/SLC6A3_models/SLC6A3_Ki_curated_model_...        1.6.0         RF   \n",
       "\n",
       "                                         dataset_key   features  splitter  \\\n",
       "0  /home/apaulson/repos/AMPL/atomsci/ddm/examples...  rdkit_raw  scaffold   \n",
       "1  /home/apaulson/repos/AMPL/atomsci/ddm/examples...  rdkit_raw  scaffold   \n",
       "\n",
       "     split_strategy                            split_uuid model_score_type  \\\n",
       "0  train_valid_test  c35aeaab-910c-4dcf-8f9f-04b55179aa1a               r2   \n",
       "1  train_valid_test  109e6070-7338-464f-ad8f-ce7e774506f7               r2   \n",
       "\n",
       "   ... dropouts  xgb_gamma  xgb_learning_rate  xgb_max_depth  \\\n",
       "0  ...      NaN        NaN                NaN            NaN   \n",
       "1  ...      NaN        NaN                NaN            NaN   \n",
       "\n",
       "   xgb_colsample_bytree  xgb_subsample  xgb_n_estimators  \\\n",
       "0                   NaN            NaN               NaN   \n",
       "1                   NaN            NaN               NaN   \n",
       "\n",
       "   xgb_min_child_weight                              model_parameters_dict  \\\n",
       "0                   NaN  {\"rf_estimators\": 500, \"rf_max_depth\": null, \"...   \n",
       "1                   NaN  {\"rf_estimators\": 500, \"rf_max_depth\": null, \"...   \n",
       "\n",
       "   feat_parameters_dict  \n",
       "0                    {}  \n",
       "1                    {}  \n",
       "\n",
       "[2 rows x 41 columns]"
      ]
     },
     "execution_count": 5,
     "metadata": {},
     "output_type": "execute_result"
    }
   ],
   "source": [
    "# View the pred_df dataframe\n",
    "pred_df"
   ]
  },
  {
   "cell_type": "markdown",
   "id": "6629959c",
   "metadata": {},
   "source": [
    "## Top Performing Model\n",
    "To pick the top performing model, we sort the `best_valid_r2_score` column in descending order and pick the one that is maximum."
   ]
  },
  {
   "cell_type": "code",
   "execution_count": 6,
   "id": "87973dc1",
   "metadata": {},
   "outputs": [
    {
     "data": {
      "text/plain": [
       "model_uuid                               8afb64d6-993e-4d8b-9072-60dcb40d2c83\n",
       "model_path                  dataset/SLC6A3_models/SLC6A3_Ki_curated_model_...\n",
       "ampl_version                                                            1.6.0\n",
       "model_type                                                                 RF\n",
       "dataset_key                 /home/apaulson/repos/AMPL/atomsci/ddm/examples...\n",
       "features                                                            rdkit_raw\n",
       "splitter                                                             scaffold\n",
       "split_strategy                                               train_valid_test\n",
       "split_uuid                               c35aeaab-910c-4dcf-8f9f-04b55179aa1a\n",
       "model_score_type                                                           r2\n",
       "feature_transform_type                                          normalization\n",
       "model_choice_score                                                   0.489673\n",
       "best_train_r2_score                                                  0.949384\n",
       "best_train_rms_score                                                  0.28009\n",
       "best_train_mae_score                                                 0.199005\n",
       "best_train_num_compounds                                                 1273\n",
       "best_valid_r2_score                                                  0.489673\n",
       "best_valid_rms_score                                                 0.863317\n",
       "best_valid_mae_score                                                 0.709905\n",
       "best_valid_num_compounds                                                  273\n",
       "best_test_r2_score                                                   0.416391\n",
       "best_test_rms_score                                                   0.93058\n",
       "best_test_mae_score                                                  0.755503\n",
       "best_test_num_compounds                                                   273\n",
       "rf_estimators                                                             500\n",
       "rf_max_features                                                            32\n",
       "rf_max_depth                                                             None\n",
       "max_epochs                                                                NaN\n",
       "best_epoch                                                                NaN\n",
       "learning_rate                                                             NaN\n",
       "layer_sizes                                                               NaN\n",
       "dropouts                                                                  NaN\n",
       "xgb_gamma                                                                 NaN\n",
       "xgb_learning_rate                                                         NaN\n",
       "xgb_max_depth                                                             NaN\n",
       "xgb_colsample_bytree                                                      NaN\n",
       "xgb_subsample                                                             NaN\n",
       "xgb_n_estimators                                                          NaN\n",
       "xgb_min_child_weight                                                      NaN\n",
       "model_parameters_dict       {\"rf_estimators\": 500, \"rf_max_depth\": null, \"...\n",
       "feat_parameters_dict                                                       {}\n",
       "Name: 0, dtype: object"
      ]
     },
     "execution_count": 6,
     "metadata": {},
     "output_type": "execute_result"
    }
   ],
   "source": [
    "# Top performing model\n",
    "top_model=pred_df.sort_values(by=\"best_valid_r2_score\", ascending=False).iloc[0]\n",
    "top_model"
   ]
  },
  {
   "cell_type": "markdown",
   "id": "ca7761e8",
   "metadata": {},
   "source": [
    "## Model Tarball \n",
    "The model_path or the location of the tarball where the top performing model is saved is in `top_model.model_path`."
   ]
  },
  {
   "cell_type": "code",
   "execution_count": 8,
   "id": "05ea394b-614d-4786-94b7-1fde464b73ca",
   "metadata": {},
   "outputs": [
    {
     "data": {
      "text/plain": [
       "'dataset/SLC6A3_models/SLC6A3_Ki_curated_model_8afb64d6-993e-4d8b-9072-60dcb40d2c83.tar.gz'"
      ]
     },
     "execution_count": 8,
     "metadata": {},
     "output_type": "execute_result"
    }
   ],
   "source": [
    "# Top performing model path\n",
    "top_model.model_path"
   ]
  },
  {
   "cell_type": "markdown",
   "id": "391b04b1-170f-4a90-89e0-02b4625ee56b",
   "metadata": {},
   "source": [
    "In **tutorial 5** we will learn how to use a selected model to make predictions and evaluate those predictions"
   ]
  }
 ],
 "metadata": {
  "kernelspec": {
   "display_name": "atomsci",
   "language": "python",
   "name": "atomsci"
  },
  "language_info": {
   "codemirror_mode": {
    "name": "ipython",
    "version": 3
   },
   "file_extension": ".py",
   "mimetype": "text/x-python",
   "name": "python",
   "nbconvert_exporter": "python",
   "pygments_lexer": "ipython3",
   "version": "3.9.17"
  }
 },
 "nbformat": 4,
 "nbformat_minor": 5
}
