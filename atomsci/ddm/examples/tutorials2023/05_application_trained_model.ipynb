{
 "cells": [
  {
   "cell_type": "markdown",
   "id": "0b6d9f19-4aae-4f5d-b3d0-6274da1fac92",
   "metadata": {},
   "source": [
    "# Application of a Trained Model\n",
    "\n",
    "This tutorial will detail how to use the model from the \"Tutorial 4: Train a Simple Regression Model\", to make predictions (pIC50) on the test set created based on the data split file from \"Tutorial 3: Perform a Split\", and the curated dataset from \"Tutorial 2: Curating Datasets”."
   ]
  },
  {
   "cell_type": "code",
   "execution_count": 18,
   "id": "6a88a819-bdb8-4fdc-b8fb-0aaba44e9e82",
   "metadata": {
    "tags": []
   },
   "outputs": [],
   "source": [
    "import pandas as pd\n",
    "import numpy as np\n",
    "import matplotlib.pyplot as plt\n",
    "import seaborn as sns\n",
    "\n",
    "from atomsci.ddm.pipeline import predict_from_model as pfm\n",
    "from sklearn.metrics import r2_score"
   ]
  },
  {
   "cell_type": "markdown",
   "id": "94e40e28-2c53-4174-87a9-bb69d09b4684",
   "metadata": {},
   "source": [
    "First, create a test set by selecting the test data from the curated dataset."
   ]
  },
  {
   "cell_type": "code",
   "execution_count": 10,
   "id": "7ce795fa-06d8-4099-9d41-8092f6c637a5",
   "metadata": {
    "tags": []
   },
   "outputs": [
    {
     "data": {
      "text/html": [
       "<div>\n",
       "<style scoped>\n",
       "    .dataframe tbody tr th:only-of-type {\n",
       "        vertical-align: middle;\n",
       "    }\n",
       "\n",
       "    .dataframe tbody tr th {\n",
       "        vertical-align: top;\n",
       "    }\n",
       "\n",
       "    .dataframe thead th {\n",
       "        text-align: right;\n",
       "    }\n",
       "</style>\n",
       "<table border=\"1\" class=\"dataframe\">\n",
       "  <thead>\n",
       "    <tr style=\"text-align: right;\">\n",
       "      <th></th>\n",
       "      <th>compound_id</th>\n",
       "      <th>subset</th>\n",
       "      <th>fold</th>\n",
       "      <th>base_rdkit_smiles</th>\n",
       "      <th>relation</th>\n",
       "      <th>avg_pIC50</th>\n",
       "    </tr>\n",
       "  </thead>\n",
       "  <tbody>\n",
       "    <tr>\n",
       "      <th>0</th>\n",
       "      <td>CHEMBL148356</td>\n",
       "      <td>test</td>\n",
       "      <td>0</td>\n",
       "      <td>C[C@H](OC(=O)NCc1ccccc1-c1cccnc1C(=O)NCC1CC1)c...</td>\n",
       "      <td>NaN</td>\n",
       "      <td>6.397940</td>\n",
       "    </tr>\n",
       "    <tr>\n",
       "      <th>1</th>\n",
       "      <td>CHEMBL1290739</td>\n",
       "      <td>test</td>\n",
       "      <td>0</td>\n",
       "      <td>CC(C)(CNC(=O)c1cocn1)CN(C1=NS(=O)(=O)c2cc(F)cc...</td>\n",
       "      <td>NaN</td>\n",
       "      <td>6.045757</td>\n",
       "    </tr>\n",
       "    <tr>\n",
       "      <th>2</th>\n",
       "      <td>CHEMBL3127396</td>\n",
       "      <td>test</td>\n",
       "      <td>0</td>\n",
       "      <td>N#Cc1cccc(S(=O)(=O)N(Cc2ccc(F)cc2)C[C@@H]2CCCC...</td>\n",
       "      <td>NaN</td>\n",
       "      <td>5.119186</td>\n",
       "    </tr>\n",
       "    <tr>\n",
       "      <th>3</th>\n",
       "      <td>CHEMBL3355573</td>\n",
       "      <td>test</td>\n",
       "      <td>0</td>\n",
       "      <td>N[C@@H](Cn1c(=O)cnc2ccc(F)cc21)[C@H]1CC[C@H](N...</td>\n",
       "      <td>&gt;</td>\n",
       "      <td>4.000000</td>\n",
       "    </tr>\n",
       "    <tr>\n",
       "      <th>4</th>\n",
       "      <td>CHEMBL465277</td>\n",
       "      <td>test</td>\n",
       "      <td>0</td>\n",
       "      <td>CC1=C(C(=O)N2CCCCC2)C(c2ccc(Cl)c(Cl)c2)n2nccc2N1</td>\n",
       "      <td>NaN</td>\n",
       "      <td>7.045757</td>\n",
       "    </tr>\n",
       "  </tbody>\n",
       "</table>\n",
       "</div>"
      ],
      "text/plain": [
       "     compound_id subset  fold  \\\n",
       "0   CHEMBL148356   test     0   \n",
       "1  CHEMBL1290739   test     0   \n",
       "2  CHEMBL3127396   test     0   \n",
       "3  CHEMBL3355573   test     0   \n",
       "4   CHEMBL465277   test     0   \n",
       "\n",
       "                                   base_rdkit_smiles relation  avg_pIC50  \n",
       "0  C[C@H](OC(=O)NCc1ccccc1-c1cccnc1C(=O)NCC1CC1)c...      NaN   6.397940  \n",
       "1  CC(C)(CNC(=O)c1cocn1)CN(C1=NS(=O)(=O)c2cc(F)cc...      NaN   6.045757  \n",
       "2  N#Cc1cccc(S(=O)(=O)N(Cc2ccc(F)cc2)C[C@@H]2CCCC...      NaN   5.119186  \n",
       "3  N[C@@H](Cn1c(=O)cnc2ccc(F)cc21)[C@H]1CC[C@H](N...        >   4.000000  \n",
       "4   CC1=C(C(=O)N2CCCCC2)C(c2ccc(Cl)c(Cl)c2)n2nccc2N1      NaN   7.045757  "
      ]
     },
     "execution_count": 10,
     "metadata": {},
     "output_type": "execute_result"
    }
   ],
   "source": [
    "split_file_dir = 'dataset/curated_kcna5_ic50_train_valid_test_scaffold_bcd96299-6d61-4467-9e6b-814dcf8cde16.csv'\n",
    "curated_data_dir = 'dataset/curated_kcna5_ic50.csv'\n",
    "\n",
    "split_file = pd.read_csv(split_file_dir)\n",
    "split_file.rename(columns = {'cmpd_id': 'compound_id'}, inplace=True)\n",
    "curated_data = pd.read_csv(curated_data_dir)\n",
    "\n",
    "\n",
    "test_data = split_file[split_file['subset'] == 'test'].merge(curated_data, on='compound_id', how='left')\n",
    "test_data.head()"
   ]
  },
  {
   "cell_type": "markdown",
   "id": "8be89936-dbb5-4f31-8e06-4627805821a6",
   "metadata": {
    "tags": []
   },
   "source": [
    "Next, load a pretrained model from a model tarball file and run predictions on compounds in the test set. If the original model response_col was 'avg_pIC50', the returned data frame will contain columns 'avg_pIC50_actual', 'avg_pIC50_pred', and 'avg_pIC50_std'. The predictions of pIC50 is in the column, 'avg_pIC50_pred'."
   ]
  },
  {
   "cell_type": "code",
   "execution_count": 14,
   "id": "51e4b0cf-2479-4ba0-ad7f-4b47ed3b00f6",
   "metadata": {
    "tags": []
   },
   "outputs": [
    {
     "name": "stdout",
     "output_type": "stream",
     "text": [
      "Standardizing SMILES strings for 121 compounds.\n"
     ]
    },
    {
     "name": "stderr",
     "output_type": "stream",
     "text": [
      "INFO:atomsci.ddm.utils.model_version_utils:dataset/curated_kcna5_ic50_model_ebc39cab-fc9f-4238-827e-241850cee82b.tar.gz, 1.6.0\n",
      "INFO:atomsci.ddm.utils.model_version_utils:Version compatible check: dataset/curated_kcna5_ic50_model_ebc39cab-fc9f-4238-827e-241850cee82b.tar.gz version = \"1.6\", AMPL version = \"1.6\"\n"
     ]
    },
    {
     "name": "stdout",
     "output_type": "stream",
     "text": [
      "num_model_tasks is deprecated and its value is ignored.\n"
     ]
    },
    {
     "name": "stderr",
     "output_type": "stream",
     "text": [
      "/gpfs/gsfs12/users/lup2/AMPL/AMPL_setup_tutorials/atomsci/ddm/pipeline/featurization.py:1734: PerformanceWarning: DataFrame is highly fragmented.  This is usually the result of calling `frame.insert` many times, which has poor performance.  Consider joining all columns at once using pd.concat(axis=1) instead.  To get a de-fragmented frame, use `newframe = frame.copy()`\n",
      "  calc_smiles_feat_df[col] = calc_desc_df[col]\n",
      "/gpfs/gsfs12/users/lup2/AMPL/AMPL_setup_tutorials/atomsci/ddm/pipeline/transformations.py:255: RuntimeWarning: invalid value encountered in divide\n",
      "  X = np.nan_to_num((X - self.X_means) * X_weight / self.X_stds)\n"
     ]
    },
    {
     "data": {
      "text/html": [
       "<div>\n",
       "<style scoped>\n",
       "    .dataframe tbody tr th:only-of-type {\n",
       "        vertical-align: middle;\n",
       "    }\n",
       "\n",
       "    .dataframe tbody tr th {\n",
       "        vertical-align: top;\n",
       "    }\n",
       "\n",
       "    .dataframe thead th {\n",
       "        text-align: right;\n",
       "    }\n",
       "</style>\n",
       "<table border=\"1\" class=\"dataframe\">\n",
       "  <thead>\n",
       "    <tr style=\"text-align: right;\">\n",
       "      <th></th>\n",
       "      <th>compound_id</th>\n",
       "      <th>subset</th>\n",
       "      <th>fold</th>\n",
       "      <th>base_rdkit_smiles</th>\n",
       "      <th>relation</th>\n",
       "      <th>avg_pIC50</th>\n",
       "      <th>orig_smiles</th>\n",
       "      <th>avg_pIC50_actual</th>\n",
       "      <th>avg_pIC50_pred</th>\n",
       "      <th>avg_pIC50_std</th>\n",
       "    </tr>\n",
       "  </thead>\n",
       "  <tbody>\n",
       "    <tr>\n",
       "      <th>0</th>\n",
       "      <td>CHEMBL148356</td>\n",
       "      <td>test</td>\n",
       "      <td>0</td>\n",
       "      <td>C[C@H](OC(=O)NCc1ccccc1-c1cccnc1C(=O)NCC1CC1)c...</td>\n",
       "      <td>NaN</td>\n",
       "      <td>6.397940</td>\n",
       "      <td>C[C@H](OC(=O)NCc1ccccc1-c1cccnc1C(=O)NCC1CC1)c...</td>\n",
       "      <td>6.397940</td>\n",
       "      <td>5.932135</td>\n",
       "      <td>0.744248</td>\n",
       "    </tr>\n",
       "    <tr>\n",
       "      <th>1</th>\n",
       "      <td>CHEMBL1290739</td>\n",
       "      <td>test</td>\n",
       "      <td>0</td>\n",
       "      <td>CC(C)(CNC(=O)c1cocn1)CN(C1=NS(=O)(=O)c2cc(F)cc...</td>\n",
       "      <td>NaN</td>\n",
       "      <td>6.045757</td>\n",
       "      <td>CC(C)(CNC(=O)c1cocn1)CN(C1=NS(=O)(=O)c2cc(F)cc...</td>\n",
       "      <td>6.045757</td>\n",
       "      <td>5.918953</td>\n",
       "      <td>0.749342</td>\n",
       "    </tr>\n",
       "    <tr>\n",
       "      <th>2</th>\n",
       "      <td>CHEMBL3127396</td>\n",
       "      <td>test</td>\n",
       "      <td>0</td>\n",
       "      <td>N#Cc1cccc(S(=O)(=O)N(Cc2ccc(F)cc2)C[C@@H]2CCCC...</td>\n",
       "      <td>NaN</td>\n",
       "      <td>5.119186</td>\n",
       "      <td>N#Cc1cccc(S(=O)(=O)N(Cc2ccc(F)cc2)C[C@@H]2CCCC...</td>\n",
       "      <td>5.119186</td>\n",
       "      <td>5.419587</td>\n",
       "      <td>0.574383</td>\n",
       "    </tr>\n",
       "    <tr>\n",
       "      <th>3</th>\n",
       "      <td>CHEMBL3355573</td>\n",
       "      <td>test</td>\n",
       "      <td>0</td>\n",
       "      <td>N[C@@H](Cn1c(=O)cnc2ccc(F)cc21)[C@H]1CC[C@H](N...</td>\n",
       "      <td>&gt;</td>\n",
       "      <td>4.000000</td>\n",
       "      <td>N[C@@H](Cn1c(=O)cnc2ccc(F)cc21)[C@H]1CC[C@H](N...</td>\n",
       "      <td>4.000000</td>\n",
       "      <td>6.113446</td>\n",
       "      <td>0.935121</td>\n",
       "    </tr>\n",
       "    <tr>\n",
       "      <th>4</th>\n",
       "      <td>CHEMBL465277</td>\n",
       "      <td>test</td>\n",
       "      <td>0</td>\n",
       "      <td>CC1=C(C(=O)N2CCCCC2)C(c2ccc(Cl)c(Cl)c2)n2nccc2N1</td>\n",
       "      <td>NaN</td>\n",
       "      <td>7.045757</td>\n",
       "      <td>CC1=C(C(=O)N2CCCCC2)C(c2ccc(Cl)c(Cl)c2)n2nccc2N1</td>\n",
       "      <td>7.045757</td>\n",
       "      <td>6.489139</td>\n",
       "      <td>0.359876</td>\n",
       "    </tr>\n",
       "  </tbody>\n",
       "</table>\n",
       "</div>"
      ],
      "text/plain": [
       "     compound_id subset  fold  \\\n",
       "0   CHEMBL148356   test     0   \n",
       "1  CHEMBL1290739   test     0   \n",
       "2  CHEMBL3127396   test     0   \n",
       "3  CHEMBL3355573   test     0   \n",
       "4   CHEMBL465277   test     0   \n",
       "\n",
       "                                   base_rdkit_smiles relation  avg_pIC50  \\\n",
       "0  C[C@H](OC(=O)NCc1ccccc1-c1cccnc1C(=O)NCC1CC1)c...      NaN   6.397940   \n",
       "1  CC(C)(CNC(=O)c1cocn1)CN(C1=NS(=O)(=O)c2cc(F)cc...      NaN   6.045757   \n",
       "2  N#Cc1cccc(S(=O)(=O)N(Cc2ccc(F)cc2)C[C@@H]2CCCC...      NaN   5.119186   \n",
       "3  N[C@@H](Cn1c(=O)cnc2ccc(F)cc21)[C@H]1CC[C@H](N...        >   4.000000   \n",
       "4   CC1=C(C(=O)N2CCCCC2)C(c2ccc(Cl)c(Cl)c2)n2nccc2N1      NaN   7.045757   \n",
       "\n",
       "                                         orig_smiles  avg_pIC50_actual  \\\n",
       "0  C[C@H](OC(=O)NCc1ccccc1-c1cccnc1C(=O)NCC1CC1)c...          6.397940   \n",
       "1  CC(C)(CNC(=O)c1cocn1)CN(C1=NS(=O)(=O)c2cc(F)cc...          6.045757   \n",
       "2  N#Cc1cccc(S(=O)(=O)N(Cc2ccc(F)cc2)C[C@@H]2CCCC...          5.119186   \n",
       "3  N[C@@H](Cn1c(=O)cnc2ccc(F)cc21)[C@H]1CC[C@H](N...          4.000000   \n",
       "4   CC1=C(C(=O)N2CCCCC2)C(c2ccc(Cl)c(Cl)c2)n2nccc2N1          7.045757   \n",
       "\n",
       "   avg_pIC50_pred  avg_pIC50_std  \n",
       "0        5.932135       0.744248  \n",
       "1        5.918953       0.749342  \n",
       "2        5.419587       0.574383  \n",
       "3        6.113446       0.935121  \n",
       "4        6.489139       0.359876  "
      ]
     },
     "execution_count": 14,
     "metadata": {},
     "output_type": "execute_result"
    }
   ],
   "source": [
    "model_dir = 'dataset/curated_kcna5_ic50_model_ebc39cab-fc9f-4238-827e-241850cee82b.tar.gz'\n",
    "input_df = test_data\n",
    "id_col = 'compound_id'\n",
    "smiles_col = 'base_rdkit_smiles'\n",
    "response_col = 'avg_pIC50'\n",
    "\n",
    "pred_df = pfm.predict_from_model_file(model_path = model_dir, \n",
    "                                      input_df = test_data,\n",
    "                                      id_col = id_col ,\n",
    "                                      smiles_col = smiles_col, \n",
    "                                      response_col = response_col)\n",
    "                                      \n",
    "pred_df.head()"
   ]
  },
  {
   "cell_type": "markdown",
   "id": "635c5ef0-343d-4dfd-85c9-5e8214dace4b",
   "metadata": {},
   "source": [
    "Then, calculate the R² score and compare it with the expected R² \n",
    "score of `0.205017`, reported in Tutorial 4."
   ]
  },
  {
   "cell_type": "code",
   "execution_count": 17,
   "id": "66810491-277d-4b66-96a7-4466ba574802",
   "metadata": {
    "tags": []
   },
   "outputs": [
    {
     "data": {
      "text/plain": [
       "0.205017"
      ]
     },
     "execution_count": 17,
     "metadata": {},
     "output_type": "execute_result"
    }
   ],
   "source": [
    "actual_value = pred_df['avg_pIC50_actual']\n",
    "predicted_value = pred_df['avg_pIC50_pred']\n",
    "r2 = np.round(r2_score(actual_value, predicted_value), 6)\n",
    "r2"
   ]
  },
  {
   "cell_type": "markdown",
   "id": "42bbaac8-4748-4cae-afcd-39921a9719f6",
   "metadata": {},
   "source": [
    "Last, visualize the results in a scatter plot of predicted values."
   ]
  },
  {
   "cell_type": "code",
   "execution_count": 19,
   "id": "01d5ca38-6f28-4a11-ab18-6dcb7f858d2d",
   "metadata": {
    "tags": []
   },
   "outputs": [
    {
     "data": {
      "text/plain": [
       "Text(0.5, 1.0, 'Model Performance on the Test Set')"
      ]
     },
     "execution_count": 19,
     "metadata": {},
     "output_type": "execute_result"
    },
    {
     "data": {
      "image/png": "[encoded data removed]",
      "text/plain": [
       "<Figure size 576x576 with 1 Axes>"
      ]
     },
     "metadata": {
      "needs_background": "light"
     },
     "output_type": "display_data"
    }
   ],
   "source": [
    "%matplotlib inline\n",
    "fig, ax = plt.subplots(figsize=(8,8))\n",
    "ax = sns.scatterplot(x='avg_pIC50_actual', y='avg_pIC50_pred', data=pred_df)\n",
    "lims = [\n",
    "    np.min([ax.get_xlim(), ax.get_ylim()]),  # min of both axes\n",
    "    np.max([ax.get_xlim(), ax.get_ylim()]),  # max of both axes\n",
    "]\n",
    "ax.plot(lims, lims, 'r-', alpha=0.75, zorder=0)\n",
    "plt.gca().set_aspect('equal', adjustable='box')\n",
    "ax.set_aspect('equal')\n",
    "ax.set_xlim(lims)\n",
    "ax.set_ylim(lims)\n",
    "plt.title('Model Performance on the Test Set')"
   ]
  }
 ],
 "metadata": {
  "kernelspec": {
   "display_name": "ampl_tutorials",
   "language": "python",
   "name": "ampl_tutorials"
  },
  "language_info": {
   "codemirror_mode": {
    "name": "ipython",
    "version": 3
   },
   "file_extension": ".py",
   "mimetype": "text/x-python",
   "name": "python",
   "nbconvert_exporter": "python",
   "pygments_lexer": "ipython3",
   "version": "3.8.15"
  }
 },
 "nbformat": 4,
 "nbformat_minor": 5
}
