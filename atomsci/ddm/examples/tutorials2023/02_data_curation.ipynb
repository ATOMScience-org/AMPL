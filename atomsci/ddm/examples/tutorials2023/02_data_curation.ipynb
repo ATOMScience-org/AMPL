{
 "cells": [
  {
   "cell_type": "markdown",
   "metadata": {},
   "source": [
    "# Data Curation\n",
    "To train a machine learning model from data, that data must first be \"curated\" to ensure that chemical structures \n",
    "and properties are represented consistently.\n",
    "Curating raw data is a long, detailed process that takes several steps.\n",
    "[SMILES](https://en.wikipedia.org/wiki/Simplified_molecular-input_line-entry_system) strings need to be standardized, measurements\n",
    "need to be converted to common units, outliers need to be removed or corrected, \n",
    "and replicates need to be combined. These steps are vital to create datasets that\n",
    "can be used to train useful predictive models. \n",
    "Here we will cover some functions in [AMPL](https://github.com/ATOMScience-org/AMPL) that will help\n",
    "you to perform these steps.\n",
    "\n",
    "- [base_smiles_from_smiles](https://ampl.readthedocs.io/en/latest/utils.html#utils.struct_utils.base_smiles_from_smiles)\n",
    "- [standardize_relations](https://ampl.readthedocs.io/en/latest/utils.html#utils.data_curation_functions.standardize_relations)\n",
    "- [compute_negative_log_responses](https://ampl.readthedocs.io/en/latest/utils.html#utils.data_curation_functions.compute_negative_log_responses)\n",
    "- [remove_outlier_replicates](https://ampl.readthedocs.io/en/latest/utils.html#utils.curate_data.remove_outlier_replicates)\n",
    "- [aggregate_assay_data](https://ampl.readthedocs.io/en/latest/utils.html#utils.curate_data.aggregate_assay_data)\n",
    "\n",
    "These are just a few of the steps needed to curate a dataset;\n",
    "another tutorial will cover data curation in more detail."
   ]
  },
  {
   "cell_type": "markdown",
   "metadata": {},
   "source": [
    "## Import Standard Data Science Packages\n",
    "To use [AMPL](https://github.com/ATOMScience-org/AMPL), or to do almost anything else with data, you'll need to become familiar with the popular packages \n",
    "[pandas](https://pandas.pydata.org/), \n",
    "[numpy](https://numpy.org/), \n",
    "[matplotlib](https://matplotlib.org/) and \n",
    "[seaborn](https://seaborn.pydata.org/index.html). \n",
    "When you installed AMPL you will have installed these packages as well, so you simply need to import them here."
   ]
  },
  {
   "cell_type": "code",
   "execution_count": 2,
   "metadata": {},
   "outputs": [],
   "source": [
    "import os\n",
    "import pandas as pd\n",
    "import numpy as np\n",
    "import matplotlib.pyplot as plt\n",
    "import seaborn as sns"
   ]
  },
  {
   "cell_type": "markdown",
   "metadata": {},
   "source": [
    "## Read the Data\n",
    "We've prepared an example dataset containing [$K_i$](https://en.wikipedia.org/wiki/Ligand_(biochemistry)#Receptor/ligand_binding_affinity) values for inhibitors of \n",
    "the [SLC6A3](https://www.ebi.ac.uk/chembl/target_report_card/CHEMBL238/) \n",
    "dopamine transporter collected from [ChEMBL](https://www.ebi.ac.uk/chembl/). This dataset is \n",
    "simpler than most that we find in the wild, but it will let us concisely \n",
    "demonstrate some AMPL curation tools. The first step of data curation is to read the raw data into a Pandas data frame."
   ]
  },
  {
   "cell_type": "code",
   "execution_count": 3,
   "metadata": {},
   "outputs": [],
   "source": [
    "# Read in data\n",
    "raw_df = pd.read_csv('dataset/SLC6A3_Ki.csv')"
   ]
  },
  {
   "cell_type": "code",
   "execution_count": 4,
   "metadata": {},
   "outputs": [
    {
     "data": {
      "text/plain": [
       "(2236, 6)"
      ]
     },
     "execution_count": 4,
     "metadata": {},
     "output_type": "execute_result"
    }
   ],
   "source": [
    "# Check the number of rows and columns in the dataset\n",
    "raw_df.shape"
   ]
  },
  {
   "cell_type": "code",
   "execution_count": 5,
   "metadata": {},
   "outputs": [
    {
     "data": {
      "text/plain": [
       "array(['molecule_chembl_id', 'smiles', 'standard_type',\n",
       "       'standard_relation', 'standard_value', 'standard_units'],\n",
       "      dtype=object)"
      ]
     },
     "execution_count": 5,
     "metadata": {},
     "output_type": "execute_result"
    }
   ],
   "source": [
    "# List the column names\n",
    "raw_df.columns.values"
   ]
  },
  {
   "cell_type": "markdown",
   "metadata": {},
   "source": [
    "This dataset is drawn from the ChEMBL database and contains the following columns:\n",
    "- `molecule_chembl_id`: The ChEMBL ID for the molecule.\n",
    "- `smiles`: The SMILES string that represents the molecule's structure. This is the main\n",
    "input used to derive features for [AMPL](https://github.com/ATOMScience-org/AMPL) models.\n",
    "- `standard_type`: The type of measurement, e.g., $IC_{50}$, $K_i$, $K_d$, etc.\n",
    "This dataset only contains $K_i$ data points.\n",
    "- `standard_relation`: The relational operator for a measurement reported as \"< $X$\" or \"> $X$\", indicating the true value is below or above some limit $X$ (e.g., the lowest or highest concentration tested). When this occurs we say the measurement is \"left-\" or \"right-censored\".\n",
    "- `standard_value`: The measured value (or the limit value for a censored measurement).\n",
    "- `standard_units`: The units of the measurement. $K_i$ values may be recorded in different units which will need to be converted to a common unit. The SLC6A3 dataset  \n",
    "contains a mixture of nanomolar and micromolar (µM) units."
   ]
  },
  {
   "cell_type": "markdown",
   "metadata": {},
   "source": [
    "## Standardize SMILES\n",
    "The SMILES grammar allows the same chemical structure to be represented by many different SMILES strings. In addition, measurements may be performed on compounds with different salt groups or with radioisotope labels, which we treat as equivalent to the base compounds. AMPL provides a SMILES standardization function, `base_smiles_to_smiles`, that removes salt groups and isotopes and returns a unique SMILES string for each base compound structure. This step simplifies the machine learning problem by ensuring each compound is represented with the same set of features and multiple measurements on the same compound can be grouped together. \n",
    "\n",
    "> **Note:** *The input to base_smiles_from_smiles must be a `list`; `numpy` arrays and `pandas` Series objects must be converted with the `tolist` function.*"
   ]
  },
  {
   "cell_type": "code",
   "execution_count": 6,
   "metadata": {},
   "outputs": [],
   "source": [
    "from atomsci.ddm.utils.struct_utils import base_smiles_from_smiles\n",
    "# Since the base_smiles_from_smiles function can be slow, we specify the workers=8 argument\n",
    "# to divide the work across 8 threads.\n",
    "raw_df['base_rdkit_smiles'] = base_smiles_from_smiles(raw_df.smiles.tolist(), workers=8)"
   ]
  },
  {
   "cell_type": "code",
   "execution_count": 7,
   "metadata": {},
   "outputs": [
    {
     "data": {
      "text/plain": [
       "(1830, 1823)"
      ]
     },
     "execution_count": 7,
     "metadata": {},
     "output_type": "execute_result"
    }
   ],
   "source": [
    "raw_df.smiles.nunique(), raw_df.base_rdkit_smiles.nunique()"
   ]
  },
  {
   "cell_type": "markdown",
   "metadata": {},
   "source": [
    "For this dataset there are 1830 unique SMILES that are standardized to 1823 unique base SMILES. It is common for two different SMILES strings to be standardized to the same value. From now on we will use `base_rdkit_smiles` to represent compound structures."
   ]
  },
  {
   "cell_type": "markdown",
   "metadata": {},
   "source": [
    "## Calculate $pK_i$'s\n",
    "A $K_i$ is an equiulibrium constant for the reaction of an inhibitor with a target protein; it is measured in concentration units.  Like many other chemical properties, $K_i$ values may span several orders of magnitude, from picomolar to millimolar (a billion-fold range). This makes it difficult to fit machine learning models to them because the variance of repeat measurements grows with the measured value, as illustrated in the left hand plot below.  We prefer instead to work with $pK_i$ values, where $pK_i = -\\mathrm{log}_{10} (K_i)$ with $K_i$ in molar units, because the log transformed measurements have more stable variances, as shown at right. Similar transformations are often applied to properties like $IC_{50}$'s, $K_d$'s and $EC_{50}$'s, yielding $pIC_{50}$'s, $pK_d$'s, and $EC_{50}$'s."
   ]
  },
  {
   "attachments": {
    "ic50_variance_vs_mean.png": {
     "image/png": "[encoded data removed]"
    }
   },
   "cell_type": "markdown",
   "metadata": {},
   "source": [
    "![ic50_variance_vs_mean.png](attachment:ic50_variance_vs_mean.png)"
   ]
  },
  {
   "cell_type": "markdown",
   "metadata": {},
   "source": [
    "> **Note**:\n",
    "> For those who want more details: It's hard to fit ML models to raw $K_i$'s because typical training methods seek to minimize a squared-error loss function (the error being the difference between the actual and predicted values). Squared errors tend to scale with the variance among replicates, so the loss function is dominated by the compounds with the largest variance, i.e. those with the largest $K_i$'s. This leads to models that perform OK on the least potent compounds and terribly on the most potent."
   ]
  },
  {
   "cell_type": "markdown",
   "metadata": {},
   "source": [
    "The AMPL function `compute_negative_log_responses` performs these variance stabilizing transformations, converting $K_i$'s to $pK_i$'s and so on. The code below uses the \n",
    "units in the `standard_units` column and the conversion functions specified \n",
    "in the `unit_conv` argument to convert the $K_i$'s in the `standard_value` column to molar units before applying the log transformation. It also inverts the \"<\" and \">\" operators in `relation_col` so that they correctly \n",
    "describe the $pK_i$ values, which *decrease* as $K_i$ values *increase* (e.g., \"$K_i > 100 \\mathrm{uM}$\" means \"$K_i > 10^{-4} \\mathrm{M}$\" which implies \"$pK_i < 4$\")."
   ]
  },
  {
   "cell_type": "code",
   "execution_count": 8,
   "metadata": {},
   "outputs": [],
   "source": [
    "from atomsci.ddm.utils.data_curation_functions import compute_negative_log_responses \n",
    "raw_df = compute_negative_log_responses(raw_df, \n",
    "                              unit_col='standard_units',\n",
    "                              value_col='standard_value',\n",
    "                              new_value_col='pKi',\n",
    "                              relation_col='standard_relation',\n",
    "                              unit_conv={'µM':lambda x: x*1e-6, 'nM':lambda x: x*1e-9},\n",
    "                              inplace=False)"
   ]
  },
  {
   "cell_type": "markdown",
   "metadata": {},
   "source": [
    "We then plot histograms to compare the distributions of the raw and transformed $K_i$'s:"
   ]
  },
  {
   "cell_type": "code",
   "execution_count": 9,
   "metadata": {},
   "outputs": [
    {
     "data": {
      "image/png": "[encoded data removed]",
      "text/plain": [
       "<Figure size 640x480 with 2 Axes>"
      ]
     },
     "metadata": {},
     "output_type": "display_data"
    }
   ],
   "source": [
    "_ = raw_df[['standard_value', 'pKi']].hist()"
   ]
  },
  {
   "cell_type": "markdown",
   "metadata": {},
   "source": [
    "## Standardize Relations\n",
    "Some databases may contain measurements reported with a variety of relational operators such as \">=\", \"<=\", \"~\" and so on. In datasets used to train models, AMPL expects the relation column to contain one of the three standard operators \">\", \"<\" or \"=\", or an empty field representing equality. [AMPL](https://github.com/ATOMScience-org/AMPL) provides a `standardize_relations` function to coerce nonstandard relations to one of the standard values. We use the `rel_col` and `output_rel_col` arguments to indicate that the input relations are in the `standard_relation` column, and to specify a new column to receive the standardized relations.  The `db=ChEMBL` argument tells the function to apply ChEMBL-specific formatting changes (such as removing quotes around operators)."
   ]
  },
  {
   "cell_type": "code",
   "execution_count": 10,
   "metadata": {},
   "outputs": [],
   "source": [
    "from atomsci.ddm.utils.data_curation_functions import standardize_relations\n",
    "raw_df = standardize_relations(raw_df, \n",
    "                    rel_col='standard_relation', db='ChEMBL',\n",
    "                    output_rel_col='fixed_relation')"
   ]
  },
  {
   "cell_type": "code",
   "execution_count": 11,
   "metadata": {},
   "outputs": [
    {
     "data": {
      "text/plain": [
       "standard_relation\n",
       "'='     1868\n",
       "'<'      319\n",
       "=         39\n",
       "'>'        8\n",
       "'<='       2\n",
       "Name: count, dtype: int64"
      ]
     },
     "execution_count": 11,
     "metadata": {},
     "output_type": "execute_result"
    }
   ],
   "source": [
    "# Look at the operator counts before and after standardization\n",
    "raw_df.standard_relation.value_counts()"
   ]
  },
  {
   "cell_type": "code",
   "execution_count": 12,
   "metadata": {},
   "outputs": [
    {
     "data": {
      "text/plain": [
       "fixed_relation\n",
       "=    1907\n",
       "<     321\n",
       ">       8\n",
       "Name: count, dtype: int64"
      ]
     },
     "execution_count": 12,
     "metadata": {},
     "output_type": "execute_result"
    }
   ],
   "source": [
    "raw_df.fixed_relation.value_counts()"
   ]
  },
  {
   "cell_type": "markdown",
   "metadata": {},
   "source": [
    "For this dataset, we see that the nonstandard operator \"<=\" was changed to \"<\", and the single quotes around some operators were removed, as we requested."
   ]
  },
  {
   "cell_type": "markdown",
   "metadata": {},
   "source": [
    "## Remove Outliers and Aggregate Replicate Measurements\n",
    "The final step is to remove outliers and aggregate (average) replicate measurements on the same compounds. The function `remove_outlier_replicates` is a simple filter that groups measurements by compound, computes the median of each group, and removes values that differ more than `max_diff_from_median` units from the median. When the measurements are very spread out relative to `max_diff_from_median`, *all* the rows for a compound may be deleted from the dataset. The default setting (1.0) generally works well for $pK_i$ values.\n",
    "\n",
    "The function `aggregate_assay_data` replaces multiple replicate measurements for each compound with a single aggregate value. Usually this is simply the average over the replicates, but if the dataset contains both censored and uncensored values for a compound, the function computes a maximum likelihood estimate that takes the censoring into account.\n"
   ]
  },
  {
   "cell_type": "code",
   "execution_count": 13,
   "metadata": {},
   "outputs": [
    {
     "name": "stdout",
     "output_type": "stream",
     "text": [
      "Removed 17 pKi replicate measurements that were > 1.0 from median\n",
      "9 entries in input table are missing SMILES strings\n",
      "1819 unique SMILES strings are reduced to 1819 unique base SMILES strings\n",
      "Original data shape:  (2236, 9)\n",
      "Curated data shape:  (1819, 4)\n"
     ]
    },
    {
     "data": {
      "text/html": [
       "<div>\n",
       "<style scoped>\n",
       "    .dataframe tbody tr th:only-of-type {\n",
       "        vertical-align: middle;\n",
       "    }\n",
       "\n",
       "    .dataframe tbody tr th {\n",
       "        vertical-align: top;\n",
       "    }\n",
       "\n",
       "    .dataframe thead th {\n",
       "        text-align: right;\n",
       "    }\n",
       "</style>\n",
       "<table border=\"1\" class=\"dataframe\">\n",
       "  <thead>\n",
       "    <tr style=\"text-align: right;\">\n",
       "      <th></th>\n",
       "      <th>compound_id</th>\n",
       "      <th>base_rdkit_smiles</th>\n",
       "      <th>relation</th>\n",
       "      <th>avg_pKi</th>\n",
       "    </tr>\n",
       "  </thead>\n",
       "  <tbody>\n",
       "    <tr>\n",
       "      <th>0</th>\n",
       "      <td>CHEMBL2113217</td>\n",
       "      <td>C#CCC(C(=O)c1ccc(C)cc1)N1CCCC1</td>\n",
       "      <td></td>\n",
       "      <td>5.636388</td>\n",
       "    </tr>\n",
       "    <tr>\n",
       "      <th>1</th>\n",
       "      <td>CHEMBL220765</td>\n",
       "      <td>C#CCN1CC[C@@H](Cc2ccc(F)cc2)C[C@@H]1CCCNC(=O)N...</td>\n",
       "      <td></td>\n",
       "      <td>6.206908</td>\n",
       "    </tr>\n",
       "    <tr>\n",
       "      <th>2</th>\n",
       "      <td>CHEMBL1945248</td>\n",
       "      <td>C#CCN1[C@H]2CC[C@@H]1[C@@H](C(=O)OC)[C@@H](c1c...</td>\n",
       "      <td></td>\n",
       "      <td>7.849858</td>\n",
       "    </tr>\n",
       "    <tr>\n",
       "      <th>3</th>\n",
       "      <td>CHEMBL1479</td>\n",
       "      <td>C#C[C@]1(O)CC[C@H]2[C@@H]3CCC4=Cc5oncc5C[C@]4(...</td>\n",
       "      <td></td>\n",
       "      <td>5.264721</td>\n",
       "    </tr>\n",
       "    <tr>\n",
       "      <th>4</th>\n",
       "      <td>CHEMBL691</td>\n",
       "      <td>C#C[C@]1(O)CC[C@H]2[C@@H]3CCc4cc(O)ccc4[C@H]3C...</td>\n",
       "      <td></td>\n",
       "      <td>6.352617</td>\n",
       "    </tr>\n",
       "  </tbody>\n",
       "</table>\n",
       "</div>"
      ],
      "text/plain": [
       "     compound_id                                  base_rdkit_smiles relation  \\\n",
       "0  CHEMBL2113217                     C#CCC(C(=O)c1ccc(C)cc1)N1CCCC1            \n",
       "1   CHEMBL220765  C#CCN1CC[C@@H](Cc2ccc(F)cc2)C[C@@H]1CCCNC(=O)N...            \n",
       "2  CHEMBL1945248  C#CCN1[C@H]2CC[C@@H]1[C@@H](C(=O)OC)[C@@H](c1c...            \n",
       "3     CHEMBL1479  C#C[C@]1(O)CC[C@H]2[C@@H]3CCC4=Cc5oncc5C[C@]4(...            \n",
       "4      CHEMBL691  C#C[C@]1(O)CC[C@H]2[C@@H]3CCc4cc(O)ccc4[C@H]3C...            \n",
       "\n",
       "    avg_pKi  \n",
       "0  5.636388  \n",
       "1  6.206908  \n",
       "2  7.849858  \n",
       "3  5.264721  \n",
       "4  6.352617  "
      ]
     },
     "execution_count": 13,
     "metadata": {},
     "output_type": "execute_result"
    }
   ],
   "source": [
    "from atomsci.ddm.utils.curate_data import remove_outlier_replicates, aggregate_assay_data\n",
    "\n",
    "curated_df = remove_outlier_replicates(raw_df, id_col='molecule_chembl_id',\n",
    "                                response_col='pKi',\n",
    "                                max_diff_from_median=1.0)\n",
    "\n",
    "curated_df = aggregate_assay_data(curated_df, \n",
    "                             value_col='pKi',\n",
    "                             output_value_col='avg_pKi',\n",
    "                             id_col='molecule_chembl_id',\n",
    "                             smiles_col='base_rdkit_smiles',\n",
    "                             relation_col='fixed_relation',\n",
    "                             label_actives=False,\n",
    "                             verbose=True\n",
    "                        )\n",
    "print(\"Original data shape: \", raw_df.shape)\n",
    "print(\"Curated data shape: \", curated_df.shape)\n",
    "curated_df.head()"
   ]
  },
  {
   "cell_type": "markdown",
   "metadata": {},
   "source": [
    "The data frame returned by `aggregate_assay_data` contains only four columns:\n",
    "- `compound_id`, a unique ID for each base SMILES string. When multiple values are found in `id_col` for the same SMILES string, the function assigns it the first one in lexicographic order.\n",
    "- `base_rdkit_smiles`, the standardized SMILES string.\n",
    "- `relation`, an *aggregate* relation for the set of replicates.\n",
    "- `avg_pKi`, or whatever you specified in the `output_value_col` argument, containing the aggregate/average $pK_i$ value."
   ]
  },
  {
   "cell_type": "markdown",
   "metadata": {},
   "source": [
    "> **Note** \n",
    "> When the `label_actives` argument is True (the default), an additional column `active` is added for use in training classification models. We will cover\n",
    "classification models in a future tutorial."
   ]
  },
  {
   "cell_type": "markdown",
   "metadata": {},
   "source": [
    "Finally, we save the curated dataset to a CSV file. "
   ]
  },
  {
   "cell_type": "code",
   "execution_count": 14,
   "metadata": {},
   "outputs": [],
   "source": [
    "curated_df.to_csv('dataset/SLC6A3_Ki_curated.csv', index=False)\n"
   ]
  },
  {
   "cell_type": "markdown",
   "metadata": {},
   "source": [
    "In the next tutorial, we'll show how to split this dataset into training, validation and test\n",
    "sets for model training."
   ]
  }
 ],
 "metadata": {
  "kernelspec": {
   "display_name": "atomsci",
   "language": "python",
   "name": "atomsci"
  },
  "language_info": {
   "codemirror_mode": {
    "name": "ipython",
    "version": 3
   },
   "file_extension": ".py",
   "mimetype": "text/x-python",
   "name": "python",
   "nbconvert_exporter": "python",
   "pygments_lexer": "ipython3",
   "version": "3.9.17"
  }
 },
 "nbformat": 4,
 "nbformat_minor": 4
}
