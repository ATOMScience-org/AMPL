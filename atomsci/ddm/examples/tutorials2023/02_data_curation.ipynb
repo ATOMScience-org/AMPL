{
 "cells": [
  {
   "cell_type": "markdown",
   "metadata": {},
   "source": [
    "# Data Curation\n",
    "Curating raw data is a long, detailed process that takes several steps.\n",
    "SMILES strings need to be standardized, meaurements in different units \n",
    "need to be converted to a common unit, outliers need to be removed, \n",
    "and duplicates need to be combined. These steps are vital to good data science. \n",
    "Here we will cover some tools in AMPL that are used to perform these \n",
    "steps.\n",
    "\n",
    "- `base_smiles_from_smiles`\n",
    "- `standardize_relations`\n",
    "- `convert_IC50_to_pIC50`\n",
    "- `remove_outlier_replicates`\n",
    "- `aggregate_assay_data`\n",
    "\n",
    "These are just a few of the steps needed to curate a dataset;\n",
    "another tutorial will cover data curation in more detail.\n",
    "\n",
    "## Read the data.\n",
    "We've prepared an example dataset containing IC50 values for the KCNA3 target\n",
    "collected from [ChEMBL](https://www.ebi.ac.uk/chembl/). This dataset is \n",
    "simpler than what is commonly found in the wild, but will concisely \n",
    "demonstrate AMPL tools."
   ]
  },
  {
   "cell_type": "code",
   "execution_count": 1,
   "metadata": {},
   "outputs": [],
   "source": [
    "import pandas as pd\n",
    "import numpy as np\n",
    "import sklearn as sns\n",
    "\n",
    "# read in data\n",
    "kcna3=pd.read_csv('dataset/kcna3_ic50.csv')"
   ]
  },
  {
   "cell_type": "markdown",
   "metadata": {},
   "source": [
    "## Columns\n",
    "This dataset is drawn from the ChEMBL database and contains the following columns\n",
    "- `molecule_chembl_id`: The ChEMBL id for the molecule.\n",
    "- `smiles`: The SMILES string that represents the molecule. This is the main\n",
    "input taken by AMPL models.\n",
    "- `standard_type`: This column records the type of endpoint e.g., IC50, Ki, Kd, etc.\n",
    "This dataset only contains IC50 data points.\n",
    "- `standard_relation`: Data points might be censored. This column records if the \n",
    "datapoint is censored or not.\n",
    "- `standard_value`: The IC50 value is recorded here.\n",
    "- `standard_units`: IC50 values can be recorded in different units which are recorded\n",
    "here. Fortunately, all of this data uses nM."
   ]
  },
  {
   "cell_type": "code",
   "execution_count": 2,
   "metadata": {},
   "outputs": [
    {
     "data": {
      "text/plain": [
       "(891, 6)"
      ]
     },
     "execution_count": 2,
     "metadata": {},
     "output_type": "execute_result"
    }
   ],
   "source": [
    "kcna3.shape"
   ]
  },
  {
   "cell_type": "code",
   "execution_count": 3,
   "metadata": {},
   "outputs": [
    {
     "data": {
      "text/plain": [
       "Index(['molecule_chembl_id', 'smiles', 'standard_type', 'standard_relation',\n",
       "       'standard_value', 'standard_units'],\n",
       "      dtype='object')"
      ]
     },
     "execution_count": 3,
     "metadata": {},
     "output_type": "execute_result"
    }
   ],
   "source": [
    "kcna3.columns"
   ]
  },
  {
   "cell_type": "markdown",
   "metadata": {},
   "source": [
    "## Standardize SMILES\n",
    "SMILES strings are not unique and the same compound can be represented by different, \n",
    "not so equivalent, SMILES. This step simplifies the machine learning problem by \n",
    "ensuring each compound is represented the same way. **Beware!** The input\n",
    "to base_smiles_from_smiles must be a `list`."
   ]
  },
  {
   "cell_type": "code",
   "execution_count": 4,
   "metadata": {},
   "outputs": [],
   "source": [
    "from atomsci.ddm.utils.struct_utils import base_smiles_from_smiles\n",
    "kcna3['base_rdkit_smiles'] = base_smiles_from_smiles(kcna3.smiles.tolist())"
   ]
  },
  {
   "cell_type": "code",
   "execution_count": 5,
   "metadata": {},
   "outputs": [
    {
     "data": {
      "text/plain": [
       "(515, 515)"
      ]
     },
     "execution_count": 5,
     "metadata": {},
     "output_type": "execute_result"
    }
   ],
   "source": [
    "kcna3.smiles.nunique(), kcna3.base_rdkit_smiles.nunique()"
   ]
  },
  {
   "cell_type": "markdown",
   "metadata": {},
   "source": [
    "Note that there are 802 unique SMILES from Chembl that are standardized to 802 unique smiles; sometimes two SMILES are standardized to the same thing. From now on we will use `base_rdkit_smiles`.\n",
    "\n",
    "## Standardize Relations\n",
    "Relations can also differ from database to database. This function will standardize the relation column for use with AMPL. Since this data is from ChEMBL, we will call \n",
    "the function with `db='ChEMBL'`"
   ]
  },
  {
   "cell_type": "code",
   "execution_count": 6,
   "metadata": {},
   "outputs": [],
   "source": [
    "from atomsci.ddm.utils.data_curation_functions import standardize_relations\n",
    "kcna3 = standardize_relations(kcna3, db='ChEMBL', \n",
    "                    rel_col='standard_relation',\n",
    "                    output_rel_col='fixed_relation')"
   ]
  },
  {
   "cell_type": "code",
   "execution_count": 7,
   "metadata": {},
   "outputs": [
    {
     "data": {
      "text/plain": [
       "'='    807\n",
       "'>'     82\n",
       "'<'      2\n",
       "Name: standard_relation, dtype: int64"
      ]
     },
     "execution_count": 7,
     "metadata": {},
     "output_type": "execute_result"
    }
   ],
   "source": [
    "kcna3.standard_relation.value_counts()"
   ]
  },
  {
   "cell_type": "code",
   "execution_count": 8,
   "metadata": {},
   "outputs": [
    {
     "data": {
      "text/plain": [
       "=    807\n",
       ">     82\n",
       "<      2\n",
       "Name: fixed_relation, dtype: int64"
      ]
     },
     "execution_count": 8,
     "metadata": {},
     "output_type": "execute_result"
    }
   ],
   "source": [
    "kcna3.fixed_relation.value_counts()"
   ]
  },
  {
   "cell_type": "markdown",
   "metadata": {},
   "source": [
    "## Calculate pIC50s\n",
    "We will convert the IC50s to pIC50s before performing machine learning. This function \n",
    "will use `standard_units` and `standard_value` columns. This function converts IC50s \n",
    "in nM to pIC50s."
   ]
  },
  {
   "cell_type": "code",
   "execution_count": 9,
   "metadata": {},
   "outputs": [],
   "source": [
    "from atomsci.ddm.utils.data_curation_functions import convert_IC50_to_pIC50\n",
    "kcna5 = convert_IC50_to_pIC50(kcna3, \n",
    "                              unit_col='standard_units',\n",
    "                              value_col='standard_value',\n",
    "                              new_value_col='pIC50',\n",
    "                              unit_conv={'µM':lambda x: x*1e-6, 'nM':lambda x: x*1e-9},\n",
    "                              inplace=False)"
   ]
  },
  {
   "cell_type": "code",
   "execution_count": 10,
   "metadata": {},
   "outputs": [
    {
     "data": {
      "text/plain": [
       "array([[<AxesSubplot:title={'center':'standard_value'}>,\n",
       "        <AxesSubplot:title={'center':'pIC50'}>]], dtype=object)"
      ]
     },
     "execution_count": 10,
     "metadata": {},
     "output_type": "execute_result"
    },
    {
     "data": {
      "image/png": "[encoded data removed]",
      "text/plain": [
       "<Figure size 432x288 with 2 Axes>"
      ]
     },
     "metadata": {
      "needs_background": "light"
     },
     "output_type": "display_data"
    }
   ],
   "source": [
    "kcna3[['standard_value', 'pIC50']].hist()"
   ]
  },
  {
   "cell_type": "markdown",
   "metadata": {},
   "source": [
    "## Remove outliers and aggregate\n",
    "The final step is to remove outliers and aggregate duplicate measurements. \n"
   ]
  },
  {
   "cell_type": "code",
   "execution_count": 11,
   "metadata": {},
   "outputs": [
    {
     "name": "stdout",
     "output_type": "stream",
     "text": [
      "Removed 19 pIC50 replicate measurements that were > 1.0 from median\n",
      "0 entries in input table are missing SMILES strings\n",
      "514 unique SMILES strings are reduced to 514 unique base SMILES strings\n"
     ]
    }
   ],
   "source": [
    "from atomsci.ddm.utils.curate_data import remove_outlier_replicates, aggregate_assay_data\n",
    "\n",
    "kcna3_cur = remove_outlier_replicates(kcna3, id_col='molecule_chembl_id',\n",
    "                                response_col='pIC50')\n",
    "\n",
    "kcna3_cur = aggregate_assay_data(kcna3_cur, \n",
    "                             value_col='pIC50',\n",
    "                             output_value_col='avg_pIC50',\n",
    "                             id_col='molecule_chembl_id',\n",
    "                             smiles_col='base_rdkit_smiles',\n",
    "                             relation_col='fixed_relation',\n",
    "                             label_actives=False,\n",
    "                             verbose=True\n",
    "                        )\n",
    "\n",
    "kcna3_cur.to_csv('dataset/curated_kcna3_ic50.csv', index=False)"
   ]
  },
  {
   "cell_type": "markdown",
   "metadata": {},
   "source": [
    "> **Beware!** `aggregate_assay_data` changes `molecule_chembl_id` to `compound_id`,\n",
    "`fixed_relation` to `relation`, and will create the value column `avg_pIC50`.\n",
    "The column `active` is added but is not used in this tutorial. It will be covered\n",
    "in a classification tutorial."
   ]
  },
  {
   "cell_type": "code",
   "execution_count": 12,
   "metadata": {},
   "outputs": [
    {
     "data": {
      "text/plain": [
       "((891, 9), (514, 4))"
      ]
     },
     "execution_count": 12,
     "metadata": {},
     "output_type": "execute_result"
    }
   ],
   "source": [
    "kcna3.shape, kcna3_cur.shape"
   ]
  },
  {
   "cell_type": "code",
   "execution_count": 13,
   "metadata": {},
   "outputs": [
    {
     "data": {
      "text/plain": [
       "Index(['molecule_chembl_id', 'smiles', 'standard_type', 'standard_relation',\n",
       "       'standard_value', 'standard_units', 'base_rdkit_smiles',\n",
       "       'fixed_relation', 'pIC50'],\n",
       "      dtype='object')"
      ]
     },
     "execution_count": 13,
     "metadata": {},
     "output_type": "execute_result"
    }
   ],
   "source": [
    "kcna3.columns"
   ]
  },
  {
   "cell_type": "code",
   "execution_count": 14,
   "metadata": {},
   "outputs": [
    {
     "data": {
      "text/plain": [
       "Index(['compound_id', 'base_rdkit_smiles', 'relation', 'avg_pIC50'], dtype='object')"
      ]
     },
     "execution_count": 14,
     "metadata": {},
     "output_type": "execute_result"
    }
   ],
   "source": [
    "kcna3_cur.columns"
   ]
  },
  {
   "cell_type": "markdown",
   "metadata": {},
   "source": [
    "All together, the curation process looks like this. We use this\n",
    "function to curate two more datasets for related targets."
   ]
  },
  {
   "cell_type": "code",
   "execution_count": 15,
   "metadata": {},
   "outputs": [
    {
     "name": "stdout",
     "output_type": "stream",
     "text": [
      "kcna5_ic50.csv\n",
      "\n",
      "Original data shape:  (880, 6)\n"
     ]
    },
    {
     "name": "stdout",
     "output_type": "stream",
     "text": [
      "Removed 1 pIC50 replicate measurements that were > 1.0 from median\n",
      "Curated data shape:  (802, 4)\n",
      "Index(['compound_id', 'base_rdkit_smiles', 'relation', 'avg_pIC50'], dtype='object') \n",
      "\n",
      "scn5a_ic50.csv\n",
      "\n",
      "Original data shape:  (2368, 6)\n",
      "Removed 20 pIC50 replicate measurements that were > 1.0 from median\n",
      "Curated data shape:  (2036, 4)\n",
      "Index(['compound_id', 'base_rdkit_smiles', 'relation', 'avg_pIC50'], dtype='object') \n",
      "\n"
     ]
    }
   ],
   "source": [
    "import os\n",
    "\n",
    "def curate(df):\n",
    "     df['base_rdkit_smiles'] = base_smiles_from_smiles(df.smiles.tolist())\n",
    "\n",
    "     df = standardize_relations(df, db='ChEMBL', \n",
    "                    rel_col='standard_relation',\n",
    "                    output_rel_col='fixed_relation')\n",
    "\n",
    "     df = convert_IC50_to_pIC50(df, \n",
    "                              unit_col='standard_units',\n",
    "                              value_col='standard_value',\n",
    "                              new_value_col='pIC50',\n",
    "                              unit_conv={'µM':lambda x: x*1e-6, 'nM':lambda x: x*1e-9},\n",
    "                              inplace=False)\n",
    "\n",
    "     df = remove_outlier_replicates(df, id_col='molecule_chembl_id',\n",
    "                                   response_col='pIC50')\n",
    "\n",
    "     df = aggregate_assay_data(df, \n",
    "                              value_col='pIC50',\n",
    "                              output_value_col='avg_pIC50',\n",
    "                              id_col='molecule_chembl_id',\n",
    "                              smiles_col='base_rdkit_smiles',\n",
    "                              relation_col='fixed_relation',\n",
    "                              label_actives=False\n",
    "                         )\n",
    "     return df\n",
    "\n",
    "for f in ['kcna5_ic50.csv', 'scn5a_ic50.csv']:\n",
    "     print(f'{f}\\n')\n",
    "     df = pd.read_csv(os.path.join('dataset', f))\n",
    "     print(\"Original data shape: \", df.shape)\n",
    "     df = curate(df)\n",
    "     print(\"Curated data shape: \", df.shape)\n",
    "     print(df.columns, '\\n')\n",
    "     df.to_csv('dataset/curated_'+f, index=False)"
   ]
  },
  {
   "cell_type": "markdown",
   "metadata": {},
   "source": [
    "## Multi-task data\n",
    "\n",
    "Now that the data is curated we can combine it with 2 other datasets that are already curated."
   ]
  },
  {
   "cell_type": "code",
   "execution_count": 16,
   "metadata": {},
   "outputs": [
    {
     "name": "stdout",
     "output_type": "stream",
     "text": [
      "Index(['compound_id', 'base_rdkit_smiles', 'relation_kcna5', 'avg_pIC50_kcna5',\n",
      "       'relation_kcna3', 'avg_pIC50_kcna3', 'relation_scn5a',\n",
      "       'avg_pIC50_scn5a'],\n",
      "      dtype='object')\n"
     ]
    }
   ],
   "source": [
    "kcna5 = pd.read_csv('dataset/curated_kcna5_ic50.csv')\n",
    "kcna3 = pd.read_csv('dataset/curated_kcna3_ic50.csv')\n",
    "scn5a = pd.read_csv('dataset/curated_scn5a_ic50.csv')\n",
    "\n",
    "df=kcna5.merge(kcna3, how='outer', on=['compound_id', 'base_rdkit_smiles',], suffixes=['_kcna5','_kcna3'])\n",
    "scn5a.columns=['compound_id', 'base_rdkit_smiles', 'relation_scn5a', 'avg_pIC50_scn5a']\n",
    "df = df.merge(scn5a, how='outer', on=['compound_id', 'base_rdkit_smiles'])\n",
    "print(df.columns)\n",
    "df.to_csv('dataset/kcna5_kcna3_scna5a.csv', index=False)"
   ]
  },
  {
   "cell_type": "code",
   "execution_count": 17,
   "metadata": {},
   "outputs": [
    {
     "data": {
      "text/html": [
       "<div>\n",
       "<style scoped>\n",
       "    .dataframe tbody tr th:only-of-type {\n",
       "        vertical-align: middle;\n",
       "    }\n",
       "\n",
       "    .dataframe tbody tr th {\n",
       "        vertical-align: top;\n",
       "    }\n",
       "\n",
       "    .dataframe thead th {\n",
       "        text-align: right;\n",
       "    }\n",
       "</style>\n",
       "<table border=\"1\" class=\"dataframe\">\n",
       "  <thead>\n",
       "    <tr style=\"text-align: right;\">\n",
       "      <th></th>\n",
       "      <th>compound_id</th>\n",
       "      <th>base_rdkit_smiles</th>\n",
       "      <th>relation_kcna5</th>\n",
       "      <th>avg_pIC50_kcna5</th>\n",
       "      <th>relation_kcna3</th>\n",
       "      <th>avg_pIC50_kcna3</th>\n",
       "      <th>relation_scn5a</th>\n",
       "      <th>avg_pIC50_scn5a</th>\n",
       "    </tr>\n",
       "  </thead>\n",
       "  <tbody>\n",
       "    <tr>\n",
       "      <th>0</th>\n",
       "      <td>CHEMBL1294</td>\n",
       "      <td>C=C[C@H]1CN2CC[C@H]1C[C@@H]2[C@@H](O)c1ccnc2cc...</td>\n",
       "      <td>NaN</td>\n",
       "      <td>5.136677</td>\n",
       "      <td>NaN</td>\n",
       "      <td>NaN</td>\n",
       "      <td>NaN</td>\n",
       "      <td>4.970521</td>\n",
       "    </tr>\n",
       "    <tr>\n",
       "      <th>1</th>\n",
       "      <td>CHEMBL4081003</td>\n",
       "      <td>CC(=O)NC(c1ccccc1-c1cc(Cl)cc(Cl)c1)C(c1cccnc1)...</td>\n",
       "      <td>NaN</td>\n",
       "      <td>6.829738</td>\n",
       "      <td>NaN</td>\n",
       "      <td>NaN</td>\n",
       "      <td>NaN</td>\n",
       "      <td>NaN</td>\n",
       "    </tr>\n",
       "    <tr>\n",
       "      <th>2</th>\n",
       "      <td>CHEMBL1290619</td>\n",
       "      <td>CC(=O)NCC(C)(C)CN(C1=NS(=O)(=O)c2cc(F)ccc21)c1...</td>\n",
       "      <td>NaN</td>\n",
       "      <td>5.928118</td>\n",
       "      <td>NaN</td>\n",
       "      <td>5.928118</td>\n",
       "      <td>NaN</td>\n",
       "      <td>NaN</td>\n",
       "    </tr>\n",
       "    <tr>\n",
       "      <th>3</th>\n",
       "      <td>CHEMBL584507</td>\n",
       "      <td>CC(=O)Nc1ccc2c(c1)nc(C1=C(C)Nc3ccnn3C1c1ccc(Cl...</td>\n",
       "      <td>&gt;</td>\n",
       "      <td>6.000000</td>\n",
       "      <td>NaN</td>\n",
       "      <td>NaN</td>\n",
       "      <td>NaN</td>\n",
       "      <td>NaN</td>\n",
       "    </tr>\n",
       "    <tr>\n",
       "      <th>4</th>\n",
       "      <td>CHEMBL1813048</td>\n",
       "      <td>CC(=O)Nc1cccc(Nc2ncnc(N3CCC(OCc4ccc(OC(F)(F)F)...</td>\n",
       "      <td>&gt;</td>\n",
       "      <td>4.477556</td>\n",
       "      <td>NaN</td>\n",
       "      <td>NaN</td>\n",
       "      <td>NaN</td>\n",
       "      <td>5.640644</td>\n",
       "    </tr>\n",
       "  </tbody>\n",
       "</table>\n",
       "</div>"
      ],
      "text/plain": [
       "     compound_id                                  base_rdkit_smiles  \\\n",
       "0     CHEMBL1294  C=C[C@H]1CN2CC[C@H]1C[C@@H]2[C@@H](O)c1ccnc2cc...   \n",
       "1  CHEMBL4081003  CC(=O)NC(c1ccccc1-c1cc(Cl)cc(Cl)c1)C(c1cccnc1)...   \n",
       "2  CHEMBL1290619  CC(=O)NCC(C)(C)CN(C1=NS(=O)(=O)c2cc(F)ccc21)c1...   \n",
       "3   CHEMBL584507  CC(=O)Nc1ccc2c(c1)nc(C1=C(C)Nc3ccnn3C1c1ccc(Cl...   \n",
       "4  CHEMBL1813048  CC(=O)Nc1cccc(Nc2ncnc(N3CCC(OCc4ccc(OC(F)(F)F)...   \n",
       "\n",
       "  relation_kcna5  avg_pIC50_kcna5 relation_kcna3  avg_pIC50_kcna3  \\\n",
       "0            NaN         5.136677            NaN              NaN   \n",
       "1            NaN         6.829738            NaN              NaN   \n",
       "2            NaN         5.928118            NaN         5.928118   \n",
       "3              >         6.000000            NaN              NaN   \n",
       "4              >         4.477556            NaN              NaN   \n",
       "\n",
       "  relation_scn5a  avg_pIC50_scn5a  \n",
       "0            NaN         4.970521  \n",
       "1            NaN              NaN  \n",
       "2            NaN              NaN  \n",
       "3            NaN              NaN  \n",
       "4            NaN         5.640644  "
      ]
     },
     "execution_count": 17,
     "metadata": {},
     "output_type": "execute_result"
    }
   ],
   "source": [
    "df.head()"
   ]
  },
  {
   "cell_type": "markdown",
   "metadata": {},
   "source": [
    "This plot shows there are not many SMILES that overlap between the three targets."
   ]
  },
  {
   "cell_type": "code",
   "execution_count": 18,
   "metadata": {},
   "outputs": [
    {
     "data": {
      "text/plain": [
       "<matplotlib_venn._common.VennDiagram at 0x15547b1f9550>"
      ]
     },
     "execution_count": 18,
     "metadata": {},
     "output_type": "execute_result"
    },
    {
     "data": {
      "image/png": "[encoded data removed]",
      "text/plain": [
       "<Figure size 432x288 with 1 Axes>"
      ]
     },
     "metadata": {},
     "output_type": "display_data"
    }
   ],
   "source": [
    "import matplotlib_venn as mpv\n",
    "mpv.venn3([set(df.loc[~df.avg_pIC50_kcna5.isna(), 'base_rdkit_smiles']),\n",
    "           set(df.loc[~df.avg_pIC50_kcna3.isna(), 'base_rdkit_smiles']),\n",
    "           set(df.loc[~df.avg_pIC50_scn5a.isna(), 'base_rdkit_smiles']),],\n",
    "          set_labels=['KCNA5','KCNA3','SCN5A'])"
   ]
  },
  {
   "cell_type": "code",
   "execution_count": null,
   "metadata": {},
   "outputs": [],
   "source": []
  }
 ],
 "metadata": {
  "kernelspec": {
   "display_name": "AMPL_virtualenv_1.6",
   "language": "python",
   "name": "python3"
  },
  "language_info": {
   "codemirror_mode": {
    "name": "ipython",
    "version": 3
   },
   "file_extension": ".py",
   "mimetype": "text/x-python",
   "name": "python",
   "nbconvert_exporter": "python",
   "pygments_lexer": "ipython3",
   "version": "3.9.12"
  }
 },
 "nbformat": 4,
 "nbformat_minor": 4
}
