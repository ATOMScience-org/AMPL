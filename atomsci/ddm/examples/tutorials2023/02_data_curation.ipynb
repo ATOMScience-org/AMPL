{
 "cells": [
  {
   "cell_type": "markdown",
   "metadata": {},
   "source": [
    "# Data Curation\n",
    "To train a machine learning model from data, that data must first be \"curated\" to ensure that chemical structures \n",
    "and properties are represented consistently.\n",
    "Curating raw data is a long, detailed process that takes several steps.\n",
    "[SMILES](https://en.wikipedia.org/wiki/Simplified_molecular-input_line-entry_system) strings need to be standardized, measurements\n",
    "need to be converted to common units, outliers need to be removed or corrected, \n",
    "and replicates need to be combined. These steps are vital to create datasets that\n",
    "can be used to train useful predictive models. \n",
    "Here we will cover some functions in [AMPL](https://github.com/ATOMScience-org/AMPL) that will help\n",
    "you to perform these steps.\n",
    "\n",
    "- [base_smiles_from_smiles](https://ampl.readthedocs.io/en/latest/utils.html#utils.struct_utils.base_smiles_from_smiles)\n",
    "- [mol_wt_from_smiles](https://ampl.readthedocs.io/en/latest/utils.html#utils.struct_utils.mol_wt_from_smiles)\n",
    "- [standardize_relations](https://ampl.readthedocs.io/en/latest/utils.html#utils.data_curation_functions.standardize_relations)\n",
    "- [compute_negative_log_responses](https://ampl.readthedocs.io/en/latest/utils.html#utils.data_curation_functions.compute_negative_log_responses)\n",
    "- [remove_outlier_replicates](https://ampl.readthedocs.io/en/latest/utils.html#utils.curate_data.remove_outlier_replicates)\n",
    "- [aggregate_assay_data](https://ampl.readthedocs.io/en/latest/utils.html#utils.curate_data.aggregate_assay_data)\n",
    "\n",
    "These are just a few of the steps needed to curate a dataset;\n",
    "another tutorial will cover data curation in more detail."
   ]
  },
  {
   "cell_type": "markdown",
   "metadata": {},
   "source": [
    "## Import Standard Data Science Packages\n",
    "To use [AMPL](https://github.com/ATOMScience-org/AMPL), or to do almost anything else with data, you'll need to become familiar with the popular packages \n",
    "[pandas](https://pandas.pydata.org/), \n",
    "[numpy](https://numpy.org/), \n",
    "[matplotlib](https://matplotlib.org/) and \n",
    "[seaborn](https://seaborn.pydata.org/index.html). \n",
    "When you installed AMPL you will have installed these packages as well, so you simply need to import them here."
   ]
  },
  {
   "cell_type": "code",
   "execution_count": 1,
   "metadata": {},
   "outputs": [],
   "source": [
    "import os\n",
    "import pandas as pd\n",
    "import numpy as np\n",
    "import matplotlib.pyplot as plt\n",
    "import seaborn as sns"
   ]
  },
  {
   "cell_type": "markdown",
   "metadata": {},
   "source": [
    "## Read the Data\n",
    "We've prepared an example dataset containing [$IC_{50}$](https://en.wikipedia.org/wiki/IC50) values for inhibitors of \n",
    "the [KCNA3](https://www.ebi.ac.uk/chembl/target_report_card/CHEMBL4633/) \n",
    "potassium channel collected from [ChEMBL](https://www.ebi.ac.uk/chembl/). This dataset is \n",
    "simpler than most that we find in the wild, but it will let us concisely \n",
    "demonstrate some AMPL curation tools. The first step of data curation is to read the dataset into a Pandas data frame."
   ]
  },
  {
   "cell_type": "code",
   "execution_count": 2,
   "metadata": {},
   "outputs": [],
   "source": [
    "# Read in data\n",
    "kcna3 = pd.read_csv('dataset/kcna3_ic50.csv')"
   ]
  },
  {
   "cell_type": "code",
   "execution_count": 3,
   "metadata": {},
   "outputs": [
    {
     "data": {
      "text/plain": [
       "(891, 6)"
      ]
     },
     "execution_count": 3,
     "metadata": {},
     "output_type": "execute_result"
    }
   ],
   "source": [
    "# Check the number of rows and columns in the dataset\n",
    "kcna3.shape"
   ]
  },
  {
   "cell_type": "code",
   "execution_count": 4,
   "metadata": {},
   "outputs": [
    {
     "data": {
      "text/plain": [
       "array(['molecule_chembl_id', 'smiles', 'standard_type',\n",
       "       'standard_relation', 'standard_value', 'standard_units'],\n",
       "      dtype=object)"
      ]
     },
     "execution_count": 4,
     "metadata": {},
     "output_type": "execute_result"
    }
   ],
   "source": [
    "# List the column names\n",
    "kcna3.columns.values"
   ]
  },
  {
   "cell_type": "markdown",
   "metadata": {},
   "source": [
    "This dataset is drawn from the ChEMBL database and contains the following columns:\n",
    "- `molecule_chembl_id`: The ChEMBL ID for the molecule.\n",
    "- `smiles`: The SMILES string that represents the molecule's structure. This is the main\n",
    "input used to derive features for [AMPL](https://github.com/ATOMScience-org/AMPL) models.\n",
    "- `standard_type`: The type of measurement, e.g., $IC_{50}$, $K_i$, $K_d$, etc.\n",
    "This dataset only contains $IC_{50}$ data points.\n",
    "- `standard_relation`: The relational operator for a measurement reported as \"< $X$\" or \"> $X$\", indicating the true value is below or above some limit $X$ (e.g., the lowest or highest concentration tested). When this occurs we say the measurement is \"left-\" or \"right-censored\".\n",
    "- `standard_value`: The measured value (or the limit value for a censored measurement).\n",
    "- `standard_units`: The units of the measurement. $IC_{50}$ values may be recorded in different units which will need to be converted to a common unit. The KCNA3 dataset uses nanomolar (nM) units exclusively, but other datasets we'll work with may contain a mixture of nanomolar and micromolar (µM or uM) units."
   ]
  },
  {
   "cell_type": "markdown",
   "metadata": {},
   "source": [
    "## Standardize SMILES\n",
    "The SMILES grammar allows the same chemical structure to be represented by many different SMILES strings. In addition, measurements may be performed on compounds with different salt groups or with radioisotope labels, which we treat as equivalent to the base compounds. AMPL provides a SMILES standardization function, `base_smiles_to_smiles`, that removes salt groups and isotopes and returns a unique SMILES string for each base compound structure. This step simplifies the machine learning problem by ensuring each compound is represented with the same set of features and multiple measurements on the same compound can be grouped together. \n",
    "\n",
    "> **Note:** *The input to base_smiles_from_smiles must be a `list`; `numpy` arrays and `pandas` Series objects must be converted with the `tolist` function.*"
   ]
  },
  {
   "cell_type": "code",
   "execution_count": 5,
   "metadata": {},
   "outputs": [],
   "source": [
    "from atomsci.ddm.utils.struct_utils import base_smiles_from_smiles\n",
    "# Since the base_smiles_from_smiles function can be slow, we specify the workers=8 argument\n",
    "# to divide the work across 8 threads.\n",
    "kcna3['base_rdkit_smiles'] = base_smiles_from_smiles(kcna3.smiles.tolist(), workers=8)"
   ]
  },
  {
   "cell_type": "code",
   "execution_count": 6,
   "metadata": {},
   "outputs": [
    {
     "data": {
      "text/plain": [
       "(515, 515)"
      ]
     },
     "execution_count": 6,
     "metadata": {},
     "output_type": "execute_result"
    }
   ],
   "source": [
    "kcna3.smiles.nunique(), kcna3.base_rdkit_smiles.nunique()"
   ]
  },
  {
   "cell_type": "markdown",
   "metadata": {},
   "source": [
    "For this dataset there are 515 unique SMILES that are standardized to 515 unique base SMILES (though some differ from the originals). In other datasets it is common for two different SMILES to be standardized to the same value. From now on we will use `base_rdkit_smiles` to represent compound structures."
   ]
  },
  {
   "cell_type": "markdown",
   "metadata": {},
   "source": [
    "## Filter by Molecular Weight\n",
    "Generally speaking, it is difficult to train models that work well for both small drug-like molecules and large ones.\n",
    "It turns out that about half the data points in the raw KCNA3 dataset are from peptides, with molecular weights around 4000, all from one study;\n",
    "the rest are \"normal\" compounds with molecular weights well below 2000. In order to allow our models to learn predictive features that are relevant\n",
    "for small molecules, we will compute molecular weights and filter out compounds with MW > 2000."
   ]
  },
  {
   "cell_type": "code",
   "execution_count": 7,
   "metadata": {},
   "outputs": [
    {
     "data": {
      "image/png": "[encoded data removed]",
      "text/plain": [
       "<Figure size 640x480 with 1 Axes>"
      ]
     },
     "metadata": {},
     "output_type": "display_data"
    }
   ],
   "source": [
    "from atomsci.ddm.utils.struct_utils import mol_wt_from_smiles\n",
    "kcna3['mol_wt'] = mol_wt_from_smiles(kcna3.base_rdkit_smiles.tolist(), workers=8)\n",
    "_ = kcna3[['mol_wt']].hist()"
   ]
  },
  {
   "cell_type": "code",
   "execution_count": 8,
   "metadata": {},
   "outputs": [
    {
     "name": "stdout",
     "output_type": "stream",
     "text": [
      "After filtering on molecular weight, 457 rows remain with 371 unique compounds\n"
     ]
    }
   ],
   "source": [
    "kcna3 = kcna3[kcna3.mol_wt < 2000].copy()\n",
    "print(f\"After filtering on molecular weight, {len(kcna3)} rows remain with {kcna3.base_rdkit_smiles.nunique()} unique compounds\")"
   ]
  },
  {
   "cell_type": "markdown",
   "metadata": {},
   "source": [
    "## Calculate $pIC_{50}$'s\n",
    "An $IC_{50}$ is the concentration of a compound that inhibits a target protein's function by 50%.  Like many other chemical properties, $IC_{50}$ values may span several orders of magnitude, from picomolar to millimolar (a billion-fold range). This makes it difficult to fit machine learning models to them because the variance of repeat measurements grows with the measured value, as shown in the left hand plot below. We prefer to work instead with $pIC_{50}$ values, where $pIC_{50} = -\\mathrm{log}_{10} (IC_{50})$ with $IC_{50}$ in molar units, because the log transformed measurements have more stable variances, as shown at right. Similar transformations are often applied to properties like $K_i$'s, $K_d$'s\n",
    "and $EC_{50}$'s, yielding $pK_i$'s, $pK_d$'s, and $EC_{50}$'s."
   ]
  },
  {
   "attachments": {
    "ic50_variance_vs_mean.png": {
     "image/png": "[encoded data removed]"
    }
   },
   "cell_type": "markdown",
   "metadata": {},
   "source": [
    "![ic50_variance_vs_mean.png](attachment:ic50_variance_vs_mean.png)"
   ]
  },
  {
   "cell_type": "markdown",
   "metadata": {},
   "source": [
    "> **Note**:\n",
    "> For those who want more details: It's hard to fit ML models to raw $IC_{50}$'s because typical training methods seek to minimize a squared-error loss function (the error being the difference between the actual and predicted values). Squared errors tend to scale with the variance among replicates, so the loss function is dominated by the compounds with the largest variance, i.e. those with the largest $IC_{50}$'s. This leads to models that perform OK on the least potent compounds and terribly on the most potent."
   ]
  },
  {
   "cell_type": "markdown",
   "metadata": {},
   "source": [
    "The AMPL function `compute_negative_log_responses` performs these variance stabilizing transformations, converting $IC_{50}$'s to $pIC_{50}$'s and so on. The code below uses the \n",
    "units in the `standard_units` column and the conversion functions specified \n",
    "in the `unit_conv` argument to convert the $IC_{50}$'s in the `standard_value` column to molar units before applying the log transformation. It also inverts the \"<\" and \">\" operators in `relation_col` so that they correctly \n",
    "describe the $pIC_{50}$ values, which *decrease* as $IC_{50}$ values *increase* (e.g., \"$IC_{50} > 100 \\mathrm{uM}$\" means \"$IC_{50} > 10^{-4} \\mathrm{M}$\" which implies \"$pIC_{50} < 4$\")."
   ]
  },
  {
   "cell_type": "code",
   "execution_count": 9,
   "metadata": {},
   "outputs": [],
   "source": [
    "from atomsci.ddm.utils.data_curation_functions import compute_negative_log_responses \n",
    "kcna3 = compute_negative_log_responses(kcna3, \n",
    "                              unit_col='standard_units',\n",
    "                              value_col='standard_value',\n",
    "                              new_value_col='pIC50',\n",
    "                              relation_col='standard_relation',\n",
    "                              unit_conv={'µM':lambda x: x*1e-6, 'nM':lambda x: x*1e-9},\n",
    "                              inplace=False)"
   ]
  },
  {
   "cell_type": "markdown",
   "metadata": {},
   "source": [
    "We then plot histograms to compare the distributions of the raw and transformed $IC_{50}$'s:"
   ]
  },
  {
   "cell_type": "code",
   "execution_count": 10,
   "metadata": {},
   "outputs": [
    {
     "data": {
      "image/png": "[encoded data removed]",
      "text/plain": [
       "<Figure size 640x480 with 2 Axes>"
      ]
     },
     "metadata": {},
     "output_type": "display_data"
    }
   ],
   "source": [
    "_ = kcna3[['standard_value', 'pIC50']].hist()"
   ]
  },
  {
   "cell_type": "markdown",
   "metadata": {},
   "source": [
    "## Standardize Relations\n",
    "Some databases may contain measurements reported with a variety of relational operators such as \">=\", \"<=\", \"~\" and so on. In datasets used to train models, AMPL expects the relation column to contain one of the three standard operators \">\", \"<\" or \"=\", or an empty field representing equality. [AMPL](https://github.com/ATOMScience-org/AMPL) provides a `standardize_relations` function to coerce nonstandard relations to one of the standard values. We use the `rel_col` and `output_rel_col` arguments to indicate that the input relations are in the `standard_relation` column, and to specify a new column to receive the standardized relations.  The `db=ChEMBL` argument tells the function to apply ChEMBL-specific formatting changes (such as removing quotes around operators)."
   ]
  },
  {
   "cell_type": "code",
   "execution_count": 11,
   "metadata": {},
   "outputs": [],
   "source": [
    "from atomsci.ddm.utils.data_curation_functions import standardize_relations\n",
    "kcna3 = standardize_relations(kcna3, \n",
    "                    rel_col='standard_relation', db='ChEMBL',\n",
    "                    output_rel_col='fixed_relation')"
   ]
  },
  {
   "cell_type": "code",
   "execution_count": 12,
   "metadata": {},
   "outputs": [
    {
     "data": {
      "text/plain": [
       "standard_relation\n",
       "'='    407\n",
       "'<'     48\n",
       "'>'      2\n",
       "Name: count, dtype: int64"
      ]
     },
     "execution_count": 12,
     "metadata": {},
     "output_type": "execute_result"
    }
   ],
   "source": [
    "# Look at the operator counts before and after standardization\n",
    "kcna3.standard_relation.value_counts()"
   ]
  },
  {
   "cell_type": "code",
   "execution_count": 13,
   "metadata": {},
   "outputs": [
    {
     "data": {
      "text/plain": [
       "fixed_relation\n",
       "=    407\n",
       "<     48\n",
       ">      2\n",
       "Name: count, dtype: int64"
      ]
     },
     "execution_count": 13,
     "metadata": {},
     "output_type": "execute_result"
    }
   ],
   "source": [
    "kcna3.fixed_relation.value_counts()"
   ]
  },
  {
   "cell_type": "markdown",
   "metadata": {},
   "source": [
    "For this dataset, we see that there were no nonstandard operators, but the single quotes around the operators were removed, as we requested."
   ]
  },
  {
   "cell_type": "markdown",
   "metadata": {},
   "source": [
    "## Remove Outliers and Aggregate Replicate Measurements\n",
    "The final step is to remove outliers and aggregate (average) replicate measurements on the same compounds. The function `remove_outlier_replicates` is a simple filter that groups measurements by compound, computes the median of each group, and removes values that differ more than `max_diff_from_median` units from the median. When the measurements are very spread out relative to `max_diff_from_median`, *all* the rows for a compound may be deleted from the dataset. The default setting (1.0) generally works well for $pIC_{50}$ values.\n",
    "\n",
    "The function `aggregate_assay_data` replaces multiple replicate measurements for each compound with a single aggregate value. Usually this is simply the average over the replicates, but if the dataset contains both censored and uncensored values for a compound, the function computes a maximum likelihood estimate that takes the censoring into account.\n"
   ]
  },
  {
   "cell_type": "code",
   "execution_count": 14,
   "metadata": {},
   "outputs": [
    {
     "name": "stdout",
     "output_type": "stream",
     "text": [
      "Removed 4 pIC50 replicate measurements that were > 1.0 from median\n",
      "0 entries in input table are missing SMILES strings\n",
      "370 unique SMILES strings are reduced to 370 unique base SMILES strings\n",
      "Original data shape:  (457, 10)\n",
      "Curated data shape:  (370, 4)\n"
     ]
    },
    {
     "data": {
      "text/html": [
       "<div>\n",
       "<style scoped>\n",
       "    .dataframe tbody tr th:only-of-type {\n",
       "        vertical-align: middle;\n",
       "    }\n",
       "\n",
       "    .dataframe tbody tr th {\n",
       "        vertical-align: top;\n",
       "    }\n",
       "\n",
       "    .dataframe thead th {\n",
       "        text-align: right;\n",
       "    }\n",
       "</style>\n",
       "<table border=\"1\" class=\"dataframe\">\n",
       "  <thead>\n",
       "    <tr style=\"text-align: right;\">\n",
       "      <th></th>\n",
       "      <th>compound_id</th>\n",
       "      <th>base_rdkit_smiles</th>\n",
       "      <th>relation</th>\n",
       "      <th>avg_pIC50</th>\n",
       "    </tr>\n",
       "  </thead>\n",
       "  <tbody>\n",
       "    <tr>\n",
       "      <th>0</th>\n",
       "      <td>CHEMBL416538</td>\n",
       "      <td>C/C=C/C(=O)N[C@H]1CC[C@@](CNC(=O)c2ccccc2OC)(c...</td>\n",
       "      <td></td>\n",
       "      <td>6.356547</td>\n",
       "    </tr>\n",
       "    <tr>\n",
       "      <th>1</th>\n",
       "      <td>CHEMBL277064</td>\n",
       "      <td>C/C=C/C(=O)N[C@H]1CC[C@](CNC(=O)c2ccccc2OC)(c2...</td>\n",
       "      <td></td>\n",
       "      <td>6.699514</td>\n",
       "    </tr>\n",
       "    <tr>\n",
       "      <th>2</th>\n",
       "      <td>CHEMBL57615</td>\n",
       "      <td>C/N=c1\\ccn(Cc2ccccc2)c2cc(Cl)ccc12</td>\n",
       "      <td>&lt;</td>\n",
       "      <td>5.301030</td>\n",
       "    </tr>\n",
       "    <tr>\n",
       "      <th>3</th>\n",
       "      <td>CHEMBL280102</td>\n",
       "      <td>C=C(C)CNC(=O)O[C@H]1CC[C@@](CNC(=O)c2ccccc2OC)...</td>\n",
       "      <td></td>\n",
       "      <td>6.604085</td>\n",
       "    </tr>\n",
       "    <tr>\n",
       "      <th>4</th>\n",
       "      <td>CHEMBL16961</td>\n",
       "      <td>C=C(C)CNC(=O)O[C@H]1CC[C@](CNC(=O)c2ccccc2OC)(...</td>\n",
       "      <td></td>\n",
       "      <td>6.920819</td>\n",
       "    </tr>\n",
       "  </tbody>\n",
       "</table>\n",
       "</div>"
      ],
      "text/plain": [
       "    compound_id                                  base_rdkit_smiles relation  \\\n",
       "0  CHEMBL416538  C/C=C/C(=O)N[C@H]1CC[C@@](CNC(=O)c2ccccc2OC)(c...            \n",
       "1  CHEMBL277064  C/C=C/C(=O)N[C@H]1CC[C@](CNC(=O)c2ccccc2OC)(c2...            \n",
       "2   CHEMBL57615                 C/N=c1\\ccn(Cc2ccccc2)c2cc(Cl)ccc12        <   \n",
       "3  CHEMBL280102  C=C(C)CNC(=O)O[C@H]1CC[C@@](CNC(=O)c2ccccc2OC)...            \n",
       "4   CHEMBL16961  C=C(C)CNC(=O)O[C@H]1CC[C@](CNC(=O)c2ccccc2OC)(...            \n",
       "\n",
       "   avg_pIC50  \n",
       "0   6.356547  \n",
       "1   6.699514  \n",
       "2   5.301030  \n",
       "3   6.604085  \n",
       "4   6.920819  "
      ]
     },
     "execution_count": 14,
     "metadata": {},
     "output_type": "execute_result"
    }
   ],
   "source": [
    "from atomsci.ddm.utils.curate_data import remove_outlier_replicates, aggregate_assay_data\n",
    "\n",
    "kcna3_cur = remove_outlier_replicates(kcna3, id_col='molecule_chembl_id',\n",
    "                                response_col='pIC50',\n",
    "                                max_diff_from_median=1.0)\n",
    "\n",
    "kcna3_cur = aggregate_assay_data(kcna3_cur, \n",
    "                             value_col='pIC50',\n",
    "                             output_value_col='avg_pIC50',\n",
    "                             id_col='molecule_chembl_id',\n",
    "                             smiles_col='base_rdkit_smiles',\n",
    "                             relation_col='fixed_relation',\n",
    "                             label_actives=False,\n",
    "                             verbose=True\n",
    "                        )\n",
    "print(\"Original data shape: \", kcna3.shape)\n",
    "print(\"Curated data shape: \", kcna3_cur.shape)\n",
    "kcna3_cur.head()"
   ]
  },
  {
   "cell_type": "markdown",
   "metadata": {},
   "source": [
    "The data frame returned by `aggregate_assay_data` contains only four columns:\n",
    "- `compound_id`, a unique ID for each base SMILES string. When multiple values are found in `id_col` for the same SMILES string, the function assigns it the first one in lexicographic order.\n",
    "- `base_rdkit_smiles`, the standardized SMILES string.\n",
    "- `relation`, an *aggregate* relation for the set of replicates.\n",
    "- `avg_pIC50`, or whatever you specified in the `output_value_col` argument, containing the aggregate/average $pIC_{50}$ value."
   ]
  },
  {
   "cell_type": "markdown",
   "metadata": {},
   "source": [
    "> **Note** \n",
    "> When the `label_actives` argument is True (the default), an additional column `active` is added for use in training classification models. We will cover\n",
    "classification models in a future tutorial."
   ]
  },
  {
   "cell_type": "markdown",
   "metadata": {},
   "source": [
    "Finally, we save the curated dataset to a CSV file. "
   ]
  },
  {
   "cell_type": "code",
   "execution_count": 15,
   "metadata": {},
   "outputs": [],
   "source": [
    "kcna3_cur.to_csv('dataset/curated_kcna3_ic50.csv', index=False)"
   ]
  },
  {
   "cell_type": "markdown",
   "metadata": {},
   "source": [
    "In the next tutorial, we'll show how to split this dataset into training, validation and test\n",
    "sets for model training."
   ]
  }
 ],
 "metadata": {
  "kernelspec": {
   "display_name": "atomsci",
   "language": "python",
   "name": "atomsci"
  },
  "language_info": {
   "codemirror_mode": {
    "name": "ipython",
    "version": 3
   },
   "file_extension": ".py",
   "mimetype": "text/x-python",
   "name": "python",
   "nbconvert_exporter": "python",
   "pygments_lexer": "ipython3",
   "version": "3.9.17"
  }
 },
 "nbformat": 4,
 "nbformat_minor": 4
}
