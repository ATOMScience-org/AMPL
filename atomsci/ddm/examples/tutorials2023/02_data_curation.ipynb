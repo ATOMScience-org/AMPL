{
 "cells": [
  {
   "cell_type": "markdown",
   "metadata": {},
   "source": [
    "## Data Curation\n",
    "Curating raw data is a long, detailed process that is vital to good data science. \n",
    "Here we will cover some tools in AMPL that are commonly used in the data \n",
    "curation process.\n",
    "\n",
    "- `base_smiles_from_smiles`\n",
    "- `standardize_relations`\n",
    "- `convert_IC50_to_pIC50`\n",
    "- `remove_outlier_replicates`\n",
    "- `aggregate_assay_data`\n",
    "\n",
    "These are just a few of the steps needed to curate a dataset;\n",
    "another tutorial will cover data curation in more detail.\n",
    "\n",
    "### Read the data.\n",
    "We've prepared an example dataset for the KCNA5 target. This dataset is \n",
    "simpler than what is commonly found in the wild, but will concisely \n",
    "demonstrate AMPL tools."
   ]
  },
  {
   "cell_type": "code",
   "execution_count": 1,
   "metadata": {},
   "outputs": [],
   "source": [
    "import pandas as pd\n",
    "import numpy as np\n",
    "import sklearn as sns\n",
    "\n",
    "# read in data\n",
    "kcna5=pd.read_csv('kcna5_ic50.csv')\n"
   ]
  },
  {
   "cell_type": "markdown",
   "metadata": {},
   "source": [
    "### Columns\n",
    "This dataset is drawn from the ChEMBL database and contains the following columns\n",
    "- `molecule_chembl_id`: The ChEMBL id for the molecule.\n",
    "- `smiles`: The SMILES string that represents the molecule. This is the main\n",
    "input taken by AMPL models.\n",
    "- `standard_type`: This column records the type of endpoint e.g., IC50, Ki, Kd, etc.\n",
    "This dataset only contains IC50 data points.\n",
    "- `standard_relation`: Data points might be censored. This column records if the \n",
    "datapoint is censored or not.\n",
    "- `standard_value`: The IC50 value is recorded here.\n",
    "- `standard_units`: IC50 values can be recorded in different units which are recorded\n",
    "here. Fortunately, all of this data uses nM."
   ]
  },
  {
   "cell_type": "code",
   "execution_count": 2,
   "metadata": {},
   "outputs": [
    {
     "data": {
      "text/plain": [
       "Index(['molecule_chembl_id', 'smiles', 'standard_type', 'standard_relation',\n",
       "       'standard_value', 'standard_units'],\n",
       "      dtype='object')"
      ]
     },
     "execution_count": 2,
     "metadata": {},
     "output_type": "execute_result"
    }
   ],
   "source": [
    "kcna5.columns"
   ]
  },
  {
   "cell_type": "markdown",
   "metadata": {},
   "source": [
    "### Standardize SMILES\n",
    "SMILES strings are not unique and the same compound can be represented by different, \n",
    "not so equivalent, SMILES. This step simplifies the machine learning problem by \n",
    "ensuring each compound is represented the same way. **Beware!** The input\n",
    "to base_smiles_from_smiles must be a `list`."
   ]
  },
  {
   "cell_type": "code",
   "execution_count": 3,
   "metadata": {},
   "outputs": [],
   "source": [
    "from atomsci.ddm.utils.struct_utils import base_smiles_from_smiles\n",
    "kcna5['base_rdkit_smiles'] = base_smiles_from_smiles(list(kcna5['smiles'].values))"
   ]
  },
  {
   "cell_type": "markdown",
   "metadata": {},
   "source": [
    "From now on we will use `base_rdkit_smiles`.\n",
    "\n",
    "### Standardize Relations\n",
    "Relations can also differ from database to database. This function will standardize the relation column for use with AMPL. Since this data is from ChEMBL, we will call \n",
    "the function with `db='ChEMBL'`"
   ]
  },
  {
   "cell_type": "code",
   "execution_count": 4,
   "metadata": {},
   "outputs": [],
   "source": [
    "from atomsci.ddm.utils.data_curation_functions import standardize_relations\n",
    "kcna5 = standardize_relations(kcna5, db='ChEMBL', \n",
    "                    rel_col='standard_relation',\n",
    "                    output_rel_col='fixed_relation')"
   ]
  },
  {
   "cell_type": "markdown",
   "metadata": {},
   "source": [
    "\n",
    "### Calculate pIC50s\n",
    "We will convert the IC50s to pIC50s before performing machine learning. This function \n",
    "will use `standard_units` and `standard_value` columns. This function converts IC50s \n",
    "in nM to pIC50s."
   ]
  },
  {
   "cell_type": "code",
   "execution_count": 5,
   "metadata": {},
   "outputs": [],
   "source": [
    "from atomsci.ddm.utils.data_curation_functions import convert_IC50_to_pIC50\n",
    "kcna5 = convert_IC50_to_pIC50(kcna5, \n",
    "                              unit_col='standard_units',\n",
    "                              value_col='standard_value',\n",
    "                              new_value_col='pIC50',\n",
    "                              unit_conv={'µM':lambda x: x*1e-6, 'nM':lambda x: x*1e-9},\n",
    "                              inplace=False)"
   ]
  },
  {
   "cell_type": "markdown",
   "metadata": {},
   "source": [
    "### Remove outliers and aggregate\n",
    "The final step is to remove outliers and aggregate duplicate measurements. \n"
   ]
  },
  {
   "cell_type": "code",
   "execution_count": 6,
   "metadata": {},
   "outputs": [
    {
     "name": "stdout",
     "output_type": "stream",
     "text": [
      "Removed 1 pIC50 replicate measurements that were > 1.0 from median\n",
      "0 entries in input table are missing SMILES strings\n",
      "802 unique SMILES strings are reduced to 802 unique base SMILES strings\n"
     ]
    }
   ],
   "source": [
    "from atomsci.ddm.utils.curate_data import remove_outlier_replicates, \\\n",
    "                                    aggregate_assay_data\n",
    "kcna5 = remove_outlier_replicates(kcna5, id_col='molecule_chembl_id',\n",
    "                                response_col='pIC50')\n",
    "\n",
    "kcna5 = aggregate_assay_data(kcna5, \n",
    "                             value_col='pIC50',\n",
    "                             output_value_col='avg_pIC50',\n",
    "                             id_col='molecule_chembl_id',\n",
    "                             smiles_col='base_rdkit_smiles',\n",
    "                             relation_col='fixed_relation',\n",
    "                             label_actives=False,\n",
    "                             verbose=True\n",
    "                        )\n",
    "\n",
    "kcna5.to_csv('curated_kcna5_ic50.csv', index=False)"
   ]
  },
  {
   "cell_type": "markdown",
   "metadata": {},
   "source": [
    "**Beware!** `aggregate_assay_data` changes `molecule_chembl_id` to `compound_id`,\n",
    "`fixed_relation` to `relation`, and will create the value column `avg_pIC50`.\n",
    "The column `active` is added but is not used in this tutorial. It will be covered\n",
    "in a classification tutorial."
   ]
  },
  {
   "cell_type": "code",
   "execution_count": 7,
   "metadata": {},
   "outputs": [
    {
     "data": {
      "text/plain": [
       "Index(['compound_id', 'base_rdkit_smiles', 'relation', 'avg_pIC50'], dtype='object')"
      ]
     },
     "execution_count": 7,
     "metadata": {},
     "output_type": "execute_result"
    }
   ],
   "source": [
    "kcna5.columns"
   ]
  },
  {
   "cell_type": "markdown",
   "metadata": {},
   "source": [
    "All together, the curation process looks like this. We use this\n",
    "function to curate two more datasets for related targets."
   ]
  },
  {
   "cell_type": "code",
   "execution_count": 8,
   "metadata": {},
   "outputs": [
    {
     "name": "stdout",
     "output_type": "stream",
     "text": [
      "Removed 19 pIC50 replicate measurements that were > 1.0 from median\n",
      "Index(['compound_id', 'base_rdkit_smiles', 'relation', 'avg_pIC50'], dtype='object')\n",
      "Removed 20 pIC50 replicate measurements that were > 1.0 from median\n",
      "Index(['compound_id', 'base_rdkit_smiles', 'relation', 'avg_pIC50'], dtype='object')\n"
     ]
    }
   ],
   "source": [
    "\n",
    "def curate(df):\n",
    "     df['base_rdkit_smiles'] = base_smiles_from_smiles(list(df['smiles'].values))\n",
    "\n",
    "     df = standardize_relations(df, db='ChEMBL', \n",
    "                    rel_col='standard_relation',\n",
    "                    output_rel_col='fixed_relation')\n",
    "\n",
    "     df = convert_IC50_to_pIC50(df, \n",
    "                              unit_col='standard_units',\n",
    "                              value_col='standard_value',\n",
    "                              new_value_col='pIC50',\n",
    "                              unit_conv={'µM':lambda x: x*1e-6, 'nM':lambda x: x*1e-9},\n",
    "                              inplace=False)\n",
    "\n",
    "     df = remove_outlier_replicates(df, id_col='molecule_chembl_id',\n",
    "                                   response_col='pIC50')\n",
    "\n",
    "     df = aggregate_assay_data(df, \n",
    "                              value_col='pIC50',\n",
    "                              output_value_col='avg_pIC50',\n",
    "                              id_col='molecule_chembl_id',\n",
    "                              smiles_col='base_rdkit_smiles',\n",
    "                              relation_col='fixed_relation',\n",
    "                              label_actives=False\n",
    "                         )\n",
    "     return df\n",
    "\n",
    "for f in ['kcna3_ic50.csv', 'scn5a_ic50.csv']:\n",
    "     df = pd.read_csv(f)\n",
    "     df = curate(df)\n",
    "     print(df.columns)\n",
    "     df.to_csv('curated_'+f, index=False)"
   ]
  },
  {
   "cell_type": "markdown",
   "metadata": {},
   "source": [
    "### Multi-task data\n",
    "\n",
    "Now that the data is curated we can combine it with 2 other datasets that are already curated."
   ]
  },
  {
   "cell_type": "code",
   "execution_count": 9,
   "metadata": {},
   "outputs": [
    {
     "name": "stdout",
     "output_type": "stream",
     "text": [
      "Index(['compound_id', 'base_rdkit_smiles', 'relation_kcna5', 'avg_pIC50_kcna5',\n",
      "       'relation_kcna3', 'avg_pIC50_kcna3', 'relation_scn5a',\n",
      "       'avg_pIC50_scn5a'],\n",
      "      dtype='object')\n"
     ]
    }
   ],
   "source": [
    "kcna3 = pd.read_csv('curated_kcna3_ic50.csv')\n",
    "scn5a = pd.read_csv('curated_scn5a_ic50.csv')\n",
    "\n",
    "df=kcna5.merge(kcna3, how='outer', on=['compound_id', 'base_rdkit_smiles',], suffixes=['_kcna5','_kcna3'])\n",
    "scn5a.columns=['compound_id', 'base_rdkit_smiles', 'relation_scn5a', 'avg_pIC50_scn5a']\n",
    "df = df.merge(scn5a, how='outer', on=['compound_id', 'base_rdkit_smiles'])\n",
    "print(df.columns)\n",
    "df.to_csv('kcna5_kcna3_scna5a.csv', index=False)"
   ]
  },
  {
   "cell_type": "markdown",
   "metadata": {},
   "source": [
    "This plot shows there are not many SMILES that overlap between the three targets."
   ]
  },
  {
   "cell_type": "code",
   "execution_count": 10,
   "metadata": {},
   "outputs": [
    {
     "data": {
      "text/plain": [
       "<matplotlib_venn._common.VennDiagram at 0x15547df39bb0>"
      ]
     },
     "execution_count": 10,
     "metadata": {},
     "output_type": "execute_result"
    },
    {
     "data": {
      "image/png": "[encoded data removed]",
      "text/plain": [
       "<Figure size 432x288 with 1 Axes>"
      ]
     },
     "metadata": {},
     "output_type": "display_data"
    }
   ],
   "source": [
    "import matplotlib_venn as mpv\n",
    "mpv.venn3([set(df.loc[~df.avg_pIC50_kcna5.isna(), 'base_rdkit_smiles']),\n",
    "           set(df.loc[~df.avg_pIC50_kcna3.isna(), 'base_rdkit_smiles']),\n",
    "           set(df.loc[~df.avg_pIC50_scn5a.isna(), 'base_rdkit_smiles']),],\n",
    "          set_labels=['KCNA5','KCNA3','SCN5A'])"
   ]
  }
 ],
 "metadata": {
  "kernelspec": {
   "display_name": "AMPL_virtualenv_1.6",
   "language": "python",
   "name": "python3"
  },
  "language_info": {
   "codemirror_mode": {
    "name": "ipython",
    "version": 3
   },
   "file_extension": ".py",
   "mimetype": "text/x-python",
   "name": "python",
   "nbconvert_exporter": "python",
   "pygments_lexer": "ipython3",
   "version": "3.9.12"
  },
  "orig_nbformat": 4
 },
 "nbformat": 4,
 "nbformat_minor": 2
}
