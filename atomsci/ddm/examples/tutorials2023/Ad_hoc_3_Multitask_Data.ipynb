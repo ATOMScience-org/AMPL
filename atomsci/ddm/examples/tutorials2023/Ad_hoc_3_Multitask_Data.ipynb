{
 "cells": [
  {
   "cell_type": "markdown",
   "metadata": {},
   "source": [
    "# Preparing a Multi-task Dataset\n",
    "\n",
    "The dataset we created in Tutorial 2 can be used to train \"single-task\" models, which are models that predict values for one response variable (in this case, the $pIC_{50}$ for compounds that inhibit the KCNA3 ion\n",
    "channel). AMPL also enables you to train \"multi-task\" models that can predict multiple response variables from one set of inputs. This can be beneficial when you have a set of target proteins that are similar structurally or in\n",
    "some way; features of molecules that predict their actions on one target may predict their actions against \n",
    "other targets as well.\n",
    "\n",
    "In this tutorial, we will encapsulate the steps we performed in Tutorial 2 into a 'curate' function, which we will apply to 3 datasets: our original KCNA3 dataset,\n",
    "plus similar datasets for the ion channels KCNA5 and SCN5A. We will then combine the curated datasets for the individual targets to produce one \"multi-task\" dataset."
   ]
  },
  {
   "cell_type": "markdown",
   "metadata": {},
   "source": [
    "## Encapsulating the Curation Process\n",
    "To make it easier to apply the same curation steps to multiple datasets, we define a `curate` function as follows. This function simply calls the AMPL functions\n",
    "that we used in Tutorial 2:"
   ]
  },
  {
   "cell_type": "code",
   "execution_count": 1,
   "metadata": {},
   "outputs": [],
   "source": [
    "import os\n",
    "import pandas as pd\n",
    "\n",
    "from atomsci.ddm.utils.struct_utils import base_smiles_from_smiles\n",
    "from atomsci.ddm.utils.data_curation_functions import compute_negative_log_responses, standardize_relations\n",
    "from atomsci.ddm.utils.curate_data import remove_outlier_replicates, aggregate_assay_data\n",
    "\n",
    "\n",
    "def curate(df):\n",
    "     # Standardize SMILES strings\n",
    "     df['base_rdkit_smiles'] = base_smiles_from_smiles(df.smiles.tolist(), workers=8)\n",
    "\n",
    "     # Convert IC50s to pIC50s\n",
    "     df = compute_negative_log_responses(df, \n",
    "                              unit_col='standard_units',\n",
    "                              value_col='standard_value',\n",
    "                              new_value_col='pIC50',\n",
    "                              relation_col='standard_relation',\n",
    "                              unit_conv={'µM':lambda x: x*1e-6, 'nM':lambda x: x*1e-9},\n",
    "                              inplace=False)\n",
    "     \n",
    "     # Standardize relations for censored data\n",
    "     df = standardize_relations(df, db='ChEMBL', \n",
    "                    rel_col='standard_relation',\n",
    "                    output_rel_col='fixed_relation')\n",
    "\n",
    "     # Remove outliers\n",
    "     df = remove_outlier_replicates(df, id_col='molecule_chembl_id',\n",
    "                                   response_col='pIC50', max_diff_from_median=1.0)\n",
    "\n",
    "     # Average/aggregate replicate values\n",
    "     df = aggregate_assay_data(df, \n",
    "                              value_col='pIC50',\n",
    "                              output_value_col='avg_pIC50',\n",
    "                              id_col='molecule_chembl_id',\n",
    "                              smiles_col='base_rdkit_smiles',\n",
    "                              relation_col='fixed_relation',\n",
    "                              label_actives=False\n",
    "                         )\n",
    "     return df"
   ]
  },
  {
   "cell_type": "markdown",
   "metadata": {},
   "source": [
    "We use this function to curate datasets for three related targets (all ion channel proteins):"
   ]
  },
  {
   "cell_type": "code",
   "execution_count": 2,
   "metadata": {},
   "outputs": [
    {
     "name": "stdout",
     "output_type": "stream",
     "text": [
      "kcna3_ic50.csv\n",
      "\n",
      "Original data shape:  (891, 6)\n",
      "Removed 19 pIC50 replicate measurements that were > 1.0 from median\n",
      "Curated data shape:  (514, 4)\n",
      "Index(['compound_id', 'base_rdkit_smiles', 'relation', 'avg_pIC50'], dtype='object') \n",
      "\n",
      "kcna5_ic50.csv\n",
      "\n",
      "Original data shape:  (880, 6)\n",
      "Removed 1 pIC50 replicate measurements that were > 1.0 from median\n",
      "Curated data shape:  (802, 4)\n",
      "Index(['compound_id', 'base_rdkit_smiles', 'relation', 'avg_pIC50'], dtype='object') \n",
      "\n",
      "scn5a_ic50.csv\n",
      "\n",
      "Original data shape:  (2368, 6)\n",
      "Removed 20 pIC50 replicate measurements that were > 1.0 from median\n",
      "Curated data shape:  (2036, 4)\n",
      "Index(['compound_id', 'base_rdkit_smiles', 'relation', 'avg_pIC50'], dtype='object') \n",
      "\n"
     ]
    }
   ],
   "source": [
    "for f in ['kcna3_ic50.csv', 'kcna5_ic50.csv', 'scn5a_ic50.csv']:\n",
    "     print(f'{f}\\n')\n",
    "     df = pd.read_csv(os.path.join('dataset', f))\n",
    "     print(\"Original data shape: \", df.shape)\n",
    "     df = curate(df)\n",
    "     print(\"Curated data shape: \", df.shape)\n",
    "     print(df.columns, '\\n')\n",
    "     df.to_csv('dataset/curated_'+f, index=False)"
   ]
  },
  {
   "cell_type": "markdown",
   "metadata": {},
   "source": [
    "## Combine Single-Task Datasets into One Multi-Task Dataset\n",
    "We use the `pandas` [merge](https://pandas.pydata.org/docs/reference/api/pandas.DataFrame.merge.html) function to combine the three curated datasets into one:"
   ]
  },
  {
   "cell_type": "code",
   "execution_count": 3,
   "metadata": {},
   "outputs": [
    {
     "name": "stdout",
     "output_type": "stream",
     "text": [
      "['compound_id' 'base_rdkit_smiles' 'relation_kcna5' 'avg_pIC50_kcna5'\n",
      " 'relation_kcna3' 'avg_pIC50_kcna3' 'relation_scn5a' 'avg_pIC50_scn5a']\n"
     ]
    }
   ],
   "source": [
    "kcna5 = pd.read_csv('dataset/curated_kcna5_ic50.csv')\n",
    "kcna3 = pd.read_csv('dataset/curated_kcna3_ic50.csv')\n",
    "scn5a = pd.read_csv('dataset/curated_scn5a_ic50.csv')\n",
    "\n",
    "df = kcna5.merge(kcna3, how='outer', on=['compound_id', 'base_rdkit_smiles',], suffixes=['_kcna5', None])\n",
    "df = df.merge(scn5a, how='outer', on=['compound_id', 'base_rdkit_smiles'], suffixes=['_kcna3', '_scn5a'])\n",
    "print(df.columns.values)\n",
    "df.to_csv('dataset/kcna5_kcna3_scna5a.csv', index=False)"
   ]
  },
  {
   "cell_type": "code",
   "execution_count": 4,
   "metadata": {},
   "outputs": [
    {
     "data": {
      "text/html": [
       "<div>\n",
       "<style scoped>\n",
       "    .dataframe tbody tr th:only-of-type {\n",
       "        vertical-align: middle;\n",
       "    }\n",
       "\n",
       "    .dataframe tbody tr th {\n",
       "        vertical-align: top;\n",
       "    }\n",
       "\n",
       "    .dataframe thead th {\n",
       "        text-align: right;\n",
       "    }\n",
       "</style>\n",
       "<table border=\"1\" class=\"dataframe\">\n",
       "  <thead>\n",
       "    <tr style=\"text-align: right;\">\n",
       "      <th></th>\n",
       "      <th>compound_id</th>\n",
       "      <th>base_rdkit_smiles</th>\n",
       "      <th>relation_kcna5</th>\n",
       "      <th>avg_pIC50_kcna5</th>\n",
       "      <th>relation_kcna3</th>\n",
       "      <th>avg_pIC50_kcna3</th>\n",
       "      <th>relation_scn5a</th>\n",
       "      <th>avg_pIC50_scn5a</th>\n",
       "    </tr>\n",
       "  </thead>\n",
       "  <tbody>\n",
       "    <tr>\n",
       "      <th>0</th>\n",
       "      <td>CHEMBL1294</td>\n",
       "      <td>C=C[C@H]1CN2CC[C@H]1C[C@@H]2[C@@H](O)c1ccnc2cc...</td>\n",
       "      <td>NaN</td>\n",
       "      <td>5.136677</td>\n",
       "      <td>NaN</td>\n",
       "      <td>NaN</td>\n",
       "      <td>NaN</td>\n",
       "      <td>4.970521</td>\n",
       "    </tr>\n",
       "    <tr>\n",
       "      <th>1</th>\n",
       "      <td>CHEMBL4081003</td>\n",
       "      <td>CC(=O)NC(c1ccccc1-c1cc(Cl)cc(Cl)c1)C(c1cccnc1)...</td>\n",
       "      <td>NaN</td>\n",
       "      <td>6.829738</td>\n",
       "      <td>NaN</td>\n",
       "      <td>NaN</td>\n",
       "      <td>NaN</td>\n",
       "      <td>NaN</td>\n",
       "    </tr>\n",
       "    <tr>\n",
       "      <th>2</th>\n",
       "      <td>CHEMBL1290619</td>\n",
       "      <td>CC(=O)NCC(C)(C)CN(C1=NS(=O)(=O)c2cc(F)ccc21)c1...</td>\n",
       "      <td>NaN</td>\n",
       "      <td>5.928118</td>\n",
       "      <td>NaN</td>\n",
       "      <td>5.928118</td>\n",
       "      <td>NaN</td>\n",
       "      <td>NaN</td>\n",
       "    </tr>\n",
       "    <tr>\n",
       "      <th>3</th>\n",
       "      <td>CHEMBL584507</td>\n",
       "      <td>CC(=O)Nc1ccc2c(c1)nc(C1=C(C)Nc3ccnn3C1c1ccc(Cl...</td>\n",
       "      <td>&lt;</td>\n",
       "      <td>6.000000</td>\n",
       "      <td>NaN</td>\n",
       "      <td>NaN</td>\n",
       "      <td>NaN</td>\n",
       "      <td>NaN</td>\n",
       "    </tr>\n",
       "    <tr>\n",
       "      <th>4</th>\n",
       "      <td>CHEMBL1813048</td>\n",
       "      <td>CC(=O)Nc1cccc(Nc2ncnc(N3CCC(OCc4ccc(OC(F)(F)F)...</td>\n",
       "      <td>&lt;</td>\n",
       "      <td>4.477556</td>\n",
       "      <td>NaN</td>\n",
       "      <td>NaN</td>\n",
       "      <td>NaN</td>\n",
       "      <td>5.345111</td>\n",
       "    </tr>\n",
       "  </tbody>\n",
       "</table>\n",
       "</div>"
      ],
      "text/plain": [
       "     compound_id                                  base_rdkit_smiles  \\\n",
       "0     CHEMBL1294  C=C[C@H]1CN2CC[C@H]1C[C@@H]2[C@@H](O)c1ccnc2cc...   \n",
       "1  CHEMBL4081003  CC(=O)NC(c1ccccc1-c1cc(Cl)cc(Cl)c1)C(c1cccnc1)...   \n",
       "2  CHEMBL1290619  CC(=O)NCC(C)(C)CN(C1=NS(=O)(=O)c2cc(F)ccc21)c1...   \n",
       "3   CHEMBL584507  CC(=O)Nc1ccc2c(c1)nc(C1=C(C)Nc3ccnn3C1c1ccc(Cl...   \n",
       "4  CHEMBL1813048  CC(=O)Nc1cccc(Nc2ncnc(N3CCC(OCc4ccc(OC(F)(F)F)...   \n",
       "\n",
       "  relation_kcna5  avg_pIC50_kcna5 relation_kcna3  avg_pIC50_kcna3  \\\n",
       "0            NaN         5.136677            NaN              NaN   \n",
       "1            NaN         6.829738            NaN              NaN   \n",
       "2            NaN         5.928118            NaN         5.928118   \n",
       "3              <         6.000000            NaN              NaN   \n",
       "4              <         4.477556            NaN              NaN   \n",
       "\n",
       "  relation_scn5a  avg_pIC50_scn5a  \n",
       "0            NaN         4.970521  \n",
       "1            NaN              NaN  \n",
       "2            NaN              NaN  \n",
       "3            NaN              NaN  \n",
       "4            NaN         5.345111  "
      ]
     },
     "execution_count": 4,
     "metadata": {},
     "output_type": "execute_result"
    }
   ],
   "source": [
    "df.head()"
   ]
  },
  {
   "cell_type": "markdown",
   "metadata": {},
   "source": [
    "In the table above, we see NaN's in the avg_pIC50 columns on rows where there are data for some targets but not others. For a multitask dataset, we generally want to have some compounds with data for more than one target. We can plot a Venn diagram to see how many compounds have $pIC_{50}$'s for each pair of targets and for all three."
   ]
  },
  {
   "cell_type": "code",
   "execution_count": 5,
   "metadata": {},
   "outputs": [
    {
     "data": {
      "image/png": "[encoded data removed]",
      "text/plain": [
       "<Figure size 432x288 with 1 Axes>"
      ]
     },
     "metadata": {},
     "output_type": "display_data"
    }
   ],
   "source": [
    "import matplotlib_venn as mpv\n",
    "_ = mpv.venn3([set(df.loc[df.avg_pIC50_kcna5.notna(), 'base_rdkit_smiles']),\n",
    "           set(df.loc[df.avg_pIC50_kcna3.notna(), 'base_rdkit_smiles']),\n",
    "           set(df.loc[df.avg_pIC50_scn5a.notna(), 'base_rdkit_smiles']),],\n",
    "          set_labels=['KCNA5','KCNA3','SCN5A'])"
   ]
  },
  {
   "cell_type": "markdown",
   "metadata": {},
   "source": [
    "In this dataset, there is a little overlap between the target-specific compound sets, though not as much as we'd prefer for multitask modeling. Nevertheless,\n",
    "in a later tutorial we'll use this dataset to demonstrate how to perform a multitask scaffold split and how to train a multitask regression model."
   ]
  },
  {
   "cell_type": "code",
   "execution_count": null,
   "metadata": {},
   "outputs": [],
   "source": []
  }
 ],
 "metadata": {
  "kernelspec": {
   "display_name": "Python 3.9.12 for AMPL 1.6",
   "language": "python",
   "name": "ampl16_py38"
  },
  "language_info": {
   "codemirror_mode": {
    "name": "ipython",
    "version": 3
   },
   "file_extension": ".py",
   "mimetype": "text/x-python",
   "name": "python",
   "nbconvert_exporter": "python",
   "pygments_lexer": "ipython3",
   "version": "3.9.12"
  }
 },
 "nbformat": 4,
 "nbformat_minor": 4
}
