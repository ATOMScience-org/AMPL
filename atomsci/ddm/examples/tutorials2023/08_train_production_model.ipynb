{
 "cells": [
  {
   "cell_type": "markdown",
   "id": "abcd9004",
   "metadata": {},
   "source": [
    "# Train a Production Model\n",
    "\n",
    "In this tutorial, you will use the existing hyperparameters that yielded the best performing model in the previous Tutorial 7 to train a production model on the full dataset, rather than just the training subset from a scaffold split. Deploying a model trained on the full dataset is one approach for a production model. Another approach, not demonstrated in this tutorial, could be combining the train and valid splits for training and evaluating with the test split. [K-fold cross validation](https://en.wikipedia.org/wiki/Cross-validation_(statistics)#k-fold_cross-validation) makes use of this approach. The production model could be shared with other researchers to predict on new data. When there is an updated version of the model input datasets, a model should be trained from scratch and *then* a new version of the production model should be generated. \n",
    "\n",
    "We will use these functions to retrain a best model for production and compare the production model with the best model. **Retrain doesn't replace the existing model; it creates a new model based on the same hyperparameters.** If there is an updated major AMPL version, the retrain method could also be used to update the model's AMPL version, not demonstrated in this tutorial. The `model_retrain` module provides a simple way to update models trained with a previous AMPL version.\n",
    "- [create_prediction_pipeline_from_file](https://ampl.readthedocs.io/en/latest/pipeline.html#pipeline.model_pipeline.create_prediction_pipeline_from_file)\n",
    "- [train_model_from_tar](https://ampl.readthedocs.io/en/latest/utils.html#utils.model_retrain.train_model_from_tar)\n",
    "\n",
    "We will use functions covered in Tutorial 5 to apply the models."
   ]
  },
  {
   "cell_type": "markdown",
   "id": "1dc6947f",
   "metadata": {},
   "source": [
    ">**Comments**\n",
    ">1. The first sentence doesn't make it clear what's going to be happening here. Try this:\n",
    ">>\"In this tutorial, you will use the hyperparameters that yielded the best performing model in the previous tutorial to train a \"production\" model on the full dataset, rather than just the\n",
    "training subset from a scaffold split.\"\n",
    ">2. I think we should avoid suggesting that deploying a model trained on the full dataset is best data science practice. It's more like, if that's what you prefer to do, AMPL provides an easy way to do it. Therefore, I would drop the second sentence and keep the third one, which says the same thing only a lot more clearly.\n",
    ">3. Arguably, when the model input dataset is updated, the model should be retrained from scratch, and _then_ a production model should be generated.\n",
    ">4. I don't understand how one would do what you suggest in the 4th sentence - how would you use the production models to assess performance over time?"
   ]
  },
  {
   "cell_type": "markdown",
   "id": "254fc8be",
   "metadata": {},
   "source": [
    "## Import Packages"
   ]
  },
  {
   "cell_type": "code",
   "execution_count": 1,
   "id": "5ec4c370",
   "metadata": {
    "scrolled": true
   },
   "outputs": [
    {
     "name": "stderr",
     "output_type": "stream",
     "text": [
      "2024-03-12 18:25:05.918685: E tensorflow/compiler/xla/stream_executor/cuda/cuda_dnn.cc:9342] Unable to register cuDNN factory: Attempting to register factory for plugin cuDNN when one has already been registered\n",
      "2024-03-12 18:25:05.918756: E tensorflow/compiler/xla/stream_executor/cuda/cuda_fft.cc:609] Unable to register cuFFT factory: Attempting to register factory for plugin cuFFT when one has already been registered\n",
      "2024-03-12 18:25:05.918801: E tensorflow/compiler/xla/stream_executor/cuda/cuda_blas.cc:1518] Unable to register cuBLAS factory: Attempting to register factory for plugin cuBLAS when one has already been registered\n",
      "2024-03-12 18:25:05.931360: I tensorflow/core/platform/cpu_feature_guard.cc:182] This TensorFlow binary is optimized to use available CPU instructions in performance-critical operations.\n",
      "To enable the following instructions: AVX2 FMA, in other operations, rebuild TensorFlow with the appropriate compiler flags.\n",
      "2024-03-12 18:25:08.761216: W tensorflow/compiler/tf2tensorrt/utils/py_utils.cc:38] TF-TRT Warning: Could not find TensorRT\n",
      "WARNING:deepchem.models:Skipped loading some Jax models, missing a dependency. No module named 'haiku'\n",
      "/usr/WS2/torres49/ampl/1_6_1/atomsci_env/lib/python3.9/site-packages/tqdm/auto.py:21: TqdmWarning: IProgress not found. Please update jupyter and ipywidgets. See https://ipywidgets.readthedocs.io/en/stable/user_install.html\n",
      "  from .autonotebook import tqdm as notebook_tqdm\n"
     ]
    }
   ],
   "source": [
    "import pandas as pd\n",
    "import os\n",
    "from atomsci.ddm.utils import model_retrain as mr\n",
    "from atomsci.ddm.utils import model_version_utils as mv\n",
    "from atomsci.ddm.pipeline import model_pipeline as mp\n",
    "from atomsci.ddm.pipeline import predict_from_model as pfm\n",
    "from atomsci.ddm.pipeline import perf_plots as pp\n",
    "from sklearn.metrics import r2_score\n",
    "import numpy as np\n",
    "import matplotlib.pyplot as plt\n",
    "\n",
    "import warnings\n",
    "warnings.filterwarnings('ignore', category=FutureWarning)"
   ]
  },
  {
   "cell_type": "markdown",
   "id": "1ddf9c33",
   "metadata": {},
   "source": [
    "## Start from saved best model\n",
    "\n",
    "We're using the best performing model by valid $R^2$ score from Tutorial 7. This was a RF model. \n",
    "\n",
    "`dataset/SLC6A3_models/SLC6A3_Ki_curated_model_9b6c9332-15f3-4f96-9579-bf407d0b69a8.tar.gz\n",
    "Best valid r2 score:  0.5595899501867392\n",
    "Model Parameters:  {\"rf_estimators\": 129, \"rf_max_depth\": 32, \"rf_max_features\": 95}`\n",
    "\n",
    "Retraining a model trains based on the saved model_metadata. The model_metadata contains the model (hyper)parameters saved in the model target file. If the model_params `production` is `True`, *all* splitting related parameters will be ignored. `create_prediction_pipeline_from_file` will reload the saved model. The default model param sets `production` to `False`. The AMPL version is checked in case this is a saved model from a previous version of AMPL. The saved model AMPL version must match the installed major AMPL version in order to be used by `create_prediction_pipeline_from_file`."
   ]
  },
  {
   "cell_type": "markdown",
   "id": "d936bb63",
   "metadata": {},
   "source": [
    ">**Comments:**\n",
    "1. \"Setting the production parameter to True\" _where_???\n",
    "2. Have we talked about \"model metadata\" in any of the previous tutorials? I suspect not, so you have to clarify that this refers to the model (hyper)parameters saved in the model tarball file.\n",
    "3. You need to say that *all* splitting related parameters are ignored, not just `previously_split`.\n",
    "4. What do you mean by the \"production split\"?\n",
    "5. Is it really true that the saved model AMPL version must match the installed version? Why? The whole idea of the `model_retrain` module, after all, is to provide a simple way to update models trained with a previous AMPL version."
   ]
  },
  {
   "cell_type": "code",
   "execution_count": 2,
   "id": "a358aa53",
   "metadata": {},
   "outputs": [
    {
     "name": "stderr",
     "output_type": "stream",
     "text": [
      "INFO:atomsci.ddm.utils.model_version_utils:dataset/SLC6A3_models/SLC6A3_Ki_curated_model_9b6c9332-15f3-4f96-9579-bf407d0b69a8.tar.gz, 1.6.0\n",
      "INFO:atomsci.ddm.utils.model_version_utils:dataset/SLC6A3_models/SLC6A3_Ki_curated_model_9b6c9332-15f3-4f96-9579-bf407d0b69a8.tar.gz, 1.6.0\n",
      "INFO:atomsci.ddm.utils.model_version_utils:Version compatible check: dataset/SLC6A3_models/SLC6A3_Ki_curated_model_9b6c9332-15f3-4f96-9579-bf407d0b69a8.tar.gz version = \"1.6\", AMPL version = \"1.6\"\n"
     ]
    },
    {
     "name": "stdout",
     "output_type": "stream",
     "text": [
      "installed AMPL version: 1.6.1\n",
      "best model AMPL version: 1.6.0\n"
     ]
    },
    {
     "name": "stderr",
     "output_type": "stream",
     "text": [
      "WARNING:ATOM:['ampl_version', 'time_generated', 'time_built', 'dataset_hash', 'dataset_metadata', 'training_metrics'] are not part of the accepted list of parameters and will be ignored\n"
     ]
    },
    {
     "name": "stdout",
     "output_type": "stream",
     "text": [
      "num_model_tasks is deprecated and its value is ignored.\n",
      "orig_params.production: False\n"
     ]
    }
   ],
   "source": [
    "#Tutorial 7 RF saved model_path\n",
    "best_model_path='dataset/SLC6A3_models/SLC6A3_Ki_curated_model_9b6c9332-15f3-4f96-9579-bf407d0b69a8.tar.gz'\n",
    "\n",
    "#get installed AMPL version\n",
    "print(\"installed AMPL version: \" + str(mv.get_ampl_version()))\n",
    "\n",
    "#get AMPL model version\n",
    "print(\"best model AMPL version: \" + str(mv.get_ampl_version_from_model(best_model_path)))\n",
    "\n",
    "#load best model production params\n",
    "best_model_pipe = mp.create_prediction_pipeline_from_file(params=None, reload_dir=None, model_path=best_model_path, model_type='best_model', featurization=None, verbose=False)\n",
    "\n",
    "#show production is false\n",
    "print(\"orig_params.production: \" + str(best_model_pipe.orig_params.production))"
   ]
  },
  {
   "cell_type": "markdown",
   "id": "52d032a9",
   "metadata": {},
   "source": [
    "## Retrain best model as production model\n",
    "\n",
    "Setting the `production` argument for `train_model_from_tar` to `True` will set `production=True` in the model params. If the `production` argument for `train_model_from_tar` is `False`, the model will be retrained without changing any parameters. Note the production model's model parameter `production` is set to `True`."
   ]
  },
  {
   "cell_type": "code",
   "execution_count": 3,
   "id": "447740de",
   "metadata": {},
   "outputs": [
    {
     "name": "stdout",
     "output_type": "stream",
     "text": [
      "num_model_tasks is deprecated and its value is ignored.\n"
     ]
    }
   ],
   "source": [
    "odir='dataset/SLC6A3_models'\n",
    "\n",
    "production_model = mr.train_model_from_tar(input=best_model_path, output=odir, production=True)\n",
    "\n",
    "#check for parameters"
   ]
  },
  {
   "cell_type": "markdown",
   "id": "86bfa6f3",
   "metadata": {},
   "source": [
    ">**Comments:**\n",
    ">1. Need to clarify: instead of \"the retrain production setting\", say \"the `production` argument to `train_model_from_tar`\".\n",
    ">2. Need to fix the docstrings for model_retrain functions `train_model_from_tar` and `train_model_from_tracker`; both return a ModelPipeline object, but the doc says they return None.\n",
    ">3. It might be misleading to refer to \"retraining\" a model. Should clarify somewhere that \"retraining\" doesn't replace the existing model; it creates a new model based on the same hyperparameters."
   ]
  },
  {
   "cell_type": "code",
   "execution_count": 4,
   "id": "31c1c568",
   "metadata": {},
   "outputs": [
    {
     "name": "stderr",
     "output_type": "stream",
     "text": [
      "INFO:atomsci.ddm.utils.model_version_utils:dataset/SLC6A3_models/SLC6A3_Ki_curated_model_31d12602-b87b-4b19-b921-a0c405e54f30.tar.gz, 1.6.1\n"
     ]
    },
    {
     "name": "stdout",
     "output_type": "stream",
     "text": [
      "production_model.params.production: True\n",
      "production_model.params.model_tarball_path: dataset/SLC6A3_models/SLC6A3_Ki_curated_model_31d12602-b87b-4b19-b921-a0c405e54f30.tar.gz\n",
      "production model AMPL version: 1.6.1\n"
     ]
    }
   ],
   "source": [
    "print(\"production_model.params.production: \" + str(production_model.params.production))\n",
    "print(\"production_model.params.model_tarball_path: \" + str(production_model.params.model_tarball_path))\n",
    "\n",
    "print(\"production model AMPL version: \" + str(mv.get_ampl_version_from_model(production_model.params.model_tarball_path)))"
   ]
  },
  {
   "cell_type": "markdown",
   "id": "dddd8709",
   "metadata": {},
   "source": [
    "## Setup separate external test dataset\n",
    "\n",
    "This is following Tutorial 5's steps for applying the models. This will compare the original best model and the production model, using a separate dataset that is structurally distant from everything in the production dataset. Note that since the production model is trained on all data, including the test subset, the original test subset **shouldn't** be used to evaluate the performance."
   ]
  },
  {
   "cell_type": "markdown",
   "id": "7ef59af3",
   "metadata": {},
   "source": [
    ">**Comments:**\n",
    ">Yes, it would be *much* better to evaluate the production model on a separate dataset, ideally one whose compounds are structurally distant from everything in the production dataset. I created such a dataset from GoStar data; we should try it out and compare performance on that dataset between the original best model and the production model."
   ]
  },
  {
   "cell_type": "code",
   "execution_count": 5,
   "id": "624990bc",
   "metadata": {},
   "outputs": [
    {
     "data": {
      "text/html": [
       "<div>\n",
       "<style scoped>\n",
       "    .dataframe tbody tr th:only-of-type {\n",
       "        vertical-align: middle;\n",
       "    }\n",
       "\n",
       "    .dataframe tbody tr th {\n",
       "        vertical-align: top;\n",
       "    }\n",
       "\n",
       "    .dataframe thead th {\n",
       "        text-align: right;\n",
       "    }\n",
       "</style>\n",
       "<table border=\"1\" class=\"dataframe\">\n",
       "  <thead>\n",
       "    <tr style=\"text-align: right;\">\n",
       "      <th></th>\n",
       "      <th>compound_id</th>\n",
       "      <th>base_rdkit_smiles</th>\n",
       "      <th>avg_pKi</th>\n",
       "      <th>MaxEStateIndex</th>\n",
       "      <th>MinEStateIndex</th>\n",
       "      <th>MaxAbsEStateIndex</th>\n",
       "      <th>MinAbsEStateIndex</th>\n",
       "      <th>qed</th>\n",
       "      <th>MolWt</th>\n",
       "      <th>HeavyAtomMolWt</th>\n",
       "      <th>...</th>\n",
       "      <th>fr_sulfide</th>\n",
       "      <th>fr_sulfonamd</th>\n",
       "      <th>fr_sulfone</th>\n",
       "      <th>fr_term_acetylene</th>\n",
       "      <th>fr_tetrazole</th>\n",
       "      <th>fr_thiazole</th>\n",
       "      <th>fr_thiocyan</th>\n",
       "      <th>fr_thiophene</th>\n",
       "      <th>fr_unbrch_alkane</th>\n",
       "      <th>fr_urea</th>\n",
       "    </tr>\n",
       "  </thead>\n",
       "  <tbody>\n",
       "    <tr>\n",
       "      <th>0</th>\n",
       "      <td>compound_346</td>\n",
       "      <td>OC(C[NH2+]C1CCC1)C1(c2ccc(Cl)c(Cl)c2)CCC1</td>\n",
       "      <td>7.958607</td>\n",
       "      <td>8.970106</td>\n",
       "      <td>-4.751902</td>\n",
       "      <td>8.970106</td>\n",
       "      <td>0.825260</td>\n",
       "      <td>0.861181</td>\n",
       "      <td>315.264</td>\n",
       "      <td>293.088</td>\n",
       "      <td>...</td>\n",
       "      <td>0</td>\n",
       "      <td>0</td>\n",
       "      <td>0</td>\n",
       "      <td>0</td>\n",
       "      <td>0</td>\n",
       "      <td>0</td>\n",
       "      <td>0</td>\n",
       "      <td>0</td>\n",
       "      <td>0</td>\n",
       "      <td>0</td>\n",
       "    </tr>\n",
       "    <tr>\n",
       "      <th>1</th>\n",
       "      <td>compound_225</td>\n",
       "      <td>CN1Cc2ccccc2C(C)(c2ccc3[nH]ncc3c2)C1</td>\n",
       "      <td>6.587660</td>\n",
       "      <td>8.993202</td>\n",
       "      <td>-4.010824</td>\n",
       "      <td>8.993202</td>\n",
       "      <td>0.226986</td>\n",
       "      <td>0.739733</td>\n",
       "      <td>277.371</td>\n",
       "      <td>258.219</td>\n",
       "      <td>...</td>\n",
       "      <td>0</td>\n",
       "      <td>0</td>\n",
       "      <td>0</td>\n",
       "      <td>0</td>\n",
       "      <td>0</td>\n",
       "      <td>0</td>\n",
       "      <td>0</td>\n",
       "      <td>0</td>\n",
       "      <td>0</td>\n",
       "      <td>0</td>\n",
       "    </tr>\n",
       "    <tr>\n",
       "      <th>2</th>\n",
       "      <td>compound_166</td>\n",
       "      <td>O=C(O)C(/C=C/c1ccccc1)C1CCN(CCOC(c2ccccc2)c2cc...</td>\n",
       "      <td>5.430275</td>\n",
       "      <td>13.525088</td>\n",
       "      <td>-5.060732</td>\n",
       "      <td>13.525088</td>\n",
       "      <td>1.095764</td>\n",
       "      <td>0.412331</td>\n",
       "      <td>455.598</td>\n",
       "      <td>422.334</td>\n",
       "      <td>...</td>\n",
       "      <td>0</td>\n",
       "      <td>0</td>\n",
       "      <td>0</td>\n",
       "      <td>0</td>\n",
       "      <td>0</td>\n",
       "      <td>0</td>\n",
       "      <td>0</td>\n",
       "      <td>0</td>\n",
       "      <td>0</td>\n",
       "      <td>0</td>\n",
       "    </tr>\n",
       "    <tr>\n",
       "      <th>3</th>\n",
       "      <td>compound_310</td>\n",
       "      <td>CN1Cc2cc(-c3cccnn3)ccc2C(C)(c2cc3ccccc3[nH]2)C1</td>\n",
       "      <td>6.000000</td>\n",
       "      <td>9.204719</td>\n",
       "      <td>-4.140132</td>\n",
       "      <td>9.204719</td>\n",
       "      <td>0.018450</td>\n",
       "      <td>0.581059</td>\n",
       "      <td>354.457</td>\n",
       "      <td>332.281</td>\n",
       "      <td>...</td>\n",
       "      <td>0</td>\n",
       "      <td>0</td>\n",
       "      <td>0</td>\n",
       "      <td>0</td>\n",
       "      <td>0</td>\n",
       "      <td>0</td>\n",
       "      <td>0</td>\n",
       "      <td>0</td>\n",
       "      <td>0</td>\n",
       "      <td>0</td>\n",
       "    </tr>\n",
       "    <tr>\n",
       "      <th>4</th>\n",
       "      <td>compound_284</td>\n",
       "      <td>CN1Cc2ccccc2C(F)(c2ccc3sccc3c2)C1</td>\n",
       "      <td>6.587660</td>\n",
       "      <td>17.710445</td>\n",
       "      <td>-4.117619</td>\n",
       "      <td>17.710445</td>\n",
       "      <td>0.229708</td>\n",
       "      <td>0.636234</td>\n",
       "      <td>297.398</td>\n",
       "      <td>281.270</td>\n",
       "      <td>...</td>\n",
       "      <td>0</td>\n",
       "      <td>0</td>\n",
       "      <td>0</td>\n",
       "      <td>0</td>\n",
       "      <td>0</td>\n",
       "      <td>0</td>\n",
       "      <td>0</td>\n",
       "      <td>1</td>\n",
       "      <td>0</td>\n",
       "      <td>0</td>\n",
       "    </tr>\n",
       "  </tbody>\n",
       "</table>\n",
       "<p>5 rows × 203 columns</p>\n",
       "</div>"
      ],
      "text/plain": [
       "    compound_id                                  base_rdkit_smiles   avg_pKi  \\\n",
       "0  compound_346          OC(C[NH2+]C1CCC1)C1(c2ccc(Cl)c(Cl)c2)CCC1  7.958607   \n",
       "1  compound_225               CN1Cc2ccccc2C(C)(c2ccc3[nH]ncc3c2)C1  6.587660   \n",
       "2  compound_166  O=C(O)C(/C=C/c1ccccc1)C1CCN(CCOC(c2ccccc2)c2cc...  5.430275   \n",
       "3  compound_310    CN1Cc2cc(-c3cccnn3)ccc2C(C)(c2cc3ccccc3[nH]2)C1  6.000000   \n",
       "4  compound_284                  CN1Cc2ccccc2C(F)(c2ccc3sccc3c2)C1  6.587660   \n",
       "\n",
       "   MaxEStateIndex  MinEStateIndex  MaxAbsEStateIndex  MinAbsEStateIndex  \\\n",
       "0        8.970106       -4.751902           8.970106           0.825260   \n",
       "1        8.993202       -4.010824           8.993202           0.226986   \n",
       "2       13.525088       -5.060732          13.525088           1.095764   \n",
       "3        9.204719       -4.140132           9.204719           0.018450   \n",
       "4       17.710445       -4.117619          17.710445           0.229708   \n",
       "\n",
       "        qed    MolWt  HeavyAtomMolWt  ...  fr_sulfide  fr_sulfonamd  \\\n",
       "0  0.861181  315.264         293.088  ...           0             0   \n",
       "1  0.739733  277.371         258.219  ...           0             0   \n",
       "2  0.412331  455.598         422.334  ...           0             0   \n",
       "3  0.581059  354.457         332.281  ...           0             0   \n",
       "4  0.636234  297.398         281.270  ...           0             0   \n",
       "\n",
       "   fr_sulfone  fr_term_acetylene  fr_tetrazole  fr_thiazole  fr_thiocyan  \\\n",
       "0           0                  0             0            0            0   \n",
       "1           0                  0             0            0            0   \n",
       "2           0                  0             0            0            0   \n",
       "3           0                  0             0            0            0   \n",
       "4           0                  0             0            0            0   \n",
       "\n",
       "   fr_thiophene  fr_unbrch_alkane  fr_urea  \n",
       "0             0                 0        0  \n",
       "1             0                 0        0  \n",
       "2             0                 0        0  \n",
       "3             0                 0        0  \n",
       "4             1                 0        0  \n",
       "\n",
       "[5 rows x 203 columns]"
      ]
     },
     "execution_count": 5,
     "metadata": {},
     "output_type": "execute_result"
    }
   ],
   "source": [
    "#test_file_path = 'dataset/SLC6A3_Ki_ext_test_data.csv'\n",
    "test_file_path = 'dataset/scaled_descriptors/SLC6A3_Ki_ext_test_data_with_rdkit_raw_descriptors.csv'\n",
    "test_data = pd.read_csv(test_file_path)\n",
    "\n",
    "test_data.head()"
   ]
  },
  {
   "cell_type": "markdown",
   "id": "52d78fb0",
   "metadata": {},
   "source": [
    "## Apply best model"
   ]
  },
  {
   "cell_type": "code",
   "execution_count": 6,
   "id": "91259674",
   "metadata": {},
   "outputs": [
    {
     "name": "stdout",
     "output_type": "stream",
     "text": [
      "dataset/SLC6A3_models/SLC6A3_Ki_curated_model_9b6c9332-15f3-4f96-9579-bf407d0b69a8.tar.gz\n",
      "Standardizing SMILES strings for 533 compounds.\n"
     ]
    },
    {
     "name": "stderr",
     "output_type": "stream",
     "text": [
      "INFO:atomsci.ddm.utils.model_version_utils:dataset/SLC6A3_models/SLC6A3_Ki_curated_model_9b6c9332-15f3-4f96-9579-bf407d0b69a8.tar.gz, 1.6.0\n",
      "INFO:atomsci.ddm.utils.model_version_utils:Version compatible check: dataset/SLC6A3_models/SLC6A3_Ki_curated_model_9b6c9332-15f3-4f96-9579-bf407d0b69a8.tar.gz version = \"1.6\", AMPL version = \"1.6\"\n"
     ]
    },
    {
     "name": "stdout",
     "output_type": "stream",
     "text": [
      "num_model_tasks is deprecated and its value is ignored.\n"
     ]
    },
    {
     "data": {
      "text/html": [
       "<div>\n",
       "<style scoped>\n",
       "    .dataframe tbody tr th:only-of-type {\n",
       "        vertical-align: middle;\n",
       "    }\n",
       "\n",
       "    .dataframe tbody tr th {\n",
       "        vertical-align: top;\n",
       "    }\n",
       "\n",
       "    .dataframe thead th {\n",
       "        text-align: right;\n",
       "    }\n",
       "</style>\n",
       "<table border=\"1\" class=\"dataframe\">\n",
       "  <thead>\n",
       "    <tr style=\"text-align: right;\">\n",
       "      <th></th>\n",
       "      <th>compound_id</th>\n",
       "      <th>base_rdkit_smiles</th>\n",
       "      <th>avg_pKi</th>\n",
       "      <th>MaxEStateIndex</th>\n",
       "      <th>MinEStateIndex</th>\n",
       "      <th>MaxAbsEStateIndex</th>\n",
       "      <th>MinAbsEStateIndex</th>\n",
       "      <th>qed</th>\n",
       "      <th>MolWt</th>\n",
       "      <th>HeavyAtomMolWt</th>\n",
       "      <th>...</th>\n",
       "      <th>fr_tetrazole</th>\n",
       "      <th>fr_thiazole</th>\n",
       "      <th>fr_thiocyan</th>\n",
       "      <th>fr_thiophene</th>\n",
       "      <th>fr_unbrch_alkane</th>\n",
       "      <th>fr_urea</th>\n",
       "      <th>orig_smiles</th>\n",
       "      <th>avg_pKi_actual</th>\n",
       "      <th>avg_pKi_pred</th>\n",
       "      <th>avg_pKi_std</th>\n",
       "    </tr>\n",
       "  </thead>\n",
       "  <tbody>\n",
       "    <tr>\n",
       "      <th>0</th>\n",
       "      <td>compound_346</td>\n",
       "      <td>OC(C[NH2+]C1CCC1)C1(c2ccc(Cl)c(Cl)c2)CCC1</td>\n",
       "      <td>7.958607</td>\n",
       "      <td>8.970106</td>\n",
       "      <td>-4.751902</td>\n",
       "      <td>8.970106</td>\n",
       "      <td>0.825260</td>\n",
       "      <td>0.861181</td>\n",
       "      <td>315.264</td>\n",
       "      <td>293.088</td>\n",
       "      <td>...</td>\n",
       "      <td>0</td>\n",
       "      <td>0</td>\n",
       "      <td>0</td>\n",
       "      <td>0</td>\n",
       "      <td>0</td>\n",
       "      <td>0</td>\n",
       "      <td>OC(C[NH2+]C1CCC1)C1(c2ccc(Cl)c(Cl)c2)CCC1</td>\n",
       "      <td>7.958607</td>\n",
       "      <td>7.284956</td>\n",
       "      <td>0.955853</td>\n",
       "    </tr>\n",
       "    <tr>\n",
       "      <th>1</th>\n",
       "      <td>compound_225</td>\n",
       "      <td>CN1Cc2ccccc2C(C)(c2ccc3[nH]ncc3c2)C1</td>\n",
       "      <td>6.587660</td>\n",
       "      <td>8.993202</td>\n",
       "      <td>-4.010824</td>\n",
       "      <td>8.993202</td>\n",
       "      <td>0.226986</td>\n",
       "      <td>0.739733</td>\n",
       "      <td>277.371</td>\n",
       "      <td>258.219</td>\n",
       "      <td>...</td>\n",
       "      <td>0</td>\n",
       "      <td>0</td>\n",
       "      <td>0</td>\n",
       "      <td>0</td>\n",
       "      <td>0</td>\n",
       "      <td>0</td>\n",
       "      <td>CN1Cc2ccccc2C(C)(c2ccc3[nH]ncc3c2)C1</td>\n",
       "      <td>6.587660</td>\n",
       "      <td>7.143886</td>\n",
       "      <td>0.801133</td>\n",
       "    </tr>\n",
       "    <tr>\n",
       "      <th>2</th>\n",
       "      <td>compound_166</td>\n",
       "      <td>O=C(O)C(/C=C/c1ccccc1)C1CCN(CCOC(c2ccccc2)c2cc...</td>\n",
       "      <td>5.430275</td>\n",
       "      <td>13.525088</td>\n",
       "      <td>-5.060732</td>\n",
       "      <td>13.525088</td>\n",
       "      <td>1.095764</td>\n",
       "      <td>0.412331</td>\n",
       "      <td>455.598</td>\n",
       "      <td>422.334</td>\n",
       "      <td>...</td>\n",
       "      <td>0</td>\n",
       "      <td>0</td>\n",
       "      <td>0</td>\n",
       "      <td>0</td>\n",
       "      <td>0</td>\n",
       "      <td>0</td>\n",
       "      <td>O=C(O)C(/C=C/c1ccccc1)C1CCN(CCOC(c2ccccc2)c2cc...</td>\n",
       "      <td>5.430275</td>\n",
       "      <td>7.676473</td>\n",
       "      <td>0.947577</td>\n",
       "    </tr>\n",
       "    <tr>\n",
       "      <th>3</th>\n",
       "      <td>compound_310</td>\n",
       "      <td>CN1Cc2cc(-c3cccnn3)ccc2C(C)(c2cc3ccccc3[nH]2)C1</td>\n",
       "      <td>6.000000</td>\n",
       "      <td>9.204719</td>\n",
       "      <td>-4.140132</td>\n",
       "      <td>9.204719</td>\n",
       "      <td>0.018450</td>\n",
       "      <td>0.581059</td>\n",
       "      <td>354.457</td>\n",
       "      <td>332.281</td>\n",
       "      <td>...</td>\n",
       "      <td>0</td>\n",
       "      <td>0</td>\n",
       "      <td>0</td>\n",
       "      <td>0</td>\n",
       "      <td>0</td>\n",
       "      <td>0</td>\n",
       "      <td>CN1Cc2cc(-c3cccnn3)ccc2C(C)(c2cc3ccccc3[nH]2)C1</td>\n",
       "      <td>6.000000</td>\n",
       "      <td>6.379872</td>\n",
       "      <td>1.014355</td>\n",
       "    </tr>\n",
       "    <tr>\n",
       "      <th>4</th>\n",
       "      <td>compound_284</td>\n",
       "      <td>CN1Cc2ccccc2C(F)(c2ccc3sccc3c2)C1</td>\n",
       "      <td>6.587660</td>\n",
       "      <td>17.710445</td>\n",
       "      <td>-4.117619</td>\n",
       "      <td>17.710445</td>\n",
       "      <td>0.229708</td>\n",
       "      <td>0.636234</td>\n",
       "      <td>297.398</td>\n",
       "      <td>281.270</td>\n",
       "      <td>...</td>\n",
       "      <td>0</td>\n",
       "      <td>0</td>\n",
       "      <td>0</td>\n",
       "      <td>1</td>\n",
       "      <td>0</td>\n",
       "      <td>0</td>\n",
       "      <td>CN1Cc2ccccc2C(F)(c2ccc3sccc3c2)C1</td>\n",
       "      <td>6.587660</td>\n",
       "      <td>6.949374</td>\n",
       "      <td>0.964244</td>\n",
       "    </tr>\n",
       "  </tbody>\n",
       "</table>\n",
       "<p>5 rows × 207 columns</p>\n",
       "</div>"
      ],
      "text/plain": [
       "    compound_id                                  base_rdkit_smiles   avg_pKi  \\\n",
       "0  compound_346          OC(C[NH2+]C1CCC1)C1(c2ccc(Cl)c(Cl)c2)CCC1  7.958607   \n",
       "1  compound_225               CN1Cc2ccccc2C(C)(c2ccc3[nH]ncc3c2)C1  6.587660   \n",
       "2  compound_166  O=C(O)C(/C=C/c1ccccc1)C1CCN(CCOC(c2ccccc2)c2cc...  5.430275   \n",
       "3  compound_310    CN1Cc2cc(-c3cccnn3)ccc2C(C)(c2cc3ccccc3[nH]2)C1  6.000000   \n",
       "4  compound_284                  CN1Cc2ccccc2C(F)(c2ccc3sccc3c2)C1  6.587660   \n",
       "\n",
       "   MaxEStateIndex  MinEStateIndex  MaxAbsEStateIndex  MinAbsEStateIndex  \\\n",
       "0        8.970106       -4.751902           8.970106           0.825260   \n",
       "1        8.993202       -4.010824           8.993202           0.226986   \n",
       "2       13.525088       -5.060732          13.525088           1.095764   \n",
       "3        9.204719       -4.140132           9.204719           0.018450   \n",
       "4       17.710445       -4.117619          17.710445           0.229708   \n",
       "\n",
       "        qed    MolWt  HeavyAtomMolWt  ...  fr_tetrazole  fr_thiazole  \\\n",
       "0  0.861181  315.264         293.088  ...             0            0   \n",
       "1  0.739733  277.371         258.219  ...             0            0   \n",
       "2  0.412331  455.598         422.334  ...             0            0   \n",
       "3  0.581059  354.457         332.281  ...             0            0   \n",
       "4  0.636234  297.398         281.270  ...             0            0   \n",
       "\n",
       "   fr_thiocyan  fr_thiophene  fr_unbrch_alkane  fr_urea  \\\n",
       "0            0             0                 0        0   \n",
       "1            0             0                 0        0   \n",
       "2            0             0                 0        0   \n",
       "3            0             0                 0        0   \n",
       "4            0             1                 0        0   \n",
       "\n",
       "                                         orig_smiles  avg_pKi_actual  \\\n",
       "0          OC(C[NH2+]C1CCC1)C1(c2ccc(Cl)c(Cl)c2)CCC1        7.958607   \n",
       "1               CN1Cc2ccccc2C(C)(c2ccc3[nH]ncc3c2)C1        6.587660   \n",
       "2  O=C(O)C(/C=C/c1ccccc1)C1CCN(CCOC(c2ccccc2)c2cc...        5.430275   \n",
       "3    CN1Cc2cc(-c3cccnn3)ccc2C(C)(c2cc3ccccc3[nH]2)C1        6.000000   \n",
       "4                  CN1Cc2ccccc2C(F)(c2ccc3sccc3c2)C1        6.587660   \n",
       "\n",
       "   avg_pKi_pred  avg_pKi_std  \n",
       "0      7.284956     0.955853  \n",
       "1      7.143886     0.801133  \n",
       "2      7.676473     0.947577  \n",
       "3      6.379872     1.014355  \n",
       "4      6.949374     0.964244  \n",
       "\n",
       "[5 rows x 207 columns]"
      ]
     },
     "execution_count": 6,
     "metadata": {},
     "output_type": "execute_result"
    }
   ],
   "source": [
    "model_dir = best_model_path\n",
    "input_df = test_data\n",
    "id_col = 'compound_id'\n",
    "smiles_col = 'base_rdkit_smiles'\n",
    "response_col = 'avg_pKi'\n",
    "\n",
    "print(model_dir)\n",
    "\n",
    "best_pred_df = pfm.predict_from_model_file(model_path = model_dir, \n",
    "                                      input_df = test_data,\n",
    "                                      id_col = id_col ,\n",
    "                                      smiles_col = smiles_col, \n",
    "                                      response_col = response_col,\n",
    "                                      #external_training_data=test_file_path,\n",
    "                                      is_featurized=False) #throws error if is_featurized=True\n",
    "                                      \n",
    "best_pred_df.head()"
   ]
  },
  {
   "cell_type": "code",
   "execution_count": 7,
   "id": "93066bd7",
   "metadata": {},
   "outputs": [
    {
     "name": "stdout",
     "output_type": "stream",
     "text": [
      "Best model r2_score: 0.156877\n"
     ]
    }
   ],
   "source": [
    "actual_value = best_pred_df['avg_pKi_actual']\n",
    "predicted_value = best_pred_df['avg_pKi_pred']\n",
    "r2 = np.round(r2_score(actual_value, predicted_value), 6)\n",
    "print(\"Best model r2_score: \" + str(r2))"
   ]
  },
  {
   "cell_type": "markdown",
   "id": "d684218f",
   "metadata": {},
   "source": [
    "## Apply production model and plot performances\n",
    "\n",
    "This is a demonstration of using the production model to predict. This is an evaluation of the production model performance."
   ]
  },
  {
   "cell_type": "code",
   "execution_count": 8,
   "id": "32b0156a",
   "metadata": {
    "scrolled": true
   },
   "outputs": [
    {
     "name": "stdout",
     "output_type": "stream",
     "text": [
      "Standardizing SMILES strings for 533 compounds.\n"
     ]
    },
    {
     "name": "stderr",
     "output_type": "stream",
     "text": [
      "INFO:atomsci.ddm.utils.model_version_utils:dataset/SLC6A3_models/SLC6A3_Ki_curated_model_31d12602-b87b-4b19-b921-a0c405e54f30.tar.gz, 1.6.1\n",
      "INFO:atomsci.ddm.utils.model_version_utils:Version compatible check: dataset/SLC6A3_models/SLC6A3_Ki_curated_model_31d12602-b87b-4b19-b921-a0c405e54f30.tar.gz version = \"1.6\", AMPL version = \"1.6\"\n"
     ]
    },
    {
     "name": "stdout",
     "output_type": "stream",
     "text": [
      "num_model_tasks is deprecated and its value is ignored.\n"
     ]
    },
    {
     "data": {
      "text/html": [
       "<div>\n",
       "<style scoped>\n",
       "    .dataframe tbody tr th:only-of-type {\n",
       "        vertical-align: middle;\n",
       "    }\n",
       "\n",
       "    .dataframe tbody tr th {\n",
       "        vertical-align: top;\n",
       "    }\n",
       "\n",
       "    .dataframe thead th {\n",
       "        text-align: right;\n",
       "    }\n",
       "</style>\n",
       "<table border=\"1\" class=\"dataframe\">\n",
       "  <thead>\n",
       "    <tr style=\"text-align: right;\">\n",
       "      <th></th>\n",
       "      <th>compound_id</th>\n",
       "      <th>base_rdkit_smiles</th>\n",
       "      <th>avg_pKi</th>\n",
       "      <th>MaxEStateIndex</th>\n",
       "      <th>MinEStateIndex</th>\n",
       "      <th>MaxAbsEStateIndex</th>\n",
       "      <th>MinAbsEStateIndex</th>\n",
       "      <th>qed</th>\n",
       "      <th>MolWt</th>\n",
       "      <th>HeavyAtomMolWt</th>\n",
       "      <th>...</th>\n",
       "      <th>fr_tetrazole</th>\n",
       "      <th>fr_thiazole</th>\n",
       "      <th>fr_thiocyan</th>\n",
       "      <th>fr_thiophene</th>\n",
       "      <th>fr_unbrch_alkane</th>\n",
       "      <th>fr_urea</th>\n",
       "      <th>orig_smiles</th>\n",
       "      <th>avg_pKi_actual</th>\n",
       "      <th>avg_pKi_pred</th>\n",
       "      <th>avg_pKi_std</th>\n",
       "    </tr>\n",
       "  </thead>\n",
       "  <tbody>\n",
       "    <tr>\n",
       "      <th>0</th>\n",
       "      <td>compound_346</td>\n",
       "      <td>OC(C[NH2+]C1CCC1)C1(c2ccc(Cl)c(Cl)c2)CCC1</td>\n",
       "      <td>7.958607</td>\n",
       "      <td>8.970106</td>\n",
       "      <td>-4.751902</td>\n",
       "      <td>8.970106</td>\n",
       "      <td>0.825260</td>\n",
       "      <td>0.861181</td>\n",
       "      <td>315.264</td>\n",
       "      <td>293.088</td>\n",
       "      <td>...</td>\n",
       "      <td>0</td>\n",
       "      <td>0</td>\n",
       "      <td>0</td>\n",
       "      <td>0</td>\n",
       "      <td>0</td>\n",
       "      <td>0</td>\n",
       "      <td>OC(C[NH2+]C1CCC1)C1(c2ccc(Cl)c(Cl)c2)CCC1</td>\n",
       "      <td>7.958607</td>\n",
       "      <td>7.336011</td>\n",
       "      <td>0.857905</td>\n",
       "    </tr>\n",
       "    <tr>\n",
       "      <th>1</th>\n",
       "      <td>compound_225</td>\n",
       "      <td>CN1Cc2ccccc2C(C)(c2ccc3[nH]ncc3c2)C1</td>\n",
       "      <td>6.587660</td>\n",
       "      <td>8.993202</td>\n",
       "      <td>-4.010824</td>\n",
       "      <td>8.993202</td>\n",
       "      <td>0.226986</td>\n",
       "      <td>0.739733</td>\n",
       "      <td>277.371</td>\n",
       "      <td>258.219</td>\n",
       "      <td>...</td>\n",
       "      <td>0</td>\n",
       "      <td>0</td>\n",
       "      <td>0</td>\n",
       "      <td>0</td>\n",
       "      <td>0</td>\n",
       "      <td>0</td>\n",
       "      <td>CN1Cc2ccccc2C(C)(c2ccc3[nH]ncc3c2)C1</td>\n",
       "      <td>6.587660</td>\n",
       "      <td>6.690491</td>\n",
       "      <td>0.983557</td>\n",
       "    </tr>\n",
       "    <tr>\n",
       "      <th>2</th>\n",
       "      <td>compound_166</td>\n",
       "      <td>O=C(O)C(/C=C/c1ccccc1)C1CCN(CCOC(c2ccccc2)c2cc...</td>\n",
       "      <td>5.430275</td>\n",
       "      <td>13.525088</td>\n",
       "      <td>-5.060732</td>\n",
       "      <td>13.525088</td>\n",
       "      <td>1.095764</td>\n",
       "      <td>0.412331</td>\n",
       "      <td>455.598</td>\n",
       "      <td>422.334</td>\n",
       "      <td>...</td>\n",
       "      <td>0</td>\n",
       "      <td>0</td>\n",
       "      <td>0</td>\n",
       "      <td>0</td>\n",
       "      <td>0</td>\n",
       "      <td>0</td>\n",
       "      <td>O=C(O)C(/C=C/c1ccccc1)C1CCN(CCOC(c2ccccc2)c2cc...</td>\n",
       "      <td>5.430275</td>\n",
       "      <td>6.971507</td>\n",
       "      <td>0.722885</td>\n",
       "    </tr>\n",
       "    <tr>\n",
       "      <th>3</th>\n",
       "      <td>compound_310</td>\n",
       "      <td>CN1Cc2cc(-c3cccnn3)ccc2C(C)(c2cc3ccccc3[nH]2)C1</td>\n",
       "      <td>6.000000</td>\n",
       "      <td>9.204719</td>\n",
       "      <td>-4.140132</td>\n",
       "      <td>9.204719</td>\n",
       "      <td>0.018450</td>\n",
       "      <td>0.581059</td>\n",
       "      <td>354.457</td>\n",
       "      <td>332.281</td>\n",
       "      <td>...</td>\n",
       "      <td>0</td>\n",
       "      <td>0</td>\n",
       "      <td>0</td>\n",
       "      <td>0</td>\n",
       "      <td>0</td>\n",
       "      <td>0</td>\n",
       "      <td>CN1Cc2cc(-c3cccnn3)ccc2C(C)(c2cc3ccccc3[nH]2)C1</td>\n",
       "      <td>6.000000</td>\n",
       "      <td>6.187998</td>\n",
       "      <td>1.161740</td>\n",
       "    </tr>\n",
       "    <tr>\n",
       "      <th>4</th>\n",
       "      <td>compound_284</td>\n",
       "      <td>CN1Cc2ccccc2C(F)(c2ccc3sccc3c2)C1</td>\n",
       "      <td>6.587660</td>\n",
       "      <td>17.710445</td>\n",
       "      <td>-4.117619</td>\n",
       "      <td>17.710445</td>\n",
       "      <td>0.229708</td>\n",
       "      <td>0.636234</td>\n",
       "      <td>297.398</td>\n",
       "      <td>281.270</td>\n",
       "      <td>...</td>\n",
       "      <td>0</td>\n",
       "      <td>0</td>\n",
       "      <td>0</td>\n",
       "      <td>1</td>\n",
       "      <td>0</td>\n",
       "      <td>0</td>\n",
       "      <td>CN1Cc2ccccc2C(F)(c2ccc3sccc3c2)C1</td>\n",
       "      <td>6.587660</td>\n",
       "      <td>6.644015</td>\n",
       "      <td>1.209780</td>\n",
       "    </tr>\n",
       "  </tbody>\n",
       "</table>\n",
       "<p>5 rows × 207 columns</p>\n",
       "</div>"
      ],
      "text/plain": [
       "    compound_id                                  base_rdkit_smiles   avg_pKi  \\\n",
       "0  compound_346          OC(C[NH2+]C1CCC1)C1(c2ccc(Cl)c(Cl)c2)CCC1  7.958607   \n",
       "1  compound_225               CN1Cc2ccccc2C(C)(c2ccc3[nH]ncc3c2)C1  6.587660   \n",
       "2  compound_166  O=C(O)C(/C=C/c1ccccc1)C1CCN(CCOC(c2ccccc2)c2cc...  5.430275   \n",
       "3  compound_310    CN1Cc2cc(-c3cccnn3)ccc2C(C)(c2cc3ccccc3[nH]2)C1  6.000000   \n",
       "4  compound_284                  CN1Cc2ccccc2C(F)(c2ccc3sccc3c2)C1  6.587660   \n",
       "\n",
       "   MaxEStateIndex  MinEStateIndex  MaxAbsEStateIndex  MinAbsEStateIndex  \\\n",
       "0        8.970106       -4.751902           8.970106           0.825260   \n",
       "1        8.993202       -4.010824           8.993202           0.226986   \n",
       "2       13.525088       -5.060732          13.525088           1.095764   \n",
       "3        9.204719       -4.140132           9.204719           0.018450   \n",
       "4       17.710445       -4.117619          17.710445           0.229708   \n",
       "\n",
       "        qed    MolWt  HeavyAtomMolWt  ...  fr_tetrazole  fr_thiazole  \\\n",
       "0  0.861181  315.264         293.088  ...             0            0   \n",
       "1  0.739733  277.371         258.219  ...             0            0   \n",
       "2  0.412331  455.598         422.334  ...             0            0   \n",
       "3  0.581059  354.457         332.281  ...             0            0   \n",
       "4  0.636234  297.398         281.270  ...             0            0   \n",
       "\n",
       "   fr_thiocyan  fr_thiophene  fr_unbrch_alkane  fr_urea  \\\n",
       "0            0             0                 0        0   \n",
       "1            0             0                 0        0   \n",
       "2            0             0                 0        0   \n",
       "3            0             0                 0        0   \n",
       "4            0             1                 0        0   \n",
       "\n",
       "                                         orig_smiles  avg_pKi_actual  \\\n",
       "0          OC(C[NH2+]C1CCC1)C1(c2ccc(Cl)c(Cl)c2)CCC1        7.958607   \n",
       "1               CN1Cc2ccccc2C(C)(c2ccc3[nH]ncc3c2)C1        6.587660   \n",
       "2  O=C(O)C(/C=C/c1ccccc1)C1CCN(CCOC(c2ccccc2)c2cc...        5.430275   \n",
       "3    CN1Cc2cc(-c3cccnn3)ccc2C(C)(c2cc3ccccc3[nH]2)C1        6.000000   \n",
       "4                  CN1Cc2ccccc2C(F)(c2ccc3sccc3c2)C1        6.587660   \n",
       "\n",
       "   avg_pKi_pred  avg_pKi_std  \n",
       "0      7.336011     0.857905  \n",
       "1      6.690491     0.983557  \n",
       "2      6.971507     0.722885  \n",
       "3      6.187998     1.161740  \n",
       "4      6.644015     1.209780  \n",
       "\n",
       "[5 rows x 207 columns]"
      ]
     },
     "execution_count": 8,
     "metadata": {},
     "output_type": "execute_result"
    }
   ],
   "source": [
    "model_dir = production_model.params.model_tarball_path\n",
    "\n",
    "# View the pred_df dataframe\n",
    "prod_pred_df = pfm.predict_from_model_file(model_path = model_dir, \n",
    "                                      input_df = test_data,\n",
    "                                      id_col = id_col ,\n",
    "                                      smiles_col = smiles_col, \n",
    "                                      response_col = response_col,\n",
    "                                      #external_training_data=split_file_dir,\n",
    "                                      is_featurized=False)\n",
    "                                      \n",
    "prod_pred_df.head()"
   ]
  },
  {
   "cell_type": "code",
   "execution_count": 9,
   "id": "cfbcaba2",
   "metadata": {},
   "outputs": [
    {
     "name": "stdout",
     "output_type": "stream",
     "text": [
      "Production model r2_score: 0.271743\n"
     ]
    }
   ],
   "source": [
    "actual_value = prod_pred_df['avg_pKi_actual']\n",
    "predicted_value = prod_pred_df['avg_pKi_pred']\n",
    "r2 = np.round(r2_score(actual_value, predicted_value), 6)\n",
    "print(\"Production model r2_score: \" + str(r2))"
   ]
  },
  {
   "cell_type": "code",
   "execution_count": 10,
   "id": "6c8c728f",
   "metadata": {},
   "outputs": [
    {
     "data": {
      "image/png": "[encoded data removed]",
      "text/plain": [
       "<Figure size 640x480 with 2 Axes>"
      ]
     },
     "metadata": {},
     "output_type": "display_data"
    }
   ],
   "source": [
    "#show plots in same figure\n",
    "fig, ax = plt.subplots(1,2)\n",
    "pp.plot_pred_vs_actual_from_df(best_pred_df, actual_col='avg_pKi_actual', pred_col='avg_pKi_pred', label='Best Predict on Test', ax=ax[0])  # plot1\n",
    "pp.plot_pred_vs_actual_from_df(prod_pred_df, actual_col='avg_pKi_actual', pred_col='avg_pKi_pred', label='Production Predict on Test', ax=ax[1])  # plot2\n",
    "fig.tight_layout(pad=3.0)\n",
    "fig.show()"
   ]
  },
  {
   "cell_type": "markdown",
   "id": "9a96ccce",
   "metadata": {},
   "source": [
    ">**Comments:**\n",
    ">1. It would be better to show both plots (for the original best model and the production model) together in the same figure.\n",
    ">2. Of course, the plot looks better with the production model precisely because the \"test set\" is now included in the training data. If we switch to using an external test set, that won't be the case and we'll get to see how the production model performs differently (hopefully better)."
   ]
  },
  {
   "cell_type": "markdown",
   "id": "55117b90",
   "metadata": {},
   "source": [
    "The production model with r2_score: 0.258543 does perform *better* than the best model with r2_score: 0.156877, but neither are great r2 scores. The production plot has a slight increase in points concentrated along the diagonal. A possible explanation is that since the external dataset compounds were filtered so none have Tanimoto distance < 0.4 to any compound in the original model dataset, this test set is too dissimiliar to fit either model. It could be interesting to evaluate whether the models' performance improves with closer Tanimoto distance thresholds."
   ]
  },
  {
   "cell_type": "code",
   "execution_count": 11,
   "id": "aaafc5db",
   "metadata": {},
   "outputs": [
    {
     "data": {
      "text/plain": [
       "'dataset/SLC6A3_models/SLC6A3_Ki_curated_model_31d12602-b87b-4b19-b921-a0c405e54f30.tar.gz'"
      ]
     },
     "execution_count": 11,
     "metadata": {},
     "output_type": "execute_result"
    }
   ],
   "source": [
    "# Production model path\n",
    "production_model.params.model_tarball_path"
   ]
  },
  {
   "cell_type": "markdown",
   "id": "6343b5bb",
   "metadata": {},
   "source": [
    "## Other functions with Production parameter\n",
    "`Production` is an available boolean parameter in these other AMPL functions. If `production` is set to True, the model will be trained in production mode. This uses the entire dataset in training, validation, and test. If using epochs, it will train exactly max_epochs and save the last one.\n",
    "- [train_model](https://ampl.readthedocs.io/en/latest/utils.html#utils.model_retrain.train_model)\n",
    "- [train_models_from_dataset_keys](https://ampl.readthedocs.io/en/latest/utils.html#utils.model_retrain.train_models_from_dataset_keys)"
   ]
  },
  {
   "cell_type": "markdown",
   "id": "12b42729",
   "metadata": {},
   "source": [
    ">**Comments**:\n",
    "1. EpochManager and EpochManagerKFold are not part of the public API, so should not be listed here.\n",
    "2. I think we have a convention of putting parameter names in backquotes, so the production parameter would be rendered as `production`.\n",
    "3. Maybe this section should come toward the end of the tutorial, given that we dont use any of these functions here."
   ]
  },
  {
   "cell_type": "markdown",
   "id": "ae588878",
   "metadata": {},
   "source": [
    "Future queries for this dataset will use this production model for prediction. In the next Tutorial 9, you'll explore visualization methods for presenting the predicted result for a model."
   ]
  }
 ],
 "metadata": {
  "kernelspec": {
   "display_name": "atomsci_env_tutorial",
   "language": "python",
   "name": "atomsci_env_tutorial"
  },
  "language_info": {
   "codemirror_mode": {
    "name": "ipython",
    "version": 3
   },
   "file_extension": ".py",
   "mimetype": "text/x-python",
   "name": "python",
   "nbconvert_exporter": "python",
   "pygments_lexer": "ipython3",
   "version": "3.9.12"
  }
 },
 "nbformat": 4,
 "nbformat_minor": 5
}
