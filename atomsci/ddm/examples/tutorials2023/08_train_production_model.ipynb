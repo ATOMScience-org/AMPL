{
 "cells": [
  {
   "cell_type": "markdown",
   "id": "abcd9004",
   "metadata": {},
   "source": [
    "# Train a Production Model\n",
    "\n",
    "\n",
    "This tutorial will use AMPL to take the best performing model with the highest validation score from the previous Tutorial 7 and train a production model using all available data. The production model is used for model deployment. The production model could be shared with other researchers to predict on new data. When there is an updated version of the model input datasets or an updated major AMPL version, a new version of the production model should be created. Production model versions could be used to assess prediction performance over time, since it represents a performance snapshot of available data.\n",
    "\n",
    "We will use these functions to retrain a best model for production and compare the production model with the best model.\n",
    "- [create_prediction_pipeline_from_file](https://ampl.readthedocs.io/en/latest/pipeline.html#pipeline.model_pipeline.create_prediction_pipeline_from_file)\n",
    "- [train_model_from_tar](https://ampl.readthedocs.io/en/latest/utils.html#utils.model_retrain.train_model_from_tar)\n",
    "\n",
    "We will use functions covered in Tutorial 5 to apply the models."
   ]
  },
  {
   "cell_type": "markdown",
   "id": "1dc6947f",
   "metadata": {},
   "source": [
    ">**Comments**\n",
    ">1. The first sentence doesn't make it clear what's going to be happening here. Try this:\n",
    ">>\"In this tutorial, you will use the hyperparameters that yielded the best performing model in the previous tutorial to train a \"production\" model on the full dataset, rather than just the\n",
    "training subset from a scaffold split.\"\n",
    ">2. I think we should avoid suggesting that deploying a model trained on the full dataset is best data science practice. It's more like, if that's what you prefer to do, AMPL provides an easy way to do it. Therefore, I would drop the second sentence and keep the third one, which says the same thing only a lot more clearly.\n",
    ">3. Arguably, when the model input dataset is updated, the model should be retrained from scratch, and _then_ a production model should be generated.\n",
    ">4. I don't understand how one would do what you suggest in the 4th sentence - how would you use the production models to assess performance over time?"
   ]
  },
  {
   "cell_type": "markdown",
   "id": "75bc5509",
   "metadata": {},
   "source": [
    "## Other functions with Production parameter\n",
    "Production is an available boolean parameter in these other AMPL functions. If production is set to True, the model will be trained in production mode. This uses the entire dataset in training, validation, and test. If using epochs, it will train exactly max_epochs and save the last one.\n",
    "- [EpochManager](https://ampl.readthedocs.io/en/latest/pipeline.html#pipeline.perf_data.EpochManager)\n",
    "- [EpochManagerKFold](https://ampl.readthedocs.io/en/latest/pipeline.html#pipeline.perf_data.EpochManagerKFold)\n",
    "- [train_model](https://ampl.readthedocs.io/en/latest/utils.html#utils.model_retrain.train_model)\n",
    "- [train_model_from_tracker](https://ampl.readthedocs.io/en/latest/utils.html#utils.model_retrain.train_model_from_tracker)\n",
    "- [train_models_from_dataset_keys](https://ampl.readthedocs.io/en/latest/utils.html#utils.model_retrain.train_models_from_dataset_keys)"
   ]
  },
  {
   "cell_type": "markdown",
   "id": "214e147e",
   "metadata": {},
   "source": [
    ">**Comments**:\n",
    "1. EpochManager and EpochManagerKFold are not part of the public API, so should not be listed here.\n",
    "2. I think we have a convention of putting parameter names in backquotes, so the production parameter would be rendered as `production`.\n",
    "3. Maybe this section should come toward the end of the tutorial, given that we dont use any of these functions here."
   ]
  },
  {
   "cell_type": "markdown",
   "id": "254fc8be",
   "metadata": {},
   "source": [
    "## Import Packages"
   ]
  },
  {
   "cell_type": "code",
   "execution_count": 1,
   "id": "5ec4c370",
   "metadata": {
    "scrolled": true
   },
   "outputs": [
    {
     "name": "stderr",
     "output_type": "stream",
     "text": [
      "2024-02-29 12:46:44.484885: E tensorflow/compiler/xla/stream_executor/cuda/cuda_dnn.cc:9342] Unable to register cuDNN factory: Attempting to register factory for plugin cuDNN when one has already been registered\n",
      "2024-02-29 12:46:44.484961: E tensorflow/compiler/xla/stream_executor/cuda/cuda_fft.cc:609] Unable to register cuFFT factory: Attempting to register factory for plugin cuFFT when one has already been registered\n",
      "2024-02-29 12:46:44.484995: E tensorflow/compiler/xla/stream_executor/cuda/cuda_blas.cc:1518] Unable to register cuBLAS factory: Attempting to register factory for plugin cuBLAS when one has already been registered\n",
      "2024-02-29 12:46:44.495981: I tensorflow/core/platform/cpu_feature_guard.cc:182] This TensorFlow binary is optimized to use available CPU instructions in performance-critical operations.\n",
      "To enable the following instructions: AVX2 FMA, in other operations, rebuild TensorFlow with the appropriate compiler flags.\n",
      "2024-02-29 12:46:47.417627: W tensorflow/compiler/tf2tensorrt/utils/py_utils.cc:38] TF-TRT Warning: Could not find TensorRT\n",
      "WARNING:deepchem.models:Skipped loading some Jax models, missing a dependency. No module named 'haiku'\n",
      "/usr/WS2/torres49/ampl/setup_tutorials/atomsci_env/lib/python3.9/site-packages/tqdm/auto.py:21: TqdmWarning: IProgress not found. Please update jupyter and ipywidgets. See https://ipywidgets.readthedocs.io/en/stable/user_install.html\n",
      "  from .autonotebook import tqdm as notebook_tqdm\n"
     ]
    }
   ],
   "source": [
    "import pandas as pd\n",
    "import os\n",
    "from atomsci.ddm.utils import model_retrain as mr\n",
    "from atomsci.ddm.utils import model_version_utils as mv\n",
    "from atomsci.ddm.pipeline import model_pipeline as mp\n",
    "from atomsci.ddm.pipeline import predict_from_model as pfm\n",
    "from atomsci.ddm.pipeline import perf_plots as pp\n",
    "from sklearn.metrics import r2_score\n",
    "import numpy as np\n",
    "\n",
    "import warnings\n",
    "warnings.filterwarnings('ignore', category=FutureWarning)"
   ]
  },
  {
   "cell_type": "markdown",
   "id": "1ddf9c33",
   "metadata": {},
   "source": [
    "## Start from saved best model\n",
    "\n",
    "We're using the best performing model by valid $R^2$ score from Tutorial 7. This was an RF model. Setting the production parameter to True will set production=True in the model params.\n",
    "\n",
    "`dataset/SLC6A3_models/SLC6A3_Ki_curated_model_9b6c9332-15f3-4f96-9579-bf407d0b69a8.tar.gz\n",
    "Best valid r2 score:  0.5595899501867392\n",
    "Model Parameters:  {\"rf_estimators\": 129, \"rf_max_depth\": 32, \"rf_max_features\": 95}`\n",
    "\n",
    "Retraining a model trains based on the saved model_metadata. If the model_params production is `True`, the params.previously_split will be ignored. This production split is not saved. `create_prediction_pipeline_from_file` will reload the saved model. The default model param sets production to `False`. The AMPL version is checked in case this is a saved model from a previous version of AMPL. The saved model AMPL version must match the installed major AMPL version in order to be used."
   ]
  },
  {
   "cell_type": "markdown",
   "id": "d936bb63",
   "metadata": {},
   "source": [
    ">**Comments:**\n",
    "1. \"Setting the production parameter to True\" _where_???\n",
    "2. Have we talked about \"model metadata\" in any of the previous tutorials? I suspect not, so you have to clarify that this refers to the model (hyper)parameters saved in the model tarball file.\n",
    "3. You need to say that *all* splitting related parameters are ignored, not just `previously_split`.\n",
    "4. What do you mean by the \"production split\"?\n",
    "5. Is it really true that the saved model AMPL version must match the installed version? Why? The whole idea of the `model_retrain` module, after all, is to provide a simple way to update models trained with a previous AMPL version."
   ]
  },
  {
   "cell_type": "code",
   "execution_count": 2,
   "id": "a358aa53",
   "metadata": {},
   "outputs": [
    {
     "name": "stderr",
     "output_type": "stream",
     "text": [
      "INFO:atomsci.ddm.utils.model_version_utils:dataset/SLC6A3_models/SLC6A3_Ki_curated_model_9b6c9332-15f3-4f96-9579-bf407d0b69a8.tar.gz, 1.6.0\n",
      "INFO:atomsci.ddm.utils.model_version_utils:dataset/SLC6A3_models/SLC6A3_Ki_curated_model_9b6c9332-15f3-4f96-9579-bf407d0b69a8.tar.gz, 1.6.0\n",
      "INFO:atomsci.ddm.utils.model_version_utils:Version compatible check: dataset/SLC6A3_models/SLC6A3_Ki_curated_model_9b6c9332-15f3-4f96-9579-bf407d0b69a8.tar.gz version = \"1.6\", AMPL version = \"1.6\"\n",
      "WARNING:ATOM:['ampl_version', 'time_generated', 'time_built', 'dataset_hash', 'dataset_metadata', 'training_metrics'] are not part of the accepted list of parameters and will be ignored\n"
     ]
    },
    {
     "name": "stdout",
     "output_type": "stream",
     "text": [
      "installed AMPL version: 1.6.1\n",
      "best model AMPL version: 1.6.0\n",
      "num_model_tasks is deprecated and its value is ignored.\n",
      "orig_params.production: False\n"
     ]
    }
   ],
   "source": [
    "#Tutorial 7 RF saved model_path\n",
    "best_model_path='dataset/SLC6A3_models/SLC6A3_Ki_curated_model_9b6c9332-15f3-4f96-9579-bf407d0b69a8.tar.gz'\n",
    "\n",
    "#get installed AMPL version\n",
    "print(\"installed AMPL version: \" + str(mv.get_ampl_version()))\n",
    "\n",
    "#get AMPL model version\n",
    "print(\"best model AMPL version: \" + str(mv.get_ampl_version_from_model(best_model_path)))\n",
    "\n",
    "#load best model production params\n",
    "best_model_pipe = mp.create_prediction_pipeline_from_file(params=None, reload_dir=None, model_path=best_model_path, model_type='best_model', featurization=None, verbose=False)\n",
    "\n",
    "#show production is false\n",
    "print(\"orig_params.production: \" + str(best_model_pipe.orig_params.production))"
   ]
  },
  {
   "cell_type": "markdown",
   "id": "52d032a9",
   "metadata": {},
   "source": [
    "## Retrain best model as production model\n",
    "\n",
    "If the retrain production setting is `False`, the model will be retrained without changing any parameters. Note the production model's model parameter production is set to `True`."
   ]
  },
  {
   "cell_type": "code",
   "execution_count": 3,
   "id": "447740de",
   "metadata": {},
   "outputs": [
    {
     "name": "stdout",
     "output_type": "stream",
     "text": [
      "num_model_tasks is deprecated and its value is ignored.\n"
     ]
    }
   ],
   "source": [
    "odir='dataset/SLC6A3_models'\n",
    "\n",
    "production_model = mr.train_model_from_tar(input=best_model_path, output=odir, production=True)\n",
    "\n",
    "#check for parameters"
   ]
  },
  {
   "cell_type": "markdown",
   "id": "86bfa6f3",
   "metadata": {},
   "source": [
    ">**Comments:**\n",
    ">1. Need to clarify: instead of \"the retrain production setting\", say \"the `production` argument to `train_model_from_tar`\".\n",
    ">2. Need to fix the docstrings for model_retrain functions `train_model_from_tar` and `train_model_from_tracker`; both return a ModelPipeline object, but the doc says they return None.\n",
    ">3. It might be misleading to refer to \"retraining\" a model. Should clarify somewhere that \"retraining\" doesn't replace the existing model; it creates a new model based on the same hyperparameters."
   ]
  },
  {
   "cell_type": "code",
   "execution_count": 4,
   "id": "31c1c568",
   "metadata": {},
   "outputs": [
    {
     "name": "stderr",
     "output_type": "stream",
     "text": [
      "INFO:atomsci.ddm.utils.model_version_utils:dataset/SLC6A3_models/SLC6A3_Ki_curated_model_489d7a5a-cce8-4d3c-b5d7-10adc9324280.tar.gz, 1.6.1\n"
     ]
    },
    {
     "name": "stdout",
     "output_type": "stream",
     "text": [
      "production_model.params.production: True\n",
      "production_model.params.model_tarball_path: dataset/SLC6A3_models/SLC6A3_Ki_curated_model_489d7a5a-cce8-4d3c-b5d7-10adc9324280.tar.gz\n",
      "production model AMPL version: 1.6.1\n"
     ]
    }
   ],
   "source": [
    "print(\"production_model.params.production: \" + str(production_model.params.production))\n",
    "print(\"production_model.params.model_tarball_path: \" + str(production_model.params.model_tarball_path))\n",
    "\n",
    "print(\"production model AMPL version: \" + str(mv.get_ampl_version_from_model(production_model.params.model_tarball_path)))"
   ]
  },
  {
   "cell_type": "markdown",
   "id": "dddd8709",
   "metadata": {},
   "source": [
    "## Setup test dataset\n",
    "\n",
    "This is following Tutorial 5's steps for applying the models. This is used to demonstrate an example comparison dataset between the best model and the production model. Note since the production model is trained on all data, including the test subset, this is not intended to evaluate the performance of the production model. **It would be better to evaluate a non-overlapping test set.**"
   ]
  },
  {
   "cell_type": "markdown",
   "id": "7ef59af3",
   "metadata": {},
   "source": [
    ">**Comments:**\n",
    ">Yes, it would be *much* better to evaluate the production model on a separate dataset, ideally one whose compounds are structurally distant from everything in the production dataset. I created such a dataset from GoStar data; we should try it out and compare performance on that dataset between the original best model and the production model."
   ]
  },
  {
   "cell_type": "code",
   "execution_count": 5,
   "id": "624990bc",
   "metadata": {},
   "outputs": [
    {
     "data": {
      "text/html": [
       "<div>\n",
       "<style scoped>\n",
       "    .dataframe tbody tr th:only-of-type {\n",
       "        vertical-align: middle;\n",
       "    }\n",
       "\n",
       "    .dataframe tbody tr th {\n",
       "        vertical-align: top;\n",
       "    }\n",
       "\n",
       "    .dataframe thead th {\n",
       "        text-align: right;\n",
       "    }\n",
       "</style>\n",
       "<table border=\"1\" class=\"dataframe\">\n",
       "  <thead>\n",
       "    <tr style=\"text-align: right;\">\n",
       "      <th></th>\n",
       "      <th>compound_id</th>\n",
       "      <th>subset</th>\n",
       "      <th>fold</th>\n",
       "      <th>base_rdkit_smiles</th>\n",
       "      <th>avg_pKi</th>\n",
       "      <th>MaxEStateIndex</th>\n",
       "      <th>MinEStateIndex</th>\n",
       "      <th>MaxAbsEStateIndex</th>\n",
       "      <th>MinAbsEStateIndex</th>\n",
       "      <th>qed</th>\n",
       "      <th>...</th>\n",
       "      <th>fr_sulfide</th>\n",
       "      <th>fr_sulfonamd</th>\n",
       "      <th>fr_sulfone</th>\n",
       "      <th>fr_term_acetylene</th>\n",
       "      <th>fr_tetrazole</th>\n",
       "      <th>fr_thiazole</th>\n",
       "      <th>fr_thiocyan</th>\n",
       "      <th>fr_thiophene</th>\n",
       "      <th>fr_unbrch_alkane</th>\n",
       "      <th>fr_urea</th>\n",
       "    </tr>\n",
       "  </thead>\n",
       "  <tbody>\n",
       "    <tr>\n",
       "      <th>0</th>\n",
       "      <td>CHEMBL66112</td>\n",
       "      <td>test</td>\n",
       "      <td>0</td>\n",
       "      <td>Fc1ccc(CCN2CCCC(CNCCOC(c3ccccc3)c3ccccc3)C2)cc1</td>\n",
       "      <td>7.000000</td>\n",
       "      <td>14.525427</td>\n",
       "      <td>-5.202279</td>\n",
       "      <td>14.525427</td>\n",
       "      <td>1.190974</td>\n",
       "      <td>0.395086</td>\n",
       "      <td>...</td>\n",
       "      <td>0</td>\n",
       "      <td>0</td>\n",
       "      <td>0</td>\n",
       "      <td>0</td>\n",
       "      <td>0</td>\n",
       "      <td>0</td>\n",
       "      <td>0</td>\n",
       "      <td>0</td>\n",
       "      <td>0</td>\n",
       "      <td>0</td>\n",
       "    </tr>\n",
       "    <tr>\n",
       "      <th>1</th>\n",
       "      <td>CHEMBL633</td>\n",
       "      <td>test</td>\n",
       "      <td>0</td>\n",
       "      <td>CCCCc1oc2ccccc2c1C(=O)c1cc(I)c(OCCN(CC)CC)c(I)c1</td>\n",
       "      <td>5.701147</td>\n",
       "      <td>14.597360</td>\n",
       "      <td>-4.424745</td>\n",
       "      <td>14.597360</td>\n",
       "      <td>0.755957</td>\n",
       "      <td>0.167647</td>\n",
       "      <td>...</td>\n",
       "      <td>0</td>\n",
       "      <td>0</td>\n",
       "      <td>0</td>\n",
       "      <td>0</td>\n",
       "      <td>0</td>\n",
       "      <td>0</td>\n",
       "      <td>0</td>\n",
       "      <td>0</td>\n",
       "      <td>0</td>\n",
       "      <td>0</td>\n",
       "    </tr>\n",
       "    <tr>\n",
       "      <th>2</th>\n",
       "      <td>CHEMBL394755</td>\n",
       "      <td>test</td>\n",
       "      <td>0</td>\n",
       "      <td>O=C(CCCc1ccccc1)N1c2ccccc2Sc2ccccc21</td>\n",
       "      <td>5.481486</td>\n",
       "      <td>14.179167</td>\n",
       "      <td>-4.094387</td>\n",
       "      <td>14.179167</td>\n",
       "      <td>0.159457</td>\n",
       "      <td>0.591963</td>\n",
       "      <td>...</td>\n",
       "      <td>0</td>\n",
       "      <td>0</td>\n",
       "      <td>0</td>\n",
       "      <td>0</td>\n",
       "      <td>0</td>\n",
       "      <td>0</td>\n",
       "      <td>0</td>\n",
       "      <td>0</td>\n",
       "      <td>0</td>\n",
       "      <td>0</td>\n",
       "    </tr>\n",
       "    <tr>\n",
       "      <th>3</th>\n",
       "      <td>CHEMBL9514</td>\n",
       "      <td>test</td>\n",
       "      <td>0</td>\n",
       "      <td>COC(=O)Nc1nc2cc(C(=O)c3cccs3)ccc2[nH]1</td>\n",
       "      <td>5.305746</td>\n",
       "      <td>12.895676</td>\n",
       "      <td>-3.188057</td>\n",
       "      <td>12.895676</td>\n",
       "      <td>0.191192</td>\n",
       "      <td>0.728228</td>\n",
       "      <td>...</td>\n",
       "      <td>0</td>\n",
       "      <td>0</td>\n",
       "      <td>0</td>\n",
       "      <td>0</td>\n",
       "      <td>0</td>\n",
       "      <td>0</td>\n",
       "      <td>0</td>\n",
       "      <td>1</td>\n",
       "      <td>0</td>\n",
       "      <td>0</td>\n",
       "    </tr>\n",
       "    <tr>\n",
       "      <th>4</th>\n",
       "      <td>CHEMBL4564992</td>\n",
       "      <td>test</td>\n",
       "      <td>0</td>\n",
       "      <td>CN(CCOc1cc(COc2ccccc2)on1)C1CCCCC1</td>\n",
       "      <td>5.000000</td>\n",
       "      <td>8.755686</td>\n",
       "      <td>-4.710192</td>\n",
       "      <td>8.755686</td>\n",
       "      <td>0.873262</td>\n",
       "      <td>0.734541</td>\n",
       "      <td>...</td>\n",
       "      <td>0</td>\n",
       "      <td>0</td>\n",
       "      <td>0</td>\n",
       "      <td>0</td>\n",
       "      <td>0</td>\n",
       "      <td>0</td>\n",
       "      <td>0</td>\n",
       "      <td>0</td>\n",
       "      <td>0</td>\n",
       "      <td>0</td>\n",
       "    </tr>\n",
       "  </tbody>\n",
       "</table>\n",
       "<p>5 rows × 205 columns</p>\n",
       "</div>"
      ],
      "text/plain": [
       "     compound_id subset  fold  \\\n",
       "0    CHEMBL66112   test     0   \n",
       "1      CHEMBL633   test     0   \n",
       "2   CHEMBL394755   test     0   \n",
       "3     CHEMBL9514   test     0   \n",
       "4  CHEMBL4564992   test     0   \n",
       "\n",
       "                                  base_rdkit_smiles   avg_pKi  MaxEStateIndex  \\\n",
       "0   Fc1ccc(CCN2CCCC(CNCCOC(c3ccccc3)c3ccccc3)C2)cc1  7.000000       14.525427   \n",
       "1  CCCCc1oc2ccccc2c1C(=O)c1cc(I)c(OCCN(CC)CC)c(I)c1  5.701147       14.597360   \n",
       "2              O=C(CCCc1ccccc1)N1c2ccccc2Sc2ccccc21  5.481486       14.179167   \n",
       "3            COC(=O)Nc1nc2cc(C(=O)c3cccs3)ccc2[nH]1  5.305746       12.895676   \n",
       "4                CN(CCOc1cc(COc2ccccc2)on1)C1CCCCC1  5.000000        8.755686   \n",
       "\n",
       "   MinEStateIndex  MaxAbsEStateIndex  MinAbsEStateIndex       qed  ...  \\\n",
       "0       -5.202279          14.525427           1.190974  0.395086  ...   \n",
       "1       -4.424745          14.597360           0.755957  0.167647  ...   \n",
       "2       -4.094387          14.179167           0.159457  0.591963  ...   \n",
       "3       -3.188057          12.895676           0.191192  0.728228  ...   \n",
       "4       -4.710192           8.755686           0.873262  0.734541  ...   \n",
       "\n",
       "   fr_sulfide  fr_sulfonamd  fr_sulfone  fr_term_acetylene  fr_tetrazole  \\\n",
       "0           0             0           0                  0             0   \n",
       "1           0             0           0                  0             0   \n",
       "2           0             0           0                  0             0   \n",
       "3           0             0           0                  0             0   \n",
       "4           0             0           0                  0             0   \n",
       "\n",
       "   fr_thiazole  fr_thiocyan  fr_thiophene  fr_unbrch_alkane  fr_urea  \n",
       "0            0            0             0                 0        0  \n",
       "1            0            0             0                 0        0  \n",
       "2            0            0             0                 0        0  \n",
       "3            0            0             1                 0        0  \n",
       "4            0            0             0                 0        0  \n",
       "\n",
       "[5 rows x 205 columns]"
      ]
     },
     "execution_count": 5,
     "metadata": {},
     "output_type": "execute_result"
    }
   ],
   "source": [
    "split_file_dir = 'dataset/SLC6A3_Ki_curated_train_valid_test_scaffold_c35aeaab-910c-4dcf-8f9f-04b55179aa1a.csv'\n",
    "curated_data_dir = 'dataset/scaled_descriptors/SLC6A3_Ki_curated_with_rdkit_raw_descriptors.csv'\n",
    "\n",
    "\n",
    "split_file = pd.read_csv(split_file_dir)\n",
    "split_file.rename(columns = {'cmpd_id': 'compound_id'}, inplace=True)\n",
    "curated_data = pd.read_csv(curated_data_dir)\n",
    "\n",
    "\n",
    "test_data = split_file[split_file['subset'] == 'test'].merge(curated_data, on='compound_id', how='left')\n",
    "test_data.head()"
   ]
  },
  {
   "cell_type": "markdown",
   "id": "52d78fb0",
   "metadata": {},
   "source": [
    "## Apply best model and plot performance"
   ]
  },
  {
   "cell_type": "code",
   "execution_count": 6,
   "id": "91259674",
   "metadata": {},
   "outputs": [
    {
     "name": "stdout",
     "output_type": "stream",
     "text": [
      "dataset/SLC6A3_models/SLC6A3_Ki_curated_model_9b6c9332-15f3-4f96-9579-bf407d0b69a8.tar.gz\n",
      "Standardizing SMILES strings for 273 compounds.\n"
     ]
    },
    {
     "name": "stderr",
     "output_type": "stream",
     "text": [
      "INFO:atomsci.ddm.utils.model_version_utils:dataset/SLC6A3_models/SLC6A3_Ki_curated_model_9b6c9332-15f3-4f96-9579-bf407d0b69a8.tar.gz, 1.6.0\n",
      "INFO:atomsci.ddm.utils.model_version_utils:Version compatible check: dataset/SLC6A3_models/SLC6A3_Ki_curated_model_9b6c9332-15f3-4f96-9579-bf407d0b69a8.tar.gz version = \"1.6\", AMPL version = \"1.6\"\n"
     ]
    },
    {
     "name": "stdout",
     "output_type": "stream",
     "text": [
      "num_model_tasks is deprecated and its value is ignored.\n"
     ]
    },
    {
     "data": {
      "text/html": [
       "<div>\n",
       "<style scoped>\n",
       "    .dataframe tbody tr th:only-of-type {\n",
       "        vertical-align: middle;\n",
       "    }\n",
       "\n",
       "    .dataframe tbody tr th {\n",
       "        vertical-align: top;\n",
       "    }\n",
       "\n",
       "    .dataframe thead th {\n",
       "        text-align: right;\n",
       "    }\n",
       "</style>\n",
       "<table border=\"1\" class=\"dataframe\">\n",
       "  <thead>\n",
       "    <tr style=\"text-align: right;\">\n",
       "      <th></th>\n",
       "      <th>compound_id</th>\n",
       "      <th>subset</th>\n",
       "      <th>fold</th>\n",
       "      <th>base_rdkit_smiles</th>\n",
       "      <th>avg_pKi</th>\n",
       "      <th>MaxEStateIndex</th>\n",
       "      <th>MinEStateIndex</th>\n",
       "      <th>MaxAbsEStateIndex</th>\n",
       "      <th>MinAbsEStateIndex</th>\n",
       "      <th>qed</th>\n",
       "      <th>...</th>\n",
       "      <th>fr_tetrazole</th>\n",
       "      <th>fr_thiazole</th>\n",
       "      <th>fr_thiocyan</th>\n",
       "      <th>fr_thiophene</th>\n",
       "      <th>fr_unbrch_alkane</th>\n",
       "      <th>fr_urea</th>\n",
       "      <th>orig_smiles</th>\n",
       "      <th>avg_pKi_actual</th>\n",
       "      <th>avg_pKi_pred</th>\n",
       "      <th>avg_pKi_std</th>\n",
       "    </tr>\n",
       "  </thead>\n",
       "  <tbody>\n",
       "    <tr>\n",
       "      <th>0</th>\n",
       "      <td>CHEMBL66112</td>\n",
       "      <td>test</td>\n",
       "      <td>0</td>\n",
       "      <td>Fc1ccc(CCN2CCCC(CNCCOC(c3ccccc3)c3ccccc3)C2)cc1</td>\n",
       "      <td>7.000000</td>\n",
       "      <td>14.525427</td>\n",
       "      <td>-5.202279</td>\n",
       "      <td>14.525427</td>\n",
       "      <td>1.190974</td>\n",
       "      <td>0.395086</td>\n",
       "      <td>...</td>\n",
       "      <td>0</td>\n",
       "      <td>0</td>\n",
       "      <td>0</td>\n",
       "      <td>0</td>\n",
       "      <td>0</td>\n",
       "      <td>0</td>\n",
       "      <td>Fc1ccc(CCN2CCCC(CNCCOC(c3ccccc3)c3ccccc3)C2)cc1</td>\n",
       "      <td>7.000000</td>\n",
       "      <td>7.435418</td>\n",
       "      <td>1.377028</td>\n",
       "    </tr>\n",
       "    <tr>\n",
       "      <th>1</th>\n",
       "      <td>CHEMBL633</td>\n",
       "      <td>test</td>\n",
       "      <td>0</td>\n",
       "      <td>CCCCc1oc2ccccc2c1C(=O)c1cc(I)c(OCCN(CC)CC)c(I)c1</td>\n",
       "      <td>5.701147</td>\n",
       "      <td>14.597360</td>\n",
       "      <td>-4.424745</td>\n",
       "      <td>14.597360</td>\n",
       "      <td>0.755957</td>\n",
       "      <td>0.167647</td>\n",
       "      <td>...</td>\n",
       "      <td>0</td>\n",
       "      <td>0</td>\n",
       "      <td>0</td>\n",
       "      <td>0</td>\n",
       "      <td>0</td>\n",
       "      <td>0</td>\n",
       "      <td>CCCCc1oc2ccccc2c1C(=O)c1cc(I)c(OCCN(CC)CC)c(I)c1</td>\n",
       "      <td>5.701147</td>\n",
       "      <td>6.098991</td>\n",
       "      <td>1.056537</td>\n",
       "    </tr>\n",
       "    <tr>\n",
       "      <th>2</th>\n",
       "      <td>CHEMBL394755</td>\n",
       "      <td>test</td>\n",
       "      <td>0</td>\n",
       "      <td>O=C(CCCc1ccccc1)N1c2ccccc2Sc2ccccc21</td>\n",
       "      <td>5.481486</td>\n",
       "      <td>14.179167</td>\n",
       "      <td>-4.094387</td>\n",
       "      <td>14.179167</td>\n",
       "      <td>0.159457</td>\n",
       "      <td>0.591963</td>\n",
       "      <td>...</td>\n",
       "      <td>0</td>\n",
       "      <td>0</td>\n",
       "      <td>0</td>\n",
       "      <td>0</td>\n",
       "      <td>0</td>\n",
       "      <td>0</td>\n",
       "      <td>O=C(CCCc1ccccc1)N1c2ccccc2Sc2ccccc21</td>\n",
       "      <td>5.481486</td>\n",
       "      <td>5.719449</td>\n",
       "      <td>0.666110</td>\n",
       "    </tr>\n",
       "    <tr>\n",
       "      <th>3</th>\n",
       "      <td>CHEMBL9514</td>\n",
       "      <td>test</td>\n",
       "      <td>0</td>\n",
       "      <td>COC(=O)Nc1nc2cc(C(=O)c3cccs3)ccc2[nH]1</td>\n",
       "      <td>5.305746</td>\n",
       "      <td>12.895676</td>\n",
       "      <td>-3.188057</td>\n",
       "      <td>12.895676</td>\n",
       "      <td>0.191192</td>\n",
       "      <td>0.728228</td>\n",
       "      <td>...</td>\n",
       "      <td>0</td>\n",
       "      <td>0</td>\n",
       "      <td>0</td>\n",
       "      <td>1</td>\n",
       "      <td>0</td>\n",
       "      <td>0</td>\n",
       "      <td>COC(=O)Nc1nc2cc(C(=O)c3cccs3)ccc2[nH]1</td>\n",
       "      <td>5.305746</td>\n",
       "      <td>6.171436</td>\n",
       "      <td>1.059781</td>\n",
       "    </tr>\n",
       "    <tr>\n",
       "      <th>4</th>\n",
       "      <td>CHEMBL4564992</td>\n",
       "      <td>test</td>\n",
       "      <td>0</td>\n",
       "      <td>CN(CCOc1cc(COc2ccccc2)on1)C1CCCCC1</td>\n",
       "      <td>5.000000</td>\n",
       "      <td>8.755686</td>\n",
       "      <td>-4.710192</td>\n",
       "      <td>8.755686</td>\n",
       "      <td>0.873262</td>\n",
       "      <td>0.734541</td>\n",
       "      <td>...</td>\n",
       "      <td>0</td>\n",
       "      <td>0</td>\n",
       "      <td>0</td>\n",
       "      <td>0</td>\n",
       "      <td>0</td>\n",
       "      <td>0</td>\n",
       "      <td>CN(CCOc1cc(COc2ccccc2)on1)C1CCCCC1</td>\n",
       "      <td>5.000000</td>\n",
       "      <td>6.189706</td>\n",
       "      <td>0.728700</td>\n",
       "    </tr>\n",
       "  </tbody>\n",
       "</table>\n",
       "<p>5 rows × 209 columns</p>\n",
       "</div>"
      ],
      "text/plain": [
       "     compound_id subset  fold  \\\n",
       "0    CHEMBL66112   test     0   \n",
       "1      CHEMBL633   test     0   \n",
       "2   CHEMBL394755   test     0   \n",
       "3     CHEMBL9514   test     0   \n",
       "4  CHEMBL4564992   test     0   \n",
       "\n",
       "                                  base_rdkit_smiles   avg_pKi  MaxEStateIndex  \\\n",
       "0   Fc1ccc(CCN2CCCC(CNCCOC(c3ccccc3)c3ccccc3)C2)cc1  7.000000       14.525427   \n",
       "1  CCCCc1oc2ccccc2c1C(=O)c1cc(I)c(OCCN(CC)CC)c(I)c1  5.701147       14.597360   \n",
       "2              O=C(CCCc1ccccc1)N1c2ccccc2Sc2ccccc21  5.481486       14.179167   \n",
       "3            COC(=O)Nc1nc2cc(C(=O)c3cccs3)ccc2[nH]1  5.305746       12.895676   \n",
       "4                CN(CCOc1cc(COc2ccccc2)on1)C1CCCCC1  5.000000        8.755686   \n",
       "\n",
       "   MinEStateIndex  MaxAbsEStateIndex  MinAbsEStateIndex       qed  ...  \\\n",
       "0       -5.202279          14.525427           1.190974  0.395086  ...   \n",
       "1       -4.424745          14.597360           0.755957  0.167647  ...   \n",
       "2       -4.094387          14.179167           0.159457  0.591963  ...   \n",
       "3       -3.188057          12.895676           0.191192  0.728228  ...   \n",
       "4       -4.710192           8.755686           0.873262  0.734541  ...   \n",
       "\n",
       "   fr_tetrazole  fr_thiazole  fr_thiocyan  fr_thiophene  fr_unbrch_alkane  \\\n",
       "0             0            0            0             0                 0   \n",
       "1             0            0            0             0                 0   \n",
       "2             0            0            0             0                 0   \n",
       "3             0            0            0             1                 0   \n",
       "4             0            0            0             0                 0   \n",
       "\n",
       "   fr_urea                                       orig_smiles  avg_pKi_actual  \\\n",
       "0        0   Fc1ccc(CCN2CCCC(CNCCOC(c3ccccc3)c3ccccc3)C2)cc1        7.000000   \n",
       "1        0  CCCCc1oc2ccccc2c1C(=O)c1cc(I)c(OCCN(CC)CC)c(I)c1        5.701147   \n",
       "2        0              O=C(CCCc1ccccc1)N1c2ccccc2Sc2ccccc21        5.481486   \n",
       "3        0            COC(=O)Nc1nc2cc(C(=O)c3cccs3)ccc2[nH]1        5.305746   \n",
       "4        0                CN(CCOc1cc(COc2ccccc2)on1)C1CCCCC1        5.000000   \n",
       "\n",
       "   avg_pKi_pred  avg_pKi_std  \n",
       "0      7.435418     1.377028  \n",
       "1      6.098991     1.056537  \n",
       "2      5.719449     0.666110  \n",
       "3      6.171436     1.059781  \n",
       "4      6.189706     0.728700  \n",
       "\n",
       "[5 rows x 209 columns]"
      ]
     },
     "execution_count": 6,
     "metadata": {},
     "output_type": "execute_result"
    }
   ],
   "source": [
    "model_dir = best_model_path\n",
    "input_df = test_data\n",
    "id_col = 'compound_id'\n",
    "smiles_col = 'base_rdkit_smiles'\n",
    "response_col = 'avg_pKi'\n",
    "\n",
    "print(model_dir)\n",
    "\n",
    "pred_df = pfm.predict_from_model_file(model_path = model_dir, \n",
    "                                      input_df = test_data,\n",
    "                                      id_col = id_col ,\n",
    "                                      smiles_col = smiles_col, \n",
    "                                      response_col = response_col,\n",
    "                                      #external_training_data=split_file_dir,\n",
    "                                      is_featurized=False) #throws error if is_featurized=True\n",
    "                                      \n",
    "pred_df.head()"
   ]
  },
  {
   "cell_type": "code",
   "execution_count": 7,
   "id": "93066bd7",
   "metadata": {},
   "outputs": [
    {
     "name": "stdout",
     "output_type": "stream",
     "text": [
      "Best model r2_score: 0.476392\n"
     ]
    }
   ],
   "source": [
    "actual_value = pred_df['avg_pKi_actual']\n",
    "predicted_value = pred_df['avg_pKi_pred']\n",
    "r2 = np.round(r2_score(actual_value, predicted_value), 6)\n",
    "print(\"Best model r2_score: \" + str(r2))"
   ]
  },
  {
   "cell_type": "code",
   "execution_count": 8,
   "id": "321dcec5",
   "metadata": {},
   "outputs": [
    {
     "data": {
      "image/png": "[encoded data removed]",
      "text/plain": [
       "<Figure size 640x480 with 1 Axes>"
      ]
     },
     "metadata": {},
     "output_type": "display_data"
    }
   ],
   "source": [
    "pp.plot_pred_vs_actual_from_df(pred_df, actual_col='avg_pKi_actual', pred_col='avg_pKi_pred', label='Best Model Prediction on Test Set');"
   ]
  },
  {
   "cell_type": "markdown",
   "id": "d684218f",
   "metadata": {},
   "source": [
    "## Apply production model and plot performance\n",
    "\n",
    "This is a demonstration of using the production model to predict. This isn't intended to be an evaluation of production model performance."
   ]
  },
  {
   "cell_type": "code",
   "execution_count": 9,
   "id": "32b0156a",
   "metadata": {},
   "outputs": [
    {
     "name": "stdout",
     "output_type": "stream",
     "text": [
      "Standardizing SMILES strings for 273 compounds.\n"
     ]
    },
    {
     "name": "stderr",
     "output_type": "stream",
     "text": [
      "INFO:atomsci.ddm.utils.model_version_utils:dataset/SLC6A3_models/SLC6A3_Ki_curated_model_489d7a5a-cce8-4d3c-b5d7-10adc9324280.tar.gz, 1.6.1\n",
      "INFO:atomsci.ddm.utils.model_version_utils:Version compatible check: dataset/SLC6A3_models/SLC6A3_Ki_curated_model_489d7a5a-cce8-4d3c-b5d7-10adc9324280.tar.gz version = \"1.6\", AMPL version = \"1.6\"\n"
     ]
    },
    {
     "name": "stdout",
     "output_type": "stream",
     "text": [
      "num_model_tasks is deprecated and its value is ignored.\n"
     ]
    },
    {
     "data": {
      "text/html": [
       "<div>\n",
       "<style scoped>\n",
       "    .dataframe tbody tr th:only-of-type {\n",
       "        vertical-align: middle;\n",
       "    }\n",
       "\n",
       "    .dataframe tbody tr th {\n",
       "        vertical-align: top;\n",
       "    }\n",
       "\n",
       "    .dataframe thead th {\n",
       "        text-align: right;\n",
       "    }\n",
       "</style>\n",
       "<table border=\"1\" class=\"dataframe\">\n",
       "  <thead>\n",
       "    <tr style=\"text-align: right;\">\n",
       "      <th></th>\n",
       "      <th>compound_id</th>\n",
       "      <th>subset</th>\n",
       "      <th>fold</th>\n",
       "      <th>base_rdkit_smiles</th>\n",
       "      <th>avg_pKi</th>\n",
       "      <th>MaxEStateIndex</th>\n",
       "      <th>MinEStateIndex</th>\n",
       "      <th>MaxAbsEStateIndex</th>\n",
       "      <th>MinAbsEStateIndex</th>\n",
       "      <th>qed</th>\n",
       "      <th>...</th>\n",
       "      <th>fr_tetrazole</th>\n",
       "      <th>fr_thiazole</th>\n",
       "      <th>fr_thiocyan</th>\n",
       "      <th>fr_thiophene</th>\n",
       "      <th>fr_unbrch_alkane</th>\n",
       "      <th>fr_urea</th>\n",
       "      <th>orig_smiles</th>\n",
       "      <th>avg_pKi_actual</th>\n",
       "      <th>avg_pKi_pred</th>\n",
       "      <th>avg_pKi_std</th>\n",
       "    </tr>\n",
       "  </thead>\n",
       "  <tbody>\n",
       "    <tr>\n",
       "      <th>0</th>\n",
       "      <td>CHEMBL66112</td>\n",
       "      <td>test</td>\n",
       "      <td>0</td>\n",
       "      <td>Fc1ccc(CCN2CCCC(CNCCOC(c3ccccc3)c3ccccc3)C2)cc1</td>\n",
       "      <td>7.000000</td>\n",
       "      <td>14.525427</td>\n",
       "      <td>-5.202279</td>\n",
       "      <td>14.525427</td>\n",
       "      <td>1.190974</td>\n",
       "      <td>0.395086</td>\n",
       "      <td>...</td>\n",
       "      <td>0</td>\n",
       "      <td>0</td>\n",
       "      <td>0</td>\n",
       "      <td>0</td>\n",
       "      <td>0</td>\n",
       "      <td>0</td>\n",
       "      <td>Fc1ccc(CCN2CCCC(CNCCOC(c3ccccc3)c3ccccc3)C2)cc1</td>\n",
       "      <td>7.000000</td>\n",
       "      <td>7.106064</td>\n",
       "      <td>0.306911</td>\n",
       "    </tr>\n",
       "    <tr>\n",
       "      <th>1</th>\n",
       "      <td>CHEMBL633</td>\n",
       "      <td>test</td>\n",
       "      <td>0</td>\n",
       "      <td>CCCCc1oc2ccccc2c1C(=O)c1cc(I)c(OCCN(CC)CC)c(I)c1</td>\n",
       "      <td>5.701147</td>\n",
       "      <td>14.597360</td>\n",
       "      <td>-4.424745</td>\n",
       "      <td>14.597360</td>\n",
       "      <td>0.755957</td>\n",
       "      <td>0.167647</td>\n",
       "      <td>...</td>\n",
       "      <td>0</td>\n",
       "      <td>0</td>\n",
       "      <td>0</td>\n",
       "      <td>0</td>\n",
       "      <td>0</td>\n",
       "      <td>0</td>\n",
       "      <td>CCCCc1oc2ccccc2c1C(=O)c1cc(I)c(OCCN(CC)CC)c(I)c1</td>\n",
       "      <td>5.701147</td>\n",
       "      <td>5.715502</td>\n",
       "      <td>0.503650</td>\n",
       "    </tr>\n",
       "    <tr>\n",
       "      <th>2</th>\n",
       "      <td>CHEMBL394755</td>\n",
       "      <td>test</td>\n",
       "      <td>0</td>\n",
       "      <td>O=C(CCCc1ccccc1)N1c2ccccc2Sc2ccccc21</td>\n",
       "      <td>5.481486</td>\n",
       "      <td>14.179167</td>\n",
       "      <td>-4.094387</td>\n",
       "      <td>14.179167</td>\n",
       "      <td>0.159457</td>\n",
       "      <td>0.591963</td>\n",
       "      <td>...</td>\n",
       "      <td>0</td>\n",
       "      <td>0</td>\n",
       "      <td>0</td>\n",
       "      <td>0</td>\n",
       "      <td>0</td>\n",
       "      <td>0</td>\n",
       "      <td>O=C(CCCc1ccccc1)N1c2ccccc2Sc2ccccc21</td>\n",
       "      <td>5.481486</td>\n",
       "      <td>5.550203</td>\n",
       "      <td>0.362914</td>\n",
       "    </tr>\n",
       "    <tr>\n",
       "      <th>3</th>\n",
       "      <td>CHEMBL9514</td>\n",
       "      <td>test</td>\n",
       "      <td>0</td>\n",
       "      <td>COC(=O)Nc1nc2cc(C(=O)c3cccs3)ccc2[nH]1</td>\n",
       "      <td>5.305746</td>\n",
       "      <td>12.895676</td>\n",
       "      <td>-3.188057</td>\n",
       "      <td>12.895676</td>\n",
       "      <td>0.191192</td>\n",
       "      <td>0.728228</td>\n",
       "      <td>...</td>\n",
       "      <td>0</td>\n",
       "      <td>0</td>\n",
       "      <td>0</td>\n",
       "      <td>1</td>\n",
       "      <td>0</td>\n",
       "      <td>0</td>\n",
       "      <td>COC(=O)Nc1nc2cc(C(=O)c3cccs3)ccc2[nH]1</td>\n",
       "      <td>5.305746</td>\n",
       "      <td>5.473285</td>\n",
       "      <td>0.473397</td>\n",
       "    </tr>\n",
       "    <tr>\n",
       "      <th>4</th>\n",
       "      <td>CHEMBL4564992</td>\n",
       "      <td>test</td>\n",
       "      <td>0</td>\n",
       "      <td>CN(CCOc1cc(COc2ccccc2)on1)C1CCCCC1</td>\n",
       "      <td>5.000000</td>\n",
       "      <td>8.755686</td>\n",
       "      <td>-4.710192</td>\n",
       "      <td>8.755686</td>\n",
       "      <td>0.873262</td>\n",
       "      <td>0.734541</td>\n",
       "      <td>...</td>\n",
       "      <td>0</td>\n",
       "      <td>0</td>\n",
       "      <td>0</td>\n",
       "      <td>0</td>\n",
       "      <td>0</td>\n",
       "      <td>0</td>\n",
       "      <td>CN(CCOc1cc(COc2ccccc2)on1)C1CCCCC1</td>\n",
       "      <td>5.000000</td>\n",
       "      <td>5.407852</td>\n",
       "      <td>0.701265</td>\n",
       "    </tr>\n",
       "  </tbody>\n",
       "</table>\n",
       "<p>5 rows × 209 columns</p>\n",
       "</div>"
      ],
      "text/plain": [
       "     compound_id subset  fold  \\\n",
       "0    CHEMBL66112   test     0   \n",
       "1      CHEMBL633   test     0   \n",
       "2   CHEMBL394755   test     0   \n",
       "3     CHEMBL9514   test     0   \n",
       "4  CHEMBL4564992   test     0   \n",
       "\n",
       "                                  base_rdkit_smiles   avg_pKi  MaxEStateIndex  \\\n",
       "0   Fc1ccc(CCN2CCCC(CNCCOC(c3ccccc3)c3ccccc3)C2)cc1  7.000000       14.525427   \n",
       "1  CCCCc1oc2ccccc2c1C(=O)c1cc(I)c(OCCN(CC)CC)c(I)c1  5.701147       14.597360   \n",
       "2              O=C(CCCc1ccccc1)N1c2ccccc2Sc2ccccc21  5.481486       14.179167   \n",
       "3            COC(=O)Nc1nc2cc(C(=O)c3cccs3)ccc2[nH]1  5.305746       12.895676   \n",
       "4                CN(CCOc1cc(COc2ccccc2)on1)C1CCCCC1  5.000000        8.755686   \n",
       "\n",
       "   MinEStateIndex  MaxAbsEStateIndex  MinAbsEStateIndex       qed  ...  \\\n",
       "0       -5.202279          14.525427           1.190974  0.395086  ...   \n",
       "1       -4.424745          14.597360           0.755957  0.167647  ...   \n",
       "2       -4.094387          14.179167           0.159457  0.591963  ...   \n",
       "3       -3.188057          12.895676           0.191192  0.728228  ...   \n",
       "4       -4.710192           8.755686           0.873262  0.734541  ...   \n",
       "\n",
       "   fr_tetrazole  fr_thiazole  fr_thiocyan  fr_thiophene  fr_unbrch_alkane  \\\n",
       "0             0            0            0             0                 0   \n",
       "1             0            0            0             0                 0   \n",
       "2             0            0            0             0                 0   \n",
       "3             0            0            0             1                 0   \n",
       "4             0            0            0             0                 0   \n",
       "\n",
       "   fr_urea                                       orig_smiles  avg_pKi_actual  \\\n",
       "0        0   Fc1ccc(CCN2CCCC(CNCCOC(c3ccccc3)c3ccccc3)C2)cc1        7.000000   \n",
       "1        0  CCCCc1oc2ccccc2c1C(=O)c1cc(I)c(OCCN(CC)CC)c(I)c1        5.701147   \n",
       "2        0              O=C(CCCc1ccccc1)N1c2ccccc2Sc2ccccc21        5.481486   \n",
       "3        0            COC(=O)Nc1nc2cc(C(=O)c3cccs3)ccc2[nH]1        5.305746   \n",
       "4        0                CN(CCOc1cc(COc2ccccc2)on1)C1CCCCC1        5.000000   \n",
       "\n",
       "   avg_pKi_pred  avg_pKi_std  \n",
       "0      7.106064     0.306911  \n",
       "1      5.715502     0.503650  \n",
       "2      5.550203     0.362914  \n",
       "3      5.473285     0.473397  \n",
       "4      5.407852     0.701265  \n",
       "\n",
       "[5 rows x 209 columns]"
      ]
     },
     "execution_count": 9,
     "metadata": {},
     "output_type": "execute_result"
    }
   ],
   "source": [
    "model_dir = production_model.params.model_tarball_path\n",
    "\n",
    "# View the pred_df dataframe\n",
    "pred_df = pfm.predict_from_model_file(model_path = model_dir, \n",
    "                                      input_df = test_data,\n",
    "                                      id_col = id_col ,\n",
    "                                      smiles_col = smiles_col, \n",
    "                                      response_col = response_col,\n",
    "                                      #external_training_data=split_file_dir,\n",
    "                                      is_featurized=False)\n",
    "                                      \n",
    "pred_df.head()"
   ]
  },
  {
   "cell_type": "code",
   "execution_count": 10,
   "id": "cfbcaba2",
   "metadata": {},
   "outputs": [
    {
     "name": "stdout",
     "output_type": "stream",
     "text": [
      "Production model r2_score: 0.944137\n"
     ]
    }
   ],
   "source": [
    "actual_value = pred_df['avg_pKi_actual']\n",
    "predicted_value = pred_df['avg_pKi_pred']\n",
    "r2 = np.round(r2_score(actual_value, predicted_value), 6)\n",
    "print(\"Production model r2_score: \" + str(r2))"
   ]
  },
  {
   "cell_type": "code",
   "execution_count": 11,
   "id": "6c8c728f",
   "metadata": {},
   "outputs": [
    {
     "data": {
      "image/png": "[encoded data removed]",
      "text/plain": [
       "<Figure size 640x480 with 1 Axes>"
      ]
     },
     "metadata": {},
     "output_type": "display_data"
    }
   ],
   "source": [
    "pp.plot_pred_vs_actual_from_df(pred_df, actual_col='avg_pKi_actual', pred_col='avg_pKi_pred', label='Production Prediction on Test Set');"
   ]
  },
  {
   "cell_type": "markdown",
   "id": "9a96ccce",
   "metadata": {},
   "source": [
    ">**Comments:**\n",
    ">1. It would be better to show both plots (for the original best model and the production model) together in the same figure.\n",
    ">2. Of course, the plot looks better with the production model precisely because the \"test set\" is now included in the training data. If we switch to using an external test set, that won't be the case and we'll get to see how the production model performs differently (hopefully better)."
   ]
  },
  {
   "cell_type": "code",
   "execution_count": 12,
   "id": "aaafc5db",
   "metadata": {},
   "outputs": [
    {
     "data": {
      "text/plain": [
       "'dataset/SLC6A3_models/SLC6A3_Ki_curated_model_489d7a5a-cce8-4d3c-b5d7-10adc9324280.tar.gz'"
      ]
     },
     "execution_count": 12,
     "metadata": {},
     "output_type": "execute_result"
    }
   ],
   "source": [
    "# Production model path\n",
    "production_model.params.model_tarball_path"
   ]
  },
  {
   "cell_type": "markdown",
   "id": "ae588878",
   "metadata": {},
   "source": [
    "Future queries for this dataset will use this production model for prediction. In the next Tutorial 9, you'll explore visualization methods for presenting the predicted result for the production model."
   ]
  }
 ],
 "metadata": {
  "kernelspec": {
   "display_name": "ampl161_env",
   "language": "python",
   "name": "python3"
  },
  "language_info": {
   "codemirror_mode": {
    "name": "ipython",
    "version": 3
   },
   "file_extension": ".py",
   "mimetype": "text/x-python",
   "name": "python",
   "nbconvert_exporter": "python",
   "pygments_lexer": "ipython3",
   "version": "3.9.12"
  }
 },
 "nbformat": 4,
 "nbformat_minor": 5
}
