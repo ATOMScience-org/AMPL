{
 "cells": [
  {
   "cell_type": "markdown",
   "metadata": {},
   "source": [
    "# Hyperparameter Optimization\n",
    "Hyperparameters detail specifics of the learning process or model\n",
    "that are not learned in the training process. For example, the \n",
    "number of random trees is a hyperparameter for a random forest\n",
    "whereas a parameter for a random forest is which features go into\n",
    "a tree node and where the split points are for each feature.\n",
    "\n",
    "The choice for hyperprameters strongly influence model performance,\n",
    "so it is important to be able to optimize them as well. [AMPL](https://github.com/ATOMScience-org/AMPL)\n",
    "offers a variety of hyperparameter optimization methods including\n",
    "random sampling, grid search, and Bayesian optimization. \n",
    "\n",
    "Here we demonstrate the following:\n",
    "- Build a JSON config to perform a hyperparameter optimization for\n",
    "a random forest using Bayesian optimization.\n",
    "- Perform the optimization process.\n",
    "- Select the best model and display optimal hyperparameter choices.\n",
    "\n",
    "## JSON Settings.\n",
    "- `'hyperparam':True` This setting indicates that we are performing\n",
    "a hyperparameter search instead of just training one model.\n",
    "- `'search_type':'hyperopt'` This specifies the hyperparameter\n",
    "search method. Other options include grid, random, and geometric.\n",
    "Specifications for each hyperparameter search method is different,\n",
    "please refer to the full documentation. Here we are using the\n",
    "Bayesian optimization method.\n",
    "- `'model_type':'RF|10'` This means [AMPL](https://github.com/ATOMScience-org/AMPL) will try 10 times to \n",
    "find the best set of hyperparameters using random forests. In \n",
    "production this parameter could be set to 100 or more.\n",
    "- `'rfe':'uniformint|8,512'` The Bayesian optimizer will uniformly\n",
    "search between 8 and 512 for the best number of random forest estimators.\n",
    "Similarly `rfd` stands for random forest depth and `rff` stands for\n",
    "random forest features.\n",
    "- `result_dir` Now expects two parameters. The first directory\n",
    "will contain the best trained models while the second directory will\n",
    "contain all models trained in the search."
   ]
  },
  {
   "cell_type": "code",
   "execution_count": 1,
   "metadata": {},
   "outputs": [
    {
     "name": "stderr",
     "output_type": "stream",
     "text": [
      "/usr/WS1/he6/AMPL_virtualenv_1.6/lib/python3.9/site-packages/tqdm/auto.py:21: TqdmWarning: IProgress not found. Please update jupyter and ipywidgets. See https://ipywidgets.readthedocs.io/en/stable/user_install.html\n",
      "  from .autonotebook import tqdm as notebook_tqdm\n",
      "Skipped loading modules with pytorch-geometric dependency, missing a dependency. No module named 'torch_geometric'\n",
      "Skipped loading modules with pytorch-geometric dependency, missing a dependency. cannot import name 'DMPNN' from 'deepchem.models.torch_models' (/usr/WS1/he6/AMPL_virtualenv_1.6/lib/python3.9/site-packages/deepchem/models/torch_models/__init__.py)\n",
      "Skipped loading modules with pytorch-lightning dependency, missing a dependency. No module named 'pytorch_lightning'\n",
      "Skipped loading some Jax models, missing a dependency. jax requires jaxlib to be installed. See https://github.com/google/jax#installation for installation instructions.\n",
      "2024-01-10 14:33:16,473 Created a dataset hash '389b161b7a4eb2304323a7dfddacfacc' from dataset_key '/usr/WS1/he6/code/ATOM/AMPL1.6/atomsci/ddm/examples/tutorials2023/dataset/curated_kcna3_ic50.csv'\n"
     ]
    },
    {
     "name": "stdout",
     "output_type": "stream",
     "text": [
      "model_performance|train_r2|train_rms|valid_r2|valid_rms|test_r2|test_rms|model_params|model\n",
      "\n",
      "rf_estimators: 254, rf_max_depth: 23, rf_max_feature: 106\n",
      "  0%|          | 0/10 [00:00<?, ?trial/s, best loss=?]"
     ]
    },
    {
     "name": "stderr",
     "output_type": "stream",
     "text": [
      "2024-01-10 14:33:16,556 ['dataset_hash'] are not part of the accepted list of parameters and will be ignored\n",
      "2024-01-10 14:33:16,581 Created a dataset hash '389b161b7a4eb2304323a7dfddacfacc' from dataset_key '/usr/WS1/he6/code/ATOM/AMPL1.6/atomsci/ddm/examples/tutorials2023/dataset/curated_kcna3_ic50.csv'\n"
     ]
    },
    {
     "name": "stdout",
     "output_type": "stream",
     "text": [
      "num_model_tasks is deprecated and its value is ignored.\n",
      "RF model with computed_descriptors and rdkit_raw      \n",
      "  0%|          | 0/10 [00:00<?, ?trial/s, best loss=?]"
     ]
    },
    {
     "name": "stderr",
     "output_type": "stream",
     "text": [
      "2024-01-10 14:33:16,610 Reading descriptor spec table from /usr/WS1/he6/code/ATOM/AMPL1.6/atomsci/ddm/data/descriptor_sets_sources_by_descr_type.csv\n",
      "2024-01-10 14:33:16,620 Attempting to load featurized dataset\n",
      "2024-01-10 14:33:16,655 Got dataset, attempting to extract data\n",
      "2024-01-10 14:33:16,725 Creating deepchem dataset\n",
      "2024-01-10 14:33:16,726 Using prefeaturized data; number of features = 200\n",
      "2024-01-10 14:33:16,741 Previous dataset split restored\n",
      "/usr/WS1/he6/AMPL_virtualenv_1.6/lib/python3.9/site-packages/deepchem/data/datasets.py:473: RuntimeWarning: overflow encountered in multiply\n",
      "  X_m2 += dx * (X - X_means)\n",
      "\n",
      "2024-01-10 14:33:16,759 Wrote transformers to ./tmp_kcna3_rdkit_raw/curated_kcna3_ic50/RF_computed_descriptors_scaffold_regression/d629b010-081d-4ac2-816e-e591bd0a99e1/transformers.pkl\n",
      "2024-01-10 14:33:16,760 Transforming response data\n",
      "2024-01-10 14:33:16,761 Transforming feature data\n",
      "/usr/WS1/he6/code/ATOM/AMPL1.6/atomsci/ddm/pipeline/transformations.py:255: RuntimeWarning: invalid value encountered in divide\n",
      "  X = np.nan_to_num((X - self.X_means) * X_weight / self.X_stds)\n",
      "\n",
      "2024-01-10 14:33:16,765 Transforming response data\n",
      "2024-01-10 14:33:16,766 Transforming feature data\n",
      "2024-01-10 14:33:16,767 Transforming response data\n",
      "2024-01-10 14:33:16,768 Transforming feature data\n",
      "2024-01-10 14:33:16,769 Fitting random forest model\n",
      "2024-01-10 14:33:17,458 Fold 0: training r2_score = 0.976, validation r2_score = 0.724, test r2_score = 0.820\n",
      "2024-01-10 14:33:17,835 Wrote model tarball to ./tmp_kcna3_rdkit_raw/curated_kcna3_ic50_model_d629b010-081d-4ac2-816e-e591bd0a99e1.tar.gz\n"
     ]
    },
    {
     "name": "stdout",
     "output_type": "stream",
     "text": [
      "model_performance|0.976|0.282|0.724|0.752|0.820|0.721|254_23_106|./tmp_kcna3_rdkit_raw/curated_kcna3_ic50_model_d629b010-081d-4ac2-816e-e591bd0a99e1.tar.gz\n",
      "\n",
      "rf_estimators: 305, rf_max_depth: 8, rf_max_feature: 121                         \n",
      " 10%|█         | 1/10 [00:01<00:11,  1.33s/trial, best loss: 0.27644554399947097]"
     ]
    },
    {
     "name": "stderr",
     "output_type": "stream",
     "text": [
      "2024-01-10 14:33:17,884 ['dataset_hash'] are not part of the accepted list of parameters and will be ignored\n",
      "2024-01-10 14:33:17,906 Created a dataset hash '389b161b7a4eb2304323a7dfddacfacc' from dataset_key '/usr/WS1/he6/code/ATOM/AMPL1.6/atomsci/ddm/examples/tutorials2023/dataset/curated_kcna3_ic50.csv'\n"
     ]
    },
    {
     "name": "stdout",
     "output_type": "stream",
     "text": [
      "num_model_tasks is deprecated and its value is ignored.                          \n",
      "RF model with computed_descriptors and rdkit_raw                                 \n",
      " 10%|█         | 1/10 [00:01<00:11,  1.33s/trial, best loss: 0.27644554399947097]"
     ]
    },
    {
     "name": "stderr",
     "output_type": "stream",
     "text": [
      "2024-01-10 14:33:17,932 Attempting to load featurized dataset\n",
      "2024-01-10 14:33:17,966 Got dataset, attempting to extract data\n",
      "2024-01-10 14:33:18,032 Creating deepchem dataset\n",
      "2024-01-10 14:33:18,033 Using prefeaturized data; number of features = 200\n",
      "2024-01-10 14:33:18,047 Previous dataset split restored\n",
      "/usr/WS1/he6/AMPL_virtualenv_1.6/lib/python3.9/site-packages/deepchem/data/datasets.py:473: RuntimeWarning: overflow encountered in multiply\n",
      "  X_m2 += dx * (X - X_means)\n",
      "\n",
      "2024-01-10 14:33:18,061 Wrote transformers to ./tmp_kcna3_rdkit_raw/curated_kcna3_ic50/RF_computed_descriptors_scaffold_regression/36bf605d-f10b-4916-ae03-ae676c3e120e/transformers.pkl\n",
      "2024-01-10 14:33:18,062 Transforming response data\n",
      "2024-01-10 14:33:18,063 Transforming feature data\n",
      "/usr/WS1/he6/code/ATOM/AMPL1.6/atomsci/ddm/pipeline/transformations.py:255: RuntimeWarning: invalid value encountered in divide\n",
      "  X = np.nan_to_num((X - self.X_means) * X_weight / self.X_stds)\n",
      "\n",
      "2024-01-10 14:33:18,066 Transforming response data\n",
      "2024-01-10 14:33:18,067 Transforming feature data\n",
      "2024-01-10 14:33:18,069 Transforming response data\n",
      "2024-01-10 14:33:18,070 Transforming feature data\n",
      "2024-01-10 14:33:18,072 Fitting random forest model\n",
      "2024-01-10 14:33:18,848 Fold 0: training r2_score = 0.968, validation r2_score = 0.720, test r2_score = 0.814\n",
      "2024-01-10 14:33:19,145 Wrote model tarball to ./tmp_kcna3_rdkit_raw/curated_kcna3_ic50_model_36bf605d-f10b-4916-ae03-ae676c3e120e.tar.gz\n"
     ]
    },
    {
     "name": "stdout",
     "output_type": "stream",
     "text": [
      "model_performance|0.968|0.329|0.720|0.756|0.814|0.731|305_8_121|./tmp_kcna3_rdkit_raw/curated_kcna3_ic50_model_36bf605d-f10b-4916-ae03-ae676c3e120e.tar.gz\n",
      "\n",
      "rf_estimators: 430, rf_max_depth: 14, rf_max_feature: 26                         \n",
      " 20%|██        | 2/10 [00:02<00:10,  1.32s/trial, best loss: 0.27644554399947097]"
     ]
    },
    {
     "name": "stderr",
     "output_type": "stream",
     "text": [
      "2024-01-10 14:33:19,189 ['dataset_hash'] are not part of the accepted list of parameters and will be ignored\n",
      "2024-01-10 14:33:19,211 Created a dataset hash '389b161b7a4eb2304323a7dfddacfacc' from dataset_key '/usr/WS1/he6/code/ATOM/AMPL1.6/atomsci/ddm/examples/tutorials2023/dataset/curated_kcna3_ic50.csv'\n"
     ]
    },
    {
     "name": "stdout",
     "output_type": "stream",
     "text": [
      "num_model_tasks is deprecated and its value is ignored.                          \n",
      "RF model with computed_descriptors and rdkit_raw                                 \n",
      " 20%|██        | 2/10 [00:02<00:10,  1.32s/trial, best loss: 0.27644554399947097]"
     ]
    },
    {
     "name": "stderr",
     "output_type": "stream",
     "text": [
      "2024-01-10 14:33:19,232 Attempting to load featurized dataset\n",
      "2024-01-10 14:33:19,267 Got dataset, attempting to extract data\n",
      "2024-01-10 14:33:19,332 Creating deepchem dataset\n",
      "2024-01-10 14:33:19,333 Using prefeaturized data; number of features = 200\n",
      "2024-01-10 14:33:19,347 Previous dataset split restored\n",
      "/usr/WS1/he6/AMPL_virtualenv_1.6/lib/python3.9/site-packages/deepchem/data/datasets.py:473: RuntimeWarning: overflow encountered in multiply\n",
      "  X_m2 += dx * (X - X_means)\n",
      "\n",
      "2024-01-10 14:33:19,360 Wrote transformers to ./tmp_kcna3_rdkit_raw/curated_kcna3_ic50/RF_computed_descriptors_scaffold_regression/1e31a914-724a-4282-b3fc-58d2e68e6830/transformers.pkl\n",
      "2024-01-10 14:33:19,361 Transforming response data\n",
      "2024-01-10 14:33:19,362 Transforming feature data\n",
      "/usr/WS1/he6/code/ATOM/AMPL1.6/atomsci/ddm/pipeline/transformations.py:255: RuntimeWarning: invalid value encountered in divide\n",
      "  X = np.nan_to_num((X - self.X_means) * X_weight / self.X_stds)\n",
      "\n",
      "2024-01-10 14:33:19,365 Transforming response data\n",
      "2024-01-10 14:33:19,365 Transforming feature data\n",
      "2024-01-10 14:33:19,367 Transforming response data\n",
      "2024-01-10 14:33:19,367 Transforming feature data\n",
      "2024-01-10 14:33:19,369 Fitting random forest model\n",
      "2024-01-10 14:33:20,442 Fold 0: training r2_score = 0.975, validation r2_score = 0.723, test r2_score = 0.827\n",
      "2024-01-10 14:33:21,034 Wrote model tarball to ./tmp_kcna3_rdkit_raw/curated_kcna3_ic50_model_1e31a914-724a-4282-b3fc-58d2e68e6830.tar.gz\n"
     ]
    },
    {
     "name": "stdout",
     "output_type": "stream",
     "text": [
      "model_performance|0.975|0.291|0.723|0.753|0.827|0.707|430_14_26|./tmp_kcna3_rdkit_raw/curated_kcna3_ic50_model_1e31a914-724a-4282-b3fc-58d2e68e6830.tar.gz\n",
      "\n",
      "rf_estimators: 194, rf_max_depth: 27, rf_max_feature: 45                         \n",
      " 30%|███       | 3/10 [00:04<00:11,  1.58s/trial, best loss: 0.27644554399947097]"
     ]
    },
    {
     "name": "stderr",
     "output_type": "stream",
     "text": [
      "2024-01-10 14:33:21,080 ['dataset_hash'] are not part of the accepted list of parameters and will be ignored\n",
      "2024-01-10 14:33:21,102 Created a dataset hash '389b161b7a4eb2304323a7dfddacfacc' from dataset_key '/usr/WS1/he6/code/ATOM/AMPL1.6/atomsci/ddm/examples/tutorials2023/dataset/curated_kcna3_ic50.csv'\n"
     ]
    },
    {
     "name": "stdout",
     "output_type": "stream",
     "text": [
      "num_model_tasks is deprecated and its value is ignored.                          \n",
      "RF model with computed_descriptors and rdkit_raw                                 \n",
      " 30%|███       | 3/10 [00:04<00:11,  1.58s/trial, best loss: 0.27644554399947097]"
     ]
    },
    {
     "name": "stderr",
     "output_type": "stream",
     "text": [
      "2024-01-10 14:33:21,125 Attempting to load featurized dataset\n",
      "2024-01-10 14:33:21,158 Got dataset, attempting to extract data\n",
      "2024-01-10 14:33:21,219 Creating deepchem dataset\n",
      "2024-01-10 14:33:21,220 Using prefeaturized data; number of features = 200\n",
      "2024-01-10 14:33:21,233 Previous dataset split restored\n",
      "/usr/WS1/he6/AMPL_virtualenv_1.6/lib/python3.9/site-packages/deepchem/data/datasets.py:473: RuntimeWarning: overflow encountered in multiply\n",
      "  X_m2 += dx * (X - X_means)\n",
      "\n",
      "2024-01-10 14:33:21,247 Wrote transformers to ./tmp_kcna3_rdkit_raw/curated_kcna3_ic50/RF_computed_descriptors_scaffold_regression/075a3895-90ea-4a68-824e-e47ebfa50e2e/transformers.pkl\n",
      "2024-01-10 14:33:21,247 Transforming response data\n",
      "2024-01-10 14:33:21,248 Transforming feature data\n",
      "/usr/WS1/he6/code/ATOM/AMPL1.6/atomsci/ddm/pipeline/transformations.py:255: RuntimeWarning: invalid value encountered in divide\n",
      "  X = np.nan_to_num((X - self.X_means) * X_weight / self.X_stds)\n",
      "\n",
      "2024-01-10 14:33:21,251 Transforming response data\n",
      "2024-01-10 14:33:21,252 Transforming feature data\n",
      "2024-01-10 14:33:21,254 Transforming response data\n",
      "2024-01-10 14:33:21,254 Transforming feature data\n",
      "2024-01-10 14:33:21,256 Fitting random forest model\n",
      "2024-01-10 14:33:21,770 Fold 0: training r2_score = 0.975, validation r2_score = 0.711, test r2_score = 0.821\n",
      "2024-01-10 14:33:22,052 Wrote model tarball to ./tmp_kcna3_rdkit_raw/curated_kcna3_ic50_model_075a3895-90ea-4a68-824e-e47ebfa50e2e.tar.gz\n"
     ]
    },
    {
     "name": "stdout",
     "output_type": "stream",
     "text": [
      "model_performance|0.975|0.289|0.711|0.769|0.821|0.717|194_27_45|./tmp_kcna3_rdkit_raw/curated_kcna3_ic50_model_075a3895-90ea-4a68-824e-e47ebfa50e2e.tar.gz\n",
      "\n",
      "rf_estimators: 386, rf_max_depth: 11, rf_max_feature: 186                        \n",
      " 40%|████      | 4/10 [00:05<00:08,  1.36s/trial, best loss: 0.27644554399947097]"
     ]
    },
    {
     "name": "stderr",
     "output_type": "stream",
     "text": [
      "2024-01-10 14:33:22,104 ['dataset_hash'] are not part of the accepted list of parameters and will be ignored\n",
      "2024-01-10 14:33:22,129 Created a dataset hash '389b161b7a4eb2304323a7dfddacfacc' from dataset_key '/usr/WS1/he6/code/ATOM/AMPL1.6/atomsci/ddm/examples/tutorials2023/dataset/curated_kcna3_ic50.csv'\n"
     ]
    },
    {
     "name": "stdout",
     "output_type": "stream",
     "text": [
      "num_model_tasks is deprecated and its value is ignored.                          \n",
      "RF model with computed_descriptors and rdkit_raw                                 \n",
      " 40%|████      | 4/10 [00:05<00:08,  1.36s/trial, best loss: 0.27644554399947097]"
     ]
    },
    {
     "name": "stderr",
     "output_type": "stream",
     "text": [
      "2024-01-10 14:33:22,151 Attempting to load featurized dataset\n",
      "2024-01-10 14:33:22,186 Got dataset, attempting to extract data\n",
      "2024-01-10 14:33:22,250 Creating deepchem dataset\n",
      "2024-01-10 14:33:22,251 Using prefeaturized data; number of features = 200\n",
      "2024-01-10 14:33:22,265 Previous dataset split restored\n",
      "/usr/WS1/he6/AMPL_virtualenv_1.6/lib/python3.9/site-packages/deepchem/data/datasets.py:473: RuntimeWarning: overflow encountered in multiply\n",
      "  X_m2 += dx * (X - X_means)\n",
      "\n",
      "2024-01-10 14:33:22,278 Wrote transformers to ./tmp_kcna3_rdkit_raw/curated_kcna3_ic50/RF_computed_descriptors_scaffold_regression/20126de6-00f4-4f94-9bc9-fbedf1b1469a/transformers.pkl\n",
      "2024-01-10 14:33:22,279 Transforming response data\n",
      "2024-01-10 14:33:22,280 Transforming feature data\n",
      "/usr/WS1/he6/code/ATOM/AMPL1.6/atomsci/ddm/pipeline/transformations.py:255: RuntimeWarning: invalid value encountered in divide\n",
      "  X = np.nan_to_num((X - self.X_means) * X_weight / self.X_stds)\n",
      "\n",
      "2024-01-10 14:33:22,282 Transforming response data\n",
      "2024-01-10 14:33:22,283 Transforming feature data\n",
      "2024-01-10 14:33:22,284 Transforming response data\n",
      "2024-01-10 14:33:22,285 Transforming feature data\n",
      "2024-01-10 14:33:22,286 Fitting random forest model\n",
      "2024-01-10 14:33:23,271 Fold 0: training r2_score = 0.975, validation r2_score = 0.721, test r2_score = 0.820\n",
      "2024-01-10 14:33:23,752 Wrote model tarball to ./tmp_kcna3_rdkit_raw/curated_kcna3_ic50_model_20126de6-00f4-4f94-9bc9-fbedf1b1469a.tar.gz\n"
     ]
    },
    {
     "name": "stdout",
     "output_type": "stream",
     "text": [
      "model_performance|0.975|0.290|0.721|0.756|0.820|0.719|386_11_186|./tmp_kcna3_rdkit_raw/curated_kcna3_ic50_model_20126de6-00f4-4f94-9bc9-fbedf1b1469a.tar.gz\n",
      "\n",
      "rf_estimators: 467, rf_max_depth: 23, rf_max_feature: 86                         \n",
      " 50%|█████     | 5/10 [00:07<00:07,  1.48s/trial, best loss: 0.27644554399947097]"
     ]
    },
    {
     "name": "stderr",
     "output_type": "stream",
     "text": [
      "2024-01-10 14:33:23,798 ['dataset_hash'] are not part of the accepted list of parameters and will be ignored\n",
      "2024-01-10 14:33:23,820 Created a dataset hash '389b161b7a4eb2304323a7dfddacfacc' from dataset_key '/usr/WS1/he6/code/ATOM/AMPL1.6/atomsci/ddm/examples/tutorials2023/dataset/curated_kcna3_ic50.csv'\n"
     ]
    },
    {
     "name": "stdout",
     "output_type": "stream",
     "text": [
      "num_model_tasks is deprecated and its value is ignored.                          \n",
      "RF model with computed_descriptors and rdkit_raw                                 \n",
      " 50%|█████     | 5/10 [00:07<00:07,  1.48s/trial, best loss: 0.27644554399947097]"
     ]
    },
    {
     "name": "stderr",
     "output_type": "stream",
     "text": [
      "2024-01-10 14:33:23,841 Attempting to load featurized dataset\n",
      "2024-01-10 14:33:23,874 Got dataset, attempting to extract data\n",
      "2024-01-10 14:33:23,936 Creating deepchem dataset\n",
      "2024-01-10 14:33:23,937 Using prefeaturized data; number of features = 200\n",
      "2024-01-10 14:33:23,950 Previous dataset split restored\n",
      "/usr/WS1/he6/AMPL_virtualenv_1.6/lib/python3.9/site-packages/deepchem/data/datasets.py:473: RuntimeWarning: overflow encountered in multiply\n",
      "  X_m2 += dx * (X - X_means)\n",
      "\n",
      "2024-01-10 14:33:23,962 Wrote transformers to ./tmp_kcna3_rdkit_raw/curated_kcna3_ic50/RF_computed_descriptors_scaffold_regression/304c3d79-4eba-4f0f-a2e9-adb8e92bfaa3/transformers.pkl\n",
      "2024-01-10 14:33:23,963 Transforming response data\n",
      "2024-01-10 14:33:23,964 Transforming feature data\n",
      "/usr/WS1/he6/code/ATOM/AMPL1.6/atomsci/ddm/pipeline/transformations.py:255: RuntimeWarning: invalid value encountered in divide\n",
      "  X = np.nan_to_num((X - self.X_means) * X_weight / self.X_stds)\n",
      "\n",
      "2024-01-10 14:33:23,966 Transforming response data\n",
      "2024-01-10 14:33:23,967 Transforming feature data\n",
      "2024-01-10 14:33:23,968 Transforming response data\n",
      "2024-01-10 14:33:23,969 Transforming feature data\n",
      "2024-01-10 14:33:23,970 Fitting random forest model\n",
      "2024-01-10 14:33:25,139 Fold 0: training r2_score = 0.976, validation r2_score = 0.718, test r2_score = 0.818\n",
      "2024-01-10 14:33:25,765 Wrote model tarball to ./tmp_kcna3_rdkit_raw/curated_kcna3_ic50_model_304c3d79-4eba-4f0f-a2e9-adb8e92bfaa3.tar.gz\n"
     ]
    },
    {
     "name": "stdout",
     "output_type": "stream",
     "text": [
      "model_performance|0.976|0.284|0.718|0.759|0.818|0.724|467_23_86|./tmp_kcna3_rdkit_raw/curated_kcna3_ic50_model_304c3d79-4eba-4f0f-a2e9-adb8e92bfaa3.tar.gz\n",
      "\n",
      "rf_estimators: 148, rf_max_depth: 18, rf_max_feature: 157                        \n",
      " 60%|██████    | 6/10 [00:09<00:06,  1.66s/trial, best loss: 0.27644554399947097]"
     ]
    },
    {
     "name": "stderr",
     "output_type": "stream",
     "text": [
      "2024-01-10 14:33:25,808 ['dataset_hash'] are not part of the accepted list of parameters and will be ignored\n",
      "2024-01-10 14:33:25,829 Created a dataset hash '389b161b7a4eb2304323a7dfddacfacc' from dataset_key '/usr/WS1/he6/code/ATOM/AMPL1.6/atomsci/ddm/examples/tutorials2023/dataset/curated_kcna3_ic50.csv'\n"
     ]
    },
    {
     "name": "stdout",
     "output_type": "stream",
     "text": [
      "num_model_tasks is deprecated and its value is ignored.                          \n",
      "RF model with computed_descriptors and rdkit_raw                                 \n",
      " 60%|██████    | 6/10 [00:09<00:06,  1.66s/trial, best loss: 0.27644554399947097]"
     ]
    },
    {
     "name": "stderr",
     "output_type": "stream",
     "text": [
      "2024-01-10 14:33:25,850 Attempting to load featurized dataset\n",
      "2024-01-10 14:33:25,881 Got dataset, attempting to extract data\n",
      "2024-01-10 14:33:25,942 Creating deepchem dataset\n",
      "2024-01-10 14:33:25,942 Using prefeaturized data; number of features = 200\n",
      "2024-01-10 14:33:25,955 Previous dataset split restored\n",
      "/usr/WS1/he6/AMPL_virtualenv_1.6/lib/python3.9/site-packages/deepchem/data/datasets.py:473: RuntimeWarning: overflow encountered in multiply\n",
      "  X_m2 += dx * (X - X_means)\n",
      "\n",
      "2024-01-10 14:33:25,967 Wrote transformers to ./tmp_kcna3_rdkit_raw/curated_kcna3_ic50/RF_computed_descriptors_scaffold_regression/8c5b367d-4679-416c-a441-7c3c3a8ef399/transformers.pkl\n",
      "2024-01-10 14:33:25,967 Transforming response data\n",
      "2024-01-10 14:33:25,968 Transforming feature data\n",
      "/usr/WS1/he6/code/ATOM/AMPL1.6/atomsci/ddm/pipeline/transformations.py:255: RuntimeWarning: invalid value encountered in divide\n",
      "  X = np.nan_to_num((X - self.X_means) * X_weight / self.X_stds)\n",
      "\n",
      "2024-01-10 14:33:25,971 Transforming response data\n",
      "2024-01-10 14:33:25,972 Transforming feature data\n",
      "2024-01-10 14:33:25,973 Transforming response data\n",
      "2024-01-10 14:33:25,974 Transforming feature data\n",
      "2024-01-10 14:33:25,975 Fitting random forest model\n",
      "2024-01-10 14:33:26,380 Fold 0: training r2_score = 0.976, validation r2_score = 0.707, test r2_score = 0.811\n",
      "2024-01-10 14:33:26,609 Wrote model tarball to ./tmp_kcna3_rdkit_raw/curated_kcna3_ic50_model_8c5b367d-4679-416c-a441-7c3c3a8ef399.tar.gz\n"
     ]
    },
    {
     "name": "stdout",
     "output_type": "stream",
     "text": [
      "model_performance|0.976|0.284|0.707|0.774|0.811|0.739|148_18_157|./tmp_kcna3_rdkit_raw/curated_kcna3_ic50_model_8c5b367d-4679-416c-a441-7c3c3a8ef399.tar.gz\n",
      "\n",
      "rf_estimators: 250, rf_max_depth: 21, rf_max_feature: 16                         \n",
      " 70%|███████   | 7/10 [00:10<00:04,  1.39s/trial, best loss: 0.27644554399947097]"
     ]
    },
    {
     "name": "stderr",
     "output_type": "stream",
     "text": [
      "2024-01-10 14:33:26,656 ['dataset_hash'] are not part of the accepted list of parameters and will be ignored\n",
      "2024-01-10 14:33:26,679 Created a dataset hash '389b161b7a4eb2304323a7dfddacfacc' from dataset_key '/usr/WS1/he6/code/ATOM/AMPL1.6/atomsci/ddm/examples/tutorials2023/dataset/curated_kcna3_ic50.csv'\n"
     ]
    },
    {
     "name": "stdout",
     "output_type": "stream",
     "text": [
      "num_model_tasks is deprecated and its value is ignored.                          \n",
      "RF model with computed_descriptors and rdkit_raw                                 \n",
      " 70%|███████   | 7/10 [00:10<00:04,  1.39s/trial, best loss: 0.27644554399947097]"
     ]
    },
    {
     "name": "stderr",
     "output_type": "stream",
     "text": [
      "2024-01-10 14:33:26,701 Attempting to load featurized dataset\n",
      "2024-01-10 14:33:26,737 Got dataset, attempting to extract data\n",
      "2024-01-10 14:33:26,804 Creating deepchem dataset\n",
      "2024-01-10 14:33:26,805 Using prefeaturized data; number of features = 200\n",
      "2024-01-10 14:33:26,820 Previous dataset split restored\n",
      "/usr/WS1/he6/AMPL_virtualenv_1.6/lib/python3.9/site-packages/deepchem/data/datasets.py:473: RuntimeWarning: overflow encountered in multiply\n",
      "  X_m2 += dx * (X - X_means)\n",
      "\n",
      "2024-01-10 14:33:26,833 Wrote transformers to ./tmp_kcna3_rdkit_raw/curated_kcna3_ic50/RF_computed_descriptors_scaffold_regression/879457eb-19ba-4dc6-9581-ed2b1e0dcc4b/transformers.pkl\n",
      "2024-01-10 14:33:26,834 Transforming response data\n",
      "2024-01-10 14:33:26,834 Transforming feature data\n",
      "/usr/WS1/he6/code/ATOM/AMPL1.6/atomsci/ddm/pipeline/transformations.py:255: RuntimeWarning: invalid value encountered in divide\n",
      "  X = np.nan_to_num((X - self.X_means) * X_weight / self.X_stds)\n",
      "\n",
      "2024-01-10 14:33:26,837 Transforming response data\n",
      "2024-01-10 14:33:26,838 Transforming feature data\n",
      "2024-01-10 14:33:26,839 Transforming response data\n",
      "2024-01-10 14:33:26,840 Transforming feature data\n",
      "2024-01-10 14:33:26,841 Fitting random forest model\n",
      "2024-01-10 14:33:27,488 Fold 0: training r2_score = 0.975, validation r2_score = 0.717, test r2_score = 0.830\n",
      "2024-01-10 14:33:27,856 Wrote model tarball to ./tmp_kcna3_rdkit_raw/curated_kcna3_ic50_model_879457eb-19ba-4dc6-9581-ed2b1e0dcc4b.tar.gz\n"
     ]
    },
    {
     "name": "stdout",
     "output_type": "stream",
     "text": [
      "model_performance|0.975|0.286|0.717|0.761|0.830|0.699|250_21_16|./tmp_kcna3_rdkit_raw/curated_kcna3_ic50_model_879457eb-19ba-4dc6-9581-ed2b1e0dcc4b.tar.gz\n",
      "\n",
      "rf_estimators: 85, rf_max_depth: 18, rf_max_feature: 67                          \n",
      " 80%|████████  | 8/10 [00:11<00:02,  1.35s/trial, best loss: 0.27644554399947097]"
     ]
    },
    {
     "name": "stderr",
     "output_type": "stream",
     "text": [
      "2024-01-10 14:33:27,902 ['dataset_hash'] are not part of the accepted list of parameters and will be ignored\n",
      "2024-01-10 14:33:27,924 Created a dataset hash '389b161b7a4eb2304323a7dfddacfacc' from dataset_key '/usr/WS1/he6/code/ATOM/AMPL1.6/atomsci/ddm/examples/tutorials2023/dataset/curated_kcna3_ic50.csv'\n"
     ]
    },
    {
     "name": "stdout",
     "output_type": "stream",
     "text": [
      "num_model_tasks is deprecated and its value is ignored.                          \n",
      "RF model with computed_descriptors and rdkit_raw                                 \n",
      " 80%|████████  | 8/10 [00:11<00:02,  1.35s/trial, best loss: 0.27644554399947097]"
     ]
    },
    {
     "name": "stderr",
     "output_type": "stream",
     "text": [
      "2024-01-10 14:33:27,949 Attempting to load featurized dataset\n",
      "2024-01-10 14:33:27,984 Got dataset, attempting to extract data\n",
      "2024-01-10 14:33:28,046 Creating deepchem dataset\n",
      "2024-01-10 14:33:28,047 Using prefeaturized data; number of features = 200\n",
      "2024-01-10 14:33:28,060 Previous dataset split restored\n",
      "/usr/WS1/he6/AMPL_virtualenv_1.6/lib/python3.9/site-packages/deepchem/data/datasets.py:473: RuntimeWarning: overflow encountered in multiply\n",
      "  X_m2 += dx * (X - X_means)\n",
      "\n",
      "2024-01-10 14:33:28,073 Wrote transformers to ./tmp_kcna3_rdkit_raw/curated_kcna3_ic50/RF_computed_descriptors_scaffold_regression/06c3817f-24c2-4869-983b-bbba4973a8ee/transformers.pkl\n",
      "2024-01-10 14:33:28,074 Transforming response data\n",
      "2024-01-10 14:33:28,074 Transforming feature data\n",
      "/usr/WS1/he6/code/ATOM/AMPL1.6/atomsci/ddm/pipeline/transformations.py:255: RuntimeWarning: invalid value encountered in divide\n",
      "  X = np.nan_to_num((X - self.X_means) * X_weight / self.X_stds)\n",
      "\n",
      "2024-01-10 14:33:28,077 Transforming response data\n",
      "2024-01-10 14:33:28,078 Transforming feature data\n",
      "2024-01-10 14:33:28,079 Transforming response data\n",
      "2024-01-10 14:33:28,079 Transforming feature data\n",
      "2024-01-10 14:33:28,081 Fitting random forest model\n",
      "2024-01-10 14:33:28,336 Fold 0: training r2_score = 0.976, validation r2_score = 0.711, test r2_score = 0.823\n",
      "2024-01-10 14:33:28,485 Wrote model tarball to ./tmp_kcna3_rdkit_raw/curated_kcna3_ic50_model_06c3817f-24c2-4869-983b-bbba4973a8ee.tar.gz\n"
     ]
    },
    {
     "name": "stdout",
     "output_type": "stream",
     "text": [
      "model_performance|0.976|0.286|0.711|0.769|0.823|0.714|85_18_67|./tmp_kcna3_rdkit_raw/curated_kcna3_ic50_model_06c3817f-24c2-4869-983b-bbba4973a8ee.tar.gz\n",
      "\n",
      "rf_estimators: 509, rf_max_depth: 15, rf_max_feature: 61                         \n",
      " 90%|█████████ | 9/10 [00:11<00:01,  1.12s/trial, best loss: 0.27644554399947097]"
     ]
    },
    {
     "name": "stderr",
     "output_type": "stream",
     "text": [
      "2024-01-10 14:33:28,530 ['dataset_hash'] are not part of the accepted list of parameters and will be ignored\n",
      "2024-01-10 14:33:28,552 Created a dataset hash '389b161b7a4eb2304323a7dfddacfacc' from dataset_key '/usr/WS1/he6/code/ATOM/AMPL1.6/atomsci/ddm/examples/tutorials2023/dataset/curated_kcna3_ic50.csv'\n"
     ]
    },
    {
     "name": "stdout",
     "output_type": "stream",
     "text": [
      "num_model_tasks is deprecated and its value is ignored.                          \n",
      "RF model with computed_descriptors and rdkit_raw                                 \n",
      " 90%|█████████ | 9/10 [00:12<00:01,  1.12s/trial, best loss: 0.27644554399947097]"
     ]
    },
    {
     "name": "stderr",
     "output_type": "stream",
     "text": [
      "2024-01-10 14:33:28,573 Attempting to load featurized dataset\n",
      "2024-01-10 14:33:28,607 Got dataset, attempting to extract data\n",
      "2024-01-10 14:33:28,670 Creating deepchem dataset\n",
      "2024-01-10 14:33:28,671 Using prefeaturized data; number of features = 200\n",
      "2024-01-10 14:33:28,684 Previous dataset split restored\n",
      "/usr/WS1/he6/AMPL_virtualenv_1.6/lib/python3.9/site-packages/deepchem/data/datasets.py:473: RuntimeWarning: overflow encountered in multiply\n",
      "  X_m2 += dx * (X - X_means)\n",
      "\n",
      "2024-01-10 14:33:28,696 Wrote transformers to ./tmp_kcna3_rdkit_raw/curated_kcna3_ic50/RF_computed_descriptors_scaffold_regression/c9e8fcd1-7013-406d-95e3-889d2417e65c/transformers.pkl\n",
      "2024-01-10 14:33:28,697 Transforming response data\n",
      "2024-01-10 14:33:28,698 Transforming feature data\n",
      "/usr/WS1/he6/code/ATOM/AMPL1.6/atomsci/ddm/pipeline/transformations.py:255: RuntimeWarning: invalid value encountered in divide\n",
      "  X = np.nan_to_num((X - self.X_means) * X_weight / self.X_stds)\n",
      "\n",
      "2024-01-10 14:33:28,701 Transforming response data\n",
      "2024-01-10 14:33:28,701 Transforming feature data\n",
      "2024-01-10 14:33:28,702 Transforming response data\n",
      "2024-01-10 14:33:28,703 Transforming feature data\n",
      "2024-01-10 14:33:28,704 Fitting random forest model\n",
      "2024-01-10 14:33:29,969 Fold 0: training r2_score = 0.976, validation r2_score = 0.719, test r2_score = 0.827\n",
      "2024-01-10 14:33:30,660 Wrote model tarball to ./tmp_kcna3_rdkit_raw/curated_kcna3_ic50_model_c9e8fcd1-7013-406d-95e3-889d2417e65c.tar.gz\n"
     ]
    },
    {
     "name": "stdout",
     "output_type": "stream",
     "text": [
      "model_performance|0.976|0.285|0.719|0.759|0.827|0.706|509_15_61|./tmp_kcna3_rdkit_raw/curated_kcna3_ic50_model_c9e8fcd1-7013-406d-95e3-889d2417e65c.tar.gz\n",
      "\n",
      "100%|██████████| 10/10 [00:14<00:00,  1.42s/trial, best loss: 0.27644554399947097]\n",
      "Generating the performance -- iteration table and Copy the best model tarball.\n",
      "Best model: ./tmp_kcna3_rdkit_raw/curated_kcna3_ic50_model_d629b010-081d-4ac2-816e-e591bd0a99e1.tar.gz, valid R2: 0.723554456000529\n"
     ]
    }
   ],
   "source": [
    "import atomsci.ddm.utils.hyperparam_search_wrapper as hsw\n",
    "import os\n",
    "\n",
    "descriptor_type = 'rdkit_raw'\n",
    "output_dir = 'output_kcna3_rdkit_raw'\n",
    "tmp_dir = 'tmp_kcna3_rdkit_raw'\n",
    "split_uuid = \"3c4e7b81-35e8-49c1-97c8-6a12faa36df4\"\n",
    "\n",
    "config = {\n",
    "    \"hyperparam\": \"True\",\n",
    "    \"prediction_type\": \"regression\",\n",
    "\n",
    "    \"dataset_key\": \"dataset/curated_kcna3_ic50.csv\",\n",
    "    \"id_col\": \"compound_id\",\n",
    "    \"smiles_col\": \"base_rdkit_smiles\",\n",
    "    \"response_cols\": \"avg_pIC50\",\n",
    "\n",
    "    \"splitter\":\"scaffold\",\n",
    "    \"split_uuid\": split_uuid,\n",
    "    \"previously_split\": \"True\",\n",
    "\n",
    "    \"featurizer\": \"computed_descriptors\",\n",
    "    \"descriptor_type\" : descriptor_type,\n",
    "    \"transformers\": \"True\",\n",
    "\n",
    "    \"search_type\": \"hyperopt\",\n",
    "    \"model_type\": \"RF|10\",\n",
    "    \"rfe\": \"uniformint|8,512\",\n",
    "    \"rfd\": \"uniformint|6,32\",\n",
    "    \"rff\": \"uniformint|8,200\",\n",
    "\n",
    "    \"result_dir\": f\"./{output_dir},./{tmp_dir}\"\n",
    "}\n",
    "\n",
    "\n",
    "if not os.path.exists(f'./{output_dir}'):\n",
    "    os.mkdir(f'./{output_dir}')\n",
    "\n",
    "params = hsw.parse_params(config)\n",
    "hs = hsw.build_search(params)\n",
    "hs.run_search()\n"
   ]
  },
  {
   "cell_type": "markdown",
   "metadata": {},
   "source": [
    "The best model will be saved in `output_kcna3_rdkit_raw` along with a csv file\n",
    "containing regression performance for all trained models.\n",
    "\n",
    "The rest of the models are saved in `tmp_kcna3_rdkit_raw`. These models can be\n",
    "explored using `get_filesystem_perf_results`."
   ]
  },
  {
   "cell_type": "code",
   "execution_count": 2,
   "metadata": {},
   "outputs": [
    {
     "name": "stderr",
     "output_type": "stream",
     "text": [
      "2024-01-10 14:33:31,461 Warning: column names have been changed to align with get_multitask_perf_from_tracker(): featurizer is now features and <subset>_<metric> has been changed to best_<subset>_<metric>.\n"
     ]
    },
    {
     "name": "stdout",
     "output_type": "stream",
     "text": [
      "Found data for 10 models under tmp_kcna3_rdkit_raw\n"
     ]
    }
   ],
   "source": [
    "import atomsci.ddm.pipeline.compare_models as cm\n",
    "\n",
    "result_df = cm.get_filesystem_perf_results(\n",
    "    result_dir='tmp_kcna3_rdkit_raw',\n",
    "    pred_type='regression'\n",
    ")\n",
    "\n",
    "# sort by validation r2 score to find the best model\n",
    "result_df = result_df.sort_values(by='best_valid_r2_score', ascending=False)"
   ]
  },
  {
   "cell_type": "markdown",
   "metadata": {},
   "source": [
    "The column `model_parameters_dict` contains hyperparamters used for the best model."
   ]
  },
  {
   "cell_type": "code",
   "execution_count": 3,
   "metadata": {},
   "outputs": [
    {
     "data": {
      "text/plain": [
       "'{\"rf_estimators\": 254, \"rf_max_depth\": 23, \"rf_max_features\": 106}'"
      ]
     },
     "execution_count": 3,
     "metadata": {},
     "output_type": "execute_result"
    }
   ],
   "source": [
    "result_df.iloc[0].model_parameters_dict"
   ]
  }
 ],
 "metadata": {
  "kernelspec": {
   "display_name": "Python 3",
   "language": "python",
   "name": "python3"
  },
  "language_info": {
   "codemirror_mode": {
    "name": "ipython",
    "version": 3
   },
   "file_extension": ".py",
   "mimetype": "text/x-python",
   "name": "python",
   "nbconvert_exporter": "python",
   "pygments_lexer": "ipython3",
   "version": "3.9.12"
  }
 },
 "nbformat": 4,
 "nbformat_minor": 2
}
