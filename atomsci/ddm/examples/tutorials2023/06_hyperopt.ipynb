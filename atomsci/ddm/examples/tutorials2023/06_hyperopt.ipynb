{
 "cells": [
  {
   "cell_type": "markdown",
   "metadata": {},
   "source": [
    "# Hyperparameter Optimization\n",
    "In this tutorial we demonstrate the following:\n",
    "- Build a JSON config to perform a hyperparameter optimization for\n",
    "a random forest using Bayesian optimization.\n",
    "- Perform the optimization process.\n",
    "- Select the best model and display optimal hyperparameter choices.\n",
    "\n",
    "Hyperparameters detail specifics of the learning process or model\n",
    "that are not learned in the training process. For example, the \n",
    "number of random trees is a hyperparameter for a random forest\n",
    "whereas a parameter for a random forest is which features go into\n",
    "a tree node and where the split points are for each feature.\n",
    "\n",
    "The choice for hyperprameters strongly influence model performance,\n",
    "so it is important to be able to optimize them as well. [AMPL](https://github.com/ATOMScience-org/AMPL)\n",
    "offers a variety of hyperparameter optimization methods including\n",
    "random sampling, grid search, and Bayesian optimization. "
   ]
  },
  {
   "cell_type": "markdown",
   "metadata": {},
   "source": [
    "## Setup directories\n",
    "Describe important features like descriptor type and output directories. Make sure the directories are created before training the models."
   ]
  },
  {
   "cell_type": "code",
   "execution_count": 149,
   "metadata": {},
   "outputs": [],
   "source": [
    "import warnings\n",
    "warnings.filterwarnings('ignore', category=FutureWarning)\n",
    "\n",
    "import os\n",
    "\n",
    "descriptor_type = 'rdkit_raw'\n",
    "output_dir = 'output_kcna3_rdkit_raw'\n",
    "tmp_dir = 'tmp_kcna3_rdkit_raw'\n",
    "split_uuid = \"3c4e7b81-35e8-49c1-97c8-6a12faa36df4\"\n",
    "\n",
    "if not os.path.exists(f'./{output_dir}'):\n",
    "    os.mkdir(f'./{output_dir}')\n",
    "    \n",
    "if not os.path.exists(f'./{tmp_dir}'):\n",
    "    os.mkdir(f'./{tmp_dir}')"
   ]
  },
  {
   "cell_type": "markdown",
   "metadata": {},
   "source": [
    "## JSON Settings.\n",
    "- `'hyperparam':True` This setting indicates that we are performing\n",
    "a hyperparameter search instead of just training one model.\n",
    "- `'search_type':'hyperopt'` This specifies the hyperparameter\n",
    "search method. Other options include grid, random, and geometric.\n",
    "Specifications for each hyperparameter search method is different,\n",
    "please refer to the full documentation. Here we are using the\n",
    "Bayesian optimization method.\n",
    "- `'model_type':'RF|10'` This means [AMPL](https://github.com/ATOMScience-org/AMPL) will try 10 times to \n",
    "find the best set of hyperparameters using random forests. In \n",
    "production this parameter could be set to 100 or more.\n",
    "- `'rfe':'uniformint|8,512'` The Bayesian optimizer will uniformly\n",
    "search between 8 and 512 for the best number of random forest estimators.\n",
    "Similarly `rfd` stands for random forest depth and `rff` stands for\n",
    "random forest features.\n",
    "- `result_dir` Now expects two parameters. The first directory\n",
    "will contain the best trained models while the second directory will\n",
    "contain all models trained in the search."
   ]
  },
  {
   "cell_type": "code",
   "execution_count": 150,
   "metadata": {},
   "outputs": [],
   "source": [
    "config = {\n",
    "    \"hyperparam\": \"True\",\n",
    "    \"prediction_type\": \"regression\",\n",
    "\n",
    "    \"dataset_key\": \"dataset/curated_kcna3_ic50.csv\",\n",
    "    \"id_col\": \"compound_id\",\n",
    "    \"smiles_col\": \"base_rdkit_smiles\",\n",
    "    \"response_cols\": \"avg_pIC50\",\n",
    "\n",
    "    \"splitter\":\"scaffold\",\n",
    "    \"split_uuid\": split_uuid,\n",
    "    \"previously_split\": \"True\",\n",
    "\n",
    "    \"featurizer\": \"computed_descriptors\",\n",
    "    \"descriptor_type\" : descriptor_type,\n",
    "    \"transformers\": \"True\",\n",
    "\n",
    "    \"search_type\": \"hyperopt\",\n",
    "    \"model_type\": \"RF|10\",\n",
    "    \"rfe\": \"uniformint|8,512\",\n",
    "    \"rfd\": \"uniformint|6,32\",\n",
    "    \"rff\": \"uniformint|8,200\",\n",
    "\n",
    "    \"result_dir\": f\"./{output_dir},./{tmp_dir}\"\n",
    "}"
   ]
  },
  {
   "cell_type": "markdown",
   "metadata": {},
   "source": [
    "In tutorial 4 we directly imported the `parameter_parser` and `model_pipeline` objects to parse the `config` dict and train a single model. Here, we use `hyperparameter_search_wrapper` to handle many models for us. First we build the search by creating a list of parameters to use, and then we run the search."
   ]
  },
  {
   "cell_type": "code",
   "execution_count": 151,
   "metadata": {
    "scrolled": true
   },
   "outputs": [
    {
     "name": "stdout",
     "output_type": "stream",
     "text": [
      "model_performance|train_r2|train_rms|valid_r2|valid_rms|test_r2|test_rms|model_params|model\n",
      "\n",
      "rf_estimators: 82, rf_max_depth: 19, rf_max_feature: 165                        \n",
      "num_model_tasks is deprecated and its value is ignored.                         \n",
      "RF model with computed_descriptors and rdkit_raw                                \n",
      "  0%|                                    | 0/10 [00:00<?, ?trial/s, best loss=?]"
     ]
    },
    {
     "name": "stderr",
     "output_type": "stream",
     "text": [
      "/home/apaulson/atomsci/lib/python3.9/site-packages/deepchem/data/datasets.py:473: RuntimeWarning: overflow encountered in multiply\n",
      "  X_m2 += dx * (X - X_means)\n",
      "\n",
      "/home/apaulson/repos/AMPL_umbrella/AMPL/atomsci/ddm/pipeline/transformations.py:255: RuntimeWarning: invalid value encountered in divide\n",
      "  X = np.nan_to_num((X - self.X_means) * X_weight / self.X_stds)\n",
      "\n"
     ]
    },
    {
     "name": "stdout",
     "output_type": "stream",
     "text": [
      "model_performance|0.975|0.291|0.707|0.774|0.821|0.719|82_19_165|./tmp_kcna3_rdkit_raw/curated_kcna3_ic50_model_3adb77c7-59bc-4c89-b986-0bab21bf30f8.tar.gz\n",
      "\n",
      "rf_estimators: 246, rf_max_depth: 12, rf_max_feature: 92                        \n",
      "num_model_tasks is deprecated and its value is ignored.                         \n",
      "RF model with computed_descriptors and rdkit_raw                                \n",
      " 10%|█         | 1/10 [00:00<00:02,  3.44trial/s, best loss: 0.2930857053644045]"
     ]
    },
    {
     "name": "stderr",
     "output_type": "stream",
     "text": [
      "/home/apaulson/atomsci/lib/python3.9/site-packages/deepchem/data/datasets.py:473: RuntimeWarning: overflow encountered in multiply\n",
      "  X_m2 += dx * (X - X_means)\n",
      "\n",
      "/home/apaulson/repos/AMPL_umbrella/AMPL/atomsci/ddm/pipeline/transformations.py:255: RuntimeWarning: invalid value encountered in divide\n",
      "  X = np.nan_to_num((X - self.X_means) * X_weight / self.X_stds)\n",
      "\n"
     ]
    },
    {
     "name": "stdout",
     "output_type": "stream",
     "text": [
      "model_performance|0.975|0.289|0.733|0.739|0.825|0.710|246_12_92|./tmp_kcna3_rdkit_raw/curated_kcna3_ic50_model_fc3c50a4-92cd-4124-9d51-d0e869a4b49b.tar.gz\n",
      "\n",
      "rf_estimators: 276, rf_max_depth: 22, rf_max_feature: 18                        \n",
      "num_model_tasks is deprecated and its value is ignored.                         \n",
      "RF model with computed_descriptors and rdkit_raw                                \n",
      " 20%|█▊       | 2/10 [00:00<00:03,  2.05trial/s, best loss: 0.26667698519247107]"
     ]
    },
    {
     "name": "stderr",
     "output_type": "stream",
     "text": [
      "/home/apaulson/atomsci/lib/python3.9/site-packages/deepchem/data/datasets.py:473: RuntimeWarning: overflow encountered in multiply\n",
      "  X_m2 += dx * (X - X_means)\n",
      "\n",
      "/home/apaulson/repos/AMPL_umbrella/AMPL/atomsci/ddm/pipeline/transformations.py:255: RuntimeWarning: invalid value encountered in divide\n",
      "  X = np.nan_to_num((X - self.X_means) * X_weight / self.X_stds)\n",
      "\n"
     ]
    },
    {
     "name": "stdout",
     "output_type": "stream",
     "text": [
      "model_performance|0.975|0.286|0.728|0.746|0.825|0.710|276_22_18|./tmp_kcna3_rdkit_raw/curated_kcna3_ic50_model_e54ea9f6-d86c-45f0-a4b6-2ebd5b4ffb61.tar.gz\n",
      "\n",
      "rf_estimators: 206, rf_max_depth: 28, rf_max_feature: 143                       \n",
      "num_model_tasks is deprecated and its value is ignored.                         \n",
      "RF model with computed_descriptors and rdkit_raw                                \n",
      " 30%|██▋      | 3/10 [00:01<00:03,  2.02trial/s, best loss: 0.26667698519247107]"
     ]
    },
    {
     "name": "stderr",
     "output_type": "stream",
     "text": [
      "/home/apaulson/atomsci/lib/python3.9/site-packages/deepchem/data/datasets.py:473: RuntimeWarning: overflow encountered in multiply\n",
      "  X_m2 += dx * (X - X_means)\n",
      "\n",
      "/home/apaulson/repos/AMPL_umbrella/AMPL/atomsci/ddm/pipeline/transformations.py:255: RuntimeWarning: invalid value encountered in divide\n",
      "  X = np.nan_to_num((X - self.X_means) * X_weight / self.X_stds)\n",
      "\n"
     ]
    },
    {
     "name": "stdout",
     "output_type": "stream",
     "text": [
      "model_performance|0.976|0.285|0.717|0.761|0.820|0.721|206_28_143|./tmp_kcna3_rdkit_raw/curated_kcna3_ic50_model_0ddc4a85-2686-4ade-b633-e0aaef617289.tar.gz\n",
      "\n",
      "rf_estimators: 399, rf_max_depth: 28, rf_max_feature: 112                       \n",
      "num_model_tasks is deprecated and its value is ignored.                         \n",
      "RF model with computed_descriptors and rdkit_raw                                \n",
      " 40%|███▌     | 4/10 [00:02<00:03,  1.87trial/s, best loss: 0.26667698519247107]"
     ]
    },
    {
     "name": "stderr",
     "output_type": "stream",
     "text": [
      "/home/apaulson/atomsci/lib/python3.9/site-packages/deepchem/data/datasets.py:473: RuntimeWarning: overflow encountered in multiply\n",
      "  X_m2 += dx * (X - X_means)\n",
      "\n",
      "/home/apaulson/repos/AMPL_umbrella/AMPL/atomsci/ddm/pipeline/transformations.py:255: RuntimeWarning: invalid value encountered in divide\n",
      "  X = np.nan_to_num((X - self.X_means) * X_weight / self.X_stds)\n",
      "\n"
     ]
    },
    {
     "name": "stdout",
     "output_type": "stream",
     "text": [
      "model_performance|0.975|0.286|0.714|0.765|0.818|0.723|399_28_112|./tmp_kcna3_rdkit_raw/curated_kcna3_ic50_model_4ccb1f76-6f68-45ec-b868-75879dd67cc3.tar.gz\n",
      "\n",
      "rf_estimators: 51, rf_max_depth: 26, rf_max_feature: 178                        \n",
      "num_model_tasks is deprecated and its value is ignored.                         \n",
      "RF model with computed_descriptors and rdkit_raw                                \n",
      "model_performance|0.974|0.294|0.722|0.755|0.816|0.728|51_26_178|./tmp_kcna3_rdkit_raw/curated_kcna3_ic50_model_7ab655d2-d036-4643-bc55-f25e32e910de.tar.gz\n",
      "\n",
      "rf_estimators: 34, rf_max_depth: 9, rf_max_feature: 84                          \n",
      "num_model_tasks is deprecated and its value is ignored.                         \n",
      "RF model with computed_descriptors and rdkit_raw                                \n",
      " 60%|█████▍   | 6/10 [00:03<00:02,  1.92trial/s, best loss: 0.26667698519247107]"
     ]
    },
    {
     "name": "stderr",
     "output_type": "stream",
     "text": [
      "/home/apaulson/atomsci/lib/python3.9/site-packages/deepchem/data/datasets.py:473: RuntimeWarning: overflow encountered in multiply\n",
      "  X_m2 += dx * (X - X_means)\n",
      "\n",
      "/home/apaulson/repos/AMPL_umbrella/AMPL/atomsci/ddm/pipeline/transformations.py:255: RuntimeWarning: invalid value encountered in divide\n",
      "  X = np.nan_to_num((X - self.X_means) * X_weight / self.X_stds)\n",
      "\n"
     ]
    },
    {
     "name": "stdout",
     "output_type": "stream",
     "text": [
      "model_performance|0.972|0.307|0.729|0.745|0.812|0.735|34_9_84|./tmp_kcna3_rdkit_raw/curated_kcna3_ic50_model_43570a44-2e3a-4af8-9d8a-e3de2d52196c.tar.gz\n",
      "\n",
      "rf_estimators: 429, rf_max_depth: 6, rf_max_feature: 63                         \n",
      "num_model_tasks is deprecated and its value is ignored.                         \n",
      "RF model with computed_descriptors and rdkit_raw                                \n",
      " 70%|██████▎  | 7/10 [00:03<00:01,  2.46trial/s, best loss: 0.26667698519247107]"
     ]
    },
    {
     "name": "stderr",
     "output_type": "stream",
     "text": [
      "/home/apaulson/atomsci/lib/python3.9/site-packages/deepchem/data/datasets.py:473: RuntimeWarning: overflow encountered in multiply\n",
      "  X_m2 += dx * (X - X_means)\n",
      "\n",
      "/home/apaulson/repos/AMPL_umbrella/AMPL/atomsci/ddm/pipeline/transformations.py:255: RuntimeWarning: invalid value encountered in divide\n",
      "  X = np.nan_to_num((X - self.X_means) * X_weight / self.X_stds)\n",
      "\n",
      "/home/apaulson/atomsci/lib/python3.9/site-packages/deepchem/data/datasets.py:473: RuntimeWarning: overflow encountered in multiply\n",
      "  X_m2 += dx * (X - X_means)\n",
      "\n",
      "/home/apaulson/repos/AMPL_umbrella/AMPL/atomsci/ddm/pipeline/transformations.py:255: RuntimeWarning: invalid value encountered in divide\n",
      "  X = np.nan_to_num((X - self.X_means) * X_weight / self.X_stds)\n",
      "\n"
     ]
    },
    {
     "name": "stdout",
     "output_type": "stream",
     "text": [
      "model_performance|0.947|0.420|0.710|0.770|0.820|0.719|429_6_63|./tmp_kcna3_rdkit_raw/curated_kcna3_ic50_model_808e6f6a-e39c-4474-a656-8cb1090aca8f.tar.gz\n",
      "\n",
      "rf_estimators: 461, rf_max_depth: 28, rf_max_feature: 59                        \n",
      "num_model_tasks is deprecated and its value is ignored.                         \n",
      "RF model with computed_descriptors and rdkit_raw                                \n",
      " 80%|███████▏ | 8/10 [00:04<00:00,  2.00trial/s, best loss: 0.26667698519247107]"
     ]
    },
    {
     "name": "stderr",
     "output_type": "stream",
     "text": [
      "/home/apaulson/atomsci/lib/python3.9/site-packages/deepchem/data/datasets.py:473: RuntimeWarning: overflow encountered in multiply\n",
      "  X_m2 += dx * (X - X_means)\n",
      "\n",
      "/home/apaulson/repos/AMPL_umbrella/AMPL/atomsci/ddm/pipeline/transformations.py:255: RuntimeWarning: invalid value encountered in divide\n",
      "  X = np.nan_to_num((X - self.X_means) * X_weight / self.X_stds)\n",
      "\n"
     ]
    },
    {
     "name": "stdout",
     "output_type": "stream",
     "text": [
      "model_performance|0.976|0.285|0.724|0.751|0.824|0.711|461_28_59|./tmp_kcna3_rdkit_raw/curated_kcna3_ic50_model_ae58b7a7-71ab-44e3-b93f-7f421533b121.tar.gz\n",
      "\n",
      "rf_estimators: 41, rf_max_depth: 17, rf_max_feature: 59                         \n",
      "num_model_tasks is deprecated and its value is ignored.                         \n",
      "RF model with computed_descriptors and rdkit_raw                                \n",
      "model_performance|0.974|0.296|0.716|0.763|0.825|0.711|41_17_59|./tmp_kcna3_rdkit_raw/curated_kcna3_ic50_model_b64c02fc-7c71-4534-b824-a2fcbeb76183.tar.gz\n",
      "\n",
      "100%|████████| 10/10 [00:05<00:00,  1.93trial/s, best loss: 0.26667698519247107]\n",
      "Generating the performance -- iteration table and Copy the best model tarball.\n",
      "Best model: ./tmp_kcna3_rdkit_raw/curated_kcna3_ic50_model_fc3c50a4-92cd-4124-9d51-d0e869a4b49b.tar.gz, valid R2: 0.7333230148075289\n"
     ]
    },
    {
     "name": "stderr",
     "output_type": "stream",
     "text": [
      "/home/apaulson/atomsci/lib/python3.9/site-packages/deepchem/data/datasets.py:473: RuntimeWarning: overflow encountered in multiply\n",
      "  X_m2 += dx * (X - X_means)\n",
      "\n",
      "/home/apaulson/repos/AMPL_umbrella/AMPL/atomsci/ddm/pipeline/transformations.py:255: RuntimeWarning: invalid value encountered in divide\n",
      "  X = np.nan_to_num((X - self.X_means) * X_weight / self.X_stds)\n",
      "\n"
     ]
    }
   ],
   "source": [
    "import atomsci.ddm.utils.hyperparam_search_wrapper as hsw\n",
    "\n",
    "params = hsw.parse_params(config)\n",
    "hs = hsw.build_search(params)\n",
    "hs.run_search()"
   ]
  },
  {
   "cell_type": "markdown",
   "metadata": {},
   "source": [
    "The best model will be saved in `output_kcna3_rdkit_raw` along with a csv file\n",
    "containing regression performance for all trained models.\n",
    "\n",
    "The rest of the models are saved in `tmp_kcna3_rdkit_raw`. These models can be\n",
    "explored using `get_filesystem_perf_results`."
   ]
  },
  {
   "cell_type": "code",
   "execution_count": 152,
   "metadata": {},
   "outputs": [
    {
     "name": "stdout",
     "output_type": "stream",
     "text": [
      "Found data for 20 models under tmp_kcna3_rdkit_raw\n"
     ]
    },
    {
     "data": {
      "text/html": [
       "<div>\n",
       "<style scoped>\n",
       "    .dataframe tbody tr th:only-of-type {\n",
       "        vertical-align: middle;\n",
       "    }\n",
       "\n",
       "    .dataframe tbody tr th {\n",
       "        vertical-align: top;\n",
       "    }\n",
       "\n",
       "    .dataframe thead th {\n",
       "        text-align: right;\n",
       "    }\n",
       "</style>\n",
       "<table border=\"1\" class=\"dataframe\">\n",
       "  <thead>\n",
       "    <tr style=\"text-align: right;\">\n",
       "      <th></th>\n",
       "      <th>model_uuid</th>\n",
       "      <th>model_path</th>\n",
       "      <th>ampl_version</th>\n",
       "      <th>model_type</th>\n",
       "      <th>dataset_key</th>\n",
       "      <th>features</th>\n",
       "      <th>splitter</th>\n",
       "      <th>model_score_type</th>\n",
       "      <th>feature_transform_type</th>\n",
       "      <th>model_choice_score</th>\n",
       "      <th>...</th>\n",
       "      <th>rf_max_depth</th>\n",
       "      <th>max_epochs</th>\n",
       "      <th>best_epoch</th>\n",
       "      <th>learning_rate</th>\n",
       "      <th>layer_sizes</th>\n",
       "      <th>dropouts</th>\n",
       "      <th>xgb_gamma</th>\n",
       "      <th>xgb_learning_rate</th>\n",
       "      <th>model_parameters_dict</th>\n",
       "      <th>feat_parameters_dict</th>\n",
       "    </tr>\n",
       "  </thead>\n",
       "  <tbody>\n",
       "    <tr>\n",
       "      <th>11</th>\n",
       "      <td>fc3c50a4-92cd-4124-9d51-d0e869a4b49b</td>\n",
       "      <td>tmp_kcna3_rdkit_raw/curated_kcna3_ic50_model_f...</td>\n",
       "      <td>1.6.0</td>\n",
       "      <td>RF</td>\n",
       "      <td>/home/apaulson/repos/AMPL_umbrella/AMPL/atomsc...</td>\n",
       "      <td>rdkit_raw</td>\n",
       "      <td>scaffold</td>\n",
       "      <td>r2</td>\n",
       "      <td>normalization</td>\n",
       "      <td>0.733323</td>\n",
       "      <td>...</td>\n",
       "      <td>12</td>\n",
       "      <td>NaN</td>\n",
       "      <td>NaN</td>\n",
       "      <td>NaN</td>\n",
       "      <td>NaN</td>\n",
       "      <td>NaN</td>\n",
       "      <td>NaN</td>\n",
       "      <td>NaN</td>\n",
       "      <td>{\"rf_estimators\": 246, \"rf_max_depth\": 12, \"rf...</td>\n",
       "      <td>{}</td>\n",
       "    </tr>\n",
       "    <tr>\n",
       "      <th>2</th>\n",
       "      <td>4e191edb-7808-406d-9cd8-1b62b9fb4ea9</td>\n",
       "      <td>tmp_kcna3_rdkit_raw/curated_kcna3_ic50_model_4...</td>\n",
       "      <td>1.6.0</td>\n",
       "      <td>RF</td>\n",
       "      <td>/home/apaulson/repos/AMPL_umbrella/AMPL/atomsc...</td>\n",
       "      <td>rdkit_raw</td>\n",
       "      <td>scaffold</td>\n",
       "      <td>r2</td>\n",
       "      <td>normalization</td>\n",
       "      <td>0.732009</td>\n",
       "      <td>...</td>\n",
       "      <td>22</td>\n",
       "      <td>NaN</td>\n",
       "      <td>NaN</td>\n",
       "      <td>NaN</td>\n",
       "      <td>NaN</td>\n",
       "      <td>NaN</td>\n",
       "      <td>NaN</td>\n",
       "      <td>NaN</td>\n",
       "      <td>{\"rf_estimators\": 127, \"rf_max_depth\": 22, \"rf...</td>\n",
       "      <td>{}</td>\n",
       "    </tr>\n",
       "  </tbody>\n",
       "</table>\n",
       "<p>2 rows × 34 columns</p>\n",
       "</div>"
      ],
      "text/plain": [
       "                              model_uuid  \\\n",
       "11  fc3c50a4-92cd-4124-9d51-d0e869a4b49b   \n",
       "2   4e191edb-7808-406d-9cd8-1b62b9fb4ea9   \n",
       "\n",
       "                                           model_path ampl_version model_type  \\\n",
       "11  tmp_kcna3_rdkit_raw/curated_kcna3_ic50_model_f...        1.6.0         RF   \n",
       "2   tmp_kcna3_rdkit_raw/curated_kcna3_ic50_model_4...        1.6.0         RF   \n",
       "\n",
       "                                          dataset_key   features  splitter  \\\n",
       "11  /home/apaulson/repos/AMPL_umbrella/AMPL/atomsc...  rdkit_raw  scaffold   \n",
       "2   /home/apaulson/repos/AMPL_umbrella/AMPL/atomsc...  rdkit_raw  scaffold   \n",
       "\n",
       "   model_score_type feature_transform_type  model_choice_score  ...  \\\n",
       "11               r2          normalization            0.733323  ...   \n",
       "2                r2          normalization            0.732009  ...   \n",
       "\n",
       "    rf_max_depth  max_epochs  best_epoch  learning_rate  layer_sizes  \\\n",
       "11            12         NaN         NaN            NaN          NaN   \n",
       "2             22         NaN         NaN            NaN          NaN   \n",
       "\n",
       "    dropouts  xgb_gamma  xgb_learning_rate  \\\n",
       "11       NaN        NaN                NaN   \n",
       "2        NaN        NaN                NaN   \n",
       "\n",
       "                                model_parameters_dict  feat_parameters_dict  \n",
       "11  {\"rf_estimators\": 246, \"rf_max_depth\": 12, \"rf...                    {}  \n",
       "2   {\"rf_estimators\": 127, \"rf_max_depth\": 22, \"rf...                    {}  \n",
       "\n",
       "[2 rows x 34 columns]"
      ]
     },
     "execution_count": 152,
     "metadata": {},
     "output_type": "execute_result"
    }
   ],
   "source": [
    "import atomsci.ddm.pipeline.compare_models as cm\n",
    "\n",
    "result_df = cm.get_filesystem_perf_results(\n",
    "    result_dir='tmp_kcna3_rdkit_raw',\n",
    "    pred_type='regression'\n",
    ")\n",
    "\n",
    "# sort by validation r2 score to find the best model\n",
    "result_df = result_df.sort_values(by='best_valid_r2_score', ascending=False)\n",
    "result_df.head(2)"
   ]
  },
  {
   "cell_type": "markdown",
   "metadata": {},
   "source": [
    "The column `best_valid_r2_score` contains the validation set R2_score which determines how we select the best model. The column `model_parameters_dict` contains hyperparamters used for the best model. We can visualize this model using `plot_pred_vs_actual_from_file`."
   ]
  },
  {
   "cell_type": "code",
   "execution_count": 153,
   "metadata": {},
   "outputs": [
    {
     "data": {
      "text/plain": [
       "0.7333230148075289"
      ]
     },
     "execution_count": 153,
     "metadata": {},
     "output_type": "execute_result"
    }
   ],
   "source": [
    "result_df.iloc[0].best_valid_r2_score"
   ]
  },
  {
   "cell_type": "code",
   "execution_count": 154,
   "metadata": {},
   "outputs": [
    {
     "data": {
      "text/plain": [
       "'{\"rf_estimators\": 246, \"rf_max_depth\": 12, \"rf_max_features\": 92}'"
      ]
     },
     "execution_count": 154,
     "metadata": {},
     "output_type": "execute_result"
    }
   ],
   "source": [
    "result_df.iloc[0].model_parameters_dict"
   ]
  },
  {
   "cell_type": "code",
   "execution_count": 155,
   "metadata": {},
   "outputs": [
    {
     "name": "stderr",
     "output_type": "stream",
     "text": [
      "2024-01-24 15:06:30,600 tmp_kcna3_rdkit_raw/curated_kcna3_ic50_model_4e191edb-7808-406d-9cd8-1b62b9fb4ea9.tar.gz, 1.6.0\n",
      "2024-01-24 15:06:30,601 Version compatible check: tmp_kcna3_rdkit_raw/curated_kcna3_ic50_model_4e191edb-7808-406d-9cd8-1b62b9fb4ea9.tar.gz version = \"1.6\", AMPL version = \"1.6\"\n",
      "/home/apaulson/repos/AMPL_umbrella/AMPL/atomsci/ddm/pipeline/transformations.py:255: RuntimeWarning: invalid value encountered in divide\n",
      "  X = np.nan_to_num((X - self.X_means) * X_weight / self.X_stds)\n",
      "/home/apaulson/atomsci/lib/python3.9/site-packages/deepchem/data/datasets.py:473: RuntimeWarning: overflow encountered in multiply\n",
      "  X_m2 += dx * (X - X_means)\n",
      "/home/apaulson/repos/AMPL_umbrella/AMPL/atomsci/ddm/pipeline/transformations.py:255: RuntimeWarning: invalid value encountered in divide\n",
      "  X = np.nan_to_num((X - self.X_means) * X_weight / self.X_stds)\n"
     ]
    },
    {
     "name": "stdout",
     "output_type": "stream",
     "text": [
      "num_model_tasks is deprecated and its value is ignored.\n"
     ]
    },
    {
     "data": {
      "image/png": "[encoded data removed]",
      "text/plain": [
       "<Figure size 1000x3000 with 3 Axes>"
      ]
     },
     "metadata": {},
     "output_type": "display_data"
    }
   ],
   "source": [
    "pp.plot_pred_vs_actual_from_file(model_path)"
   ]
  },
  {
   "cell_type": "code",
   "execution_count": null,
   "metadata": {},
   "outputs": [],
   "source": []
  }
 ],
 "metadata": {
  "kernelspec": {
   "display_name": "atomsci",
   "language": "python",
   "name": "atomsci"
  },
  "language_info": {
   "codemirror_mode": {
    "name": "ipython",
    "version": 3
   },
   "file_extension": ".py",
   "mimetype": "text/x-python",
   "name": "python",
   "nbconvert_exporter": "python",
   "pygments_lexer": "ipython3",
   "version": "3.9.17"
  }
 },
 "nbformat": 4,
 "nbformat_minor": 4
}
