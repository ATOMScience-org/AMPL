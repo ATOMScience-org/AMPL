{
 "cells": [
  {
   "cell_type": "markdown",
   "metadata": {},
   "source": [
    "# Hyperparameter Optimization\n",
    "In this tutorial we demonstrate the following:\n",
    "- Build a parameter dictionary to perform a hyperparameter optimization for a random forest using Bayesian optimization.\n",
    "- Perform the optimization process.\n",
    "- Review the results\n",
    "\n",
    "Hyperparameters dictate the parameters of the training process and the architecture of the model itself. For example, the \n",
    "number of random trees is a hyperparameter for a random forest. In contrast, a learned parameter for a random forest is the set of features that is contained in a single node (in a single tree) and the cutoff values for each of those features that determines how the data is split at that node. A full discussion of hyperparameter optimization can be found on **[wikipedia](https://en.wikipedia.org/wiki/Hyperparameter_optimization)**.\n",
    "\n",
    "The choice for hyperparameters strongly influence model performance,\n",
    "so it is important to be able to optimize them as well. **[AMPL](https://github.com/ATOMScience-org/AMPL)**\n",
    "offers a variety of hyperparameter optimization methods including\n",
    "random sampling, grid search, and Bayesian optimization. Further information for AMPL's Bayesian optimization can be found **[here](https://github.com/ATOMScience-org/AMPL#hyperparameter-optimization)**."
   ]
  },
  {
   "cell_type": "markdown",
   "metadata": {},
   "source": [
    "## Setup directories\n",
    "Describe important features like descriptor type and output directories. Make sure the directories are created before training the models."
   ]
  },
  {
   "cell_type": "code",
   "execution_count": 4,
   "metadata": {},
   "outputs": [],
   "source": [
    "import warnings\n",
    "warnings.filterwarnings('ignore', category=FutureWarning)\n",
    "\n",
    "import os\n",
    "\n",
    "dataset_key='dataset/SLC6A3_Ki_curated.csv'\n",
    "descriptor_type = 'rdkit_raw'\n",
    "model_dir = 'dataset/SLC6A3_models'\n",
    "best_model_dir = 'dataset/SLC6A3_models/best_models'\n",
    "split_uuid = \"c35aeaab-910c-4dcf-8f9f-04b55179aa1a\"\n",
    "\n",
    "\n",
    "if not os.path.exists(f'./{best_model_dir}'):\n",
    "    os.mkdir(f'./{best_model_dir}')\n",
    "    \n",
    "if not os.path.exists(f'./{model_dir}'):\n",
    "    os.mkdir(f'./{model_dir}')"
   ]
  },
  {
   "cell_type": "markdown",
   "metadata": {},
   "source": [
    "## Parameter dictionary settings.\n",
    "- `'hyperparam':True` This setting indicates that we are performing\n",
    "a hyperparameter search instead of just training one model.\n",
    "- `'search_type':'hyperopt'` This specifies the hyperparameter\n",
    "search method. Other options include grid, random, and geometric.\n",
    "Specifications for each hyperparameter search method is different,\n",
    "please refer to the full documentation. Here we are using the\n",
    "Bayesian optimization method.\n",
    "- `'model_type':'RF|10'` This means **[AMPL](https://github.com/ATOMScience-org/AMPL)** will try 10 times to \n",
    "find the best set of hyperparameters using random forests. In \n",
    "production this parameter could be set to 100 or more.\n",
    "- `'rfe':'uniformint|8,512'` The Bayesian optimizer will uniformly\n",
    "search between 8 and 512 for the best number of random forest estimators.\n",
    "Similarly `rfd` stands for random forest depth and `rff` stands for\n",
    "random forest features.\n",
    "- `result_dir` Now expects two parameters. The first directory\n",
    "will contain the best trained models while the second directory will\n",
    "contain all models trained in the search.\n",
    "\n",
    "A full list of parameters can be found on our github **[here](https://github.com/ATOMScience-org/AMPL/blob/master/atomsci/ddm/docs/PARAMETERS.md)**."
   ]
  },
  {
   "cell_type": "code",
   "execution_count": 5,
   "metadata": {},
   "outputs": [],
   "source": [
    "params = {\n",
    "    \"hyperparam\": \"True\",\n",
    "    \"prediction_type\": \"regression\",\n",
    "\n",
    "    \"dataset_key\": dataset_key,\n",
    "    \"id_col\": \"compound_id\",\n",
    "    \"smiles_col\": \"base_rdkit_smiles\",\n",
    "    \"response_cols\": \"avg_pKi\",\n",
    "\n",
    "    \"splitter\":\"scaffold\",\n",
    "    \"split_uuid\": split_uuid,\n",
    "    \"previously_split\": \"True\",\n",
    "\n",
    "    \"featurizer\": \"computed_descriptors\",\n",
    "    \"descriptor_type\" : descriptor_type,\n",
    "    \"transformers\": \"True\",\n",
    "\n",
    "    \"search_type\": \"hyperopt\",\n",
    "    \"model_type\": \"RF|10\",\n",
    "    \"rfe\": \"uniformint|8,512\",\n",
    "    \"rfd\": \"uniformint|6,32\",\n",
    "    \"rff\": \"uniformint|8,200\",\n",
    "\n",
    "    \"result_dir\": f\"./{best_model_dir},./{model_dir}\"\n",
    "}"
   ]
  },
  {
   "cell_type": "markdown",
   "metadata": {},
   "source": [
    "In tutorial 4 we directly imported the `parameter_parser` and `model_pipeline` objects to parse the `config` dict and train a single model. Here, we use `hyperparameter_search_wrapper` to handle many models for us. First we build the search by creating a list of parameters to use, and then we run the search."
   ]
  },
  {
   "cell_type": "code",
   "execution_count": 6,
   "metadata": {
    "scrolled": true
   },
   "outputs": [
    {
     "name": "stdout",
     "output_type": "stream",
     "text": [
      "model_performance|train_r2|train_rms|valid_r2|valid_rms|test_r2|test_rms|model_params|model\n",
      "\n",
      "rf_estimators: 170, rf_max_depth: 15, rf_max_feature: 119                                                                 \n",
      "  0%|                                                                              | 0/10 [00:00<?, ?trial/s, best loss=?]"
     ]
    },
    {
     "name": "stderr",
     "output_type": "stream",
     "text": [
      "2024-02-28 18:01:08,366 ['dataset_hash'] are not part of the accepted list of parameters and will be ignored\n"
     ]
    },
    {
     "name": "stdout",
     "output_type": "stream",
     "text": [
      "num_model_tasks is deprecated and its value is ignored.                                                                   \n",
      "RF model with computed_descriptors and rdkit_raw                                                                          \n",
      "  0%|                                                                              | 0/10 [00:00<?, ?trial/s, best loss=?]"
     ]
    },
    {
     "name": "stderr",
     "output_type": "stream",
     "text": [
      "2024-02-28 18:01:08,422 Previous dataset split restored\n",
      "/home/apaulson/repos/AMPL_umbrella/AMPL/atomsci/ddm/pipeline/transformations.py:255: RuntimeWarning: invalid value encountered in divide\n",
      "  X = np.nan_to_num((X - self.X_means) * X_weight / self.X_stds)\n",
      "\n"
     ]
    },
    {
     "name": "stdout",
     "output_type": "stream",
     "text": [
      "model_performance|0.948|0.284|0.497|0.857|0.439|0.913|170_15_119|./dataset/SLC6A3_models/SLC6A3_Ki_curated_model_520295f8-2ac5-45d8-9433-d3a0e96ccf0c.tar.gz\n",
      "\n",
      "rf_estimators: 485, rf_max_depth: 17, rf_max_feature: 123                                                                 \n",
      " 10%|█████▏                                              | 1/10 [00:00<00:07,  1.23trial/s, best loss: 0.5029012627563357]"
     ]
    },
    {
     "name": "stderr",
     "output_type": "stream",
     "text": [
      "2024-02-28 18:01:09,178 ['dataset_hash'] are not part of the accepted list of parameters and will be ignored\n"
     ]
    },
    {
     "name": "stdout",
     "output_type": "stream",
     "text": [
      "num_model_tasks is deprecated and its value is ignored.                                                                   \n",
      "RF model with computed_descriptors and rdkit_raw                                                                          \n",
      " 10%|█████▏                                              | 1/10 [00:00<00:07,  1.23trial/s, best loss: 0.5029012627563357]"
     ]
    },
    {
     "name": "stderr",
     "output_type": "stream",
     "text": [
      "2024-02-28 18:01:09,232 Previous dataset split restored\n",
      "/home/apaulson/repos/AMPL_umbrella/AMPL/atomsci/ddm/pipeline/transformations.py:255: RuntimeWarning: invalid value encountered in divide\n",
      "  X = np.nan_to_num((X - self.X_means) * X_weight / self.X_stds)\n",
      "\n"
     ]
    },
    {
     "name": "stdout",
     "output_type": "stream",
     "text": [
      "model_performance|0.950|0.279|0.483|0.869|0.443|0.909|485_17_123|./dataset/SLC6A3_models/SLC6A3_Ki_curated_model_cc586cf1-9cbe-4f7c-bdff-af582c4649b9.tar.gz\n",
      "\n",
      "rf_estimators: 143, rf_max_depth: 32, rf_max_feature: 185                                                                 \n",
      " 20%|██████████▍                                         | 2/10 [00:02<00:12,  1.53s/trial, best loss: 0.5029012627563357]"
     ]
    },
    {
     "name": "stderr",
     "output_type": "stream",
     "text": [
      "2024-02-28 18:01:11,212 ['dataset_hash'] are not part of the accepted list of parameters and will be ignored\n"
     ]
    },
    {
     "name": "stdout",
     "output_type": "stream",
     "text": [
      "num_model_tasks is deprecated and its value is ignored.                                                                   \n",
      "RF model with computed_descriptors and rdkit_raw                                                                          \n",
      " 20%|██████████▍                                         | 2/10 [00:02<00:12,  1.53s/trial, best loss: 0.5029012627563357]"
     ]
    },
    {
     "name": "stderr",
     "output_type": "stream",
     "text": [
      "2024-02-28 18:01:11,265 Previous dataset split restored\n",
      "/home/apaulson/repos/AMPL_umbrella/AMPL/atomsci/ddm/pipeline/transformations.py:255: RuntimeWarning: invalid value encountered in divide\n",
      "  X = np.nan_to_num((X - self.X_means) * X_weight / self.X_stds)\n",
      "\n"
     ]
    },
    {
     "name": "stdout",
     "output_type": "stream",
     "text": [
      "model_performance|0.950|0.279|0.470|0.880|0.426|0.923|143_32_185|./dataset/SLC6A3_models/SLC6A3_Ki_curated_model_43ca0688-67e1-4abe-a5f3-32f0317876f8.tar.gz\n",
      "\n",
      "rf_estimators: 421, rf_max_depth: 16, rf_max_feature: 41                                                                  \n",
      " 30%|███████████████▌                                    | 3/10 [00:03<00:08,  1.20s/trial, best loss: 0.5029012627563357]"
     ]
    },
    {
     "name": "stderr",
     "output_type": "stream",
     "text": [
      "2024-02-28 18:01:12,012 ['dataset_hash'] are not part of the accepted list of parameters and will be ignored\n"
     ]
    },
    {
     "name": "stdout",
     "output_type": "stream",
     "text": [
      "num_model_tasks is deprecated and its value is ignored.                                                                   \n",
      "RF model with computed_descriptors and rdkit_raw                                                                          \n",
      " 30%|███████████████▌                                    | 3/10 [00:03<00:08,  1.20s/trial, best loss: 0.5029012627563357]"
     ]
    },
    {
     "name": "stderr",
     "output_type": "stream",
     "text": [
      "2024-02-28 18:01:12,065 Previous dataset split restored\n",
      "/home/apaulson/repos/AMPL_umbrella/AMPL/atomsci/ddm/pipeline/transformations.py:255: RuntimeWarning: invalid value encountered in divide\n",
      "  X = np.nan_to_num((X - self.X_means) * X_weight / self.X_stds)\n",
      "\n"
     ]
    },
    {
     "name": "stdout",
     "output_type": "stream",
     "text": [
      "model_performance|0.947|0.286|0.497|0.857|0.421|0.927|421_16_41|./dataset/SLC6A3_models/SLC6A3_Ki_curated_model_37a85d2a-1c0e-48aa-bcb9-f1b0a6107f29.tar.gz\n",
      "\n",
      "rf_estimators: 382, rf_max_depth: 19, rf_max_feature: 92                                                                  \n",
      " 40%|████████████████████▊                               | 4/10 [00:05<00:07,  1.33s/trial, best loss: 0.5029012627563357]"
     ]
    },
    {
     "name": "stderr",
     "output_type": "stream",
     "text": [
      "2024-02-28 18:01:13,549 ['dataset_hash'] are not part of the accepted list of parameters and will be ignored\n"
     ]
    },
    {
     "name": "stdout",
     "output_type": "stream",
     "text": [
      "num_model_tasks is deprecated and its value is ignored.                                                                   \n",
      "RF model with computed_descriptors and rdkit_raw                                                                          \n",
      " 40%|████████████████████▊                               | 4/10 [00:05<00:07,  1.33s/trial, best loss: 0.5029012627563357]"
     ]
    },
    {
     "name": "stderr",
     "output_type": "stream",
     "text": [
      "2024-02-28 18:01:13,608 Previous dataset split restored\n",
      "/home/apaulson/repos/AMPL_umbrella/AMPL/atomsci/ddm/pipeline/transformations.py:255: RuntimeWarning: invalid value encountered in divide\n",
      "  X = np.nan_to_num((X - self.X_means) * X_weight / self.X_stds)\n",
      "\n"
     ]
    },
    {
     "name": "stdout",
     "output_type": "stream",
     "text": [
      "model_performance|0.951|0.277|0.485|0.867|0.433|0.917|382_19_92|./dataset/SLC6A3_models/SLC6A3_Ki_curated_model_3eb607ee-cf68-4eac-bc0c-92689443a278.tar.gz\n",
      "\n",
      "rf_estimators: 465, rf_max_depth: 17, rf_max_feature: 105                                                                 \n",
      " 50%|██████████████████████████                          | 5/10 [00:06<00:07,  1.44s/trial, best loss: 0.5029012627563357]"
     ]
    },
    {
     "name": "stderr",
     "output_type": "stream",
     "text": [
      "2024-02-28 18:01:15,172 ['dataset_hash'] are not part of the accepted list of parameters and will be ignored\n"
     ]
    },
    {
     "name": "stdout",
     "output_type": "stream",
     "text": [
      "num_model_tasks is deprecated and its value is ignored.                                                                   \n",
      "RF model with computed_descriptors and rdkit_raw                                                                          \n",
      " 50%|██████████████████████████                          | 5/10 [00:06<00:07,  1.44s/trial, best loss: 0.5029012627563357]"
     ]
    },
    {
     "name": "stderr",
     "output_type": "stream",
     "text": [
      "2024-02-28 18:01:15,226 Previous dataset split restored\n",
      "/home/apaulson/repos/AMPL_umbrella/AMPL/atomsci/ddm/pipeline/transformations.py:255: RuntimeWarning: invalid value encountered in divide\n",
      "  X = np.nan_to_num((X - self.X_means) * X_weight / self.X_stds)\n",
      "\n"
     ]
    },
    {
     "name": "stdout",
     "output_type": "stream",
     "text": [
      "model_performance|0.950|0.279|0.484|0.868|0.435|0.915|465_17_105|./dataset/SLC6A3_models/SLC6A3_Ki_curated_model_726c1093-17e4-4e5e-9f8d-54eb5babec78.tar.gz\n",
      "\n",
      "rf_estimators: 226, rf_max_depth: 12, rf_max_feature: 79                                                                  \n",
      " 60%|███████████████████████████████▏                    | 6/10 [00:08<00:06,  1.63s/trial, best loss: 0.5029012627563357]"
     ]
    },
    {
     "name": "stderr",
     "output_type": "stream",
     "text": [
      "2024-02-28 18:01:17,171 ['dataset_hash'] are not part of the accepted list of parameters and will be ignored\n"
     ]
    },
    {
     "name": "stdout",
     "output_type": "stream",
     "text": [
      "num_model_tasks is deprecated and its value is ignored.                                                                   \n",
      "RF model with computed_descriptors and rdkit_raw                                                                          \n",
      " 60%|███████████████████████████████▏                    | 6/10 [00:08<00:06,  1.63s/trial, best loss: 0.5029012627563357]"
     ]
    },
    {
     "name": "stderr",
     "output_type": "stream",
     "text": [
      "2024-02-28 18:01:17,223 Previous dataset split restored\n",
      "/home/apaulson/repos/AMPL_umbrella/AMPL/atomsci/ddm/pipeline/transformations.py:255: RuntimeWarning: invalid value encountered in divide\n",
      "  X = np.nan_to_num((X - self.X_means) * X_weight / self.X_stds)\n",
      "\n"
     ]
    },
    {
     "name": "stdout",
     "output_type": "stream",
     "text": [
      "model_performance|0.939|0.309|0.478|0.873|0.427|0.922|226_12_79|./dataset/SLC6A3_models/SLC6A3_Ki_curated_model_00c797ec-e41d-4a5f-b74d-cf41ffc5fc9b.tar.gz\n",
      "\n",
      "rf_estimators: 87, rf_max_depth: 32, rf_max_feature: 195                                                                  \n",
      " 70%|████████████████████████████████████▍               | 7/10 [00:09<00:04,  1.37s/trial, best loss: 0.5029012627563357]"
     ]
    },
    {
     "name": "stderr",
     "output_type": "stream",
     "text": [
      "2024-02-28 18:01:18,023 ['dataset_hash'] are not part of the accepted list of parameters and will be ignored\n"
     ]
    },
    {
     "name": "stdout",
     "output_type": "stream",
     "text": [
      "num_model_tasks is deprecated and its value is ignored.                                                                   \n",
      "RF model with computed_descriptors and rdkit_raw                                                                          \n",
      " 70%|████████████████████████████████████▍               | 7/10 [00:09<00:04,  1.37s/trial, best loss: 0.5029012627563357]"
     ]
    },
    {
     "name": "stderr",
     "output_type": "stream",
     "text": [
      "2024-02-28 18:01:18,072 Previous dataset split restored\n",
      "/home/apaulson/repos/AMPL_umbrella/AMPL/atomsci/ddm/pipeline/transformations.py:255: RuntimeWarning: invalid value encountered in divide\n",
      "  X = np.nan_to_num((X - self.X_means) * X_weight / self.X_stds)\n",
      "\n"
     ]
    },
    {
     "name": "stdout",
     "output_type": "stream",
     "text": [
      "model_performance|0.948|0.283|0.470|0.880|0.446|0.907|87_32_195|./dataset/SLC6A3_models/SLC6A3_Ki_curated_model_77f14ea8-684e-405f-bd0c-ed584d94250f.tar.gz\n",
      "\n",
      "rf_estimators: 86, rf_max_depth: 26, rf_max_feature: 158                                                                  \n",
      " 80%|█████████████████████████████████████████▌          | 8/10 [00:10<00:02,  1.11s/trial, best loss: 0.5029012627563357]"
     ]
    },
    {
     "name": "stderr",
     "output_type": "stream",
     "text": [
      "2024-02-28 18:01:18,574 ['dataset_hash'] are not part of the accepted list of parameters and will be ignored\n"
     ]
    },
    {
     "name": "stdout",
     "output_type": "stream",
     "text": [
      "num_model_tasks is deprecated and its value is ignored.                                                                   \n",
      "RF model with computed_descriptors and rdkit_raw                                                                          \n",
      " 80%|█████████████████████████████████████████▌          | 8/10 [00:10<00:02,  1.11s/trial, best loss: 0.5029012627563357]"
     ]
    },
    {
     "name": "stderr",
     "output_type": "stream",
     "text": [
      "2024-02-28 18:01:18,626 Previous dataset split restored\n",
      "/home/apaulson/repos/AMPL_umbrella/AMPL/atomsci/ddm/pipeline/transformations.py:255: RuntimeWarning: invalid value encountered in divide\n",
      "  X = np.nan_to_num((X - self.X_means) * X_weight / self.X_stds)\n",
      "\n"
     ]
    },
    {
     "name": "stdout",
     "output_type": "stream",
     "text": [
      "model_performance|0.949|0.280|0.481|0.871|0.434|0.917|86_26_158|./dataset/SLC6A3_models/SLC6A3_Ki_curated_model_fe5b0e3c-f7eb-4887-a1c2-bf1a11a12ef9.tar.gz\n",
      "\n",
      "rf_estimators: 500, rf_max_depth: 14, rf_max_feature: 125                                                                 \n",
      " 90%|██████████████████████████████████████████████▊     | 9/10 [00:10<00:00,  1.09trial/s, best loss: 0.5029012627563357]"
     ]
    },
    {
     "name": "stderr",
     "output_type": "stream",
     "text": [
      "2024-02-28 18:01:19,073 ['dataset_hash'] are not part of the accepted list of parameters and will be ignored\n"
     ]
    },
    {
     "name": "stdout",
     "output_type": "stream",
     "text": [
      "num_model_tasks is deprecated and its value is ignored.                                                                   \n",
      "RF model with computed_descriptors and rdkit_raw                                                                          \n",
      " 90%|██████████████████████████████████████████████▊     | 9/10 [00:10<00:00,  1.09trial/s, best loss: 0.5029012627563357]"
     ]
    },
    {
     "name": "stderr",
     "output_type": "stream",
     "text": [
      "2024-02-28 18:01:19,125 Previous dataset split restored\n",
      "/home/apaulson/repos/AMPL_umbrella/AMPL/atomsci/ddm/pipeline/transformations.py:255: RuntimeWarning: invalid value encountered in divide\n",
      "  X = np.nan_to_num((X - self.X_means) * X_weight / self.X_stds)\n",
      "\n"
     ]
    },
    {
     "name": "stdout",
     "output_type": "stream",
     "text": [
      "model_performance|0.947|0.288|0.490|0.863|0.437|0.914|500_14_125|./dataset/SLC6A3_models/SLC6A3_Ki_curated_model_d3388e81-d151-420d-b55c-b10627d1c71e.tar.gz\n",
      "\n",
      "100%|███████████████████████████████████████████████████| 10/10 [00:12<00:00,  1.27s/trial, best loss: 0.5029012627563357]\n",
      "Generating the performance -- iteration table and Copy the best model tarball.\n",
      "Best model: ./dataset/SLC6A3_models/SLC6A3_Ki_curated_model_520295f8-2ac5-45d8-9433-d3a0e96ccf0c.tar.gz, valid R2: 0.49709873724366427\n"
     ]
    }
   ],
   "source": [
    "import atomsci.ddm.utils.hyperparam_search_wrapper as hsw\n",
    "import importlib\n",
    "importlib.reload(hsw)\n",
    "ampl_param = hsw.parse_params(params)\n",
    "hs = hsw.build_search(ampl_param)\n",
    "hs.run_search()"
   ]
  },
  {
   "cell_type": "markdown",
   "metadata": {},
   "source": [
    "The top scoring model will be saved in `dataset/SLC6A3_models/best_models` along with a csv file\n",
    "containing regression performance for all trained models.\n",
    "\n",
    "All of the models are saved in `dataset/SLC6A3_models`. These models can be\n",
    "explored using `get_filesystem_perf_results`. A full analysis of the hyperparameter performance is explored in `tutorial 7`."
   ]
  },
  {
   "cell_type": "code",
   "execution_count": 8,
   "metadata": {},
   "outputs": [
    {
     "name": "stdout",
     "output_type": "stream",
     "text": [
      "Found data for 12 models under dataset/SLC6A3_models\n"
     ]
    },
    {
     "data": {
      "text/html": [
       "<div>\n",
       "<style scoped>\n",
       "    .dataframe tbody tr th:only-of-type {\n",
       "        vertical-align: middle;\n",
       "    }\n",
       "\n",
       "    .dataframe tbody tr th {\n",
       "        vertical-align: top;\n",
       "    }\n",
       "\n",
       "    .dataframe thead th {\n",
       "        text-align: right;\n",
       "    }\n",
       "</style>\n",
       "<table border=\"1\" class=\"dataframe\">\n",
       "  <thead>\n",
       "    <tr style=\"text-align: right;\">\n",
       "      <th></th>\n",
       "      <th>model_uuid</th>\n",
       "      <th>model_parameters_dict</th>\n",
       "      <th>best_valid_r2_score</th>\n",
       "      <th>best_test_r2_score</th>\n",
       "    </tr>\n",
       "  </thead>\n",
       "  <tbody>\n",
       "    <tr>\n",
       "      <th>2</th>\n",
       "      <td>520295f8-2ac5-45d8-9433-d3a0e96ccf0c</td>\n",
       "      <td>{\"rf_estimators\": 170, \"rf_max_depth\": 15, \"rf...</td>\n",
       "      <td>0.497099</td>\n",
       "      <td>0.438620</td>\n",
       "    </tr>\n",
       "    <tr>\n",
       "      <th>5</th>\n",
       "      <td>37a85d2a-1c0e-48aa-bcb9-f1b0a6107f29</td>\n",
       "      <td>{\"rf_estimators\": 421, \"rf_max_depth\": 16, \"rf...</td>\n",
       "      <td>0.496579</td>\n",
       "      <td>0.421240</td>\n",
       "    </tr>\n",
       "    <tr>\n",
       "      <th>11</th>\n",
       "      <td>d3388e81-d151-420d-b55c-b10627d1c71e</td>\n",
       "      <td>{\"rf_estimators\": 500, \"rf_max_depth\": 14, \"rf...</td>\n",
       "      <td>0.489879</td>\n",
       "      <td>0.437214</td>\n",
       "    </tr>\n",
       "    <tr>\n",
       "      <th>0</th>\n",
       "      <td>8afb64d6-993e-4d8b-9072-60dcb40d2c83</td>\n",
       "      <td>{\"rf_estimators\": 500, \"rf_max_depth\": null, \"...</td>\n",
       "      <td>0.489673</td>\n",
       "      <td>0.416391</td>\n",
       "    </tr>\n",
       "    <tr>\n",
       "      <th>6</th>\n",
       "      <td>3eb607ee-cf68-4eac-bc0c-92689443a278</td>\n",
       "      <td>{\"rf_estimators\": 382, \"rf_max_depth\": 19, \"rf...</td>\n",
       "      <td>0.484862</td>\n",
       "      <td>0.433234</td>\n",
       "    </tr>\n",
       "  </tbody>\n",
       "</table>\n",
       "</div>"
      ],
      "text/plain": [
       "                              model_uuid  \\\n",
       "2   520295f8-2ac5-45d8-9433-d3a0e96ccf0c   \n",
       "5   37a85d2a-1c0e-48aa-bcb9-f1b0a6107f29   \n",
       "11  d3388e81-d151-420d-b55c-b10627d1c71e   \n",
       "0   8afb64d6-993e-4d8b-9072-60dcb40d2c83   \n",
       "6   3eb607ee-cf68-4eac-bc0c-92689443a278   \n",
       "\n",
       "                                model_parameters_dict  best_valid_r2_score  \\\n",
       "2   {\"rf_estimators\": 170, \"rf_max_depth\": 15, \"rf...             0.497099   \n",
       "5   {\"rf_estimators\": 421, \"rf_max_depth\": 16, \"rf...             0.496579   \n",
       "11  {\"rf_estimators\": 500, \"rf_max_depth\": 14, \"rf...             0.489879   \n",
       "0   {\"rf_estimators\": 500, \"rf_max_depth\": null, \"...             0.489673   \n",
       "6   {\"rf_estimators\": 382, \"rf_max_depth\": 19, \"rf...             0.484862   \n",
       "\n",
       "    best_test_r2_score  \n",
       "2             0.438620  \n",
       "5             0.421240  \n",
       "11            0.437214  \n",
       "0             0.416391  \n",
       "6             0.433234  "
      ]
     },
     "execution_count": 8,
     "metadata": {},
     "output_type": "execute_result"
    }
   ],
   "source": [
    "import atomsci.ddm.pipeline.compare_models as cm\n",
    "\n",
    "result_df = cm.get_filesystem_perf_results(\n",
    "    result_dir=model_dir,\n",
    "    pred_type='regression'\n",
    ")\n",
    "\n",
    "# sort by validation r2 score to see top performing models\n",
    "result_df = result_df.sort_values(by='best_valid_r2_score', ascending=False)\n",
    "result_df[['model_uuid','model_parameters_dict','best_valid_r2_score','best_test_r2_score']].head()"
   ]
  },
  {
   "cell_type": "markdown",
   "metadata": {
    "scrolled": true
   },
   "source": [
    "### Examples for other parameters\n",
    "Below are some parameters that can be used for neural networks, XGBoost models, fingerprint splits and ECFP features."
   ]
  },
  {
   "cell_type": "code",
   "execution_count": 9,
   "metadata": {
    "scrolled": true
   },
   "outputs": [],
   "source": [
    "# NN models\n",
    "nn_params = {\n",
    "    \"search_type\": \"hyperopt\",\n",
    "    \"model_type\": \"NN|10\",\n",
    "    \"lr\": \"loguniform|-13.8,-3\",\n",
    "    \"ls\": \"uniformint|3|8,512\",\n",
    "    \"dp\": \"uniform|3|0,0.4\",\n",
    "    \"max_epochs\":100\n",
    "}\n",
    "\n",
    "# params.update(nn_params)\n",
    "\n",
    "# ampl_param = hsw.parse_params(params)\n",
    "# hs = hsw.build_search(ampl_param)\n",
    "# hs.run_search()"
   ]
  },
  {
   "cell_type": "code",
   "execution_count": 10,
   "metadata": {
    "scrolled": true
   },
   "outputs": [],
   "source": [
    "# xgboost models\n",
    "xg_params = {\n",
    "    \"search_type\": \"hyperopt\",\n",
    "    \"model_type\": \"xgboost|10\",\n",
    "    \"xgbg\": \"uniform|0,0.2\",\n",
    "    \"xgbl\": \"loguniform|-2,2\",\n",
    "}"
   ]
  },
  {
   "cell_type": "code",
   "execution_count": 11,
   "metadata": {
    "scrolled": true
   },
   "outputs": [],
   "source": [
    "# fingerprint split models - use Tutorial 3 to create a fingerprint split\n",
    "fp_split_uuid=\"be60c264-6ac0-4841-a6b6-41bf846e4ae4\"\n",
    "\n",
    "fp_params = {\n",
    "    \"splitter\":\"fingerprint\",\n",
    "    \"split_uuid\": fp_split_uuid,\n",
    "    \"previously_split\": \"True\",\n",
    "}"
   ]
  },
  {
   "cell_type": "code",
   "execution_count": 12,
   "metadata": {},
   "outputs": [],
   "source": [
    "# Morgan fingerprint features\n",
    "ecfp_params = {\n",
    "    \"featurizer\": \"ecfp\",\n",
    "    \"ecfp_radius\" : 2,\n",
    "    \"ecfp_size\" : 1024,\n",
    "    \"transformers\": \"True\",\n",
    "}"
   ]
  },
  {
   "cell_type": "markdown",
   "metadata": {},
   "source": [
    "In tutorial 7, we analyze the performance of these large sets of models to select the best hyperparameters for production models."
   ]
  }
 ],
 "metadata": {
  "kernelspec": {
   "display_name": "atomsci",
   "language": "python",
   "name": "atomsci"
  },
  "language_info": {
   "codemirror_mode": {
    "name": "ipython",
    "version": 3
   },
   "file_extension": ".py",
   "mimetype": "text/x-python",
   "name": "python",
   "nbconvert_exporter": "python",
   "pygments_lexer": "ipython3",
   "version": "3.9.17"
  }
 },
 "nbformat": 4,
 "nbformat_minor": 4
}
