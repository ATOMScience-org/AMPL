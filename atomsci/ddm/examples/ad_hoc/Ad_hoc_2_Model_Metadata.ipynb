{
 "cells": [
  {
   "cell_type": "markdown",
   "id": "1ae260d6",
   "metadata": {},
   "source": [
    "# Explore the model tar and metadata files\n",
    "\n",
    "This tutorial will detial how to explore the model tar and metadata files."
   ]
  },
  {
   "cell_type": "code",
   "execution_count": 1,
   "id": "6ca58149",
   "metadata": {},
   "outputs": [
    {
     "name": "stdout",
     "output_type": "stream",
     "text": [
      "./best_model/\n",
      "./best_model/model.joblib\n",
      "./model_metadata.json\n",
      "./model_metrics.json\n",
      "./transformers.pkl\n"
     ]
    }
   ],
   "source": [
    "!tar -tf dataset/curated_kcna5_ic50_model_ebc39cab-fc9f-4238-827e-241850cee82b.tar.gz"
   ]
  },
  {
   "cell_type": "code",
   "execution_count": 2,
   "id": "965bb773",
   "metadata": {},
   "outputs": [],
   "source": [
    "!tar xzf dataset/curated_kcna5_ic50_model_ebc39cab-fc9f-4238-827e-241850cee82b.tar.gz -C /tmp"
   ]
  },
  {
   "cell_type": "code",
   "execution_count": 3,
   "id": "cceada37",
   "metadata": {},
   "outputs": [
    {
     "name": "stdout",
     "output_type": "stream",
     "text": [
      "{\n",
      "    \"descriptor_specific\": {\n",
      "        \"descriptor_bucket\": \"public\",\n",
      "        \"descriptor_key\": null,\n",
      "        \"descriptor_type\": \"rdkit_raw\"\n",
      "    },\n",
      "    \"model_parameters\": {\n",
      "        \"ampl_version\": \"1.6.0\",\n",
      "        \"class_number\": 2,\n",
      "        \"featurizer\": \"computed_descriptors\",\n"
     ]
    }
   ],
   "source": [
    "!cat /tmp/model_metadata.json | head"
   ]
  },
  {
   "cell_type": "code",
   "execution_count": 4,
   "id": "8afa1fdf",
   "metadata": {},
   "outputs": [
    {
     "data": {
      "text/plain": [
       "RandomForestRegressor(max_features=32, n_estimators=500, n_jobs=-1)"
      ]
     },
     "execution_count": 4,
     "metadata": {},
     "output_type": "execute_result"
    }
   ],
   "source": [
    "import joblib\n",
    "# load the model from disk\n",
    "loaded_model = joblib.load(\"/tmp/best_model/model.joblib\")\n",
    "loaded_model"
   ]
  },
  {
   "cell_type": "code",
   "execution_count": 5,
   "id": "e9ca0082",
   "metadata": {},
   "outputs": [
    {
     "data": {
      "text/plain": [
       "{'ampl_version': '1.6.0',\n",
       " 'class_number': 2,\n",
       " 'featurizer': 'computed_descriptors',\n",
       " 'hyperparam_uuid': None,\n",
       " 'model_bucket': 'public',\n",
       " 'model_choice_score_type': 'r2',\n",
       " 'model_type': 'RF',\n",
       " 'num_model_tasks': 1,\n",
       " 'prediction_type': 'regression',\n",
       " 'save_results': False,\n",
       " 'system': 'LC',\n",
       " 'time_generated': 1701984488.9215834,\n",
       " 'transformer_bucket': '',\n",
       " 'transformer_key': 'dataset/curated_kcna5_ic50/RF_computed_descriptors_scaffold_regression/ebc39cab-fc9f-4238-827e-241850cee82b/transformers.pkl',\n",
       " 'transformer_oid': '',\n",
       " 'transformers': True,\n",
       " 'uncertainty': True}"
      ]
     },
     "execution_count": 5,
     "metadata": {},
     "output_type": "execute_result"
    }
   ],
   "source": [
    "import json\n",
    "import pandas as pd\n",
    "data = json.load(open('/tmp/model_metadata.json'))\n",
    "data['model_parameters']"
   ]
  }
 ],
 "metadata": {
  "kernelspec": {
   "display_name": "ampl_tutorials",
   "language": "python",
   "name": "ampl_tutorials"
  },
  "language_info": {
   "codemirror_mode": {
    "name": "ipython",
    "version": 3
   },
   "file_extension": ".py",
   "mimetype": "text/x-python",
   "name": "python",
   "nbconvert_exporter": "python",
   "pygments_lexer": "ipython3",
   "version": "3.8.15"
  }
 },
 "nbformat": 4,
 "nbformat_minor": 5
}
