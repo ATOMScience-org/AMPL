{
 "cells": [
  {
   "cell_type": "markdown",
   "metadata": {},
   "source": [
    "# Preparing a Multi-task Dataset\n",
    "\n",
    "The dataset we created in Tutorial 2 can be used to train \"single-task\" models, which are models that predict values for one response variable (in this case, the $pK_i$ for compounds that inhibit the SLC6A3 \n",
    "transporter). AMPL also enables you to train \"multi-task\" models that can predict multiple response variables from one set of inputs. This can be beneficial when you have a set of target proteins that are similar structurally or in\n",
    "some way; features of molecules that predict their actions on one target may predict their actions against \n",
    "other targets as well.\n",
    "\n",
    "In this tutorial, we will encapsulate the steps we performed in Tutorial 2 into a 'curate' function, which we will apply to 3 datasets: our original SLC6A3 dataset,\n",
    "plus similar datasets for the related transporters SLC6A2 and SLC6A4. We will then combine the curated datasets for the individual targets to produce one \"multi-task\" dataset."
   ]
  },
  {
   "cell_type": "markdown",
   "metadata": {},
   "source": [
    "## Encapsulating the Curation Process\n",
    "To make it easier to apply the same curation steps to multiple datasets, we define a `curate` function as follows. This function simply calls the AMPL functions\n",
    "that we used in Tutorial 2:"
   ]
  },
  {
   "cell_type": "code",
   "execution_count": 2,
   "metadata": {},
   "outputs": [],
   "source": [
    "import os\n",
    "import pandas as pd\n",
    "\n",
    "from atomsci.ddm.utils.struct_utils import base_smiles_from_smiles\n",
    "from atomsci.ddm.utils.data_curation_functions import compute_negative_log_responses, standardize_relations\n",
    "from atomsci.ddm.utils.curate_data import remove_outlier_replicates, aggregate_assay_data\n",
    "\n",
    "\n",
    "def curate(df):\n",
    "     # Standardize SMILES strings\n",
    "     df['base_rdkit_smiles'] = base_smiles_from_smiles(df.smiles.tolist(), workers=8)\n",
    "\n",
    "     # Convert Kis to pKis\n",
    "     df = compute_negative_log_responses(df, \n",
    "                              unit_col='standard_units',\n",
    "                              value_col='standard_value',\n",
    "                              new_value_col='pKi',\n",
    "                              relation_col='standard_relation',\n",
    "                              unit_conv={'µM':lambda x: x*1e-6, 'nM':lambda x: x*1e-9},\n",
    "                              inplace=False)\n",
    "     \n",
    "     # Standardize relations for censored data\n",
    "     df = standardize_relations(df, db='ChEMBL', \n",
    "                    rel_col='standard_relation',\n",
    "                    output_rel_col='fixed_relation')\n",
    "\n",
    "     # Remove outliers\n",
    "     df = remove_outlier_replicates(df, id_col='molecule_chembl_id',\n",
    "                                   response_col='pKi', max_diff_from_median=1.0)\n",
    "\n",
    "     # Average/aggregate replicate values\n",
    "     df = aggregate_assay_data(df, \n",
    "                              value_col='pKi',\n",
    "                              output_value_col='avg_pKi',\n",
    "                              id_col='molecule_chembl_id',\n",
    "                              smiles_col='base_rdkit_smiles',\n",
    "                              relation_col='fixed_relation',\n",
    "                              label_actives=False\n",
    "                         )\n",
    "     return df"
   ]
  },
  {
   "cell_type": "markdown",
   "metadata": {},
   "source": [
    "We use this function to curate datasets for three related targets (all neurotransmitter reuptake transporters):"
   ]
  },
  {
   "cell_type": "code",
   "execution_count": 3,
   "metadata": {},
   "outputs": [
    {
     "name": "stdout",
     "output_type": "stream",
     "text": [
      "SLC6A2_Ki.csv\n",
      "\n",
      "Original data shape:  (2181, 6)\n",
      "Removed 31 pKi replicate measurements that were > 1.0 from median\n",
      "Curated data shape:  (1826, 4)\n",
      "Index(['compound_id', 'base_rdkit_smiles', 'relation', 'avg_pKi'], dtype='object') \n",
      "\n",
      "SLC6A3_Ki.csv\n",
      "\n",
      "Original data shape:  (2236, 6)\n",
      "Removed 17 pKi replicate measurements that were > 1.0 from median\n",
      "Curated data shape:  (1819, 4)\n",
      "Index(['compound_id', 'base_rdkit_smiles', 'relation', 'avg_pKi'], dtype='object') \n",
      "\n",
      "SLC6A4_Ki.csv\n",
      "\n",
      "Original data shape:  (3184, 6)\n",
      "Removed 44 pKi replicate measurements that were > 1.0 from median\n",
      "Curated data shape:  (2607, 4)\n",
      "Index(['compound_id', 'base_rdkit_smiles', 'relation', 'avg_pKi'], dtype='object') \n",
      "\n"
     ]
    }
   ],
   "source": [
    "for f in ['SLC6A2_Ki.csv', 'SLC6A3_Ki.csv', 'SLC6A4_Ki.csv']:\n",
    "     print(f'{f}\\n')\n",
    "     df = pd.read_csv(os.path.join('dataset', f))\n",
    "     print(\"Original data shape: \", df.shape)\n",
    "     df = curate(df)\n",
    "     print(\"Curated data shape: \", df.shape)\n",
    "     print(df.columns, '\\n')\n",
    "     df.to_csv('dataset/curated_'+f, index=False)"
   ]
  },
  {
   "cell_type": "markdown",
   "metadata": {},
   "source": [
    "## Combine Single-Task Datasets into One Multi-Task Dataset\n",
    "We use the `pandas` [merge](https://pandas.pydata.org/docs/reference/api/pandas.DataFrame.merge.html) function to combine the three curated datasets into one:"
   ]
  },
  {
   "cell_type": "code",
   "execution_count": 4,
   "metadata": {},
   "outputs": [
    {
     "name": "stdout",
     "output_type": "stream",
     "text": [
      "['compound_id' 'base_rdkit_smiles' 'relation_SLC6A2' 'avg_pKi_SLC6A2'\n",
      " 'relation_SLC6A3' 'avg_pKi_SLC6A3' 'relation_SLC6A4' 'avg_pKi_SLC6A4']\n"
     ]
    }
   ],
   "source": [
    "SLC6A2_df = pd.read_csv('dataset/curated_SLC6A2_Ki.csv')\n",
    "SLC6A3_df = pd.read_csv('dataset/curated_SLC6A3_Ki.csv')\n",
    "SLC6A4_df = pd.read_csv('dataset/curated_SLC6A4_Ki.csv')\n",
    "\n",
    "df = SLC6A2_df.merge(SLC6A3_df, how='outer', on=['compound_id', 'base_rdkit_smiles',], suffixes=['_SLC6A2', None])\n",
    "df = df.merge(SLC6A4_df, how='outer', on=['compound_id', 'base_rdkit_smiles'], suffixes=['_SLC6A3', '_SLC6A4'])\n",
    "print(df.columns.values)\n",
    "df.to_csv('dataset/SLC6A2_3_4.csv', index=False)"
   ]
  },
  {
   "cell_type": "code",
   "execution_count": 5,
   "metadata": {},
   "outputs": [
    {
     "data": {
      "text/html": [
       "<div>\n",
       "<style scoped>\n",
       "    .dataframe tbody tr th:only-of-type {\n",
       "        vertical-align: middle;\n",
       "    }\n",
       "\n",
       "    .dataframe tbody tr th {\n",
       "        vertical-align: top;\n",
       "    }\n",
       "\n",
       "    .dataframe thead th {\n",
       "        text-align: right;\n",
       "    }\n",
       "</style>\n",
       "<table border=\"1\" class=\"dataframe\">\n",
       "  <thead>\n",
       "    <tr style=\"text-align: right;\">\n",
       "      <th></th>\n",
       "      <th>compound_id</th>\n",
       "      <th>base_rdkit_smiles</th>\n",
       "      <th>relation_SLC6A2</th>\n",
       "      <th>avg_pKi_SLC6A2</th>\n",
       "      <th>relation_SLC6A3</th>\n",
       "      <th>avg_pKi_SLC6A3</th>\n",
       "      <th>relation_SLC6A4</th>\n",
       "      <th>avg_pKi_SLC6A4</th>\n",
       "    </tr>\n",
       "  </thead>\n",
       "  <tbody>\n",
       "    <tr>\n",
       "      <th>0</th>\n",
       "      <td>CHEMBL100879</td>\n",
       "      <td>COc1cc2c(cc1OC)C1=NO[C@@H](CN3CCN(C/C=C(\\C)c4c...</td>\n",
       "      <td>NaN</td>\n",
       "      <td>NaN</td>\n",
       "      <td>NaN</td>\n",
       "      <td>NaN</td>\n",
       "      <td>NaN</td>\n",
       "      <td>7.130768</td>\n",
       "    </tr>\n",
       "    <tr>\n",
       "      <th>1</th>\n",
       "      <td>CHEMBL101055</td>\n",
       "      <td>COc1cccc(C(CN(C)C)C2(O)CCCCC2)c1</td>\n",
       "      <td>NaN</td>\n",
       "      <td>6.500313</td>\n",
       "      <td>NaN</td>\n",
       "      <td>NaN</td>\n",
       "      <td>NaN</td>\n",
       "      <td>NaN</td>\n",
       "    </tr>\n",
       "    <tr>\n",
       "      <th>2</th>\n",
       "      <td>CHEMBL101361</td>\n",
       "      <td>COc1cc2c(cc1OC)C1=NO[C@@H](CN3CCN(C/C=C(\\C)c4c...</td>\n",
       "      <td>NaN</td>\n",
       "      <td>NaN</td>\n",
       "      <td>NaN</td>\n",
       "      <td>NaN</td>\n",
       "      <td>NaN</td>\n",
       "      <td>7.292430</td>\n",
       "    </tr>\n",
       "    <tr>\n",
       "      <th>3</th>\n",
       "      <td>CHEMBL101411</td>\n",
       "      <td>COc1cc2c(cc1OC)C1=NO[C@@H](CN3CCN(C/C=C/c4ccc(...</td>\n",
       "      <td>NaN</td>\n",
       "      <td>NaN</td>\n",
       "      <td>NaN</td>\n",
       "      <td>NaN</td>\n",
       "      <td>NaN</td>\n",
       "      <td>8.886057</td>\n",
       "    </tr>\n",
       "    <tr>\n",
       "      <th>4</th>\n",
       "      <td>CHEMBL101596</td>\n",
       "      <td>COc1cc2c(cc1OC)C1=NO[C@@H](CN3CCN(C/C(C)=C/c4c...</td>\n",
       "      <td>NaN</td>\n",
       "      <td>NaN</td>\n",
       "      <td>NaN</td>\n",
       "      <td>NaN</td>\n",
       "      <td>NaN</td>\n",
       "      <td>8.721246</td>\n",
       "    </tr>\n",
       "  </tbody>\n",
       "</table>\n",
       "</div>"
      ],
      "text/plain": [
       "    compound_id                                  base_rdkit_smiles  \\\n",
       "0  CHEMBL100879  COc1cc2c(cc1OC)C1=NO[C@@H](CN3CCN(C/C=C(\\C)c4c...   \n",
       "1  CHEMBL101055                   COc1cccc(C(CN(C)C)C2(O)CCCCC2)c1   \n",
       "2  CHEMBL101361  COc1cc2c(cc1OC)C1=NO[C@@H](CN3CCN(C/C=C(\\C)c4c...   \n",
       "3  CHEMBL101411  COc1cc2c(cc1OC)C1=NO[C@@H](CN3CCN(C/C=C/c4ccc(...   \n",
       "4  CHEMBL101596  COc1cc2c(cc1OC)C1=NO[C@@H](CN3CCN(C/C(C)=C/c4c...   \n",
       "\n",
       "  relation_SLC6A2  avg_pKi_SLC6A2 relation_SLC6A3  avg_pKi_SLC6A3  \\\n",
       "0             NaN             NaN             NaN             NaN   \n",
       "1             NaN        6.500313             NaN             NaN   \n",
       "2             NaN             NaN             NaN             NaN   \n",
       "3             NaN             NaN             NaN             NaN   \n",
       "4             NaN             NaN             NaN             NaN   \n",
       "\n",
       "  relation_SLC6A4  avg_pKi_SLC6A4  \n",
       "0             NaN        7.130768  \n",
       "1             NaN             NaN  \n",
       "2             NaN        7.292430  \n",
       "3             NaN        8.886057  \n",
       "4             NaN        8.721246  "
      ]
     },
     "execution_count": 5,
     "metadata": {},
     "output_type": "execute_result"
    }
   ],
   "source": [
    "df.head()"
   ]
  },
  {
   "cell_type": "markdown",
   "metadata": {},
   "source": [
    "In the table above, we see NaN's in the avg_pKi columns on rows where there are data for some targets but not others. For a multitask dataset, we generally want to have some compounds with data for more than one target. We can plot a Venn diagram to see how many compounds have $pK_i$'s for each pair of targets and for all three."
   ]
  },
  {
   "cell_type": "code",
   "execution_count": 6,
   "metadata": {},
   "outputs": [
    {
     "data": {
      "image/png": "[encoded data removed]",
      "text/plain": [
       "<Figure size 640x480 with 1 Axes>"
      ]
     },
     "metadata": {},
     "output_type": "display_data"
    }
   ],
   "source": [
    "import matplotlib_venn as mpv\n",
    "_ = mpv.venn3([set(df.loc[df.avg_pKi_SLC6A2.notna(), 'base_rdkit_smiles']),\n",
    "           set(df.loc[df.avg_pKi_SLC6A3.notna(), 'base_rdkit_smiles']),\n",
    "           set(df.loc[df.avg_pKi_SLC6A4.notna(), 'base_rdkit_smiles']),],\n",
    "          set_labels=['SLC6A2', 'SLC6A3', 'SLC6A4'])"
   ]
  },
  {
   "cell_type": "markdown",
   "metadata": {},
   "source": [
    "In this dataset, there is quite a bit of overlap between the target-specific compound sets. This is an ideal situation for multitask modeling, since it allows the model to \n",
    "learn combinations of features that are predictive for two or more targets simultaneously.  "
   ]
  },
  {
   "cell_type": "markdown",
   "metadata": {},
   "source": [
    "\n",
    "In a later tutorial we'll use this dataset to demonstrate how to perform a multitask scaffold split and how to train a multitask regression model."
   ]
  },
  {
   "cell_type": "code",
   "execution_count": null,
   "metadata": {},
   "outputs": [],
   "source": []
  }
 ],
 "metadata": {
  "kernelspec": {
   "display_name": "ampl161_env",
   "language": "python",
   "name": "python3"
  },
  "language_info": {
   "codemirror_mode": {
    "name": "ipython",
    "version": 3
   },
   "file_extension": ".py",
   "mimetype": "text/x-python",
   "name": "python",
   "nbconvert_exporter": "python",
   "pygments_lexer": "ipython3",
   "version": "3.9.12"
  }
 },
 "nbformat": 4,
 "nbformat_minor": 4
}
