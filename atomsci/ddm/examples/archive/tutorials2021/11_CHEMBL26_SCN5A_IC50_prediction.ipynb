{
 "cells": [
  {
   "cell_type": "markdown",
   "metadata": {
    "colab_type": "text",
    "id": "view-in-github"
   },
   "source": [
    "<a href=\"https://colab.research.google.com/github/ATOMScience-org/AMPL/blob/master/atomsci/ddm/examples/tutorials/11_CHEMBL26_SCN5A_IC50_prediction.ipynb\" target=\"_parent\"><img src=\"https://colab.research.google.com/assets/colab-badge.svg\" alt=\"Open In Colab\"/></a>"
   ]
  },
  {
   "cell_type": "markdown",
   "metadata": {
    "id": "DKOt6zePpD62"
   },
   "source": [
    "<h1>Building a Graph Convolutional Network Model for Drug Response Prediction</h1>\n",
    "\n",
    "The ATOM Modeling PipeLine (AMPL; https://github.com/ATOMScience-org/AMPL) is an open-source, modular, extensible software pipeline for building and sharing models to advance in silico drug discovery.\n"
   ]
  },
  {
   "cell_type": "markdown",
   "metadata": {
    "id": "3XSTsOdoCORi"
   },
   "source": [
    "## Time to run: 6 minutes"
   ]
  },
  {
   "cell_type": "code",
   "execution_count": null,
   "metadata": {
    "colab": {
     "base_uri": "https://localhost:8080/"
    },
    "id": "02yXiu_V_r8F",
    "outputId": "01560a25-dda2-4564-a7b7-a61c89952b4d"
   },
   "outputs": [
    {
     "name": "stdout",
     "output_type": "stream",
     "text": [
      "Thu Sep  9 22:04:01 UTC 2021\n"
     ]
    }
   ],
   "source": [
    "!date"
   ]
  },
  {
   "cell_type": "markdown",
   "metadata": {
    "id": "7sGiIPZCi0Cb"
   },
   "source": [
    "## Change your runtime to GPU \n",
    "\n",
    "Go to **Runtime** --> Change **runtime type** to \"GPU\"\n"
   ]
  },
  {
   "cell_type": "markdown",
   "metadata": {
    "id": "aRXuj2Dsj8wR"
   },
   "source": [
    "## Goal: Use AMPL for predicting binding affinities -IC50 values- of ligands that could bind to human **Sodium channel protein type 5 subunit alpha** protein using Graph Convolutional Network Model. ChEMBL database is the source of the binding affinities (pIC50).\n",
    "\n",
    "In this notebook, we describe the following steps using AMPL:\n",
    "\n",
    "1.   Read a ML ready dataset\n",
    "2.   Fit a Graph Convolutional model\n",
    "3.   Predict pIC50 values of withheld compounds"
   ]
  },
  {
   "cell_type": "markdown",
   "metadata": {
    "id": "hT1bl6hojskE"
   },
   "source": [
    "## Set up\n",
    "We first import the AMPL modules for use in this notebook.\n",
    "\n",
    "The relevant AMPL modules for this example are listed below:\n",
    "\n",
    "|module|Description|\n",
    "|-|-|\n",
    "|`atomsci.ddm.pipeline.model_pipeline`|The model pipeline module is used to fit models and load models for prediction.|\n",
    "|`atomsci.ddm.pipeline.parameter_parser`|The parameter parser reads through pipeline options for the model pipeline.|\n",
    "|`atomsci.ddm.utils.curate_data`|The curate data module is used for data loading and pre-processing.|\n",
    "|`atomsci.ddm.utils.struct_utils`|The structure utilities module is used to process loaded structures.|\n",
    "\n",
    "\n",
    "import atomsci.ddm.pipeline.compare_models as cmp\n",
    "import atomsci.ddm.pipeline.model_pipeline as mp\n",
    "import atomsci.ddm.pipeline.parameter_parser as parse"
   ]
  },
  {
   "cell_type": "markdown",
   "metadata": {
    "id": "tsDTjWhwcgWG"
   },
   "source": [
    "## Install AMPL "
   ]
  },
  {
   "cell_type": "code",
   "execution_count": null,
   "metadata": {
    "id": "ZOdCTKDjjcMf"
   },
   "outputs": [],
   "source": [
    "! pip install rdkit-pypi\n",
    "! pip install deepchem \n",
    "\n",
    "import deepchem\n",
    "# print(deepchem.__version__)\n",
    "! pip install umap\n",
    "! pip install -U --ignore-installed numba\n",
    "! pip install umap-learn\n",
    "! pip install molvs\n",
    "! pip install bravado"
   ]
  },
  {
   "cell_type": "code",
   "execution_count": null,
   "metadata": {
    "id": "wzNK3wX2O4lu"
   },
   "outputs": [],
   "source": [
    "import deepchem as dc\n",
    "\n",
    "# get the Install AMPL_GPU_test.sh\n",
    "!wget 'https://raw.githubusercontent.com/ATOMScience-org/AMPL/master/atomsci/ddm/examples/tutorials/config/install_AMPL_GPU_test.sh'\n",
    "\n",
    "# run the script to install AMPL\n",
    "! chmod u+x install_AMPL_GPU_test.sh\n",
    "! ./install_AMPL_GPU_test.sh"
   ]
  },
  {
   "cell_type": "code",
   "execution_count": null,
   "metadata": {
    "colab": {
     "base_uri": "https://localhost:8080/",
     "height": 35
    },
    "id": "GUJ4DbDqNWn-",
    "outputId": "60cd6306-d5ad-4905-a6a4-44dd7bac548d"
   },
   "outputs": [
    {
     "data": {
      "application/vnd.google.colaboratory.intrinsic+json": {
       "type": "string"
      },
      "text/plain": [
       "'2.6.0.dev'"
      ]
     },
     "execution_count": 5,
     "metadata": {},
     "output_type": "execute_result"
    }
   ],
   "source": [
    "dc.__version__"
   ]
  },
  {
   "cell_type": "code",
   "execution_count": null,
   "metadata": {
    "id": "9Q12k1c9_m65"
   },
   "outputs": [],
   "source": [
    "# We temporarily disable warnings for demonstration.\n",
    "# FutureWarnings and DeprecationWarnings are present from some of the AMPL \n",
    "# dependency modules.\n",
    "import warnings\n",
    "warnings.filterwarnings('ignore')\n",
    "import json\n",
    "import requests\n",
    "import sys"
   ]
  },
  {
   "cell_type": "code",
   "execution_count": null,
   "metadata": {
    "colab": {
     "base_uri": "https://localhost:8080/"
    },
    "id": "E8BxcPS4EVt9",
    "outputId": "b8a6c22c-63b9-462b-e48c-7e086b5d732b"
   },
   "outputs": [
    {
     "name": "stderr",
     "output_type": "stream",
     "text": [
      "2021-09-09 22:05:08,675 Model tracker client not supported in your environment; can look at models in filesystem only.\n"
     ]
    }
   ],
   "source": [
    "import atomsci.ddm.pipeline.compare_models as cmp\n",
    "import atomsci.ddm.pipeline.model_pipeline as mp\n",
    "import atomsci.ddm.pipeline.parameter_parser as parse"
   ]
  },
  {
   "cell_type": "code",
   "execution_count": null,
   "metadata": {
    "id": "MXqJNTpPEYcx"
   },
   "outputs": [],
   "source": [
    "import os\n",
    "os.mkdir('chembl_activity_models')"
   ]
  },
  {
   "cell_type": "markdown",
   "metadata": {
    "id": "ZIIEHFGZEdlp"
   },
   "source": [
    "**Let us display the dataset**"
   ]
  },
  {
   "cell_type": "code",
   "execution_count": null,
   "metadata": {
    "id": "n3RE8OYSKqqd"
   },
   "outputs": [],
   "source": [
    "import pandas as pd\n",
    "import requests\n",
    "import io\n",
    "url = 'https://raw.githubusercontent.com/ATOMScience-org/AMPL/master/atomsci/ddm/examples/tutorials/datasets/ChEMBL26_SCN5A_IC50_human_ml_ready.csv'\n",
    "download = requests.get(url).content\n",
    "df = pd.read_csv(url, index_col=0)\n",
    "# Reading the downloaded content and turning it into a pandas dataframe\n",
    "df = pd.read_csv(io.StringIO(download.decode('utf-8')))\n",
    "df.iloc[0:5, 0:5]\n",
    "df.to_csv('ChEMBL26_SCN5A_IC50_human_ml_ready.csv', index=False)"
   ]
  },
  {
   "cell_type": "code",
   "execution_count": null,
   "metadata": {
    "colab": {
     "base_uri": "https://localhost:8080/",
     "height": 423
    },
    "id": "KJtGUkXmycv3",
    "outputId": "7c73fff3-bec2-47fd-e644-5b1a2d7a9752"
   },
   "outputs": [
    {
     "data": {
      "text/html": [
       "<div>\n",
       "<style scoped>\n",
       "    .dataframe tbody tr th:only-of-type {\n",
       "        vertical-align: middle;\n",
       "    }\n",
       "\n",
       "    .dataframe tbody tr th {\n",
       "        vertical-align: top;\n",
       "    }\n",
       "\n",
       "    .dataframe thead th {\n",
       "        text-align: right;\n",
       "    }\n",
       "</style>\n",
       "<table border=\"1\" class=\"dataframe\">\n",
       "  <thead>\n",
       "    <tr style=\"text-align: right;\">\n",
       "      <th></th>\n",
       "      <th>base_rdkit_smiles</th>\n",
       "      <th>compound_id</th>\n",
       "      <th>pIC50</th>\n",
       "      <th>relation</th>\n",
       "      <th>active</th>\n",
       "    </tr>\n",
       "  </thead>\n",
       "  <tbody>\n",
       "    <tr>\n",
       "      <th>0</th>\n",
       "      <td>O=S(=O)(Nc1nccs1)c1ccc2c(c1)OCCN2c1ccc(Cl)cc1O...</td>\n",
       "      <td>CHEMBL3948159</td>\n",
       "      <td>5.806875</td>\n",
       "      <td>NaN</td>\n",
       "      <td>1</td>\n",
       "    </tr>\n",
       "    <tr>\n",
       "      <th>1</th>\n",
       "      <td>Fc1cccc(Cn2ccc3c(OC4CCN(Cc5ccccn5)CC4)ncnc32)c1F</td>\n",
       "      <td>CHEMBL2012299</td>\n",
       "      <td>7.698970</td>\n",
       "      <td>NaN</td>\n",
       "      <td>1</td>\n",
       "    </tr>\n",
       "    <tr>\n",
       "      <th>2</th>\n",
       "      <td>COc1cc(-c2cccc(F)c2)c(Cl)cc1-c1ncc(O)c2cc(S(=O...</td>\n",
       "      <td>CHEMBL4089326</td>\n",
       "      <td>5.000000</td>\n",
       "      <td>&lt;</td>\n",
       "      <td>0</td>\n",
       "    </tr>\n",
       "    <tr>\n",
       "      <th>3</th>\n",
       "      <td>O=C(Nc1cccc(C(F)(F)F)c1-c1ccccn1)c1cccc(-c2ncc...</td>\n",
       "      <td>CHEMBL4084926</td>\n",
       "      <td>5.721246</td>\n",
       "      <td>NaN</td>\n",
       "      <td>1</td>\n",
       "    </tr>\n",
       "    <tr>\n",
       "      <th>4</th>\n",
       "      <td>CC(C)COc1ncc(-c2nn(C)c3cc(C(=O)NS(C)(=O)=O)ccc...</td>\n",
       "      <td>CHEMBL4280298</td>\n",
       "      <td>5.186552</td>\n",
       "      <td>NaN</td>\n",
       "      <td>1</td>\n",
       "    </tr>\n",
       "    <tr>\n",
       "      <th>...</th>\n",
       "      <td>...</td>\n",
       "      <td>...</td>\n",
       "      <td>...</td>\n",
       "      <td>...</td>\n",
       "      <td>...</td>\n",
       "    </tr>\n",
       "    <tr>\n",
       "      <th>1724</th>\n",
       "      <td>O=C(NCc1ccc(C(F)(F)F)cc1)C1c2ccccc2C(=O)N1CCc1...</td>\n",
       "      <td>CHEMBL2164387</td>\n",
       "      <td>5.795880</td>\n",
       "      <td>NaN</td>\n",
       "      <td>1</td>\n",
       "    </tr>\n",
       "    <tr>\n",
       "      <th>1725</th>\n",
       "      <td>COc1ccc(Cl)c(-c2ccc(NC(=O)c3ccnn3C)nc2N)c1</td>\n",
       "      <td>CHEMBL3589904</td>\n",
       "      <td>4.431798</td>\n",
       "      <td>NaN</td>\n",
       "      <td>1</td>\n",
       "    </tr>\n",
       "    <tr>\n",
       "      <th>1726</th>\n",
       "      <td>N#Cc1cc(F)ccc1N1CCOc2cc(S(=O)(=O)Nc3nccs3)ccc21</td>\n",
       "      <td>CHEMBL3955931</td>\n",
       "      <td>5.000000</td>\n",
       "      <td>&lt;</td>\n",
       "      <td>0</td>\n",
       "    </tr>\n",
       "    <tr>\n",
       "      <th>1727</th>\n",
       "      <td>Clc1cn(Cc2ccccc2)c2ncnc(OC3CCN(Cc4cscn4)CC3)c12</td>\n",
       "      <td>CHEMBL2012181</td>\n",
       "      <td>7.096910</td>\n",
       "      <td>NaN</td>\n",
       "      <td>1</td>\n",
       "    </tr>\n",
       "    <tr>\n",
       "      <th>1728</th>\n",
       "      <td>C=C(N)NCCC[C@@H]1NC(=O)[C@@H]2CSSC[C@H](N)C(=O...</td>\n",
       "      <td>CHEMBL3416888</td>\n",
       "      <td>4.602060</td>\n",
       "      <td>&lt;</td>\n",
       "      <td>0</td>\n",
       "    </tr>\n",
       "  </tbody>\n",
       "</table>\n",
       "<p>1729 rows × 5 columns</p>\n",
       "</div>"
      ],
      "text/plain": [
       "                                      base_rdkit_smiles  ... active\n",
       "0     O=S(=O)(Nc1nccs1)c1ccc2c(c1)OCCN2c1ccc(Cl)cc1O...  ...      1\n",
       "1      Fc1cccc(Cn2ccc3c(OC4CCN(Cc5ccccn5)CC4)ncnc32)c1F  ...      1\n",
       "2     COc1cc(-c2cccc(F)c2)c(Cl)cc1-c1ncc(O)c2cc(S(=O...  ...      0\n",
       "3     O=C(Nc1cccc(C(F)(F)F)c1-c1ccccn1)c1cccc(-c2ncc...  ...      1\n",
       "4     CC(C)COc1ncc(-c2nn(C)c3cc(C(=O)NS(C)(=O)=O)ccc...  ...      1\n",
       "...                                                 ...  ...    ...\n",
       "1724  O=C(NCc1ccc(C(F)(F)F)cc1)C1c2ccccc2C(=O)N1CCc1...  ...      1\n",
       "1725         COc1ccc(Cl)c(-c2ccc(NC(=O)c3ccnn3C)nc2N)c1  ...      1\n",
       "1726    N#Cc1cc(F)ccc1N1CCOc2cc(S(=O)(=O)Nc3nccs3)ccc21  ...      0\n",
       "1727    Clc1cn(Cc2ccccc2)c2ncnc(OC3CCN(Cc4cscn4)CC3)c12  ...      1\n",
       "1728  C=C(N)NCCC[C@@H]1NC(=O)[C@@H]2CSSC[C@H](N)C(=O...  ...      0\n",
       "\n",
       "[1729 rows x 5 columns]"
      ]
     },
     "execution_count": 10,
     "metadata": {},
     "output_type": "execute_result"
    }
   ],
   "source": [
    "df"
   ]
  },
  {
   "cell_type": "markdown",
   "metadata": {
    "id": "N6ZZ33pBeBLK"
   },
   "source": [
    "base_splitter\n",
    "Description:\tType of splitter to use for train/validation split if temporal split used for test set. May be random, scaffold, or ave_min. The allowable choices are set in splitter.py\n",
    "\n",
    "Check here for details, https://github.com/ATOMScience-org/AMPL/blob/master/atomsci/ddm/docs/PARAMETERS.md"
   ]
  },
  {
   "cell_type": "code",
   "execution_count": null,
   "metadata": {
    "id": "GdYHTPnvIFFD"
   },
   "outputs": [],
   "source": [
    "split_config = {\n",
    "\"script_dir\": \"/content/AMPL/atomsci/ddm\",\n",
    "\"dataset_key\" : \"/content/ChEMBL26_SCN5A_IC50_human_ml_ready.csv\",\n",
    "\"datastore\": \"False\",\n",
    "\"split_only\": \"True\",\n",
    "\"splitter\": \"scaffold\",\n",
    "\"split_valid_frac\": \"0.15\",\n",
    "\"split_test_frac\": \"0.15\",\n",
    "\"previously_split\": \"False\",\n",
    "\"prediction_type\": \"regression\",\n",
    "\"response_cols\" : \"pIC50\",\n",
    "\"id_col\": \"compound_id\",\n",
    "\"smiles_col\" : \"base_rdkit_smiles\",\n",
    "\"result_dir\": \"/content/chembl_activity_models\",\n",
    "\"system\": \"LC\",\n",
    "\"transformers\": \"True\",\n",
    "\"model_type\": \"NN\",\n",
    "\"featurizer\": \"graphconv\",\n",
    "\"descriptor_type\": \"graphconv\",\n",
    "\"learning_rate\": \"0.0007\",\n",
    "\"layer_sizes\": \"64,64,32\",\n",
    "\"dropouts\" : \"0.0,0.0,0.0\",\n",
    "\"save_results\": \"False\",\n",
    "\"max_epochs\": \"100\",\n",
    "\"verbose\": \"True\"\n",
    "}"
   ]
  },
  {
   "cell_type": "code",
   "execution_count": null,
   "metadata": {
    "id": "rvaovtCdDIiP"
   },
   "outputs": [],
   "source": [
    "split_params = parse.wrapper(split_config)"
   ]
  },
  {
   "cell_type": "code",
   "execution_count": null,
   "metadata": {
    "id": "6256V9lGDKMX"
   },
   "outputs": [],
   "source": [
    "split_model = mp.ModelPipeline(split_params)"
   ]
  },
  {
   "cell_type": "code",
   "execution_count": null,
   "metadata": {
    "colab": {
     "base_uri": "https://localhost:8080/",
     "height": 211
    },
    "id": "Me8mKNyFDMEQ",
    "outputId": "14fcd044-5587-424c-ffe6-2300c89cd2a5"
   },
   "outputs": [
    {
     "name": "stderr",
     "output_type": "stream",
     "text": [
      "2021-09-09 22:05:42,367 Attempting to load featurized dataset\n",
      "2021-09-09 22:05:42,389 Exception when trying to load featurized data:\n",
      "DynamicFeaturization doesn't support get_featurized_dset_name()\n",
      "2021-09-09 22:05:42,394 Featurized dataset not previously saved for dataset ChEMBL26_SCN5A_IC50_human_ml_ready, creating new\n",
      "2021-09-09 22:05:42,412 Featurizing sample 0\n",
      "2021-09-09 22:05:50,534 Featurizing sample 1000\n"
     ]
    },
    {
     "name": "stdout",
     "output_type": "stream",
     "text": [
      "number of features: 75\n"
     ]
    },
    {
     "name": "stderr",
     "output_type": "stream",
     "text": [
      "2021-09-09 22:05:57,308 Splitting data by scaffold\n",
      "2021-09-09 22:06:11,467 Dataset split table saved to /content/ChEMBL26_SCN5A_IC50_human_ml_ready_train_valid_test_scaffold_c1043e32-61c9-46a4-bd86-3f004b1e8cfd.csv\n"
     ]
    },
    {
     "data": {
      "application/vnd.google.colaboratory.intrinsic+json": {
       "type": "string"
      },
      "text/plain": [
       "'c1043e32-61c9-46a4-bd86-3f004b1e8cfd'"
      ]
     },
     "execution_count": 14,
     "metadata": {},
     "output_type": "execute_result"
    }
   ],
   "source": [
    "split_uuid = split_model.split_dataset()\n",
    "split_uuid"
   ]
  },
  {
   "cell_type": "code",
   "execution_count": null,
   "metadata": {
    "colab": {
     "base_uri": "https://localhost:8080/"
    },
    "id": "0d79ivM-I49z",
    "outputId": "4e6a1d17-191f-414a-dedd-a8ab68f6e4d7"
   },
   "outputs": [
    {
     "name": "stdout",
     "output_type": "stream",
     "text": [
      "Requirement already satisfied: gspread in /usr/local/lib/python3.7/dist-packages (3.0.1)\n",
      "Collecting gspread\n",
      "  Downloading gspread-4.0.1-py3-none-any.whl (29 kB)\n",
      "Requirement already satisfied: google-auth>=1.12.0 in /usr/local/lib/python3.7/dist-packages (from gspread) (1.34.0)\n",
      "Requirement already satisfied: google-auth-oauthlib>=0.4.1 in /usr/local/lib/python3.7/dist-packages (from gspread) (0.4.5)\n",
      "Requirement already satisfied: six>=1.9.0 in /usr/local/lib/python3.7/dist-packages (from google-auth>=1.12.0->gspread) (1.15.0)\n",
      "Requirement already satisfied: setuptools>=40.3.0 in /usr/local/lib/python3.7/dist-packages (from google-auth>=1.12.0->gspread) (57.4.0)\n",
      "Requirement already satisfied: cachetools<5.0,>=2.0.0 in /usr/local/lib/python3.7/dist-packages (from google-auth>=1.12.0->gspread) (4.2.2)\n",
      "Requirement already satisfied: pyasn1-modules>=0.2.1 in /usr/local/lib/python3.7/dist-packages (from google-auth>=1.12.0->gspread) (0.2.8)\n",
      "Requirement already satisfied: rsa<5,>=3.1.4 in /usr/local/lib/python3.7/dist-packages (from google-auth>=1.12.0->gspread) (4.7.2)\n",
      "Requirement already satisfied: requests-oauthlib>=0.7.0 in /usr/local/lib/python3.7/dist-packages (from google-auth-oauthlib>=0.4.1->gspread) (1.3.0)\n",
      "Requirement already satisfied: pyasn1<0.5.0,>=0.4.6 in /usr/local/lib/python3.7/dist-packages (from pyasn1-modules>=0.2.1->google-auth>=1.12.0->gspread) (0.4.8)\n",
      "Requirement already satisfied: requests>=2.0.0 in /usr/local/lib/python3.7/dist-packages (from requests-oauthlib>=0.7.0->google-auth-oauthlib>=0.4.1->gspread) (2.23.0)\n",
      "Requirement already satisfied: oauthlib>=3.0.0 in /usr/local/lib/python3.7/dist-packages (from requests-oauthlib>=0.7.0->google-auth-oauthlib>=0.4.1->gspread) (3.1.1)\n",
      "Requirement already satisfied: urllib3!=1.25.0,!=1.25.1,<1.26,>=1.21.1 in /usr/local/lib/python3.7/dist-packages (from requests>=2.0.0->requests-oauthlib>=0.7.0->google-auth-oauthlib>=0.4.1->gspread) (1.24.3)\n",
      "Requirement already satisfied: idna<3,>=2.5 in /usr/local/lib/python3.7/dist-packages (from requests>=2.0.0->requests-oauthlib>=0.7.0->google-auth-oauthlib>=0.4.1->gspread) (2.10)\n",
      "Requirement already satisfied: chardet<4,>=3.0.2 in /usr/local/lib/python3.7/dist-packages (from requests>=2.0.0->requests-oauthlib>=0.7.0->google-auth-oauthlib>=0.4.1->gspread) (3.0.4)\n",
      "Requirement already satisfied: certifi>=2017.4.17 in /usr/local/lib/python3.7/dist-packages (from requests>=2.0.0->requests-oauthlib>=0.7.0->google-auth-oauthlib>=0.4.1->gspread) (2021.5.30)\n",
      "Installing collected packages: gspread\n",
      "  Attempting uninstall: gspread\n",
      "    Found existing installation: gspread 3.0.1\n",
      "    Uninstalling gspread-3.0.1:\n",
      "      Successfully uninstalled gspread-3.0.1\n",
      "Successfully installed gspread-4.0.1\n"
     ]
    }
   ],
   "source": [
    "!pip install --upgrade gspread"
   ]
  },
  {
   "cell_type": "code",
   "execution_count": null,
   "metadata": {
    "colab": {
     "base_uri": "https://localhost:8080/"
    },
    "id": "N_Cz_Kgv9BM4",
    "outputId": "4c317063-2e1c-4023-d536-20d61044c0ec"
   },
   "outputs": [
    {
     "name": "stdout",
     "output_type": "stream",
     "text": [
      "Tue Aug 10 23:46:59 UTC 2021\n"
     ]
    }
   ],
   "source": [
    "!date"
   ]
  },
  {
   "cell_type": "markdown",
   "metadata": {
    "id": "9D2-0F8jbu4K"
   },
   "source": [
    "## Train the mode (~ 10 minutes)"
   ]
  },
  {
   "cell_type": "code",
   "execution_count": null,
   "metadata": {
    "id": "eCtts89ZDxLn"
   },
   "outputs": [],
   "source": [
    "train_config = {\n",
    "\"script_dir\": \"/content/AMPL/atomsci/ddm\",\n",
    "\"dataset_key\" : \"/content/ChEMBL26_SCN5A_IC50_human_ml_ready.csv\",\n",
    "\"datastore\": \"False\",\n",
    "\"uncertainty\": \"False\",\n",
    "\"splitter\": \"scaffold\",\n",
    "\"split_valid_frac\": \"0.15\",\n",
    "\"split_test_frac\": \"0.15\",\n",
    "\"previously_split\": \"True\",\n",
    "\"split_uuid\": \"{}\".format(split_uuid),\n",
    "\"prediction_type\": \"regression\",\n",
    "\"response_cols\" : \"pIC50\",\n",
    "\"id_col\": \"compound_id\",\n",
    "\"smiles_col\" : \"base_rdkit_smiles\",\n",
    "\"result_dir\": \"/content/chembl_activity_models\",\n",
    "\"system\": \"LC\",\n",
    "\"transformers\": \"True\",\n",
    "\"model_type\": \"NN\",\n",
    "\"featurizer\": \"graphconv\",\n",
    "\"descriptor_type\": \"graphconv\",\n",
    "\"learning_rate\": \"0.0007\",\n",
    "\"layer_sizes\": \"64,64,32\",\n",
    "\"dropouts\" : \"0.0,0.0,0.0\",\n",
    "\"save_results\": \"False\",\n",
    "\"max_epochs\": \"100\",\n",
    "\"verbose\": \"True\"\n",
    "}"
   ]
  },
  {
   "cell_type": "code",
   "execution_count": null,
   "metadata": {
    "id": "u3Cjkh76F-ym"
   },
   "outputs": [],
   "source": [
    "train_params = parse.wrapper(train_config)"
   ]
  },
  {
   "cell_type": "code",
   "execution_count": null,
   "metadata": {
    "id": "949S5ME0GIOf"
   },
   "outputs": [],
   "source": [
    "train_model = mp.ModelPipeline(train_params)"
   ]
  },
  {
   "cell_type": "markdown",
   "metadata": {
    "id": "JhVhhldinDid"
   },
   "source": [
    "## Train_model took ~ 18 minutes on a GPU  (~ 30 minutes on a CPU)"
   ]
  },
  {
   "cell_type": "code",
   "execution_count": null,
   "metadata": {
    "colab": {
     "base_uri": "https://localhost:8080/",
     "height": 35
    },
    "id": "6Vsa4RRzjGH-",
    "outputId": "559ede7b-abdb-4149-9711-e92660fa3e77"
   },
   "outputs": [
    {
     "data": {
      "application/vnd.google.colaboratory.intrinsic+json": {
       "type": "string"
      },
      "text/plain": [
       "'1.2.0'"
      ]
     },
     "execution_count": 19,
     "metadata": {},
     "output_type": "execute_result"
    }
   ],
   "source": [
    "mp.ampl_version"
   ]
  },
  {
   "cell_type": "code",
   "execution_count": null,
   "metadata": {
    "colab": {
     "base_uri": "https://localhost:8080/",
     "height": 35
    },
    "id": "U8KN2ih8iwtq",
    "outputId": "0b0857c9-4ddd-4874-e352-2bd48d477d88"
   },
   "outputs": [
    {
     "data": {
      "application/vnd.google.colaboratory.intrinsic+json": {
       "type": "string"
      },
      "text/plain": [
       "'2.6.0.dev'"
      ]
     },
     "execution_count": 20,
     "metadata": {},
     "output_type": "execute_result"
    }
   ],
   "source": [
    "dc.__version__"
   ]
  },
  {
   "cell_type": "code",
   "execution_count": null,
   "metadata": {
    "colab": {
     "base_uri": "https://localhost:8080/"
    },
    "id": "VJh99dc1Sms1",
    "outputId": "0881e2ec-d778-4c09-cf36-2633ae25fd9a"
   },
   "outputs": [
    {
     "name": "stdout",
     "output_type": "stream",
     "text": [
      "/content/github\n",
      "AMPL  AMPL.build  AMPL.dist  __init___py.patch\ttransformations_py.patch\n"
     ]
    }
   ],
   "source": [
    "%cd github\n",
    "!ls"
   ]
  },
  {
   "cell_type": "code",
   "execution_count": null,
   "metadata": {
    "colab": {
     "base_uri": "https://localhost:8080/"
    },
    "id": "dzoK1kDDGPLn",
    "outputId": "e7948db4-db60-4717-8d35-d8c03b18dc36"
   },
   "outputs": [
    {
     "name": "stderr",
     "output_type": "stream",
     "text": [
      "2021-09-09 22:07:37,435 Attempting to load featurized dataset\n",
      "2021-09-09 22:07:37,452 Exception when trying to load featurized data:\n",
      "DynamicFeaturization doesn't support get_featurized_dset_name()\n",
      "2021-09-09 22:07:37,453 Featurized dataset not previously saved for dataset ChEMBL26_SCN5A_IC50_human_ml_ready, creating new\n",
      "2021-09-09 22:07:37,472 Featurizing sample 0\n",
      "2021-09-09 22:07:45,336 Featurizing sample 1000\n"
     ]
    },
    {
     "name": "stdout",
     "output_type": "stream",
     "text": [
      "number of features: 75\n"
     ]
    },
    {
     "name": "stderr",
     "output_type": "stream",
     "text": [
      "2021-09-09 22:07:53,186 Previous dataset split restored\n",
      "2021-09-09 22:07:53,219 Wrote transformers to /content/chembl_activity_models/ChEMBL26_SCN5A_IC50_human_ml_ready/NN_graphconv_scaffold_regression/f06dbbd9-4416-4a5d-9d05-bbd6682f70e7/transformers.pkl\n",
      "2021-09-09 22:07:53,220 Transforming response data\n",
      "2021-09-09 22:07:54,148 Transforming response data\n",
      "2021-09-09 22:07:54,311 Transforming response data\n",
      "2021-09-09 22:08:18,151 Epoch 0: training r2_score = -0.263, validation r2_score = -0.629, test r2_score = -0.294\n",
      "2021-09-09 22:08:19,189 Epoch 1: training r2_score = -0.205, validation r2_score = -0.707, test r2_score = -0.324\n",
      "2021-09-09 22:08:20,044 Epoch 2: training r2_score = -0.108, validation r2_score = -0.776, test r2_score = -0.404\n",
      "2021-09-09 22:08:20,877 Epoch 3: training r2_score = -0.174, validation r2_score = -0.581, test r2_score = -0.443\n",
      "2021-09-09 22:08:21,876 Epoch 4: training r2_score = -0.019, validation r2_score = -0.321, test r2_score = -0.327\n",
      "2021-09-09 22:08:22,870 Epoch 5: training r2_score = -0.051, validation r2_score = -0.294, test r2_score = -0.244\n",
      "2021-09-09 22:08:23,851 Epoch 6: training r2_score = -0.236, validation r2_score = -0.457, test r2_score = -0.356\n",
      "2021-09-09 22:08:24,696 Epoch 7: training r2_score = 0.116, validation r2_score = -0.229, test r2_score = -0.200\n",
      "2021-09-09 22:08:25,718 Epoch 8: training r2_score = 0.336, validation r2_score = -0.156, test r2_score = -0.091\n",
      "2021-09-09 22:08:26,834 Epoch 9: training r2_score = 0.361, validation r2_score = -0.013, test r2_score = 0.011\n",
      "2021-09-09 22:08:27,840 Epoch 10: training r2_score = 0.306, validation r2_score = -0.142, test r2_score = -0.099\n",
      "2021-09-09 22:08:28,678 Epoch 11: training r2_score = 0.400, validation r2_score = -0.095, test r2_score = 0.038\n",
      "2021-09-09 22:08:29,519 Epoch 12: training r2_score = 0.403, validation r2_score = -0.154, test r2_score = 0.028\n",
      "2021-09-09 22:08:30,357 Epoch 13: training r2_score = 0.466, validation r2_score = -0.076, test r2_score = 0.059\n",
      "2021-09-09 22:08:31,196 Epoch 14: training r2_score = 0.560, validation r2_score = 0.012, test r2_score = 0.147\n",
      "2021-09-09 22:08:32,201 Epoch 15: training r2_score = 0.564, validation r2_score = -0.052, test r2_score = 0.155\n",
      "2021-09-09 22:08:33,039 Epoch 16: training r2_score = 0.619, validation r2_score = -0.107, test r2_score = 0.138\n",
      "2021-09-09 22:08:33,884 Epoch 17: training r2_score = 0.646, validation r2_score = -0.079, test r2_score = 0.173\n",
      "2021-09-09 22:08:34,725 Epoch 18: training r2_score = 0.613, validation r2_score = -0.117, test r2_score = 0.022\n",
      "2021-09-09 22:08:35,565 Epoch 19: training r2_score = 0.646, validation r2_score = -0.118, test r2_score = 0.035\n",
      "2021-09-09 22:08:36,398 Epoch 20: training r2_score = 0.641, validation r2_score = -0.015, test r2_score = 0.082\n",
      "2021-09-09 22:08:37,223 Epoch 21: training r2_score = 0.644, validation r2_score = -0.093, test r2_score = 0.042\n",
      "2021-09-09 22:08:38,066 Epoch 22: training r2_score = 0.718, validation r2_score = 0.058, test r2_score = 0.163\n",
      "2021-09-09 22:08:39,087 Epoch 23: training r2_score = 0.744, validation r2_score = 0.038, test r2_score = 0.163\n",
      "2021-09-09 22:08:39,922 Epoch 24: training r2_score = 0.745, validation r2_score = 0.020, test r2_score = 0.108\n",
      "2021-09-09 22:08:40,748 Epoch 25: training r2_score = 0.778, validation r2_score = 0.009, test r2_score = 0.138\n",
      "2021-09-09 22:08:41,598 Epoch 26: training r2_score = 0.775, validation r2_score = 0.041, test r2_score = 0.112\n",
      "2021-09-09 22:08:42,436 Epoch 27: training r2_score = 0.768, validation r2_score = 0.015, test r2_score = 0.154\n",
      "2021-09-09 22:08:43,268 Epoch 28: training r2_score = 0.768, validation r2_score = -0.139, test r2_score = 0.020\n",
      "2021-09-09 22:08:44,098 Epoch 29: training r2_score = 0.756, validation r2_score = -0.093, test r2_score = 0.099\n",
      "2021-09-09 22:08:44,943 Epoch 30: training r2_score = 0.732, validation r2_score = -0.068, test r2_score = 0.078\n",
      "2021-09-09 22:08:45,778 Epoch 31: training r2_score = 0.758, validation r2_score = -0.062, test r2_score = 0.054\n",
      "2021-09-09 22:08:46,629 Epoch 32: training r2_score = 0.748, validation r2_score = -0.034, test r2_score = 0.045\n",
      "2021-09-09 22:08:47,471 Epoch 33: training r2_score = 0.783, validation r2_score = 0.018, test r2_score = 0.163\n",
      "2021-09-09 22:08:48,296 Epoch 34: training r2_score = 0.795, validation r2_score = 0.008, test r2_score = 0.134\n",
      "2021-09-09 22:08:49,139 Epoch 35: training r2_score = 0.762, validation r2_score = 0.057, test r2_score = 0.190\n",
      "2021-09-09 22:08:49,970 Epoch 36: training r2_score = 0.797, validation r2_score = -0.052, test r2_score = 0.074\n",
      "2021-09-09 22:08:50,801 Epoch 37: training r2_score = 0.801, validation r2_score = -0.020, test r2_score = 0.084\n",
      "2021-09-09 22:08:51,662 Epoch 38: training r2_score = 0.800, validation r2_score = -0.023, test r2_score = 0.076\n",
      "2021-09-09 22:08:52,488 Epoch 39: training r2_score = 0.813, validation r2_score = 0.014, test r2_score = 0.123\n",
      "2021-09-09 22:08:53,323 Epoch 40: training r2_score = 0.805, validation r2_score = -0.090, test r2_score = 0.076\n",
      "2021-09-09 22:08:54,160 Epoch 41: training r2_score = 0.780, validation r2_score = -0.206, test r2_score = 0.043\n",
      "2021-09-09 22:08:54,986 Epoch 42: training r2_score = 0.817, validation r2_score = -0.021, test r2_score = 0.145\n",
      "2021-09-09 22:08:55,819 Epoch 43: training r2_score = 0.805, validation r2_score = -0.082, test r2_score = 0.139\n",
      "2021-09-09 22:08:56,642 Epoch 44: training r2_score = 0.821, validation r2_score = -0.023, test r2_score = 0.181\n",
      "2021-09-09 22:08:57,484 Epoch 45: training r2_score = 0.831, validation r2_score = -0.015, test r2_score = 0.211\n",
      "2021-09-09 22:08:58,310 Epoch 46: training r2_score = 0.840, validation r2_score = 0.022, test r2_score = 0.198\n",
      "2021-09-09 22:08:59,116 Epoch 47: training r2_score = 0.811, validation r2_score = -0.044, test r2_score = 0.140\n",
      "2021-09-09 22:08:59,966 Epoch 48: training r2_score = 0.827, validation r2_score = -0.068, test r2_score = 0.123\n",
      "2021-09-09 22:09:00,824 Epoch 49: training r2_score = 0.848, validation r2_score = -0.069, test r2_score = 0.127\n",
      "2021-09-09 22:09:01,680 Epoch 50: training r2_score = 0.842, validation r2_score = 0.027, test r2_score = 0.121\n",
      "2021-09-09 22:09:02,533 Epoch 51: training r2_score = 0.844, validation r2_score = 0.046, test r2_score = 0.122\n",
      "2021-09-09 22:09:03,364 Epoch 52: training r2_score = 0.839, validation r2_score = 0.064, test r2_score = 0.169\n",
      "2021-09-09 22:09:04,368 Epoch 53: training r2_score = 0.828, validation r2_score = -0.057, test r2_score = 0.085\n",
      "2021-09-09 22:09:05,190 Epoch 54: training r2_score = 0.837, validation r2_score = -0.066, test r2_score = 0.057\n",
      "2021-09-09 22:09:06,038 Epoch 55: training r2_score = 0.859, validation r2_score = 0.053, test r2_score = 0.111\n",
      "2021-09-09 22:09:06,873 Epoch 56: training r2_score = 0.815, validation r2_score = -0.004, test r2_score = 0.090\n",
      "2021-09-09 22:09:07,709 Epoch 57: training r2_score = 0.853, validation r2_score = 0.004, test r2_score = 0.114\n",
      "2021-09-09 22:09:08,543 Epoch 58: training r2_score = 0.842, validation r2_score = -0.042, test r2_score = 0.110\n",
      "2021-09-09 22:09:09,362 Epoch 59: training r2_score = 0.854, validation r2_score = 0.031, test r2_score = 0.169\n",
      "2021-09-09 22:09:10,184 Epoch 60: training r2_score = 0.858, validation r2_score = 0.024, test r2_score = 0.198\n",
      "2021-09-09 22:09:11,024 Epoch 61: training r2_score = 0.866, validation r2_score = -0.007, test r2_score = 0.147\n",
      "2021-09-09 22:09:11,850 Epoch 62: training r2_score = 0.875, validation r2_score = -0.039, test r2_score = 0.161\n",
      "2021-09-09 22:09:12,675 Epoch 63: training r2_score = 0.877, validation r2_score = 0.102, test r2_score = 0.162\n",
      "2021-09-09 22:09:13,697 Epoch 64: training r2_score = 0.883, validation r2_score = 0.057, test r2_score = 0.137\n",
      "2021-09-09 22:09:14,529 Epoch 65: training r2_score = 0.881, validation r2_score = 0.053, test r2_score = 0.169\n",
      "2021-09-09 22:09:15,381 Epoch 66: training r2_score = 0.880, validation r2_score = -0.004, test r2_score = 0.131\n",
      "2021-09-09 22:09:16,202 Epoch 67: training r2_score = 0.862, validation r2_score = -0.039, test r2_score = 0.166\n",
      "2021-09-09 22:09:17,037 Epoch 68: training r2_score = 0.879, validation r2_score = -0.005, test r2_score = 0.205\n",
      "2021-09-09 22:09:17,880 Epoch 69: training r2_score = 0.861, validation r2_score = -0.084, test r2_score = 0.171\n",
      "2021-09-09 22:09:18,713 Epoch 70: training r2_score = 0.876, validation r2_score = 0.041, test r2_score = 0.207\n",
      "2021-09-09 22:09:19,552 Epoch 71: training r2_score = 0.890, validation r2_score = 0.018, test r2_score = 0.178\n",
      "2021-09-09 22:09:20,394 Epoch 72: training r2_score = 0.884, validation r2_score = 0.004, test r2_score = 0.168\n",
      "2021-09-09 22:09:21,205 Epoch 73: training r2_score = 0.880, validation r2_score = -0.098, test r2_score = 0.142\n",
      "2021-09-09 22:09:22,044 Epoch 74: training r2_score = 0.869, validation r2_score = -0.093, test r2_score = 0.130\n",
      "2021-09-09 22:09:22,882 Epoch 75: training r2_score = 0.894, validation r2_score = -0.021, test r2_score = 0.143\n",
      "2021-09-09 22:09:23,701 Epoch 76: training r2_score = 0.864, validation r2_score = -0.082, test r2_score = 0.102\n",
      "2021-09-09 22:09:24,529 Epoch 77: training r2_score = 0.883, validation r2_score = -0.019, test r2_score = 0.134\n",
      "2021-09-09 22:09:25,347 Epoch 78: training r2_score = 0.878, validation r2_score = -0.072, test r2_score = 0.147\n",
      "2021-09-09 22:09:26,176 Epoch 79: training r2_score = 0.882, validation r2_score = 0.061, test r2_score = 0.183\n",
      "2021-09-09 22:09:27,009 Epoch 80: training r2_score = 0.878, validation r2_score = -0.034, test r2_score = 0.137\n",
      "2021-09-09 22:09:27,842 Epoch 81: training r2_score = 0.893, validation r2_score = -0.008, test r2_score = 0.145\n",
      "2021-09-09 22:09:28,668 Epoch 82: training r2_score = 0.890, validation r2_score = 0.043, test r2_score = 0.166\n",
      "2021-09-09 22:09:29,485 Epoch 83: training r2_score = 0.886, validation r2_score = -0.024, test r2_score = 0.112\n",
      "2021-09-09 22:09:30,325 Epoch 84: training r2_score = 0.891, validation r2_score = -0.069, test r2_score = 0.088\n",
      "2021-09-09 22:09:31,165 Epoch 85: training r2_score = 0.886, validation r2_score = -0.049, test r2_score = 0.108\n",
      "2021-09-09 22:09:32,001 Epoch 86: training r2_score = 0.905, validation r2_score = -0.049, test r2_score = 0.138\n",
      "2021-09-09 22:09:32,834 Epoch 87: training r2_score = 0.848, validation r2_score = -0.037, test r2_score = 0.143\n",
      "2021-09-09 22:09:33,652 Epoch 88: training r2_score = 0.890, validation r2_score = 0.017, test r2_score = 0.191\n",
      "2021-09-09 22:09:34,487 Epoch 89: training r2_score = 0.905, validation r2_score = 0.061, test r2_score = 0.200\n",
      "2021-09-09 22:09:35,308 Epoch 90: training r2_score = 0.906, validation r2_score = 0.025, test r2_score = 0.173\n",
      "2021-09-09 22:09:36,138 Epoch 91: training r2_score = 0.903, validation r2_score = 0.068, test r2_score = 0.190\n",
      "2021-09-09 22:09:36,977 Epoch 92: training r2_score = 0.898, validation r2_score = 0.057, test r2_score = 0.171\n",
      "2021-09-09 22:09:37,807 Epoch 93: training r2_score = 0.870, validation r2_score = -0.024, test r2_score = 0.143\n",
      "2021-09-09 22:09:38,631 Epoch 94: training r2_score = 0.883, validation r2_score = 0.036, test r2_score = 0.188\n",
      "2021-09-09 22:09:38,634 No improvement after 30 epochs, stopping training\n",
      "2021-09-09 22:09:39,104 Saved model files to '/content/chembl_activity_models/ChEMBL26_SCN5A_IC50_human_ml_ready/NN_graphconv_scaffold_regression/f06dbbd9-4416-4a5d-9d05-bbd6682f70e7/best_model'\n",
      "2021-09-09 22:09:39,105 Best model from epoch 63 saved to /content/chembl_activity_models/ChEMBL26_SCN5A_IC50_human_ml_ready/NN_graphconv_scaffold_regression/f06dbbd9-4416-4a5d-9d05-bbd6682f70e7/best_model\n",
      "2021-09-09 22:09:39,250 Wrote model tarball to /content/chembl_activity_models/ChEMBL26_SCN5A_IC50_human_ml_ready_model_f06dbbd9-4416-4a5d-9d05-bbd6682f70e7.tar.gz\n"
     ]
    }
   ],
   "source": [
    "train_model.train_model()"
   ]
  },
  {
   "cell_type": "code",
   "execution_count": null,
   "metadata": {
    "colab": {
     "base_uri": "https://localhost:8080/",
     "height": 170
    },
    "id": "pg58OZzSGfb3",
    "outputId": "21491620-ece5-4df4-9022-e0719699a36f"
   },
   "outputs": [
    {
     "name": "stdout",
     "output_type": "stream",
     "text": [
      "Found data for 1 models under /content/chembl_activity_models\n"
     ]
    },
    {
     "data": {
      "text/html": [
       "<div>\n",
       "<style scoped>\n",
       "    .dataframe tbody tr th:only-of-type {\n",
       "        vertical-align: middle;\n",
       "    }\n",
       "\n",
       "    .dataframe tbody tr th {\n",
       "        vertical-align: top;\n",
       "    }\n",
       "\n",
       "    .dataframe thead th {\n",
       "        text-align: right;\n",
       "    }\n",
       "</style>\n",
       "<table border=\"1\" class=\"dataframe\">\n",
       "  <thead>\n",
       "    <tr style=\"text-align: right;\">\n",
       "      <th></th>\n",
       "      <th>model_uuid</th>\n",
       "      <th>model_path</th>\n",
       "      <th>ampl_version</th>\n",
       "      <th>model_type</th>\n",
       "      <th>dataset_key</th>\n",
       "      <th>featurizer</th>\n",
       "      <th>splitter</th>\n",
       "      <th>model_score_type</th>\n",
       "      <th>feature_transform_type</th>\n",
       "      <th>learning_rate</th>\n",
       "      <th>dropouts</th>\n",
       "      <th>layer_sizes</th>\n",
       "      <th>best_epoch</th>\n",
       "      <th>max_epochs</th>\n",
       "      <th>rf_estimators</th>\n",
       "      <th>rf_max_features</th>\n",
       "      <th>rf_max_depth</th>\n",
       "      <th>xgb_gamma</th>\n",
       "      <th>xgb_learning_rate</th>\n",
       "      <th>model_choice_score</th>\n",
       "      <th>train_r2_score</th>\n",
       "      <th>train_rms_score</th>\n",
       "      <th>train_mae_score</th>\n",
       "      <th>train_num_compounds</th>\n",
       "      <th>valid_r2_score</th>\n",
       "      <th>valid_rms_score</th>\n",
       "      <th>valid_mae_score</th>\n",
       "      <th>valid_num_compounds</th>\n",
       "      <th>test_r2_score</th>\n",
       "      <th>test_rms_score</th>\n",
       "      <th>test_mae_score</th>\n",
       "      <th>test_num_compounds</th>\n",
       "    </tr>\n",
       "  </thead>\n",
       "  <tbody>\n",
       "    <tr>\n",
       "      <th>0</th>\n",
       "      <td>f06dbbd9-4416-4a5d-9d05-bbd6682f70e7</td>\n",
       "      <td>/content/chembl_activity_models/ChEMBL26_SCN5A...</td>\n",
       "      <td>1.2.0</td>\n",
       "      <td>NN</td>\n",
       "      <td>/content/ChEMBL26_SCN5A_IC50_human_ml_ready.csv</td>\n",
       "      <td>graphconv</td>\n",
       "      <td>scaffold</td>\n",
       "      <td>r2</td>\n",
       "      <td>normalization</td>\n",
       "      <td>0.0007</td>\n",
       "      <td>0.00,0.00,0.00</td>\n",
       "      <td>64,64,32</td>\n",
       "      <td>63</td>\n",
       "      <td>100</td>\n",
       "      <td>NaN</td>\n",
       "      <td>NaN</td>\n",
       "      <td>NaN</td>\n",
       "      <td>NaN</td>\n",
       "      <td>NaN</td>\n",
       "      <td>0.101922</td>\n",
       "      <td>0.877191</td>\n",
       "      <td>0.224703</td>\n",
       "      <td>0.167855</td>\n",
       "      <td>1210</td>\n",
       "      <td>0.101922</td>\n",
       "      <td>0.556917</td>\n",
       "      <td>0.409377</td>\n",
       "      <td>259</td>\n",
       "      <td>0.161975</td>\n",
       "      <td>0.642576</td>\n",
       "      <td>0.453671</td>\n",
       "      <td>260</td>\n",
       "    </tr>\n",
       "  </tbody>\n",
       "</table>\n",
       "</div>"
      ],
      "text/plain": [
       "                             model_uuid  ... test_num_compounds\n",
       "0  f06dbbd9-4416-4a5d-9d05-bbd6682f70e7  ...                260\n",
       "\n",
       "[1 rows x 32 columns]"
      ]
     },
     "execution_count": 23,
     "metadata": {},
     "output_type": "execute_result"
    }
   ],
   "source": [
    "perf_df = cmp.get_filesystem_perf_results('/content/chembl_activity_models', pred_type='regression')\n",
    "perf_df"
   ]
  },
  {
   "cell_type": "code",
   "execution_count": null,
   "metadata": {
    "colab": {
     "base_uri": "https://localhost:8080/"
    },
    "id": "_b5hfx8qP49G",
    "outputId": "99514a30-a486-4775-d054-3f79c371de1a"
   },
   "outputs": [
    {
     "name": "stdout",
     "output_type": "stream",
     "text": [
      "Thu Sep  9 22:12:39 UTC 2021\n"
     ]
    }
   ],
   "source": [
    "!date"
   ]
  }
 ],
 "metadata": {
  "accelerator": "GPU",
  "colab": {
   "collapsed_sections": [],
   "include_colab_link": true,
   "machine_shape": "hm",
   "name": "11_CHEMBL26_SCN5A_IC50_prediction.ipynb",
   "provenance": []
  },
  "kernelspec": {
   "display_name": "Python 3",
   "language": "python",
   "name": "python3"
  },
  "language_info": {
   "codemirror_mode": {
    "name": "ipython",
    "version": 3
   },
   "file_extension": ".py",
   "mimetype": "text/x-python",
   "name": "python",
   "nbconvert_exporter": "python",
   "pygments_lexer": "ipython3",
   "version": "3.7.2"
  }
 },
 "nbformat": 4,
 "nbformat_minor": 4
}
