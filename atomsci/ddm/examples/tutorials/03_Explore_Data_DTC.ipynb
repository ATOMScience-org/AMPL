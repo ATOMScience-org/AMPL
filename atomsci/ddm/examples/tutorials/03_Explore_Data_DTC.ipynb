{
  "nbformat": 4,
  "nbformat_minor": 0,
  "metadata": {
    "extensions": {
      "jupyter_dashboards": {
        "activeView": "report_default",
        "version": 1,
        "views": {
          "grid_default": {
            "cellMargin": 10,
            "defaultCellHeight": 20,
            "maxColumns": 12,
            "name": "grid",
            "type": "grid"
          },
          "report_default": {
            "name": "report",
            "type": "report"
          }
        }
      }
    },
    "kernelspec": {
      "display_name": "Python 3",
      "language": "python",
      "name": "python3"
    },
    "language_info": {
      "codemirror_mode": {
        "name": "ipython",
        "version": 3
      },
      "file_extension": ".py",
      "mimetype": "text/x-python",
      "name": "python",
      "nbconvert_exporter": "python",
      "pygments_lexer": "ipython3",
      "version": "3.6.12"
    },
    "colab": {
      "name": "03_Explore_Data_DTC.ipynb",
      "provenance": [],
      "collapsed_sections": [],
      "machine_shape": "hm",
      "include_colab_link": true
    },
    "accelerator": "GPU"
  },
  "cells": [
    {
      "cell_type": "markdown",
      "metadata": {
        "id": "view-in-github",
        "colab_type": "text"
      },
      "source": [
        "<a href=\"https://colab.research.google.com/github/ATOMconsortium/AMPL/blob/master/atomsci/ddm/examples/tutorials/03_Explore_Data_DTC.ipynb\" target=\"_parent\"><img src=\"https://colab.research.google.com/assets/colab-badge.svg\" alt=\"Open In Colab\"/></a>"
      ]
    },
    {
      "cell_type": "markdown",
      "metadata": {
        "id": "0V2ybLgAH-0V"
      },
      "source": [
        "# Exploring HTR3A protein target activity data from Drug Target Commons\n",
        "\n"
      ]
    },
    {
      "cell_type": "markdown",
      "metadata": {
        "id": "ezVyoyvuitEa"
      },
      "source": [
        "# Scope of the tutorial\n",
        "*   Input data from DTC dataset for HTR3A protein target\n",
        "*   Retrieves SMILES string from PubChem (time consuming step; needs internet connection) \n",
        "*   AMPL will be used to accomplish the following steps: \n",
        "  *   Standardize SMILES string\n",
        "  *   Clean the data (look for duplicates, average the assay data, cluster the compounds etc.)\n",
        "  *   Carry out some Exploratory Data Analysis (Chemical space exploration; heat map, UMAP etc.) \n",
        "  *   Save the final dataset for modeling"
      ]
    },
    {
      "cell_type": "markdown",
      "metadata": {
        "id": "EF6njYp-iyw9"
      },
      "source": [
        "# Time on COLAB-Pro ( ~ 6 minutes)"
      ]
    },
    {
      "cell_type": "markdown",
      "metadata": {
        "id": "Xns-qBdRi3vZ"
      },
      "source": [
        "# Protein target (HTR3A) information"
      ]
    },
    {
      "cell_type": "markdown",
      "metadata": {
        "id": "Dp-RE9a8i_Xw"
      },
      "source": [
        "The Target specific data was downloaded from https://drugtargetcommons.fimm.fi/\n",
        "\n",
        "Please refer to the Drug Target Commons publication (https://pubmed.ncbi.nlm.nih.gov/29276046/) for details about the database "
      ]
    },
    {
      "cell_type": "markdown",
      "metadata": {
        "id": "mVJtFMh4jC5b"
      },
      "source": [
        "Here are some details about HTR3A gene (taken from RefSeq NCBI)\n",
        "\n",
        "*   Proteins belongs to GPCR superfamily\n",
        "*   HTR3a is a receptor for Serotonin, a biogenic hormone that functions as a neurotransmitter\n",
        "*   HTR3A (also the name of the gene) encodes the subunit of the type 3 receptor for neurotransmitter \n",
        "*   Herteromeric combination of subunit A and B (HTR3B) is needed for full function. \n",
        "*   Different alternately spliced transcript variant forms for this gene are available.  "
      ]
    },
    {
      "cell_type": "markdown",
      "metadata": {
        "id": "zxDMhFSoIL15"
      },
      "source": [
        "Diseases associated with HTR3A include Irritable Bowel Syndrome and Motion Sickness."
      ]
    },
    {
      "cell_type": "markdown",
      "metadata": {
        "id": "jT3MKS4AjLJw"
      },
      "source": [
        "## Additional information about HTR3A gene:\n",
        "\n",
        "**Gene location:** Chromosome 11\n",
        "**Exon count:** 10\n",
        "\n",
        "mRNA and protein information for its three transcripts:\n",
        "\n",
        "*   NM_000869.6 → NP_000860.3 \n",
        "*   NM_001161772.3 → NP_001155244.1\n",
        "*   NM_213621.4 → NP_998786.3 "
      ]
    },
    {
      "cell_type": "markdown",
      "metadata": {
        "id": "od_Bn9W5gCh9"
      },
      "source": [
        "## Before you begin, make sure you close all other COLAB notebooks. "
      ]
    },
    {
      "cell_type": "markdown",
      "metadata": {
        "id": "2DWqm4Cxm5h_"
      },
      "source": [
        "# Change Runtime settings\n",
        "If you have access to COLAB-Pro (commercial/not-free), please change your runtime settings to use GPU and high-memory,\n",
        "\n",
        "```Runtime --> Change Runtime Type --> GPU with high-RAM```\n",
        "\n",
        "If you are not a paid COLAB-Pro customer, you can still choose GPU, with standard-RAM."
      ]
    },
    {
      "cell_type": "code",
      "metadata": {
        "id": "rlYz7j65MDcb",
        "colab": {
          "base_uri": "https://localhost:8080/"
        },
        "outputId": "ea016154-3353-4553-896b-9702f8c3a2ae"
      },
      "source": [
        "!date # starting time"
      ],
      "execution_count": 1,
      "outputs": [
        {
          "output_type": "stream",
          "name": "stdout",
          "text": [
            "Wed Sep 15 15:38:47 UTC 2021\n"
          ]
        }
      ]
    },
    {
      "cell_type": "markdown",
      "metadata": {
        "id": "5qGO2T0cIvIm"
      },
      "source": [
        "## Install AMPL"
      ]
    },
    {
      "cell_type": "code",
      "metadata": {
        "id": "2zCWtqSWPHzI"
      },
      "source": [
        "! pip install rdkit-pypi\n",
        "! pip install --pre deepchem\n",
        "\n",
        "import deepchem\n",
        "# print(deepchem.__version__)\n",
        "! pip install umap\n",
        "! pip install llvmlite==0.34.0  --ignore-installed\n",
        "! pip install umap-learn\n",
        "! pip install molvs\n",
        "! pip install bravado"
      ],
      "execution_count": null,
      "outputs": []
    },
    {
      "cell_type": "code",
      "metadata": {
        "id": "NeoDaO7llswd"
      },
      "source": [
        "import deepchem as dc\n",
        "\n",
        "# get the Install AMPL_GPU_test.sh\n",
        "!wget https://raw.githubusercontent.com/ravichas/AMPL-Tutorial/master/config/install_AMPL_GPU_test.sh\n",
        "\n",
        "# run the script to install AMPL\n",
        "! chmod u+x install_AMPL_GPU_test.sh\n",
        "! ./install_AMPL_GPU_test.sh"
      ],
      "execution_count": null,
      "outputs": []
    },
    {
      "cell_type": "markdown",
      "metadata": {
        "id": "4qtjXXtuWZLQ"
      },
      "source": [
        "## Exploring HTR3A target activity data from ExcapeDB"
      ]
    },
    {
      "cell_type": "code",
      "metadata": {
        "id": "F-c9OaSoJHmG"
      },
      "source": [
        "# We temporarily disable warnings for demonstration.\n",
        "# FutureWarnings and DeprecationWarnings are present from some of the AMPL \n",
        "# dependency modules.\n",
        "import warnings\n",
        "warnings.filterwarnings('ignore')\n",
        "\n",
        "import json\n",
        "# import numpy as np\n",
        "# import pandas as pd\n",
        "import os\n",
        "import requests"
      ],
      "execution_count": 4,
      "outputs": []
    },
    {
      "cell_type": "code",
      "metadata": {
        "scrolled": false,
        "id": "6r_-HG0aHwsE"
      },
      "source": [
        "#\n",
        "# Import AMPL libraries\n",
        "# \n",
        "import atomsci.ddm.utils.data_curation_functions as dcf\n",
        "import atomsci.ddm.utils.curate_data as curate_data\n",
        "import atomsci.ddm.pipeline.diversity_plots as dp\n",
        "import atomsci.ddm.pipeline.chem_diversity as cd\n",
        "# Additional python libraries\n",
        "import pandas as pd\n",
        "import numpy as np\n",
        "import getpass,os"
      ],
      "execution_count": 5,
      "outputs": []
    },
    {
      "cell_type": "markdown",
      "metadata": {
        "id": "1X7qQCYVHwsG"
      },
      "source": [
        "## Select a target to work with \n",
        "### (e.g. PDE2A, KCNH2, SCNA5)"
      ]
    },
    {
      "cell_type": "code",
      "metadata": {
        "id": "tkweVTMSHwsG"
      },
      "source": [
        "target_name='HTR3A'"
      ],
      "execution_count": 6,
      "outputs": []
    },
    {
      "cell_type": "markdown",
      "metadata": {
        "id": "yCA0PykcHwsH"
      },
      "source": [
        "# Define data locations "
      ]
    },
    {
      "cell_type": "code",
      "metadata": {
        "id": "1SVhXwHgJiZN"
      },
      "source": [
        "ofile=target_name+'_dtc.csv'"
      ],
      "execution_count": 7,
      "outputs": []
    },
    {
      "cell_type": "markdown",
      "metadata": {
        "id": "f1RXnxhVVcxt"
      },
      "source": [
        "## Note the file `DTC_HTR3A.csv` was downloaded from the DTC website."
      ]
    },
    {
      "cell_type": "code",
      "metadata": {
        "id": "bN1KN4sGJjjM"
      },
      "source": [
        "import io\n",
        "url = 'https://raw.githubusercontent.com/ravichas/AMPL-Tutorial/master/datasets/DTC_HTR3A.csv'\n",
        "download = requests.get(url).content"
      ],
      "execution_count": 8,
      "outputs": []
    },
    {
      "cell_type": "code",
      "metadata": {
        "id": "XBDmluXMKD38"
      },
      "source": [
        "# Reading the downloaded content and turning it into a pandas dataframe\n",
        "orig_df = pd.read_csv(io.StringIO(download.decode('utf-8')), sep=',', header=0 )"
      ],
      "execution_count": 9,
      "outputs": []
    },
    {
      "cell_type": "code",
      "metadata": {
        "id": "Enh3wAUAUd4u",
        "colab": {
          "base_uri": "https://localhost:8080/"
        },
        "outputId": "5746504c-efdd-4047-e720-f4cc006bf7ca"
      },
      "source": [
        "orig_df.drop(columns=['Unnamed: 0'], inplace=True)\n",
        "orig_df.columns"
      ],
      "execution_count": 10,
      "outputs": [
        {
          "output_type": "execute_result",
          "data": {
            "text/plain": [
              "Index(['Compound ID', 'Uniprot ID', 'Compound Name', 'Standard inchi key',\n",
              "       'Max Phase', 'Target Pref Name', 'Gene Names', 'Target Class',\n",
              "       'Wild type or mutant', 'Mutation information', 'PubMed ID',\n",
              "       'End Point Standard Type', 'End Point Standard Relation',\n",
              "       'End Point Standard Value', 'End Point Standard Units',\n",
              "       'Endpoint Mode of Action', 'Assay Format', 'Assay Type',\n",
              "       'Assay Sub Type', 'Inhibitor Type', 'Detection Technology',\n",
              "       'Compound concentration value', 'Compound concentration value units',\n",
              "       'Substrate type', 'Substrate Type Standard Relation',\n",
              "       'Substrate Type Standard Value', 'Substrate Type Standard Units',\n",
              "       'Assay cell line', 'Assay Description', 'Activity Comments', 'Title',\n",
              "       'Journal', 'Year', 'Volume', 'Issue', 'Authors', 'Annotation Comments',\n",
              "       'Assay ID', 'DTC Tid', 'DTC Activity ID', 'DTC Molregno', 'Record ID',\n",
              "       'DTC Document ID'],\n",
              "      dtype='object')"
            ]
          },
          "metadata": {},
          "execution_count": 10
        }
      ]
    },
    {
      "cell_type": "markdown",
      "metadata": {
        "id": "-FOiuGwYHwsI"
      },
      "source": [
        "### Start with a local file containing the target data"
      ]
    },
    {
      "cell_type": "code",
      "metadata": {
        "extensions": {
          "jupyter_dashboards": {
            "version": 1,
            "views": {
              "grid_default": {},
              "report_default": {
                "hidden": true
              }
            }
          }
        },
        "scrolled": true,
        "id": "1s8tSOedHwsI"
      },
      "source": [
        "ofile=target_name+'_dtc.csv'"
      ],
      "execution_count": 11,
      "outputs": []
    },
    {
      "cell_type": "markdown",
      "metadata": {
        "id": "xjFANFgZHwsJ"
      },
      "source": [
        "### Explore the dataframe and display first few lines"
      ]
    },
    {
      "cell_type": "code",
      "metadata": {
        "scrolled": true,
        "id": "F5r0Gs2xHwsJ",
        "colab": {
          "base_uri": "https://localhost:8080/",
          "height": 294
        },
        "outputId": "8bf24976-ac45-4958-9baa-bfb76641c4fc"
      },
      "source": [
        "#show number of rows in data frame and number of columns\n",
        "print(orig_df.shape)\n",
        "\n",
        "# show column names\n",
        "display(orig_df.columns)"
      ],
      "execution_count": 12,
      "outputs": [
        {
          "output_type": "stream",
          "name": "stdout",
          "text": [
            "(1310, 43)\n"
          ]
        },
        {
          "output_type": "display_data",
          "data": {
            "text/plain": [
              "Index(['Compound ID', 'Uniprot ID', 'Compound Name', 'Standard inchi key',\n",
              "       'Max Phase', 'Target Pref Name', 'Gene Names', 'Target Class',\n",
              "       'Wild type or mutant', 'Mutation information', 'PubMed ID',\n",
              "       'End Point Standard Type', 'End Point Standard Relation',\n",
              "       'End Point Standard Value', 'End Point Standard Units',\n",
              "       'Endpoint Mode of Action', 'Assay Format', 'Assay Type',\n",
              "       'Assay Sub Type', 'Inhibitor Type', 'Detection Technology',\n",
              "       'Compound concentration value', 'Compound concentration value units',\n",
              "       'Substrate type', 'Substrate Type Standard Relation',\n",
              "       'Substrate Type Standard Value', 'Substrate Type Standard Units',\n",
              "       'Assay cell line', 'Assay Description', 'Activity Comments', 'Title',\n",
              "       'Journal', 'Year', 'Volume', 'Issue', 'Authors', 'Annotation Comments',\n",
              "       'Assay ID', 'DTC Tid', 'DTC Activity ID', 'DTC Molregno', 'Record ID',\n",
              "       'DTC Document ID'],\n",
              "      dtype='object')"
            ]
          },
          "metadata": {}
        }
      ]
    },
    {
      "cell_type": "code",
      "metadata": {
        "id": "Ve4d5QK0HwsK",
        "colab": {
          "base_uri": "https://localhost:8080/",
          "height": 642
        },
        "outputId": "405611ed-85d9-4b2e-d1ae-b7a22b4394df"
      },
      "source": [
        "orig_df.head(5)"
      ],
      "execution_count": 13,
      "outputs": [
        {
          "output_type": "execute_result",
          "data": {
            "text/html": [
              "<div>\n",
              "<style scoped>\n",
              "    .dataframe tbody tr th:only-of-type {\n",
              "        vertical-align: middle;\n",
              "    }\n",
              "\n",
              "    .dataframe tbody tr th {\n",
              "        vertical-align: top;\n",
              "    }\n",
              "\n",
              "    .dataframe thead th {\n",
              "        text-align: right;\n",
              "    }\n",
              "</style>\n",
              "<table border=\"1\" class=\"dataframe\">\n",
              "  <thead>\n",
              "    <tr style=\"text-align: right;\">\n",
              "      <th></th>\n",
              "      <th>Compound ID</th>\n",
              "      <th>Uniprot ID</th>\n",
              "      <th>Compound Name</th>\n",
              "      <th>Standard inchi key</th>\n",
              "      <th>Max Phase</th>\n",
              "      <th>Target Pref Name</th>\n",
              "      <th>Gene Names</th>\n",
              "      <th>Target Class</th>\n",
              "      <th>Wild type or mutant</th>\n",
              "      <th>Mutation information</th>\n",
              "      <th>PubMed ID</th>\n",
              "      <th>End Point Standard Type</th>\n",
              "      <th>End Point Standard Relation</th>\n",
              "      <th>End Point Standard Value</th>\n",
              "      <th>End Point Standard Units</th>\n",
              "      <th>Endpoint Mode of Action</th>\n",
              "      <th>Assay Format</th>\n",
              "      <th>Assay Type</th>\n",
              "      <th>Assay Sub Type</th>\n",
              "      <th>Inhibitor Type</th>\n",
              "      <th>Detection Technology</th>\n",
              "      <th>Compound concentration value</th>\n",
              "      <th>Compound concentration value units</th>\n",
              "      <th>Substrate type</th>\n",
              "      <th>Substrate Type Standard Relation</th>\n",
              "      <th>Substrate Type Standard Value</th>\n",
              "      <th>Substrate Type Standard Units</th>\n",
              "      <th>Assay cell line</th>\n",
              "      <th>Assay Description</th>\n",
              "      <th>Activity Comments</th>\n",
              "      <th>Title</th>\n",
              "      <th>Journal</th>\n",
              "      <th>Year</th>\n",
              "      <th>Volume</th>\n",
              "      <th>Issue</th>\n",
              "      <th>Authors</th>\n",
              "      <th>Annotation Comments</th>\n",
              "      <th>Assay ID</th>\n",
              "      <th>DTC Tid</th>\n",
              "      <th>DTC Activity ID</th>\n",
              "      <th>DTC Molregno</th>\n",
              "      <th>Record ID</th>\n",
              "      <th>DTC Document ID</th>\n",
              "    </tr>\n",
              "  </thead>\n",
              "  <tbody>\n",
              "    <tr>\n",
              "      <th>0</th>\n",
              "      <td>CHEMBL100086</td>\n",
              "      <td>P46098</td>\n",
              "      <td>NaN</td>\n",
              "      <td>OSVMSQACZRYAPT-UHFFFAOYSA-N</td>\n",
              "      <td>0</td>\n",
              "      <td>SEROTONIN 3A (5-HT3A) RECEPTOR</td>\n",
              "      <td>HTR3A</td>\n",
              "      <td>Ion channel</td>\n",
              "      <td>NaN</td>\n",
              "      <td>NaN</td>\n",
              "      <td>12482441.0</td>\n",
              "      <td>IC50</td>\n",
              "      <td>&gt;</td>\n",
              "      <td>100000.0</td>\n",
              "      <td>NM</td>\n",
              "      <td>NaN</td>\n",
              "      <td>NaN</td>\n",
              "      <td>NaN</td>\n",
              "      <td>NaN</td>\n",
              "      <td>NaN</td>\n",
              "      <td>NaN</td>\n",
              "      <td>NaN</td>\n",
              "      <td>NaN</td>\n",
              "      <td>NaN</td>\n",
              "      <td>NaN</td>\n",
              "      <td>NaN</td>\n",
              "      <td>NaN</td>\n",
              "      <td>NaN</td>\n",
              "      <td>Inhibitory concentration required against 5-HT...</td>\n",
              "      <td>NaN</td>\n",
              "      <td>Development of a presynaptic 5-HT1A antagonist.</td>\n",
              "      <td>Bioorg. Med. Chem. Lett.</td>\n",
              "      <td>2003.0</td>\n",
              "      <td>13.0</td>\n",
              "      <td>2.0</td>\n",
              "      <td>Mattson RJ, Catt JD, Sloan CP, Gao Q, Carter R...</td>\n",
              "      <td>NaN</td>\n",
              "      <td>3062.0</td>\n",
              "      <td>DTCT0023221</td>\n",
              "      <td>1489397</td>\n",
              "      <td>DTCC00263953</td>\n",
              "      <td>917398</td>\n",
              "      <td>5847</td>\n",
              "    </tr>\n",
              "    <tr>\n",
              "      <th>1</th>\n",
              "      <td>CHEMBL104700</td>\n",
              "      <td>P46098</td>\n",
              "      <td>NaN</td>\n",
              "      <td>SCDKHPSUXHBJDJ-UHFFFAOYSA-N</td>\n",
              "      <td>0</td>\n",
              "      <td>SEROTONIN 3A (5-HT3A) RECEPTOR</td>\n",
              "      <td>HTR3A</td>\n",
              "      <td>Ion channel</td>\n",
              "      <td>NaN</td>\n",
              "      <td>NaN</td>\n",
              "      <td>22607684.0</td>\n",
              "      <td>KI</td>\n",
              "      <td>NaN</td>\n",
              "      <td>NaN</td>\n",
              "      <td>NaN</td>\n",
              "      <td>NaN</td>\n",
              "      <td>NaN</td>\n",
              "      <td>NaN</td>\n",
              "      <td>NaN</td>\n",
              "      <td>NaN</td>\n",
              "      <td>NaN</td>\n",
              "      <td>NaN</td>\n",
              "      <td>NaN</td>\n",
              "      <td>NaN</td>\n",
              "      <td>NaN</td>\n",
              "      <td>NaN</td>\n",
              "      <td>NaN</td>\n",
              "      <td>NaN</td>\n",
              "      <td>Inhibition of 5-HT3 receptor</td>\n",
              "      <td>Not Determined</td>\n",
              "      <td>7-Azabicyclo[2.2.1]heptane as a scaffold for t...</td>\n",
              "      <td>Bioorg. Med. Chem. Lett.</td>\n",
              "      <td>2012.0</td>\n",
              "      <td>22.0</td>\n",
              "      <td>12.0</td>\n",
              "      <td>Banister SD, Rendina LM, Kassiou M</td>\n",
              "      <td>NaN</td>\n",
              "      <td>820298.0</td>\n",
              "      <td>DTCT0023221</td>\n",
              "      <td>10478126</td>\n",
              "      <td>DTCC00272114</td>\n",
              "      <td>931177</td>\n",
              "      <td>48255</td>\n",
              "    </tr>\n",
              "    <tr>\n",
              "      <th>2</th>\n",
              "      <td>CHEMBL1079079</td>\n",
              "      <td>P46098</td>\n",
              "      <td>NaN</td>\n",
              "      <td>WGIPGQAPFNVWIX-XXFZXMJFSA-N</td>\n",
              "      <td>0</td>\n",
              "      <td>SEROTONIN 3A (5-HT3A) RECEPTOR</td>\n",
              "      <td>HTR3A</td>\n",
              "      <td>Ion channel</td>\n",
              "      <td>NaN</td>\n",
              "      <td>NaN</td>\n",
              "      <td>19767206.0</td>\n",
              "      <td>INHIBITION</td>\n",
              "      <td>&lt;</td>\n",
              "      <td>50.0</td>\n",
              "      <td>%</td>\n",
              "      <td>NaN</td>\n",
              "      <td>NaN</td>\n",
              "      <td>NaN</td>\n",
              "      <td>NaN</td>\n",
              "      <td>NaN</td>\n",
              "      <td>NaN</td>\n",
              "      <td>NaN</td>\n",
              "      <td>NaN</td>\n",
              "      <td>NaN</td>\n",
              "      <td>NaN</td>\n",
              "      <td>NaN</td>\n",
              "      <td>NaN</td>\n",
              "      <td>NaN</td>\n",
              "      <td>Displacement of [3H]LY278584 from 5HT3 (recept...</td>\n",
              "      <td>NaN</td>\n",
              "      <td>Synthesis and in vitro autoradiographic evalua...</td>\n",
              "      <td>Bioorg. Med. Chem. Lett.</td>\n",
              "      <td>2009.0</td>\n",
              "      <td>19.0</td>\n",
              "      <td>21.0</td>\n",
              "      <td>Donohue SR, Varnäs K, Jia Z, Gulyás B, Pike VW...</td>\n",
              "      <td>NaN</td>\n",
              "      <td>619795.0</td>\n",
              "      <td>DTCT0023221</td>\n",
              "      <td>3267809</td>\n",
              "      <td>DTCC00632772</td>\n",
              "      <td>857661</td>\n",
              "      <td>37697</td>\n",
              "    </tr>\n",
              "    <tr>\n",
              "      <th>3</th>\n",
              "      <td>CHEMBL108</td>\n",
              "      <td>P46098</td>\n",
              "      <td>CARBAMAZEPINE</td>\n",
              "      <td>FFGPTBGBLSHEPO-UHFFFAOYSA-N</td>\n",
              "      <td>4</td>\n",
              "      <td>SEROTONIN 3A (5-HT3A) RECEPTOR</td>\n",
              "      <td>HTR3A</td>\n",
              "      <td>Ion channel</td>\n",
              "      <td>NaN</td>\n",
              "      <td>NaN</td>\n",
              "      <td>19144451.0</td>\n",
              "      <td>INHIBITION</td>\n",
              "      <td>&lt;=</td>\n",
              "      <td>50.0</td>\n",
              "      <td>%</td>\n",
              "      <td>NaN</td>\n",
              "      <td>cell_based</td>\n",
              "      <td>NaN</td>\n",
              "      <td>NaN</td>\n",
              "      <td>NaN</td>\n",
              "      <td>NaN</td>\n",
              "      <td>NaN</td>\n",
              "      <td>NaN</td>\n",
              "      <td>NaN</td>\n",
              "      <td>NaN</td>\n",
              "      <td>NaN</td>\n",
              "      <td>NaN</td>\n",
              "      <td>HEK293</td>\n",
              "      <td>Antagonist activity at human 5HT3A receptor ex...</td>\n",
              "      <td>NaN</td>\n",
              "      <td>Molecular properties of psychopharmacological ...</td>\n",
              "      <td>Eur. J. Med. Chem.</td>\n",
              "      <td>2009.0</td>\n",
              "      <td>44.0</td>\n",
              "      <td>6.0</td>\n",
              "      <td>Kornhuber J, Terfloth L, Bleich S, Wiltfang J,...</td>\n",
              "      <td>NaN</td>\n",
              "      <td>572131.0</td>\n",
              "      <td>DTCT0023221</td>\n",
              "      <td>2849452</td>\n",
              "      <td>DTCC00144764</td>\n",
              "      <td>229550</td>\n",
              "      <td>34292</td>\n",
              "    </tr>\n",
              "    <tr>\n",
              "      <th>4</th>\n",
              "      <td>CHEMBL1082723</td>\n",
              "      <td>P46098</td>\n",
              "      <td>NITD609</td>\n",
              "      <td>CKLPLPZSUQEDRT-WPCRTTGESA-N</td>\n",
              "      <td>0</td>\n",
              "      <td>SEROTONIN 3A (5-HT3A) RECEPTOR</td>\n",
              "      <td>HTR3A</td>\n",
              "      <td>Ion channel</td>\n",
              "      <td>NaN</td>\n",
              "      <td>NaN</td>\n",
              "      <td>20813948.0</td>\n",
              "      <td>IC50</td>\n",
              "      <td>&gt;</td>\n",
              "      <td>10000.0</td>\n",
              "      <td>NM</td>\n",
              "      <td>NaN</td>\n",
              "      <td>NaN</td>\n",
              "      <td>NaN</td>\n",
              "      <td>NaN</td>\n",
              "      <td>NaN</td>\n",
              "      <td>NaN</td>\n",
              "      <td>NaN</td>\n",
              "      <td>NaN</td>\n",
              "      <td>NaN</td>\n",
              "      <td>NaN</td>\n",
              "      <td>NaN</td>\n",
              "      <td>NaN</td>\n",
              "      <td>NaN</td>\n",
              "      <td>Binding affinity to human recombinant serotoni...</td>\n",
              "      <td>NaN</td>\n",
              "      <td>Spiroindolones, a potent compound class for th...</td>\n",
              "      <td>Science</td>\n",
              "      <td>2010.0</td>\n",
              "      <td>329.0</td>\n",
              "      <td>5996.0</td>\n",
              "      <td>Rottmann M, McNamara C, Yeung BK, Lee MC, Zou ...</td>\n",
              "      <td>NaN</td>\n",
              "      <td>658586.0</td>\n",
              "      <td>DTCT0023221</td>\n",
              "      <td>3467863</td>\n",
              "      <td>DTCC00031143</td>\n",
              "      <td>1686650</td>\n",
              "      <td>40818</td>\n",
              "    </tr>\n",
              "  </tbody>\n",
              "</table>\n",
              "</div>"
            ],
            "text/plain": [
              "     Compound ID Uniprot ID  ... Record ID DTC Document ID\n",
              "0   CHEMBL100086     P46098  ...    917398            5847\n",
              "1   CHEMBL104700     P46098  ...    931177           48255\n",
              "2  CHEMBL1079079     P46098  ...    857661           37697\n",
              "3      CHEMBL108     P46098  ...    229550           34292\n",
              "4  CHEMBL1082723     P46098  ...   1686650           40818\n",
              "\n",
              "[5 rows x 43 columns]"
            ]
          },
          "metadata": {},
          "execution_count": 13
        }
      ]
    },
    {
      "cell_type": "markdown",
      "metadata": {
        "id": "XefnLXbt-yF9"
      },
      "source": [
        "## Let us use AMPL to prefilter the data"
      ]
    },
    {
      "cell_type": "code",
      "metadata": {
        "colab": {
          "base_uri": "https://localhost:8080/"
        },
        "id": "qmTduoTjCZ7C",
        "outputId": "f555d34b-d01e-474e-a682-443222621008"
      },
      "source": [
        "print('Before replace: ', orig_df.columns)\n",
        "# remove special character \n",
        "orig_df.columns = orig_df.columns.str.replace(' ', '_')  \n",
        "print('After replace: ', orig_df.columns)"
      ],
      "execution_count": 14,
      "outputs": [
        {
          "output_type": "stream",
          "name": "stdout",
          "text": [
            "Before replace:  Index(['Compound ID', 'Uniprot ID', 'Compound Name', 'Standard inchi key',\n",
            "       'Max Phase', 'Target Pref Name', 'Gene Names', 'Target Class',\n",
            "       'Wild type or mutant', 'Mutation information', 'PubMed ID',\n",
            "       'End Point Standard Type', 'End Point Standard Relation',\n",
            "       'End Point Standard Value', 'End Point Standard Units',\n",
            "       'Endpoint Mode of Action', 'Assay Format', 'Assay Type',\n",
            "       'Assay Sub Type', 'Inhibitor Type', 'Detection Technology',\n",
            "       'Compound concentration value', 'Compound concentration value units',\n",
            "       'Substrate type', 'Substrate Type Standard Relation',\n",
            "       'Substrate Type Standard Value', 'Substrate Type Standard Units',\n",
            "       'Assay cell line', 'Assay Description', 'Activity Comments', 'Title',\n",
            "       'Journal', 'Year', 'Volume', 'Issue', 'Authors', 'Annotation Comments',\n",
            "       'Assay ID', 'DTC Tid', 'DTC Activity ID', 'DTC Molregno', 'Record ID',\n",
            "       'DTC Document ID'],\n",
            "      dtype='object')\n",
            "After replace:  Index(['Compound_ID', 'Uniprot_ID', 'Compound_Name', 'Standard_inchi_key',\n",
            "       'Max_Phase', 'Target_Pref_Name', 'Gene_Names', 'Target_Class',\n",
            "       'Wild_type_or_mutant', 'Mutation_information', 'PubMed_ID',\n",
            "       'End_Point_Standard_Type', 'End_Point_Standard_Relation',\n",
            "       'End_Point_Standard_Value', 'End_Point_Standard_Units',\n",
            "       'Endpoint_Mode_of_Action', 'Assay_Format', 'Assay_Type',\n",
            "       'Assay_Sub_Type', 'Inhibitor_Type', 'Detection_Technology',\n",
            "       'Compound_concentration_value', 'Compound_concentration_value_units',\n",
            "       'Substrate_type', 'Substrate_Type_Standard_Relation',\n",
            "       'Substrate_Type_Standard_Value', 'Substrate_Type_Standard_Units',\n",
            "       'Assay_cell_line', 'Assay_Description', 'Activity_Comments', 'Title',\n",
            "       'Journal', 'Year', 'Volume', 'Issue', 'Authors', 'Annotation_Comments',\n",
            "       'Assay_ID', 'DTC_Tid', 'DTC_Activity_ID', 'DTC_Molregno', 'Record_ID',\n",
            "       'DTC_Document_ID'],\n",
            "      dtype='object')\n"
          ]
        }
      ]
    },
    {
      "cell_type": "code",
      "metadata": {
        "colab": {
          "base_uri": "https://localhost:8080/"
        },
        "id": "hu3eKU7sDDqY",
        "outputId": "c8936ba9-eadc-4351-cd17-1eddf090d7de"
      },
      "source": [
        "# replace uppercase to lowercase\n",
        "orig_df.columns= orig_df.columns.str.lower()\n",
        "print('After replaceing colnames with lcase: ', orig_df.columns)"
      ],
      "execution_count": 15,
      "outputs": [
        {
          "output_type": "stream",
          "name": "stdout",
          "text": [
            "After replaceing colnames with lcase:  Index(['compound_id', 'uniprot_id', 'compound_name', 'standard_inchi_key',\n",
            "       'max_phase', 'target_pref_name', 'gene_names', 'target_class',\n",
            "       'wild_type_or_mutant', 'mutation_information', 'pubmed_id',\n",
            "       'end_point_standard_type', 'end_point_standard_relation',\n",
            "       'end_point_standard_value', 'end_point_standard_units',\n",
            "       'endpoint_mode_of_action', 'assay_format', 'assay_type',\n",
            "       'assay_sub_type', 'inhibitor_type', 'detection_technology',\n",
            "       'compound_concentration_value', 'compound_concentration_value_units',\n",
            "       'substrate_type', 'substrate_type_standard_relation',\n",
            "       'substrate_type_standard_value', 'substrate_type_standard_units',\n",
            "       'assay_cell_line', 'assay_description', 'activity_comments', 'title',\n",
            "       'journal', 'year', 'volume', 'issue', 'authors', 'annotation_comments',\n",
            "       'assay_id', 'dtc_tid', 'dtc_activity_id', 'dtc_molregno', 'record_id',\n",
            "       'dtc_document_id'],\n",
            "      dtype='object')\n"
          ]
        }
      ]
    },
    {
      "cell_type": "code",
      "metadata": {
        "colab": {
          "base_uri": "https://localhost:8080/"
        },
        "id": "gjXySV81EWaA",
        "outputId": "d3fdb18e-c3f7-4172-9ce3-2f917fa494ea"
      },
      "source": [
        "# checking after rename\n",
        "orig_df.columns"
      ],
      "execution_count": 16,
      "outputs": [
        {
          "output_type": "execute_result",
          "data": {
            "text/plain": [
              "Index(['compound_id', 'uniprot_id', 'compound_name', 'standard_inchi_key',\n",
              "       'max_phase', 'target_pref_name', 'gene_names', 'target_class',\n",
              "       'wild_type_or_mutant', 'mutation_information', 'pubmed_id',\n",
              "       'end_point_standard_type', 'end_point_standard_relation',\n",
              "       'end_point_standard_value', 'end_point_standard_units',\n",
              "       'endpoint_mode_of_action', 'assay_format', 'assay_type',\n",
              "       'assay_sub_type', 'inhibitor_type', 'detection_technology',\n",
              "       'compound_concentration_value', 'compound_concentration_value_units',\n",
              "       'substrate_type', 'substrate_type_standard_relation',\n",
              "       'substrate_type_standard_value', 'substrate_type_standard_units',\n",
              "       'assay_cell_line', 'assay_description', 'activity_comments', 'title',\n",
              "       'journal', 'year', 'volume', 'issue', 'authors', 'annotation_comments',\n",
              "       'assay_id', 'dtc_tid', 'dtc_activity_id', 'dtc_molregno', 'record_id',\n",
              "       'dtc_document_id'],\n",
              "      dtype='object')"
            ]
          },
          "metadata": {},
          "execution_count": 16
        }
      ]
    },
    {
      "cell_type": "code",
      "metadata": {
        "colab": {
          "base_uri": "https://localhost:8080/"
        },
        "id": "dbgwzh2YGCGB",
        "outputId": "82e73cbc-7434-4762-c94a-9cc9ec4a3dd6"
      },
      "source": [
        "orig_df.shape"
      ],
      "execution_count": 17,
      "outputs": [
        {
          "output_type": "execute_result",
          "data": {
            "text/plain": [
              "(1310, 43)"
            ]
          },
          "metadata": {},
          "execution_count": 17
        }
      ]
    },
    {
      "cell_type": "markdown",
      "metadata": {
        "id": "5c5b8JqbUsfg"
      },
      "source": [
        "## The following renames the names and make it suitable for the next function call"
      ]
    },
    {
      "cell_type": "code",
      "metadata": {
        "id": "ivfltdp0SnPj"
      },
      "source": [
        "orig_df = orig_df.rename(columns={'end_point_standard_type': 'standard_type', \n",
        " 'end_point_standard_relation': 'standard_relation',\n",
        " 'end_point_standard_value': 'standard_value', \n",
        " 'end_point_standard_units': 'standard_units',\n",
        " 'endpoint_mode_of_action': 'mode_of_action',\n",
        " 'wild_type_or_mutant': 'wildtype_or_mutant'})"
      ],
      "execution_count": 18,
      "outputs": []
    },
    {
      "cell_type": "markdown",
      "metadata": {
        "id": "kDIWlEXrPfUs"
      },
      "source": [
        "## dcf.filter_dtc_data performs the following operation\n",
        "\n",
        "```\n",
        "dset_df = orig_df[orig_df.gene_names.isin(geneNames) &\n",
        "                      ~(orig_df.standard_inchi_key.isna()) &\n",
        "                      (orig_df.standard_type == 'IC50') &\n",
        "                      (orig_df.standard_units == 'NM') &\n",
        "                      ~orig_df.standard_value.isna() &\n",
        "                      ~orig_df.compound_id.isna() &\n",
        "                      (orig_df.wildtype_or_mutant != 'mutated') ]\n",
        " ```"
      ]
    },
    {
      "cell_type": "code",
      "metadata": {
        "id": "BK9TWNsXFtIn"
      },
      "source": [
        "geneNames = [target_name]\n",
        "nm_df = dcf.filter_dtc_data(orig_df, geneNames)"
      ],
      "execution_count": 19,
      "outputs": []
    },
    {
      "cell_type": "code",
      "metadata": {
        "colab": {
          "base_uri": "https://localhost:8080/"
        },
        "id": "YjQ45UreN5xu",
        "outputId": "2ae66a96-ff3c-4695-ba1f-7508b24e603a"
      },
      "source": [
        "orig_df.shape"
      ],
      "execution_count": 20,
      "outputs": [
        {
          "output_type": "execute_result",
          "data": {
            "text/plain": [
              "(1310, 43)"
            ]
          },
          "metadata": {},
          "execution_count": 20
        }
      ]
    },
    {
      "cell_type": "code",
      "metadata": {
        "colab": {
          "base_uri": "https://localhost:8080/"
        },
        "id": "ohU14UiGFX4-",
        "outputId": "9373d259-2d3f-47af-9071-6a01b4deb696"
      },
      "source": [
        "nm_df.shape"
      ],
      "execution_count": 21,
      "outputs": [
        {
          "output_type": "execute_result",
          "data": {
            "text/plain": [
              "(226, 43)"
            ]
          },
          "metadata": {},
          "execution_count": 21
        }
      ]
    },
    {
      "cell_type": "markdown",
      "metadata": {
        "id": "Kp9vy6KSGsxx"
      },
      "source": [
        "## Explore few columns to get an idea of the dataset"
      ]
    },
    {
      "cell_type": "code",
      "metadata": {
        "id": "BuPzFhEmKD-G",
        "colab": {
          "base_uri": "https://localhost:8080/",
          "height": 1000
        },
        "outputId": "36e32285-5a16-4bd9-b352-471d2cb61542"
      },
      "source": [
        "# Below, we are displaying the unique elements of our assaytype column in our dataframe\n",
        "# unique() is a function that is a part of the numpy library in Python, and it is used to find the unique elements of an array\n",
        "display(orig_df['assay_type'].unique())\n",
        "\n",
        "# We then use the same function on a few more columns: assay_cell_line, assay_description, pubmed_id\n",
        "display(orig_df['assay_cell_line'].unique())\n",
        "display(orig_df['assay_description'].unique())\n",
        "display(orig_df['pubmed_id'].unique())"
      ],
      "execution_count": 22,
      "outputs": [
        {
          "output_type": "display_data",
          "data": {
            "text/plain": [
              "array([nan])"
            ]
          },
          "metadata": {}
        },
        {
          "output_type": "display_data",
          "data": {
            "text/plain": [
              "array([nan, 'HEK293', 'CHO', 'Oocytes', 'NG108-15'], dtype=object)"
            ]
          },
          "metadata": {}
        },
        {
          "output_type": "display_data",
          "data": {
            "text/plain": [
              "array(['Inhibitory concentration required against 5-HT3 receptor in bovine area postrema using [3H]GR-65630',\n",
              "       'Inhibition of 5-HT3 receptor',\n",
              "       'Displacement of [3H]LY278584 from 5HT3 (receptor) at 10 uM by scintillation counting',\n",
              "       'Antagonist activity at human 5HT3A receptor expressed in HEK293 cells assessed as inhibition of serotonin-induced inward Na+ current at >= 10 uM',\n",
              "       'Binding affinity to human recombinant serotonin 5HT3 receptor',\n",
              "       'Agonist activity at human 5HT3A receptor expressed in HEK293 cells by FLIPR assay',\n",
              "       'Inhibition of 5HT3 receptor',\n",
              "       'Binding affinity to human HT3A receptor',\n",
              "       'Partial agonist activity at human 5HT3A receptor expressed in HEK293 cells assessed as decrease in 100 uM 5-chloroindole-induced increase in intracellular calcium release at 3 uM relative to 5-HT',\n",
              "       'Partial agonist activity at human 5HT3A receptor expressed in HEK293 cells at 3 uM relative to 5HT',\n",
              "       'Binding affinity to human 5HT3A receptor',\n",
              "       'Displacement of [9-methyl-3H]BRL-43694 from human 5-HT3A receptor after overnight incubation by scintillation proximity assay',\n",
              "       'BindingDB_Patents: Radioligand Binding Assay. The relative affinity of the various compounds for the human 5-HT3 receptor was measured in a radioligand binding assay, using a scintillation proximity assay (SPA) format. Test compounds were dissolved to 10 mM in 100% DMSO, then serially diluted at 10x assay concentrations in 100% DMSO in 96-well polypropylene plates and further diluted to 4x assay concentrations with the assay buffer. Samples were incubated in 50 mM Tris-HCl, pH 7.5, 3 mM MgCl2, 1 mM EDTA and 10% DMSO with 10 nM [9-methyl-3H]BRL-43694 (Perkin Elmer), 3 ug of human 5-HT3 receptor membranes (Perkin Elmer) and 0.5 mg/mL SPA beads (WGA PVT, Amersham Biosciences) in a final volume of 0.2 mL. Binding reactions were set up in wells of PicoPlates-96 (Perkin Elmer) by adding consecutively 50 uL of each competing compound or buffer, SPA beads, the radioligand and 5-HT3 receptor membranes. After an overnight incubation at room temperature on a Nutator mixer, plates were centrifuged for 15 min at 1,500 rpm.',\n",
              "       'Binding affinity to serotonin 5-HT3 receptor (unknown origin) by PDSP assay',\n",
              "       nan,\n",
              "       'Activity at SER3 receptor expressed in HEK293 cells assessed as increase in calcium at 10 uM by calcium imaging assay',\n",
              "       'Activity at SER3 receptor expressed in HEK293 cells assessed as increase in calcium by calcium imaging assay',\n",
              "       'Displacement of [3H]granisetron from human recombinant 5-HT3 receptor expressed in HEK293 cells',\n",
              "       'Tested for 5-hydroxytryptamine 3 receptor agonist activity',\n",
              "       'Binding affinity to 5HT3 receptor at 1 uM by radioligand displacement assay',\n",
              "       'Displacement of [3H]GR65630 from human recombinant 5HT3 receptor expressed in HEKT cells',\n",
              "       'Binding affinity at 5HT3 receptor',\n",
              "       'Binding affinity to 5-HT3 receptor at 10 uM',\n",
              "       'Inhibition of 5-HT3 receptor (unknown origin) at 10 uM by PDSP assay relative to control',\n",
              "       'Binding affinity to 5HT3A receptor',\n",
              "       'Antagonist activity at human wild type 5-HT3A receptor expressed in HEK293 cells assessed as inhibition of 5-HT-induced response after 45 mins by FLIPR assay',\n",
              "       'Binding affinity to human wild type 5-HT3A receptor expressed in HEK293 cells after 24 hrs by liquid scintillation counting analysis',\n",
              "       'Compound was tested for its affinity towards 5-hydroxytryptamine 3 receptor',\n",
              "       'In vitro binding affinity towards 5-hydroxytryptamine 3 receptor was determined',\n",
              "       'Displacement of [3H]BRL43694 from human 5HT3 receptor expressed in CHO cells at 10 uM',\n",
              "       'Displacement of [3H]BRL 43694 from human recombinant 5HT3 receptor expressed in CHO cells',\n",
              "       'Antagonist activity at human 5HT3 receptor',\n",
              "       'Displacement of [3H]LY278584 from human 5HT3 receptor at 10 uM',\n",
              "       'Binding affinity to 5HT3 receptor',\n",
              "       'Displacement of [3H]granisetron from 5HT3A receptor expressed in HEK293 cells after 24 hrs by scintillation counting in presence of quipazine',\n",
              "       'Inhibition of human H3 receptor at 10 uM',\n",
              "       'Binding affinity to human 5-HT3 receptor by radioligand displacement assay',\n",
              "       'Agonist activity at human 5HT3A at 100 uM relative to control',\n",
              "       'Binding affinity to human 5HT3 receptor at 10 uM by radioligand binding assay',\n",
              "       'Inhibition of human 5HT3R at 10 uM', 'Inhibition of human 5HT3R',\n",
              "       'Binding affinity to human 5-HT3 receptor',\n",
              "       'Inhibition of 5-HT3 receptor at 10 uM',\n",
              "       'Displacement of [3H]GR65630 from 5HT3A receptor expressed in Xenopus oocyte',\n",
              "       'Inhibition of 5HT3A receptor expressed in Xenopus oocyte at 20 uM',\n",
              "       'Inhibition of 5HT3A receptor expressed in Xenopus oocyte at 9 uM',\n",
              "       'Displacement of [3H]BRL-43694 from human 5HT3 receptor expressed in HEK293 cells by liquid scintillation counting',\n",
              "       'Displacement of [3H]BRL-43694 from human 5HT3 receptor expressed in HEK293 cells at 100 nM by liquid scintillation counting',\n",
              "       'Displacement of [3H]BRL-43694 from human 5HT3 receptor expressed in HEK293 cells at 1000 nM by liquid scintillation counting',\n",
              "       'Displacement of [3H]BRL-43694 from human recombinant 5HT3 receptor',\n",
              "       'Binding affinity to human 5HT3 receptor',\n",
              "       'Binding activity radioligand.',\n",
              "       'Compound was evaluated for the affinity at 5-hydroxytryptamine 3 receptor',\n",
              "       'Displacement of [3H]-GR-65630 from 5-HT3 receptor at 1 to 3 uM',\n",
              "       'Inhibitory constant against 5-hydroxytryptamine 3 receptor using [3H]GR-65630 radioligand',\n",
              "       'Displacement of [3H]LY278584 from 5HT3 receptor after 1.5 hrs by scintillation counter',\n",
              "       'Displacement of [3H]BRL43694 from human recombinant 5-HT3 receptor expressed in CHO cells',\n",
              "       'Displacement of [3H]GR65630 from 5-HT3 receptor (unknown origin) expressed in mouse/rat NG108-15 cells after 30 mins by by liquid scintillation counting analysis',\n",
              "       'Inhibition of GR-65630 binding to 5-hydroxytryptamine 3 receptor',\n",
              "       'Binding affinity for 5-hydroxytryptamine 3 receptor by displacement of [3H]-BRL 43694 from NG-108-15 cell membranes',\n",
              "       'Binding affinity for 5-hydroxytryptamine 3 receptor by displacement of [3H](R)-zacopride from ondansetron-treated NG-108-15 cell membranes',\n",
              "       'Displacement of [3H]granisetron from human 5-HT3AR expressed in HEK293 cells after 24 hrs by liquid scintillation counting',\n",
              "       'Partial agonist activity at human 5HT3A receptor expressed in HEK293 cells assessed as effect on serotonin-induced response',\n",
              "       'Partial agonist activity at human 5HT3A receptor expressed in HEK293 cells assessed as decrease in 10 uM 5-chloroindole-induced increase in intracellular calcium release',\n",
              "       'Partial agonist activity at human 5HT3A receptor expressed in HEK293 cells assessed as decrease in 100 uM 5-chloroindole-induced increase in intracellular calcium release at 1 uM relative to 5-HT',\n",
              "       'Partial agonist activity at human 5HT3A receptor expressed in HEK293 cells at 1 uM relative to 5HT',\n",
              "       'Partial agonist activity at human 5HT3A receptor expressed in HEK293 cells at 10 uM relative to 5HT',\n",
              "       'Partial agonist activity at human 5HT3A receptor expressed in HEK293 cells assessed as decrease in 100 uM 5-chloroindole-induced increase in intracellular calcium release at 10 uM relative to 5-HT',\n",
              "       'BindingDB_Patents: Radioligand Binding Assay. The relative affinity of the various compounds for the human 5-HT3 receptor was measured in a radioligand binding assay, using a scintillation proximity assay (SPA) format.',\n",
              "       'Inhibition of 5HT3 receptor at 10 uM',\n",
              "       'Binding affinity to human 5HT3 receptor at 10 uM by radioligand displacement assay',\n",
              "       'Inhibition of radioligand binding to human 5HT3 at 10 uM',\n",
              "       'Binding affinity to 5HT3 receptor at 10 uM by radioligand binding assay',\n",
              "       'Inhibition of human recombinant 5HT3 receptor at 10 uM by radioligand binding assay',\n",
              "       'Antagonist activity at human recombinant 5-HT3 receptor expressed in HEK293 cells',\n",
              "       'Binding affinity to 5-HT3 receptor',\n",
              "       'Inhibition of 5-HT3 receptor (unknown origin)',\n",
              "       'Binding affinity to human 5HT3 receptor at 1 uM',\n",
              "       'In vitro binding affinity for the 5-hydroxytryptamine 3 receptor was determined with NG-108-15 mouse neuroblastoma-glioma cells',\n",
              "       'Displacement of [3H]GR65630 from 5-HT3 receptor (unknown origin)',\n",
              "       'Displacement of [3H]BRL43694 from human 5HT3 receptor at 10 uM relative to control',\n",
              "       'Displacement of [3H]NAMH from human cloned 5HT3 receptor expressed in CHO cells',\n",
              "       'Inhibition of 5-HT3 receptor at 10 uM by NIMH PDSP',\n",
              "       'Binding affinity against 5-Hydroxytryptamine 3 receptor',\n",
              "       'Inhibition of human 5-HT3 receptor',\n",
              "       'Binding affinity to 5-HT3 receptor (unknown origin)',\n",
              "       'Displacement of [3H]GR65630 from human 5HT3A receptor in HEK293 cells',\n",
              "       'Inhibition of human 5-HT3 receptor at 10 uM relative to control',\n",
              "       'Displacement of [3H]LY278584 from human cloned 5HT3 receptor',\n",
              "       'Inhibition of 5HT3 receptor at 25 uM',\n",
              "       'Inhibition of serotonin 5-HT3 receptor at 1 uM by ligand displacement assay',\n",
              "       'Inhibition of human 5HT3A receptor at 10 uM by radioligand displacement assay',\n",
              "       'Inhibition of 5HT3 at 10 uM',\n",
              "       'Inhibitory activity against 5-hydroxytryptamine 3 receptor expressed in NG 108 cells',\n",
              "       'Antagonist activity at human recombinant 5HT3 receptor assessed as inhibition of RAMH-induced [35S]GTPgammaS binding',\n",
              "       'Inhibition of human 5HT3 at 10 uM',\n",
              "       'Inhibition of 5HT3 receptor at 10 uM by radioligand displacement assay',\n",
              "       'Displacement of [3H]LY278584 from 5-HT3 at 10 uM',\n",
              "       'Binding affinity to human recombinant 5HT3 receptor',\n",
              "       'Displacement of [3H]BRL43694 from human recombinant 5HT3 receptor expressed in CHO cells at 10 uM after 60 mins by liquid scintillation counting',\n",
              "       'Inhibition of 5HT3A receptor at 10 uM',\n",
              "       'Antagonist activity at human 5HT3A receptor expressed in HEK293 cells by FMP assay',\n",
              "       'Antagonist activity at human 5HT3A receptor expressed in HEK293 cells',\n",
              "       'Antagonist activity at human 5HT3A receptor expressed in HEK293 cells assessed as inhibition of m-chlorophenylbiguanide-induced calcium influx measured every 1 sec for 1 min followed by every 3 secs for 3 mins by FLIPR assay',\n",
              "       'Inhibition of human 5HT3 receptor at 5 uM by cell based assay',\n",
              "       'Inhibition of human 5HT3 receptor',\n",
              "       'Displacement of radiolabeled MDL 72222 from human 5HT3 receptor',\n",
              "       'Antagonist activity at 5HT3A receptor expressed in Xenopus oocyte',\n",
              "       'Inhibition of 5HT3A receptor expressed in Xenopus oocyte relative to bemesetron',\n",
              "       'Displacement of [3H]BRL43694 from human 5HT3 receptor',\n",
              "       'Displacement of [3H]GR65630 from human recombinant 5HT3 receptor expressed in HEK293 cells after 60 mins',\n",
              "       'Displacement of [3H]GR65630 from human recombinant 5HT3 receptor expressed in HEK293 cells at 10 uM after 60 mins relative to control',\n",
              "       'Antagonist activity at 5HT3 receptor expressed in Xenopus oocyte',\n",
              "       'Antagonist activity at 5HT3 receptor expressed in N1E115 cells',\n",
              "       'Displacement of [3H]-BRL-43694 from human 5HT3 receptor',\n",
              "       'Inhibition of human 5HT3R at 10 nM',\n",
              "       'Displacement of [3H]LY-278584 from human recombinant 5-HT3 receptor at 10 uM after 1.5 hrs by microbeta scintillation counting analysis',\n",
              "       'Inhibition of radioligand binding to 5HT3 at 10 uM',\n",
              "       'Inhibition of human 5HT3 receptor at 10 uM',\n",
              "       'Inhibition of human 5HT3 at 100 uM',\n",
              "       'Agonist activity at human 5HT3R expressed in HEK293 cells assessed as stimulation of calcium flux by FLIPR',\n",
              "       'Binding affinity to human 5HT3 by Cerep protocol based assay',\n",
              "       'Displacement of [3H]BRL-43694 from human recombinant 5-HT3 receptor expressed in CHO cells at 10 uM after 120 mins',\n",
              "       'Displacement of [3H]granisetron from human 5HT3A receptor expressed in HEK293 cells by filter binding assay',\n",
              "       'Agonist activity at human 5HT3A receptor expressed in xenopus oocytes by electrophysiological method in presence of ondansetron',\n",
              "       'Agonist activity at human 5HT3A receptor expressed in xenopus oocytes by electrophysiological method',\n",
              "       'Agonist activity at human 5HT3A receptor expressed in xenopus oocytes by electrophysiological method relative to 5HT',\n",
              "       'Antagonist activity at human 5HT3A receptor expressed in xenopus oocytes assessed as inhibition of 5HT-induced effect by electrophysiological method',\n",
              "       'Inhibition of human 5HT3A receptor at 1 uM',\n",
              "       'Displacement of [3H]LY278584 from human recombinant 5-HT3 receptor at 10 uM after 1.5 hrs by scintillation counting analysis',\n",
              "       'Displacement of [3H]LY278584 from human recombinant 5-HT3 receptor after 1.5 hrs by scintillation counting analysis',\n",
              "       'Inhibition of human 5-HT3 receptor at 10 uM by CEREP assay',\n",
              "       'Inhibition of 5HT3 receptor at 1 uM by radioligand displacement assay',\n",
              "       'Displacement of [3H]granisetron from human 5HT3A receptor expressed in HEK293 cells by scintillation counting',\n",
              "       'Binding affinity to C-terminal-His6-tagged 5HT3A receptor (unknown origin) expressed in HEK293 cells assessed as decrease in fluorescence at 10 to 500 nM after 2 hrs by fluorimetric analysis in presence of granisetron',\n",
              "       'Binding affinity to C-terminal-His6-tagged 5HT3A receptor (unknown origin) expressed in HEK293 cells assessed as decrease in fluorescence at 10 to 500 nM after 2 hrs by fluorimetric analysis',\n",
              "       'Binding affinity to C-terminal-His6-tagged 5HT3A receptor (unknown origin) expressed in HEK293 cells after 2 hrs by fluorimetric analysis',\n",
              "       'Displacement of [3H]BRL43694 from human recombinant 5-HT3 receptor expressed in CHO cells at 1 uM',\n",
              "       'Inhibition of 5HT3 receptor (unknown origin)',\n",
              "       'Displacement of [3H]LY278584 from 5-HT3 receptor (unknown origin) at 10 uM',\n",
              "       'Inhibition of human 5HT3 expressed in COS7 cells at 10 uM',\n",
              "       'Binding affinity to human 5-HT3 receptor at 10 uM by radioligand displacement assay relative to control',\n",
              "       'Displacement of [3H]LY278584 from human recombinant 5-HT3 receptor expressed in HEK293T cells after 1 to 1.5 hrs by scintillation counting analysis',\n",
              "       'Inhibition of human 5-HT3 receptor at 1 uM relative to control',\n",
              "       'Inhibition of serotonin 5-HT3 receptor (unknown origin) at 5 uM by psychoactive drug screening programme assay',\n",
              "       'Inhibition of serotonin 5-HT3A receptor (unknown origin) at 1 uM',\n",
              "       'Binding affinity to human 5HT3 receptor by radioligand binding assay',\n",
              "       'Inhibition of serotonin 5-HT3A receptor (unknown origin) expressed in Xenopus laevis oocytes assessed as inhibition of serotonin-induced current at 3 uM by two-electrode voltage clamp method',\n",
              "       'Displacement of [3H]GR65630 from human 5-HT3 receptor expressed in African green monkey COS cells after 90 mins by scintillation counting analysis',\n",
              "       'Displacement of [3H]-GR-65630 from human recombinant 5-HT3 receptor expressed in HEK293 cells at 10 uM relative to control',\n",
              "       'Binding affinity to human serotonin 5HT3 receptor at 10 uM by radioligand binding assay',\n",
              "       'Inhibition of human 5-HT3A expressed in xenopus oocytes assessed as decrease in 5-HT-activated chloride current at 0.1 uM by two-electrode voltage clamp technique',\n",
              "       'Inhibition of human 5HT3 receptor at 1 uM',\n",
              "       'Binding affinity at 5HT3 receptor at 1 uM',\n",
              "       'Displacement of [3H]BRL43694 from 5HT3 receptor',\n",
              "       'Displacement of [3H]PIB from 5HT3 receptor at 10 uM',\n",
              "       'Binding affinity to 5HT3 at 10 uM',\n",
              "       'Activity at human 5HT3A receptor expressed in Xenopus oocytes assessed as stimulation of nicotine-induced current at 10 uM by two-electrode voltage-clamp method',\n",
              "       'Displacement of [9-methyl-3H]BRL-43694 from human 5HT3A receptor expressed in HEK293 cells',\n",
              "       'Binding affinity towards 5-hydroxytryptamine 3 receptor using [3H]GR-65630 as radioligand',\n",
              "       'Compound was evaluated for its binding affinity towards 5-hydroxytryptamine 3 receptor',\n",
              "       'Binding affinity towards 5-hydroxytryptamine 3 receptor',\n",
              "       'Displacement of [3H]granisetron from human 5HT3A expressed in HEK293 cells after 1 hr by scintillation counting',\n",
              "       'Agonist activity at human wild type 5-HT3A receptor expressed in HEK293 cells by FLIPR assay',\n",
              "       'Binding affinity towards 5-hydroxytryptamine 3 receptor by displacement of [3H]2 in Neuroblastoma-Glioma NG-108-15 cells',\n",
              "       'Binding affinity against human 5-hydroxytryptamine 3A receptor',\n",
              "       'Binding affinity to human 5HT3A expressed in COS7 cells at 100 nM after 1 hr by fluorescence microscopy',\n",
              "       'Binding affinity to human 5HT3A expressed in COS7 cells at 100 nM after 1 hr by fluorescence microscopy in presence of 10 uM ondansetron',\n",
              "       'Binding affinity to human 5HT3A receptor in HEK293 cells assessed as cell labeling by confocal microscopy in presence of quipazine',\n",
              "       'Binding affinity to human 5HT3A receptor in HEK293 cells assessed as cell labeling by confocal microscopy',\n",
              "       'Binding affinity to human 5HT3',\n",
              "       'Inhibition of 5-HT3 receptor (unknown origin) at 10 uM relative to control',\n",
              "       'The binding affinity towards 5-hydroxytryptamine 3 receptor; No affinity',\n",
              "       'Displacement of [3H]GR-65630 from human 5HT3 receptor at 10 uM',\n",
              "       'Displacement of radioligand from 5HT3 receptor by liquid scintillation spectrometry',\n",
              "       'Reversible inhibition of human 5-HT3A expressed in xenopus oocytes assessed as decrease in 5-HT-activated chloride current at 30 mM by two-electrode voltage clamp technique',\n",
              "       'Displacement of [3H]GR65630 from human 5-HT3 receptor expressed in HEK293 cells',\n",
              "       'Partial agonist activity at human 5-HT3A receptor expressed in HEK293 cells assessed as change in Ca2+ level measured as intrinsic activity at 1 uM relative to 5-HT in presence of carbachol',\n",
              "       'Agonist activity at human 5-HT3A receptor expressed in HEK293 cells in presence of carbachol',\n",
              "       'Inhibition of 5-HT3 receptor (unknown origin) at 10 uM',\n",
              "       'Binding affinity to human 5-HT3 receptor at 1 uM by radioligand displacement assay relative to control',\n",
              "       'Binding affinity to human 5-HT3 receptor at 10 uM by radioligand displacement assay',\n",
              "       'Displacement of [3H]GR65630 from human serotonin 5-HT3 receptor expressed in HEKT cells at 10 uM after 90 mins by microbeta counting analysis',\n",
              "       'Inhibition of human 5-HT3 receptor at 3 uM by radioligand binding assay',\n",
              "       'Agonist activity at human 5-HT3 receptor by FLIPR/summary (Abse5) assay',\n",
              "       'Agonist activity at human 5-HT3 receptor by FLIPR(Abse5) assay',\n",
              "       'Binding affinity to 5-HT3 (unknown origin)',\n",
              "       'Inhibition of human 5HT3 at 10 uM by [3H]RL43694 binding assay relative to control',\n",
              "       'Compound was tested for 5-hydroxytryptamine 3 receptor binding affinity',\n",
              "       'Displacement of [3H]LY278584 from 5HT3 receptor (unknown origin) at 10 uM',\n",
              "       'Binding affinity to human 5-HT3 receptor assessed as inhibition of control specific binding at 10 uM',\n",
              "       'Displacement of [3H]-LY278584 from recombinant human 5-HT3 receptor after 1.5 hrs by Microbeta scintillation counting analysis',\n",
              "       'Agonist activity at human recombinant 5HT3 receptor expressed in CHO cells assessed as cAMP level at 10 uM after 4 hrs by luciferase reporter gene assay',\n",
              "       'Antagonist activity at human recombinant 5HT3 receptor expressed in CHO cells assessed as cAMP level at 10 uM after 4 hrs by luciferase reporter gene assay',\n",
              "       'Inhibition of human 5-HT3 receptor at 10 uM',\n",
              "       'Displacement of [3H]BRL 43694 from human 5-HT3 receptor expressed in CHO cells after 120 mins by scintillation counting',\n",
              "       'Binding affinity to 5-HT3 receptor (unknown origin) at 1 to 2 uM by radioligand binding assay',\n",
              "       'Inhibition of 5HT3 receptor (unknown origin) at 10 uM',\n",
              "       'Binding affinity to recombinant 5-HT3 receptor (unknown origin) at 10 uM after 1.5 hrs by radioligand displacement assay',\n",
              "       'Displacement of [3H]LY278584 from 5-HT3 receptor (unknown origin) after 1.5 hrs by microbeta scintillation counting method',\n",
              "       \"Displacement of [3H]BRL43694 from human recombinant 5-HT3 receptor expressed in CHO cells at 10'-5 M\",\n",
              "       'Displacement of [3H]BRL 43694 from human recombinant 5-HT3 receptor expressed in CHO cells at 10 uM after 120 mins by scintillation counting analysis',\n",
              "       'Inhibition of human 5HT3 receptor expressed in CHO cells at 100 nM',\n",
              "       'Inhibition of 5HT3 receptor at 1 uM',\n",
              "       'Inhibition of human cloned 5HT3 receptor by competitive binding experiment',\n",
              "       'The compound was tested for binding affinity against 5-hydroxytryptamine 3 receptor',\n",
              "       'Displacement of [3H]granisetron from human 5HT3 receptor expressed in HEK293 cells',\n",
              "       'Antagonist activity at human 5HT3 receptor by calcium influx assay',\n",
              "       'Displacement of [3H]LY278,584 from human cloned 5HT3 receptor',\n",
              "       'Displacement of [3H]GR65630 from human recombinant 5-HT3 receptor expressed in HEKT cell membranes by radioligand binding assay',\n",
              "       'Displacement of [3H]LY278584 from human 5HT3 receptor',\n",
              "       'Antagonist activity at 5HT3 receptor in hybrid NG108-15 cells assessed as inhibition of 5HT-induced current treated 1 min prior to agonist treatment by electrophysiology',\n",
              "       'Displacement of [3H]granisetron from human recombinant 5HT3 receptor',\n",
              "       'Antagonist activity at 5HT3 receptor in hybrid NG108-15 cells assessed as inhibition of 5HT-induced current by electrophysiology',\n",
              "       'Inhibition of 5-HT3 receptor (unknown origin) at 10 uM by radioligand binding assay relative to control',\n",
              "       'Antagonist activity at serotonin 5HT3 receptor (unknown origin) by PDSP assay',\n",
              "       'Inhibition of human 5HT3A receptor',\n",
              "       'Inhibition of 5-HT3AR at 10 uM',\n",
              "       'Binding affinity to human 5HT3 receptor at 10 uM relative to control',\n",
              "       'Activity at SER3 receptor expressed in HEK293 cells assessed as increase in calcium at 10 nM by calcium imaging assay',\n",
              "       'Displacement of [3H]granisetron form 5HT3 receptor in hybrid NG180-15 cells',\n",
              "       'Compound was tested for its binding affinity for the 5-hydroxytryptamine 3 receptor',\n",
              "       'Inhibition of 5HT3R at 200 nM',\n",
              "       'Displacement of [3H]LY278584 from human 5HT3 receptor expressed in HEK293 cells',\n",
              "       'Activity at human 5HT3 receptor expressed in human HEK293 cells assessed as effect on membrane potential by FLIPR assay',\n",
              "       'Binding affinity to human 5-HT3 receptor by PDSP assay',\n",
              "       'Agonist activity at human 5HT3 receptor expressed in human skin epithelial cells assessed as stimulation of calcium flux by FLIPR assay',\n",
              "       'Displacement of [3H]BRL43694 from human recombinant 5HT3 receptor expressed in CHO cells at 10 uM after 120 mins by scintillation counting',\n",
              "       'Antagonist activity at SER3 receptor expressed in HEK293 cells assessed as inhibition of 10 nM octopamine-induced response by calcium imaging assay',\n",
              "       'Displacement of [3H]GR65630 from human 5-HT3A receptor expressed in HEK293 cells by liquid scintillation counting analysis',\n",
              "       'Inhibition of 5HT3A receptor expressed in Xenopus oocyte at 300 uM',\n",
              "       'Percent efficacy against 5-hydroxytryptamine 3A receptor',\n",
              "       'Binding affinity to serotonin 5-HT3 receptor (unknown origin)',\n",
              "       'Antagonist activity at SER3 receptor expressed in HEK293 cells assessed as inhibition of 100 nM octopamine-induced response by calcium imaging assay'],\n",
              "      dtype=object)"
            ]
          },
          "metadata": {}
        },
        {
          "output_type": "display_data",
          "data": {
            "text/plain": [
              "array([12482441., 22607684., 19767206., 19144451., 20813948., 20465311.,\n",
              "       20384344., 20889341., 21146988., 24755431.,       nan, 11512051.,\n",
              "       18033297., 19700325., 12540230., 20541425., 24084296., 12649361.,\n",
              "       19261477., 22589534., 22959245., 23981939., 20724042., 24128813.,\n",
              "       11170628., 20638843., 20591666., 20591663., 20692833., 20709559.,\n",
              "       23006041., 20823284., 20684563., 21919481., 23126648., 20812727.,\n",
              "       20727749., 20704351., 20931963.,  7752204.,  9357515., 20965739.,\n",
              "       12954071., 22694093., 26988801., 24035337., 11784148., 11750183.,\n",
              "       21782429., 18181565., 17998160., 12110997., 21075638., 21146989.,\n",
              "       21028889., 23009245., 21333408., 21237643., 21207959., 21570838.,\n",
              "       21428406., 21195614., 21520940., 24901260., 25893048.,  2145434.,\n",
              "        8246171., 24365159., 21726069., 22107017., 21788137., 15261283.,\n",
              "       21866910., 16352709., 17722904., 23642479., 15131245., 20451398.,\n",
              "       22001031., 22029285., 22191331., 22222034., 16055331., 22226656.,\n",
              "       22342142., 22171543., 12130738., 22313227., 22608762., 22683222.,\n",
              "       22468936., 22959244., 22369198., 12527336., 18588282., 18983139.,\n",
              "       19447040., 23403082., 23466604., 23582449., 22738628., 22664127.,\n",
              "       23098038., 23006002., 22793665., 23043420., 23083093., 23102207.,\n",
              "       22840695., 21486038., 23084435., 22795332., 23141912.,  9163561.,\n",
              "       20146481., 17606674., 23265874., 23237837., 23414838., 23268694.,\n",
              "       17765553., 23602445., 23664879., 23627311., 23756062., 17221184.,\n",
              "       23932792., 23909910., 19337725., 24074843., 24050790., 24691057.,\n",
              "       17867665., 17127059., 17483457., 17892934., 18078311., 18067245.,\n",
              "       17470817., 17067154., 18160282.,  8564266.,  1652026., 10715164.,\n",
              "       12825922.,  7518514., 22189135.,  2213824., 11514154., 12431845.,\n",
              "       24128816., 24238903., 24215892., 12361399., 25244572.,  9182127.,\n",
              "       24050653., 24814197., 24763360., 24735492., 24856064., 24881566.,\n",
              "       25127461., 25164761., 26227772., 26235950., 26475518., 26363507.,\n",
              "       26460788., 26580980., 26761776., 26653033., 16971122., 26852005.,\n",
              "       26700945., 17948978., 17869105., 19329329., 18023344., 10464021.,\n",
              "       12761331., 19282174., 12192085., 19208472., 18754613., 25695425.,\n",
              "       19963380., 10455251., 19146417., 24582985., 23707254., 19119012.,\n",
              "       18468904., 19338356., 19331415., 19231180., 19359175., 19576766.,\n",
              "       19515567., 19646865., 24147864., 19954972., 19646882., 20043678.,\n",
              "       20045645., 10869410.,  7582507., 14642972., 28135235., 15999145.,\n",
              "        9454810., 14709324.])"
            ]
          },
          "metadata": {}
        }
      ]
    },
    {
      "cell_type": "code",
      "metadata": {
        "colab": {
          "base_uri": "https://localhost:8080/",
          "height": 458
        },
        "id": "Y5krECxrHARe",
        "outputId": "f00bf88c-3455-4777-bc47-4c263ccde192"
      },
      "source": [
        "orig_df.head(3)"
      ],
      "execution_count": 23,
      "outputs": [
        {
          "output_type": "execute_result",
          "data": {
            "text/html": [
              "<div>\n",
              "<style scoped>\n",
              "    .dataframe tbody tr th:only-of-type {\n",
              "        vertical-align: middle;\n",
              "    }\n",
              "\n",
              "    .dataframe tbody tr th {\n",
              "        vertical-align: top;\n",
              "    }\n",
              "\n",
              "    .dataframe thead th {\n",
              "        text-align: right;\n",
              "    }\n",
              "</style>\n",
              "<table border=\"1\" class=\"dataframe\">\n",
              "  <thead>\n",
              "    <tr style=\"text-align: right;\">\n",
              "      <th></th>\n",
              "      <th>compound_id</th>\n",
              "      <th>uniprot_id</th>\n",
              "      <th>compound_name</th>\n",
              "      <th>standard_inchi_key</th>\n",
              "      <th>max_phase</th>\n",
              "      <th>target_pref_name</th>\n",
              "      <th>gene_names</th>\n",
              "      <th>target_class</th>\n",
              "      <th>wildtype_or_mutant</th>\n",
              "      <th>mutation_information</th>\n",
              "      <th>pubmed_id</th>\n",
              "      <th>standard_type</th>\n",
              "      <th>standard_relation</th>\n",
              "      <th>standard_value</th>\n",
              "      <th>standard_units</th>\n",
              "      <th>mode_of_action</th>\n",
              "      <th>assay_format</th>\n",
              "      <th>assay_type</th>\n",
              "      <th>assay_sub_type</th>\n",
              "      <th>inhibitor_type</th>\n",
              "      <th>detection_technology</th>\n",
              "      <th>compound_concentration_value</th>\n",
              "      <th>compound_concentration_value_units</th>\n",
              "      <th>substrate_type</th>\n",
              "      <th>substrate_type_standard_relation</th>\n",
              "      <th>substrate_type_standard_value</th>\n",
              "      <th>substrate_type_standard_units</th>\n",
              "      <th>assay_cell_line</th>\n",
              "      <th>assay_description</th>\n",
              "      <th>activity_comments</th>\n",
              "      <th>title</th>\n",
              "      <th>journal</th>\n",
              "      <th>year</th>\n",
              "      <th>volume</th>\n",
              "      <th>issue</th>\n",
              "      <th>authors</th>\n",
              "      <th>annotation_comments</th>\n",
              "      <th>assay_id</th>\n",
              "      <th>dtc_tid</th>\n",
              "      <th>dtc_activity_id</th>\n",
              "      <th>dtc_molregno</th>\n",
              "      <th>record_id</th>\n",
              "      <th>dtc_document_id</th>\n",
              "    </tr>\n",
              "  </thead>\n",
              "  <tbody>\n",
              "    <tr>\n",
              "      <th>0</th>\n",
              "      <td>CHEMBL100086</td>\n",
              "      <td>P46098</td>\n",
              "      <td>NaN</td>\n",
              "      <td>OSVMSQACZRYAPT-UHFFFAOYSA-N</td>\n",
              "      <td>0</td>\n",
              "      <td>SEROTONIN 3A (5-HT3A) RECEPTOR</td>\n",
              "      <td>HTR3A</td>\n",
              "      <td>Ion channel</td>\n",
              "      <td>NaN</td>\n",
              "      <td>NaN</td>\n",
              "      <td>12482441.0</td>\n",
              "      <td>IC50</td>\n",
              "      <td>&gt;</td>\n",
              "      <td>100000.0</td>\n",
              "      <td>NM</td>\n",
              "      <td>NaN</td>\n",
              "      <td>NaN</td>\n",
              "      <td>NaN</td>\n",
              "      <td>NaN</td>\n",
              "      <td>NaN</td>\n",
              "      <td>NaN</td>\n",
              "      <td>NaN</td>\n",
              "      <td>NaN</td>\n",
              "      <td>NaN</td>\n",
              "      <td>NaN</td>\n",
              "      <td>NaN</td>\n",
              "      <td>NaN</td>\n",
              "      <td>NaN</td>\n",
              "      <td>Inhibitory concentration required against 5-HT...</td>\n",
              "      <td>NaN</td>\n",
              "      <td>Development of a presynaptic 5-HT1A antagonist.</td>\n",
              "      <td>Bioorg. Med. Chem. Lett.</td>\n",
              "      <td>2003.0</td>\n",
              "      <td>13.0</td>\n",
              "      <td>2.0</td>\n",
              "      <td>Mattson RJ, Catt JD, Sloan CP, Gao Q, Carter R...</td>\n",
              "      <td>NaN</td>\n",
              "      <td>3062.0</td>\n",
              "      <td>DTCT0023221</td>\n",
              "      <td>1489397</td>\n",
              "      <td>DTCC00263953</td>\n",
              "      <td>917398</td>\n",
              "      <td>5847</td>\n",
              "    </tr>\n",
              "    <tr>\n",
              "      <th>1</th>\n",
              "      <td>CHEMBL104700</td>\n",
              "      <td>P46098</td>\n",
              "      <td>NaN</td>\n",
              "      <td>SCDKHPSUXHBJDJ-UHFFFAOYSA-N</td>\n",
              "      <td>0</td>\n",
              "      <td>SEROTONIN 3A (5-HT3A) RECEPTOR</td>\n",
              "      <td>HTR3A</td>\n",
              "      <td>Ion channel</td>\n",
              "      <td>NaN</td>\n",
              "      <td>NaN</td>\n",
              "      <td>22607684.0</td>\n",
              "      <td>KI</td>\n",
              "      <td>NaN</td>\n",
              "      <td>NaN</td>\n",
              "      <td>NaN</td>\n",
              "      <td>NaN</td>\n",
              "      <td>NaN</td>\n",
              "      <td>NaN</td>\n",
              "      <td>NaN</td>\n",
              "      <td>NaN</td>\n",
              "      <td>NaN</td>\n",
              "      <td>NaN</td>\n",
              "      <td>NaN</td>\n",
              "      <td>NaN</td>\n",
              "      <td>NaN</td>\n",
              "      <td>NaN</td>\n",
              "      <td>NaN</td>\n",
              "      <td>NaN</td>\n",
              "      <td>Inhibition of 5-HT3 receptor</td>\n",
              "      <td>Not Determined</td>\n",
              "      <td>7-Azabicyclo[2.2.1]heptane as a scaffold for t...</td>\n",
              "      <td>Bioorg. Med. Chem. Lett.</td>\n",
              "      <td>2012.0</td>\n",
              "      <td>22.0</td>\n",
              "      <td>12.0</td>\n",
              "      <td>Banister SD, Rendina LM, Kassiou M</td>\n",
              "      <td>NaN</td>\n",
              "      <td>820298.0</td>\n",
              "      <td>DTCT0023221</td>\n",
              "      <td>10478126</td>\n",
              "      <td>DTCC00272114</td>\n",
              "      <td>931177</td>\n",
              "      <td>48255</td>\n",
              "    </tr>\n",
              "    <tr>\n",
              "      <th>2</th>\n",
              "      <td>CHEMBL1079079</td>\n",
              "      <td>P46098</td>\n",
              "      <td>NaN</td>\n",
              "      <td>WGIPGQAPFNVWIX-XXFZXMJFSA-N</td>\n",
              "      <td>0</td>\n",
              "      <td>SEROTONIN 3A (5-HT3A) RECEPTOR</td>\n",
              "      <td>HTR3A</td>\n",
              "      <td>Ion channel</td>\n",
              "      <td>NaN</td>\n",
              "      <td>NaN</td>\n",
              "      <td>19767206.0</td>\n",
              "      <td>INHIBITION</td>\n",
              "      <td>&lt;</td>\n",
              "      <td>50.0</td>\n",
              "      <td>%</td>\n",
              "      <td>NaN</td>\n",
              "      <td>NaN</td>\n",
              "      <td>NaN</td>\n",
              "      <td>NaN</td>\n",
              "      <td>NaN</td>\n",
              "      <td>NaN</td>\n",
              "      <td>NaN</td>\n",
              "      <td>NaN</td>\n",
              "      <td>NaN</td>\n",
              "      <td>NaN</td>\n",
              "      <td>NaN</td>\n",
              "      <td>NaN</td>\n",
              "      <td>NaN</td>\n",
              "      <td>Displacement of [3H]LY278584 from 5HT3 (recept...</td>\n",
              "      <td>NaN</td>\n",
              "      <td>Synthesis and in vitro autoradiographic evalua...</td>\n",
              "      <td>Bioorg. Med. Chem. Lett.</td>\n",
              "      <td>2009.0</td>\n",
              "      <td>19.0</td>\n",
              "      <td>21.0</td>\n",
              "      <td>Donohue SR, Varnäs K, Jia Z, Gulyás B, Pike VW...</td>\n",
              "      <td>NaN</td>\n",
              "      <td>619795.0</td>\n",
              "      <td>DTCT0023221</td>\n",
              "      <td>3267809</td>\n",
              "      <td>DTCC00632772</td>\n",
              "      <td>857661</td>\n",
              "      <td>37697</td>\n",
              "    </tr>\n",
              "  </tbody>\n",
              "</table>\n",
              "</div>"
            ],
            "text/plain": [
              "     compound_id uniprot_id  ... record_id dtc_document_id\n",
              "0   CHEMBL100086     P46098  ...    917398            5847\n",
              "1   CHEMBL104700     P46098  ...    931177           48255\n",
              "2  CHEMBL1079079     P46098  ...    857661           37697\n",
              "\n",
              "[3 rows x 43 columns]"
            ]
          },
          "metadata": {},
          "execution_count": 23
        }
      ]
    },
    {
      "cell_type": "markdown",
      "metadata": {
        "id": "iJio-E_ALCZ6"
      },
      "source": [
        "## Convert InChi key to SMILES"
      ]
    },
    {
      "cell_type": "code",
      "metadata": {
        "id": "Qy8d87_-K7aa"
      },
      "source": [
        "ofile = target_name+'_dtc_smiles_raw.csv'"
      ],
      "execution_count": 24,
      "outputs": []
    },
    {
      "cell_type": "code",
      "metadata": {
        "colab": {
          "base_uri": "https://localhost:8080/"
        },
        "id": "Xxziu6wXLPml",
        "outputId": "7e662f35-0ac4-409c-ec78-6de6c0f3f36a"
      },
      "source": [
        "print(ofile)"
      ],
      "execution_count": 25,
      "outputs": [
        {
          "output_type": "stream",
          "name": "stdout",
          "text": [
            "HTR3A_dtc_smiles_raw.csv\n"
          ]
        }
      ]
    },
    {
      "cell_type": "markdown",
      "metadata": {
        "id": "2SRf26EmT_iI"
      },
      "source": [
        "## Note the file HTR3A_dtc_smiles_raw.csv will be created"
      ]
    },
    {
      "cell_type": "code",
      "metadata": {
        "colab": {
          "base_uri": "https://localhost:8080/"
        },
        "id": "H5z1nEhILX4t",
        "outputId": "ee3b5cf0-1bec-45e0-e8ed-faaacb040b02"
      },
      "source": [
        "# import few libraries from AMPL\n",
        "import atomsci.ddm.utils.pubchem_utils as pu\n",
        "from os import path\n",
        "\n",
        "myList = orig_df['standard_inchi_key'].unique().tolist()\n",
        "\n",
        "# Retrieve SMILES strings for compounds through PUBCHEM web interface.\n",
        "\n",
        "# Let us make sure the ofile exists, if it exists then print 'File exists' and \n",
        "# if it doesnt exist, let us print \"SMILES data doesnt not exist, downloading from\n",
        "# PubCHEM\"\n",
        "\n",
        "if not path.exists(ofile) :\n",
        "    print(\"SMILES data not found, download from PubChem \",ofile)\n",
        "    save_smiles_df, fail_lst, discard_lst = pu.download_smiles(myList)\n",
        "    save_smiles_df.to_csv(ofile)\n",
        "else :\n",
        "    print(ofile, 'Exists!')\n"
      ],
      "execution_count": 26,
      "outputs": [
        {
          "output_type": "stream",
          "name": "stdout",
          "text": [
            "SMILES data not found, download from PubChem  HTR3A_dtc_smiles_raw.csv\n"
          ]
        }
      ]
    },
    {
      "cell_type": "markdown",
      "metadata": {
        "id": "-EAgFT4W4AkM"
      },
      "source": [
        "## Note the `fail_lst` and `discard_lst` will contain the failed and discarded list \n",
        "\n",
        "Check whether the file, HTR3A_dtc_smiles_raw.csv, exists. use the RHS menu option or use `ls HTR3A_dtc_smiles_raw.csv`"
      ]
    },
    {
      "cell_type": "code",
      "metadata": {
        "colab": {
          "base_uri": "https://localhost:8080/"
        },
        "id": "p_RA6GQrI-zZ",
        "outputId": "692bad91-4371-4051-f6f1-dd855765b0db"
      },
      "source": [
        "print(\"fail_lst: \", len(fail_lst))\n",
        "print(\"discard_lst: \", len(discard_lst))\n",
        "print(len(myList))\n",
        "print(save_smiles_df.shape)"
      ],
      "execution_count": 27,
      "outputs": [
        {
          "output_type": "stream",
          "name": "stdout",
          "text": [
            "fail_lst:  63\n",
            "discard_lst:  19\n",
            "992\n",
            "(929, 3)\n"
          ]
        }
      ]
    },
    {
      "cell_type": "code",
      "metadata": {
        "colab": {
          "base_uri": "https://localhost:8080/",
          "height": 206
        },
        "id": "LUTnA9zN7Ti1",
        "outputId": "a4123ef7-a97f-4715-c317-102d62aefc71"
      },
      "source": [
        "save_smiles_df.head(5)"
      ],
      "execution_count": 28,
      "outputs": [
        {
          "output_type": "execute_result",
          "data": {
            "text/html": [
              "<div>\n",
              "<style scoped>\n",
              "    .dataframe tbody tr th:only-of-type {\n",
              "        vertical-align: middle;\n",
              "    }\n",
              "\n",
              "    .dataframe tbody tr th {\n",
              "        vertical-align: top;\n",
              "    }\n",
              "\n",
              "    .dataframe thead th {\n",
              "        text-align: right;\n",
              "    }\n",
              "</style>\n",
              "<table border=\"1\" class=\"dataframe\">\n",
              "  <thead>\n",
              "    <tr style=\"text-align: right;\">\n",
              "      <th></th>\n",
              "      <th>CID</th>\n",
              "      <th>standard_inchi_key</th>\n",
              "      <th>smiles</th>\n",
              "    </tr>\n",
              "  </thead>\n",
              "  <tbody>\n",
              "    <tr>\n",
              "      <th>0</th>\n",
              "      <td>9845261</td>\n",
              "      <td>OSVMSQACZRYAPT-UHFFFAOYSA-N</td>\n",
              "      <td>\"COC1=CC=CC(=C1)CN2CCN(CC2)C3CCC(CC3)(C4=CC5=C...</td>\n",
              "    </tr>\n",
              "    <tr>\n",
              "      <th>1</th>\n",
              "      <td>10130293</td>\n",
              "      <td>SCDKHPSUXHBJDJ-UHFFFAOYSA-N</td>\n",
              "      <td>\"C1CC2CCC1N2CC3=CN=CC=C3\"</td>\n",
              "    </tr>\n",
              "    <tr>\n",
              "      <th>2</th>\n",
              "      <td>44471685</td>\n",
              "      <td>WGIPGQAPFNVWIX-XXFZXMJFSA-N</td>\n",
              "      <td>\"COC1=CC=C(C=C1)C2=C(C(=NN2C3=CC=CC=C3I)C(=O)N...</td>\n",
              "    </tr>\n",
              "    <tr>\n",
              "      <th>3</th>\n",
              "      <td>2554</td>\n",
              "      <td>FFGPTBGBLSHEPO-UHFFFAOYSA-N</td>\n",
              "      <td>\"C1=CC=C2C(=C1)C=CC3=CC=CC=C3N2C(=O)N\"</td>\n",
              "    </tr>\n",
              "    <tr>\n",
              "      <th>4</th>\n",
              "      <td>44469321</td>\n",
              "      <td>CKLPLPZSUQEDRT-WPCRTTGESA-N</td>\n",
              "      <td>\"CC1CC2=C(C3(N1)C4=C(C=CC(=C4)Cl)NC3=O)NC5=CC(...</td>\n",
              "    </tr>\n",
              "  </tbody>\n",
              "</table>\n",
              "</div>"
            ],
            "text/plain": [
              "        CID  ...                                             smiles\n",
              "0   9845261  ...  \"COC1=CC=CC(=C1)CN2CCN(CC2)C3CCC(CC3)(C4=CC5=C...\n",
              "1  10130293  ...                          \"C1CC2CCC1N2CC3=CN=CC=C3\"\n",
              "2  44471685  ...  \"COC1=CC=C(C=C1)C2=C(C(=NN2C3=CC=CC=C3I)C(=O)N...\n",
              "3      2554  ...             \"C1=CC=C2C(=C1)C=CC3=CC=CC=C3N2C(=O)N\"\n",
              "4  44469321  ...  \"CC1CC2=C(C3(N1)C4=C(C=CC(=C4)Cl)NC3=O)NC5=CC(...\n",
              "\n",
              "[5 rows x 3 columns]"
            ]
          },
          "metadata": {},
          "execution_count": 28
        }
      ]
    },
    {
      "cell_type": "markdown",
      "metadata": {
        "id": "IbvY7TWY6tX1"
      },
      "source": [
        "## In this step, we reassemble the dataframe by attaching the IC50 values to create a new dataframe  "
      ]
    },
    {
      "cell_type": "code",
      "metadata": {
        "id": "Qd2IIlwAMKr-",
        "colab": {
          "base_uri": "https://localhost:8080/"
        },
        "outputId": "b4fda2db-93df-46ac-a220-e056c90f6b04"
      },
      "source": [
        "# HTR3A_dtc_smiles.csv is the ofile \n",
        "ofile = target_name+'_dtc_smiles.csv'\n",
        "if not path.exists(ofile) :\n",
        "    import atomsci.ddm.utils.data_curation_functions as dcf\n",
        "    import importlib as impl\n",
        "\n",
        "    print(len(fail_lst))\n",
        "    print(save_smiles_df.shape)\n",
        "\n",
        "# Above, we will pring the fail_list created in the earlier code block \n",
        "# We will also print the dimensions of our save_smiles_df pandas \n",
        "# dataframe using the .shape function\n",
        "\n",
        "# Notice the ifile is now HTR3A_dtc_smiles_raw.csv\n",
        "    ifile=target_name+'_dtc_smiles_raw.csv'\n",
        "\n",
        "# Here we are reading in our file (ifile) using the pandas library, and assigning its contents to the save_smiles_df from earlier\n",
        "    save_smiles_df=pd.read_csv(ifile)\n",
        "\n",
        "    ## Retrieve specific data\n",
        "    ## Will include censored data in smiles \n",
        "    ## Combine gene data with SMILES strings and call this our starting \"raw\" dataset.\n",
        "# Here we are creating a variable called targ_lst, which contains our target and is formatted as a list\n",
        "    targ_lst=[target_name]\n",
        "    ####WARNING: I had to convert this explicitly to a floating point value!!!\n",
        "# Below, using the nm_df['standard_value']=nm_df['standard_value'].astype(float) is used to convert \n",
        "# the standard_value column into a float using astype()\n",
        "# A floating point value, also called a float, represents a real number and is written with a decimal point dividing the integer and fractional point\n",
        "    nm_df['standard_value']=nm_df['standard_value'].astype(float)\n",
        "    smiles_lst, shared_inchi_keys = dcf.get_smiles_dtc_data(nm_df, targ_lst, save_smiles_df)\n",
        "    smiles_df=pd.concat(smiles_lst)\n",
        "    # ofile=target_name+'_dtc_smiles.csv'\n",
        "    smiles_df.to_csv(ofile,index=False)\n",
        "else :\n",
        "    print(\"Downloaded file previously saved\",ofile)"
      ],
      "execution_count": 29,
      "outputs": [
        {
          "output_type": "stream",
          "name": "stdout",
          "text": [
            "63\n",
            "(929, 3)\n",
            "HTR3A distinct compounds = only 127\n",
            "HTR3A distinct compounds <,>,= 194\n",
            "num shared compounds 194\n",
            "Add pIC50 values.\n",
            "0       100000.0\n",
            "4        10000.0\n",
            "5        30000.0\n",
            "6        30000.0\n",
            "7        30000.0\n",
            "          ...   \n",
            "1207      3310.0\n",
            "1216        70.0\n",
            "1217        70.0\n",
            "1221         5.0\n",
            "1226       779.0\n",
            "Name: standard_value, Length: 226, dtype: float64\n",
            "100000.0\n",
            "10000.0\n",
            "30000.0\n",
            "30000.0\n",
            "30000.0\n",
            "30000.0\n",
            "30000.0\n",
            "30000.0\n",
            "5800.0\n",
            "30000.0\n",
            "5700.0\n",
            "7900.0\n",
            "7800.0\n",
            "30000.0\n",
            "2800.0\n",
            "100000.0\n",
            "0.83\n",
            "10000.0\n",
            "10000.0\n",
            "7943.28\n",
            "1000.0\n",
            "48.4\n",
            "50.5\n",
            "62.1\n",
            "84.8\n",
            "100.0\n",
            "87.6\n",
            "46.5\n",
            "22.1\n",
            "100.0\n",
            "24.6\n",
            "59.1\n",
            "100.0\n",
            "41.4\n",
            "100.0\n",
            "100.0\n",
            "100.0\n",
            "44.2\n",
            "100.0\n",
            "100.0\n",
            "69.9\n",
            "63.8\n",
            "52.6\n",
            "100.0\n",
            "100.0\n",
            "61.0\n",
            "55.2\n",
            "86.6\n",
            "64.8\n",
            "100.0\n",
            "100.0\n",
            "100.0\n",
            "77.6\n",
            "26.7\n",
            "100.0\n",
            "45.7\n",
            "50.6\n",
            "99.4\n",
            "100.0\n",
            "100.0\n",
            "100.0\n",
            "100.0\n",
            "83.1\n",
            "100.0\n",
            "45.6\n",
            "15.6\n",
            "8.9\n",
            "8.93\n",
            "100.0\n",
            "48.3\n",
            "97.9\n",
            "10000.0\n",
            "9.3\n",
            "6.9\n",
            "1300.0\n",
            "10000.0\n",
            "10000.0\n",
            "10000.0\n",
            "9000.0\n",
            "100000.0\n",
            "100000.0\n",
            "12000.0\n",
            "100000.0\n",
            "1600.0\n",
            "2300.0\n",
            "1000.0\n",
            "100000.0\n",
            "100000.0\n",
            "30000.0\n",
            "30000.0\n",
            "30000.0\n",
            "30000.0\n",
            "30000.0\n",
            "30000.0\n",
            "30000.0\n",
            "30000.0\n",
            "30000.0\n",
            "10.0\n",
            "9.4\n",
            "770.0\n",
            "11.0\n",
            "6.7\n",
            "4.9\n",
            "2.8\n",
            "32.7\n",
            "299.0\n",
            "10000.0\n",
            "10000.0\n",
            "31622.78\n",
            "31622.78\n",
            "12.0\n",
            "6.0\n",
            "2400.0\n",
            "1400.0\n",
            "800.0\n",
            "2100.0\n",
            "2700.0\n",
            "19800.0\n",
            "2800.0\n",
            "11600.0\n",
            "5700.0\n",
            "1300.0\n",
            "1900.0\n",
            "5900.0\n",
            "15800.0\n",
            "1600.0\n",
            "2200.0\n",
            "1900.0\n",
            "2100.0\n",
            "13600.0\n",
            "2000.0\n",
            "2200.0\n",
            "3300.0\n",
            "100000.0\n",
            "100000.0\n",
            "30000.0\n",
            "31622.78\n",
            "100000.0\n",
            "100000.0\n",
            "100000.0\n",
            "100000.0\n",
            "3981.07\n",
            "4400.0\n",
            "19000.0\n",
            "30000.0\n",
            "31622.78\n",
            "10000.0\n",
            "1000.0\n",
            "10000.0\n",
            "100000.0\n",
            "100000.0\n",
            "100000.0\n",
            "100000.0\n",
            "34.0\n",
            "57000.0\n",
            "275.0\n",
            "4800.0\n",
            "188.0\n",
            "580.0\n",
            "962.0\n",
            "100000.0\n",
            "100000.0\n",
            "30000.0\n",
            "31622.78\n",
            "2500.0\n",
            "2511.89\n",
            "30000.0\n",
            "31622.78\n",
            "11000.0\n",
            "12589.25\n",
            "7500.0\n",
            "30000.0\n",
            "31622.78\n",
            "100000.0\n",
            "100000.0\n",
            "30000.0\n",
            "31622.78\n",
            "100000.0\n",
            "100000.0\n",
            "100000.0\n",
            "100000.0\n",
            "30000.0\n",
            "100000.0\n",
            "3981.07\n",
            "4200.0\n",
            "30000.0\n",
            "31622.78\n",
            "30000.0\n",
            "31622.78\n",
            "100000.0\n",
            "251188.64\n",
            "25118.86\n",
            "100000.0\n",
            "0.09\n",
            "6.92\n",
            "385.0\n",
            "10000.0\n",
            "19952.62\n",
            "50118.72\n",
            "100000.0\n",
            "1000.0\n",
            "1.41\n",
            "3160.0\n",
            "3160.0\n",
            "3100.0\n",
            "790.0\n",
            "1700.0\n",
            "1600.0\n",
            "159.0\n",
            "3500.0\n",
            "2500.0\n",
            "1400.0\n",
            "2800.0\n",
            "4900.0\n",
            "18.0\n",
            "390.0\n",
            "10000.0\n",
            "484.0\n",
            "484.0\n",
            "2480.0\n",
            "7310.0\n",
            "3310.0\n",
            "70.0\n",
            "70.0\n",
            "5.0\n",
            "779.0\n",
            "Merge in SMILES strings.\n",
            "100000.0\n",
            "10000.0\n",
            "30000.0\n",
            "30000.0\n",
            "30000.0\n",
            "30000.0\n",
            "30000.0\n",
            "30000.0\n",
            "5800.0\n",
            "30000.0\n",
            "5700.0\n",
            "7900.0\n",
            "7800.0\n",
            "30000.0\n",
            "2800.0\n",
            "100000.0\n",
            "0.83\n",
            "10000.0\n",
            "10000.0\n",
            "7943.28\n",
            "1000.0\n",
            "48.4\n",
            "50.5\n",
            "62.1\n",
            "84.8\n",
            "100.0\n",
            "87.6\n",
            "46.5\n",
            "22.1\n",
            "100.0\n",
            "24.6\n",
            "59.1\n",
            "100.0\n",
            "41.4\n",
            "100.0\n",
            "100.0\n",
            "100.0\n",
            "44.2\n",
            "100.0\n",
            "100.0\n",
            "69.9\n",
            "63.8\n",
            "52.6\n",
            "100.0\n",
            "100.0\n",
            "61.0\n",
            "55.2\n",
            "86.6\n",
            "64.8\n",
            "100.0\n",
            "100.0\n",
            "100.0\n",
            "77.6\n",
            "26.7\n",
            "100.0\n",
            "45.7\n",
            "50.6\n",
            "99.4\n",
            "100.0\n",
            "100.0\n",
            "100.0\n",
            "100.0\n",
            "83.1\n",
            "100.0\n",
            "45.6\n",
            "15.6\n",
            "8.9\n",
            "8.93\n",
            "100.0\n",
            "48.3\n",
            "97.9\n",
            "10000.0\n",
            "9.3\n",
            "6.9\n",
            "1300.0\n",
            "10000.0\n",
            "10000.0\n",
            "10000.0\n",
            "9000.0\n",
            "100000.0\n",
            "100000.0\n",
            "12000.0\n",
            "100000.0\n",
            "1600.0\n",
            "2300.0\n",
            "1000.0\n",
            "100000.0\n",
            "100000.0\n",
            "30000.0\n",
            "30000.0\n",
            "30000.0\n",
            "30000.0\n",
            "30000.0\n",
            "30000.0\n",
            "30000.0\n",
            "30000.0\n",
            "30000.0\n",
            "10.0\n",
            "9.4\n",
            "770.0\n",
            "11.0\n",
            "6.7\n",
            "4.9\n",
            "2.8\n",
            "32.7\n",
            "299.0\n",
            "10000.0\n",
            "10000.0\n",
            "31622.78\n",
            "31622.78\n",
            "12.0\n",
            "6.0\n",
            "2400.0\n",
            "1400.0\n",
            "800.0\n",
            "2100.0\n",
            "2700.0\n",
            "19800.0\n",
            "2800.0\n",
            "11600.0\n",
            "5700.0\n",
            "1300.0\n",
            "1900.0\n",
            "5900.0\n",
            "15800.0\n",
            "1600.0\n",
            "2200.0\n",
            "1900.0\n",
            "2100.0\n",
            "13600.0\n",
            "2000.0\n",
            "2200.0\n",
            "3300.0\n",
            "100000.0\n",
            "100000.0\n",
            "30000.0\n",
            "31622.78\n",
            "100000.0\n",
            "100000.0\n",
            "100000.0\n",
            "100000.0\n",
            "3981.07\n",
            "4400.0\n",
            "19000.0\n",
            "30000.0\n",
            "31622.78\n",
            "10000.0\n",
            "1000.0\n",
            "10000.0\n",
            "100000.0\n",
            "100000.0\n",
            "100000.0\n",
            "100000.0\n",
            "34.0\n",
            "57000.0\n",
            "275.0\n",
            "4800.0\n",
            "188.0\n",
            "580.0\n",
            "962.0\n",
            "100000.0\n",
            "100000.0\n",
            "30000.0\n",
            "31622.78\n",
            "2500.0\n",
            "2511.89\n",
            "30000.0\n",
            "31622.78\n",
            "11000.0\n",
            "12589.25\n",
            "7500.0\n",
            "30000.0\n",
            "31622.78\n",
            "100000.0\n",
            "100000.0\n",
            "30000.0\n",
            "31622.78\n",
            "100000.0\n",
            "100000.0\n",
            "100000.0\n",
            "100000.0\n",
            "30000.0\n",
            "100000.0\n",
            "3981.07\n",
            "4200.0\n",
            "30000.0\n",
            "31622.78\n",
            "30000.0\n",
            "31622.78\n",
            "100000.0\n",
            "251188.64\n",
            "25118.86\n",
            "100000.0\n",
            "0.09\n",
            "6.92\n",
            "385.0\n",
            "10000.0\n",
            "19952.62\n",
            "50118.72\n",
            "100000.0\n",
            "1000.0\n",
            "1.41\n",
            "3160.0\n",
            "3160.0\n",
            "3100.0\n",
            "790.0\n",
            "1700.0\n",
            "1600.0\n",
            "159.0\n",
            "3500.0\n",
            "2500.0\n",
            "1400.0\n",
            "2800.0\n",
            "4900.0\n",
            "18.0\n",
            "390.0\n",
            "10000.0\n",
            "484.0\n",
            "484.0\n",
            "2480.0\n",
            "7310.0\n",
            "3310.0\n",
            "70.0\n",
            "70.0\n",
            "5.0\n",
            "779.0\n",
            "(218, 48)\n",
            "192\n"
          ]
        }
      ]
    },
    {
      "cell_type": "markdown",
      "metadata": {
        "id": "6Npvu8Wl9qFe"
      },
      "source": [
        "## Change the ofile to ifile for reading"
      ]
    },
    {
      "cell_type": "code",
      "metadata": {
        "colab": {
          "base_uri": "https://localhost:8080/"
        },
        "id": "NiPDw_h2b4Uv",
        "outputId": "95851c86-1000-4c0a-d196-59898fe85651"
      },
      "source": [
        "ifile=target_name+'_dtc_smiles.csv'\n",
        "print(ifile)"
      ],
      "execution_count": 30,
      "outputs": [
        {
          "output_type": "stream",
          "name": "stdout",
          "text": [
            "HTR3A_dtc_smiles.csv\n"
          ]
        }
      ]
    },
    {
      "cell_type": "code",
      "metadata": {
        "colab": {
          "base_uri": "https://localhost:8080/",
          "height": 677
        },
        "id": "tTukf532aAPs",
        "outputId": "9d30c425-3efa-4a64-d11f-fd130c57d183"
      },
      "source": [
        "print(smiles_df.shape)\n",
        "save_smiles_df = smiles_df\n",
        "save_smiles_df.head(5)"
      ],
      "execution_count": 31,
      "outputs": [
        {
          "output_type": "stream",
          "name": "stdout",
          "text": [
            "(218, 48)\n"
          ]
        },
        {
          "output_type": "execute_result",
          "data": {
            "text/html": [
              "<div>\n",
              "<style scoped>\n",
              "    .dataframe tbody tr th:only-of-type {\n",
              "        vertical-align: middle;\n",
              "    }\n",
              "\n",
              "    .dataframe tbody tr th {\n",
              "        vertical-align: top;\n",
              "    }\n",
              "\n",
              "    .dataframe thead th {\n",
              "        text-align: right;\n",
              "    }\n",
              "</style>\n",
              "<table border=\"1\" class=\"dataframe\">\n",
              "  <thead>\n",
              "    <tr style=\"text-align: right;\">\n",
              "      <th></th>\n",
              "      <th>compound_id</th>\n",
              "      <th>uniprot_id</th>\n",
              "      <th>compound_name</th>\n",
              "      <th>standard_inchi_key</th>\n",
              "      <th>max_phase</th>\n",
              "      <th>target_pref_name</th>\n",
              "      <th>gene_names</th>\n",
              "      <th>target_class</th>\n",
              "      <th>wildtype_or_mutant</th>\n",
              "      <th>mutation_information</th>\n",
              "      <th>pubmed_id</th>\n",
              "      <th>standard_type</th>\n",
              "      <th>standard_relation</th>\n",
              "      <th>standard_value</th>\n",
              "      <th>standard_units</th>\n",
              "      <th>mode_of_action</th>\n",
              "      <th>assay_format</th>\n",
              "      <th>assay_type</th>\n",
              "      <th>assay_sub_type</th>\n",
              "      <th>inhibitor_type</th>\n",
              "      <th>detection_technology</th>\n",
              "      <th>compound_concentration_value</th>\n",
              "      <th>compound_concentration_value_units</th>\n",
              "      <th>substrate_type</th>\n",
              "      <th>substrate_type_standard_relation</th>\n",
              "      <th>substrate_type_standard_value</th>\n",
              "      <th>substrate_type_standard_units</th>\n",
              "      <th>assay_cell_line</th>\n",
              "      <th>assay_description</th>\n",
              "      <th>activity_comments</th>\n",
              "      <th>title</th>\n",
              "      <th>journal</th>\n",
              "      <th>year</th>\n",
              "      <th>volume</th>\n",
              "      <th>issue</th>\n",
              "      <th>authors</th>\n",
              "      <th>annotation_comments</th>\n",
              "      <th>assay_id</th>\n",
              "      <th>dtc_tid</th>\n",
              "      <th>dtc_activity_id</th>\n",
              "      <th>dtc_molregno</th>\n",
              "      <th>record_id</th>\n",
              "      <th>dtc_document_id</th>\n",
              "      <th>PIC50</th>\n",
              "      <th>Unnamed: 0</th>\n",
              "      <th>CID</th>\n",
              "      <th>smiles</th>\n",
              "      <th>rdkit_smiles</th>\n",
              "    </tr>\n",
              "  </thead>\n",
              "  <tbody>\n",
              "    <tr>\n",
              "      <th>0</th>\n",
              "      <td>CHEMBL100086</td>\n",
              "      <td>P46098</td>\n",
              "      <td>NaN</td>\n",
              "      <td>OSVMSQACZRYAPT-UHFFFAOYSA-N</td>\n",
              "      <td>0</td>\n",
              "      <td>SEROTONIN 3A (5-HT3A) RECEPTOR</td>\n",
              "      <td>HTR3A</td>\n",
              "      <td>Ion channel</td>\n",
              "      <td>NaN</td>\n",
              "      <td>NaN</td>\n",
              "      <td>12482441.0</td>\n",
              "      <td>IC50</td>\n",
              "      <td>&gt;</td>\n",
              "      <td>100000.0</td>\n",
              "      <td>NM</td>\n",
              "      <td>NaN</td>\n",
              "      <td>NaN</td>\n",
              "      <td>NaN</td>\n",
              "      <td>NaN</td>\n",
              "      <td>NaN</td>\n",
              "      <td>NaN</td>\n",
              "      <td>NaN</td>\n",
              "      <td>NaN</td>\n",
              "      <td>NaN</td>\n",
              "      <td>NaN</td>\n",
              "      <td>NaN</td>\n",
              "      <td>NaN</td>\n",
              "      <td>NaN</td>\n",
              "      <td>Inhibitory concentration required against 5-HT...</td>\n",
              "      <td>NaN</td>\n",
              "      <td>Development of a presynaptic 5-HT1A antagonist.</td>\n",
              "      <td>Bioorg. Med. Chem. Lett.</td>\n",
              "      <td>2003.0</td>\n",
              "      <td>13.0</td>\n",
              "      <td>2.0</td>\n",
              "      <td>Mattson RJ, Catt JD, Sloan CP, Gao Q, Carter R...</td>\n",
              "      <td>NaN</td>\n",
              "      <td>3062.0</td>\n",
              "      <td>DTCT0023221</td>\n",
              "      <td>1489397</td>\n",
              "      <td>DTCC00263953</td>\n",
              "      <td>917398</td>\n",
              "      <td>5847</td>\n",
              "      <td>4.000000</td>\n",
              "      <td>0</td>\n",
              "      <td>9845261</td>\n",
              "      <td>COC1=CC=CC(=C1)CN2CCN(CC2)C3CCC(CC3)(C4=CC5=C(...</td>\n",
              "      <td>COc1cccc(CN2CCN(C3CCC(O)(c4ccc5c(c4)OCO5)CC3)C...</td>\n",
              "    </tr>\n",
              "    <tr>\n",
              "      <th>1</th>\n",
              "      <td>CHEMBL1082723</td>\n",
              "      <td>P46098</td>\n",
              "      <td>NITD609</td>\n",
              "      <td>CKLPLPZSUQEDRT-WPCRTTGESA-N</td>\n",
              "      <td>0</td>\n",
              "      <td>SEROTONIN 3A (5-HT3A) RECEPTOR</td>\n",
              "      <td>HTR3A</td>\n",
              "      <td>Ion channel</td>\n",
              "      <td>NaN</td>\n",
              "      <td>NaN</td>\n",
              "      <td>20813948.0</td>\n",
              "      <td>IC50</td>\n",
              "      <td>&gt;</td>\n",
              "      <td>10000.0</td>\n",
              "      <td>NM</td>\n",
              "      <td>NaN</td>\n",
              "      <td>NaN</td>\n",
              "      <td>NaN</td>\n",
              "      <td>NaN</td>\n",
              "      <td>NaN</td>\n",
              "      <td>NaN</td>\n",
              "      <td>NaN</td>\n",
              "      <td>NaN</td>\n",
              "      <td>NaN</td>\n",
              "      <td>NaN</td>\n",
              "      <td>NaN</td>\n",
              "      <td>NaN</td>\n",
              "      <td>NaN</td>\n",
              "      <td>Binding affinity to human recombinant serotoni...</td>\n",
              "      <td>NaN</td>\n",
              "      <td>Spiroindolones, a potent compound class for th...</td>\n",
              "      <td>Science</td>\n",
              "      <td>2010.0</td>\n",
              "      <td>329.0</td>\n",
              "      <td>5996.0</td>\n",
              "      <td>Rottmann M, McNamara C, Yeung BK, Lee MC, Zou ...</td>\n",
              "      <td>NaN</td>\n",
              "      <td>658586.0</td>\n",
              "      <td>DTCT0023221</td>\n",
              "      <td>3467863</td>\n",
              "      <td>DTCC00031143</td>\n",
              "      <td>1686650</td>\n",
              "      <td>40818</td>\n",
              "      <td>5.000000</td>\n",
              "      <td>4</td>\n",
              "      <td>44469321</td>\n",
              "      <td>CC1CC2=C(C3(N1)C4=C(C=CC(=C4)Cl)NC3=O)NC5=CC(=...</td>\n",
              "      <td>CC1Cc2c([nH]c3cc(Cl)c(F)cc23)C2(N1)C(=O)Nc1ccc...</td>\n",
              "    </tr>\n",
              "    <tr>\n",
              "      <th>2</th>\n",
              "      <td>CHEMBL1083485</td>\n",
              "      <td>P46098</td>\n",
              "      <td>NaN</td>\n",
              "      <td>YOCUJVXRRWEPDN-UHFFFAOYSA-N</td>\n",
              "      <td>0</td>\n",
              "      <td>SEROTONIN 3A (5-HT3A) RECEPTOR</td>\n",
              "      <td>HTR3A</td>\n",
              "      <td>Ion channel</td>\n",
              "      <td>NaN</td>\n",
              "      <td>NaN</td>\n",
              "      <td>20465311.0</td>\n",
              "      <td>IC50</td>\n",
              "      <td>&gt;</td>\n",
              "      <td>30000.0</td>\n",
              "      <td>NM</td>\n",
              "      <td>NaN</td>\n",
              "      <td>cell_based</td>\n",
              "      <td>NaN</td>\n",
              "      <td>NaN</td>\n",
              "      <td>NaN</td>\n",
              "      <td>NaN</td>\n",
              "      <td>NaN</td>\n",
              "      <td>NaN</td>\n",
              "      <td>NaN</td>\n",
              "      <td>NaN</td>\n",
              "      <td>NaN</td>\n",
              "      <td>NaN</td>\n",
              "      <td>HEK293</td>\n",
              "      <td>Agonist activity at human 5HT3A receptor expre...</td>\n",
              "      <td>NaN</td>\n",
              "      <td>Novel alpha-7 nicotinic acetylcholine receptor...</td>\n",
              "      <td>J. Med. Chem.</td>\n",
              "      <td>2010.0</td>\n",
              "      <td>53.0</td>\n",
              "      <td>11.0</td>\n",
              "      <td>Ghiron C, Haydar SN, Aschmies S, Bothmann H, C...</td>\n",
              "      <td>NaN</td>\n",
              "      <td>634700.0</td>\n",
              "      <td>DTCT0023221</td>\n",
              "      <td>3345977</td>\n",
              "      <td>DTCC00645978</td>\n",
              "      <td>1654372</td>\n",
              "      <td>39082</td>\n",
              "      <td>4.522879</td>\n",
              "      <td>5</td>\n",
              "      <td>44611748</td>\n",
              "      <td>C1CCN(CC1)CCCCNC(=O)NC2=CN=C(C=C2)C3=CC=CC=C3F</td>\n",
              "      <td>O=C(NCCCCN1CCCCC1)Nc1ccc(-c2ccccc2F)nc1</td>\n",
              "    </tr>\n",
              "    <tr>\n",
              "      <th>3</th>\n",
              "      <td>CHEMBL1083787</td>\n",
              "      <td>P46098</td>\n",
              "      <td>NaN</td>\n",
              "      <td>LMGUUVWYFJIKCD-UHFFFAOYSA-N</td>\n",
              "      <td>0</td>\n",
              "      <td>SEROTONIN 3A (5-HT3A) RECEPTOR</td>\n",
              "      <td>HTR3A</td>\n",
              "      <td>Ion channel</td>\n",
              "      <td>NaN</td>\n",
              "      <td>NaN</td>\n",
              "      <td>20465311.0</td>\n",
              "      <td>IC50</td>\n",
              "      <td>&gt;</td>\n",
              "      <td>30000.0</td>\n",
              "      <td>NM</td>\n",
              "      <td>NaN</td>\n",
              "      <td>cell_based</td>\n",
              "      <td>NaN</td>\n",
              "      <td>NaN</td>\n",
              "      <td>NaN</td>\n",
              "      <td>NaN</td>\n",
              "      <td>NaN</td>\n",
              "      <td>NaN</td>\n",
              "      <td>NaN</td>\n",
              "      <td>NaN</td>\n",
              "      <td>NaN</td>\n",
              "      <td>NaN</td>\n",
              "      <td>HEK293</td>\n",
              "      <td>Agonist activity at human 5HT3A receptor expre...</td>\n",
              "      <td>NaN</td>\n",
              "      <td>Novel alpha-7 nicotinic acetylcholine receptor...</td>\n",
              "      <td>J. Med. Chem.</td>\n",
              "      <td>2010.0</td>\n",
              "      <td>53.0</td>\n",
              "      <td>11.0</td>\n",
              "      <td>Ghiron C, Haydar SN, Aschmies S, Bothmann H, C...</td>\n",
              "      <td>NaN</td>\n",
              "      <td>634700.0</td>\n",
              "      <td>DTCT0023221</td>\n",
              "      <td>3345978</td>\n",
              "      <td>DTCC00645979</td>\n",
              "      <td>1395966</td>\n",
              "      <td>39082</td>\n",
              "      <td>4.522879</td>\n",
              "      <td>6</td>\n",
              "      <td>44240743</td>\n",
              "      <td>C1CCN(CC1)CCCCNC(=O)NC2=CN=C(C=C2)C3=CC=C(C=C3)F</td>\n",
              "      <td>O=C(NCCCCN1CCCCC1)Nc1ccc(-c2ccc(F)cc2)nc1</td>\n",
              "    </tr>\n",
              "    <tr>\n",
              "      <th>4</th>\n",
              "      <td>CHEMBL1083788</td>\n",
              "      <td>P46098</td>\n",
              "      <td>NaN</td>\n",
              "      <td>DFBQTBNRGSIKHN-UHFFFAOYSA-N</td>\n",
              "      <td>0</td>\n",
              "      <td>SEROTONIN 3A (5-HT3A) RECEPTOR</td>\n",
              "      <td>HTR3A</td>\n",
              "      <td>Ion channel</td>\n",
              "      <td>NaN</td>\n",
              "      <td>NaN</td>\n",
              "      <td>20465311.0</td>\n",
              "      <td>IC50</td>\n",
              "      <td>&gt;</td>\n",
              "      <td>30000.0</td>\n",
              "      <td>NM</td>\n",
              "      <td>NaN</td>\n",
              "      <td>cell_based</td>\n",
              "      <td>NaN</td>\n",
              "      <td>NaN</td>\n",
              "      <td>NaN</td>\n",
              "      <td>NaN</td>\n",
              "      <td>NaN</td>\n",
              "      <td>NaN</td>\n",
              "      <td>NaN</td>\n",
              "      <td>NaN</td>\n",
              "      <td>NaN</td>\n",
              "      <td>NaN</td>\n",
              "      <td>HEK293</td>\n",
              "      <td>Agonist activity at human 5HT3A receptor expre...</td>\n",
              "      <td>NaN</td>\n",
              "      <td>Novel alpha-7 nicotinic acetylcholine receptor...</td>\n",
              "      <td>J. Med. Chem.</td>\n",
              "      <td>2010.0</td>\n",
              "      <td>53.0</td>\n",
              "      <td>11.0</td>\n",
              "      <td>Ghiron C, Haydar SN, Aschmies S, Bothmann H, C...</td>\n",
              "      <td>NaN</td>\n",
              "      <td>634700.0</td>\n",
              "      <td>DTCT0023221</td>\n",
              "      <td>3345979</td>\n",
              "      <td>DTCC00645980</td>\n",
              "      <td>652015</td>\n",
              "      <td>39082</td>\n",
              "      <td>4.522879</td>\n",
              "      <td>7</td>\n",
              "      <td>44611875</td>\n",
              "      <td>C1CCN(CC1)CCCCNC(=O)NC2=CN=C(C=C2)C3=CN=C(C=C3)F</td>\n",
              "      <td>O=C(NCCCCN1CCCCC1)Nc1ccc(-c2ccc(F)nc2)nc1</td>\n",
              "    </tr>\n",
              "  </tbody>\n",
              "</table>\n",
              "</div>"
            ],
            "text/plain": [
              "     compound_id  ...                                       rdkit_smiles\n",
              "0   CHEMBL100086  ...  COc1cccc(CN2CCN(C3CCC(O)(c4ccc5c(c4)OCO5)CC3)C...\n",
              "1  CHEMBL1082723  ...  CC1Cc2c([nH]c3cc(Cl)c(F)cc23)C2(N1)C(=O)Nc1ccc...\n",
              "2  CHEMBL1083485  ...            O=C(NCCCCN1CCCCC1)Nc1ccc(-c2ccccc2F)nc1\n",
              "3  CHEMBL1083787  ...          O=C(NCCCCN1CCCCC1)Nc1ccc(-c2ccc(F)cc2)nc1\n",
              "4  CHEMBL1083788  ...          O=C(NCCCCN1CCCCC1)Nc1ccc(-c2ccc(F)nc2)nc1\n",
              "\n",
              "[5 rows x 48 columns]"
            ]
          },
          "metadata": {},
          "execution_count": 31
        }
      ]
    },
    {
      "cell_type": "markdown",
      "metadata": {
        "id": "miN7240L-Bc4"
      },
      "source": [
        "## Use AMPL for transforming IC50 values"
      ]
    },
    {
      "cell_type": "code",
      "metadata": {
        "colab": {
          "base_uri": "https://localhost:8080/",
          "height": 439
        },
        "id": "inaUPauW-BFE",
        "outputId": "614bbb79-4910-4a3a-c0ff-a55cf6c16b20"
      },
      "source": [
        "# From our dataframe, we are working with the PIC50 column \n",
        "# !=np.inf uses the Numpy library and the != portion checks to see if the value \n",
        "# of two operands, the object of an operation, are equal. If they are not equal the \n",
        "# condition is true\n",
        "# The np.inf portion indicates the Numpy module which can be used to represent \n",
        "# positive infinite value\n",
        "data=save_smiles_df[save_smiles_df['PIC50'] != np.inf]\n",
        "\n",
        "# Here we are defining our column, which will be PIC50\n",
        "column = 'PIC50'\n",
        "\n",
        "# Here we are using the num_bins parameter to determine the number of bins our data will be divided into, creating 20 different peaks\n",
        "# These peaks will be visualized on our graph\n",
        "num_bins = 20\n",
        "\n",
        "# Here we are setting our title for the graph as our target name \n",
        "title = target_name\n",
        "\n",
        "# Here we are specifying the units that are used, which in our case we are using nanometers \n",
        "units = 'NM'\n",
        "\n",
        "# Using the filepath function, we are defining our file\n",
        "filepath = \"\"\n",
        "\n",
        "# This is the same variable we created earlier called data \n",
        "data=save_smiles_df[save_smiles_df['PIC50'] != np.inf]\n",
        "\n",
        "# Using the summarize_data submodule, we are going to compile a set of data summarization tools to calculate several descriptive features\n",
        "# These features include: column, num_bins, title, units, filepath, and data\n",
        "curate_data.summarize_data(column, num_bins, title, units, filepath, data)"
      ],
      "execution_count": 32,
      "outputs": [
        {
          "output_type": "stream",
          "name": "stdout",
          "text": [
            "Post-processing dataset\n",
            "\n",
            "Total Number of results = 218\n",
            "dataset mean = 5.690126187822705 NM\n",
            "dataset stdev = 1.3271781354945975 NM\n",
            "dataset max = 10.045757490560675 NM\n",
            "dataset min = 3.6000000054478725 NM\n",
            "\n"
          ]
        },
        {
          "output_type": "display_data",
          "data": {
            "image/png": "[encoded data removed]",
            "text/plain": [
              "<Figure size 432x288 with 1 Axes>"
            ]
          },
          "metadata": {
            "needs_background": "light"
          }
        }
      ]
    },
    {
      "cell_type": "markdown",
      "metadata": {
        "id": "Zy41q3hXHwsL"
      },
      "source": [
        "## Let us cluster the compounds to explore the chemical space\n",
        "\n",
        "\n",
        "Project compounds into two dimensions with UMAP and Tanimoto similiarty\n",
        "\n",
        "1.   Cluster compounds by Tanimoto similarity\n",
        "2.   Repeat steps 1 and 2 with Maximum Common Substructure distance when dataset size is below # threshold (default < 300)\n",
        "\n",
        "See documentation here:\n",
        " https://ampl.readthedocs.io/en/latest/pipeline.html?highlight=diversity_plots#pipeline.diversity_plots.diversity_plots\n",
        "\n",
        " </li>"
      ]
    },
    {
      "cell_type": "markdown",
      "metadata": {
        "id": "2WDdVKbYHwsM"
      },
      "source": [
        "# Save output from clustering heatmap to image and upload to presentation"
      ]
    },
    {
      "cell_type": "code",
      "metadata": {
        "scrolled": false,
        "id": "4QproMuzHwsM"
      },
      "source": [
        "ifile = target_name+'_dtc_smiles.csv'"
      ],
      "execution_count": 33,
      "outputs": []
    },
    {
      "cell_type": "markdown",
      "metadata": {
        "id": "yAzI5OzjHwsM"
      },
      "source": [
        "# Plot self similarity (Tanimoto) within dataset and show distribution of distances between compounds in dataset for nearest neighbor.\n",
        "\n",
        "## Save  distribution plot as an image.\n",
        "\n",
        "We will be calling dp.diversity_function from AMPL in the following code chunk. For AMPL function explanations, \n",
        "please consult AMPL documentation here, https://ampl.readthedocs.io/en/latest/pipeline.html?highlight=diversity_plots#pipeline.diversity_plots.diversity_plots "
      ]
    },
    {
      "cell_type": "markdown",
      "metadata": {
        "id": "tFC7Syc6gYBi"
      },
      "source": [
        "## Here is a brief explanation of `dp` function: \n",
        "\n",
        "### The AMPL function will calculate diversity profile for the data. \n",
        "\n",
        "### Input Args:\n",
        "\n",
        "\n",
        "*   **dset_key:** : Name of the input data variable \n",
        "*   **datastore** : \n",
        "*   **id_col**    : Ambit_InchiKey, it is a chemical identifier for the compound or drug molecules. Please check here for a detailed explanation of InChiKey, https://en.wikipedia.org/wiki/International_Chemical_Identifier#:~:text=%2B%2Fm0%2Fs1-,InChIKey,hashed%20counterpart%20of%20standard%20InChI. In this case, Excape is using InChiKey generated from Ambit\n",
        "*   **response_col**: Outcome column, in out case it is pXC50\n",
        "\n",
        "## `dp.diversity_plots` function\n",
        "\n",
        "*    Computes Fingerprints \n",
        "*    If the number of compounds are > 300, it will compute Fingerprints and use it to compute Tanimoto distance matrix. plot the distances using UMAP projection and cluster (complete cluster method will be used) the distances to create a heatmap\n",
        "*   If the number of compounds are < 100, MCS (Maximum Common Substructure) will be used for clustering in addition the above step. \n",
        "\n",
        "\n",
        "## Helpful links\n",
        "\n",
        "* Tanimoto \n",
        "    * https://en.wikipedia.org/wiki/Jaccard_index\n",
        "    * https://en.wikipedia.org/wiki/Chemical_similarity\n",
        "* UMAP\n",
        "    * https://pair-code.github.io/understanding-umap/\n",
        "* MCS\n",
        "    * https://www.ncbi.nlm.nih.gov/pmc/articles/PMC2718661/ "
      ]
    },
    {
      "cell_type": "code",
      "metadata": {
        "colab": {
          "base_uri": "https://localhost:8080/",
          "height": 1000
        },
        "id": "geRQnqPngVMo",
        "outputId": "a526054f-1c13-4257-c72b-de5e57798b5c"
      },
      "source": [
        "dp.diversity_plots(dset_key = ifile,\n",
        "                   datastore = False,\n",
        "                   response_col = 'PIC50',\n",
        "                   max_for_mcs = 100)"
      ],
      "execution_count": 34,
      "outputs": [
        {
          "output_type": "stream",
          "name": "stdout",
          "text": [
            "Canonicalizing 183 molecules...\n",
            "Done\n",
            "Computing fingerprints...\n",
            "Done\n",
            "Computing Tanimoto distance matrix...\n",
            "Done\n"
          ]
        },
        {
          "output_type": "display_data",
          "data": {
            "image/png": "[encoded data removed]",
            "text/plain": [
              "<Figure size 864x864 with 1 Axes>"
            ]
          },
          "metadata": {
            "needs_background": "light"
          }
        },
        {
          "output_type": "display_data",
          "data": {
            "image/png": "[encoded data removed]",
            "text/plain": [
              "<Figure size 864x864 with 4 Axes>"
            ]
          },
          "metadata": {
            "needs_background": "light"
          }
        }
      ]
    },
    {
      "cell_type": "code",
      "metadata": {
        "colab": {
          "base_uri": "https://localhost:8080/"
        },
        "id": "CQLUJL5_Aq2g",
        "outputId": "f1211093-78c4-48ce-f0b2-7fa827c36e31"
      },
      "source": [
        "data.shape"
      ],
      "execution_count": 35,
      "outputs": [
        {
          "output_type": "execute_result",
          "data": {
            "text/plain": [
              "(218, 48)"
            ]
          },
          "metadata": {},
          "execution_count": 35
        }
      ]
    },
    {
      "cell_type": "markdown",
      "metadata": {
        "id": "JWr5VyXpqpM1"
      },
      "source": [
        "## Self similarity (Tanimoto) \n",
        "\n",
        "Calculate self-similarity (using Tanimoto) for the dataset and plot the distanes. "
      ]
    },
    {
      "cell_type": "code",
      "metadata": {
        "scrolled": true,
        "id": "tG_217EPHwsM"
      },
      "source": [
        "feat_type = 'ECFP'\n",
        "dist_metric = 'tanimoto'\n",
        "smiles_lst1 = data['rdkit_smiles'].tolist()\n",
        "calc_type = 'nearest'\n",
        "dist_sample = cd.calc_dist_smiles(feat_type, dist_metric, smiles_lst1, None, calc_type)"
      ],
      "execution_count": 36,
      "outputs": []
    },
    {
      "cell_type": "code",
      "metadata": {
        "colab": {
          "base_uri": "https://localhost:8080/"
        },
        "id": "hCD85wGzx7gW",
        "outputId": "c3240fcc-f1a9-4f24-cc2b-bca8d5543602"
      },
      "source": [
        "print(len(dist_sample))\n",
        "print(len(smiles_lst1))"
      ],
      "execution_count": 37,
      "outputs": [
        {
          "output_type": "stream",
          "name": "stdout",
          "text": [
            "218\n",
            "218\n"
          ]
        }
      ]
    },
    {
      "cell_type": "markdown",
      "metadata": {
        "id": "ecuqss6kgl7I"
      },
      "source": [
        "## What does **calc_dist_smiles** function return? \n",
        "\n",
        "\n",
        "*   input is a list of SMILES strings\n",
        "*   data featurization: ECFP (Fingerprint)\n",
        "*   What distance metric to use? Tanimoto\n",
        "*   How to process distance matrix, nearest ?\n",
        "*   returns a distance matrix as a vector of distances\n",
        "\n",
        "Here is the function summary:\n",
        "\n",
        "*   rdkit is used to transform SMILES to mols\n",
        "*   mols to FP (Morgan, 1024 FP)\n",
        "*   calls calc_summary with the following options: \n",
        "         * fprints1 is the FP \n",
        "         * fprints2 is none \n",
        "         * dist_metrics will return a distance matrix\n",
        "    calc_summary(dist_metrics.tanimoto(fprints1, fprints2), calc_type=nearest, num_nearest=1, within_dset=True)\n",
        "\n",
        "* Finally, returns the distances of each atom to its closest neighbor \n"
      ]
    },
    {
      "cell_type": "markdown",
      "metadata": {
        "id": "H8En9iSCrHnA"
      },
      "source": [
        "\n",
        "## Explanation for the following code chunk\n",
        "\n",
        "* **scipy.stats.kde** will use kernel density function to estimate the probability density function (PDE)\n",
        "---\n",
        "\n"
      ]
    },
    {
      "cell_type": "code",
      "metadata": {
        "scrolled": false,
        "id": "vcXZQBLrHwsN",
        "colab": {
          "base_uri": "https://localhost:8080/",
          "height": 534
        },
        "outputId": "17504629-4e4f-44fa-dfaf-708cb13caf48"
      },
      "source": [
        "from scipy.stats.kde import gaussian_kde\n",
        "\n",
        "# import math library\n",
        "import numpy as np\n",
        "\n",
        "# for creating plots\n",
        "import matplotlib.pyplot as plt\n",
        "\n",
        "# current directory\n",
        "odir='./'\n",
        "\n",
        "# name for the task\n",
        "task_name='within dataset'\n",
        "\n",
        "# https://docs.scipy.org/doc/scipy/reference/generated/scipy.stats.gaussian_kde.html\n",
        "dist_pdf = gaussian_kde(dist_sample)\n",
        "x_plt = np.linspace(min(dist_sample), max(dist_sample), 500)\n",
        "y_plt = dist_pdf(x_plt)    \n",
        "fig, ax = plt.subplots(figsize=(8.0,8.0))\n",
        "ax.plot(x_plt, y_plt, color='forestgreen')\n",
        "ax.set_xlabel('%s distance' % dist_metric)\n",
        "ax.set_ylabel('Density')\n",
        "ax.set_title(\"%s dataset\\nDistribution of %s distances between %s feature vectors\" % (\n",
        "              task_name, dist_metric, feat_type))\n",
        "fig.savefig(odir+'distance_to_background_mol.png')"
      ],
      "execution_count": 38,
      "outputs": [
        {
          "output_type": "display_data",
          "data": {
            "image/png": "[encoded data removed]",
            "text/plain": [
              "<Figure size 576x576 with 1 Axes>"
            ]
          },
          "metadata": {
            "needs_background": "light"
          }
        }
      ]
    },
    {
      "cell_type": "code",
      "metadata": {
        "id": "101z-_vAhdlp",
        "colab": {
          "base_uri": "https://localhost:8080/"
        },
        "outputId": "aa68c372-57e1-4a9b-882c-7fe56833cc0e"
      },
      "source": [
        "!date # ending time"
      ],
      "execution_count": 39,
      "outputs": [
        {
          "output_type": "stream",
          "name": "stdout",
          "text": [
            "Wed Sep 15 15:43:39 UTC 2021\n"
          ]
        }
      ]
    }
  ]
}