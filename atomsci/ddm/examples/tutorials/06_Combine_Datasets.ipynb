{
 "cells": [
  {
   "cell_type": "markdown",
   "metadata": {
    "colab_type": "text",
    "id": "view-in-github"
   },
   "source": [
    "<a href=\"https://colab.research.google.com/github/ATOMScience-org/AMPL/blob/master/atomsci/ddm/examples/tutorials/06_Combine_Datasets.ipynb\" target=\"_parent\"><img src=\"https://colab.research.google.com/assets/colab-badge.svg\" alt=\"Open In Colab\"/></a>"
   ]
  },
  {
   "cell_type": "markdown",
   "metadata": {
    "id": "0V2ybLgAH-0V"
   },
   "source": [
    "# Exploring and combining HTR3A protein target activity data from ExcapeDB and DTC databases. "
   ]
  },
  {
   "cell_type": "markdown",
   "metadata": {
    "id": "nHwxO8KxtOXt"
   },
   "source": [
    "# Scope of the tutorial\n",
    "*   Source of HTR3A drug target binding data came from ExcapeDB and Drug Target Commons (DTC)\n",
    "*   AMPL will be used to accomplish the following steps: \n",
    "  *   Standardize SMILES strings\n",
    "  *   Clean the data (look for duplicates, average the assay data, cluster the compounds etc.)\n",
    "  *   Merge the datasets\n",
    "  *   Carry out some Exploratory Data Analysis (Chemical space exploration; PCA etc.) \n",
    "  *   Save the final dataset for modeling"
   ]
  },
  {
   "cell_type": "markdown",
   "metadata": {
    "id": "FYelWdOkIGwC"
   },
   "source": [
    "# Time to run the notebook on COLAB-Pro: ~ 3 minutes"
   ]
  },
  {
   "cell_type": "markdown",
   "metadata": {
    "id": "mOJKfO8CuCzH"
   },
   "source": [
    "# Protein target (HTR3A) information"
   ]
  },
  {
   "cell_type": "markdown",
   "metadata": {
    "id": "7J41ky8ULQdh"
   },
   "source": [
    "The HTR3A target binding data was downloaded from the following two databases: \n",
    "* ExcapeDB (https://solr.ideaconsult.net/search/excape/)\n",
    "  * Please refer to the ExCAPE-DB publication, https://pubmed.ncbi.nlm.nih.gov/28316655/, for details about the database \n",
    "\n",
    "* Drug Target Commons (https://drugtargetcommons.fimm.fi/)\n",
    "  * Please refer to the DTC publication, https://pubmed.ncbi.nlm.nih.gov/29276046/, for details about the database. "
   ]
  },
  {
   "cell_type": "markdown",
   "metadata": {
    "id": "fNXeDd1Dt9SL"
   },
   "source": [
    "Here are some details about HTR3A gene (taken from RefSeq NCBI)\n",
    "\n",
    "\n",
    "*   Proteins belongs to GPCR superfamily\n",
    "*   HTR3a is a receptor for Serotonin, a biogenic hormone that functions as a neurotransmitter\n",
    "*   HTR3A (also the name of the gene) encodes the subunit of the type 3 receptor for neurotransmitter \n",
    "*   Herteromeric combination of subunit A and B (HTR3B) is needed for full function. \n",
    "*   Different alternately spliced transcript variant forms for this gene are available.  "
   ]
  },
  {
   "cell_type": "markdown",
   "metadata": {
    "id": "Lc0NQTi1t4jH"
   },
   "source": [
    "## Additional information about HTR3A gene:\n",
    "\n",
    "**Gene location:** Chromosome 11\n",
    "**Exon count:** 10\n",
    "\n",
    "mRNA and protein information for its three transcripts:\n",
    "\n",
    "*   NM_000869.6 → NP_000860.3 \n",
    "*   NM_001161772.3 → NP_001155244.1\n",
    "*   NM_213621.4 → NP_998786.3 "
   ]
  },
  {
   "cell_type": "markdown",
   "metadata": {
    "id": "od_Bn9W5gCh9"
   },
   "source": [
    "# Before you begin, make sure you close all other COLAB notebooks. "
   ]
  },
  {
   "cell_type": "markdown",
   "metadata": {
    "id": "2DWqm4Cxm5h_"
   },
   "source": [
    "# Change Runtime settings\n",
    "If you have access to COLAB-Pro (commercial/not-free), please change your runtime settings to use GPU and high-memory,\n",
    "\n",
    "```Runtime --> Change Runtime Type --> GPU with high-RAM```\n",
    "\n",
    "If you are not a paid COLAB-Pro customer, you can still choose GPU, with standard-RAM."
   ]
  },
  {
   "cell_type": "code",
   "execution_count": 1,
   "metadata": {
    "colab": {
     "base_uri": "https://localhost:8080/"
    },
    "id": "oTrsX65u2wzG",
    "outputId": "c2f57b80-8d13-4594-e9f3-0a499c194ba7"
   },
   "outputs": [
    {
     "name": "stdout",
     "output_type": "stream",
     "text": [
      "Fri Sep 17 13:14:04 UTC 2021\n"
     ]
    }
   ],
   "source": [
    "!date # starting time"
   ]
  },
  {
   "cell_type": "markdown",
   "metadata": {
    "id": "EYE99bW128O1"
   },
   "source": [
    "## Install AMPL"
   ]
  },
  {
   "cell_type": "code",
   "execution_count": null,
   "metadata": {
    "id": "TW1L0cVrIqxm"
   },
   "outputs": [],
   "source": [
    "! pip install rdkit-pypi\n",
    "! pip install deepchem\n",
    "\n",
    "import deepchem\n",
    "# print(deepchem.__version__)\n",
    "! pip install umap\n",
    "! pip install -U --ignore-installed numba\n",
    "! pip install umap-learn\n",
    "! pip install molvs\n",
    "! pip install bravado"
   ]
  },
  {
   "cell_type": "code",
   "execution_count": null,
   "metadata": {
    "id": "QwpF6FmwuP-t"
   },
   "outputs": [],
   "source": [
    "import deepchem as dc\n",
    "\n",
    "# get the Install AMPL_GPU_test.sh\n",
    "!wget 'https://raw.githubusercontent.com/ATOMScience-org/AMPL/master/atomsci/ddm/examples/tutorials/config/install_AMPL_GPU_test.sh'\n",
    "\n",
    "# run the script to install AMPL\n",
    "! chmod u+x install_AMPL_GPU_test.sh\n",
    "! ./install_AMPL_GPU_test.sh"
   ]
  },
  {
   "cell_type": "markdown",
   "metadata": {
    "id": "ficxcAXp3MDR"
   },
   "source": [
    "## Exploring target activity data from selected database\n",
    "## Data source = ExcapeDB\n",
    "## Target activity for the receptor HTR3A"
   ]
  },
  {
   "cell_type": "code",
   "execution_count": 4,
   "metadata": {
    "id": "imuHt43N3WZ1"
   },
   "outputs": [],
   "source": [
    "# We temporarily disable warnings for demonstration.\n",
    "# FutureWarnings and DeprecationWarnings are present from some of the AMPL \n",
    "# dependency modules.\n",
    "import warnings\n",
    "warnings.filterwarnings('ignore')\n",
    "import json\n",
    "import os\n",
    "import requests"
   ]
  },
  {
   "cell_type": "code",
   "execution_count": 5,
   "metadata": {
    "id": "cgWpnMWG3aBS"
   },
   "outputs": [],
   "source": [
    "#\n",
    "# Import AMPL libraries\n",
    "# \n",
    "import atomsci.ddm.utils.data_curation_functions as dcf\n",
    "import atomsci.ddm.utils.curate_data as curate_data\n",
    "import atomsci.ddm.pipeline.diversity_plots as dp\n",
    "import atomsci.ddm.pipeline.chem_diversity as cd\n",
    "# Additional python libraries\n",
    "import pandas as pd\n",
    "import numpy as np\n",
    "import getpass,os"
   ]
  },
  {
   "cell_type": "code",
   "execution_count": 6,
   "metadata": {
    "id": "DNrJZc8TXcVY"
   },
   "outputs": [],
   "source": [
    "from matplotlib_venn import venn2\n",
    "import getpass, os\n",
    "import pandas as pd\n",
    "import matplotlib.pyplot as plt\n",
    "import atomsci.ddm.utils.curate_data as curate_data\n",
    "import atomsci.ddm.pipeline.chem_diversity as cd"
   ]
  },
  {
   "cell_type": "markdown",
   "metadata": {
    "id": "IHs9W--43e47"
   },
   "source": [
    "## Select a target to work with \n",
    "### (e.g. PDE2A, KCNH2, SCNA5)"
   ]
  },
  {
   "cell_type": "code",
   "execution_count": 7,
   "metadata": {
    "id": "Woten-IlXcVf"
   },
   "outputs": [],
   "source": [
    "target_name='HTR3A'"
   ]
  },
  {
   "cell_type": "code",
   "execution_count": 8,
   "metadata": {
    "id": "-1QfIZYJ8-bT"
   },
   "outputs": [],
   "source": [
    "import io\n",
    "\n",
    "url1='https://raw.githubusercontent.com/ATOMScience-org/AMPL/master/atomsci/ddm/examples/tutorials/datasets/HTR3A_dtc_smiles_curated.csv'\n",
    "url2='https://raw.githubusercontent.com/ATOMScience-org/AMPL/master/atomsci/ddm/examples/tutorials/datasets/HTR3A_excape_curated.csv'\n",
    "\n",
    "download = requests.get(url2).content\n",
    "\n",
    "# Reading the downloaded content and turning it into a pandas dataframe\n",
    "d2_df = pd.read_csv(io.StringIO(download.decode('utf-8')), sep=',', header=0 )\n",
    "\n",
    "download = requests.get(url1).content\n",
    "\n",
    "# Reading the downloaded content and turning it into a pandas dataframe\n",
    "d1_df = pd.read_csv(io.StringIO(download.decode('utf-8')), sep=',', header=0 )"
   ]
  },
  {
   "cell_type": "code",
   "execution_count": 9,
   "metadata": {
    "colab": {
     "base_uri": "https://localhost:8080/"
    },
    "id": "y8mqsOsV-k2t",
    "outputId": "25d421f5-a06d-4fda-82cd-e4812a736edb"
   },
   "outputs": [
    {
     "name": "stdout",
     "output_type": "stream",
     "text": [
      "Index(['compound_id', 'rdkit_smiles', 'PIC50', 'active'], dtype='object')\n"
     ]
    }
   ],
   "source": [
    "d1a_df=d1_df.drop(columns=['relation'])\n",
    "d1a_df.rename( columns={ \"base_rdkit_smiles\" : \"rdkit_smiles\" }, inplace=True)\n",
    "print(d1a_df.columns)"
   ]
  },
  {
   "cell_type": "code",
   "execution_count": 10,
   "metadata": {
    "colab": {
     "base_uri": "https://localhost:8080/"
    },
    "id": "mNTjPHaUXcVh",
    "outputId": "695ce5cd-841d-41c5-c832-a8e7bf5e750b"
   },
   "outputs": [
    {
     "name": "stdout",
     "output_type": "stream",
     "text": [
      "Index(['compound_id', 'active', 'rdkit_smiles', 'PXC50'], dtype='object')\n"
     ]
    }
   ],
   "source": [
    "d2a_df=d2_df.drop(columns=['Original_Entry_ID', 'Entrez_ID','PXC50', 'DB', \n",
    "                           'Original_Assay_ID', 'Tax_ID', 'Gene_Symbol',\n",
    "                           'VALUE_NUM_std', 'Perc_Var', 'Remove_BadDuplicate',\n",
    "                           'Ortholog_Group', 'InChI', 'SMILES'])\n",
    "d2a_df.rename( columns={ \"Activity_Flag\" : \"active\", \"VALUE_NUM_mean\": \"PXC50\" }, \n",
    "              inplace=True)\n",
    "\n",
    "\n",
    "print(d2a_df.columns)"
   ]
  },
  {
   "cell_type": "code",
   "execution_count": 11,
   "metadata": {
    "id": "VF3tJ_pgAJAK"
   },
   "outputs": [],
   "source": [
    "d1a_df.rename( columns={\"PIC50\" : \"PXC50\"}, inplace = True)"
   ]
  },
  {
   "cell_type": "code",
   "execution_count": 12,
   "metadata": {
    "colab": {
     "base_uri": "https://localhost:8080/",
     "height": 423
    },
    "id": "-FQoSzxBdXC7",
    "outputId": "0bc3d7dc-6e67-4ff7-d49d-f08c8898ea8e"
   },
   "outputs": [
    {
     "data": {
      "text/html": [
       "<div>\n",
       "<style scoped>\n",
       "    .dataframe tbody tr th:only-of-type {\n",
       "        vertical-align: middle;\n",
       "    }\n",
       "\n",
       "    .dataframe tbody tr th {\n",
       "        vertical-align: top;\n",
       "    }\n",
       "\n",
       "    .dataframe thead th {\n",
       "        text-align: right;\n",
       "    }\n",
       "</style>\n",
       "<table border=\"1\" class=\"dataframe\">\n",
       "  <thead>\n",
       "    <tr style=\"text-align: right;\">\n",
       "      <th></th>\n",
       "      <th>compound_id</th>\n",
       "      <th>active</th>\n",
       "      <th>rdkit_smiles</th>\n",
       "      <th>PXC50</th>\n",
       "    </tr>\n",
       "  </thead>\n",
       "  <tbody>\n",
       "    <tr>\n",
       "      <th>0</th>\n",
       "      <td>ABIDZKZAFOTHFB-CCUGXXBONA-N</td>\n",
       "      <td>A</td>\n",
       "      <td>C[C@H]1COC[C@H](C)N1c1nc2c(C(=O)N[C@@H]3CN4CCC...</td>\n",
       "      <td>8.170000</td>\n",
       "    </tr>\n",
       "    <tr>\n",
       "      <th>1</th>\n",
       "      <td>ABSDJNLAUZQHJY-UHFFFAOYNA-N</td>\n",
       "      <td>A</td>\n",
       "      <td>COc1cccc(Sc2ccccc2N2CCNCC2)c1</td>\n",
       "      <td>7.210000</td>\n",
       "    </tr>\n",
       "    <tr>\n",
       "      <th>2</th>\n",
       "      <td>ACKJXXOVSOCBPX-PHLAQJRANA-N</td>\n",
       "      <td>A</td>\n",
       "      <td>Cc1c(N2CCN(C)CC2)nc2ccccc2c1C(=O)NCCCCCCCNc1c2...</td>\n",
       "      <td>8.250905</td>\n",
       "    </tr>\n",
       "    <tr>\n",
       "      <th>3</th>\n",
       "      <td>ADYMTDFOOCWUHC-UHFFFAOYNA-N</td>\n",
       "      <td>A</td>\n",
       "      <td>c1ccc(CCn2c(N3CCNCC3)nc3ccccc32)cc1</td>\n",
       "      <td>8.130000</td>\n",
       "    </tr>\n",
       "    <tr>\n",
       "      <th>4</th>\n",
       "      <td>AFLJKKMTBWNZFE-KAASGWQYNA-N</td>\n",
       "      <td>A</td>\n",
       "      <td>O=C(N[C@H]1CN2CCC1CC2)c1ccc2ccsc2c1</td>\n",
       "      <td>6.760000</td>\n",
       "    </tr>\n",
       "    <tr>\n",
       "      <th>...</th>\n",
       "      <td>...</td>\n",
       "      <td>...</td>\n",
       "      <td>...</td>\n",
       "      <td>...</td>\n",
       "    </tr>\n",
       "    <tr>\n",
       "      <th>591</th>\n",
       "      <td>ZTOYBNWVJQYBOX-KKBRQIQINA-N</td>\n",
       "      <td>A</td>\n",
       "      <td>CN1[C@H]2CCC[C@@H]1C[C@@H](NC(=O)c1cccc3oc(N4C...</td>\n",
       "      <td>7.140000</td>\n",
       "    </tr>\n",
       "    <tr>\n",
       "      <th>592</th>\n",
       "      <td>ZUFRPGFBOPXENO-UHFFFAOYNA-N</td>\n",
       "      <td>A</td>\n",
       "      <td>CC1CCC2=NC(=CCCCN3CCN(c4ccc5ccccc5n4)CC3)N(N)C...</td>\n",
       "      <td>7.320000</td>\n",
       "    </tr>\n",
       "    <tr>\n",
       "      <th>593</th>\n",
       "      <td>ZXDOWRQWHIUDFJ-ALLFDXPCNA-N</td>\n",
       "      <td>A</td>\n",
       "      <td>CN1[C@H]2CCC[C@@H]1CC(NC(=O)c1cccc3nc(-c4ccccc...</td>\n",
       "      <td>7.393620</td>\n",
       "    </tr>\n",
       "    <tr>\n",
       "      <th>594</th>\n",
       "      <td>ZXDOWRQWHIUDFJ-JJVVVXOKNA-N</td>\n",
       "      <td>A</td>\n",
       "      <td>CN1[C@H]2CCC[C@@H]1C[C@@H](NC(=O)c1cccc3nc(-c4...</td>\n",
       "      <td>7.390000</td>\n",
       "    </tr>\n",
       "    <tr>\n",
       "      <th>595</th>\n",
       "      <td>ZXEGJFBTERHJCI-UHFFFAOYNA-N</td>\n",
       "      <td>A</td>\n",
       "      <td>NN1C(=O)C2CCCCC2=NC1=CCCCN1CCN(c2ccc3ccccc3n2)CC1</td>\n",
       "      <td>8.330000</td>\n",
       "    </tr>\n",
       "  </tbody>\n",
       "</table>\n",
       "<p>596 rows × 4 columns</p>\n",
       "</div>"
      ],
      "text/plain": [
       "                     compound_id  ...     PXC50\n",
       "0    ABIDZKZAFOTHFB-CCUGXXBONA-N  ...  8.170000\n",
       "1    ABSDJNLAUZQHJY-UHFFFAOYNA-N  ...  7.210000\n",
       "2    ACKJXXOVSOCBPX-PHLAQJRANA-N  ...  8.250905\n",
       "3    ADYMTDFOOCWUHC-UHFFFAOYNA-N  ...  8.130000\n",
       "4    AFLJKKMTBWNZFE-KAASGWQYNA-N  ...  6.760000\n",
       "..                           ...  ...       ...\n",
       "591  ZTOYBNWVJQYBOX-KKBRQIQINA-N  ...  7.140000\n",
       "592  ZUFRPGFBOPXENO-UHFFFAOYNA-N  ...  7.320000\n",
       "593  ZXDOWRQWHIUDFJ-ALLFDXPCNA-N  ...  7.393620\n",
       "594  ZXDOWRQWHIUDFJ-JJVVVXOKNA-N  ...  7.390000\n",
       "595  ZXEGJFBTERHJCI-UHFFFAOYNA-N  ...  8.330000\n",
       "\n",
       "[596 rows x 4 columns]"
      ]
     },
     "execution_count": 12,
     "metadata": {},
     "output_type": "execute_result"
    }
   ],
   "source": [
    "d2a_df"
   ]
  },
  {
   "cell_type": "code",
   "execution_count": 13,
   "metadata": {
    "colab": {
     "base_uri": "https://localhost:8080/",
     "height": 423
    },
    "id": "xJ4KnjSuAMQT",
    "outputId": "6745149d-a716-4c92-a1c0-d2b9fa200990"
   },
   "outputs": [
    {
     "data": {
      "text/html": [
       "<div>\n",
       "<style scoped>\n",
       "    .dataframe tbody tr th:only-of-type {\n",
       "        vertical-align: middle;\n",
       "    }\n",
       "\n",
       "    .dataframe tbody tr th {\n",
       "        vertical-align: top;\n",
       "    }\n",
       "\n",
       "    .dataframe thead th {\n",
       "        text-align: right;\n",
       "    }\n",
       "</style>\n",
       "<table border=\"1\" class=\"dataframe\">\n",
       "  <thead>\n",
       "    <tr style=\"text-align: right;\">\n",
       "      <th></th>\n",
       "      <th>compound_id</th>\n",
       "      <th>rdkit_smiles</th>\n",
       "      <th>PXC50</th>\n",
       "      <th>active</th>\n",
       "    </tr>\n",
       "  </thead>\n",
       "  <tbody>\n",
       "    <tr>\n",
       "      <th>0</th>\n",
       "      <td>WLYLIKBNGQZDFH-UHFFFAOYSA-N</td>\n",
       "      <td>O=C(NCCCN1CCOCC1)c1ccc2c(=O)n(Cc3ccc(Cl)cc3)c(...</td>\n",
       "      <td>5.886057</td>\n",
       "      <td>0</td>\n",
       "    </tr>\n",
       "    <tr>\n",
       "      <th>1</th>\n",
       "      <td>PNHTUMMCJLWVTR-UHFFFAOYSA-N</td>\n",
       "      <td>COc1ccc(-c2cc(NC(=O)CCCCN3CCCOCC3)n[nH]2)cc1</td>\n",
       "      <td>4.522879</td>\n",
       "      <td>0</td>\n",
       "    </tr>\n",
       "    <tr>\n",
       "      <th>2</th>\n",
       "      <td>PYCJRTFNOGPLEL-UHFFFAOYSA-N</td>\n",
       "      <td>Nn1c(CCCCN2CCN(c3ccc4ccccc4n3)CC2)nc2cc(Cl)ccc...</td>\n",
       "      <td>7.000000</td>\n",
       "      <td>1</td>\n",
       "    </tr>\n",
       "    <tr>\n",
       "      <th>3</th>\n",
       "      <td>MMIPHEFKLSFNNB-MWGLOKQDSA-L</td>\n",
       "      <td>COc1ccc(C[N+]23CCC4C5C6C(CC42)C(=CCOC6N2c4cccc...</td>\n",
       "      <td>4.511439</td>\n",
       "      <td>0</td>\n",
       "    </tr>\n",
       "    <tr>\n",
       "      <th>4</th>\n",
       "      <td>PWVBQEUMVVPFJT-UHFFFAOYSA-N</td>\n",
       "      <td>Nn1c(CCCCN2CCN(c3ccc4ccccc4n3)CC2)nc2cc(F)ccc2...</td>\n",
       "      <td>7.000000</td>\n",
       "      <td>1</td>\n",
       "    </tr>\n",
       "    <tr>\n",
       "      <th>...</th>\n",
       "      <td>...</td>\n",
       "      <td>...</td>\n",
       "      <td>...</td>\n",
       "      <td>...</td>\n",
       "    </tr>\n",
       "    <tr>\n",
       "      <th>165</th>\n",
       "      <td>CZWQBSKNHUVZLI-UHFFFAOYSA-N</td>\n",
       "      <td>c1ccc(Cc2ncc3c(n2)CCNCC3)cc1</td>\n",
       "      <td>5.638272</td>\n",
       "      <td>0</td>\n",
       "    </tr>\n",
       "    <tr>\n",
       "      <th>166</th>\n",
       "      <td>QZHACJCMCCGZRU-UHFFFAOYSA-N</td>\n",
       "      <td>Cc1cc(N2CCN(CCCCc3nc4c(c(=O)n3N)CCCC4)CC2)nc2c...</td>\n",
       "      <td>7.228413</td>\n",
       "      <td>1</td>\n",
       "    </tr>\n",
       "    <tr>\n",
       "      <th>167</th>\n",
       "      <td>FALASSBEVXPICK-UHFFFAOYSA-N</td>\n",
       "      <td>CCCn1c(=O)[nH]c2cc(C(=O)NCCN3CCCCC3)ccc2c1=O</td>\n",
       "      <td>5.657577</td>\n",
       "      <td>0</td>\n",
       "    </tr>\n",
       "    <tr>\n",
       "      <th>168</th>\n",
       "      <td>YMGCQAHDDYCKLB-UHFFFAOYSA-N</td>\n",
       "      <td>CC1CCCCN1CCCNC(=O)c1ccc2c(=O)n(Cc3ccc(Cl)cc3)c...</td>\n",
       "      <td>4.935542</td>\n",
       "      <td>0</td>\n",
       "    </tr>\n",
       "    <tr>\n",
       "      <th>169</th>\n",
       "      <td>JIWMRJSKGUAANW-UHFFFAOYSA-N</td>\n",
       "      <td>Nn1c(SCCCN2CCN(c3ccc4ccccc4n3)CC2)nc2sc3c(c2c1...</td>\n",
       "      <td>7.383000</td>\n",
       "      <td>1</td>\n",
       "    </tr>\n",
       "  </tbody>\n",
       "</table>\n",
       "<p>170 rows × 4 columns</p>\n",
       "</div>"
      ],
      "text/plain": [
       "                     compound_id  ... active\n",
       "0    WLYLIKBNGQZDFH-UHFFFAOYSA-N  ...      0\n",
       "1    PNHTUMMCJLWVTR-UHFFFAOYSA-N  ...      0\n",
       "2    PYCJRTFNOGPLEL-UHFFFAOYSA-N  ...      1\n",
       "3    MMIPHEFKLSFNNB-MWGLOKQDSA-L  ...      0\n",
       "4    PWVBQEUMVVPFJT-UHFFFAOYSA-N  ...      1\n",
       "..                           ...  ...    ...\n",
       "165  CZWQBSKNHUVZLI-UHFFFAOYSA-N  ...      0\n",
       "166  QZHACJCMCCGZRU-UHFFFAOYSA-N  ...      1\n",
       "167  FALASSBEVXPICK-UHFFFAOYSA-N  ...      0\n",
       "168  YMGCQAHDDYCKLB-UHFFFAOYSA-N  ...      0\n",
       "169  JIWMRJSKGUAANW-UHFFFAOYSA-N  ...      1\n",
       "\n",
       "[170 rows x 4 columns]"
      ]
     },
     "execution_count": 13,
     "metadata": {},
     "output_type": "execute_result"
    }
   ],
   "source": [
    "d1a_df"
   ]
  },
  {
   "cell_type": "code",
   "execution_count": 14,
   "metadata": {
    "colab": {
     "base_uri": "https://localhost:8080/",
     "height": 284
    },
    "id": "LDLfLfCmXcVj",
    "outputId": "2ab81832-66ca-4fc2-9451-2bcd2c62fad3"
   },
   "outputs": [
    {
     "data": {
      "text/plain": [
       "Text(0.5, 1.0, 'HTR3A')"
      ]
     },
     "execution_count": 14,
     "metadata": {},
     "output_type": "execute_result"
    },
    {
     "data": {
      "image/png": "[encoded data removed]",
      "text/plain": [
       "<Figure size 432x288 with 1 Axes>"
      ]
     },
     "metadata": {},
     "output_type": "display_data"
    }
   ],
   "source": [
    "# Plot venn3 distribution \n",
    "d1_s = d1a_df['rdkit_smiles'].tolist()\n",
    "d2_s = d2a_df['rdkit_smiles'].tolist()\n",
    "#display(d1_s)\n",
    "#display(d2_s)\n",
    "dlst = [set(d1_s),set(d2_s)]\n",
    "\n",
    "fig = plt.figure()\n",
    "venn2(dlst, ('DTC', 'Excape'))\n",
    "plt.title(target_name)\n",
    "#fig.savefig('./plots/'+target_name+'_union_venn.png')\n",
    "#fig"
   ]
  },
  {
   "cell_type": "markdown",
   "metadata": {
    "id": "9yJZEzXV_MDK"
   },
   "source": [
    "## Combine d1a_df and d2a_df dataframes "
   ]
  },
  {
   "cell_type": "code",
   "execution_count": 15,
   "metadata": {
    "id": "Kg5Ym1khXcVk"
   },
   "outputs": [],
   "source": [
    "comb_df=pd.concat([d1a_df, d2a_df])"
   ]
  },
  {
   "cell_type": "code",
   "execution_count": 16,
   "metadata": {
    "colab": {
     "base_uri": "https://localhost:8080/"
    },
    "id": "LPHoZLGS_3dd",
    "outputId": "1f47eafa-99d5-41c5-a55e-b1a203192a58"
   },
   "outputs": [
    {
     "data": {
      "text/plain": [
       "Index(['compound_id', 'rdkit_smiles', 'PXC50', 'active'], dtype='object')"
      ]
     },
     "execution_count": 16,
     "metadata": {},
     "output_type": "execute_result"
    }
   ],
   "source": [
    "comb_df.columns"
   ]
  },
  {
   "cell_type": "code",
   "execution_count": 17,
   "metadata": {
    "colab": {
     "base_uri": "https://localhost:8080/",
     "height": 206
    },
    "id": "rMAq5teq_-jz",
    "outputId": "43f68f91-4101-444f-cad0-a0bd1b61fd35"
   },
   "outputs": [
    {
     "data": {
      "text/html": [
       "<div>\n",
       "<style scoped>\n",
       "    .dataframe tbody tr th:only-of-type {\n",
       "        vertical-align: middle;\n",
       "    }\n",
       "\n",
       "    .dataframe tbody tr th {\n",
       "        vertical-align: top;\n",
       "    }\n",
       "\n",
       "    .dataframe thead th {\n",
       "        text-align: right;\n",
       "    }\n",
       "</style>\n",
       "<table border=\"1\" class=\"dataframe\">\n",
       "  <thead>\n",
       "    <tr style=\"text-align: right;\">\n",
       "      <th></th>\n",
       "      <th>compound_id</th>\n",
       "      <th>rdkit_smiles</th>\n",
       "      <th>PXC50</th>\n",
       "      <th>active</th>\n",
       "    </tr>\n",
       "  </thead>\n",
       "  <tbody>\n",
       "    <tr>\n",
       "      <th>0</th>\n",
       "      <td>WLYLIKBNGQZDFH-UHFFFAOYSA-N</td>\n",
       "      <td>O=C(NCCCN1CCOCC1)c1ccc2c(=O)n(Cc3ccc(Cl)cc3)c(...</td>\n",
       "      <td>5.886057</td>\n",
       "      <td>0</td>\n",
       "    </tr>\n",
       "    <tr>\n",
       "      <th>1</th>\n",
       "      <td>PNHTUMMCJLWVTR-UHFFFAOYSA-N</td>\n",
       "      <td>COc1ccc(-c2cc(NC(=O)CCCCN3CCCOCC3)n[nH]2)cc1</td>\n",
       "      <td>4.522879</td>\n",
       "      <td>0</td>\n",
       "    </tr>\n",
       "    <tr>\n",
       "      <th>2</th>\n",
       "      <td>PYCJRTFNOGPLEL-UHFFFAOYSA-N</td>\n",
       "      <td>Nn1c(CCCCN2CCN(c3ccc4ccccc4n3)CC2)nc2cc(Cl)ccc...</td>\n",
       "      <td>7.000000</td>\n",
       "      <td>1</td>\n",
       "    </tr>\n",
       "    <tr>\n",
       "      <th>3</th>\n",
       "      <td>MMIPHEFKLSFNNB-MWGLOKQDSA-L</td>\n",
       "      <td>COc1ccc(C[N+]23CCC4C5C6C(CC42)C(=CCOC6N2c4cccc...</td>\n",
       "      <td>4.511439</td>\n",
       "      <td>0</td>\n",
       "    </tr>\n",
       "    <tr>\n",
       "      <th>4</th>\n",
       "      <td>PWVBQEUMVVPFJT-UHFFFAOYSA-N</td>\n",
       "      <td>Nn1c(CCCCN2CCN(c3ccc4ccccc4n3)CC2)nc2cc(F)ccc2...</td>\n",
       "      <td>7.000000</td>\n",
       "      <td>1</td>\n",
       "    </tr>\n",
       "  </tbody>\n",
       "</table>\n",
       "</div>"
      ],
      "text/plain": [
       "                   compound_id  ... active\n",
       "0  WLYLIKBNGQZDFH-UHFFFAOYSA-N  ...      0\n",
       "1  PNHTUMMCJLWVTR-UHFFFAOYSA-N  ...      0\n",
       "2  PYCJRTFNOGPLEL-UHFFFAOYSA-N  ...      1\n",
       "3  MMIPHEFKLSFNNB-MWGLOKQDSA-L  ...      0\n",
       "4  PWVBQEUMVVPFJT-UHFFFAOYSA-N  ...      1\n",
       "\n",
       "[5 rows x 4 columns]"
      ]
     },
     "execution_count": 17,
     "metadata": {},
     "output_type": "execute_result"
    }
   ],
   "source": [
    "comb_df.head(5)"
   ]
  },
  {
   "cell_type": "code",
   "execution_count": 18,
   "metadata": {
    "colab": {
     "base_uri": "https://localhost:8080/"
    },
    "id": "8IccMSvcXcVk",
    "outputId": "c6cec6fd-e090-42a8-d94a-5f8033fd3bdc"
   },
   "outputs": [
    {
     "name": "stdout",
     "output_type": "stream",
     "text": [
      "Bad duplicates removed from dataset\n",
      "Dataframe size (766, 8)\n",
      "List of 'bad' duplicates removed\n",
      "Empty DataFrame\n",
      "Columns: [compound_id, PXC50, VALUE_NUM_mean, Perc_Var, VALUE_NUM_std]\n",
      "Index: []\n",
      "\n",
      "Dataset de-duplicated\n",
      "Dataframe size (702, 8)\n",
      "New column created with averaged values:  VALUE_NUM_mean\n"
     ]
    }
   ],
   "source": [
    "ofile=target_name+'_combine_curated.csv'\n",
    "\n",
    "# column: Response values column\n",
    "column = 'PXC50'\n",
    "\n",
    "# tolerance: Percentage of individual respsonse values allowed to different \n",
    "# from the average to be included in averaging\n",
    "tolerance = 10\n",
    "\n",
    "# list_bad_duplicates: Print structures with bad duplicates\n",
    "list_bad_duplicates = 'Yes'\n",
    "\n",
    "# max_std: Maximum allowed standard deviation for computed average response value\n",
    "# NOTE: In this example, we set this value very high to disable this feature\n",
    "max_std = 1\n",
    "\n",
    "# compound_id: Compound ID column\n",
    "compound_id = 'compound_id'\n",
    "\n",
    "# smiles_col: SMILES column\n",
    "smiles_col = 'rdkit_smiles'\n",
    "\n",
    "curated_df = curate_data.average_and_remove_duplicates(column, tolerance, \n",
    "                                                       list_bad_duplicates, \n",
    "                                                       comb_df, max_std, \n",
    "                                                       compound_id=compound_id, \n",
    "                                                       smiles_col=smiles_col)"
   ]
  },
  {
   "cell_type": "code",
   "execution_count": 19,
   "metadata": {
    "colab": {
     "base_uri": "https://localhost:8080/",
     "height": 439
    },
    "id": "h9D4OZCBXcVl",
    "outputId": "4a76b4da-c096-4b22-c715-44509e02bc16"
   },
   "outputs": [
    {
     "name": "stdout",
     "output_type": "stream",
     "text": [
      "Post-processing dataset\n",
      "\n",
      "Total Number of results = 702\n",
      "dataset mean = 6.738187704369989 NM\n",
      "dataset stdev = 1.5379201957059792 NM\n",
      "dataset max = 10.5 NM\n",
      "dataset min = 3.06 NM\n",
      "\n"
     ]
    },
    {
     "data": {
      "image/png": "[encoded data removed]",
      "text/plain": [
       "<Figure size 432x288 with 1 Axes>"
      ]
     },
     "metadata": {
      "needs_background": "light"
     },
     "output_type": "display_data"
    }
   ],
   "source": [
    "# Define the outcome column as PXC50\n",
    "column = 'PXC50'\n",
    "\n",
    "# # of 'bins' for the histogram\n",
    "num_bins = 20\n",
    "\n",
    "title = target_name\n",
    "\n",
    "units = 'NM'\n",
    "\n",
    "filepath = \"\"\n",
    "\n",
    "data=curated_df\n",
    "\n",
    "curate_data.summarize_data(column, num_bins, title, units, filepath, data)"
   ]
  },
  {
   "cell_type": "code",
   "execution_count": 20,
   "metadata": {
    "id": "Z4yi4LM-XcVl"
   },
   "outputs": [],
   "source": [
    "feat_type='ECFP'\n",
    "dist_metric='tanimoto'\n",
    "union_s = curated_df['rdkit_smiles'].tolist()\n",
    "\n",
    "smiles_lst1 = d1a_df['rdkit_smiles'].tolist()\n",
    "smiles_lst2 = d2a_df['rdkit_smiles'].tolist()\n",
    "\n",
    "## Have the dataset with more compounds be the point of reference\n",
    "\n",
    "if len(smiles_lst1) > len(smiles_lst2) :\n",
    "    s1,s2=smiles_lst1,smiles_lst2\n",
    "else:\n",
    "    s1,s2=smiles_lst2,smiles_lst1\n",
    "calc_type='nearest'\n",
    "num_nearest = 5\n",
    "dist_sample=cd.calc_dist_smiles(feat_type, dist_metric, s1, s2, calc_type)"
   ]
  },
  {
   "cell_type": "code",
   "execution_count": 21,
   "metadata": {
    "colab": {
     "base_uri": "https://localhost:8080/",
     "height": 534
    },
    "id": "l0AUWd56XcVm",
    "outputId": "b9924e34-5fa5-4e6d-fecc-2908ff178141"
   },
   "outputs": [
    {
     "data": {
      "image/png": "[encoded data removed]",
      "text/plain": [
       "<Figure size 576x576 with 1 Axes>"
      ]
     },
     "metadata": {
      "needs_background": "light"
     },
     "output_type": "display_data"
    }
   ],
   "source": [
    "from scipy.stats.kde import gaussian_kde\n",
    "\n",
    "import numpy as np\n",
    "import matplotlib.pyplot as plt\n",
    "\n",
    "odir='./'\n",
    "task_name='between dataset'\n",
    "dist_pdf = gaussian_kde(dist_sample)\n",
    "x_plt = np.linspace(min(dist_sample), max(dist_sample), 500)\n",
    "y_plt = dist_pdf(x_plt)    \n",
    "fig, ax = plt.subplots(figsize=(8.0,8.0))\n",
    "ax.plot(x_plt, y_plt, color='forestgreen')\n",
    "ax.set_xlabel('%s distance' % dist_metric)\n",
    "ax.set_ylabel('Density')\n",
    "ax.set_title(\"%s dataset\\nDistribution of %s distances between %s feature vectors\" % (\n",
    "              task_name, dist_metric, feat_type))\n",
    "fig.savefig(odir+'distance_to_background_mol.png')"
   ]
  },
  {
   "cell_type": "code",
   "execution_count": 22,
   "metadata": {
    "colab": {
     "base_uri": "https://localhost:8080/"
    },
    "id": "dgCjwM-m9rO_",
    "outputId": "02a5566b-99f0-4e26-db4d-7215414203a6"
   },
   "outputs": [
    {
     "name": "stdout",
     "output_type": "stream",
     "text": [
      "Fri Sep 17 13:15:33 UTC 2021\n"
     ]
    }
   ],
   "source": [
    "!date\n"
   ]
  }
 ],
 "metadata": {
  "colab": {
   "collapsed_sections": [],
   "include_colab_link": true,
   "name": "06_Combine_Datasets.ipynb",
   "provenance": []
  },
  "kernelspec": {
   "display_name": "Python 3",
   "language": "python",
   "name": "python3"
  },
  "language_info": {
   "codemirror_mode": {
    "name": "ipython",
    "version": 3
   },
   "file_extension": ".py",
   "mimetype": "text/x-python",
   "name": "python",
   "nbconvert_exporter": "python",
   "pygments_lexer": "ipython3",
   "version": "3.7.2"
  }
 },
 "nbformat": 4,
 "nbformat_minor": 4
}
