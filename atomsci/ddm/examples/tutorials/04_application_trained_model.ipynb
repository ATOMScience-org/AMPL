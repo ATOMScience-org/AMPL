{
 "cells": [
  {
   "cell_type": "markdown",
   "id": "0b6d9f19-4aae-4f5d-b3d0-6274da1fac92",
   "metadata": {},
   "source": [
    "# Application of a Trained Model\n",
    "\n",
    "In this tutorial we will show you how to use a trained model to make predictions for a new set of compounds. As an example, we will take the model trained in \"**Tutorial 3: Train a Simple Regression Model**\", which predicts $pK_i$ values for inhibition of SLC6A3, and apply it to the test subset compounds from the original training dataset. Since we know the actual $pK_i$ values for these compounds, we will then plot the predicted values against the actual values to see how well the model performs on this compound set. \n",
    "\n",
    "This tutorial focuses on these **[AMPL](https://github.com/ATOMScience-org/AMPL)** functions:\n",
    "\n",
    "* [predict_from_model_file](https://ampl.readthedocs.io/en/latest/pipeline.html#pipeline.predict_from_model.predict_from_model_file)\n",
    "* [plot_pred_vs_actual_from_df](https://ampl.readthedocs.io/en/latest/pipeline.html#pipeline.perf_plots.plot_pred_vs_actual_from_df)\n"
   ]
  },
  {
   "cell_type": "code",
   "execution_count": 1,
   "id": "6a88a819-bdb8-4fdc-b8fb-0aaba44e9e82",
   "metadata": {
    "tags": []
   },
   "outputs": [
    {
     "name": "stderr",
     "output_type": "stream",
     "text": [
      "Skipped loading some Jax models, missing a dependency. No module named 'haiku'\n",
      "/opt/anaconda3/envs/atom-dev/lib/python3.9/site-packages/tqdm/auto.py:21: TqdmWarning: IProgress not found. Please update jupyter and ipywidgets. See https://ipywidgets.readthedocs.io/en/stable/user_install.html\n",
      "  from .autonotebook import tqdm as notebook_tqdm\n"
     ]
    }
   ],
   "source": [
    "import pandas as pd\n",
    "import numpy as np\n",
    "import matplotlib.pyplot as plt\n",
    "import seaborn as sns\n",
    "\n",
    "# ignore sklearn future warnings\n",
    "import warnings\n",
    "warnings.filterwarnings('ignore',category=FutureWarning)\n",
    "\n",
    "from atomsci.ddm.pipeline import predict_from_model as pfm\n",
    "from sklearn.metrics import r2_score"
   ]
  },
  {
   "cell_type": "markdown",
   "id": "94e40e28-2c53-4174-87a9-bb69d09b4684",
   "metadata": {},
   "source": [
    "## Creating The Test Dataset\n",
    "First, create a test set by selecting the test data from the curated dataset.\n",
    "Here we are using the pre-featurized dataset to save time."
   ]
  },
  {
   "cell_type": "code",
   "execution_count": 2,
   "id": "7ce795fa-06d8-4099-9d41-8092f6c637a5",
   "metadata": {
    "tags": []
   },
   "outputs": [
    {
     "data": {
      "text/html": [
       "<div>\n",
       "<style scoped>\n",
       "    .dataframe tbody tr th:only-of-type {\n",
       "        vertical-align: middle;\n",
       "    }\n",
       "\n",
       "    .dataframe tbody tr th {\n",
       "        vertical-align: top;\n",
       "    }\n",
       "\n",
       "    .dataframe thead th {\n",
       "        text-align: right;\n",
       "    }\n",
       "</style>\n",
       "<table border=\"1\" class=\"dataframe\">\n",
       "  <thead>\n",
       "    <tr style=\"text-align: right;\">\n",
       "      <th></th>\n",
       "      <th>compound_id</th>\n",
       "      <th>base_rdkit_smiles</th>\n",
       "      <th>avg_pKi</th>\n",
       "    </tr>\n",
       "  </thead>\n",
       "  <tbody>\n",
       "    <tr>\n",
       "      <th>3</th>\n",
       "      <td>CHEMBL17157</td>\n",
       "      <td>CC(C)(C)c1ccc(C(O)CCCN2CCC(C(O)(c3ccccc3)c3ccc...</td>\n",
       "      <td>6.692504</td>\n",
       "    </tr>\n",
       "    <tr>\n",
       "      <th>7</th>\n",
       "      <td>CHEMBL3321789</td>\n",
       "      <td>OC1(c2ccc(Cl)cc2)CC2CCC(C1)N2CCCOc1ccc(F)cc1</td>\n",
       "      <td>6.207608</td>\n",
       "    </tr>\n",
       "    <tr>\n",
       "      <th>13</th>\n",
       "      <td>CHEMBL595638</td>\n",
       "      <td>CN1C2CCC1[C@@H](C(=O)OCc1cn(CCOC(=O)[C@H]3C4CC...</td>\n",
       "      <td>7.795880</td>\n",
       "    </tr>\n",
       "    <tr>\n",
       "      <th>28</th>\n",
       "      <td>CHEMBL4447975</td>\n",
       "      <td>COc1cc(OC)c2c(c1)OC[C@@]1(C)NCC[C@@H]21</td>\n",
       "      <td>5.000000</td>\n",
       "    </tr>\n",
       "    <tr>\n",
       "      <th>41</th>\n",
       "      <td>CHEMBL1062</td>\n",
       "      <td>CC(=O)[C@@]1(O)CC[C@H]2[C@@H]3CCC4=CC(=O)CC[C@...</td>\n",
       "      <td>5.260744</td>\n",
       "    </tr>\n",
       "  </tbody>\n",
       "</table>\n",
       "</div>"
      ],
      "text/plain": [
       "      compound_id                                  base_rdkit_smiles   avg_pKi\n",
       "3     CHEMBL17157  CC(C)(C)c1ccc(C(O)CCCN2CCC(C(O)(c3ccccc3)c3ccc...  6.692504\n",
       "7   CHEMBL3321789       OC1(c2ccc(Cl)cc2)CC2CCC(C1)N2CCCOc1ccc(F)cc1  6.207608\n",
       "13   CHEMBL595638  CN1C2CCC1[C@@H](C(=O)OCc1cn(CCOC(=O)[C@H]3C4CC...  7.795880\n",
       "28  CHEMBL4447975            COc1cc(OC)c2c(c1)OC[C@@]1(C)NCC[C@@H]21  5.000000\n",
       "41     CHEMBL1062  CC(=O)[C@@]1(O)CC[C@H]2[C@@H]3CCC4=CC(=O)CC[C@...  5.260744"
      ]
     },
     "execution_count": 2,
     "metadata": {},
     "output_type": "execute_result"
    }
   ],
   "source": [
    "split_file_path = 'dataset/SLC6A3_Ki_curated_train_valid_test_scaffold_c35aeaab-910c-4dcf-8f9f-04b55179aa1a.csv'\n",
    "curated_data_path = 'dataset/scaled_descriptors/SLC6A3_Ki_curated_with_rdkit_raw_descriptors.csv'\n",
    "\n",
    "split_data = pd.read_csv(split_file_path)\n",
    "\n",
    "curated_data = pd.read_csv(curated_data_path)\n",
    "\n",
    "test_ids=split_data[split_data.subset == 'test'].cmpd_id.unique()\n",
    "test_data = curated_data[curated_data.compound_id.isin(test_ids)]\n",
    "\n",
    "# show most useful columns \n",
    "test_data[['compound_id', 'base_rdkit_smiles', 'avg_pKi']].head()"
   ]
  },
  {
   "cell_type": "markdown",
   "id": "8be89936-dbb5-4f31-8e06-4627805821a6",
   "metadata": {
    "tags": []
   },
   "source": [
    "## Performing Predictions\n",
    "Next, load a pretrained model from a model tarball file and run \n",
    "predictions on compounds in the test set. If the original model \n",
    "`response_col` was `avg_pKi`, the returned data frame will \n",
    "contain columns `avg_pKi_actual`, `avg_pKi_pred`, and \n",
    "`avg_pKi_std`. The predictions of $pK_i$ are in the column, \n",
    "`avg_pKi_pred`. The `avg_pKi_std` column contains uncertainity estimates (standard deviations) for the predictions.\n",
    "\n",
    "Here we set the `is_featurized` parameter to true, since we're using\n",
    "the pre-featurized dataset.\n",
    "\n",
    "> **Note:** *For the purposes of this tutorial, the following model has been altered to work on every file system. In general, to run a model that was trained on a different machine, you need to provide the path to the local copy of the training dataset as an additional parameter called `external_training_data`.*"
   ]
  },
  {
   "cell_type": "code",
   "execution_count": 3,
   "id": "51e4b0cf-2479-4ba0-ad7f-4b47ed3b00f6",
   "metadata": {
    "tags": []
   },
   "outputs": [
    {
     "name": "stdout",
     "output_type": "stream",
     "text": [
      "Standardizing SMILES strings for 273 compounds.\n"
     ]
    },
    {
     "name": "stderr",
     "output_type": "stream",
     "text": [
      "INFO:atomsci.ddm.utils.model_version_utils:dataset/SLC6A3_models/SLC6A3_Ki_curated_model_9ff5a924-ef49-407c-a4d4-868a1288a67e.tar.gz, 1.6.1\n",
      "INFO:atomsci.ddm.utils.model_version_utils:Version compatible check: dataset/SLC6A3_models/SLC6A3_Ki_curated_model_9ff5a924-ef49-407c-a4d4-868a1288a67e.tar.gz version = \"1.6\", AMPL version = \"1.6\"\n",
      "/Users/rwilfong/Downloads/2024_LLNL/fork_ampl/AMPL/atomsci/ddm/pipeline/transformations.py:250: RuntimeWarning: invalid value encountered in divide\n",
      "  X = np.nan_to_num((X - self.X_means) * X_weight / self.X_stds)\n"
     ]
    },
    {
     "data": {
      "text/html": [
       "<div>\n",
       "<style scoped>\n",
       "    .dataframe tbody tr th:only-of-type {\n",
       "        vertical-align: middle;\n",
       "    }\n",
       "\n",
       "    .dataframe tbody tr th {\n",
       "        vertical-align: top;\n",
       "    }\n",
       "\n",
       "    .dataframe thead th {\n",
       "        text-align: right;\n",
       "    }\n",
       "</style>\n",
       "<table border=\"1\" class=\"dataframe\">\n",
       "  <thead>\n",
       "    <tr style=\"text-align: right;\">\n",
       "      <th></th>\n",
       "      <th>compound_id</th>\n",
       "      <th>base_rdkit_smiles</th>\n",
       "      <th>avg_pKi_actual</th>\n",
       "      <th>avg_pKi_pred</th>\n",
       "      <th>avg_pKi_std</th>\n",
       "    </tr>\n",
       "  </thead>\n",
       "  <tbody>\n",
       "    <tr>\n",
       "      <th>0</th>\n",
       "      <td>CHEMBL17157</td>\n",
       "      <td>CC(C)(C)c1ccc(C(O)CCCN2CCC(C(O)(c3ccccc3)c3ccc...</td>\n",
       "      <td>6.692504</td>\n",
       "      <td>7.741641</td>\n",
       "      <td>1.289527</td>\n",
       "    </tr>\n",
       "    <tr>\n",
       "      <th>1</th>\n",
       "      <td>CHEMBL3321789</td>\n",
       "      <td>OC1(c2ccc(Cl)cc2)CC2CCC(C1)N2CCCOc1ccc(F)cc1</td>\n",
       "      <td>6.207608</td>\n",
       "      <td>6.607851</td>\n",
       "      <td>1.069817</td>\n",
       "    </tr>\n",
       "    <tr>\n",
       "      <th>2</th>\n",
       "      <td>CHEMBL595638</td>\n",
       "      <td>CN1C2CCC1[C@@H](C(=O)OCc1cn(CCOC(=O)[C@H]3C4CC...</td>\n",
       "      <td>7.795880</td>\n",
       "      <td>6.784137</td>\n",
       "      <td>1.271238</td>\n",
       "    </tr>\n",
       "    <tr>\n",
       "      <th>3</th>\n",
       "      <td>CHEMBL4447975</td>\n",
       "      <td>COc1cc(OC)c2c(c1)OC[C@@]1(C)NCC[C@@H]21</td>\n",
       "      <td>5.000000</td>\n",
       "      <td>6.080245</td>\n",
       "      <td>1.321997</td>\n",
       "    </tr>\n",
       "    <tr>\n",
       "      <th>4</th>\n",
       "      <td>CHEMBL1062</td>\n",
       "      <td>CC(=O)[C@@]1(O)CC[C@H]2[C@@H]3CCC4=CC(=O)CC[C@...</td>\n",
       "      <td>5.260744</td>\n",
       "      <td>6.304104</td>\n",
       "      <td>1.517846</td>\n",
       "    </tr>\n",
       "  </tbody>\n",
       "</table>\n",
       "</div>"
      ],
      "text/plain": [
       "     compound_id                                  base_rdkit_smiles  \\\n",
       "0    CHEMBL17157  CC(C)(C)c1ccc(C(O)CCCN2CCC(C(O)(c3ccccc3)c3ccc...   \n",
       "1  CHEMBL3321789       OC1(c2ccc(Cl)cc2)CC2CCC(C1)N2CCCOc1ccc(F)cc1   \n",
       "2   CHEMBL595638  CN1C2CCC1[C@@H](C(=O)OCc1cn(CCOC(=O)[C@H]3C4CC...   \n",
       "3  CHEMBL4447975            COc1cc(OC)c2c(c1)OC[C@@]1(C)NCC[C@@H]21   \n",
       "4     CHEMBL1062  CC(=O)[C@@]1(O)CC[C@H]2[C@@H]3CCC4=CC(=O)CC[C@...   \n",
       "\n",
       "   avg_pKi_actual  avg_pKi_pred  avg_pKi_std  \n",
       "0        6.692504      7.741641     1.289527  \n",
       "1        6.207608      6.607851     1.069817  \n",
       "2        7.795880      6.784137     1.271238  \n",
       "3        5.000000      6.080245     1.321997  \n",
       "4        5.260744      6.304104     1.517846  "
      ]
     },
     "execution_count": 3,
     "metadata": {},
     "output_type": "execute_result"
    }
   ],
   "source": [
    "model_dir = 'dataset/SLC6A3_models/SLC6A3_Ki_curated_model_9ff5a924-ef49-407c-a4d4-868a1288a67e.tar.gz'\n",
    "input_df = test_data\n",
    "id_col = 'compound_id'\n",
    "smiles_col = 'base_rdkit_smiles'\n",
    "response_col = 'avg_pKi'\n",
    "\n",
    "# loads a pretrained model from a model tarball file and runs predictions on \n",
    "# compounds in an input data frame\n",
    "pred_df = pfm.predict_from_model_file(model_path = model_dir, \n",
    "                                      input_df = test_data,\n",
    "                                      id_col = id_col ,\n",
    "                                      smiles_col = smiles_col, \n",
    "                                      response_col = response_col,\n",
    "                                      is_featurized=True)\n",
    "                                      \n",
    "\n",
    "# show most useful columns\n",
    "pred_df[['compound_id', 'base_rdkit_smiles', 'avg_pKi_actual','avg_pKi_pred', 'avg_pKi_std']].head()"
   ]
  },
  {
   "cell_type": "markdown",
   "id": "635c5ef0-343d-4dfd-85c9-5e8214dace4b",
   "metadata": {},
   "source": [
    "## Evaluating Prediction Performance\n",
    "Then, calculate the $R^2$ score and compare it with the expected test $R^2$\n",
    "score of 0.426594, reported in **Tutorial 3, \"Train a Simple Regression Model\"**."
   ]
  },
  {
   "cell_type": "code",
   "execution_count": 4,
   "id": "fd242dac-5d73-44f0-9aa9-74225590ce16",
   "metadata": {
    "tags": []
   },
   "outputs": [
    {
     "data": {
      "text/plain": [
       "0.426594"
      ]
     },
     "execution_count": 4,
     "metadata": {},
     "output_type": "execute_result"
    }
   ],
   "source": [
    "actual_value = pred_df['avg_pKi_actual']\n",
    "predicted_value = pred_df['avg_pKi_pred']\n",
    "r2 = np.round(r2_score(actual_value, predicted_value), 6)\n",
    "r2"
   ]
  },
  {
   "cell_type": "markdown",
   "id": "42bbaac8-4748-4cae-afcd-39921a9719f6",
   "metadata": {},
   "source": [
    "## Visualizing Prediction Results\n",
    "We can visualize the results in a scatter plot of predicted values vs. actual values. "
   ]
  },
  {
   "cell_type": "code",
   "execution_count": 5,
   "id": "e5dbeadd-60d9-48c2-b094-c49b7aa47ff8",
   "metadata": {
    "tags": []
   },
   "outputs": [],
   "source": [
    "from atomsci.ddm.pipeline import perf_plots as pp"
   ]
  },
  {
   "cell_type": "code",
   "execution_count": 6,
   "id": "ded536af-2555-4399-bef0-af9e6ecbc91b",
   "metadata": {},
   "outputs": [
    {
     "data": {
      "image/png": "[encoded data removed]",
      "text/plain": [
       "<Figure size 640x480 with 1 Axes>"
      ]
     },
     "metadata": {},
     "output_type": "display_data"
    }
   ],
   "source": [
    "# Plots predicted vs actual values from a trained regression model for a given \n",
    "# dataframe\n",
    "pp.plot_pred_vs_actual_from_df(pred_df, \n",
    "                               actual_col='avg_pKi_actual', \n",
    "                               pred_col='avg_pKi_pred', \n",
    "                               label='Prediction of Test Set');"
   ]
  },
  {
   "cell_type": "markdown",
   "id": "ab69461b-e58f-4755-b623-82e501308649",
   "metadata": {},
   "source": [
    "In **Tutorial 5, \"Hyperparameter Optimization\"**, we will move beyond a single model and learn to optimize model hyperparameters by training many models.\n",
    "\n",
    "If you have specific feedback about a tutorial, please complete the **[AMPL Tutorial Evaluation](https://forms.gle/pa9sHj4MHbS5zG7A6)**."
   ]
  }
 ],
 "metadata": {
  "kernelspec": {
   "display_name": "atomsci-env-1.6.1",
   "language": "python",
   "name": "atomsci-env-1.6.1"
  },
  "language_info": {
   "codemirror_mode": {
    "name": "ipython",
    "version": 3
   },
   "file_extension": ".py",
   "mimetype": "text/x-python",
   "name": "python",
   "nbconvert_exporter": "python",
   "pygments_lexer": "ipython3",
   "version": "3.9.12"
  }
 },
 "nbformat": 4,
 "nbformat_minor": 5
}
