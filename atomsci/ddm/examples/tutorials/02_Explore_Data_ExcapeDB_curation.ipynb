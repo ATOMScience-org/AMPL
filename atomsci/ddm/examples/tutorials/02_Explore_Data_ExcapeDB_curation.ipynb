{
 "cells": [
  {
   "cell_type": "markdown",
   "metadata": {
    "colab_type": "text",
    "id": "view-in-github"
   },
   "source": [
    "<a href=\"https://colab.research.google.com/github/ATOMScience-org/AMPL/blob/master/atomsci/ddm/examples/tutorials/02_Explore_Data_ExcapeDB_curation.ipynb\" target=\"_parent\"><img src=\"https://colab.research.google.com/assets/colab-badge.svg\" alt=\"Open In Colab\"/></a>"
   ]
  },
  {
   "cell_type": "markdown",
   "metadata": {
    "id": "wus-BNETC5qB"
   },
   "source": [
    "# Data curation of HTR3A protein data from ExCAPE-DB Data\n",
    "\n",
    "\n",
    "\n",
    "\n"
   ]
  },
  {
   "cell_type": "markdown",
   "metadata": {
    "id": "LF2Io9ovfiir"
   },
   "source": [
    "# Scope of the tutorial\n",
    "*   Input data from Excape dataset for HTR3A protein target\n",
    "*   AMPL will be used to accomplish the following steps: \n",
    "  *   Standardize SMILES string\n",
    "  *   Clean the data (look for duplicates, average the assay data, cluster the compounds etc.)\n",
    "  *   Curate the data\n",
    "  *   Carry out some Exploratory Data Analysis (Chemical space exploration; PCA etc.) "
   ]
  },
  {
   "cell_type": "markdown",
   "metadata": {
    "id": "hIj5u8Ysf9IA"
   },
   "source": [
    "# Time on COLAB-Pro ( ~ 3 minutes)"
   ]
  },
  {
   "cell_type": "markdown",
   "metadata": {
    "id": "pAxyGetygGMk"
   },
   "source": [
    "# Protein target (HTR3A) information"
   ]
  },
  {
   "cell_type": "markdown",
   "metadata": {
    "id": "N9ZHJ-OlforW"
   },
   "source": [
    "The Target specific data was downloaded from https://zenodo.org/record/173258#.X_44kuhKi70\n",
    "\n",
    "Please refer to the ExCAPE-DB publication (https://pubmed.ncbi.nlm.nih.gov/28316655/) for details about the database "
   ]
  },
  {
   "cell_type": "markdown",
   "metadata": {
    "id": "XORxdddjGOFZ"
   },
   "source": [
    "Here are some details about HTR3A gene (taken from RefSeq NCBI)\n",
    "\n",
    "*   Proteins belongs to GPCR superfamily\n",
    "*   HTR3a is a receptor for Serotonin, a biogenic hormone that functions as a neurotransmitter\n",
    "*   HTR3A (also the name of the gene) encodes the subunit of the type 3 receptor for neurotransmitter \n",
    "*   Herteromeric combination of subunit A and B (HTR3B) is needed for full function. \n",
    "*   Different alternately spliced transcript variant forms for this gene are available.  "
   ]
  },
  {
   "cell_type": "markdown",
   "metadata": {
    "id": "sedOu56IHE_I"
   },
   "source": [
    "Diseases associated with HTR3A include Irritable Bowel Syndrome and Motion Sickness."
   ]
  },
  {
   "cell_type": "markdown",
   "metadata": {
    "id": "IAwDBUgiMT_F"
   },
   "source": [
    "## Basic information about HTR3A gene:\n",
    "\n",
    "**Present in** Chromosome 11\n",
    "**Exon count:** 10\n",
    "\n",
    "mRNA and protein information\n",
    "\n",
    "*   NM_000869.6 → NP_000860.3 \n",
    "*   NM_001161772.3 → NP_001155244.1\n",
    "*   NM_213621.4 → NP_998786.3 "
   ]
  },
  {
   "cell_type": "markdown",
   "metadata": {
    "id": "ThWpRE-KfBZB"
   },
   "source": [
    "## Before you begin, make sure you close all other COLAB notebooks. "
   ]
  },
  {
   "cell_type": "markdown",
   "metadata": {
    "id": "wDJc1Nu7fVy4"
   },
   "source": [
    "# Change Runtime settings\n",
    "If you have access to COLAB-Pro (commercial/not-free), please change your runtime settings to use GPU and high-memory,\n",
    "\n",
    "```Runtime --> Change Runtime Type --> GPU with high-RAM```\n",
    "\n",
    "If you are not a paid COLAB-Pro customer, you can still choose GPU, with standard-RAM."
   ]
  },
  {
   "cell_type": "code",
   "execution_count": 1,
   "metadata": {
    "colab": {
     "base_uri": "https://localhost:8080/"
    },
    "id": "vt63AWnwKIUZ",
    "outputId": "03493ef3-e565-4de2-920a-055e56734ae3"
   },
   "outputs": [
    {
     "name": "stdout",
     "output_type": "stream",
     "text": [
      "Fri Sep 17 10:56:49 UTC 2021\n"
     ]
    }
   ],
   "source": [
    "!date # starting time "
   ]
  },
  {
   "cell_type": "markdown",
   "metadata": {
    "id": "pPHPLDddQJw3"
   },
   "source": [
    "## Install AMPL \n"
   ]
  },
  {
   "cell_type": "code",
   "execution_count": null,
   "metadata": {
    "id": "yZN6HQSV7P5w"
   },
   "outputs": [],
   "source": [
    "! pip install rdkit-pypi\n",
    "! pip install deepchem\n",
    "\n",
    "import deepchem\n",
    "# print(deepchem.__version__)\n",
    "! pip install umap\n",
    "! pip install -U --ignore-installed numba\n",
    "! pip install umap-learn\n",
    "! pip install molvs\n",
    "! pip install bravado"
   ]
  },
  {
   "cell_type": "code",
   "execution_count": null,
   "metadata": {
    "id": "-7xSiO0MeTBA"
   },
   "outputs": [],
   "source": [
    "import deepchem as dc\n",
    "\n",
    "# get the Install AMPL_GPU_test.sh\n",
    "!wget 'https://raw.githubusercontent.com/ATOMScience-org/AMPL/master/atomsci/ddm/examples/tutorials/config/install_AMPL_GPU_test.sh'\n",
    "\n",
    "# run the script to install AMPL\n",
    "! chmod u+x install_AMPL_GPU_test.sh\n",
    "! ./install_AMPL_GPU_test.sh"
   ]
  },
  {
   "cell_type": "markdown",
   "metadata": {
    "extensions": {
     "jupyter_dashboards": {
      "version": 1,
      "views": {
       "grid_default": {},
       "report_default": {
        "hidden": true
       }
      }
     }
    },
    "id": "EYJe-CJFOqPy"
   },
   "source": [
    "## Exploring target activity data from selected database\n",
    "## Data source = ExcapeDB\n",
    "## Target activity = HTR3A"
   ]
  },
  {
   "cell_type": "code",
   "execution_count": 4,
   "metadata": {
    "id": "siF4OsX8Qee0"
   },
   "outputs": [],
   "source": [
    "# We temporarily disable warnings for demonstration.\n",
    "# FutureWarnings and DeprecationWarnings are present from some of the AMPL \n",
    "# dependency modules.\n",
    "import warnings\n",
    "warnings.filterwarnings('ignore')\n",
    "import json\n",
    "import requests\n",
    "import sys"
   ]
  },
  {
   "cell_type": "code",
   "execution_count": 5,
   "metadata": {
    "id": "PZvaDs6UOqP5"
   },
   "outputs": [],
   "source": [
    "#\n",
    "# Import AMPL libraries\n",
    "# \n",
    "import atomsci.ddm.utils.data_curation_functions as dcf\n",
    "import atomsci.ddm.utils.curate_data as curate_data\n",
    "import atomsci.ddm.pipeline.diversity_plots as dp\n",
    "import atomsci.ddm.pipeline.chem_diversity as cd\n",
    "# Additional python libraries\n",
    "import pandas as pd\n",
    "import numpy as np\n",
    "import getpass, os"
   ]
  },
  {
   "cell_type": "markdown",
   "metadata": {
    "id": "Tt6JTCNIOqP6"
   },
   "source": [
    "# Select a target to work with \n",
    "# (e.g. PDE2A, KCNH2, SCNA5)"
   ]
  },
  {
   "cell_type": "code",
   "execution_count": 6,
   "metadata": {
    "id": "65NXKFdtOqP7"
   },
   "outputs": [],
   "source": [
    "target_name='HTR3A'\n",
    "ofile=target_name+'_excape_curated.csv'"
   ]
  },
  {
   "cell_type": "code",
   "execution_count": 7,
   "metadata": {
    "id": "k5Knw3TZjqAr"
   },
   "outputs": [],
   "source": [
    "import io\n",
    "url = 'https://raw.githubusercontent.com/ATOMScience-org/AMPL/master/atomsci/ddm/examples/tutorials/datasets/Excape_HTR3A.tsv'\n",
    "download = requests.get(url).content"
   ]
  },
  {
   "cell_type": "code",
   "execution_count": 8,
   "metadata": {
    "id": "qoiXE4FUTb8i"
   },
   "outputs": [],
   "source": [
    "# Reading the downloaded content and turning it into a pandas dataframe\n",
    "data = pd.read_csv(io.StringIO(download.decode('utf-8')), sep='\\t', header=0 )"
   ]
  },
  {
   "cell_type": "markdown",
   "metadata": {
    "id": "282AC92lOqP7"
   },
   "source": [
    "# define data locations \n",
    "<!-- ## get username to use as a unique identifier to work in shared directories -->"
   ]
  },
  {
   "cell_type": "markdown",
   "metadata": {
    "id": "d7ioacLcOqP8"
   },
   "source": [
    "## Load previously saved raw data"
   ]
  },
  {
   "cell_type": "code",
   "execution_count": 9,
   "metadata": {
    "colab": {
     "base_uri": "https://localhost:8080/",
     "height": 365
    },
    "id": "rdfZf55_Eawl",
    "outputId": "482eaa23-350e-4da6-dc53-703c6580d31d"
   },
   "outputs": [
    {
     "data": {
      "text/html": [
       "<div>\n",
       "<style scoped>\n",
       "    .dataframe tbody tr th:only-of-type {\n",
       "        vertical-align: middle;\n",
       "    }\n",
       "\n",
       "    .dataframe tbody tr th {\n",
       "        vertical-align: top;\n",
       "    }\n",
       "\n",
       "    .dataframe thead th {\n",
       "        text-align: right;\n",
       "    }\n",
       "</style>\n",
       "<table border=\"1\" class=\"dataframe\">\n",
       "  <thead>\n",
       "    <tr style=\"text-align: right;\">\n",
       "      <th></th>\n",
       "      <th>Ambit_InchiKey</th>\n",
       "      <th>Original_Entry_ID</th>\n",
       "      <th>Entrez_ID</th>\n",
       "      <th>Activity_Flag</th>\n",
       "      <th>pXC50</th>\n",
       "      <th>DB</th>\n",
       "      <th>Original_Assay_ID</th>\n",
       "      <th>Tax_ID</th>\n",
       "      <th>Gene_Symbol</th>\n",
       "      <th>Ortholog_Group</th>\n",
       "      <th>InChI</th>\n",
       "      <th>SMILES</th>\n",
       "    </tr>\n",
       "  </thead>\n",
       "  <tbody>\n",
       "    <tr>\n",
       "      <th>0</th>\n",
       "      <td>AATPYXMXFBBKFO-KARVIEMNNA-N</td>\n",
       "      <td>CHEMBL526307</td>\n",
       "      <td>3359</td>\n",
       "      <td>N</td>\n",
       "      <td>1.00000</td>\n",
       "      <td>chembl20</td>\n",
       "      <td>565951</td>\n",
       "      <td>9606</td>\n",
       "      <td>HTR3A</td>\n",
       "      <td>2102</td>\n",
       "      <td>InChI=1/C14H17IN4O2/c1-7(2)8-4-11(20-3)9(15)5-...</td>\n",
       "      <td>C=1C(=C(OC2=CN=C(N=C2N)N)C=C(C1OC)I)C(C)C</td>\n",
       "    </tr>\n",
       "    <tr>\n",
       "      <th>1</th>\n",
       "      <td>ABIDZKZAFOTHFB-CCUGXXBONA-N</td>\n",
       "      <td>CHEMBL1271790</td>\n",
       "      <td>3359</td>\n",
       "      <td>A</td>\n",
       "      <td>8.17000</td>\n",
       "      <td>chembl20</td>\n",
       "      <td>674333</td>\n",
       "      <td>9606</td>\n",
       "      <td>HTR3A</td>\n",
       "      <td>2102</td>\n",
       "      <td>InChI=1/C21H28N4O3/c1-13-11-27-12-14(2)25(13)2...</td>\n",
       "      <td>C1C2CCN(C1)C[C@H]2NC(C3=C4N=C(OC4=CC=C3)N5[C@H...</td>\n",
       "    </tr>\n",
       "    <tr>\n",
       "      <th>2</th>\n",
       "      <td>ABSDJNLAUZQHJY-UHFFFAOYNA-N</td>\n",
       "      <td>CHEMBL2205048</td>\n",
       "      <td>3359</td>\n",
       "      <td>A</td>\n",
       "      <td>7.21000</td>\n",
       "      <td>chembl20</td>\n",
       "      <td>880265</td>\n",
       "      <td>9606</td>\n",
       "      <td>HTR3A</td>\n",
       "      <td>2102</td>\n",
       "      <td>InChI=1/C17H20N2OS/c1-20-14-5-4-6-15(13-14)21-...</td>\n",
       "      <td>N1(CCNCC1)C=2C(=CC=CC2)SC=3C=C(C=CC3)OC</td>\n",
       "    </tr>\n",
       "    <tr>\n",
       "      <th>3</th>\n",
       "      <td>ACKJXXOVSOCBPX-PHLAQJRANA-N</td>\n",
       "      <td>11376655</td>\n",
       "      <td>79246</td>\n",
       "      <td>A</td>\n",
       "      <td>8.25181</td>\n",
       "      <td>pubchem</td>\n",
       "      <td>652569</td>\n",
       "      <td>10116</td>\n",
       "      <td>HTR3A</td>\n",
       "      <td>2102</td>\n",
       "      <td>InChI=1/C36H46N6O/c1-26-33(27-14-6-9-17-30(27)...</td>\n",
       "      <td>O=C(NCCCCCCCNC=1C=2CCCCC2N=C3C1C=CC=C3)C4=C(C(...</td>\n",
       "    </tr>\n",
       "    <tr>\n",
       "      <th>4</th>\n",
       "      <td>ACKJXXOVSOCBPX-PHLAQJRANA-N</td>\n",
       "      <td>CHEMBL195241</td>\n",
       "      <td>3359</td>\n",
       "      <td>A</td>\n",
       "      <td>8.25000</td>\n",
       "      <td>chembl20</td>\n",
       "      <td>462123</td>\n",
       "      <td>9606</td>\n",
       "      <td>HTR3A</td>\n",
       "      <td>2102</td>\n",
       "      <td>InChI=1/C36H46N6O/c1-26-33(27-14-6-9-17-30(27)...</td>\n",
       "      <td>C=1(N=C2C=CC=CC2=C(C1C)C(=O)NCCCCCCCNC=3C4=C(C...</td>\n",
       "    </tr>\n",
       "  </tbody>\n",
       "</table>\n",
       "</div>"
      ],
      "text/plain": [
       "                Ambit_InchiKey  ...                                             SMILES\n",
       "0  AATPYXMXFBBKFO-KARVIEMNNA-N  ...          C=1C(=C(OC2=CN=C(N=C2N)N)C=C(C1OC)I)C(C)C\n",
       "1  ABIDZKZAFOTHFB-CCUGXXBONA-N  ...  C1C2CCN(C1)C[C@H]2NC(C3=C4N=C(OC4=CC=C3)N5[C@H...\n",
       "2  ABSDJNLAUZQHJY-UHFFFAOYNA-N  ...            N1(CCNCC1)C=2C(=CC=CC2)SC=3C=C(C=CC3)OC\n",
       "3  ACKJXXOVSOCBPX-PHLAQJRANA-N  ...  O=C(NCCCCCCCNC=1C=2CCCCC2N=C3C1C=CC=C3)C4=C(C(...\n",
       "4  ACKJXXOVSOCBPX-PHLAQJRANA-N  ...  C=1(N=C2C=CC=CC2=C(C1C)C(=O)NCCCCCCCNC=3C4=C(C...\n",
       "\n",
       "[5 rows x 12 columns]"
      ]
     },
     "execution_count": 9,
     "metadata": {},
     "output_type": "execute_result"
    }
   ],
   "source": [
    "data.head()"
   ]
  },
  {
   "cell_type": "code",
   "execution_count": 10,
   "metadata": {
    "colab": {
     "base_uri": "https://localhost:8080/",
     "height": 365
    },
    "id": "kKh18-NPOqP8",
    "outputId": "29f44031-c2b3-4dba-e1ef-6a853757936a"
   },
   "outputs": [
    {
     "data": {
      "text/html": [
       "<div>\n",
       "<style scoped>\n",
       "    .dataframe tbody tr th:only-of-type {\n",
       "        vertical-align: middle;\n",
       "    }\n",
       "\n",
       "    .dataframe tbody tr th {\n",
       "        vertical-align: top;\n",
       "    }\n",
       "\n",
       "    .dataframe thead th {\n",
       "        text-align: right;\n",
       "    }\n",
       "</style>\n",
       "<table border=\"1\" class=\"dataframe\">\n",
       "  <thead>\n",
       "    <tr style=\"text-align: right;\">\n",
       "      <th></th>\n",
       "      <th>compound_id</th>\n",
       "      <th>Original_Entry_ID</th>\n",
       "      <th>Entrez_ID</th>\n",
       "      <th>Activity_Flag</th>\n",
       "      <th>PXC50</th>\n",
       "      <th>DB</th>\n",
       "      <th>Original_Assay_ID</th>\n",
       "      <th>Tax_ID</th>\n",
       "      <th>Gene_Symbol</th>\n",
       "      <th>Ortholog_Group</th>\n",
       "      <th>InChI</th>\n",
       "      <th>SMILES</th>\n",
       "    </tr>\n",
       "  </thead>\n",
       "  <tbody>\n",
       "    <tr>\n",
       "      <th>0</th>\n",
       "      <td>AATPYXMXFBBKFO-KARVIEMNNA-N</td>\n",
       "      <td>CHEMBL526307</td>\n",
       "      <td>3359</td>\n",
       "      <td>N</td>\n",
       "      <td>1.00000</td>\n",
       "      <td>chembl20</td>\n",
       "      <td>565951</td>\n",
       "      <td>9606</td>\n",
       "      <td>HTR3A</td>\n",
       "      <td>2102</td>\n",
       "      <td>InChI=1/C14H17IN4O2/c1-7(2)8-4-11(20-3)9(15)5-...</td>\n",
       "      <td>C=1C(=C(OC2=CN=C(N=C2N)N)C=C(C1OC)I)C(C)C</td>\n",
       "    </tr>\n",
       "    <tr>\n",
       "      <th>1</th>\n",
       "      <td>ABIDZKZAFOTHFB-CCUGXXBONA-N</td>\n",
       "      <td>CHEMBL1271790</td>\n",
       "      <td>3359</td>\n",
       "      <td>A</td>\n",
       "      <td>8.17000</td>\n",
       "      <td>chembl20</td>\n",
       "      <td>674333</td>\n",
       "      <td>9606</td>\n",
       "      <td>HTR3A</td>\n",
       "      <td>2102</td>\n",
       "      <td>InChI=1/C21H28N4O3/c1-13-11-27-12-14(2)25(13)2...</td>\n",
       "      <td>C1C2CCN(C1)C[C@H]2NC(C3=C4N=C(OC4=CC=C3)N5[C@H...</td>\n",
       "    </tr>\n",
       "    <tr>\n",
       "      <th>2</th>\n",
       "      <td>ABSDJNLAUZQHJY-UHFFFAOYNA-N</td>\n",
       "      <td>CHEMBL2205048</td>\n",
       "      <td>3359</td>\n",
       "      <td>A</td>\n",
       "      <td>7.21000</td>\n",
       "      <td>chembl20</td>\n",
       "      <td>880265</td>\n",
       "      <td>9606</td>\n",
       "      <td>HTR3A</td>\n",
       "      <td>2102</td>\n",
       "      <td>InChI=1/C17H20N2OS/c1-20-14-5-4-6-15(13-14)21-...</td>\n",
       "      <td>N1(CCNCC1)C=2C(=CC=CC2)SC=3C=C(C=CC3)OC</td>\n",
       "    </tr>\n",
       "    <tr>\n",
       "      <th>3</th>\n",
       "      <td>ACKJXXOVSOCBPX-PHLAQJRANA-N</td>\n",
       "      <td>11376655</td>\n",
       "      <td>79246</td>\n",
       "      <td>A</td>\n",
       "      <td>8.25181</td>\n",
       "      <td>pubchem</td>\n",
       "      <td>652569</td>\n",
       "      <td>10116</td>\n",
       "      <td>HTR3A</td>\n",
       "      <td>2102</td>\n",
       "      <td>InChI=1/C36H46N6O/c1-26-33(27-14-6-9-17-30(27)...</td>\n",
       "      <td>O=C(NCCCCCCCNC=1C=2CCCCC2N=C3C1C=CC=C3)C4=C(C(...</td>\n",
       "    </tr>\n",
       "    <tr>\n",
       "      <th>4</th>\n",
       "      <td>ACKJXXOVSOCBPX-PHLAQJRANA-N</td>\n",
       "      <td>CHEMBL195241</td>\n",
       "      <td>3359</td>\n",
       "      <td>A</td>\n",
       "      <td>8.25000</td>\n",
       "      <td>chembl20</td>\n",
       "      <td>462123</td>\n",
       "      <td>9606</td>\n",
       "      <td>HTR3A</td>\n",
       "      <td>2102</td>\n",
       "      <td>InChI=1/C36H46N6O/c1-26-33(27-14-6-9-17-30(27)...</td>\n",
       "      <td>C=1(N=C2C=CC=CC2=C(C1C)C(=O)NCCCCCCCNC=3C4=C(C...</td>\n",
       "    </tr>\n",
       "  </tbody>\n",
       "</table>\n",
       "</div>"
      ],
      "text/plain": [
       "                   compound_id  ...                                             SMILES\n",
       "0  AATPYXMXFBBKFO-KARVIEMNNA-N  ...          C=1C(=C(OC2=CN=C(N=C2N)N)C=C(C1OC)I)C(C)C\n",
       "1  ABIDZKZAFOTHFB-CCUGXXBONA-N  ...  C1C2CCN(C1)C[C@H]2NC(C3=C4N=C(OC4=CC=C3)N5[C@H...\n",
       "2  ABSDJNLAUZQHJY-UHFFFAOYNA-N  ...            N1(CCNCC1)C=2C(=CC=CC2)SC=3C=C(C=CC3)OC\n",
       "3  ACKJXXOVSOCBPX-PHLAQJRANA-N  ...  O=C(NCCCCCCCNC=1C=2CCCCC2N=C3C1C=CC=C3)C4=C(C(...\n",
       "4  ACKJXXOVSOCBPX-PHLAQJRANA-N  ...  C=1(N=C2C=CC=CC2=C(C1C)C(=O)NCCCCCCCNC=3C4=C(C...\n",
       "\n",
       "[5 rows x 12 columns]"
      ]
     },
     "execution_count": 10,
     "metadata": {},
     "output_type": "execute_result"
    }
   ],
   "source": [
    "data.rename( columns={ \"pXC50\" : \"PXC50\", \"Ambit_InchiKey\" : \"compound_id\" }, inplace=True)\n",
    "data.head()"
   ]
  },
  {
   "cell_type": "code",
   "execution_count": 11,
   "metadata": {
    "id": "cKc3DLTk31-X"
   },
   "outputs": [],
   "source": [
    "# import os\n",
    "# working_dir=tmp_dir\n",
    "curated_file=ofile"
   ]
  },
  {
   "cell_type": "code",
   "execution_count": 12,
   "metadata": {
    "colab": {
     "base_uri": "https://localhost:8080/"
    },
    "id": "OvEDhhbvF-bF",
    "outputId": "bc1b3e10-a2ea-4b5c-8b6a-d684a72cd59d"
   },
   "outputs": [
    {
     "data": {
      "text/plain": [
       "0              C=1C(=C(OC2=CN=C(N=C2N)N)C=C(C1OC)I)C(C)C\n",
       "1      C1C2CCN(C1)C[C@H]2NC(C3=C4N=C(OC4=CC=C3)N5[C@H...\n",
       "2                N1(CCNCC1)C=2C(=CC=CC2)SC=3C=C(C=CC3)OC\n",
       "3      O=C(NCCCCCCCNC=1C=2CCCCC2N=C3C1C=CC=C3)C4=C(C(...\n",
       "4      C=1(N=C2C=CC=CC2=C(C1C)C(=O)NCCCCCCCNC=3C4=C(C...\n",
       "                             ...                        \n",
       "644    [C@@H]12N([C@@H](C[C@H](C1)NC(C3=C4C(OC(=N4)N5...\n",
       "645    N=1C(N(C(C2CC(CCC12)C)=O)N)=CCCCN3CCN(CC3)C=4N...\n",
       "646    O=C(NC1C[C@@H]2N([C@H](C1)CCC2)C)C3=C4OC(=NC4=...\n",
       "647    [C@@H]12N([C@@H](C[C@H](C1)NC(C3=C4C(N=C(O4)C=...\n",
       "648    N=1C(N(C(C2CCCCC12)=O)N)=CCCCN3CCN(CC3)C=4N=C5...\n",
       "Name: SMILES, Length: 649, dtype: object"
      ]
     },
     "execution_count": 12,
     "metadata": {},
     "output_type": "execute_result"
    }
   ],
   "source": [
    "data['SMILES']"
   ]
  },
  {
   "cell_type": "code",
   "execution_count": 13,
   "metadata": {
    "id": "eQEqrEzKCTos"
   },
   "outputs": [],
   "source": [
    "# Generate SMILES, InChI keys for dataset with curation and structure modules.\n",
    "# RDkit modules are used to process the SMILES strings\n",
    "\n",
    "data['rdkit_smiles'] = data['SMILES'].apply(curate_data.base_smiles_from_smiles)\n",
    "# data['inchi_key'] = data['smiles'].apply(struct_utils.smiles_to_inchi_key)"
   ]
  },
  {
   "cell_type": "code",
   "execution_count": 14,
   "metadata": {
    "colab": {
     "base_uri": "https://localhost:8080/"
    },
    "id": "ivNee1o5N_1z",
    "outputId": "6ea33bfd-1c8f-4908-921d-fc9c6df706e9"
   },
   "outputs": [
    {
     "name": "stdout",
     "output_type": "stream",
     "text": [
      "(649, 13)\n",
      "NCCc1c[nH]c2ccc(O)cc12                          3\n",
      "COc1cc2c3c(cnn3CCN([C@@H]3CN4CCC3CC4)C2=O)c1    2\n",
      "Cc1nnc(O)cc1-c1ccc(OCCCN2CCCCCC2)cc1            2\n",
      "O=C(Oc1ccccc1)N1CCN2CCC1CC2                     2\n",
      "c1ccc2oc(N3CCN4CCC3CC4)nc2c1                    2\n",
      "CC(C)n1ncc(-c2ccc(OCCCN3CCC[C@H]3C)cc2)cc1=O    2\n",
      "c1cnc2nc(N3CCN4CCC3CC4)oc2c1                    2\n",
      "Cn1ncc(-c2ccc(OCCCN3CCCCCC3)cc2)cc1=O           2\n",
      "c1ccc2nc(N3CCNCC3)ccc2c1                        2\n",
      "Brc1cnc2nc(N3CCN4CCC3CC4)oc2c1                  2\n",
      "Name: rdkit_smiles, dtype: int64\n"
     ]
    }
   ],
   "source": [
    "print(data.shape)\n",
    "print(data['rdkit_smiles'].value_counts()[0:10])"
   ]
  },
  {
   "cell_type": "code",
   "execution_count": 15,
   "metadata": {
    "colab": {
     "base_uri": "https://localhost:8080/"
    },
    "id": "xBOVYa8WOqP8",
    "outputId": "fe3f0a2c-77cf-428b-8565-d516c080880c"
   },
   "outputs": [
    {
     "name": "stdout",
     "output_type": "stream",
     "text": [
      "Bad duplicates removed from dataset\n",
      "Dataframe size (643, 17)\n",
      "List of 'bad' duplicates removed\n",
      "                     compound_id    PXC50  ...   Perc_Var  VALUE_NUM_std\n",
      "36   BSNKYWSMUAGMDO-UHFFFAOYNA-N  6.57025  ...  11.638406       1.223846\n",
      "37   BSNKYWSMUAGMDO-UHFFFAOYNA-N  8.30103  ...  11.638406       1.223846\n",
      "227  JBVRKZZSTULWTO-OAHLLOKONA-N  9.30103  ...  15.893248       1.803851\n",
      "228  JBVRKZZSTULWTO-OAHLLOKONA-N  6.75000  ...  15.893248       1.803851\n",
      "548  WLINCFBAKQHMPZ-OAHLLOKONA-N  8.19382  ...   9.661653       1.020935\n",
      "549  WLINCFBAKQHMPZ-OAHLLOKONA-N  6.75000  ...   9.661653       1.020935\n",
      "\n",
      "[6 rows x 5 columns]\n",
      "\n",
      "Dataset de-duplicated\n",
      "Dataframe size (602, 17)\n",
      "New column created with averaged values:  VALUE_NUM_mean\n"
     ]
    }
   ],
   "source": [
    "# import os\n",
    "# working_dir=tmp_dir\n",
    "# ofile=target_name+'_excape_curated.csv.'+username\n",
    "\n",
    "# column: Response values column\n",
    "column = 'PXC50'\n",
    "\n",
    "# tolerance: Percentage of individual respsonse values allowed to different from \n",
    "# the average to be included in averaging\n",
    "tolerance = 10\n",
    "\n",
    "# list_bad_duplicates: Print structures with bad duplicates\n",
    "list_bad_duplicates = 'Yes'\n",
    "\n",
    "# max_std: Maximum allowed standard deviation for computed average response value\n",
    "# NOTE: In this example, we set this value very high to disable this feature\n",
    "max_std = 1\n",
    "\n",
    "# compound_id: Compound ID column\n",
    "compound_id = 'compound_id'\n",
    "\n",
    "# smiles_col: SMILES column\n",
    "smiles_col = 'rdkit_smiles'\n",
    "\n",
    "# column that will be averaged ; smiles_col; used to find the replicates\n",
    "# \n",
    "\n",
    "curated_df = curate_data.average_and_remove_duplicates(column, tolerance, \n",
    "                                                       list_bad_duplicates, \n",
    "                                                       data, max_std, \n",
    "                                                       compound_id=compound_id, \n",
    "                                                       smiles_col=smiles_col)\n",
    "# curated_file = os.path.join(working_dir, ofile)\n",
    "## discard out of range values\n",
    "curated_df=curated_df[curated_df['VALUE_NUM_mean']>2]\n",
    "curated_df.to_csv(curated_file, index=False)"
   ]
  },
  {
   "cell_type": "markdown",
   "metadata": {
    "id": "mMacWA8TOqP9"
   },
   "source": [
    "## Note this includes the compounds discarded by measurement variation and out of range values"
   ]
  },
  {
   "cell_type": "code",
   "execution_count": 16,
   "metadata": {
    "colab": {
     "base_uri": "https://localhost:8080/"
    },
    "id": "RpG6M4Yw_5-Q",
    "outputId": "1c1aeaf9-1595-4ca4-c9eb-d27b46d16cd4"
   },
   "outputs": [
    {
     "data": {
      "text/plain": [
       "0    596\n",
       "Name: Remove_BadDuplicate, dtype: int64"
      ]
     },
     "execution_count": 16,
     "metadata": {},
     "output_type": "execute_result"
    }
   ],
   "source": [
    "curated_df['Remove_BadDuplicate'].value_counts()"
   ]
  },
  {
   "cell_type": "code",
   "execution_count": 17,
   "metadata": {
    "colab": {
     "base_uri": "https://localhost:8080/",
     "height": 653
    },
    "id": "1M8ajRHvOqP9",
    "outputId": "20a576d1-bb64-4ea5-d80d-478c9e4f7b88"
   },
   "outputs": [
    {
     "data": {
      "text/html": [
       "<div>\n",
       "<style scoped>\n",
       "    .dataframe tbody tr th:only-of-type {\n",
       "        vertical-align: middle;\n",
       "    }\n",
       "\n",
       "    .dataframe tbody tr th {\n",
       "        vertical-align: top;\n",
       "    }\n",
       "\n",
       "    .dataframe thead th {\n",
       "        text-align: right;\n",
       "    }\n",
       "</style>\n",
       "<table border=\"1\" class=\"dataframe\">\n",
       "  <thead>\n",
       "    <tr style=\"text-align: right;\">\n",
       "      <th></th>\n",
       "      <th>compound_id</th>\n",
       "      <th>Original_Entry_ID</th>\n",
       "      <th>Entrez_ID</th>\n",
       "      <th>Activity_Flag</th>\n",
       "      <th>PXC50</th>\n",
       "      <th>DB</th>\n",
       "      <th>Original_Assay_ID</th>\n",
       "      <th>Tax_ID</th>\n",
       "      <th>Gene_Symbol</th>\n",
       "      <th>Ortholog_Group</th>\n",
       "      <th>InChI</th>\n",
       "      <th>SMILES</th>\n",
       "      <th>rdkit_smiles</th>\n",
       "    </tr>\n",
       "  </thead>\n",
       "  <tbody>\n",
       "    <tr>\n",
       "      <th>0</th>\n",
       "      <td>AATPYXMXFBBKFO-KARVIEMNNA-N</td>\n",
       "      <td>CHEMBL526307</td>\n",
       "      <td>3359</td>\n",
       "      <td>N</td>\n",
       "      <td>1.00000</td>\n",
       "      <td>chembl20</td>\n",
       "      <td>565951</td>\n",
       "      <td>9606</td>\n",
       "      <td>HTR3A</td>\n",
       "      <td>2102</td>\n",
       "      <td>InChI=1/C14H17IN4O2/c1-7(2)8-4-11(20-3)9(15)5-...</td>\n",
       "      <td>C=1C(=C(OC2=CN=C(N=C2N)N)C=C(C1OC)I)C(C)C</td>\n",
       "      <td>COc1cc(C(C)C)c(Oc2cnc(N)nc2N)cc1I</td>\n",
       "    </tr>\n",
       "    <tr>\n",
       "      <th>36</th>\n",
       "      <td>BSNKYWSMUAGMDO-UHFFFAOYNA-N</td>\n",
       "      <td>11184481</td>\n",
       "      <td>15561</td>\n",
       "      <td>A</td>\n",
       "      <td>6.57025</td>\n",
       "      <td>pubchem</td>\n",
       "      <td>460741</td>\n",
       "      <td>10090</td>\n",
       "      <td>HTR3A</td>\n",
       "      <td>2102</td>\n",
       "      <td>InChI=1/C14H18N4O/c1-10-2-3-12-13(15-10)16-14(...</td>\n",
       "      <td>O1C(N2C3CCN(CC3)CC2)=NC=4N=C(C=CC14)C</td>\n",
       "      <td>Cc1ccc2oc(N3CCN4CCC3CC4)nc2n1</td>\n",
       "    </tr>\n",
       "    <tr>\n",
       "      <th>37</th>\n",
       "      <td>BSNKYWSMUAGMDO-UHFFFAOYNA-N</td>\n",
       "      <td>11184481</td>\n",
       "      <td>3359</td>\n",
       "      <td>A</td>\n",
       "      <td>8.30103</td>\n",
       "      <td>pubchem</td>\n",
       "      <td>460743</td>\n",
       "      <td>9606</td>\n",
       "      <td>HTR3A</td>\n",
       "      <td>2102</td>\n",
       "      <td>InChI=1/C14H18N4O/c1-10-2-3-12-13(15-10)16-14(...</td>\n",
       "      <td>O1C(N2C3CCN(CC3)CC2)=NC=4N=C(C=CC14)C</td>\n",
       "      <td>Cc1ccc2oc(N3CCN4CCC3CC4)nc2n1</td>\n",
       "    </tr>\n",
       "    <tr>\n",
       "      <th>169</th>\n",
       "      <td>GVOCXQUIZNWEMU-YAQRNVERNA-N</td>\n",
       "      <td>14712103</td>\n",
       "      <td>3359</td>\n",
       "      <td>N</td>\n",
       "      <td>NaN</td>\n",
       "      <td>pubchem</td>\n",
       "      <td>616534</td>\n",
       "      <td>9606</td>\n",
       "      <td>HTR3A</td>\n",
       "      <td>2102</td>\n",
       "      <td>InChI=1/C12H15N3/c1-2-4-11(5-3-1)8-13-7-6-12-9...</td>\n",
       "      <td>N(CCC=1NC=NC1)CC2=CC=CC=C2</td>\n",
       "      <td>c1ccc(CNCCc2cnc[nH]2)cc1</td>\n",
       "    </tr>\n",
       "    <tr>\n",
       "      <th>227</th>\n",
       "      <td>JBVRKZZSTULWTO-OAHLLOKONA-N</td>\n",
       "      <td>69937162</td>\n",
       "      <td>3359</td>\n",
       "      <td>A</td>\n",
       "      <td>9.30103</td>\n",
       "      <td>pubchem</td>\n",
       "      <td>1141224</td>\n",
       "      <td>9606</td>\n",
       "      <td>HTR3A</td>\n",
       "      <td>2102</td>\n",
       "      <td>InChI=1/C17H19ClN4O/c18-13-7-12-9-19-22-6-5-21...</td>\n",
       "      <td>ClC=1C=C2C(=O)N([C@H]3C4CCN(C3)CC4)CCN5N=CC(=C...</td>\n",
       "      <td>O=C1c2cc(Cl)cc3cnn(c23)CCN1[C@@H]1CN2CCC1CC2</td>\n",
       "    </tr>\n",
       "    <tr>\n",
       "      <th>228</th>\n",
       "      <td>JBVRKZZSTULWTO-OAHLLOKONA-N</td>\n",
       "      <td>CHEMBL3261483</td>\n",
       "      <td>15561</td>\n",
       "      <td>A</td>\n",
       "      <td>6.75000</td>\n",
       "      <td>chembl20</td>\n",
       "      <td>1350972</td>\n",
       "      <td>10090</td>\n",
       "      <td>HTR3A</td>\n",
       "      <td>2102</td>\n",
       "      <td>InChI=1/C17H19ClN4O/c18-13-7-12-9-19-22-6-5-21...</td>\n",
       "      <td>C1=C(C=C2C=3N(N=C2)CCN(C(C13)=O)[C@H]4C5CCN(C4...</td>\n",
       "      <td>O=C1c2cc(Cl)cc3cnn(c23)CCN1[C@@H]1CN2CCC1CC2</td>\n",
       "    </tr>\n",
       "    <tr>\n",
       "      <th>321</th>\n",
       "      <td>NECSKBYJMMVETP-UHFFFAOYNA-N</td>\n",
       "      <td>CHEMBL3233402</td>\n",
       "      <td>3359</td>\n",
       "      <td>N</td>\n",
       "      <td>1.29000</td>\n",
       "      <td>chembl20</td>\n",
       "      <td>1337830</td>\n",
       "      <td>9606</td>\n",
       "      <td>HTR3A</td>\n",
       "      <td>2102</td>\n",
       "      <td>InChI=1/C31H36N4O2/c1-32-29(36)31(26-14-6-2-7-...</td>\n",
       "      <td>C1(C(N(C(N1CCCCCN2CCN(CC2)C3=CC=CC=C3)=O)C)=O)...</td>\n",
       "      <td>CN1C(=O)N(CCCCCN2CCN(c3ccccc3)CC2)C(c2ccccc2)(...</td>\n",
       "    </tr>\n",
       "    <tr>\n",
       "      <th>331</th>\n",
       "      <td>NRJJRVIMKKANAW-UHFFFAOYNA-N</td>\n",
       "      <td>1408942</td>\n",
       "      <td>3359</td>\n",
       "      <td>N</td>\n",
       "      <td>NaN</td>\n",
       "      <td>pubchem</td>\n",
       "      <td>616534</td>\n",
       "      <td>9606</td>\n",
       "      <td>HTR3A</td>\n",
       "      <td>2102</td>\n",
       "      <td>InChI=1/C15H18N4/c1-18-7-9-19(10-8-18)15-11-14...</td>\n",
       "      <td>N1(CCN(CC1)C)C=2N=CN=C(C2)C3=CC=CC=C3</td>\n",
       "      <td>CN1CCN(c2cc(-c3ccccc3)ncn2)CC1</td>\n",
       "    </tr>\n",
       "    <tr>\n",
       "      <th>344</th>\n",
       "      <td>OGPREQIZGSIMHW-JLGFQASFNA-N</td>\n",
       "      <td>71459241</td>\n",
       "      <td>3359</td>\n",
       "      <td>N</td>\n",
       "      <td>NaN</td>\n",
       "      <td>pubchem</td>\n",
       "      <td>709378</td>\n",
       "      <td>9606</td>\n",
       "      <td>HTR3A</td>\n",
       "      <td>2102</td>\n",
       "      <td>InChI=1/C16H28N4O/c1-16(2,3)13-12-14(19-18-13)...</td>\n",
       "      <td>O=C(NC1=NNC(C(C)(C)C)=C1)CCCN2CCCCC2</td>\n",
       "      <td>CC(C)(C)c1cc(NC(=O)CCCN2CCCCC2)n[nH]1</td>\n",
       "    </tr>\n",
       "    <tr>\n",
       "      <th>526</th>\n",
       "      <td>VJEBGMIAGKMECI-FNGIMCLKNA-N</td>\n",
       "      <td>76316933</td>\n",
       "      <td>3359</td>\n",
       "      <td>N</td>\n",
       "      <td>NaN</td>\n",
       "      <td>pubchem</td>\n",
       "      <td>643471</td>\n",
       "      <td>9606</td>\n",
       "      <td>HTR3A</td>\n",
       "      <td>2102</td>\n",
       "      <td>InChI=1/C27H32N8O4/c1-33-18-7-6-8-19(33)16-17(...</td>\n",
       "      <td>O=C(NC1C[C@H]2N([C@@H](C1)CCC2)C)C3=NN(C4=C3C=...</td>\n",
       "      <td>CN1[C@H]2CCC[C@@H]1CC(NC(=O)c1nn(CCCCNc3ccc([N...</td>\n",
       "    </tr>\n",
       "    <tr>\n",
       "      <th>548</th>\n",
       "      <td>WLINCFBAKQHMPZ-OAHLLOKONA-N</td>\n",
       "      <td>66898814</td>\n",
       "      <td>3359</td>\n",
       "      <td>A</td>\n",
       "      <td>8.19382</td>\n",
       "      <td>pubchem</td>\n",
       "      <td>1141224</td>\n",
       "      <td>9606</td>\n",
       "      <td>HTR3A</td>\n",
       "      <td>2102</td>\n",
       "      <td>InChI=1/C17H19FN4O/c18-13-7-12-9-19-22-6-5-21(...</td>\n",
       "      <td>FC=1C=C2C(=O)N([C@H]3C4CCN(C3)CC4)CCN5N=CC(=C5...</td>\n",
       "      <td>O=C1c2cc(F)cc3cnn(c23)CCN1[C@@H]1CN2CCC1CC2</td>\n",
       "    </tr>\n",
       "    <tr>\n",
       "      <th>549</th>\n",
       "      <td>WLINCFBAKQHMPZ-OAHLLOKONA-N</td>\n",
       "      <td>CHEMBL3261482</td>\n",
       "      <td>15561</td>\n",
       "      <td>A</td>\n",
       "      <td>6.75000</td>\n",
       "      <td>chembl20</td>\n",
       "      <td>1350972</td>\n",
       "      <td>10090</td>\n",
       "      <td>HTR3A</td>\n",
       "      <td>2102</td>\n",
       "      <td>InChI=1/C17H19FN4O/c18-13-7-12-9-19-22-6-5-21(...</td>\n",
       "      <td>C1=C(C=C2C=3N(N=C2)CCN(C(C13)=O)[C@H]4C5CCN(C4...</td>\n",
       "      <td>O=C1c2cc(F)cc3cnn(c23)CCN1[C@@H]1CN2CCC1CC2</td>\n",
       "    </tr>\n",
       "  </tbody>\n",
       "</table>\n",
       "</div>"
      ],
      "text/plain": [
       "                     compound_id  ...                                       rdkit_smiles\n",
       "0    AATPYXMXFBBKFO-KARVIEMNNA-N  ...                  COc1cc(C(C)C)c(Oc2cnc(N)nc2N)cc1I\n",
       "36   BSNKYWSMUAGMDO-UHFFFAOYNA-N  ...                      Cc1ccc2oc(N3CCN4CCC3CC4)nc2n1\n",
       "37   BSNKYWSMUAGMDO-UHFFFAOYNA-N  ...                      Cc1ccc2oc(N3CCN4CCC3CC4)nc2n1\n",
       "169  GVOCXQUIZNWEMU-YAQRNVERNA-N  ...                           c1ccc(CNCCc2cnc[nH]2)cc1\n",
       "227  JBVRKZZSTULWTO-OAHLLOKONA-N  ...       O=C1c2cc(Cl)cc3cnn(c23)CCN1[C@@H]1CN2CCC1CC2\n",
       "228  JBVRKZZSTULWTO-OAHLLOKONA-N  ...       O=C1c2cc(Cl)cc3cnn(c23)CCN1[C@@H]1CN2CCC1CC2\n",
       "321  NECSKBYJMMVETP-UHFFFAOYNA-N  ...  CN1C(=O)N(CCCCCN2CCN(c3ccccc3)CC2)C(c2ccccc2)(...\n",
       "331  NRJJRVIMKKANAW-UHFFFAOYNA-N  ...                     CN1CCN(c2cc(-c3ccccc3)ncn2)CC1\n",
       "344  OGPREQIZGSIMHW-JLGFQASFNA-N  ...              CC(C)(C)c1cc(NC(=O)CCCN2CCCCC2)n[nH]1\n",
       "526  VJEBGMIAGKMECI-FNGIMCLKNA-N  ...  CN1[C@H]2CCC[C@@H]1CC(NC(=O)c1nn(CCCCNc3ccc([N...\n",
       "548  WLINCFBAKQHMPZ-OAHLLOKONA-N  ...        O=C1c2cc(F)cc3cnn(c23)CCN1[C@@H]1CN2CCC1CC2\n",
       "549  WLINCFBAKQHMPZ-OAHLLOKONA-N  ...        O=C1c2cc(F)cc3cnn(c23)CCN1[C@@H]1CN2CCC1CC2\n",
       "\n",
       "[12 rows x 13 columns]"
      ]
     },
     "execution_count": 17,
     "metadata": {},
     "output_type": "execute_result"
    }
   ],
   "source": [
    "compound_id='rdkit_smiles'\n",
    "reject=data[~data[compound_id].isin(curated_df[compound_id])]\n",
    "reject"
   ]
  },
  {
   "cell_type": "markdown",
   "metadata": {
    "id": "o4Q30sjCOqP-"
   },
   "source": [
    "## save rejected molecules for further examination"
   ]
  },
  {
   "cell_type": "code",
   "execution_count": 18,
   "metadata": {
    "colab": {
     "base_uri": "https://localhost:8080/"
    },
    "id": "fVbKlSYLOqP-",
    "outputId": "2a17b176-b49e-49ac-a596-24393e831719"
   },
   "outputs": [
    {
     "name": "stdout",
     "output_type": "stream",
     "text": [
      "Number of discarded compounds 9\n"
     ]
    }
   ],
   "source": [
    "print(\"Number of discarded compounds\",reject[compound_id].nunique())\n",
    "\n",
    "ofile=target_name+'.reject_check.csv'\n",
    "reject.to_csv(ofile,index=False)"
   ]
  },
  {
   "cell_type": "code",
   "execution_count": 19,
   "metadata": {
    "colab": {
     "base_uri": "https://localhost:8080/",
     "height": 302
    },
    "id": "evd3LNUnOqP-",
    "outputId": "950b4aaf-e813-4411-e910-590cf459f92d"
   },
   "outputs": [
    {
     "data": {
      "text/plain": [
       "(0.0, 12.0)"
      ]
     },
     "execution_count": 19,
     "metadata": {},
     "output_type": "execute_result"
    },
    {
     "data": {
      "image/png": "[encoded data removed]",
      "text/plain": [
       "<Figure size 432x288 with 1 Axes>"
      ]
     },
     "metadata": {
      "needs_background": "light"
     },
     "output_type": "display_data"
    }
   ],
   "source": [
    "import matplotlib.pyplot as plt\n",
    "import seaborn as sns\n",
    "fig, ax = plt.subplots()\n",
    "\n",
    "# This will be our before curation\n",
    "before=data[\"PXC50\"]\n",
    "\n",
    "# current curated dataframe will not include any out of range values\n",
    "after=curated_df[\"PXC50\"]\n",
    "\n",
    "sns.distplot(before, bins=range(0, 12, 1), ax=ax, kde=False, label='before')\n",
    "sns.distplot(after, bins=range(0, 12, 1), ax=ax, kde=False, label='after')\n",
    "plt.legend()\n",
    "ax.set_xlim([0, 12])"
   ]
  },
  {
   "cell_type": "code",
   "execution_count": 20,
   "metadata": {
    "colab": {
     "base_uri": "https://localhost:8080/",
     "height": 439
    },
    "id": "A3Li6LZwOqP_",
    "outputId": "9c65ea8c-116d-4867-f494-719eccf49045"
   },
   "outputs": [
    {
     "name": "stdout",
     "output_type": "stream",
     "text": [
      "Post-processing dataset\n",
      "\n",
      "Total Number of results = 596\n",
      "dataset mean = 6.9555837080536875 NM\n",
      "dataset stdev = 1.4751039669352373 NM\n",
      "dataset max = 10.5 NM\n",
      "dataset min = 3.06 NM\n",
      "\n"
     ]
    },
    {
     "data": {
      "image/png": "[encoded data removed]",
      "text/plain": [
       "<Figure size 432x288 with 1 Axes>"
      ]
     },
     "metadata": {
      "needs_background": "light"
     },
     "output_type": "display_data"
    }
   ],
   "source": [
    "column = 'PXC50'\n",
    "num_bins = 20\n",
    "title = target_name\n",
    "units = 'NM'\n",
    "filepath = \"\"\n",
    "data=curated_df\n",
    "\n",
    "curate_data.summarize_data(column, num_bins, title, units, filepath, data)"
   ]
  },
  {
   "cell_type": "code",
   "execution_count": 21,
   "metadata": {
    "colab": {
     "base_uri": "https://localhost:8080/"
    },
    "id": "l1FUw3maKPmq",
    "outputId": "edbf7014-d296-4334-fb43-89d712b24ba5"
   },
   "outputs": [
    {
     "name": "stdout",
     "output_type": "stream",
     "text": [
      "Fri Sep 17 10:58:20 UTC 2021\n"
     ]
    }
   ],
   "source": [
    "!date #ending time"
   ]
  },
  {
   "cell_type": "code",
   "execution_count": 22,
   "metadata": {
    "colab": {
     "base_uri": "https://localhost:8080/",
     "height": 330
    },
    "id": "rob62fBCOaBQ",
    "outputId": "9fb2a06c-e53e-4883-90fc-fed40cb1fbe5"
   },
   "outputs": [
    {
     "data": {
      "text/html": [
       "<div>\n",
       "<style scoped>\n",
       "    .dataframe tbody tr th:only-of-type {\n",
       "        vertical-align: middle;\n",
       "    }\n",
       "\n",
       "    .dataframe tbody tr th {\n",
       "        vertical-align: top;\n",
       "    }\n",
       "\n",
       "    .dataframe thead th {\n",
       "        text-align: right;\n",
       "    }\n",
       "</style>\n",
       "<table border=\"1\" class=\"dataframe\">\n",
       "  <thead>\n",
       "    <tr style=\"text-align: right;\">\n",
       "      <th></th>\n",
       "      <th>compound_id</th>\n",
       "      <th>Original_Entry_ID</th>\n",
       "      <th>Entrez_ID</th>\n",
       "      <th>Activity_Flag</th>\n",
       "      <th>PXC50</th>\n",
       "      <th>DB</th>\n",
       "      <th>Original_Assay_ID</th>\n",
       "      <th>Tax_ID</th>\n",
       "      <th>Gene_Symbol</th>\n",
       "      <th>Ortholog_Group</th>\n",
       "      <th>InChI</th>\n",
       "      <th>SMILES</th>\n",
       "      <th>rdkit_smiles</th>\n",
       "      <th>VALUE_NUM_mean</th>\n",
       "      <th>VALUE_NUM_std</th>\n",
       "      <th>Perc_Var</th>\n",
       "      <th>Remove_BadDuplicate</th>\n",
       "    </tr>\n",
       "  </thead>\n",
       "  <tbody>\n",
       "    <tr>\n",
       "      <th>1</th>\n",
       "      <td>ABIDZKZAFOTHFB-CCUGXXBONA-N</td>\n",
       "      <td>CHEMBL1271790</td>\n",
       "      <td>3359</td>\n",
       "      <td>A</td>\n",
       "      <td>8.17000</td>\n",
       "      <td>chembl20</td>\n",
       "      <td>674333</td>\n",
       "      <td>9606</td>\n",
       "      <td>HTR3A</td>\n",
       "      <td>2102</td>\n",
       "      <td>InChI=1/C21H28N4O3/c1-13-11-27-12-14(2)25(13)2...</td>\n",
       "      <td>C1C2CCN(C1)C[C@H]2NC(C3=C4N=C(OC4=CC=C3)N5[C@H...</td>\n",
       "      <td>C[C@H]1COC[C@H](C)N1c1nc2c(C(=O)N[C@@H]3CN4CCC...</td>\n",
       "      <td>8.170000</td>\n",
       "      <td>NaN</td>\n",
       "      <td>0.000000</td>\n",
       "      <td>0</td>\n",
       "    </tr>\n",
       "    <tr>\n",
       "      <th>2</th>\n",
       "      <td>ABSDJNLAUZQHJY-UHFFFAOYNA-N</td>\n",
       "      <td>CHEMBL2205048</td>\n",
       "      <td>3359</td>\n",
       "      <td>A</td>\n",
       "      <td>7.21000</td>\n",
       "      <td>chembl20</td>\n",
       "      <td>880265</td>\n",
       "      <td>9606</td>\n",
       "      <td>HTR3A</td>\n",
       "      <td>2102</td>\n",
       "      <td>InChI=1/C17H20N2OS/c1-20-14-5-4-6-15(13-14)21-...</td>\n",
       "      <td>N1(CCNCC1)C=2C(=CC=CC2)SC=3C=C(C=CC3)OC</td>\n",
       "      <td>COc1cccc(Sc2ccccc2N2CCNCC2)c1</td>\n",
       "      <td>7.210000</td>\n",
       "      <td>NaN</td>\n",
       "      <td>0.000000</td>\n",
       "      <td>0</td>\n",
       "    </tr>\n",
       "    <tr>\n",
       "      <th>3</th>\n",
       "      <td>ACKJXXOVSOCBPX-PHLAQJRANA-N</td>\n",
       "      <td>11376655</td>\n",
       "      <td>79246</td>\n",
       "      <td>A</td>\n",
       "      <td>8.25181</td>\n",
       "      <td>pubchem</td>\n",
       "      <td>652569</td>\n",
       "      <td>10116</td>\n",
       "      <td>HTR3A</td>\n",
       "      <td>2102</td>\n",
       "      <td>InChI=1/C36H46N6O/c1-26-33(27-14-6-9-17-30(27)...</td>\n",
       "      <td>O=C(NCCCCCCCNC=1C=2CCCCC2N=C3C1C=CC=C3)C4=C(C(...</td>\n",
       "      <td>Cc1c(N2CCN(C)CC2)nc2ccccc2c1C(=O)NCCCCCCCNc1c2...</td>\n",
       "      <td>8.250905</td>\n",
       "      <td>0.00128</td>\n",
       "      <td>0.010968</td>\n",
       "      <td>0</td>\n",
       "    </tr>\n",
       "    <tr>\n",
       "      <th>5</th>\n",
       "      <td>ADYMTDFOOCWUHC-UHFFFAOYNA-N</td>\n",
       "      <td>CHEMBL305582</td>\n",
       "      <td>3359</td>\n",
       "      <td>A</td>\n",
       "      <td>8.13000</td>\n",
       "      <td>chembl20</td>\n",
       "      <td>3480</td>\n",
       "      <td>9606</td>\n",
       "      <td>HTR3A</td>\n",
       "      <td>2102</td>\n",
       "      <td>InChI=1/C19H22N4/c1-2-6-16(7-3-1)10-13-23-18-9...</td>\n",
       "      <td>C=1(N(C2=CC=CC=C2N1)CCC3=CC=CC=C3)N4CCNCC4</td>\n",
       "      <td>c1ccc(CCn2c(N3CCNCC3)nc3ccccc32)cc1</td>\n",
       "      <td>8.130000</td>\n",
       "      <td>NaN</td>\n",
       "      <td>0.000000</td>\n",
       "      <td>0</td>\n",
       "    </tr>\n",
       "    <tr>\n",
       "      <th>6</th>\n",
       "      <td>AFLJKKMTBWNZFE-KAASGWQYNA-N</td>\n",
       "      <td>CHEMBL378349</td>\n",
       "      <td>3359</td>\n",
       "      <td>A</td>\n",
       "      <td>6.76000</td>\n",
       "      <td>chembl20</td>\n",
       "      <td>851152</td>\n",
       "      <td>9606</td>\n",
       "      <td>HTR3A</td>\n",
       "      <td>2102</td>\n",
       "      <td>InChI=1/C16H18N2OS/c19-16(13-2-1-12-5-8-20-15(...</td>\n",
       "      <td>C1N2CCC([C@@H](NC(C3=CC4=C(C=C3)C=CS4)=O)C2)C1</td>\n",
       "      <td>O=C(N[C@H]1CN2CCC1CC2)c1ccc2ccsc2c1</td>\n",
       "      <td>6.760000</td>\n",
       "      <td>NaN</td>\n",
       "      <td>0.000000</td>\n",
       "      <td>0</td>\n",
       "    </tr>\n",
       "  </tbody>\n",
       "</table>\n",
       "</div>"
      ],
      "text/plain": [
       "                   compound_id Original_Entry_ID  ...  Perc_Var Remove_BadDuplicate\n",
       "1  ABIDZKZAFOTHFB-CCUGXXBONA-N     CHEMBL1271790  ...  0.000000                   0\n",
       "2  ABSDJNLAUZQHJY-UHFFFAOYNA-N     CHEMBL2205048  ...  0.000000                   0\n",
       "3  ACKJXXOVSOCBPX-PHLAQJRANA-N          11376655  ...  0.010968                   0\n",
       "5  ADYMTDFOOCWUHC-UHFFFAOYNA-N      CHEMBL305582  ...  0.000000                   0\n",
       "6  AFLJKKMTBWNZFE-KAASGWQYNA-N      CHEMBL378349  ...  0.000000                   0\n",
       "\n",
       "[5 rows x 17 columns]"
      ]
     },
     "execution_count": 22,
     "metadata": {},
     "output_type": "execute_result"
    }
   ],
   "source": [
    "curated_df.head()"
   ]
  },
  {
   "cell_type": "code",
   "execution_count": 23,
   "metadata": {
    "colab": {
     "base_uri": "https://localhost:8080/"
    },
    "id": "1PLytj1afQmi",
    "outputId": "f52e42b3-4d2e-471d-f8cb-cb6cc15f2e05"
   },
   "outputs": [
    {
     "data": {
      "text/plain": [
       "(596, 17)"
      ]
     },
     "execution_count": 23,
     "metadata": {},
     "output_type": "execute_result"
    }
   ],
   "source": [
    "curated_df.shape"
   ]
  },
  {
   "cell_type": "code",
   "execution_count": 24,
   "metadata": {
    "colab": {
     "base_uri": "https://localhost:8080/"
    },
    "id": "O6_oOcW2fdZw",
    "outputId": "b9afac60-85e2-4102-a878-e7ca1cccf102"
   },
   "outputs": [
    {
     "name": "stdout",
     "output_type": "stream",
     "text": [
      "Fri Sep 17 10:58:21 UTC 2021\n"
     ]
    }
   ],
   "source": [
    "!date"
   ]
  },
  {
   "cell_type": "code",
   "execution_count": 24,
   "metadata": {
    "id": "1MaDkJO3F8qT"
   },
   "outputs": [],
   "source": []
  }
 ],
 "metadata": {
  "accelerator": "GPU",
  "colab": {
   "collapsed_sections": [],
   "include_colab_link": true,
   "name": "02_Explore_Data_ExcapeDB_curation.ipynb",
   "provenance": []
  },
  "extensions": {
   "jupyter_dashboards": {
    "activeView": "report_default",
    "version": 1,
    "views": {
     "grid_default": {
      "cellMargin": 10,
      "defaultCellHeight": 20,
      "maxColumns": 12,
      "name": "grid",
      "type": "grid"
     },
     "report_default": {
      "name": "report",
      "type": "report"
     }
    }
   }
  },
  "kernelspec": {
   "display_name": "Python 3",
   "language": "python",
   "name": "python3"
  },
  "language_info": {
   "codemirror_mode": {
    "name": "ipython",
    "version": 3
   },
   "file_extension": ".py",
   "mimetype": "text/x-python",
   "name": "python",
   "nbconvert_exporter": "python",
   "pygments_lexer": "ipython3",
   "version": "3.7.2"
  }
 },
 "nbformat": 4,
 "nbformat_minor": 4
}
