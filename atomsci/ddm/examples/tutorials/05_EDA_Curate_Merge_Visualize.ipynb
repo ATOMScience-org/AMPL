{
 "cells": [
  {
   "cell_type": "markdown",
   "metadata": {
    "colab_type": "text",
    "id": "view-in-github"
   },
   "source": [
    "<a href=\"https://colab.research.google.com/github/ATOMScience-org/AMPL/blob/master/atomsci/ddm/examples/tutorials/05_EDA_Curate_Merge_Visualize.ipynb\" target=\"_parent\"><img src=\"https://colab.research.google.com/assets/colab-badge.svg\" alt=\"Open In Colab\"/></a>"
   ]
  },
  {
   "cell_type": "markdown",
   "metadata": {
    "id": "kt3SCLIe98ok"
   },
   "source": [
    "# Curate, Merge and Visualize Datasets\n",
    "\n",
    "The ATOM Modeling PipeLine (AMPL; https://github.com/ATOMScience-org/AMPL) is an open-source, modular, extensible software pipeline for building and sharing models to advance in silico drug discovery.\n"
   ]
  },
  {
   "cell_type": "markdown",
   "metadata": {
    "id": "z5P9jG8ijD3q"
   },
   "source": [
    "## Scope of the tutorial\n",
    "\n",
    "We will use the predownloaded ChEMBL datasets to carry out some of the following basic EDA using AMPL:  \n",
    "* Load the data (two protein targets (PGP and BCRP) data)\n",
    "* Clean\n",
    "* Curate and Merge datasets\n",
    "* Filter data \n",
    "* Carry out visualization \n",
    "* Carry out some basic analysis"
   ]
  },
  {
   "cell_type": "markdown",
   "metadata": {
    "id": "ReAkik7oLLoG"
   },
   "source": [
    "Protein target information:\n",
    "* PGP: PGP phosphoglycolate phosphatase. You can go the following link to learn about the gene, https://www.ncbi.nlm.nih.gov/gene/?term=283871\n",
    "* BCRP or ABCG2: ATP binding cassette subfamily G member 2 (Junior blood group). You can go the following link to learn about the gene, https://www.ncbi.nlm.nih.gov/gene/9429"
   ]
  },
  {
   "cell_type": "markdown",
   "metadata": {
    "id": "4bEIUirXKeMw"
   },
   "source": [
    "## Before you begin, make sure you close all other COLAB notebooks."
   ]
  },
  {
   "cell_type": "markdown",
   "metadata": {
    "id": "ggwVL4mmKiDg"
   },
   "source": [
    "# Change Runtime settings\n",
    "If you have access to COLAB-Pro (commercial/not-free), please change your runtime settings to use GPU and high-memory,\n",
    "\n",
    "```Runtime --> Change Runtime Type --> GPU with high-RAM```\n",
    "\n",
    "If you are not a paid COLAB-Pro customer, you can still choose GPU, with standard-RAM."
   ]
  },
  {
   "cell_type": "markdown",
   "metadata": {
    "id": "LzzwZ1FdK2pm"
   },
   "source": [
    "## Time to run the notebook on COLAB-Pro: ~ 4 minutes"
   ]
  },
  {
   "cell_type": "code",
   "execution_count": 1,
   "metadata": {
    "colab": {
     "base_uri": "https://localhost:8080/"
    },
    "id": "L0jHj3YdMu36",
    "outputId": "69b55aaa-1ecf-4269-e05b-e6fa9365b72d"
   },
   "outputs": [
    {
     "name": "stdout",
     "output_type": "stream",
     "text": [
      "Fri Sep 17 12:52:03 UTC 2021\n"
     ]
    }
   ],
   "source": [
    "!date # starting time"
   ]
  },
  {
   "cell_type": "markdown",
   "metadata": {
    "id": "bYM-a4PE_AIZ"
   },
   "source": [
    "## Install AMPL"
   ]
  },
  {
   "cell_type": "code",
   "execution_count": null,
   "metadata": {
    "id": "Drih3sLfnilO"
   },
   "outputs": [],
   "source": [
    "! pip install rdkit-pypi\n",
    "! pip install deepchem\n",
    "\n",
    "import deepchem\n",
    "# print(deepchem.__version__)\n",
    "! pip install umap\n",
    "! pip install -U --ignore-installed numba\n",
    "! pip install umap-learn\n",
    "! pip install molvs\n",
    "! pip install bravado"
   ]
  },
  {
   "cell_type": "code",
   "execution_count": null,
   "metadata": {
    "id": "HnOfY_iQJdzD"
   },
   "outputs": [],
   "source": [
    "import deepchem as dc\n",
    "\n",
    "# get the Install AMPL_GPU_test.sh\n",
    "!wget 'https://raw.githubusercontent.com/ATOMScience-org/AMPL/master/atomsci/ddm/examples/tutorials/config/install_AMPL_GPU_test.sh'\n",
    "\n",
    "# run the script to install AMPL\n",
    "! chmod u+x install_AMPL_GPU_test.sh\n",
    "! ./install_AMPL_GPU_test.sh"
   ]
  },
  {
   "cell_type": "markdown",
   "metadata": {
    "id": "CHqM4j5ijUHu"
   },
   "source": [
    "## Let us download the datasets from Github "
   ]
  },
  {
   "cell_type": "code",
   "execution_count": null,
   "metadata": {
    "id": "brEXRmksMhIn"
   },
   "outputs": [],
   "source": [
    "# ABCB1 MDR1_human\n",
    "\n",
    "! wget https://raw.githubusercontent.com/ATOMScience-org/AMPL/master/atomsci/ddm/examples/tutorials/datasets/pgp_chembl.csv\n",
    "# ABCG2 ABCG2_human\n",
    "! wget https://raw.githubusercontent.com/ATOMScience-org/AMPL/master/atomsci/ddm/examples/tutorials/datasets/bcrp_chembl.csv"
   ]
  },
  {
   "cell_type": "code",
   "execution_count": 5,
   "metadata": {
    "colab": {
     "base_uri": "https://localhost:8080/"
    },
    "id": "rHx_XeG4jldd",
    "outputId": "71c90830-93a7-41bf-edff-69ed4de4d7c8"
   },
   "outputs": [
    {
     "name": "stdout",
     "output_type": "stream",
     "text": [
      ",chembl,smile,pAct,relationship\n",
      "0,BOERAVINONE G_CHEMBL221371,COc1cc(O)c2c(=O)c3c(oc2c1)C(OC)Oc1c(O)cccc1-3,6.16,=\n",
      "1,BOERAVINONE H_CHEMBL222265,COc1cc2oc3c(c(=O)c2c(O)c1C)-c1cccc(O)c1OC3OC,5.6,=\n",
      "2,None_CHEMBL243813,COc1cccc2[nH]c3ccccc3c(=O)c12,5.2,=\n",
      "3,None_CHEMBL243169,COc1ccc2c(=O)c3cccc(C(=O)NCCc4ccc(OC)c(OC)c4)c3[nH]c2c1,5.86,=\n",
      "4,None_CHEMBL243168,COc1ccc(CCNC(=O)c2cccc3c(=O)c4ccc(OC)cc4[nH]c23)cc1,6.25,=\n",
      "5,None_CHEMBL243167,COc1ccc(CCNC(=O)c2cccc3c(=O)c4ccccc4[nH]c23)cc1OC,6.35,=\n",
      "6,None_CHEMBL397235,COc1ccc(CCNC(=O)c2cccc3c(=O)c4ccccc4[nH]c23)cc1,6.46,=\n",
      "7,None_CHEMBL242513,COc1cc(C(F)(F)F)cc2[nH]c3ccccc3c(=O)c12,6.11,=\n",
      "8,None_CHEMBL243814,COc1cc(OC)c2c(=O)c3ccccc3[nH]c2c1,5.1,=\n",
      " \n",
      ",chembl,smile,pAct,relationship\n",
      "0,None_CHEMBL354935,COc1cc(NC(=O)Cc2cccc(-n3c(=O)c4c(C)onc4c4c(Cl)cccc43)c2)cc(OC)c1O,5.89,=\n",
      "1,None_CHEMBL434871,COc1ccc(NC(=O)Cc2cccc(-n3c(=O)c4c(C)onc4c4c(Cl)cccc43)c2)cc1OC,5.39,=\n",
      "2,None_CHEMBL354544,Cc1onc2c1c(=O)n(-c1cccc(CC(=O)Nc3ccc4c(c3)OCO4)c1)c1cccc(Cl)c21,5.4,=\n",
      "3,None_CHEMBL172059,Cc1onc2c1c(=O)n(-c1cccc(CC(=O)Nc3ccc(C#N)cc3)c1)c1cccc(Cl)c21,5.31,=\n",
      "4,None_CHEMBL170699,COc1cc(NC(=O)Cc2cccc(-n3c(=O)c4c(C)onc4c4c(Cl)cccc43)c2)cc(OC)c1,5.68,=\n",
      "5,None_CHEMBL355346,Cc1onc2c1c(=O)n(-c1cccc(CC(=O)Nc3ccccc3)c1)c1cccc(Cl)c21,5.64,=\n",
      "6,None_CHEMBL169803,Cc1cc(C(=O)N[C@@H]2c3cc(-n4c(=O)c5c(C)onc5c5c(Cl)cccc54)ccc3C[C@H]2O)no1,5.0,=\n",
      "7,None_CHEMBL170624,COc1cc(CNCc2cccc(-n3c(=O)c4c(C)onc4c4c(Cl)cccc43)c2)cc(OC)c1OC,5.75,=\n",
      "8,None_CHEMBL168831,COc1cc(N(C)C(=O)Cc2cccc(-n3c(=O)c4c(C)onc4c4c(Cl)cccc43)c2)cc(OC)c1OC,6.19,=\n"
     ]
    }
   ],
   "source": [
    "%%bash\n",
    "head bcrp*csv\n",
    "echo ' '\n",
    "head pgp*csv"
   ]
  },
  {
   "cell_type": "markdown",
   "metadata": {
    "id": "JWIZx-jA5vQk"
   },
   "source": [
    "## Datasets were downloaded from ChEMBL database. Here are the details of the columns\n",
    "* chembl provides the ChEMBL id or name \n",
    "* smiles contains the SMILE strings\n",
    "* pACT is the pChEMBL value. pChEMBL is defined as: -Log(molar IC50, XC50, EC50, AC50, Ki, Kd or Potency).\n",
    "* relationship shows whether a data point was censored or not. Not censored is marked by \"=\"."
   ]
  },
  {
   "cell_type": "markdown",
   "metadata": {
    "id": "iy-UAiTc9Ck0"
   },
   "source": [
    "# Curate, merge and visualize data\n",
    "\n",
    "Here we will load 2 datasets, curate the rows, and visualize some basic tenets of the data. **Your starting dataset should have columns including:**\n",
    "- unique compound identifier\n",
    "- smiles strings (see https://pubchem.ncbi.nlm.nih.gov/idexchange/idexchange.cgi for a good lookup service)\n",
    "    - **IMPORTANT: for optimal harmonizaton, first translate all SMILES to pubchem SMILES using the linked service**\n",
    "    - either look up pubchem CIDs for compounds or do SMILES -> SMILES\n",
    "    - this greatly improves RDKit base_smiles_from_smiles reduction\n",
    "- an assay measurement value, ie pIC50\n",
    "- optional: 'relation' column indicating whether or not values are censored\n",
    "- labels like \"active\" or \"inactive\" or another label you want, such as the source of the data.\n",
    "\n",
    "## Load packages"
   ]
  },
  {
   "cell_type": "code",
   "execution_count": 6,
   "metadata": {
    "id": "p3ReIgoV9Ck1"
   },
   "outputs": [],
   "source": [
    "# manipulate data\n",
    "import pandas as pd\n",
    "\n",
    "# plot data\n",
    "import numpy as np\n",
    "import matplotlib.pyplot as plt\n",
    "\n",
    "# curate data\n",
    "import atomsci.ddm.utils.struct_utils as struct_utils\n",
    "import atomsci.ddm.utils.curate_data as curate_data\n",
    "\n",
    "# visualize compound structures\n",
    "import tempfile\n",
    "from rdkit import Chem\n",
    "from rdkit.Chem import Draw\n",
    "from itertools import islice\n",
    "from IPython.display import Image, display\n",
    "\n",
    "# visualize data\n",
    "import seaborn as sns\n",
    "sns.set_context('poster')\n",
    "import matplotlib_venn as mpv\n",
    "from scipy.stats import pearsonr\n",
    "\n",
    "# set up visualization parameters\n",
    "sns.set_context(\"poster\")\n",
    "sns.set_style(\"whitegrid\")\n",
    "sns.set_palette(\"Set2\")\n",
    "pal = sns.color_palette()\n",
    "plt.rcParams['figure.figsize'] = [10,10]\n",
    "\n",
    "pd.set_option('display.max_columns',(90))\n",
    "pd.set_option('display.max_rows',(20))"
   ]
  },
  {
   "cell_type": "markdown",
   "metadata": {
    "id": "RbQg0Ufm9Ck5"
   },
   "source": [
    "# Curating and merging datasets\n",
    "Some of these merging steps will be highly dependent on the information contained in each individual dataset and what you want to keep after curation.\n",
    "\n",
    "### **Step 0:** Read dataset\n",
    "Read in dataset to be curated and merged. \n",
    "\n",
    "### **Step 1:** Initial curation for nan's and outliers\n",
    "Drop NA values for assay measurement column. Here you should also examine empty quotes, unexpected zeros, or other values that might not be real.\n",
    "\n",
    "### **Step 2:** Canonicalize smiles strings\n",
    "Canonicalize smiles strings so they are comparable across datasets with `struct_utils.base_smiles_from_smiles`. Even though the next function performs this step, we need to do this here in order to maintain correct metadata indices."
   ]
  },
  {
   "cell_type": "code",
   "execution_count": 7,
   "metadata": {
    "colab": {
     "base_uri": "https://localhost:8080/",
     "height": 347
    },
    "id": "vjYkWEYk95qX",
    "outputId": "13815fc7-fcbf-43f3-eab4-e3cee835f4b0"
   },
   "outputs": [
    {
     "name": "stdout",
     "output_type": "stream",
     "text": [
      "NA values: 0\n",
      "NA SMILES: 2\n"
     ]
    },
    {
     "data": {
      "text/html": [
       "<div>\n",
       "<style scoped>\n",
       "    .dataframe tbody tr th:only-of-type {\n",
       "        vertical-align: middle;\n",
       "    }\n",
       "\n",
       "    .dataframe tbody tr th {\n",
       "        vertical-align: top;\n",
       "    }\n",
       "\n",
       "    .dataframe thead th {\n",
       "        text-align: right;\n",
       "    }\n",
       "</style>\n",
       "<table border=\"1\" class=\"dataframe\">\n",
       "  <thead>\n",
       "    <tr style=\"text-align: right;\">\n",
       "      <th></th>\n",
       "      <th>chembl</th>\n",
       "      <th>smile</th>\n",
       "      <th>pAct</th>\n",
       "      <th>relationship</th>\n",
       "      <th>rdkit_smile</th>\n",
       "    </tr>\n",
       "  </thead>\n",
       "  <tbody>\n",
       "    <tr>\n",
       "      <th>0</th>\n",
       "      <td>None_CHEMBL354935</td>\n",
       "      <td>COc1cc(NC(=O)Cc2cccc(-n3c(=O)c4c(C)onc4c4c(Cl)...</td>\n",
       "      <td>5.89</td>\n",
       "      <td>=</td>\n",
       "      <td>COc1cc(NC(=O)Cc2cccc(-n3c(=O)c4c(C)onc4c4c(Cl)...</td>\n",
       "    </tr>\n",
       "    <tr>\n",
       "      <th>1</th>\n",
       "      <td>None_CHEMBL434871</td>\n",
       "      <td>COc1ccc(NC(=O)Cc2cccc(-n3c(=O)c4c(C)onc4c4c(Cl...</td>\n",
       "      <td>5.39</td>\n",
       "      <td>=</td>\n",
       "      <td>COc1ccc(NC(=O)Cc2cccc(-n3c(=O)c4c(C)onc4c4c(Cl...</td>\n",
       "    </tr>\n",
       "    <tr>\n",
       "      <th>2</th>\n",
       "      <td>None_CHEMBL354544</td>\n",
       "      <td>Cc1onc2c1c(=O)n(-c1cccc(CC(=O)Nc3ccc4c(c3)OCO4...</td>\n",
       "      <td>5.40</td>\n",
       "      <td>=</td>\n",
       "      <td>Cc1onc2c1c(=O)n(-c1cccc(CC(=O)Nc3ccc4c(c3)OCO4...</td>\n",
       "    </tr>\n",
       "    <tr>\n",
       "      <th>3</th>\n",
       "      <td>None_CHEMBL172059</td>\n",
       "      <td>Cc1onc2c1c(=O)n(-c1cccc(CC(=O)Nc3ccc(C#N)cc3)c...</td>\n",
       "      <td>5.31</td>\n",
       "      <td>=</td>\n",
       "      <td>Cc1onc2c1c(=O)n(-c1cccc(CC(=O)Nc3ccc(C#N)cc3)c...</td>\n",
       "    </tr>\n",
       "    <tr>\n",
       "      <th>4</th>\n",
       "      <td>None_CHEMBL170699</td>\n",
       "      <td>COc1cc(NC(=O)Cc2cccc(-n3c(=O)c4c(C)onc4c4c(Cl)...</td>\n",
       "      <td>5.68</td>\n",
       "      <td>=</td>\n",
       "      <td>COc1cc(NC(=O)Cc2cccc(-n3c(=O)c4c(C)onc4c4c(Cl)...</td>\n",
       "    </tr>\n",
       "  </tbody>\n",
       "</table>\n",
       "</div>"
      ],
      "text/plain": [
       "              chembl                                              smile  pAct  \\\n",
       "0  None_CHEMBL354935  COc1cc(NC(=O)Cc2cccc(-n3c(=O)c4c(C)onc4c4c(Cl)...  5.89   \n",
       "1  None_CHEMBL434871  COc1ccc(NC(=O)Cc2cccc(-n3c(=O)c4c(C)onc4c4c(Cl...  5.39   \n",
       "2  None_CHEMBL354544  Cc1onc2c1c(=O)n(-c1cccc(CC(=O)Nc3ccc4c(c3)OCO4...  5.40   \n",
       "3  None_CHEMBL172059  Cc1onc2c1c(=O)n(-c1cccc(CC(=O)Nc3ccc(C#N)cc3)c...  5.31   \n",
       "4  None_CHEMBL170699  COc1cc(NC(=O)Cc2cccc(-n3c(=O)c4c(C)onc4c4c(Cl)...  5.68   \n",
       "\n",
       "  relationship                                        rdkit_smile  \n",
       "0            =  COc1cc(NC(=O)Cc2cccc(-n3c(=O)c4c(C)onc4c4c(Cl)...  \n",
       "1            =  COc1ccc(NC(=O)Cc2cccc(-n3c(=O)c4c(C)onc4c4c(Cl...  \n",
       "2            =  Cc1onc2c1c(=O)n(-c1cccc(CC(=O)Nc3ccc4c(c3)OCO4...  \n",
       "3            =  Cc1onc2c1c(=O)n(-c1cccc(CC(=O)Nc3ccc(C#N)cc3)c...  \n",
       "4            =  COc1cc(NC(=O)Cc2cccc(-n3c(=O)c4c(C)onc4c4c(Cl)...  "
      ]
     },
     "execution_count": 7,
     "metadata": {},
     "output_type": "execute_result"
    }
   ],
   "source": [
    "dfp = pd.read_csv(\"pgp_chembl.csv\", index_col=0)\n",
    "\n",
    "# Missing values for measurement column in this dataset\n",
    "print(\"NA values:\", dfp.pAct.isna().sum())\n",
    "dfp.drop(dfp[dfp.pAct.isna()].index, inplace=True)\n",
    "\n",
    "# canonicalize smiles strings\n",
    "dfp['rdkit_smile'] = dfp['smile'].apply(curate_data.base_smiles_from_smiles)\n",
    "\n",
    "#remove chemicals without smiles strings\n",
    "print(\"NA SMILES:\", (dfp.smile=='').sum()+dfp.smile.isna().sum())\n",
    "dfp.drop(dfp[dfp.smile == \"\"].index, inplace=True)\n",
    "dfp.drop(dfp[dfp.smile.isna()].index, inplace=True)\n",
    "\n",
    "dfp.head()"
   ]
  },
  {
   "cell_type": "code",
   "execution_count": 8,
   "metadata": {
    "colab": {
     "base_uri": "https://localhost:8080/",
     "height": 300
    },
    "id": "iVFkzLR2hwNG",
    "outputId": "9720ce94-a56d-40b9-fc42-f7038cb98014"
   },
   "outputs": [
    {
     "data": {
      "text/html": [
       "<div>\n",
       "<style scoped>\n",
       "    .dataframe tbody tr th:only-of-type {\n",
       "        vertical-align: middle;\n",
       "    }\n",
       "\n",
       "    .dataframe tbody tr th {\n",
       "        vertical-align: top;\n",
       "    }\n",
       "\n",
       "    .dataframe thead th {\n",
       "        text-align: right;\n",
       "    }\n",
       "</style>\n",
       "<table border=\"1\" class=\"dataframe\">\n",
       "  <thead>\n",
       "    <tr style=\"text-align: right;\">\n",
       "      <th></th>\n",
       "      <th>pAct</th>\n",
       "    </tr>\n",
       "  </thead>\n",
       "  <tbody>\n",
       "    <tr>\n",
       "      <th>count</th>\n",
       "      <td>2447.000000</td>\n",
       "    </tr>\n",
       "    <tr>\n",
       "      <th>mean</th>\n",
       "      <td>5.835922</td>\n",
       "    </tr>\n",
       "    <tr>\n",
       "      <th>std</th>\n",
       "      <td>1.128850</td>\n",
       "    </tr>\n",
       "    <tr>\n",
       "      <th>min</th>\n",
       "      <td>4.000000</td>\n",
       "    </tr>\n",
       "    <tr>\n",
       "      <th>25%</th>\n",
       "      <td>5.080000</td>\n",
       "    </tr>\n",
       "    <tr>\n",
       "      <th>50%</th>\n",
       "      <td>5.700000</td>\n",
       "    </tr>\n",
       "    <tr>\n",
       "      <th>75%</th>\n",
       "      <td>6.400000</td>\n",
       "    </tr>\n",
       "    <tr>\n",
       "      <th>max</th>\n",
       "      <td>10.990000</td>\n",
       "    </tr>\n",
       "  </tbody>\n",
       "</table>\n",
       "</div>"
      ],
      "text/plain": [
       "              pAct\n",
       "count  2447.000000\n",
       "mean      5.835922\n",
       "std       1.128850\n",
       "min       4.000000\n",
       "25%       5.080000\n",
       "50%       5.700000\n",
       "75%       6.400000\n",
       "max      10.990000"
      ]
     },
     "execution_count": 8,
     "metadata": {},
     "output_type": "execute_result"
    }
   ],
   "source": [
    "dfp.describe()"
   ]
  },
  {
   "cell_type": "code",
   "execution_count": 9,
   "metadata": {
    "colab": {
     "base_uri": "https://localhost:8080/"
    },
    "id": "1YPikop8_hfT",
    "outputId": "2e3d41ee-ceea-4dec-c856-9c2de1a29108"
   },
   "outputs": [
    {
     "name": "stdout",
     "output_type": "stream",
     "text": [
      "Name duplicates: 785\n",
      "SMILES duplicates: 788\n",
      "Shape: (2447, 5)\n"
     ]
    }
   ],
   "source": [
    "# look at length of dataset and duplicates.\n",
    "print('Name duplicates:', dfp['chembl'].duplicated().sum())\n",
    "print('SMILES duplicates:', dfp.rdkit_smile.duplicated().sum())\n",
    "print('Shape:',dfp.shape)"
   ]
  },
  {
   "cell_type": "markdown",
   "metadata": {
    "id": "bA3Bpcpk9ClO"
   },
   "source": [
    "### **Step 3:** Aggregate assay data\n",
    "Use the `aggregate_assay_data()` function to aggregate duplicate assay measurements, deal with censored values, and standardize measurement dataframe for modeling later. This method also re-does the canonical smiles strings. *Even if you know you have no duplicates, still perform this step to standardize the dataframe.* \n",
    "\n",
    "- `active_thresh` means the threshold value above/below which your compounds should be named 'active'/'inactive' or 1/0 for classification tasks. \n",
    "- here we pick 1uM (u = 10$^{-6}$) as our threshold and translate it into a pIC50 value to be the same as our data."
   ]
  },
  {
   "cell_type": "code",
   "execution_count": 10,
   "metadata": {
    "colab": {
     "base_uri": "https://localhost:8080/"
    },
    "id": "dVgNoZ1C9ClP",
    "outputId": "1862aa17-dd1d-4eab-cb4c-ed0437fc9563"
   },
   "outputs": [
    {
     "data": {
      "text/plain": [
       "6.0"
      ]
     },
     "execution_count": 10,
     "metadata": {},
     "output_type": "execute_result"
    }
   ],
   "source": [
    "# threshold -> pIC50\n",
    "import numpy as np\n",
    "thresh=-np.log10(1/1000000)\n",
    "thresh"
   ]
  },
  {
   "cell_type": "code",
   "execution_count": 11,
   "metadata": {
    "colab": {
     "base_uri": "https://localhost:8080/",
     "height": 215
    },
    "id": "30N58ZN6Ar9X",
    "outputId": "28fb9c74-8360-4695-a0c0-181e6a0d8027"
   },
   "outputs": [
    {
     "data": {
      "text/html": [
       "<div>\n",
       "<style scoped>\n",
       "    .dataframe tbody tr th:only-of-type {\n",
       "        vertical-align: middle;\n",
       "    }\n",
       "\n",
       "    .dataframe tbody tr th {\n",
       "        vertical-align: top;\n",
       "    }\n",
       "\n",
       "    .dataframe thead th {\n",
       "        text-align: right;\n",
       "    }\n",
       "</style>\n",
       "<table border=\"1\" class=\"dataframe\">\n",
       "  <thead>\n",
       "    <tr style=\"text-align: right;\">\n",
       "      <th></th>\n",
       "      <th>chembl</th>\n",
       "      <th>smile</th>\n",
       "      <th>pAct</th>\n",
       "      <th>relationship</th>\n",
       "      <th>rdkit_smile</th>\n",
       "    </tr>\n",
       "  </thead>\n",
       "  <tbody>\n",
       "    <tr>\n",
       "      <th>0</th>\n",
       "      <td>None_CHEMBL354935</td>\n",
       "      <td>COc1cc(NC(=O)Cc2cccc(-n3c(=O)c4c(C)onc4c4c(Cl)...</td>\n",
       "      <td>5.89</td>\n",
       "      <td>=</td>\n",
       "      <td>COc1cc(NC(=O)Cc2cccc(-n3c(=O)c4c(C)onc4c4c(Cl)...</td>\n",
       "    </tr>\n",
       "    <tr>\n",
       "      <th>1</th>\n",
       "      <td>None_CHEMBL434871</td>\n",
       "      <td>COc1ccc(NC(=O)Cc2cccc(-n3c(=O)c4c(C)onc4c4c(Cl...</td>\n",
       "      <td>5.39</td>\n",
       "      <td>=</td>\n",
       "      <td>COc1ccc(NC(=O)Cc2cccc(-n3c(=O)c4c(C)onc4c4c(Cl...</td>\n",
       "    </tr>\n",
       "    <tr>\n",
       "      <th>2</th>\n",
       "      <td>None_CHEMBL354544</td>\n",
       "      <td>Cc1onc2c1c(=O)n(-c1cccc(CC(=O)Nc3ccc4c(c3)OCO4...</td>\n",
       "      <td>5.40</td>\n",
       "      <td>=</td>\n",
       "      <td>Cc1onc2c1c(=O)n(-c1cccc(CC(=O)Nc3ccc4c(c3)OCO4...</td>\n",
       "    </tr>\n",
       "  </tbody>\n",
       "</table>\n",
       "</div>"
      ],
      "text/plain": [
       "              chembl                                              smile  pAct  \\\n",
       "0  None_CHEMBL354935  COc1cc(NC(=O)Cc2cccc(-n3c(=O)c4c(C)onc4c4c(Cl)...  5.89   \n",
       "1  None_CHEMBL434871  COc1ccc(NC(=O)Cc2cccc(-n3c(=O)c4c(C)onc4c4c(Cl...  5.39   \n",
       "2  None_CHEMBL354544  Cc1onc2c1c(=O)n(-c1cccc(CC(=O)Nc3ccc4c(c3)OCO4...  5.40   \n",
       "\n",
       "  relationship                                        rdkit_smile  \n",
       "0            =  COc1cc(NC(=O)Cc2cccc(-n3c(=O)c4c(C)onc4c4c(Cl)...  \n",
       "1            =  COc1ccc(NC(=O)Cc2cccc(-n3c(=O)c4c(C)onc4c4c(Cl...  \n",
       "2            =  Cc1onc2c1c(=O)n(-c1cccc(CC(=O)Nc3ccc4c(c3)OCO4...  "
      ]
     },
     "execution_count": 11,
     "metadata": {},
     "output_type": "execute_result"
    }
   ],
   "source": [
    "dfp.head(3)"
   ]
  },
  {
   "cell_type": "code",
   "execution_count": 12,
   "metadata": {
    "colab": {
     "base_uri": "https://localhost:8080/"
    },
    "id": "MGIJceJi9ClS",
    "outputId": "9c392788-bd30-440f-c1c4-24eb4c4405ee"
   },
   "outputs": [
    {
     "name": "stdout",
     "output_type": "stream",
     "text": [
      "0 entries in input table are missing SMILES strings\n",
      "1659 unique SMILES strings are reduced to 1659 unique base SMILES strings\n"
     ]
    }
   ],
   "source": [
    "#average duplicated data\n",
    "dfp_cur = curate_data.aggregate_assay_data(dfp, \n",
    "                         value_col='pAct', \n",
    "                         output_value_col='pAct_pgp',\n",
    "                         label_actives=True, \n",
    "                         active_thresh=thresh,\n",
    "                         id_col='chembl', \n",
    "                         smiles_col='rdkit_smile', \n",
    "                         relation_col='relationship', \n",
    "                         date_col=None)\n"
   ]
  },
  {
   "cell_type": "code",
   "execution_count": 13,
   "metadata": {
    "colab": {
     "base_uri": "https://localhost:8080/",
     "height": 478
    },
    "id": "URSPXm_6ioVw",
    "outputId": "1231a79e-5aaa-436a-c9ba-10adb91614e6"
   },
   "outputs": [
    {
     "data": {
      "text/html": [
       "<div>\n",
       "<style scoped>\n",
       "    .dataframe tbody tr th:only-of-type {\n",
       "        vertical-align: middle;\n",
       "    }\n",
       "\n",
       "    .dataframe tbody tr th {\n",
       "        vertical-align: top;\n",
       "    }\n",
       "\n",
       "    .dataframe thead th {\n",
       "        text-align: right;\n",
       "    }\n",
       "</style>\n",
       "<table border=\"1\" class=\"dataframe\">\n",
       "  <thead>\n",
       "    <tr style=\"text-align: right;\">\n",
       "      <th></th>\n",
       "      <th>compound_id</th>\n",
       "      <th>base_rdkit_smiles</th>\n",
       "      <th>relation</th>\n",
       "      <th>pAct_pgp</th>\n",
       "      <th>active</th>\n",
       "    </tr>\n",
       "  </thead>\n",
       "  <tbody>\n",
       "    <tr>\n",
       "      <th>0</th>\n",
       "      <td>None_CHEMBL2449407</td>\n",
       "      <td>CCC(=O)c1ccccc1OC[C@H](O)CN1CCC(O)(c2ccccc2)CC1</td>\n",
       "      <td></td>\n",
       "      <td>6.52</td>\n",
       "      <td>1</td>\n",
       "    </tr>\n",
       "    <tr>\n",
       "      <th>1</th>\n",
       "      <td>None_CHEMBL2372486</td>\n",
       "      <td>C/C=C/C[C@@H](C)[C@@H](O)[C@H]1C(=O)N[C@@H]([C...</td>\n",
       "      <td></td>\n",
       "      <td>5.37</td>\n",
       "      <td>0</td>\n",
       "    </tr>\n",
       "    <tr>\n",
       "      <th>2</th>\n",
       "      <td>None_CHEMBL397350</td>\n",
       "      <td>CC(=O)O[C@H]1[C@@H](OC(=O)c2ccco2)C[C@@](C)(O)...</td>\n",
       "      <td></td>\n",
       "      <td>5.66</td>\n",
       "      <td>0</td>\n",
       "    </tr>\n",
       "    <tr>\n",
       "      <th>3</th>\n",
       "      <td>None_CHEMBL2449323</td>\n",
       "      <td>CC(C)(C)OC(=O)C(Cc1ccccc1)N[C@@H]1c2cc(C#N)ccc...</td>\n",
       "      <td></td>\n",
       "      <td>6.26</td>\n",
       "      <td>1</td>\n",
       "    </tr>\n",
       "    <tr>\n",
       "      <th>4</th>\n",
       "      <td>None_CHEMBL4285277</td>\n",
       "      <td>COc1cc2c(cc1OC)CN(Cc1ccc(-c3ccc(O)cc3)c(F)c1)CC2</td>\n",
       "      <td></td>\n",
       "      <td>5.21</td>\n",
       "      <td>0</td>\n",
       "    </tr>\n",
       "    <tr>\n",
       "      <th>...</th>\n",
       "      <td>...</td>\n",
       "      <td>...</td>\n",
       "      <td>...</td>\n",
       "      <td>...</td>\n",
       "      <td>...</td>\n",
       "    </tr>\n",
       "    <tr>\n",
       "      <th>1654</th>\n",
       "      <td>None_CHEMBL375089</td>\n",
       "      <td>COc1ccc(OCC(O)CN2CCN(c3ccccc3C)CC2)c(C(=O)CCc2...</td>\n",
       "      <td></td>\n",
       "      <td>6.75</td>\n",
       "      <td>1</td>\n",
       "    </tr>\n",
       "    <tr>\n",
       "      <th>1655</th>\n",
       "      <td>None_CHEMBL573233</td>\n",
       "      <td>Nc1nc(SCCc2ccccc2)nc2ccccc12</td>\n",
       "      <td></td>\n",
       "      <td>5.96</td>\n",
       "      <td>0</td>\n",
       "    </tr>\n",
       "    <tr>\n",
       "      <th>1656</th>\n",
       "      <td>None_CHEMBL148260</td>\n",
       "      <td>O=C(c1ccccc1)c1ccccc1OCC(O)CN1CCC(O)(c2ccccc2)CC1</td>\n",
       "      <td></td>\n",
       "      <td>6.51</td>\n",
       "      <td>1</td>\n",
       "    </tr>\n",
       "    <tr>\n",
       "      <th>1657</th>\n",
       "      <td>None_CHEMBL381164</td>\n",
       "      <td>COc1cc(OC)cc(-c2cccc(-c3ccc(O)cc3)c2)c1</td>\n",
       "      <td></td>\n",
       "      <td>4.51</td>\n",
       "      <td>0</td>\n",
       "    </tr>\n",
       "    <tr>\n",
       "      <th>1658</th>\n",
       "      <td>None_CHEMBL1253374</td>\n",
       "      <td>CC(C)(C)OC(=O)[C@H](CCCCNC(=O)OCc1ccccc1)NC(=O...</td>\n",
       "      <td></td>\n",
       "      <td>6.14</td>\n",
       "      <td>1</td>\n",
       "    </tr>\n",
       "  </tbody>\n",
       "</table>\n",
       "<p>1659 rows × 5 columns</p>\n",
       "</div>"
      ],
      "text/plain": [
       "             compound_id                                  base_rdkit_smiles  \\\n",
       "0     None_CHEMBL2449407    CCC(=O)c1ccccc1OC[C@H](O)CN1CCC(O)(c2ccccc2)CC1   \n",
       "1     None_CHEMBL2372486  C/C=C/C[C@@H](C)[C@@H](O)[C@H]1C(=O)N[C@@H]([C...   \n",
       "2      None_CHEMBL397350  CC(=O)O[C@H]1[C@@H](OC(=O)c2ccco2)C[C@@](C)(O)...   \n",
       "3     None_CHEMBL2449323  CC(C)(C)OC(=O)C(Cc1ccccc1)N[C@@H]1c2cc(C#N)ccc...   \n",
       "4     None_CHEMBL4285277   COc1cc2c(cc1OC)CN(Cc1ccc(-c3ccc(O)cc3)c(F)c1)CC2   \n",
       "...                  ...                                                ...   \n",
       "1654   None_CHEMBL375089  COc1ccc(OCC(O)CN2CCN(c3ccccc3C)CC2)c(C(=O)CCc2...   \n",
       "1655   None_CHEMBL573233                       Nc1nc(SCCc2ccccc2)nc2ccccc12   \n",
       "1656   None_CHEMBL148260  O=C(c1ccccc1)c1ccccc1OCC(O)CN1CCC(O)(c2ccccc2)CC1   \n",
       "1657   None_CHEMBL381164            COc1cc(OC)cc(-c2cccc(-c3ccc(O)cc3)c2)c1   \n",
       "1658  None_CHEMBL1253374  CC(C)(C)OC(=O)[C@H](CCCCNC(=O)OCc1ccccc1)NC(=O...   \n",
       "\n",
       "     relation  pAct_pgp  active  \n",
       "0                  6.52       1  \n",
       "1                  5.37       0  \n",
       "2                  5.66       0  \n",
       "3                  6.26       1  \n",
       "4                  5.21       0  \n",
       "...       ...       ...     ...  \n",
       "1654               6.75       1  \n",
       "1655               5.96       0  \n",
       "1656               6.51       1  \n",
       "1657               4.51       0  \n",
       "1658               6.14       1  \n",
       "\n",
       "[1659 rows x 5 columns]"
      ]
     },
     "execution_count": 13,
     "metadata": {},
     "output_type": "execute_result"
    }
   ],
   "source": [
    "dfp_cur"
   ]
  },
  {
   "cell_type": "code",
   "execution_count": 14,
   "metadata": {
    "colab": {
     "base_uri": "https://localhost:8080/"
    },
    "id": "Vxkxry8oBLY4",
    "outputId": "e90a3544-0626-4fd0-e4ac-bea21a0f6abb"
   },
   "outputs": [
    {
     "name": "stdout",
     "output_type": "stream",
     "text": [
      "actives: 644 , inactives: 1015\n"
     ]
    }
   ],
   "source": [
    "print('actives:', dfp_cur.active.sum(), \", inactives:\", len(dfp_cur)-dfp_cur.active.sum())"
   ]
  },
  {
   "cell_type": "code",
   "execution_count": 15,
   "metadata": {
    "colab": {
     "base_uri": "https://localhost:8080/"
    },
    "id": "lenFGsPp9ClV",
    "outputId": "68dd6b66-a455-40cb-afa4-485d5cd27e6f"
   },
   "outputs": [
    {
     "name": "stdout",
     "output_type": "stream",
     "text": [
      "Total uncensored values: 1659\n"
     ]
    }
   ],
   "source": [
    "print(\"Total uncensored values:\", len(dfp_cur[dfp_cur.relation == '']))"
   ]
  },
  {
   "cell_type": "code",
   "execution_count": 16,
   "metadata": {
    "colab": {
     "base_uri": "https://localhost:8080/"
    },
    "id": "S2T4JchB9ClY",
    "outputId": "5dec87d2-bfe3-468b-a807-539f75172bec"
   },
   "outputs": [
    {
     "data": {
      "text/plain": [
       "Index(['compound_id', 'base_rdkit_smiles', 'relation', 'pAct_pgp', 'active'], dtype='object')"
      ]
     },
     "execution_count": 16,
     "metadata": {},
     "output_type": "execute_result"
    }
   ],
   "source": [
    "dfp_cur.columns"
   ]
  },
  {
   "cell_type": "code",
   "execution_count": 17,
   "metadata": {
    "colab": {
     "base_uri": "https://localhost:8080/"
    },
    "id": "kTdcCDxL9Clb",
    "outputId": "58803b42-f793-4f3c-f511-3838faa88597"
   },
   "outputs": [
    {
     "name": "stdout",
     "output_type": "stream",
     "text": [
      "Shape of curated dataframe: (1659, 5)\n"
     ]
    }
   ],
   "source": [
    "print(\"Shape of curated dataframe:\", dfp_cur.shape)"
   ]
  },
  {
   "cell_type": "markdown",
   "metadata": {
    "id": "kVW1EfiO9Clf"
   },
   "source": [
    "### **Step 3.5**: Repeat\n",
    "**Repeat** steps 1-3 for all dataframes you want to curate and merge."
   ]
  },
  {
   "cell_type": "code",
   "execution_count": 18,
   "metadata": {
    "colab": {
     "base_uri": "https://localhost:8080/"
    },
    "id": "DOgrGz-y-7Dn",
    "outputId": "06fe0644-73b2-43df-80e1-9f2647b368da"
   },
   "outputs": [
    {
     "name": "stdout",
     "output_type": "stream",
     "text": [
      "NA values: 0\n",
      "NA SMILES: 0\n"
     ]
    }
   ],
   "source": [
    "dfb = pd.read_csv(\"bcrp_chembl.csv\", index_col=0)\n",
    "# Missing values for measurement column in this dataset\n",
    "print(\"NA values:\", dfb.pAct.isna().sum())\n",
    "\n",
    "dfb.drop(dfb[dfb.pAct.isna()].index, inplace=True)\n",
    "\n",
    "# canonicalize smiles strings\n",
    "dfb['rdkit_smile'] = dfb['smile'].apply(curate_data.base_smiles_from_smiles)\n",
    "\n",
    "#remove chemicals without smiles strings\n",
    "print(\"NA SMILES:\", (dfb.smile=='').sum()+dfb.smile.isna().sum())\n",
    "\n",
    "dfb.drop(dfb[dfb.smile == \"\"].index, inplace=True)\n",
    "dfb.drop(dfb[dfb.smile.isna()].index, inplace=True)"
   ]
  },
  {
   "cell_type": "code",
   "execution_count": 19,
   "metadata": {
    "colab": {
     "base_uri": "https://localhost:8080/"
    },
    "id": "t85tMrGz98ib",
    "outputId": "6208bfe6-8f1d-4113-f60b-fe4e7678a54f"
   },
   "outputs": [
    {
     "name": "stdout",
     "output_type": "stream",
     "text": [
      "name dupes: 494\n",
      "smiles dupes: 494\n",
      "shape: (1251, 5)\n"
     ]
    }
   ],
   "source": [
    "# look at length of dataset and duplicates.\n",
    "print('name dupes:', dfb['chembl'].duplicated().sum())\n",
    "print('smiles dupes:', dfb.rdkit_smile.duplicated().sum())\n",
    "print('shape:',dfb.shape)"
   ]
  },
  {
   "cell_type": "code",
   "execution_count": 20,
   "metadata": {
    "colab": {
     "base_uri": "https://localhost:8080/"
    },
    "id": "BEoZ2uk89Clg",
    "outputId": "a6d7451a-71a0-4df2-eca0-cd47ef6f8abd"
   },
   "outputs": [
    {
     "name": "stdout",
     "output_type": "stream",
     "text": [
      "0 entries in input table are missing SMILES strings\n",
      "757 unique SMILES strings are reduced to 757 unique base SMILES strings\n",
      "actives: 385 , inactives: 372\n"
     ]
    }
   ],
   "source": [
    "# BCRP\n",
    "#run this for every pIC column\n",
    "dfb_cur = curate_data.aggregate_assay_data(dfb, \n",
    "                         value_col='pAct', \n",
    "                         output_value_col='pAct_bcrp',\n",
    "                         label_actives=True, \n",
    "                         active_thresh=thresh,\n",
    "                         id_col='chembl', \n",
    "                         smiles_col='rdkit_smile', \n",
    "                         relation_col='relationship', \n",
    "                         date_col=None)\n",
    "print('actives:', dfb_cur.active.sum(), \", inactives:\", len(dfb_cur)-dfb_cur.active.sum())"
   ]
  },
  {
   "cell_type": "code",
   "execution_count": 21,
   "metadata": {
    "colab": {
     "base_uri": "https://localhost:8080/"
    },
    "id": "H6LWpR5rxKOM",
    "outputId": "aa85ffd9-dbc9-4974-fa5a-ce49e85ebe92"
   },
   "outputs": [
    {
     "data": {
      "text/plain": [
       "Index(['compound_id', 'base_rdkit_smiles', 'relation', 'pAct_bcrp', 'active'], dtype='object')"
      ]
     },
     "execution_count": 21,
     "metadata": {},
     "output_type": "execute_result"
    }
   ],
   "source": [
    "dfb_cur.columns"
   ]
  },
  {
   "cell_type": "code",
   "execution_count": 22,
   "metadata": {
    "colab": {
     "base_uri": "https://localhost:8080/"
    },
    "id": "JGbtclg_9Clj",
    "outputId": "549fe136-9908-4897-d2f0-23fb55407653"
   },
   "outputs": [
    {
     "name": "stdout",
     "output_type": "stream",
     "text": [
      "Total uncensored values: 757\n",
      "Shape of curated dataframe: (757, 5)\n"
     ]
    }
   ],
   "source": [
    "print(\"Total uncensored values:\", len(dfb_cur[dfb_cur.relation == '']))\n",
    "print(\"Shape of curated dataframe:\", dfb_cur.shape)"
   ]
  },
  {
   "cell_type": "markdown",
   "metadata": {
    "id": "OEwUZEyy9CmK"
   },
   "source": [
    "### **Step 4:** Filter for other outliers\n",
    "### Filter large compounds\n",
    "In general, molecular weight >2000 is removed\n",
    "\n"
   ]
  },
  {
   "cell_type": "code",
   "execution_count": 23,
   "metadata": {
    "id": "zhzZBGYk9CmK"
   },
   "outputs": [],
   "source": [
    "# calculate molecular weight\n",
    "dfp_cur[\"mol_wt\"] = [Chem.Descriptors.ExactMolWt(Chem.MolFromSmiles(smile)) for smile in dfp_cur[\"base_rdkit_smiles\"]]\n",
    "dfb_cur[\"mol_wt\"] = [Chem.Descriptors.ExactMolWt(Chem.MolFromSmiles(smile)) for smile in dfb_cur[\"base_rdkit_smiles\"]]"
   ]
  },
  {
   "cell_type": "code",
   "execution_count": 24,
   "metadata": {
    "colab": {
     "base_uri": "https://localhost:8080/",
     "height": 303
    },
    "id": "qoBWHDaL9CmN",
    "outputId": "18874cc8-6815-4abb-c43a-9627c4ff9261"
   },
   "outputs": [
    {
     "data": {
      "image/png": "[encoded data removed]",
      "text/plain": [
       "<Figure size 2160x720 with 2 Axes>"
      ]
     },
     "metadata": {},
     "output_type": "display_data"
    }
   ],
   "source": [
    "# visualize distribution of molecular weights\n",
    "plot_df=dfp_cur\n",
    "plot_df=plot_df.sort_values(by='mol_wt')\n",
    "plot_df=plot_df.reset_index(drop=True)\n",
    "plot_df=plot_df.reset_index()\n",
    "\n",
    "fig,ax=plt.subplots(1,2, figsize=(30,10))\n",
    "plot_df.plot(kind='scatter', x='index', y='mol_wt', color = pal[0], ax=ax[0])\n",
    "plot_df.plot(kind='hist', x=\"index\", y=\"mol_wt\", color = pal[0], ax=ax[1])\n",
    "fig.suptitle(\"Distribution of molecular weights in P-GP dataset\");"
   ]
  },
  {
   "cell_type": "code",
   "execution_count": 25,
   "metadata": {
    "colab": {
     "base_uri": "https://localhost:8080/",
     "height": 307
    },
    "id": "I9LJH5bb3AD2",
    "outputId": "36ca2fda-1601-463d-aaa8-8c6d47348db3"
   },
   "outputs": [
    {
     "data": {
      "image/png": "[encoded data removed]",
      "text/plain": [
       "<Figure size 2160x720 with 2 Axes>"
      ]
     },
     "metadata": {},
     "output_type": "display_data"
    }
   ],
   "source": [
    "# visualize distribution of molecular weights\n",
    "plot_df=dfb_cur\n",
    "plot_df=plot_df.sort_values(by='mol_wt')\n",
    "plot_df=plot_df.reset_index(drop=True)\n",
    "plot_df=plot_df.reset_index()\n",
    "\n",
    "fig,ax=plt.subplots(1,2, figsize=(30,10))\n",
    "plot_df.plot(kind='scatter', x='index', y='mol_wt', color = pal[1], ax=ax[0])\n",
    "plot_df.plot(kind='hist', x=\"index\", y=\"mol_wt\", color = pal[1], ax=ax[1])\n",
    "fig.suptitle(\"Distribution of molecular weights in BCRP dataset\");"
   ]
  },
  {
   "cell_type": "code",
   "execution_count": 26,
   "metadata": {
    "id": "-Ay-8jKDpM-i"
   },
   "outputs": [],
   "source": [
    "# filter out high MWs\n",
    "dfp_cur=dfp_cur[dfp_cur.mol_wt<2000]\n",
    "dfb_cur=dfb_cur[dfb_cur.mol_wt<2000]"
   ]
  },
  {
   "cell_type": "markdown",
   "metadata": {
    "id": "JnMlRbhu3tzL"
   },
   "source": [
    "### Filter for outlier pIC50 values\n",
    "In general, pIC50 values are between 2 and 14"
   ]
  },
  {
   "cell_type": "code",
   "execution_count": 27,
   "metadata": {
    "colab": {
     "base_uri": "https://localhost:8080/",
     "height": 312
    },
    "id": "uUDLQghQ3shk",
    "outputId": "b48c76ef-828a-44b6-bae1-97205ad018d6"
   },
   "outputs": [
    {
     "data": {
      "image/png": "[encoded data removed]",
      "text/plain": [
       "<Figure size 2160x720 with 2 Axes>"
      ]
     },
     "metadata": {},
     "output_type": "display_data"
    }
   ],
   "source": [
    "# visualize distribution of pActivity values\n",
    "plot_df=dfp_cur\n",
    "plot_df=plot_df.sort_values(by='pAct_pgp')\n",
    "plot_df=plot_df.reset_index(drop=True)\n",
    "plot_df=plot_df.reset_index()\n",
    "\n",
    "fig,ax=plt.subplots(1,2, figsize=(30,10))\n",
    "plot_df.plot(kind='scatter', x='index', y='pAct_pgp', color = pal[0], ax=ax[0])\n",
    "plot_df.plot(kind='hist', x=\"index\", y=\"pAct_pgp\", color = pal[0], ax=ax[1])\n",
    "fig.suptitle(\"Distribution of pActivity values in P-GP dataset\");"
   ]
  },
  {
   "cell_type": "code",
   "execution_count": 28,
   "metadata": {
    "colab": {
     "base_uri": "https://localhost:8080/",
     "height": 312
    },
    "id": "SXad5p8m4gGK",
    "outputId": "df4d36c1-5f58-4643-fa35-f78625632ba6"
   },
   "outputs": [
    {
     "data": {
      "image/png": "[encoded data removed]",
      "text/plain": [
       "<Figure size 2160x720 with 2 Axes>"
      ]
     },
     "metadata": {},
     "output_type": "display_data"
    }
   ],
   "source": [
    "# visualize distribution of pActivity values\n",
    "plot_df=dfb_cur\n",
    "plot_df=plot_df.sort_values(by='pAct_bcrp')\n",
    "plot_df=plot_df.reset_index(drop=True)\n",
    "plot_df=plot_df.reset_index()\n",
    "\n",
    "fig,ax=plt.subplots(1,2, figsize=(30,10))\n",
    "plot_df.plot(kind='scatter', x='index', y='pAct_bcrp', color = pal[1], ax=ax[0])\n",
    "plot_df.plot(kind='hist', x=\"index\", y=\"pAct_bcrp\", color = pal[1], ax=ax[1])\n",
    "fig.suptitle(\"Distribution of pActivity values in BCRP dataset\");"
   ]
  },
  {
   "cell_type": "code",
   "execution_count": 29,
   "metadata": {
    "id": "SelYOeUy6GsO"
   },
   "outputs": [],
   "source": [
    "# filter high or low pIC50 values\n",
    "dfp_cur=dfp_cur[dfp_cur.pAct_pgp<14]\n",
    "dfp_cur=dfp_cur[dfp_cur.pAct_pgp>2]\n",
    "\n",
    "dfb_cur=dfb_cur[dfb_cur.pAct_bcrp<14]\n",
    "dfb_cur=dfb_cur[dfb_cur.pAct_bcrp>2]"
   ]
  },
  {
   "cell_type": "markdown",
   "metadata": {
    "id": "OK60Bu3f9Clt"
   },
   "source": [
    "### **Step 5**: (optional)  Merge datasets for multitask modeling\n",
    "Merge processed assay values together for each dataframe."
   ]
  },
  {
   "cell_type": "code",
   "execution_count": 30,
   "metadata": {
    "colab": {
     "base_uri": "https://localhost:8080/"
    },
    "id": "4OSkxIxS9Clu",
    "outputId": "0331402e-a023-416c-8f93-dd0a7eb5d829"
   },
   "outputs": [
    {
     "name": "stdout",
     "output_type": "stream",
     "text": [
      "Index(['compound_id', 'base_rdkit_smiles', 'relation', 'pAct_pgp', 'active',\n",
      "       'mol_wt'],\n",
      "      dtype='object')\n",
      "Index(['compound_id', 'base_rdkit_smiles', 'relation', 'pAct_bcrp', 'active',\n",
      "       'mol_wt'],\n",
      "      dtype='object')\n"
     ]
    }
   ],
   "source": [
    "print(dfp_cur.columns)\n",
    "print(dfb_cur.columns)"
   ]
  },
  {
   "cell_type": "code",
   "execution_count": 31,
   "metadata": {
    "colab": {
     "base_uri": "https://localhost:8080/",
     "height": 483
    },
    "id": "BttjMncc2BP1",
    "outputId": "234212d3-cbf2-4157-ec4f-658434a3d4c4"
   },
   "outputs": [
    {
     "data": {
      "image/png": "[encoded data removed]",
      "text/plain": [
       "<Figure size 720x720 with 1 Axes>"
      ]
     },
     "metadata": {},
     "output_type": "display_data"
    }
   ],
   "source": [
    "mpv.venn2_unweighted([set(dfp_cur[\"base_rdkit_smiles\"]), set(dfb_cur[\"base_rdkit_smiles\"])], set_labels = (\"pgp\", \"bcrp\"), set_colors = (pal[0], pal[1]))\n",
    "plt.title('Overlap of compounds for P-GP and BCRP datasets');"
   ]
  },
  {
   "cell_type": "code",
   "execution_count": 32,
   "metadata": {
    "colab": {
     "base_uri": "https://localhost:8080/"
    },
    "id": "U3LrsJRc2LO5",
    "outputId": "487828f4-5025-49ce-c0fe-23a0981e9b51"
   },
   "outputs": [
    {
     "data": {
      "text/plain": [
       "2217"
      ]
     },
     "execution_count": 32,
     "metadata": {},
     "output_type": "execute_result"
    }
   ],
   "source": [
    "# sanity check:\n",
    "1659+757-199"
   ]
  },
  {
   "cell_type": "code",
   "execution_count": 33,
   "metadata": {
    "colab": {
     "base_uri": "https://localhost:8080/"
    },
    "id": "VzR9VOg29Cly",
    "outputId": "04d87f88-12bf-47b0-985c-6bd79c835b66"
   },
   "outputs": [
    {
     "name": "stdout",
     "output_type": "stream",
     "text": [
      "Shape of merge1 dataframe: (2218, 9)\n"
     ]
    },
    {
     "data": {
      "text/plain": [
       "Index(['compound_id', 'base_rdkit_smiles', 'relation_pgp', 'pAct_pgp',\n",
       "       'active_pgp', 'mol_wt', 'relation_bcrp', 'pAct_bcrp', 'active_bcrp'],\n",
       "      dtype='object')"
      ]
     },
     "execution_count": 33,
     "metadata": {},
     "output_type": "execute_result"
    }
   ],
   "source": [
    "merge1 = pd.merge(dfp_cur, dfb_cur, how=\"outer\", on=(\"compound_id\", \"base_rdkit_smiles\", 'mol_wt'), suffixes = (\"_pgp\", \"_bcrp\"))\n",
    "print(\"Shape of merge1 dataframe:\", merge1.shape)\n",
    "merge1.columns"
   ]
  },
  {
   "cell_type": "markdown",
   "metadata": {
    "id": "iNqow6Q1pqyX"
   },
   "source": [
    "### **Step 6: Double check for duplicate and missing values**\n",
    "Depending on your purpose, it may or may not matter if you have duplicates. Here we have a chemical with / without hydrochloride salt that reduces to the same base smiles. We will correct this single duplicate row. For more extensive differences, correct values in original csv's and start at step 1."
   ]
  },
  {
   "cell_type": "code",
   "execution_count": 34,
   "metadata": {
    "colab": {
     "base_uri": "https://localhost:8080/"
    },
    "id": "VFgQahoe9Cmc",
    "outputId": "691b9371-eb69-405e-b040-09b04950f65e"
   },
   "outputs": [
    {
     "name": "stdout",
     "output_type": "stream",
     "text": [
      "Name of dataset: merge1\n",
      "Length of dataset: 2218\n",
      "\n",
      "Missing compound_id entries: 0\n",
      "Duplicate chembl_ids: 0\n",
      "\n",
      "Missing SMILES: 0\n",
      "Duplicate SMILES: 1\n",
      "\n",
      "Missing values should only be target-specific now because not all compounds have all measurements:\n",
      "Other missing values: ['relation_pgp', 'pAct_pgp', 'active_pgp', 'relation_bcrp', 'pAct_bcrp', 'active_bcrp']\n",
      "Missing P-GP values: 559\n",
      "Missing BCRP values: 1461\n"
     ]
    }
   ],
   "source": [
    "# check for missing or duplicate values: \n",
    "print(\"Name of dataset: merge1\")\n",
    "print(\"Length of dataset:\", merge1.shape[0])\n",
    "\n",
    "print(\"\\nMissing compound_id entries:\", merge1['compound_id'].isna().sum())\n",
    "print(\"Duplicate chembl_ids:\", merge1['compound_id'].duplicated().sum())\n",
    "\n",
    "print(\"\\nMissing SMILES:\", merge1['base_rdkit_smiles'].isna().sum())\n",
    "print(\"Duplicate SMILES:\", merge1['base_rdkit_smiles'].duplicated().sum())\n",
    "\n",
    "print(\"\\nMissing values should only be target-specific now because not all compounds have all measurements:\")\n",
    "print(\"Other missing values:\", merge1.columns[merge1.isna().any()].tolist())\n",
    "print(\"Missing P-GP values:\", merge1['pAct_pgp'].isna().sum())\n",
    "print(\"Missing BCRP values:\", merge1['pAct_bcrp'].isna().sum())"
   ]
  },
  {
   "cell_type": "code",
   "execution_count": 35,
   "metadata": {
    "colab": {
     "base_uri": "https://localhost:8080/",
     "height": 149
    },
    "id": "I7DlYT1lp13K",
    "outputId": "3dc4f092-21be-4851-c09f-b4eaeabb990f"
   },
   "outputs": [
    {
     "data": {
      "text/html": [
       "<div>\n",
       "<style scoped>\n",
       "    .dataframe tbody tr th:only-of-type {\n",
       "        vertical-align: middle;\n",
       "    }\n",
       "\n",
       "    .dataframe tbody tr th {\n",
       "        vertical-align: top;\n",
       "    }\n",
       "\n",
       "    .dataframe thead th {\n",
       "        text-align: right;\n",
       "    }\n",
       "</style>\n",
       "<table border=\"1\" class=\"dataframe\">\n",
       "  <thead>\n",
       "    <tr style=\"text-align: right;\">\n",
       "      <th></th>\n",
       "      <th>compound_id</th>\n",
       "      <th>base_rdkit_smiles</th>\n",
       "      <th>relation_pgp</th>\n",
       "      <th>pAct_pgp</th>\n",
       "      <th>active_pgp</th>\n",
       "      <th>mol_wt</th>\n",
       "      <th>relation_bcrp</th>\n",
       "      <th>pAct_bcrp</th>\n",
       "      <th>active_bcrp</th>\n",
       "    </tr>\n",
       "  </thead>\n",
       "  <tbody>\n",
       "    <tr>\n",
       "      <th>1292</th>\n",
       "      <td>ELACRIDAR HYDROCHLORIDE_CHEMBL2074730</td>\n",
       "      <td>COc1cc2c(cc1OC)CN(CCc1ccc(NC(=O)c3cccc4c(=O)c5...</td>\n",
       "      <td></td>\n",
       "      <td>6.383</td>\n",
       "      <td>1.0</td>\n",
       "      <td>563.242021</td>\n",
       "      <td>NaN</td>\n",
       "      <td>NaN</td>\n",
       "      <td>NaN</td>\n",
       "    </tr>\n",
       "    <tr>\n",
       "      <th>1789</th>\n",
       "      <td>ELACRIDAR_CHEMBL396298</td>\n",
       "      <td>COc1cc2c(cc1OC)CN(CCc1ccc(NC(=O)c3cccc4c(=O)c5...</td>\n",
       "      <td>NaN</td>\n",
       "      <td>NaN</td>\n",
       "      <td>NaN</td>\n",
       "      <td>563.242021</td>\n",
       "      <td></td>\n",
       "      <td>6.593333</td>\n",
       "      <td>1.0</td>\n",
       "    </tr>\n",
       "  </tbody>\n",
       "</table>\n",
       "</div>"
      ],
      "text/plain": [
       "                                compound_id  \\\n",
       "1292  ELACRIDAR HYDROCHLORIDE_CHEMBL2074730   \n",
       "1789                 ELACRIDAR_CHEMBL396298   \n",
       "\n",
       "                                      base_rdkit_smiles relation_pgp  \\\n",
       "1292  COc1cc2c(cc1OC)CN(CCc1ccc(NC(=O)c3cccc4c(=O)c5...                \n",
       "1789  COc1cc2c(cc1OC)CN(CCc1ccc(NC(=O)c3cccc4c(=O)c5...          NaN   \n",
       "\n",
       "      pAct_pgp  active_pgp      mol_wt relation_bcrp  pAct_bcrp  active_bcrp  \n",
       "1292     6.383         1.0  563.242021           NaN        NaN          NaN  \n",
       "1789       NaN         NaN  563.242021                 6.593333          1.0  "
      ]
     },
     "execution_count": 35,
     "metadata": {},
     "output_type": "execute_result"
    }
   ],
   "source": [
    "# what SMILES is duplicated, and why?\n",
    "merge1[merge1.base_rdkit_smiles.duplicated(keep=False)]"
   ]
  },
  {
   "cell_type": "code",
   "execution_count": 36,
   "metadata": {
    "colab": {
     "base_uri": "https://localhost:8080/",
     "height": 299
    },
    "id": "sQR4S6P_qucO",
    "outputId": "7c01c81d-2f45-417c-f2be-8a708e5554c6"
   },
   "outputs": [
    {
     "name": "stdout",
     "output_type": "stream",
     "text": [
      "Fixed row:\n"
     ]
    },
    {
     "data": {
      "text/html": [
       "<div>\n",
       "<style scoped>\n",
       "    .dataframe tbody tr th:only-of-type {\n",
       "        vertical-align: middle;\n",
       "    }\n",
       "\n",
       "    .dataframe tbody tr th {\n",
       "        vertical-align: top;\n",
       "    }\n",
       "\n",
       "    .dataframe thead th {\n",
       "        text-align: right;\n",
       "    }\n",
       "</style>\n",
       "<table border=\"1\" class=\"dataframe\">\n",
       "  <thead>\n",
       "    <tr style=\"text-align: right;\">\n",
       "      <th></th>\n",
       "      <th>compound_id</th>\n",
       "      <th>base_rdkit_smiles</th>\n",
       "      <th>relation_pgp</th>\n",
       "      <th>pAct_pgp</th>\n",
       "      <th>active_pgp</th>\n",
       "      <th>mol_wt</th>\n",
       "      <th>relation_bcrp</th>\n",
       "      <th>pAct_bcrp</th>\n",
       "      <th>active_bcrp</th>\n",
       "    </tr>\n",
       "  </thead>\n",
       "  <tbody>\n",
       "    <tr>\n",
       "      <th>1916</th>\n",
       "      <td>None_CHEMBL4204291</td>\n",
       "      <td>COCCOc1cc2c(cc1OC)CCN(CC(=O)c1ccc(C)c(NC(=O)c3...</td>\n",
       "      <td></td>\n",
       "      <td>6.22</td>\n",
       "      <td>1.0</td>\n",
       "      <td>539.242021</td>\n",
       "      <td></td>\n",
       "      <td>4.63</td>\n",
       "      <td>0.0</td>\n",
       "    </tr>\n",
       "  </tbody>\n",
       "</table>\n",
       "</div>"
      ],
      "text/plain": [
       "             compound_id                                  base_rdkit_smiles  \\\n",
       "1916  None_CHEMBL4204291  COCCOc1cc2c(cc1OC)CCN(CC(=O)c1ccc(C)c(NC(=O)c3...   \n",
       "\n",
       "     relation_pgp  pAct_pgp  active_pgp      mol_wt relation_bcrp  pAct_bcrp  \\\n",
       "1916                   6.22         1.0  539.242021                     4.63   \n",
       "\n",
       "      active_bcrp  \n",
       "1916          0.0  "
      ]
     },
     "metadata": {},
     "output_type": "display_data"
    },
    {
     "name": "stdout",
     "output_type": "stream",
     "text": [
      "\n",
      "Remaining duplicates:\n"
     ]
    },
    {
     "data": {
      "text/html": [
       "<div>\n",
       "<style scoped>\n",
       "    .dataframe tbody tr th:only-of-type {\n",
       "        vertical-align: middle;\n",
       "    }\n",
       "\n",
       "    .dataframe tbody tr th {\n",
       "        vertical-align: top;\n",
       "    }\n",
       "\n",
       "    .dataframe thead th {\n",
       "        text-align: right;\n",
       "    }\n",
       "</style>\n",
       "<table border=\"1\" class=\"dataframe\">\n",
       "  <thead>\n",
       "    <tr style=\"text-align: right;\">\n",
       "      <th></th>\n",
       "      <th>compound_id</th>\n",
       "      <th>base_rdkit_smiles</th>\n",
       "      <th>relation_pgp</th>\n",
       "      <th>pAct_pgp</th>\n",
       "      <th>active_pgp</th>\n",
       "      <th>mol_wt</th>\n",
       "      <th>relation_bcrp</th>\n",
       "      <th>pAct_bcrp</th>\n",
       "      <th>active_bcrp</th>\n",
       "    </tr>\n",
       "  </thead>\n",
       "  <tbody>\n",
       "    <tr>\n",
       "      <th>1292</th>\n",
       "      <td>ELACRIDAR HYDROCHLORIDE_CHEMBL2074730</td>\n",
       "      <td>COc1cc2c(cc1OC)CN(CCc1ccc(NC(=O)c3cccc4c(=O)c5...</td>\n",
       "      <td></td>\n",
       "      <td>6.383</td>\n",
       "      <td>1.0</td>\n",
       "      <td>563.242021</td>\n",
       "      <td>NaN</td>\n",
       "      <td>NaN</td>\n",
       "      <td>NaN</td>\n",
       "    </tr>\n",
       "    <tr>\n",
       "      <th>1789</th>\n",
       "      <td>ELACRIDAR_CHEMBL396298</td>\n",
       "      <td>COc1cc2c(cc1OC)CN(CCc1ccc(NC(=O)c3cccc4c(=O)c5...</td>\n",
       "      <td>NaN</td>\n",
       "      <td>NaN</td>\n",
       "      <td>NaN</td>\n",
       "      <td>563.242021</td>\n",
       "      <td></td>\n",
       "      <td>6.593333</td>\n",
       "      <td>1.0</td>\n",
       "    </tr>\n",
       "  </tbody>\n",
       "</table>\n",
       "</div>"
      ],
      "text/plain": [
       "                                compound_id  \\\n",
       "1292  ELACRIDAR HYDROCHLORIDE_CHEMBL2074730   \n",
       "1789                 ELACRIDAR_CHEMBL396298   \n",
       "\n",
       "                                      base_rdkit_smiles relation_pgp  \\\n",
       "1292  COc1cc2c(cc1OC)CN(CCc1ccc(NC(=O)c3cccc4c(=O)c5...                \n",
       "1789  COc1cc2c(cc1OC)CN(CCc1ccc(NC(=O)c3cccc4c(=O)c5...          NaN   \n",
       "\n",
       "      pAct_pgp  active_pgp      mol_wt relation_bcrp  pAct_bcrp  active_bcrp  \n",
       "1292     6.383         1.0  563.242021           NaN        NaN          NaN  \n",
       "1789       NaN         NaN  563.242021                 6.593333          1.0  "
      ]
     },
     "metadata": {},
     "output_type": "display_data"
    },
    {
     "name": "stdout",
     "output_type": "stream",
     "text": [
      "\n",
      "Shape of deduplicated dataframe: (2217, 9)\n"
     ]
    }
   ],
   "source": [
    "# manually fix these rows\n",
    "merge1.loc[merge1.index==1916, 'relation_pgp'] = merge1.iloc[203].relation_pgp\n",
    "merge1.loc[merge1.index==1916, 'pAct_pgp'] = merge1.iloc[203].pAct_pgp\n",
    "merge1.loc[merge1.index==1916, 'active_pgp'] = merge1.iloc[203].active_pgp\n",
    "merge1=merge1.drop(index=203)\n",
    "\n",
    "print('Fixed row:')\n",
    "display(merge1[merge1.index==1916])\n",
    "print('\\nRemaining duplicates:')\n",
    "display(merge1[merge1.base_rdkit_smiles.duplicated(keep=False)])\n",
    "print('\\nShape of deduplicated dataframe:', merge1.shape)\n"
   ]
  },
  {
   "cell_type": "markdown",
   "metadata": {
    "id": "kHi_CXgPvniG"
   },
   "source": [
    "### **Step 6.5:** repeat"
   ]
  },
  {
   "cell_type": "code",
   "execution_count": 37,
   "metadata": {
    "colab": {
     "base_uri": "https://localhost:8080/"
    },
    "id": "HQeAiik1vr6x",
    "outputId": "05f6bc11-08c3-4d8d-ab72-df433cbedf83"
   },
   "outputs": [
    {
     "name": "stdout",
     "output_type": "stream",
     "text": [
      "Name of dataset: dfp_cur\n",
      "Length of dataset: 1659\n",
      "\n",
      "Missing compound_id entries: 0\n",
      "Duplicate chembl_ids: 0\n",
      "\n",
      "Missing SMILES: 0\n",
      "Duplicate SMILES: 0\n",
      "\n",
      "Other missing values: []\n",
      "Missing P-GP values: 0\n"
     ]
    }
   ],
   "source": [
    "# check for missing or duplicate values: \n",
    "print(\"Name of dataset: dfp_cur\")\n",
    "print(\"Length of dataset:\", dfp_cur.shape[0])\n",
    "\n",
    "print(\"\\nMissing compound_id entries:\", dfp_cur['compound_id'].isna().sum())\n",
    "print(\"Duplicate chembl_ids:\", dfp_cur['compound_id'].duplicated().sum())\n",
    "\n",
    "print(\"\\nMissing SMILES:\", dfp_cur['base_rdkit_smiles'].isna().sum())\n",
    "print(\"Duplicate SMILES:\", dfp_cur['base_rdkit_smiles'].duplicated().sum())\n",
    "\n",
    "print(\"\\nOther missing values:\", dfp_cur.columns[dfp_cur.isna().any()].tolist())\n",
    "print(\"Missing P-GP values:\", dfp_cur['pAct_pgp'].isna().sum())"
   ]
  },
  {
   "cell_type": "code",
   "execution_count": 38,
   "metadata": {
    "colab": {
     "base_uri": "https://localhost:8080/"
    },
    "id": "pbfYc6mpv4JR",
    "outputId": "333389af-78aa-498d-ed20-66f2e0e67e50"
   },
   "outputs": [
    {
     "name": "stdout",
     "output_type": "stream",
     "text": [
      "Name of dataset: dfb_cur\n",
      "Length of dataset: 757\n",
      "\n",
      "Missing compound_id entries: 0\n",
      "Duplicate chembl_ids: 0\n",
      "\n",
      "Missing SMILES: 0\n",
      "Duplicate SMILES: 0\n",
      "\n",
      "Other missing values: []\n",
      "Missing BCRP values: 0\n"
     ]
    }
   ],
   "source": [
    "# check for missing or duplicate values: \n",
    "print(\"Name of dataset: dfb_cur\")\n",
    "print(\"Length of dataset:\", dfb_cur.shape[0])\n",
    "\n",
    "print(\"\\nMissing compound_id entries:\", dfb_cur['compound_id'].isna().sum())\n",
    "print(\"Duplicate chembl_ids:\", dfb_cur['compound_id'].duplicated().sum())\n",
    "\n",
    "print(\"\\nMissing SMILES:\", dfb_cur['base_rdkit_smiles'].isna().sum())\n",
    "print(\"Duplicate SMILES:\", dfb_cur['base_rdkit_smiles'].duplicated().sum())\n",
    "\n",
    "print(\"\\nOther missing values:\", dfb_cur.columns[dfb_cur.isna().any()].tolist())\n",
    "print(\"Missing BCRP values:\", dfb_cur['pAct_bcrp'].isna().sum())"
   ]
  },
  {
   "cell_type": "markdown",
   "metadata": {
    "id": "07M3vQ7E9Cmi"
   },
   "source": [
    "### **Step 7:** Save dataframes"
   ]
  },
  {
   "cell_type": "code",
   "execution_count": 39,
   "metadata": {
    "colab": {
     "base_uri": "https://localhost:8080/"
    },
    "id": "jX9a0q5W9Cmi",
    "outputId": "b1069493-280f-420c-8241-a507b8a2d46f"
   },
   "outputs": [
    {
     "name": "stdout",
     "output_type": "stream",
     "text": [
      "/content\n"
     ]
    }
   ],
   "source": [
    "!pwd"
   ]
  },
  {
   "cell_type": "code",
   "execution_count": 40,
   "metadata": {
    "id": "d_io6wJb9Cml"
   },
   "outputs": [],
   "source": [
    "dfp_cur.to_csv(\"pgp_curated.csv\")\n",
    "dfb_cur.to_csv(\"bcrp_curated.csv\")\n",
    "merge1.to_csv(\"pgp_bcrp_merged.csv\")"
   ]
  },
  {
   "cell_type": "markdown",
   "metadata": {
    "id": "vAL2m49voFqB"
   },
   "source": [
    "## Optional steps:\n",
    "\n",
    "If you want to save the files, then mount your Google Drive and copy it to a directory of your choice"
   ]
  },
  {
   "cell_type": "code",
   "execution_count": 41,
   "metadata": {
    "id": "c5YG2saNoCYP"
   },
   "outputs": [],
   "source": [
    "# from google.colab import drive\n",
    "# drive.mount('/content/drive')"
   ]
  },
  {
   "cell_type": "code",
   "execution_count": 42,
   "metadata": {
    "id": "Ybg-ZmbF97nR"
   },
   "outputs": [],
   "source": [
    "#copy files back to google drive to use them for other notebooks.\n",
    "# %%bash\n",
    "\n",
    "# cp /content/bcrp_curated.csv /content/drive/My\\ Drive/\n",
    "# cp /content/pgp_curated.csv /content/drive/My\\ Drive/\n",
    "# cp /content/pgp_bcrp_merged.csv /content/drive/My\\ Drive/\n",
    "# cp /content/pgp_chembl.csv /content/drive/My\\ Drive/\n",
    "# cp /content/bcrp_chembl.csv /content/drive/My\\ Drive/"
   ]
  },
  {
   "cell_type": "code",
   "execution_count": 43,
   "metadata": {
    "colab": {
     "base_uri": "https://localhost:8080/"
    },
    "id": "QGL79-__jgQu",
    "outputId": "3dea7320-f1df-4b0d-8ccc-8524f6f6de54"
   },
   "outputs": [
    {
     "name": "stdout",
     "output_type": "stream",
     "text": [
      "total 908\n",
      "-rw-r--r-- 1 root root 106807 Sep 17 12:53 bcrp_chembl.csv\n",
      "-rw-r--r-- 1 root root  78057 Sep 17 12:53 bcrp_curated.csv\n",
      "drwxr-xr-x 5 root root   4096 Sep 17 12:52 github\n",
      "-rwxr--r-- 1 root root   1124 Sep 17 12:52 install_AMPL_GPU_test.sh\n",
      "-rw-r--r-- 1 root root 265411 Sep 17 12:53 pgp_bcrp_merged.csv\n",
      "-rw-r--r-- 1 root root 261853 Sep 17 12:53 pgp_chembl.csv\n",
      "-rw-r--r-- 1 root root 194996 Sep 17 12:53 pgp_curated.csv\n",
      "drwxr-xr-x 1 root root   4096 Sep  1 19:26 sample_data\n"
     ]
    }
   ],
   "source": [
    "!ls -l "
   ]
  },
  {
   "cell_type": "code",
   "execution_count": 44,
   "metadata": {
    "colab": {
     "base_uri": "https://localhost:8080/"
    },
    "id": "TjO8o7-gr2ux",
    "outputId": "99a32352-6f27-4a12-f8c3-b8bd0e35d461"
   },
   "outputs": [
    {
     "name": "stdout",
     "output_type": "stream",
     "text": [
      "Fri Sep 17 12:53:34 UTC 2021\n"
     ]
    }
   ],
   "source": [
    "!date"
   ]
  },
  {
   "cell_type": "code",
   "execution_count": 45,
   "metadata": {
    "colab": {
     "base_uri": "https://localhost:8080/"
    },
    "id": "hOr8WFfnr1A6",
    "outputId": "a82fd3e6-31ed-4baf-eb29-a59fe70e4e5e"
   },
   "outputs": [
    {
     "name": "stdout",
     "output_type": "stream",
     "text": [
      "done\n"
     ]
    }
   ],
   "source": [
    "!echo \"done\""
   ]
  }
 ],
 "metadata": {
  "accelerator": "GPU",
  "colab": {
   "collapsed_sections": [],
   "include_colab_link": true,
   "name": "05_EDA_Curate_Merge_Visualize.ipynb",
   "provenance": []
  },
  "kernelspec": {
   "display_name": "Python 3",
   "language": "python",
   "name": "python3"
  },
  "language_info": {
   "codemirror_mode": {
    "name": "ipython",
    "version": 3
   },
   "file_extension": ".py",
   "mimetype": "text/x-python",
   "name": "python",
   "nbconvert_exporter": "python",
   "pygments_lexer": "ipython3",
   "version": "3.7.2"
  }
 },
 "nbformat": 4,
 "nbformat_minor": 4
}
