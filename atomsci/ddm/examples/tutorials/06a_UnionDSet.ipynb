{
 "cells": [
  {
   "cell_type": "markdown",
   "metadata": {
    "colab_type": "text",
    "id": "view-in-github"
   },
   "source": [
    "<a href=\"https://colab.research.google.com/github/ATOMScience-org/AMPL/blob/master/atomsci/ddm/examples/tutorials/06a_UnionDSet.ipynb\" target=\"_parent\"><img src=\"https://colab.research.google.com/assets/colab-badge.svg\" alt=\"Open In Colab\"/></a>"
   ]
  },
  {
   "cell_type": "markdown",
   "metadata": {
    "id": "e5f3b52f"
   },
   "source": [
    "## Unionset Train/Test data creation ( ~ 8 minutes)"
   ]
  },
  {
   "cell_type": "markdown",
   "metadata": {
    "id": "c6b2d828"
   },
   "source": [
    "This notebook explain the steps for creating Union Train/test set data"
   ]
  },
  {
   "cell_type": "markdown",
   "metadata": {
    "id": "c24175ca"
   },
   "source": [
    "# Install AMPL "
   ]
  },
  {
   "cell_type": "code",
   "execution_count": 1,
   "metadata": {
    "colab": {
     "base_uri": "https://localhost:8080/"
    },
    "id": "nexuh1jfr9uk",
    "outputId": "ccf6b5f5-5b5d-4748-c1d5-0ae1135772ee"
   },
   "outputs": [
    {
     "name": "stdout",
     "output_type": "stream",
     "text": [
      "Sat Sep 18 12:18:47 UTC 2021\n"
     ]
    }
   ],
   "source": [
    "!date"
   ]
  },
  {
   "cell_type": "code",
   "execution_count": null,
   "metadata": {
    "id": "xinibf8YiTW-"
   },
   "outputs": [],
   "source": [
    "! pip install rdkit-pypi\n",
    "! pip install deepchem\n",
    "\n",
    "import deepchem\n",
    "# print(deepchem.__version__)\n",
    "! pip install umap\n",
    "! pip install -U --ignore-installed numba\n",
    "! pip install umap-learn\n",
    "! pip install molvs\n",
    "! pip install bravado"
   ]
  },
  {
   "cell_type": "code",
   "execution_count": null,
   "metadata": {
    "id": "GOxOeGhTizEI"
   },
   "outputs": [],
   "source": [
    "import deepchem as dc\n",
    "\n",
    "# get the Install AMPL_GPU_test.sh\n",
    "!wget 'https://raw.githubusercontent.com/ATOMScience-org/AMPL/master/atomsci/ddm/examples/tutorials/config/install_AMPL_GPU_test.sh'\n",
    "# run the script to install AMPL\n",
    "! chmod u+x install_AMPL_GPU_test.sh\n",
    "! ./install_AMPL_GPU_test.sh"
   ]
  },
  {
   "cell_type": "markdown",
   "metadata": {
    "id": "46513490"
   },
   "source": [
    "# Load libraries"
   ]
  },
  {
   "cell_type": "code",
   "execution_count": 4,
   "metadata": {
    "id": "51ce3deb"
   },
   "outputs": [],
   "source": [
    "import matplotlib\n",
    "matplotlib.use('Agg')\n",
    "import pandas as pd, os, csv\n",
    "import numpy as np\n",
    "\n",
    "import atomsci.ddm.pipeline.chem_diversity as cd\n",
    "import seaborn as sns\n",
    "import matplotlib.pyplot as plt\n",
    "from matplotlib_venn import venn3\n",
    "\n",
    "# import genTestSet\n",
    "# comment for now\n",
    "from atomsci.ddm.utils import genTestset\n",
    "from atomsci.ddm.utils.genTestset import * "
   ]
  },
  {
   "cell_type": "markdown",
   "metadata": {
    "id": "08093e01"
   },
   "source": [
    "# Download datasets"
   ]
  },
  {
   "cell_type": "markdown",
   "metadata": {
    "id": "xEaoNRLXRif8"
   },
   "source": [
    "Please note that geneName can be any of the targets (disease or safety-screen) "
   ]
  },
  {
   "cell_type": "code",
   "execution_count": 5,
   "metadata": {
    "id": "637CUsSksZvo"
   },
   "outputs": [],
   "source": [
    "geneName = 'cyp3a4'"
   ]
  },
  {
   "cell_type": "code",
   "execution_count": 6,
   "metadata": {
    "id": "2nvWeu4D0gXn"
   },
   "outputs": [],
   "source": [
    "! wget https://raw.githubusercontent.com/ATOMScience-org/AMPL/master/atomsci/ddm/examples/tutorials/datasets/CYP3A4/ChEMBL25_CYP3A4_IC50_human_ml_ready.csv >& /dev/null \n",
    "! wget https://raw.githubusercontent.com/ATOMScience-org/AMPL/master/atomsci/ddm/examples/tutorials/datasets/CYP3A4/cyp3a4_dtc_base_smiles_all.csv >& /dev/null \n",
    "! wget https://raw.githubusercontent.com/ATOMScience-org/AMPL/master/atomsci/ddm/examples/tutorials/datasets/CYP3A4/cyp3a4_excape_base_smiles_all.csv >& /dev/null \n"
   ]
  },
  {
   "cell_type": "code",
   "execution_count": 7,
   "metadata": {
    "colab": {
     "base_uri": "https://localhost:8080/"
    },
    "id": "6e788834",
    "outputId": "7a6f3e19-e07f-46a8-dd3a-3592bf2c4d25"
   },
   "outputs": [
    {
     "name": "stdout",
     "output_type": "stream",
     "text": [
      "Shape of dtc:  (5074, 5)\n",
      "Shape of dtc:  (5074, 5)\n"
     ]
    }
   ],
   "source": [
    "filename = geneName + '_dtc_base_smiles_all.csv'\n",
    "dtc_df=pd.read_csv(filename)\n",
    "print(\"Shape of dtc: \", dtc_df.shape)\n",
    "print(\"Shape of dtc: \", dtc_df.shape)"
   ]
  },
  {
   "cell_type": "code",
   "execution_count": 8,
   "metadata": {
    "colab": {
     "base_uri": "https://localhost:8080/"
    },
    "id": "2be0e65d",
    "outputId": "4d46d5ea-dfe1-49d0-bb78-dbb4f541e42a"
   },
   "outputs": [
    {
     "name": "stdout",
     "output_type": "stream",
     "text": [
      "cyp3a4_excape_base_smiles_all.csv\n",
      "Shape of ex:  (14278, 5)\n",
      "Shape of ex:  (14278, 5)\n"
     ]
    }
   ],
   "source": [
    "filename = geneName+'_excape_base_smiles_all.csv'\n",
    "print(filename)\n",
    "ex_df=pd.read_csv(filename)\n",
    "\n",
    "print(\"Shape of ex: \", ex_df.shape)\n",
    "print(\"Shape of ex: \", ex_df.shape)\n"
   ]
  },
  {
   "cell_type": "code",
   "execution_count": 9,
   "metadata": {
    "colab": {
     "base_uri": "https://localhost:8080/"
    },
    "id": "44b5e063",
    "outputId": "e9d92637-820e-4460-fdf0-eba1ac1a7923"
   },
   "outputs": [
    {
     "name": "stdout",
     "output_type": "stream",
     "text": [
      "ChEMBL25_CYP3A4_IC50_human_ml_ready.csv\n",
      "Shape of chembl:  (6515, 5)\n"
     ]
    }
   ],
   "source": [
    "filename = 'ChEMBL25_'+geneName.upper()+'_IC50_human_ml_ready.csv'\n",
    "print(filename)\n",
    "ch_df=pd.read_csv(filename)\n",
    "print(\"Shape of chembl: \", ch_df.shape)"
   ]
  },
  {
   "cell_type": "code",
   "execution_count": 10,
   "metadata": {
    "colab": {
     "base_uri": "https://localhost:8080/"
    },
    "id": "ede52128",
    "outputId": "dc858320-f64c-4b49-9bc2-acfe51acc812"
   },
   "outputs": [
    {
     "name": "stdout",
     "output_type": "stream",
     "text": [
      "Number of total samples:  25867\n",
      "Number of unique rdkit smiles in all three data sets:  20937\n",
      "Number of rdkit smiles in the union set:  20937\n",
      "(20937,)\n",
      "(20937, 2)\n",
      "20937\n",
      "Number of randomely selected samples:  8375\n",
      "distance from test set to training set, length:  (8375,)\n"
     ]
    },
    {
     "name": "stderr",
     "output_type": "stream",
     "text": [
      "/usr/local/lib/python3.7/dist-packages/atomsci/ddm/utils/genTestset.py:127: SettingWithCopyWarning: \n",
      "A value is trying to be set on a copy of a slice from a DataFrame\n",
      "\n",
      "See the caveats in the documentation: https://pandas.pydata.org/pandas-docs/stable/user_guide/indexing.html#returning-a-view-versus-a-copy\n",
      "  subset_dtc_df.sort_values(['dist2train','sumDist'], inplace=True,ascending=False)\n",
      "/usr/local/lib/python3.7/dist-packages/atomsci/ddm/utils/genTestset.py:128: SettingWithCopyWarning: \n",
      "A value is trying to be set on a copy of a slice from a DataFrame\n",
      "\n",
      "See the caveats in the documentation: https://pandas.pydata.org/pandas-docs/stable/user_guide/indexing.html#returning-a-view-versus-a-copy\n",
      "  subset_ex_df.sort_values(['dist2train','sumDist'], inplace=True,ascending=False)\n",
      "/usr/local/lib/python3.7/dist-packages/atomsci/ddm/utils/genTestset.py:129: SettingWithCopyWarning: \n",
      "A value is trying to be set on a copy of a slice from a DataFrame\n",
      "\n",
      "See the caveats in the documentation: https://pandas.pydata.org/pandas-docs/stable/user_guide/indexing.html#returning-a-view-versus-a-copy\n",
      "  subset_ch_df.sort_values(['dist2train','sumDist'], inplace=True,ascending=False)\n"
     ]
    }
   ],
   "source": [
    "# Warning ~ 4.5 minutes\n",
    "test_fraction = 0.15\n",
    "# Calling the test set generating function\n",
    "testset_dtc_df, testset_ex_df, testset_ch_df, trainset_dtc_df,trainset_ex_df,trainset_ch_df = generateTestset(dtc_df,ex_df,ch_df,test_fraction)"
   ]
  },
  {
   "cell_type": "code",
   "execution_count": 11,
   "metadata": {
    "colab": {
     "base_uri": "https://localhost:8080/",
     "height": 144
    },
    "id": "e6027dae",
    "outputId": "95fcc249-54ef-4e73-d87f-f90d8db27cf2"
   },
   "outputs": [
    {
     "data": {
      "text/html": [
       "<div>\n",
       "<style scoped>\n",
       "    .dataframe tbody tr th:only-of-type {\n",
       "        vertical-align: middle;\n",
       "    }\n",
       "\n",
       "    .dataframe tbody tr th {\n",
       "        vertical-align: top;\n",
       "    }\n",
       "\n",
       "    .dataframe thead th {\n",
       "        text-align: right;\n",
       "    }\n",
       "</style>\n",
       "<table border=\"1\" class=\"dataframe\">\n",
       "  <thead>\n",
       "    <tr style=\"text-align: right;\">\n",
       "      <th></th>\n",
       "      <th>PIC50</th>\n",
       "      <th>base_rdkit_smiles</th>\n",
       "      <th>compound_id</th>\n",
       "      <th>relation</th>\n",
       "      <th>active</th>\n",
       "    </tr>\n",
       "  </thead>\n",
       "  <tbody>\n",
       "    <tr>\n",
       "      <th>0</th>\n",
       "      <td>4.522879</td>\n",
       "      <td>Nc1cc(CN2CCC(C(=O)N3CCC(n4c(=O)n(CCCC(F)(F)F)c...</td>\n",
       "      <td>KODNBJZZDKPFDL-UHFFFAOYSA-N</td>\n",
       "      <td>NaN</td>\n",
       "      <td>1</td>\n",
       "    </tr>\n",
       "    <tr>\n",
       "      <th>38</th>\n",
       "      <td>5.301030</td>\n",
       "      <td>COc1ccc(CNc2ccc(Cc3c[nH]c4ncc(C)cc34)c(F)n2)c(...</td>\n",
       "      <td>PYDGBRKMKPMMFU-UHFFFAOYSA-N</td>\n",
       "      <td>NaN</td>\n",
       "      <td>1</td>\n",
       "    </tr>\n",
       "    <tr>\n",
       "      <th>52</th>\n",
       "      <td>4.910095</td>\n",
       "      <td>COc1ccc2nc(SCc3ccc(C(C)(C)C)cc3)[nH]c2c1</td>\n",
       "      <td>OUXJOASRGMYGSX-UHFFFAOYSA-N</td>\n",
       "      <td>NaN</td>\n",
       "      <td>1</td>\n",
       "    </tr>\n",
       "  </tbody>\n",
       "</table>\n",
       "</div>"
      ],
      "text/plain": [
       "       PIC50  ... active\n",
       "0   4.522879  ...      1\n",
       "38  5.301030  ...      1\n",
       "52  4.910095  ...      1\n",
       "\n",
       "[3 rows x 5 columns]"
      ]
     },
     "execution_count": 11,
     "metadata": {},
     "output_type": "execute_result"
    }
   ],
   "source": [
    "testset_dtc_df.head(3)"
   ]
  },
  {
   "cell_type": "code",
   "execution_count": 12,
   "metadata": {
    "colab": {
     "base_uri": "https://localhost:8080/",
     "height": 144
    },
    "id": "7f1444ff",
    "outputId": "371d6959-6c64-434d-b5ea-2ff3b484ad17"
   },
   "outputs": [
    {
     "data": {
      "text/html": [
       "<div>\n",
       "<style scoped>\n",
       "    .dataframe tbody tr th:only-of-type {\n",
       "        vertical-align: middle;\n",
       "    }\n",
       "\n",
       "    .dataframe tbody tr th {\n",
       "        vertical-align: top;\n",
       "    }\n",
       "\n",
       "    .dataframe thead th {\n",
       "        text-align: right;\n",
       "    }\n",
       "</style>\n",
       "<table border=\"1\" class=\"dataframe\">\n",
       "  <thead>\n",
       "    <tr style=\"text-align: right;\">\n",
       "      <th></th>\n",
       "      <th>base_rdkit_smiles</th>\n",
       "      <th>compound_id</th>\n",
       "      <th>pXC50</th>\n",
       "      <th>relation</th>\n",
       "      <th>active</th>\n",
       "    </tr>\n",
       "  </thead>\n",
       "  <tbody>\n",
       "    <tr>\n",
       "      <th>1</th>\n",
       "      <td>O=C(Nc1ccc(-c2ccnc3nc[nH]c23)cc1)Nc1cccc(C(=O)...</td>\n",
       "      <td>XUOFRIRHKXSQDU-FZPGFWGANA-N</td>\n",
       "      <td>7.27572</td>\n",
       "      <td>NaN</td>\n",
       "      <td>1</td>\n",
       "    </tr>\n",
       "    <tr>\n",
       "      <th>9</th>\n",
       "      <td>CN1CCN(c2ncc3nc(-c4cn(C)c5ccccc45)c(=O)n(-c4cc...</td>\n",
       "      <td>UFXBTURYCUXFOR-UHFFFAOYNA-N</td>\n",
       "      <td>4.60000</td>\n",
       "      <td>&lt;</td>\n",
       "      <td>0</td>\n",
       "    </tr>\n",
       "    <tr>\n",
       "      <th>14</th>\n",
       "      <td>CN1CCN(S(=O)(=O)c2cc([N+](=O)[O-])ccc2N2CCCCCC...</td>\n",
       "      <td>KHOQMUDZNVBMAR-UHFFFAOYNA-N</td>\n",
       "      <td>6.10000</td>\n",
       "      <td>NaN</td>\n",
       "      <td>1</td>\n",
       "    </tr>\n",
       "  </tbody>\n",
       "</table>\n",
       "</div>"
      ],
      "text/plain": [
       "                                    base_rdkit_smiles  ... active\n",
       "1   O=C(Nc1ccc(-c2ccnc3nc[nH]c23)cc1)Nc1cccc(C(=O)...  ...      1\n",
       "9   CN1CCN(c2ncc3nc(-c4cn(C)c5ccccc45)c(=O)n(-c4cc...  ...      0\n",
       "14  CN1CCN(S(=O)(=O)c2cc([N+](=O)[O-])ccc2N2CCCCCC...  ...      1\n",
       "\n",
       "[3 rows x 5 columns]"
      ]
     },
     "execution_count": 12,
     "metadata": {},
     "output_type": "execute_result"
    }
   ],
   "source": [
    "testset_ex_df.head(3)"
   ]
  },
  {
   "cell_type": "code",
   "execution_count": 13,
   "metadata": {
    "colab": {
     "base_uri": "https://localhost:8080/",
     "height": 144
    },
    "id": "9c853733",
    "outputId": "5233e45b-f88c-4e89-cae9-f46e138f70e7"
   },
   "outputs": [
    {
     "data": {
      "text/html": [
       "<div>\n",
       "<style scoped>\n",
       "    .dataframe tbody tr th:only-of-type {\n",
       "        vertical-align: middle;\n",
       "    }\n",
       "\n",
       "    .dataframe tbody tr th {\n",
       "        vertical-align: top;\n",
       "    }\n",
       "\n",
       "    .dataframe thead th {\n",
       "        text-align: right;\n",
       "    }\n",
       "</style>\n",
       "<table border=\"1\" class=\"dataframe\">\n",
       "  <thead>\n",
       "    <tr style=\"text-align: right;\">\n",
       "      <th></th>\n",
       "      <th>base_rdkit_smiles</th>\n",
       "      <th>compound_id</th>\n",
       "      <th>pIC50</th>\n",
       "      <th>relation</th>\n",
       "      <th>active</th>\n",
       "    </tr>\n",
       "  </thead>\n",
       "  <tbody>\n",
       "    <tr>\n",
       "      <th>0</th>\n",
       "      <td>O=C(C(O)C1([C@H]2COC[C@@H](C3CC3)N2S(=O)(=O)c2...</td>\n",
       "      <td>CHEMBL3909015</td>\n",
       "      <td>4.648733</td>\n",
       "      <td>NaN</td>\n",
       "      <td>1</td>\n",
       "    </tr>\n",
       "    <tr>\n",
       "      <th>3</th>\n",
       "      <td>O=C(Nc1ccc(F)cn1)c1cc(Oc2cncc(F)c2)cn2cnnc12</td>\n",
       "      <td>CHEMBL4071447</td>\n",
       "      <td>4.749580</td>\n",
       "      <td>NaN</td>\n",
       "      <td>1</td>\n",
       "    </tr>\n",
       "    <tr>\n",
       "      <th>5</th>\n",
       "      <td>Cc1[nH]c2ccccc2c1CCN1Cc2ccc(/C=C/C(=O)NO)cc2C1</td>\n",
       "      <td>CHEMBL1088949</td>\n",
       "      <td>5.000000</td>\n",
       "      <td>&lt;</td>\n",
       "      <td>0</td>\n",
       "    </tr>\n",
       "  </tbody>\n",
       "</table>\n",
       "</div>"
      ],
      "text/plain": [
       "                                   base_rdkit_smiles  ... active\n",
       "0  O=C(C(O)C1([C@H]2COC[C@@H](C3CC3)N2S(=O)(=O)c2...  ...      1\n",
       "3       O=C(Nc1ccc(F)cn1)c1cc(Oc2cncc(F)c2)cn2cnnc12  ...      1\n",
       "5     Cc1[nH]c2ccccc2c1CCN1Cc2ccc(/C=C/C(=O)NO)cc2C1  ...      0\n",
       "\n",
       "[3 rows x 5 columns]"
      ]
     },
     "execution_count": 13,
     "metadata": {},
     "output_type": "execute_result"
    }
   ],
   "source": [
    "testset_ch_df.head(3)"
   ]
  },
  {
   "cell_type": "markdown",
   "metadata": {
    "id": "f36702f8"
   },
   "source": [
    "## Save Union DTC Train/Test datasets"
   ]
  },
  {
   "cell_type": "code",
   "execution_count": 14,
   "metadata": {
    "id": "3c31b3fd"
   },
   "outputs": [],
   "source": [
    "# Save to files\n",
    "fileName = geneName+'_dtc_testset_base_smiles_union.csv'\n",
    "\n",
    "testset_dtc_df.to_csv(fileName, index=False, header=True )\n",
    "\n",
    "fileName = geneName+'_dtc_trainset_base_smiles_union.csv'\n",
    "trainset_dtc_df.to_csv(fileName, index=False, header=True )"
   ]
  },
  {
   "cell_type": "markdown",
   "metadata": {
    "id": "accfaef9"
   },
   "source": [
    "## Save Union ExCAPE-DB Train/Test datasets"
   ]
  },
  {
   "cell_type": "code",
   "execution_count": 15,
   "metadata": {
    "id": "8a142693"
   },
   "outputs": [],
   "source": [
    "fileName = geneName+'_excape_testset_base_smiles_union.csv'\n",
    "\n",
    "testset_ex_df.to_csv(fileName,index=False,header=True )\n",
    "\n",
    "fileName = geneName+'_excape_trainset_base_smiles_union.csv'\n",
    "trainset_ex_df.to_csv(fileName,index=False,header=True )"
   ]
  },
  {
   "cell_type": "markdown",
   "metadata": {
    "id": "4a63b1b8"
   },
   "source": [
    "## Save ChEMBL Train/Test datasets"
   ]
  },
  {
   "cell_type": "code",
   "execution_count": 16,
   "metadata": {
    "id": "3ef3042d"
   },
   "outputs": [],
   "source": [
    "fileName = geneName+'_chembl_testset_base_smiles_union.csv'\n",
    "testset_ch_df.to_csv(fileName,index=False,header=True )\n",
    "\n",
    "fileName = geneName+'_chembl_trainset_base_smiles_union.csv'\n",
    "trainset_ch_df.to_csv(fileName,index=False,header=True )"
   ]
  },
  {
   "cell_type": "markdown",
   "metadata": {
    "id": "4aa255aa"
   },
   "source": [
    "## Plot Venn diagram"
   ]
  },
  {
   "cell_type": "code",
   "execution_count": 17,
   "metadata": {
    "id": "d4abf87e"
   },
   "outputs": [],
   "source": [
    "# Plot venn3 distribution \n",
    "dtc_s = dtc_df['base_rdkit_smiles'].tolist()\n",
    "ex_s = ex_df['base_rdkit_smiles'].tolist()\n",
    "ch_s = ch_df['base_rdkit_smiles'].tolist()\n",
    "\n",
    "dtc_set = set(dtc_s)\n",
    "ex_set = set(ex_s)\n",
    "ch_set = set(ch_s)"
   ]
  },
  {
   "cell_type": "code",
   "execution_count": 18,
   "metadata": {
    "id": "11654bfb"
   },
   "outputs": [],
   "source": [
    "fig = plt.figure()\n",
    "venn3([dtc_set, ex_set, ch_set], ('DTC', 'Excape', 'ChEMBL'))\n",
    "plt.title(geneName.upper())\n",
    "fig.savefig('geneName'+'_union_venn.png')"
   ]
  },
  {
   "cell_type": "code",
   "execution_count": 19,
   "metadata": {
    "colab": {
     "base_uri": "https://localhost:8080/",
     "height": 265
    },
    "id": "6a67792d",
    "outputId": "ed981075-2094-4fb6-cbee-966c11b981a0"
   },
   "outputs": [
    {
     "data": {
      "image/png": "[encoded data removed]",
      "text/plain": [
       "<Figure size 432x288 with 1 Axes>"
      ]
     },
     "execution_count": 19,
     "metadata": {},
     "output_type": "execute_result"
    }
   ],
   "source": [
    "fig"
   ]
  },
  {
   "cell_type": "markdown",
   "metadata": {
    "id": "v4RM7lVmqla7"
   },
   "source": [
    "## Plot selected random samples venn"
   ]
  },
  {
   "cell_type": "code",
   "execution_count": 20,
   "metadata": {
    "id": "47b57776"
   },
   "outputs": [],
   "source": [
    "subset_sel_dtc = testset_dtc_df['base_rdkit_smiles']\n",
    "subset_sel_ex = testset_ex_df['base_rdkit_smiles']\n",
    "subset_sel_ch = testset_ch_df['base_rdkit_smiles'] \n",
    "\n",
    "dtc_set = set(subset_sel_dtc)\n",
    "ex_set = set(subset_sel_ex)\n",
    "ch_set = set(subset_sel_ch)"
   ]
  },
  {
   "cell_type": "code",
   "execution_count": 21,
   "metadata": {
    "id": "e8df8abc"
   },
   "outputs": [],
   "source": [
    "fig = plt.figure()\n",
    "venn3([dtc_set, ex_set, ch_set], ('DTC', 'Excape', 'ChEMBL'))\n",
    "plt.title(geneName.upper()+' Top ' +str(round(test_fraction*100))+'% Distances to Training, True Sources')\n",
    "fig.savefig(geneName+'_union_randomSample_proportionSub_dist2train_venn_frac015_forceTrue.png')"
   ]
  },
  {
   "cell_type": "code",
   "execution_count": 22,
   "metadata": {
    "colab": {
     "base_uri": "https://localhost:8080/",
     "height": 266
    },
    "id": "f2d8a441",
    "outputId": "8e7c22a0-98ec-439c-c1ba-3721df543421"
   },
   "outputs": [
    {
     "data": {
      "image/png": "[encoded data removed]",
      "text/plain": [
       "<Figure size 432x288 with 1 Axes>"
      ]
     },
     "execution_count": 22,
     "metadata": {},
     "output_type": "execute_result"
    }
   ],
   "source": [
    "fig"
   ]
  },
  {
   "cell_type": "markdown",
   "metadata": {
    "id": "5e9af864"
   },
   "source": [
    "## Gather information for plotting PIC50"
   ]
  },
  {
   "cell_type": "code",
   "execution_count": 23,
   "metadata": {
    "id": "9316b28a"
   },
   "outputs": [],
   "source": [
    "sel_dtc_pic50 = testset_dtc_df['PIC50']\n",
    "sel_ex_pic50 = testset_ex_df['pXC50']\n",
    "sel_ch_pic50 = testset_ch_df['pIC50']"
   ]
  },
  {
   "cell_type": "code",
   "execution_count": 24,
   "metadata": {
    "colab": {
     "base_uri": "https://localhost:8080/"
    },
    "id": "c912913d",
    "outputId": "c3d9dd03-1dd0-482f-df86-9b0c55bafea7"
   },
   "outputs": [
    {
     "name": "stderr",
     "output_type": "stream",
     "text": [
      "/usr/local/lib/python3.7/dist-packages/seaborn/distributions.py:2619: FutureWarning: `distplot` is a deprecated function and will be removed in a future version. Please adapt your code to use either `displot` (a figure-level function with similar flexibility) or `kdeplot` (an axes-level function for kernel density plots).\n",
      "  warnings.warn(msg, FutureWarning)\n",
      "/usr/local/lib/python3.7/dist-packages/seaborn/distributions.py:2619: FutureWarning: `distplot` is a deprecated function and will be removed in a future version. Please adapt your code to use either `displot` (a figure-level function with similar flexibility) or `kdeplot` (an axes-level function for kernel density plots).\n",
      "  warnings.warn(msg, FutureWarning)\n",
      "/usr/local/lib/python3.7/dist-packages/seaborn/distributions.py:2619: FutureWarning: `distplot` is a deprecated function and will be removed in a future version. Please adapt your code to use either `displot` (a figure-level function with similar flexibility) or `kdeplot` (an axes-level function for kernel density plots).\n",
      "  warnings.warn(msg, FutureWarning)\n"
     ]
    }
   ],
   "source": [
    "fig = plt.figure()\n",
    "\n",
    "sns.distplot(sel_dtc_pic50,hist=False,kde=True,label='DTC')\n",
    "sns.distplot(sel_ex_pic50,hist=False,kde=True,label='Excape')\n",
    "sns.distplot(sel_ch_pic50,hist=False,kde=True,label='ChEMBL')\n",
    "plt.ylabel('Density')\n",
    "plt.title(geneName.upper()+' Test Set, '+str(round(test_fraction*100))+'%') \n",
    "fig.savefig(geneName+'_union_randomSample_proportionSub_pic50Dist_frac015_force.png')"
   ]
  },
  {
   "cell_type": "code",
   "execution_count": 25,
   "metadata": {
    "colab": {
     "base_uri": "https://localhost:8080/",
     "height": 294
    },
    "id": "f09c2d4c",
    "outputId": "6bc70b6b-e7f5-4bf6-971f-3fb6d17479db"
   },
   "outputs": [
    {
     "data": {
      "image/png": "[encoded data removed]",
      "text/plain": [
       "<Figure size 432x288 with 1 Axes>"
      ]
     },
     "execution_count": 25,
     "metadata": {},
     "output_type": "execute_result"
    }
   ],
   "source": [
    "fig"
   ]
  },
  {
   "cell_type": "code",
   "execution_count": 26,
   "metadata": {
    "id": "c0ef3d5b"
   },
   "outputs": [],
   "source": [
    "dtc_pic50 = dtc_df['PIC50']\n",
    "ex_pic50 = ex_df['pXC50']\n",
    "ch_pic50 = ch_df['pIC50']"
   ]
  },
  {
   "cell_type": "code",
   "execution_count": 27,
   "metadata": {
    "colab": {
     "base_uri": "https://localhost:8080/"
    },
    "id": "bee47da3",
    "outputId": "6acc1b70-35bd-4b15-d051-9252a6020f11"
   },
   "outputs": [
    {
     "name": "stderr",
     "output_type": "stream",
     "text": [
      "/usr/local/lib/python3.7/dist-packages/seaborn/distributions.py:2619: FutureWarning: `distplot` is a deprecated function and will be removed in a future version. Please adapt your code to use either `displot` (a figure-level function with similar flexibility) or `kdeplot` (an axes-level function for kernel density plots).\n",
      "  warnings.warn(msg, FutureWarning)\n",
      "/usr/local/lib/python3.7/dist-packages/seaborn/distributions.py:2619: FutureWarning: `distplot` is a deprecated function and will be removed in a future version. Please adapt your code to use either `displot` (a figure-level function with similar flexibility) or `kdeplot` (an axes-level function for kernel density plots).\n",
      "  warnings.warn(msg, FutureWarning)\n",
      "/usr/local/lib/python3.7/dist-packages/seaborn/distributions.py:2619: FutureWarning: `distplot` is a deprecated function and will be removed in a future version. Please adapt your code to use either `displot` (a figure-level function with similar flexibility) or `kdeplot` (an axes-level function for kernel density plots).\n",
      "  warnings.warn(msg, FutureWarning)\n"
     ]
    }
   ],
   "source": [
    "fig = plt.figure()\n",
    "sns.distplot(dtc_pic50,hist=False,kde=True,label='DTC')\n",
    "sns.distplot(ex_pic50,hist=False,kde=True,label='Excape')\n",
    "sns.distplot(ch_pic50,hist=False,kde=True,label='ChEMBL')\n",
    "plt.ylabel('Density')\n",
    "plt.title(geneName.upper())\n",
    "plt.legend()\n",
    "fig.savefig(geneName+'_pic50Dist.png')"
   ]
  },
  {
   "cell_type": "code",
   "execution_count": 28,
   "metadata": {
    "colab": {
     "base_uri": "https://localhost:8080/",
     "height": 294
    },
    "id": "be01fde6",
    "outputId": "fe67e625-6eb6-450e-870a-d71f9a3273bb"
   },
   "outputs": [
    {
     "data": {
      "image/png": "[encoded data removed]",
      "text/plain": [
       "<Figure size 432x288 with 1 Axes>"
      ]
     },
     "execution_count": 28,
     "metadata": {},
     "output_type": "execute_result"
    }
   ],
   "source": [
    "fig"
   ]
  },
  {
   "cell_type": "markdown",
   "metadata": {
    "id": "40cc8f69"
   },
   "source": [
    "## Combine the testsets"
   ]
  },
  {
   "cell_type": "code",
   "execution_count": 29,
   "metadata": {
    "colab": {
     "base_uri": "https://localhost:8080/"
    },
    "id": "0c0f117f",
    "outputId": "3ba475d2-8205-4da7-9537-b79f3183c299"
   },
   "outputs": [
    {
     "data": {
      "text/plain": [
       "Index(['PIC50', 'base_rdkit_smiles', 'compound_id', 'relation', 'active'], dtype='object')"
      ]
     },
     "execution_count": 29,
     "metadata": {},
     "output_type": "execute_result"
    }
   ],
   "source": [
    "testset_dtc_df.columns"
   ]
  },
  {
   "cell_type": "code",
   "execution_count": 30,
   "metadata": {
    "colab": {
     "base_uri": "https://localhost:8080/"
    },
    "id": "6359b6ca",
    "outputId": "4126bcf1-a643-4f3e-f593-8618082feb07"
   },
   "outputs": [
    {
     "data": {
      "text/plain": [
       "Index(['base_rdkit_smiles', 'compound_id', 'pXC50', 'relation', 'active'], dtype='object')"
      ]
     },
     "execution_count": 30,
     "metadata": {},
     "output_type": "execute_result"
    }
   ],
   "source": [
    "testset_ex_df.columns"
   ]
  },
  {
   "cell_type": "code",
   "execution_count": 31,
   "metadata": {
    "colab": {
     "base_uri": "https://localhost:8080/"
    },
    "id": "5bdb9d69",
    "outputId": "8b114d7f-c416-4ce3-cc67-b7bb2f22b1b6"
   },
   "outputs": [
    {
     "data": {
      "text/plain": [
       "Index(['base_rdkit_smiles', 'compound_id', 'pIC50', 'relation', 'active'], dtype='object')"
      ]
     },
     "execution_count": 31,
     "metadata": {},
     "output_type": "execute_result"
    }
   ],
   "source": [
    "testset_ch_df.columns"
   ]
  },
  {
   "cell_type": "markdown",
   "metadata": {
    "id": "225763c7"
   },
   "source": [
    "## Prepare DataFrames for concatanation"
   ]
  },
  {
   "cell_type": "code",
   "execution_count": 32,
   "metadata": {
    "id": "3f933278"
   },
   "outputs": [],
   "source": [
    "testset_dtc_df  = testset_dtc_df.rename(columns={'PIC50':'pIC50'})\n",
    "trainset_dtc_df = trainset_dtc_df.rename(columns={'PIC50':'pIC50'})\n",
    "testset_ex_df  = testset_ex_df.rename(columns={'pXC50':'pIC50'})\n",
    "trainset_ex_df = trainset_ex_df.rename(columns={'pXC50':'pIC50'})"
   ]
  },
  {
   "cell_type": "code",
   "execution_count": 33,
   "metadata": {
    "colab": {
     "base_uri": "https://localhost:8080/"
    },
    "id": "28abc450",
    "outputId": "1af9e98a-0028-4648-9b42-5e6e6345e557"
   },
   "outputs": [
    {
     "name": "stdout",
     "output_type": "stream",
     "text": [
      "Total number of base smiles strings in combined data:  (3801, 5)\n",
      "0 entries in input table are missing SMILES strings\n",
      "3141 unique SMILES strings are reduced to 3141 unique base SMILES strings\n",
      "(3141, 5)\n"
     ]
    }
   ],
   "source": [
    "testUnion_df = genTestset.genUnionSet(testset_dtc_df,testset_ex_df,testset_ch_df)\n",
    "print(testUnion_df.shape)"
   ]
  },
  {
   "cell_type": "code",
   "execution_count": 34,
   "metadata": {
    "colab": {
     "base_uri": "https://localhost:8080/"
    },
    "id": "77fc701e",
    "outputId": "18bbddda-cee1-4503-945c-55cc7476cf13"
   },
   "outputs": [
    {
     "name": "stdout",
     "output_type": "stream",
     "text": [
      "Total number of base smiles strings in combined data:  (22066, 5)\n",
      "0 entries in input table are missing SMILES strings\n",
      "17796 unique SMILES strings are reduced to 17796 unique base SMILES strings\n"
     ]
    }
   ],
   "source": [
    "# Combining the training set\n",
    "trainUnion_df = genUnionSet(trainset_dtc_df,trainset_ex_df,trainset_ch_df)"
   ]
  },
  {
   "cell_type": "markdown",
   "metadata": {
    "id": "4560e02f"
   },
   "source": [
    "# Save the final data "
   ]
  },
  {
   "cell_type": "code",
   "execution_count": 35,
   "metadata": {
    "id": "b7b381e1"
   },
   "outputs": [],
   "source": [
    "fileName = geneName+'_union_testset_base_smiles.csv'\n",
    "testUnion_df.to_csv(fileName,index=False,header=True)\n",
    "\n",
    "fileName = geneName+'_union_trainset_base_smiles.csv'\n",
    "trainUnion_df.to_csv(fileName,index=False,header=True)"
   ]
  },
  {
   "cell_type": "code",
   "execution_count": 36,
   "metadata": {
    "colab": {
     "base_uri": "https://localhost:8080/"
    },
    "id": "559ae806",
    "outputId": "0cac94c9-86c3-49a5-8337-933809dc6400"
   },
   "outputs": [
    {
     "name": "stdout",
     "output_type": "stream",
     "text": [
      "Sat Sep 18 12:24:37 UTC 2021\n"
     ]
    }
   ],
   "source": [
    "!date"
   ]
  },
  {
   "cell_type": "code",
   "execution_count": 36,
   "metadata": {
    "id": "cfuYxbRc37-x"
   },
   "outputs": [],
   "source": []
  }
 ],
 "metadata": {
  "colab": {
   "collapsed_sections": [],
   "include_colab_link": true,
   "name": "06a_UnionDSet.ipynb",
   "provenance": []
  },
  "environment": {
   "name": "common-cu110.m69",
   "type": "gcloud",
   "uri": "gcr.io/deeplearning-platform-release/base-cu110:m69"
  },
  "kernelspec": {
   "display_name": "Python 3",
   "language": "python",
   "name": "python3"
  },
  "language_info": {
   "codemirror_mode": {
    "name": "ipython",
    "version": 3
   },
   "file_extension": ".py",
   "mimetype": "text/x-python",
   "name": "python",
   "nbconvert_exporter": "python",
   "pygments_lexer": "ipython3",
   "version": "3.7.2"
  }
 },
 "nbformat": 4,
 "nbformat_minor": 5
}
