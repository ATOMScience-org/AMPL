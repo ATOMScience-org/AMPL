{
  "nbformat": 4,
  "nbformat_minor": 5,
  "metadata": {
    "environment": {
      "name": "common-cu110.m69",
      "type": "gcloud",
      "uri": "gcr.io/deeplearning-platform-release/base-cu110:m69"
    },
    "kernelspec": {
      "name": "python3",
      "display_name": "Python 3"
    },
    "colab": {
      "name": "06a_UnionDSet.ipynb",
      "provenance": [],
      "collapsed_sections": [],
      "include_colab_link": true
    },
    "language_info": {
      "name": "python"
    }
  },
  "cells": [
    {
      "cell_type": "markdown",
      "metadata": {
        "id": "view-in-github",
        "colab_type": "text"
      },
      "source": [
        "<a href=\"https://colab.research.google.com/github/ATOMconsortium/AMPL/blob/master/atomsci/ddm/examples/tutorials/06a_UnionDSet.ipynb\" target=\"_parent\"><img src=\"https://colab.research.google.com/assets/colab-badge.svg\" alt=\"Open In Colab\"/></a>"
      ]
    },
    {
      "cell_type": "markdown",
      "metadata": {
        "id": "e5f3b52f"
      },
      "source": [
        "## Unionset Train/Test data creation "
      ],
      "id": "e5f3b52f"
    },
    {
      "cell_type": "markdown",
      "metadata": {
        "id": "c6b2d828"
      },
      "source": [
        "This notebook explain the steps for creating Union Train/test set data"
      ],
      "id": "c6b2d828"
    },
    {
      "cell_type": "markdown",
      "metadata": {
        "id": "c24175ca"
      },
      "source": [
        "# Install AMPL "
      ],
      "id": "c24175ca"
    },
    {
      "cell_type": "code",
      "metadata": {
        "colab": {
          "base_uri": "https://localhost:8080/"
        },
        "id": "nexuh1jfr9uk",
        "outputId": "1d77c744-0364-4159-e7d4-2c27673804d4"
      },
      "source": [
        "!date"
      ],
      "id": "nexuh1jfr9uk",
      "execution_count": 1,
      "outputs": [
        {
          "output_type": "stream",
          "name": "stdout",
          "text": [
            "Fri Sep 17 22:18:41 UTC 2021\n"
          ]
        }
      ]
    },
    {
      "cell_type": "code",
      "metadata": {
        "id": "xinibf8YiTW-"
      },
      "source": [
        "! pip install rdkit-pypi\n",
        "! pip install --pre deepchem\n",
        "\n",
        "import deepchem\n",
        "# print(deepchem.__version__)\n",
        "! pip install umap\n",
        "! pip install llvmlite==0.34.0  --ignore-installed\n",
        "! pip install umap-learn\n",
        "! pip install molvs\n",
        "! pip install bravado"
      ],
      "id": "xinibf8YiTW-",
      "execution_count": null,
      "outputs": []
    },
    {
      "cell_type": "code",
      "metadata": {
        "id": "GOxOeGhTizEI"
      },
      "source": [
        "import deepchem as dc\n",
        "\n",
        "# get the Install AMPL_GPU_test.sh\n",
        "!wget 'https://raw.githubusercontent.com/ATOMconsortium/AMPL/master/atomsci/ddm/examples/tutorials/config/install_AMPL_GPU_test.sh'\n",
        "# run the script to install AMPL\n",
        "! chmod u+x install_AMPL_GPU_test.sh\n",
        "! ./install_AMPL_GPU_test.sh"
      ],
      "id": "GOxOeGhTizEI",
      "execution_count": null,
      "outputs": []
    },
    {
      "cell_type": "markdown",
      "metadata": {
        "id": "46513490"
      },
      "source": [
        "# Load libraries"
      ],
      "id": "46513490"
    },
    {
      "cell_type": "code",
      "metadata": {
        "id": "51ce3deb"
      },
      "source": [
        "import matplotlib\n",
        "matplotlib.use('Agg')\n",
        "import pandas as pd, os, csv\n",
        "import numpy as np\n",
        "\n",
        "import atomsci.ddm.pipeline.chem_diversity as cd\n",
        "import seaborn as sns\n",
        "import matplotlib.pyplot as plt\n",
        "from matplotlib_venn import venn3\n",
        "\n",
        "# import genTestSet\n",
        "# comment for now\n",
        "from atomsci.ddm.utils import genTestset\n",
        "from atomsci.ddm.utils.genTestset import * "
      ],
      "id": "51ce3deb",
      "execution_count": 4,
      "outputs": []
    },
    {
      "cell_type": "markdown",
      "metadata": {
        "id": "08093e01"
      },
      "source": [
        "# Download datasets"
      ],
      "id": "08093e01"
    },
    {
      "cell_type": "markdown",
      "metadata": {
        "id": "xEaoNRLXRif8"
      },
      "source": [
        "Please note that geneName can be any of the targets (disease or safety-screen) "
      ],
      "id": "xEaoNRLXRif8"
    },
    {
      "cell_type": "code",
      "metadata": {
        "id": "637CUsSksZvo"
      },
      "source": [
        "geneName = 'cyp3a4'"
      ],
      "id": "637CUsSksZvo",
      "execution_count": 5,
      "outputs": []
    },
    {
      "cell_type": "code",
      "metadata": {
        "id": "2nvWeu4D0gXn"
      },
      "source": [
        "! wget https://raw.githubusercontent.com/ATOMconsortium/AMPL/master/atomsci/ddm/examples/tutorials/datasets/CYP3A4/ChEMBL25_CYP3A4_IC50_human_ml_ready.csv >& /dev/null \n",
        "! wget https://raw.githubusercontent.com/ATOMconsortium/AMPL/master/atomsci/ddm/examples/tutorials/datasets/CYP3A4/cyp3a4_dtc_base_smiles_all.csv >& /dev/null \n",
        "! wget https://raw.githubusercontent.com/ATOMconsortium/AMPL/master/atomsci/ddm/examples/tutorials/datasets/CYP3A4/cyp3a4_excape_base_smiles_all.csv >& /dev/null \n"
      ],
      "id": "2nvWeu4D0gXn",
      "execution_count": 6,
      "outputs": []
    },
    {
      "cell_type": "code",
      "metadata": {
        "colab": {
          "base_uri": "https://localhost:8080/"
        },
        "id": "6e788834",
        "outputId": "e6902070-26e6-4f3f-8593-ba1dd76436e3"
      },
      "source": [
        "filename = geneName + '_dtc_base_smiles_all.csv'\n",
        "dtc_df=pd.read_csv(filename)\n",
        "print(\"Shape of dtc: \", dtc_df.shape)\n",
        "print(\"Shape of dtc: \", dtc_df.shape)"
      ],
      "id": "6e788834",
      "execution_count": 7,
      "outputs": [
        {
          "output_type": "stream",
          "name": "stdout",
          "text": [
            "Shape of dtc:  (5074, 5)\n",
            "Shape of dtc:  (5074, 5)\n"
          ]
        }
      ]
    },
    {
      "cell_type": "code",
      "metadata": {
        "id": "2be0e65d",
        "colab": {
          "base_uri": "https://localhost:8080/"
        },
        "outputId": "87ef4f96-1a40-4f16-b7dc-f8fb9355dd82"
      },
      "source": [
        "filename = geneName+'_excape_base_smiles_all.csv'\n",
        "print(filename)\n",
        "ex_df=pd.read_csv(filename)\n",
        "\n",
        "print(\"Shape of ex: \", ex_df.shape)\n",
        "print(\"Shape of ex: \", ex_df.shape)\n"
      ],
      "id": "2be0e65d",
      "execution_count": 8,
      "outputs": [
        {
          "output_type": "stream",
          "name": "stdout",
          "text": [
            "cyp3a4_excape_base_smiles_all.csv\n",
            "Shape of ex:  (14278, 5)\n",
            "Shape of ex:  (14278, 5)\n"
          ]
        }
      ]
    },
    {
      "cell_type": "code",
      "metadata": {
        "id": "44b5e063",
        "colab": {
          "base_uri": "https://localhost:8080/"
        },
        "outputId": "8d4e0db8-a068-4bf9-94de-0309f7913a65"
      },
      "source": [
        "filename = 'ChEMBL25_'+geneName.upper()+'_IC50_human_ml_ready.csv'\n",
        "print(filename)\n",
        "ch_df=pd.read_csv(filename)\n",
        "print(\"Shape of chembl: \", ch_df.shape)"
      ],
      "id": "44b5e063",
      "execution_count": 9,
      "outputs": [
        {
          "output_type": "stream",
          "name": "stdout",
          "text": [
            "ChEMBL25_CYP3A4_IC50_human_ml_ready.csv\n",
            "Shape of chembl:  (6515, 5)\n"
          ]
        }
      ]
    },
    {
      "cell_type": "code",
      "metadata": {
        "id": "ede52128",
        "colab": {
          "base_uri": "https://localhost:8080/"
        },
        "outputId": "21ace30a-ccde-4994-a0d8-5a62c67c59b1"
      },
      "source": [
        "# Warning ~ 4.5 minutes\n",
        "test_fraction = 0.15\n",
        "# Calling the test set generating function\n",
        "testset_dtc_df, testset_ex_df, testset_ch_df, trainset_dtc_df,trainset_ex_df,trainset_ch_df = generateTestset(dtc_df,ex_df,ch_df,test_fraction)"
      ],
      "id": "ede52128",
      "execution_count": 10,
      "outputs": [
        {
          "output_type": "stream",
          "name": "stdout",
          "text": [
            "Number of total samples:  25867\n",
            "Number of unique rdkit smiles in all three data sets:  20937\n",
            "Number of rdkit smiles in the union set:  20937\n",
            "(20937,)\n",
            "(20937, 2)\n",
            "20937\n",
            "Number of randomely selected samples:  8375\n",
            "distance from test set to training set, length:  (8375,)\n"
          ]
        },
        {
          "output_type": "stream",
          "name": "stderr",
          "text": [
            "/usr/local/lib/python3.7/dist-packages/atomsci/ddm/utils/genTestset.py:127: SettingWithCopyWarning: \n",
            "A value is trying to be set on a copy of a slice from a DataFrame\n",
            "\n",
            "See the caveats in the documentation: https://pandas.pydata.org/pandas-docs/stable/user_guide/indexing.html#returning-a-view-versus-a-copy\n",
            "  subset_dtc_df.sort_values(['dist2train','sumDist'], inplace=True,ascending=False)\n",
            "/usr/local/lib/python3.7/dist-packages/atomsci/ddm/utils/genTestset.py:128: SettingWithCopyWarning: \n",
            "A value is trying to be set on a copy of a slice from a DataFrame\n",
            "\n",
            "See the caveats in the documentation: https://pandas.pydata.org/pandas-docs/stable/user_guide/indexing.html#returning-a-view-versus-a-copy\n",
            "  subset_ex_df.sort_values(['dist2train','sumDist'], inplace=True,ascending=False)\n",
            "/usr/local/lib/python3.7/dist-packages/atomsci/ddm/utils/genTestset.py:129: SettingWithCopyWarning: \n",
            "A value is trying to be set on a copy of a slice from a DataFrame\n",
            "\n",
            "See the caveats in the documentation: https://pandas.pydata.org/pandas-docs/stable/user_guide/indexing.html#returning-a-view-versus-a-copy\n",
            "  subset_ch_df.sort_values(['dist2train','sumDist'], inplace=True,ascending=False)\n"
          ]
        }
      ]
    },
    {
      "cell_type": "code",
      "metadata": {
        "id": "e6027dae",
        "colab": {
          "base_uri": "https://localhost:8080/",
          "height": 142
        },
        "outputId": "2d2f2ff9-fc62-4676-c0f0-14b5aa111e9a"
      },
      "source": [
        "testset_dtc_df.head(3)"
      ],
      "id": "e6027dae",
      "execution_count": 11,
      "outputs": [
        {
          "output_type": "execute_result",
          "data": {
            "text/html": [
              "<div>\n",
              "<style scoped>\n",
              "    .dataframe tbody tr th:only-of-type {\n",
              "        vertical-align: middle;\n",
              "    }\n",
              "\n",
              "    .dataframe tbody tr th {\n",
              "        vertical-align: top;\n",
              "    }\n",
              "\n",
              "    .dataframe thead th {\n",
              "        text-align: right;\n",
              "    }\n",
              "</style>\n",
              "<table border=\"1\" class=\"dataframe\">\n",
              "  <thead>\n",
              "    <tr style=\"text-align: right;\">\n",
              "      <th></th>\n",
              "      <th>PIC50</th>\n",
              "      <th>base_rdkit_smiles</th>\n",
              "      <th>compound_id</th>\n",
              "      <th>relation</th>\n",
              "      <th>active</th>\n",
              "    </tr>\n",
              "  </thead>\n",
              "  <tbody>\n",
              "    <tr>\n",
              "      <th>0</th>\n",
              "      <td>4.522879</td>\n",
              "      <td>Nc1cc(CN2CCC(C(=O)N3CCC(n4c(=O)n(CCCC(F)(F)F)c...</td>\n",
              "      <td>KODNBJZZDKPFDL-UHFFFAOYSA-N</td>\n",
              "      <td>NaN</td>\n",
              "      <td>1</td>\n",
              "    </tr>\n",
              "    <tr>\n",
              "      <th>16</th>\n",
              "      <td>5.448550</td>\n",
              "      <td>COc1ccc2ccc(-c3cccnc3)c(Cl)c2c1</td>\n",
              "      <td>KRLGQBXIHBDUPS-UHFFFAOYSA-N</td>\n",
              "      <td>NaN</td>\n",
              "      <td>1</td>\n",
              "    </tr>\n",
              "    <tr>\n",
              "      <th>24</th>\n",
              "      <td>6.327902</td>\n",
              "      <td>CC(C)(C)c1ccc(SCCc2cnc[nH]2)cc1</td>\n",
              "      <td>PQPVHIHIJVIEQG-UHFFFAOYSA-N</td>\n",
              "      <td>NaN</td>\n",
              "      <td>1</td>\n",
              "    </tr>\n",
              "  </tbody>\n",
              "</table>\n",
              "</div>"
            ],
            "text/plain": [
              "       PIC50  ... active\n",
              "0   4.522879  ...      1\n",
              "16  5.448550  ...      1\n",
              "24  6.327902  ...      1\n",
              "\n",
              "[3 rows x 5 columns]"
            ]
          },
          "metadata": {},
          "execution_count": 11
        }
      ]
    },
    {
      "cell_type": "code",
      "metadata": {
        "id": "7f1444ff",
        "colab": {
          "base_uri": "https://localhost:8080/",
          "height": 142
        },
        "outputId": "00a0f4cd-ca32-4c26-a4a6-e39a4d9d00bb"
      },
      "source": [
        "testset_ex_df.head(3)"
      ],
      "id": "7f1444ff",
      "execution_count": 12,
      "outputs": [
        {
          "output_type": "execute_result",
          "data": {
            "text/html": [
              "<div>\n",
              "<style scoped>\n",
              "    .dataframe tbody tr th:only-of-type {\n",
              "        vertical-align: middle;\n",
              "    }\n",
              "\n",
              "    .dataframe tbody tr th {\n",
              "        vertical-align: top;\n",
              "    }\n",
              "\n",
              "    .dataframe thead th {\n",
              "        text-align: right;\n",
              "    }\n",
              "</style>\n",
              "<table border=\"1\" class=\"dataframe\">\n",
              "  <thead>\n",
              "    <tr style=\"text-align: right;\">\n",
              "      <th></th>\n",
              "      <th>base_rdkit_smiles</th>\n",
              "      <th>compound_id</th>\n",
              "      <th>pXC50</th>\n",
              "      <th>relation</th>\n",
              "      <th>active</th>\n",
              "    </tr>\n",
              "  </thead>\n",
              "  <tbody>\n",
              "    <tr>\n",
              "      <th>11</th>\n",
              "      <td>CC(=O)OCC1OC(C#CCCc2ccccc2)C=CC1OC(C)=O</td>\n",
              "      <td>PEMFRHXMDHFDFC-UHFFFAOYNA-N</td>\n",
              "      <td>5.50</td>\n",
              "      <td>NaN</td>\n",
              "      <td>1</td>\n",
              "    </tr>\n",
              "    <tr>\n",
              "      <th>26</th>\n",
              "      <td>O=C(Cc1ncc(C(F)(F)F)cc1Cl)Nc1cccc(Br)c1</td>\n",
              "      <td>WWAZVLSIEORJNO-PKSOQXRJNA-N</td>\n",
              "      <td>4.85</td>\n",
              "      <td>&lt;</td>\n",
              "      <td>0</td>\n",
              "    </tr>\n",
              "    <tr>\n",
              "      <th>28</th>\n",
              "      <td>CN1CCN(c2ncc3ncc(=O)n(Cc4cccs4)c3n2)CC1</td>\n",
              "      <td>YQXXRWPPMHYBJK-UHFFFAOYNA-N</td>\n",
              "      <td>4.60</td>\n",
              "      <td>&lt;</td>\n",
              "      <td>0</td>\n",
              "    </tr>\n",
              "  </tbody>\n",
              "</table>\n",
              "</div>"
            ],
            "text/plain": [
              "                          base_rdkit_smiles  ... active\n",
              "11  CC(=O)OCC1OC(C#CCCc2ccccc2)C=CC1OC(C)=O  ...      1\n",
              "26  O=C(Cc1ncc(C(F)(F)F)cc1Cl)Nc1cccc(Br)c1  ...      0\n",
              "28  CN1CCN(c2ncc3ncc(=O)n(Cc4cccs4)c3n2)CC1  ...      0\n",
              "\n",
              "[3 rows x 5 columns]"
            ]
          },
          "metadata": {},
          "execution_count": 12
        }
      ]
    },
    {
      "cell_type": "code",
      "metadata": {
        "id": "9c853733",
        "colab": {
          "base_uri": "https://localhost:8080/",
          "height": 142
        },
        "outputId": "62e53a24-e04f-4914-8126-da10b7be6755"
      },
      "source": [
        "testset_ch_df.head(3)"
      ],
      "id": "9c853733",
      "execution_count": 13,
      "outputs": [
        {
          "output_type": "execute_result",
          "data": {
            "text/html": [
              "<div>\n",
              "<style scoped>\n",
              "    .dataframe tbody tr th:only-of-type {\n",
              "        vertical-align: middle;\n",
              "    }\n",
              "\n",
              "    .dataframe tbody tr th {\n",
              "        vertical-align: top;\n",
              "    }\n",
              "\n",
              "    .dataframe thead th {\n",
              "        text-align: right;\n",
              "    }\n",
              "</style>\n",
              "<table border=\"1\" class=\"dataframe\">\n",
              "  <thead>\n",
              "    <tr style=\"text-align: right;\">\n",
              "      <th></th>\n",
              "      <th>base_rdkit_smiles</th>\n",
              "      <th>compound_id</th>\n",
              "      <th>pIC50</th>\n",
              "      <th>relation</th>\n",
              "      <th>active</th>\n",
              "    </tr>\n",
              "  </thead>\n",
              "  <tbody>\n",
              "    <tr>\n",
              "      <th>8</th>\n",
              "      <td>CC(C)N1CCC(NC(=O)c2ccc(OC3CCN(C4CCC4)CC3)cc2)C1</td>\n",
              "      <td>CHEMBL3754205</td>\n",
              "      <td>4.522879</td>\n",
              "      <td>&lt;</td>\n",
              "      <td>0</td>\n",
              "    </tr>\n",
              "    <tr>\n",
              "      <th>18</th>\n",
              "      <td>CC(C)(CC(O)(Cc1cc2cc(S(C)(=O)=O)ncc2[nH]1)C(F)...</td>\n",
              "      <td>CHEMBL3358944</td>\n",
              "      <td>4.522879</td>\n",
              "      <td>&lt;</td>\n",
              "      <td>0</td>\n",
              "    </tr>\n",
              "    <tr>\n",
              "      <th>24</th>\n",
              "      <td>CC1=N[C@H](C(=O)O)CCN1</td>\n",
              "      <td>CHEMBL1230264</td>\n",
              "      <td>5.000000</td>\n",
              "      <td>&lt;</td>\n",
              "      <td>0</td>\n",
              "    </tr>\n",
              "  </tbody>\n",
              "</table>\n",
              "</div>"
            ],
            "text/plain": [
              "                                    base_rdkit_smiles  ... active\n",
              "8     CC(C)N1CCC(NC(=O)c2ccc(OC3CCN(C4CCC4)CC3)cc2)C1  ...      0\n",
              "18  CC(C)(CC(O)(Cc1cc2cc(S(C)(=O)=O)ncc2[nH]1)C(F)...  ...      0\n",
              "24                             CC1=N[C@H](C(=O)O)CCN1  ...      0\n",
              "\n",
              "[3 rows x 5 columns]"
            ]
          },
          "metadata": {},
          "execution_count": 13
        }
      ]
    },
    {
      "cell_type": "markdown",
      "metadata": {
        "id": "f36702f8"
      },
      "source": [
        "## Save Union DTC Train/Test datasets"
      ],
      "id": "f36702f8"
    },
    {
      "cell_type": "code",
      "metadata": {
        "id": "3c31b3fd"
      },
      "source": [
        "# Save to files\n",
        "fileName = geneName+'_dtc_testset_base_smiles_union.csv'\n",
        "\n",
        "testset_dtc_df.to_csv(fileName, index=False, header=True )\n",
        "\n",
        "fileName = geneName+'_dtc_trainset_base_smiles_union.csv'\n",
        "trainset_dtc_df.to_csv(fileName, index=False, header=True )"
      ],
      "id": "3c31b3fd",
      "execution_count": 14,
      "outputs": []
    },
    {
      "cell_type": "markdown",
      "metadata": {
        "id": "accfaef9"
      },
      "source": [
        "## Save Union ExCAPE-DB Train/Test datasets"
      ],
      "id": "accfaef9"
    },
    {
      "cell_type": "code",
      "metadata": {
        "id": "8a142693"
      },
      "source": [
        "fileName = geneName+'_excape_testset_base_smiles_union.csv'\n",
        "\n",
        "testset_ex_df.to_csv(fileName,index=False,header=True )\n",
        "\n",
        "fileName = geneName+'_excape_trainset_base_smiles_union.csv'\n",
        "trainset_ex_df.to_csv(fileName,index=False,header=True )"
      ],
      "id": "8a142693",
      "execution_count": 15,
      "outputs": []
    },
    {
      "cell_type": "markdown",
      "metadata": {
        "id": "4a63b1b8"
      },
      "source": [
        "## Save ChEMBL Train/Test datasets"
      ],
      "id": "4a63b1b8"
    },
    {
      "cell_type": "code",
      "metadata": {
        "id": "3ef3042d"
      },
      "source": [
        "fileName = geneName+'_chembl_testset_base_smiles_union.csv'\n",
        "testset_ch_df.to_csv(fileName,index=False,header=True )\n",
        "\n",
        "fileName = geneName+'_chembl_trainset_base_smiles_union.csv'\n",
        "trainset_ch_df.to_csv(fileName,index=False,header=True )"
      ],
      "id": "3ef3042d",
      "execution_count": 16,
      "outputs": []
    },
    {
      "cell_type": "markdown",
      "metadata": {
        "id": "4aa255aa"
      },
      "source": [
        "## Plot Venn diagram"
      ],
      "id": "4aa255aa"
    },
    {
      "cell_type": "code",
      "metadata": {
        "id": "d4abf87e"
      },
      "source": [
        "# Plot venn3 distribution \n",
        "dtc_s = dtc_df['base_rdkit_smiles'].tolist()\n",
        "ex_s = ex_df['base_rdkit_smiles'].tolist()\n",
        "ch_s = ch_df['base_rdkit_smiles'].tolist()\n",
        "\n",
        "dtc_set = set(dtc_s)\n",
        "ex_set = set(ex_s)\n",
        "ch_set = set(ch_s)"
      ],
      "id": "d4abf87e",
      "execution_count": 17,
      "outputs": []
    },
    {
      "cell_type": "code",
      "metadata": {
        "id": "11654bfb"
      },
      "source": [
        "fig = plt.figure()\n",
        "venn3([dtc_set, ex_set, ch_set], ('DTC', 'Excape', 'ChEMBL'))\n",
        "plt.title(geneName.upper())\n",
        "fig.savefig('geneName'+'_union_venn.png')"
      ],
      "id": "11654bfb",
      "execution_count": 18,
      "outputs": []
    },
    {
      "cell_type": "code",
      "metadata": {
        "id": "6a67792d",
        "colab": {
          "base_uri": "https://localhost:8080/",
          "height": 265
        },
        "outputId": "63083375-1d8e-43f9-cb2c-4edf40e1c9ee"
      },
      "source": [
        "fig"
      ],
      "id": "6a67792d",
      "execution_count": 19,
      "outputs": [
        {
          "output_type": "execute_result",
          "data": {
            "image/png": "[encoded data removed]",
            "text/plain": [
              "<Figure size 432x288 with 1 Axes>"
            ]
          },
          "metadata": {},
          "execution_count": 19
        }
      ]
    },
    {
      "cell_type": "markdown",
      "metadata": {
        "id": "v4RM7lVmqla7"
      },
      "source": [
        "## Plot selected random samples venn"
      ],
      "id": "v4RM7lVmqla7"
    },
    {
      "cell_type": "code",
      "metadata": {
        "id": "47b57776"
      },
      "source": [
        "subset_sel_dtc = testset_dtc_df['base_rdkit_smiles']\n",
        "subset_sel_ex = testset_ex_df['base_rdkit_smiles']\n",
        "subset_sel_ch = testset_ch_df['base_rdkit_smiles'] \n",
        "\n",
        "dtc_set = set(subset_sel_dtc)\n",
        "ex_set = set(subset_sel_ex)\n",
        "ch_set = set(subset_sel_ch)"
      ],
      "id": "47b57776",
      "execution_count": 20,
      "outputs": []
    },
    {
      "cell_type": "code",
      "metadata": {
        "id": "e8df8abc"
      },
      "source": [
        "fig = plt.figure()\n",
        "venn3([dtc_set, ex_set, ch_set], ('DTC', 'Excape', 'ChEMBL'))\n",
        "plt.title(geneName.upper()+' Top ' +str(round(test_fraction*100))+'% Distances to Training, True Sources')\n",
        "fig.savefig(geneName+'_union_randomSample_proportionSub_dist2train_venn_frac015_forceTrue.png')"
      ],
      "id": "e8df8abc",
      "execution_count": 21,
      "outputs": []
    },
    {
      "cell_type": "code",
      "metadata": {
        "id": "f2d8a441",
        "colab": {
          "base_uri": "https://localhost:8080/",
          "height": 266
        },
        "outputId": "cd9ae00e-de36-43d5-ed86-ae242ba8dcba"
      },
      "source": [
        "fig"
      ],
      "id": "f2d8a441",
      "execution_count": 22,
      "outputs": [
        {
          "output_type": "execute_result",
          "data": {
            "image/png": "[encoded data removed]",
            "text/plain": [
              "<Figure size 432x288 with 1 Axes>"
            ]
          },
          "metadata": {},
          "execution_count": 22
        }
      ]
    },
    {
      "cell_type": "markdown",
      "metadata": {
        "id": "5e9af864"
      },
      "source": [
        "## Gather information for plotting PIC50"
      ],
      "id": "5e9af864"
    },
    {
      "cell_type": "code",
      "metadata": {
        "id": "9316b28a"
      },
      "source": [
        "sel_dtc_pic50 = testset_dtc_df['PIC50']\n",
        "sel_ex_pic50 = testset_ex_df['pXC50']\n",
        "sel_ch_pic50 = testset_ch_df['pIC50']"
      ],
      "id": "9316b28a",
      "execution_count": 23,
      "outputs": []
    },
    {
      "cell_type": "code",
      "metadata": {
        "id": "c912913d",
        "colab": {
          "base_uri": "https://localhost:8080/"
        },
        "outputId": "c7b47c80-b062-4808-ca30-4f59824b4927"
      },
      "source": [
        "fig = plt.figure()\n",
        "\n",
        "sns.distplot(sel_dtc_pic50,hist=False,kde=True,label='DTC')\n",
        "sns.distplot(sel_ex_pic50,hist=False,kde=True,label='Excape')\n",
        "sns.distplot(sel_ch_pic50,hist=False,kde=True,label='ChEMBL')\n",
        "plt.ylabel('Density')\n",
        "plt.title(geneName.upper()+' Test Set, '+str(round(test_fraction*100))+'%') \n",
        "fig.savefig(geneName+'_union_randomSample_proportionSub_pic50Dist_frac015_force.png')"
      ],
      "id": "c912913d",
      "execution_count": 24,
      "outputs": [
        {
          "output_type": "stream",
          "name": "stderr",
          "text": [
            "/usr/local/lib/python3.7/dist-packages/seaborn/distributions.py:2619: FutureWarning: `distplot` is a deprecated function and will be removed in a future version. Please adapt your code to use either `displot` (a figure-level function with similar flexibility) or `kdeplot` (an axes-level function for kernel density plots).\n",
            "  warnings.warn(msg, FutureWarning)\n",
            "/usr/local/lib/python3.7/dist-packages/seaborn/distributions.py:2619: FutureWarning: `distplot` is a deprecated function and will be removed in a future version. Please adapt your code to use either `displot` (a figure-level function with similar flexibility) or `kdeplot` (an axes-level function for kernel density plots).\n",
            "  warnings.warn(msg, FutureWarning)\n",
            "/usr/local/lib/python3.7/dist-packages/seaborn/distributions.py:2619: FutureWarning: `distplot` is a deprecated function and will be removed in a future version. Please adapt your code to use either `displot` (a figure-level function with similar flexibility) or `kdeplot` (an axes-level function for kernel density plots).\n",
            "  warnings.warn(msg, FutureWarning)\n"
          ]
        }
      ]
    },
    {
      "cell_type": "code",
      "metadata": {
        "id": "f09c2d4c",
        "colab": {
          "base_uri": "https://localhost:8080/",
          "height": 295
        },
        "outputId": "6a6e1237-065d-486d-9514-72f97fd06bfa"
      },
      "source": [
        "fig"
      ],
      "id": "f09c2d4c",
      "execution_count": 25,
      "outputs": [
        {
          "output_type": "execute_result",
          "data": {
            "image/png": "[encoded data removed]",
            "text/plain": [
              "<Figure size 432x288 with 1 Axes>"
            ]
          },
          "metadata": {},
          "execution_count": 25
        }
      ]
    },
    {
      "cell_type": "code",
      "metadata": {
        "id": "c0ef3d5b"
      },
      "source": [
        "dtc_pic50 = dtc_df['PIC50']\n",
        "ex_pic50 = ex_df['pXC50']\n",
        "ch_pic50 = ch_df['pIC50']"
      ],
      "id": "c0ef3d5b",
      "execution_count": 26,
      "outputs": []
    },
    {
      "cell_type": "code",
      "metadata": {
        "id": "bee47da3",
        "colab": {
          "base_uri": "https://localhost:8080/"
        },
        "outputId": "034ea900-0cbd-47af-e3de-ff50a14e925e"
      },
      "source": [
        "fig = plt.figure()\n",
        "sns.distplot(dtc_pic50,hist=False,kde=True,label='DTC')\n",
        "sns.distplot(ex_pic50,hist=False,kde=True,label='Excape')\n",
        "sns.distplot(ch_pic50,hist=False,kde=True,label='ChEMBL')\n",
        "plt.ylabel('Density')\n",
        "plt.title(geneName.upper())\n",
        "plt.legend()\n",
        "fig.savefig(geneName+'_pic50Dist.png')"
      ],
      "id": "bee47da3",
      "execution_count": 27,
      "outputs": [
        {
          "output_type": "stream",
          "name": "stderr",
          "text": [
            "/usr/local/lib/python3.7/dist-packages/seaborn/distributions.py:2619: FutureWarning: `distplot` is a deprecated function and will be removed in a future version. Please adapt your code to use either `displot` (a figure-level function with similar flexibility) or `kdeplot` (an axes-level function for kernel density plots).\n",
            "  warnings.warn(msg, FutureWarning)\n",
            "/usr/local/lib/python3.7/dist-packages/seaborn/distributions.py:2619: FutureWarning: `distplot` is a deprecated function and will be removed in a future version. Please adapt your code to use either `displot` (a figure-level function with similar flexibility) or `kdeplot` (an axes-level function for kernel density plots).\n",
            "  warnings.warn(msg, FutureWarning)\n",
            "/usr/local/lib/python3.7/dist-packages/seaborn/distributions.py:2619: FutureWarning: `distplot` is a deprecated function and will be removed in a future version. Please adapt your code to use either `displot` (a figure-level function with similar flexibility) or `kdeplot` (an axes-level function for kernel density plots).\n",
            "  warnings.warn(msg, FutureWarning)\n"
          ]
        }
      ]
    },
    {
      "cell_type": "code",
      "metadata": {
        "id": "be01fde6",
        "colab": {
          "base_uri": "https://localhost:8080/",
          "height": 295
        },
        "outputId": "12b03b4d-0c45-409f-ae44-1f60584b45a5"
      },
      "source": [
        "fig"
      ],
      "id": "be01fde6",
      "execution_count": 28,
      "outputs": [
        {
          "output_type": "execute_result",
          "data": {
            "image/png": "[encoded data removed]",
            "text/plain": [
              "<Figure size 432x288 with 1 Axes>"
            ]
          },
          "metadata": {},
          "execution_count": 28
        }
      ]
    },
    {
      "cell_type": "markdown",
      "metadata": {
        "id": "40cc8f69"
      },
      "source": [
        "## Combine the testsets"
      ],
      "id": "40cc8f69"
    },
    {
      "cell_type": "code",
      "metadata": {
        "id": "0c0f117f",
        "colab": {
          "base_uri": "https://localhost:8080/"
        },
        "outputId": "6b877a76-77aa-41ef-e14b-26fca97ac07d"
      },
      "source": [
        "testset_dtc_df.columns"
      ],
      "id": "0c0f117f",
      "execution_count": 29,
      "outputs": [
        {
          "output_type": "execute_result",
          "data": {
            "text/plain": [
              "Index(['PIC50', 'base_rdkit_smiles', 'compound_id', 'relation', 'active'], dtype='object')"
            ]
          },
          "metadata": {},
          "execution_count": 29
        }
      ]
    },
    {
      "cell_type": "code",
      "metadata": {
        "id": "6359b6ca",
        "colab": {
          "base_uri": "https://localhost:8080/"
        },
        "outputId": "b2da5c5f-ce45-4ea8-9994-2295f51f5824"
      },
      "source": [
        "testset_ex_df.columns"
      ],
      "id": "6359b6ca",
      "execution_count": 30,
      "outputs": [
        {
          "output_type": "execute_result",
          "data": {
            "text/plain": [
              "Index(['base_rdkit_smiles', 'compound_id', 'pXC50', 'relation', 'active'], dtype='object')"
            ]
          },
          "metadata": {},
          "execution_count": 30
        }
      ]
    },
    {
      "cell_type": "code",
      "metadata": {
        "id": "5bdb9d69",
        "colab": {
          "base_uri": "https://localhost:8080/"
        },
        "outputId": "38782970-06b7-4ca5-d1b7-b48b4d476e6d"
      },
      "source": [
        "testset_ch_df.columns"
      ],
      "id": "5bdb9d69",
      "execution_count": 31,
      "outputs": [
        {
          "output_type": "execute_result",
          "data": {
            "text/plain": [
              "Index(['base_rdkit_smiles', 'compound_id', 'pIC50', 'relation', 'active'], dtype='object')"
            ]
          },
          "metadata": {},
          "execution_count": 31
        }
      ]
    },
    {
      "cell_type": "markdown",
      "metadata": {
        "id": "225763c7"
      },
      "source": [
        "## Prepare DataFrames for concatanation"
      ],
      "id": "225763c7"
    },
    {
      "cell_type": "code",
      "metadata": {
        "id": "3f933278"
      },
      "source": [
        "testset_dtc_df  = testset_dtc_df.rename(columns={'PIC50':'pIC50'})\n",
        "trainset_dtc_df = trainset_dtc_df.rename(columns={'PIC50':'pIC50'})\n",
        "testset_ex_df  = testset_ex_df.rename(columns={'pXC50':'pIC50'})\n",
        "trainset_ex_df = trainset_ex_df.rename(columns={'pXC50':'pIC50'})"
      ],
      "id": "3f933278",
      "execution_count": 32,
      "outputs": []
    },
    {
      "cell_type": "code",
      "metadata": {
        "id": "28abc450",
        "colab": {
          "base_uri": "https://localhost:8080/"
        },
        "outputId": "b256c571-f72e-4ad3-c9d0-50b85c6a5221"
      },
      "source": [
        "testUnion_df = genTestset.genUnionSet(testset_dtc_df,testset_ex_df,testset_ch_df)\n",
        "print(testUnion_df.shape)"
      ],
      "id": "28abc450",
      "execution_count": 33,
      "outputs": [
        {
          "output_type": "stream",
          "name": "stdout",
          "text": [
            "Total number of base smiles strings in combined data:  (3809, 5)\n",
            "0 entries in input table are missing SMILES strings\n",
            "3141 unique SMILES strings are reduced to 3141 unique base SMILES strings\n",
            "(3141, 5)\n"
          ]
        }
      ]
    },
    {
      "cell_type": "code",
      "metadata": {
        "id": "77fc701e",
        "colab": {
          "base_uri": "https://localhost:8080/"
        },
        "outputId": "d40e13a2-bb16-4a0c-aa70-ceae5d56160f"
      },
      "source": [
        "# Combining the training set\n",
        "trainUnion_df = genUnionSet(trainset_dtc_df,trainset_ex_df,trainset_ch_df)"
      ],
      "id": "77fc701e",
      "execution_count": 34,
      "outputs": [
        {
          "output_type": "stream",
          "name": "stdout",
          "text": [
            "Total number of base smiles strings in combined data:  (22058, 5)\n",
            "0 entries in input table are missing SMILES strings\n",
            "17796 unique SMILES strings are reduced to 17796 unique base SMILES strings\n"
          ]
        }
      ]
    },
    {
      "cell_type": "markdown",
      "metadata": {
        "id": "4560e02f"
      },
      "source": [
        "# Save the final data "
      ],
      "id": "4560e02f"
    },
    {
      "cell_type": "code",
      "metadata": {
        "id": "b7b381e1"
      },
      "source": [
        "fileName = geneName+'_union_testset_base_smiles.csv'\n",
        "testUnion_df.to_csv(fileName,index=False,header=True)\n",
        "\n",
        "fileName = geneName+'_union_trainset_base_smiles.csv'\n",
        "trainUnion_df.to_csv(fileName,index=False,header=True)"
      ],
      "id": "b7b381e1",
      "execution_count": 35,
      "outputs": []
    },
    {
      "cell_type": "code",
      "metadata": {
        "id": "559ae806",
        "colab": {
          "base_uri": "https://localhost:8080/"
        },
        "outputId": "5f06b357-9c08-4204-a90c-dda646cebe9b"
      },
      "source": [
        "!date"
      ],
      "id": "559ae806",
      "execution_count": 36,
      "outputs": [
        {
          "output_type": "stream",
          "name": "stdout",
          "text": [
            "Fri Sep 17 22:24:28 UTC 2021\n"
          ]
        }
      ]
    },
    {
      "cell_type": "code",
      "metadata": {
        "id": "cfuYxbRc37-x"
      },
      "source": [
        ""
      ],
      "id": "cfuYxbRc37-x",
      "execution_count": null,
      "outputs": []
    }
  ]
}