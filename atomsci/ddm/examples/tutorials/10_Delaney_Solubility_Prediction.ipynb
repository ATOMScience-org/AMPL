{
  "nbformat": 4,
  "nbformat_minor": 0,
  "metadata": {
    "kernelspec": {
      "display_name": "Python 3",
      "language": "python",
      "name": "python3"
    },
    "language_info": {
      "codemirror_mode": {
        "name": "ipython",
        "version": 3
      },
      "file_extension": ".py",
      "mimetype": "text/x-python",
      "name": "python",
      "nbconvert_exporter": "python",
      "pygments_lexer": "ipython3",
      "version": "3.6.6"
    },
    "colab": {
      "name": "10_Delaney_Solubility_Prediction.ipynb",
      "provenance": [],
      "collapsed_sections": [],
      "machine_shape": "hm",
      "include_colab_link": true
    },
    "accelerator": "GPU"
  },
  "cells": [
    {
      "cell_type": "markdown",
      "metadata": {
        "id": "view-in-github",
        "colab_type": "text"
      },
      "source": [
        "<a href=\"https://colab.research.google.com/github/ATOMconsortium/AMPL/blob/Tutorials/atomsci/ddm/examples/tutorials/10_Delaney_Solubility_Prediction.ipynb\" target=\"_parent\"><img src=\"https://colab.research.google.com/assets/colab-badge.svg\" alt=\"Open In Colab\"/></a>"
      ]
    },
    {
      "cell_type": "markdown",
      "metadata": {
        "id": "VQYLwMnVDT8l"
      },
      "source": [
        "<h1>Predicting Solubility Using AMPL</h1>\n",
        "\n",
        "The ATOM Modeling PipeLine (AMPL; https://github.com/ATOMconsortium/AMPL) is an open-source, modular, extensible software pipeline for building and sharing models to advance in silico drug discovery.\n"
      ]
    },
    {
      "cell_type": "markdown",
      "metadata": {
        "id": "d9wRTs8cHKis"
      },
      "source": [
        "## Notebook execution time: ~ 3 minutes"
      ]
    },
    {
      "cell_type": "code",
      "metadata": {
        "colab": {
          "base_uri": "https://localhost:8080/"
        },
        "id": "YxRoIMr5D0PQ",
        "outputId": "a5f49061-b8b4-4f84-c2c5-4272149a9c21"
      },
      "source": [
        "!date"
      ],
      "execution_count": null,
      "outputs": [
        {
          "output_type": "stream",
          "text": [
            "Thu May 20 23:30:39 UTC 2021\n"
          ],
          "name": "stdout"
        }
      ]
    },
    {
      "cell_type": "markdown",
      "metadata": {
        "id": "WlGjgLeOVk2w"
      },
      "source": [
        "# Goal: Predict solubility using the ATOM Modeling Pipeline (AMPL) on the public dataset\n",
        "\n",
        "In this notebook, we describe the following steps using AMPL:\n",
        "\n",
        "1.   Read a public dataset containing chemical structures and some properties\n",
        "1.   Curate the dataset \n",
        "2.   Fit a simple model\n",
        "3.   Predict solubility for withheld compounds\n",
        "\n",
        "\n",
        "## Set up\n",
        "We first import the AMPL modules for use in this notebook.\n",
        "\n",
        "The relevant AMPL modules for this example are listed below:\n",
        "\n",
        "|module|Description|\n",
        "|-|-|\n",
        "|`atomsci.ddm.pipeline.model_pipeline`|The model pipeline module is used to fit models and load models for prediction.|\n",
        "|`atomsci.ddm.pipeline.parameter_parser`|The parameter parser reads through pipeline options for the model pipeline.|\n",
        "|`atomsci.ddm.utils.curate_data`|The curate data module is used for data loading and pre-processing.|\n",
        "|`atomsci.ddm.utils.struct_utils`|The structure utilities module is used to process loaded structures.|\n",
        "|`atomsci.ddm.pipeline.perf_plots`|Perf plots contains a variety of plotting functions.|"
      ]
    },
    {
      "cell_type": "markdown",
      "metadata": {
        "id": "Q4ZFqjQVMVXL"
      },
      "source": [
        "## Install AMPL"
      ]
    },
    {
      "cell_type": "code",
      "metadata": {
        "id": "RgPw1t5PO-QC"
      },
      "source": [
        "!curl -Lo conda_installer.py https://raw.githubusercontent.com/deepchem/deepchem/master/scripts/colab_install.py\n",
        "import conda_installer\n",
        "conda_installer.install()\n",
        "!/root/miniconda/bin/conda info -e\n",
        "\n",
        "!pip install deepchem-nightly\n",
        "\n",
        "import deepchem\n",
        "deepchem.__version__\n",
        "\n",
        "! pip install umap\n",
        "! pip install llvmlite==0.34.0  --ignore-installed\n",
        "! pip install umap-learn\n",
        "! pip install molvs\n",
        "! pip install bravado"
      ],
      "execution_count": null,
      "outputs": []
    },
    {
      "cell_type": "code",
      "metadata": {
        "id": "scDiD9K_KKkB"
      },
      "source": [
        "import deepchem as dc\n",
        "\n",
        "# get the Install AMPL_GPU_test.sh\n",
        "!wget https://raw.githubusercontent.com/ravichas/AMPL-Tutorial/master/config/install_AMPL_GPU_test.sh\n",
        "\n",
        "# run the script to install AMPL\n",
        "! chmod u+x install_AMPL_GPU_test.sh\n",
        "! ./install_AMPL_GPU_test.sh"
      ],
      "execution_count": null,
      "outputs": []
    },
    {
      "cell_type": "code",
      "metadata": {
        "id": "mflA92SEVk2x"
      },
      "source": [
        "# We temporarily disable warnings for demonstration.\n",
        "# FutureWarnings and DeprecationWarnings are present from some of the AMPL \n",
        "# dependency modules.\n",
        "import warnings\n",
        "warnings.filterwarnings('ignore')\n",
        "\n",
        "import json\n",
        "import numpy as np\n",
        "import pandas as pd\n",
        "import os\n",
        "import requests\n",
        "import sys\n",
        "\n",
        "import atomsci.ddm.pipeline.model_pipeline as mp\n",
        "import atomsci.ddm.pipeline.parameter_parser as parse\n",
        "import atomsci.ddm.utils.curate_data as curate_data\n",
        "import atomsci.ddm.utils.struct_utils as struct_utils\n",
        "from atomsci.ddm.pipeline import perf_plots as pp\n"
      ],
      "execution_count": null,
      "outputs": []
    },
    {
      "cell_type": "markdown",
      "metadata": {
        "id": "oRrd09dCVk22"
      },
      "source": [
        "## Data curation\n",
        "\n",
        "We then download and do very simple curation to the related dataset.\n",
        "\n",
        "We need to set the directory we want to save files to. Next we download the dataset."
      ]
    },
    {
      "cell_type": "code",
      "metadata": {
        "id": "11ccpX-onveT"
      },
      "source": [
        "working_dir = '/content'"
      ],
      "execution_count": null,
      "outputs": []
    },
    {
      "cell_type": "code",
      "metadata": {
        "id": "REL1w2ULAH8e"
      },
      "source": [
        "import io\n",
        "url = 'https://raw.githubusercontent.com/deepchem/deepchem/master/datasets/delaney-processed.csv'\n",
        "download = requests.get(url).content"
      ],
      "execution_count": null,
      "outputs": []
    },
    {
      "cell_type": "code",
      "metadata": {
        "id": "B524IFKtAOdR"
      },
      "source": [
        "# Reading the downloaded content and turning it into a pandas dataframe\n",
        "raw_df = pd.read_csv(io.StringIO(download.decode('utf-8')), sep=',', header=0 )"
      ],
      "execution_count": null,
      "outputs": []
    },
    {
      "cell_type": "markdown",
      "metadata": {
        "id": "dCxw6gNmVk29"
      },
      "source": [
        "Next, we load the downloaded dataset, and process the compound structures:"
      ]
    },
    {
      "cell_type": "code",
      "metadata": {
        "id": "Lk83NzbkwfZG"
      },
      "source": [
        "data_orig = raw_df"
      ],
      "execution_count": null,
      "outputs": []
    },
    {
      "cell_type": "code",
      "metadata": {
        "colab": {
          "base_uri": "https://localhost:8080/"
        },
        "id": "XoZYHbJK_UA7",
        "outputId": "b58a1a70-43f7-47c8-9c05-fcae249e97fd"
      },
      "source": [
        "raw_df.columns"
      ],
      "execution_count": null,
      "outputs": [
        {
          "output_type": "execute_result",
          "data": {
            "text/plain": [
              "Index(['Compound ID', 'ESOL predicted log solubility in mols per litre',\n",
              "       'Minimum Degree', 'Molecular Weight', 'Number of H-Bond Donors',\n",
              "       'Number of Rings', 'Number of Rotatable Bonds', 'Polar Surface Area',\n",
              "       'measured log solubility in mols per litre', 'smiles'],\n",
              "      dtype='object')"
            ]
          },
          "metadata": {
            "tags": []
          },
          "execution_count": 43
        }
      ]
    },
    {
      "cell_type": "code",
      "metadata": {
        "colab": {
          "base_uri": "https://localhost:8080/",
          "height": 308
        },
        "id": "AygEGe71_YSv",
        "outputId": "986f4e77-5910-4064-b1cf-baca7296f020"
      },
      "source": [
        "raw_df.head(5)"
      ],
      "execution_count": null,
      "outputs": [
        {
          "output_type": "execute_result",
          "data": {
            "text/html": [
              "<div>\n",
              "<style scoped>\n",
              "    .dataframe tbody tr th:only-of-type {\n",
              "        vertical-align: middle;\n",
              "    }\n",
              "\n",
              "    .dataframe tbody tr th {\n",
              "        vertical-align: top;\n",
              "    }\n",
              "\n",
              "    .dataframe thead th {\n",
              "        text-align: right;\n",
              "    }\n",
              "</style>\n",
              "<table border=\"1\" class=\"dataframe\">\n",
              "  <thead>\n",
              "    <tr style=\"text-align: right;\">\n",
              "      <th></th>\n",
              "      <th>Compound ID</th>\n",
              "      <th>ESOL predicted log solubility in mols per litre</th>\n",
              "      <th>Minimum Degree</th>\n",
              "      <th>Molecular Weight</th>\n",
              "      <th>Number of H-Bond Donors</th>\n",
              "      <th>Number of Rings</th>\n",
              "      <th>Number of Rotatable Bonds</th>\n",
              "      <th>Polar Surface Area</th>\n",
              "      <th>measured log solubility in mols per litre</th>\n",
              "      <th>smiles</th>\n",
              "    </tr>\n",
              "  </thead>\n",
              "  <tbody>\n",
              "    <tr>\n",
              "      <th>0</th>\n",
              "      <td>Amigdalin</td>\n",
              "      <td>-0.974</td>\n",
              "      <td>1</td>\n",
              "      <td>457.432</td>\n",
              "      <td>7</td>\n",
              "      <td>3</td>\n",
              "      <td>7</td>\n",
              "      <td>202.32</td>\n",
              "      <td>-0.77</td>\n",
              "      <td>OCC3OC(OCC2OC(OC(C#N)c1ccccc1)C(O)C(O)C2O)C(O)...</td>\n",
              "    </tr>\n",
              "    <tr>\n",
              "      <th>1</th>\n",
              "      <td>Fenfuram</td>\n",
              "      <td>-2.885</td>\n",
              "      <td>1</td>\n",
              "      <td>201.225</td>\n",
              "      <td>1</td>\n",
              "      <td>2</td>\n",
              "      <td>2</td>\n",
              "      <td>42.24</td>\n",
              "      <td>-3.30</td>\n",
              "      <td>Cc1occc1C(=O)Nc2ccccc2</td>\n",
              "    </tr>\n",
              "    <tr>\n",
              "      <th>2</th>\n",
              "      <td>citral</td>\n",
              "      <td>-2.579</td>\n",
              "      <td>1</td>\n",
              "      <td>152.237</td>\n",
              "      <td>0</td>\n",
              "      <td>0</td>\n",
              "      <td>4</td>\n",
              "      <td>17.07</td>\n",
              "      <td>-2.06</td>\n",
              "      <td>CC(C)=CCCC(C)=CC(=O)</td>\n",
              "    </tr>\n",
              "    <tr>\n",
              "      <th>3</th>\n",
              "      <td>Picene</td>\n",
              "      <td>-6.618</td>\n",
              "      <td>2</td>\n",
              "      <td>278.354</td>\n",
              "      <td>0</td>\n",
              "      <td>5</td>\n",
              "      <td>0</td>\n",
              "      <td>0.00</td>\n",
              "      <td>-7.87</td>\n",
              "      <td>c1ccc2c(c1)ccc3c2ccc4c5ccccc5ccc43</td>\n",
              "    </tr>\n",
              "    <tr>\n",
              "      <th>4</th>\n",
              "      <td>Thiophene</td>\n",
              "      <td>-2.232</td>\n",
              "      <td>2</td>\n",
              "      <td>84.143</td>\n",
              "      <td>0</td>\n",
              "      <td>1</td>\n",
              "      <td>0</td>\n",
              "      <td>0.00</td>\n",
              "      <td>-1.33</td>\n",
              "      <td>c1ccsc1</td>\n",
              "    </tr>\n",
              "  </tbody>\n",
              "</table>\n",
              "</div>"
            ],
            "text/plain": [
              "  Compound ID  ...                                             smiles\n",
              "0   Amigdalin  ...  OCC3OC(OCC2OC(OC(C#N)c1ccccc1)C(O)C(O)C2O)C(O)...\n",
              "1    Fenfuram  ...                             Cc1occc1C(=O)Nc2ccccc2\n",
              "2      citral  ...                               CC(C)=CCCC(C)=CC(=O)\n",
              "3      Picene  ...                 c1ccc2c(c1)ccc3c2ccc4c5ccccc5ccc43\n",
              "4   Thiophene  ...                                            c1ccsc1\n",
              "\n",
              "[5 rows x 10 columns]"
            ]
          },
          "metadata": {
            "tags": []
          },
          "execution_count": 44
        }
      ]
    },
    {
      "cell_type": "code",
      "metadata": {
        "id": "0vlfZzbxVk2-"
      },
      "source": [
        "# base_smiles_from_smiles:\n",
        "# Generate a standardized SMILES, InChI keys for dataset with curation and structure modules.\n",
        "# RDkit modules are used to process the SMILES strings\n",
        "\n",
        "# Default Arg options: \n",
        "# useIsomericSmiles = True\n",
        "# removeCharges = False \n",
        "\n",
        "raw_df['rdkit_smiles'] = raw_df['smiles'].apply(curate_data.base_smiles_from_smiles)"
      ],
      "execution_count": null,
      "outputs": []
    },
    {
      "cell_type": "markdown",
      "metadata": {
        "id": "n0OctfHTBclP"
      },
      "source": [
        "## What happened after calling `base_smiles_from_smiles`?\n",
        "Also remember the column name of the `rdkit_smiles`, we will use the standardized smiles later as input in our model calculations "
      ]
    },
    {
      "cell_type": "code",
      "metadata": {
        "colab": {
          "base_uri": "https://localhost:8080/",
          "height": 277
        },
        "id": "E5xPHZptBNB-",
        "outputId": "d15b5be0-c200-444a-e038-a76758fbaf04"
      },
      "source": [
        "raw_df.head(4)"
      ],
      "execution_count": null,
      "outputs": [
        {
          "output_type": "execute_result",
          "data": {
            "text/html": [
              "<div>\n",
              "<style scoped>\n",
              "    .dataframe tbody tr th:only-of-type {\n",
              "        vertical-align: middle;\n",
              "    }\n",
              "\n",
              "    .dataframe tbody tr th {\n",
              "        vertical-align: top;\n",
              "    }\n",
              "\n",
              "    .dataframe thead th {\n",
              "        text-align: right;\n",
              "    }\n",
              "</style>\n",
              "<table border=\"1\" class=\"dataframe\">\n",
              "  <thead>\n",
              "    <tr style=\"text-align: right;\">\n",
              "      <th></th>\n",
              "      <th>Compound ID</th>\n",
              "      <th>ESOL predicted log solubility in mols per litre</th>\n",
              "      <th>Minimum Degree</th>\n",
              "      <th>Molecular Weight</th>\n",
              "      <th>Number of H-Bond Donors</th>\n",
              "      <th>Number of Rings</th>\n",
              "      <th>Number of Rotatable Bonds</th>\n",
              "      <th>Polar Surface Area</th>\n",
              "      <th>measured log solubility in mols per litre</th>\n",
              "      <th>smiles</th>\n",
              "      <th>rdkit_smiles</th>\n",
              "    </tr>\n",
              "  </thead>\n",
              "  <tbody>\n",
              "    <tr>\n",
              "      <th>0</th>\n",
              "      <td>Amigdalin</td>\n",
              "      <td>-0.974</td>\n",
              "      <td>1</td>\n",
              "      <td>457.432</td>\n",
              "      <td>7</td>\n",
              "      <td>3</td>\n",
              "      <td>7</td>\n",
              "      <td>202.32</td>\n",
              "      <td>-0.77</td>\n",
              "      <td>OCC3OC(OCC2OC(OC(C#N)c1ccccc1)C(O)C(O)C2O)C(O)...</td>\n",
              "      <td>N#CC(OC1OC(COC2OC(CO)C(O)C(O)C2O)C(O)C(O)C1O)c...</td>\n",
              "    </tr>\n",
              "    <tr>\n",
              "      <th>1</th>\n",
              "      <td>Fenfuram</td>\n",
              "      <td>-2.885</td>\n",
              "      <td>1</td>\n",
              "      <td>201.225</td>\n",
              "      <td>1</td>\n",
              "      <td>2</td>\n",
              "      <td>2</td>\n",
              "      <td>42.24</td>\n",
              "      <td>-3.30</td>\n",
              "      <td>Cc1occc1C(=O)Nc2ccccc2</td>\n",
              "      <td>Cc1occc1C(=O)Nc1ccccc1</td>\n",
              "    </tr>\n",
              "    <tr>\n",
              "      <th>2</th>\n",
              "      <td>citral</td>\n",
              "      <td>-2.579</td>\n",
              "      <td>1</td>\n",
              "      <td>152.237</td>\n",
              "      <td>0</td>\n",
              "      <td>0</td>\n",
              "      <td>4</td>\n",
              "      <td>17.07</td>\n",
              "      <td>-2.06</td>\n",
              "      <td>CC(C)=CCCC(C)=CC(=O)</td>\n",
              "      <td>CC(C)=CCCC(C)=CC=O</td>\n",
              "    </tr>\n",
              "    <tr>\n",
              "      <th>3</th>\n",
              "      <td>Picene</td>\n",
              "      <td>-6.618</td>\n",
              "      <td>2</td>\n",
              "      <td>278.354</td>\n",
              "      <td>0</td>\n",
              "      <td>5</td>\n",
              "      <td>0</td>\n",
              "      <td>0.00</td>\n",
              "      <td>-7.87</td>\n",
              "      <td>c1ccc2c(c1)ccc3c2ccc4c5ccccc5ccc43</td>\n",
              "      <td>c1ccc2c(c1)ccc1c2ccc2c3ccccc3ccc21</td>\n",
              "    </tr>\n",
              "  </tbody>\n",
              "</table>\n",
              "</div>"
            ],
            "text/plain": [
              "  Compound ID  ...                                       rdkit_smiles\n",
              "0   Amigdalin  ...  N#CC(OC1OC(COC2OC(CO)C(O)C(O)C2O)C(O)C(O)C1O)c...\n",
              "1    Fenfuram  ...                             Cc1occc1C(=O)Nc1ccccc1\n",
              "2      citral  ...                                 CC(C)=CCCC(C)=CC=O\n",
              "3      Picene  ...                 c1ccc2c(c1)ccc1c2ccc2c3ccccc3ccc21\n",
              "\n",
              "[4 rows x 11 columns]"
            ]
          },
          "metadata": {
            "tags": []
          },
          "execution_count": 46
        }
      ]
    },
    {
      "cell_type": "markdown",
      "metadata": {
        "id": "hqRne34HCJNJ"
      },
      "source": [
        "## In the following cell, we will call smiles_to_inchi_key to create InChi Keys  \n",
        "\n",
        "We will create InChi key (https://en.wikipedia.org/wiki/International_Chemical_Identifier) from SMILES string using RDKit. Note if for some reason, the convertion fails, you will see None as output"
      ]
    },
    {
      "cell_type": "code",
      "metadata": {
        "id": "lAcU1ThYBFBE"
      },
      "source": [
        "raw_df['inchi_key'] = raw_df['smiles'].apply(struct_utils.smiles_to_inchi_key)"
      ],
      "execution_count": null,
      "outputs": []
    },
    {
      "cell_type": "markdown",
      "metadata": {
        "id": "aA3QdohoCtkV"
      },
      "source": [
        "## Note the addition of new column, inchi_key"
      ]
    },
    {
      "cell_type": "code",
      "metadata": {
        "colab": {
          "base_uri": "https://localhost:8080/",
          "height": 298
        },
        "id": "lhRyu3ssCmWN",
        "outputId": "512fd428-83f0-4f26-fd23-36b054f205d9"
      },
      "source": [
        "raw_df.head(3)"
      ],
      "execution_count": null,
      "outputs": [
        {
          "output_type": "execute_result",
          "data": {
            "text/html": [
              "<div>\n",
              "<style scoped>\n",
              "    .dataframe tbody tr th:only-of-type {\n",
              "        vertical-align: middle;\n",
              "    }\n",
              "\n",
              "    .dataframe tbody tr th {\n",
              "        vertical-align: top;\n",
              "    }\n",
              "\n",
              "    .dataframe thead th {\n",
              "        text-align: right;\n",
              "    }\n",
              "</style>\n",
              "<table border=\"1\" class=\"dataframe\">\n",
              "  <thead>\n",
              "    <tr style=\"text-align: right;\">\n",
              "      <th></th>\n",
              "      <th>Compound ID</th>\n",
              "      <th>ESOL predicted log solubility in mols per litre</th>\n",
              "      <th>Minimum Degree</th>\n",
              "      <th>Molecular Weight</th>\n",
              "      <th>Number of H-Bond Donors</th>\n",
              "      <th>Number of Rings</th>\n",
              "      <th>Number of Rotatable Bonds</th>\n",
              "      <th>Polar Surface Area</th>\n",
              "      <th>measured log solubility in mols per litre</th>\n",
              "      <th>smiles</th>\n",
              "      <th>rdkit_smiles</th>\n",
              "      <th>inchi_key</th>\n",
              "    </tr>\n",
              "  </thead>\n",
              "  <tbody>\n",
              "    <tr>\n",
              "      <th>0</th>\n",
              "      <td>Amigdalin</td>\n",
              "      <td>-0.974</td>\n",
              "      <td>1</td>\n",
              "      <td>457.432</td>\n",
              "      <td>7</td>\n",
              "      <td>3</td>\n",
              "      <td>7</td>\n",
              "      <td>202.32</td>\n",
              "      <td>-0.77</td>\n",
              "      <td>OCC3OC(OCC2OC(OC(C#N)c1ccccc1)C(O)C(O)C2O)C(O)...</td>\n",
              "      <td>N#CC(OC1OC(COC2OC(CO)C(O)C(O)C2O)C(O)C(O)C1O)c...</td>\n",
              "      <td>XUCIJNAGGSZNQT-UHFFFAOYSA-N</td>\n",
              "    </tr>\n",
              "    <tr>\n",
              "      <th>1</th>\n",
              "      <td>Fenfuram</td>\n",
              "      <td>-2.885</td>\n",
              "      <td>1</td>\n",
              "      <td>201.225</td>\n",
              "      <td>1</td>\n",
              "      <td>2</td>\n",
              "      <td>2</td>\n",
              "      <td>42.24</td>\n",
              "      <td>-3.30</td>\n",
              "      <td>Cc1occc1C(=O)Nc2ccccc2</td>\n",
              "      <td>Cc1occc1C(=O)Nc1ccccc1</td>\n",
              "      <td>JFSPBVWPKOEZCB-UHFFFAOYSA-N</td>\n",
              "    </tr>\n",
              "    <tr>\n",
              "      <th>2</th>\n",
              "      <td>citral</td>\n",
              "      <td>-2.579</td>\n",
              "      <td>1</td>\n",
              "      <td>152.237</td>\n",
              "      <td>0</td>\n",
              "      <td>0</td>\n",
              "      <td>4</td>\n",
              "      <td>17.07</td>\n",
              "      <td>-2.06</td>\n",
              "      <td>CC(C)=CCCC(C)=CC(=O)</td>\n",
              "      <td>CC(C)=CCCC(C)=CC=O</td>\n",
              "      <td>WTEVQBCEXWBHNA-UHFFFAOYSA-N</td>\n",
              "    </tr>\n",
              "  </tbody>\n",
              "</table>\n",
              "</div>"
            ],
            "text/plain": [
              "  Compound ID  ...                    inchi_key\n",
              "0   Amigdalin  ...  XUCIJNAGGSZNQT-UHFFFAOYSA-N\n",
              "1    Fenfuram  ...  JFSPBVWPKOEZCB-UHFFFAOYSA-N\n",
              "2      citral  ...  WTEVQBCEXWBHNA-UHFFFAOYSA-N\n",
              "\n",
              "[3 rows x 12 columns]"
            ]
          },
          "metadata": {
            "tags": []
          },
          "execution_count": 48
        }
      ]
    },
    {
      "cell_type": "code",
      "metadata": {
        "id": "oBqiftr2BITr"
      },
      "source": [
        "data = raw_df\n",
        "data['compound_id'] = data['inchi_key']"
      ],
      "execution_count": null,
      "outputs": []
    },
    {
      "cell_type": "markdown",
      "metadata": {
        "id": "7FTViEdxV0tL"
      },
      "source": [
        "## Let us review the dataset"
      ]
    },
    {
      "cell_type": "code",
      "metadata": {
        "id": "76gx-pYMVqQv",
        "colab": {
          "base_uri": "https://localhost:8080/",
          "height": 298
        },
        "outputId": "16be256e-7536-48bb-e1b7-9fc1a56e5921"
      },
      "source": [
        "data.head(3)"
      ],
      "execution_count": null,
      "outputs": [
        {
          "output_type": "execute_result",
          "data": {
            "text/html": [
              "<div>\n",
              "<style scoped>\n",
              "    .dataframe tbody tr th:only-of-type {\n",
              "        vertical-align: middle;\n",
              "    }\n",
              "\n",
              "    .dataframe tbody tr th {\n",
              "        vertical-align: top;\n",
              "    }\n",
              "\n",
              "    .dataframe thead th {\n",
              "        text-align: right;\n",
              "    }\n",
              "</style>\n",
              "<table border=\"1\" class=\"dataframe\">\n",
              "  <thead>\n",
              "    <tr style=\"text-align: right;\">\n",
              "      <th></th>\n",
              "      <th>Compound ID</th>\n",
              "      <th>ESOL predicted log solubility in mols per litre</th>\n",
              "      <th>Minimum Degree</th>\n",
              "      <th>Molecular Weight</th>\n",
              "      <th>Number of H-Bond Donors</th>\n",
              "      <th>Number of Rings</th>\n",
              "      <th>Number of Rotatable Bonds</th>\n",
              "      <th>Polar Surface Area</th>\n",
              "      <th>measured log solubility in mols per litre</th>\n",
              "      <th>smiles</th>\n",
              "      <th>rdkit_smiles</th>\n",
              "      <th>inchi_key</th>\n",
              "      <th>compound_id</th>\n",
              "    </tr>\n",
              "  </thead>\n",
              "  <tbody>\n",
              "    <tr>\n",
              "      <th>0</th>\n",
              "      <td>Amigdalin</td>\n",
              "      <td>-0.974</td>\n",
              "      <td>1</td>\n",
              "      <td>457.432</td>\n",
              "      <td>7</td>\n",
              "      <td>3</td>\n",
              "      <td>7</td>\n",
              "      <td>202.32</td>\n",
              "      <td>-0.77</td>\n",
              "      <td>OCC3OC(OCC2OC(OC(C#N)c1ccccc1)C(O)C(O)C2O)C(O)...</td>\n",
              "      <td>N#CC(OC1OC(COC2OC(CO)C(O)C(O)C2O)C(O)C(O)C1O)c...</td>\n",
              "      <td>XUCIJNAGGSZNQT-UHFFFAOYSA-N</td>\n",
              "      <td>XUCIJNAGGSZNQT-UHFFFAOYSA-N</td>\n",
              "    </tr>\n",
              "    <tr>\n",
              "      <th>1</th>\n",
              "      <td>Fenfuram</td>\n",
              "      <td>-2.885</td>\n",
              "      <td>1</td>\n",
              "      <td>201.225</td>\n",
              "      <td>1</td>\n",
              "      <td>2</td>\n",
              "      <td>2</td>\n",
              "      <td>42.24</td>\n",
              "      <td>-3.30</td>\n",
              "      <td>Cc1occc1C(=O)Nc2ccccc2</td>\n",
              "      <td>Cc1occc1C(=O)Nc1ccccc1</td>\n",
              "      <td>JFSPBVWPKOEZCB-UHFFFAOYSA-N</td>\n",
              "      <td>JFSPBVWPKOEZCB-UHFFFAOYSA-N</td>\n",
              "    </tr>\n",
              "    <tr>\n",
              "      <th>2</th>\n",
              "      <td>citral</td>\n",
              "      <td>-2.579</td>\n",
              "      <td>1</td>\n",
              "      <td>152.237</td>\n",
              "      <td>0</td>\n",
              "      <td>0</td>\n",
              "      <td>4</td>\n",
              "      <td>17.07</td>\n",
              "      <td>-2.06</td>\n",
              "      <td>CC(C)=CCCC(C)=CC(=O)</td>\n",
              "      <td>CC(C)=CCCC(C)=CC=O</td>\n",
              "      <td>WTEVQBCEXWBHNA-UHFFFAOYSA-N</td>\n",
              "      <td>WTEVQBCEXWBHNA-UHFFFAOYSA-N</td>\n",
              "    </tr>\n",
              "  </tbody>\n",
              "</table>\n",
              "</div>"
            ],
            "text/plain": [
              "  Compound ID  ...                  compound_id\n",
              "0   Amigdalin  ...  XUCIJNAGGSZNQT-UHFFFAOYSA-N\n",
              "1    Fenfuram  ...  JFSPBVWPKOEZCB-UHFFFAOYSA-N\n",
              "2      citral  ...  WTEVQBCEXWBHNA-UHFFFAOYSA-N\n",
              "\n",
              "[3 rows x 13 columns]"
            ]
          },
          "metadata": {
            "tags": []
          },
          "execution_count": 50
        }
      ]
    },
    {
      "cell_type": "markdown",
      "metadata": {
        "id": "woi0jHBPRWF_"
      },
      "source": [
        "## Let us view some molecules"
      ]
    },
    {
      "cell_type": "code",
      "metadata": {
        "id": "e-PXYKNPRc1u",
        "colab": {
          "base_uri": "https://localhost:8080/"
        },
        "outputId": "f334d56f-f36b-48f3-901a-fe9307ef40c8"
      },
      "source": [
        "data['smiles'][0:10]"
      ],
      "execution_count": null,
      "outputs": [
        {
          "output_type": "execute_result",
          "data": {
            "text/plain": [
              "0    OCC3OC(OCC2OC(OC(C#N)c1ccccc1)C(O)C(O)C2O)C(O)...\n",
              "1                               Cc1occc1C(=O)Nc2ccccc2\n",
              "2                                 CC(C)=CCCC(C)=CC(=O)\n",
              "3                   c1ccc2c(c1)ccc3c2ccc4c5ccccc5ccc43\n",
              "4                                              c1ccsc1\n",
              "5                                       c2ccc1scnc1c2 \n",
              "6                   Clc1cc(Cl)c(c(Cl)c1)c2c(Cl)cccc2Cl\n",
              "7                     CC12CCC3C(CCc4cc(O)ccc34)C2CCC1O\n",
              "8       ClC4=C(Cl)C5(Cl)C3C1CC(C2OC12)C3C4(Cl)C5(Cl)Cl\n",
              "9     COc5cc4OCC3Oc2c1CC(Oc1ccc2C(=O)C3c4cc5OC)C(C)=C \n",
              "Name: smiles, dtype: object"
            ]
          },
          "metadata": {
            "tags": []
          },
          "execution_count": 51
        }
      ]
    },
    {
      "cell_type": "code",
      "metadata": {
        "id": "gFVa3jHrTJ6Y",
        "colab": {
          "base_uri": "https://localhost:8080/",
          "height": 617
        },
        "outputId": "fe09740c-6750-4b36-bbab-309265fd26da"
      },
      "source": [
        "from rdkit import Chem\n",
        "from rdkit.Chem import Draw\n",
        "from itertools import islice\n",
        "\n",
        "molecules = [Chem.MolFromSmiles(smiles) for smiles in islice(data['smiles'], 9)]\n",
        "\n",
        "Draw.MolsToGridImage(molecules)"
      ],
      "execution_count": null,
      "outputs": [
        {
          "output_type": "execute_result",
          "data": {
            "image/png": "[encoded data removed]",
            "text/plain": [
              "<PIL.PngImagePlugin.PngImageFile image mode=RGB size=600x600 at 0x7F14040F3510>"
            ]
          },
          "metadata": {
            "tags": []
          },
          "execution_count": 52
        }
      ]
    },
    {
      "cell_type": "markdown",
      "metadata": {
        "id": "Jmqtyr4bVk3B"
      },
      "source": [
        "The next step is to address the case where we have multiple measurements for a single structure (by RDkit canonical SMILEs string). We have a function in the `curate_data()` module to address the processing of compounds. The function parameters are listed below along with an explanation of each parameter:"
      ]
    },
    {
      "cell_type": "code",
      "metadata": {
        "colab": {
          "base_uri": "https://localhost:8080/",
          "height": 693
        },
        "id": "itthUq-QGRfk",
        "outputId": "6c4b54d7-b7ab-47ed-bc32-384a2a4ebe5e"
      },
      "source": [
        "data"
      ],
      "execution_count": null,
      "outputs": [
        {
          "output_type": "execute_result",
          "data": {
            "text/html": [
              "<div>\n",
              "<style scoped>\n",
              "    .dataframe tbody tr th:only-of-type {\n",
              "        vertical-align: middle;\n",
              "    }\n",
              "\n",
              "    .dataframe tbody tr th {\n",
              "        vertical-align: top;\n",
              "    }\n",
              "\n",
              "    .dataframe thead th {\n",
              "        text-align: right;\n",
              "    }\n",
              "</style>\n",
              "<table border=\"1\" class=\"dataframe\">\n",
              "  <thead>\n",
              "    <tr style=\"text-align: right;\">\n",
              "      <th></th>\n",
              "      <th>Compound ID</th>\n",
              "      <th>ESOL predicted log solubility in mols per litre</th>\n",
              "      <th>Minimum Degree</th>\n",
              "      <th>Molecular Weight</th>\n",
              "      <th>Number of H-Bond Donors</th>\n",
              "      <th>Number of Rings</th>\n",
              "      <th>Number of Rotatable Bonds</th>\n",
              "      <th>Polar Surface Area</th>\n",
              "      <th>measured log solubility in mols per litre</th>\n",
              "      <th>smiles</th>\n",
              "      <th>rdkit_smiles</th>\n",
              "      <th>inchi_key</th>\n",
              "      <th>compound_id</th>\n",
              "    </tr>\n",
              "  </thead>\n",
              "  <tbody>\n",
              "    <tr>\n",
              "      <th>0</th>\n",
              "      <td>Amigdalin</td>\n",
              "      <td>-0.974</td>\n",
              "      <td>1</td>\n",
              "      <td>457.432</td>\n",
              "      <td>7</td>\n",
              "      <td>3</td>\n",
              "      <td>7</td>\n",
              "      <td>202.32</td>\n",
              "      <td>-0.770</td>\n",
              "      <td>OCC3OC(OCC2OC(OC(C#N)c1ccccc1)C(O)C(O)C2O)C(O)...</td>\n",
              "      <td>N#CC(OC1OC(COC2OC(CO)C(O)C(O)C2O)C(O)C(O)C1O)c...</td>\n",
              "      <td>XUCIJNAGGSZNQT-UHFFFAOYSA-N</td>\n",
              "      <td>XUCIJNAGGSZNQT-UHFFFAOYSA-N</td>\n",
              "    </tr>\n",
              "    <tr>\n",
              "      <th>1</th>\n",
              "      <td>Fenfuram</td>\n",
              "      <td>-2.885</td>\n",
              "      <td>1</td>\n",
              "      <td>201.225</td>\n",
              "      <td>1</td>\n",
              "      <td>2</td>\n",
              "      <td>2</td>\n",
              "      <td>42.24</td>\n",
              "      <td>-3.300</td>\n",
              "      <td>Cc1occc1C(=O)Nc2ccccc2</td>\n",
              "      <td>Cc1occc1C(=O)Nc1ccccc1</td>\n",
              "      <td>JFSPBVWPKOEZCB-UHFFFAOYSA-N</td>\n",
              "      <td>JFSPBVWPKOEZCB-UHFFFAOYSA-N</td>\n",
              "    </tr>\n",
              "    <tr>\n",
              "      <th>2</th>\n",
              "      <td>citral</td>\n",
              "      <td>-2.579</td>\n",
              "      <td>1</td>\n",
              "      <td>152.237</td>\n",
              "      <td>0</td>\n",
              "      <td>0</td>\n",
              "      <td>4</td>\n",
              "      <td>17.07</td>\n",
              "      <td>-2.060</td>\n",
              "      <td>CC(C)=CCCC(C)=CC(=O)</td>\n",
              "      <td>CC(C)=CCCC(C)=CC=O</td>\n",
              "      <td>WTEVQBCEXWBHNA-UHFFFAOYSA-N</td>\n",
              "      <td>WTEVQBCEXWBHNA-UHFFFAOYSA-N</td>\n",
              "    </tr>\n",
              "    <tr>\n",
              "      <th>3</th>\n",
              "      <td>Picene</td>\n",
              "      <td>-6.618</td>\n",
              "      <td>2</td>\n",
              "      <td>278.354</td>\n",
              "      <td>0</td>\n",
              "      <td>5</td>\n",
              "      <td>0</td>\n",
              "      <td>0.00</td>\n",
              "      <td>-7.870</td>\n",
              "      <td>c1ccc2c(c1)ccc3c2ccc4c5ccccc5ccc43</td>\n",
              "      <td>c1ccc2c(c1)ccc1c2ccc2c3ccccc3ccc21</td>\n",
              "      <td>GBROPGWFBFCKAG-UHFFFAOYSA-N</td>\n",
              "      <td>GBROPGWFBFCKAG-UHFFFAOYSA-N</td>\n",
              "    </tr>\n",
              "    <tr>\n",
              "      <th>4</th>\n",
              "      <td>Thiophene</td>\n",
              "      <td>-2.232</td>\n",
              "      <td>2</td>\n",
              "      <td>84.143</td>\n",
              "      <td>0</td>\n",
              "      <td>1</td>\n",
              "      <td>0</td>\n",
              "      <td>0.00</td>\n",
              "      <td>-1.330</td>\n",
              "      <td>c1ccsc1</td>\n",
              "      <td>c1ccsc1</td>\n",
              "      <td>YTPLMLYBLZKORZ-UHFFFAOYSA-N</td>\n",
              "      <td>YTPLMLYBLZKORZ-UHFFFAOYSA-N</td>\n",
              "    </tr>\n",
              "    <tr>\n",
              "      <th>...</th>\n",
              "      <td>...</td>\n",
              "      <td>...</td>\n",
              "      <td>...</td>\n",
              "      <td>...</td>\n",
              "      <td>...</td>\n",
              "      <td>...</td>\n",
              "      <td>...</td>\n",
              "      <td>...</td>\n",
              "      <td>...</td>\n",
              "      <td>...</td>\n",
              "      <td>...</td>\n",
              "      <td>...</td>\n",
              "      <td>...</td>\n",
              "    </tr>\n",
              "    <tr>\n",
              "      <th>1123</th>\n",
              "      <td>halothane</td>\n",
              "      <td>-2.608</td>\n",
              "      <td>1</td>\n",
              "      <td>197.381</td>\n",
              "      <td>0</td>\n",
              "      <td>0</td>\n",
              "      <td>0</td>\n",
              "      <td>0.00</td>\n",
              "      <td>-1.710</td>\n",
              "      <td>FC(F)(F)C(Cl)Br</td>\n",
              "      <td>FC(F)(F)C(Cl)Br</td>\n",
              "      <td>BCQZXOMGPXTTIC-UHFFFAOYSA-N</td>\n",
              "      <td>BCQZXOMGPXTTIC-UHFFFAOYSA-N</td>\n",
              "    </tr>\n",
              "    <tr>\n",
              "      <th>1124</th>\n",
              "      <td>Oxamyl</td>\n",
              "      <td>-0.908</td>\n",
              "      <td>1</td>\n",
              "      <td>219.266</td>\n",
              "      <td>1</td>\n",
              "      <td>0</td>\n",
              "      <td>1</td>\n",
              "      <td>71.00</td>\n",
              "      <td>0.106</td>\n",
              "      <td>CNC(=O)ON=C(SC)C(=O)N(C)C</td>\n",
              "      <td>CNC(=O)ON=C(SC)C(=O)N(C)C</td>\n",
              "      <td>KZAUOCCYDRDERY-UHFFFAOYSA-N</td>\n",
              "      <td>KZAUOCCYDRDERY-UHFFFAOYSA-N</td>\n",
              "    </tr>\n",
              "    <tr>\n",
              "      <th>1125</th>\n",
              "      <td>Thiometon</td>\n",
              "      <td>-3.323</td>\n",
              "      <td>1</td>\n",
              "      <td>246.359</td>\n",
              "      <td>0</td>\n",
              "      <td>0</td>\n",
              "      <td>7</td>\n",
              "      <td>18.46</td>\n",
              "      <td>-3.091</td>\n",
              "      <td>CCSCCSP(=S)(OC)OC</td>\n",
              "      <td>CCSCCSP(=S)(OC)OC</td>\n",
              "      <td>OPASCBHCTNRLRM-UHFFFAOYSA-N</td>\n",
              "      <td>OPASCBHCTNRLRM-UHFFFAOYSA-N</td>\n",
              "    </tr>\n",
              "    <tr>\n",
              "      <th>1126</th>\n",
              "      <td>2-Methylbutane</td>\n",
              "      <td>-2.245</td>\n",
              "      <td>1</td>\n",
              "      <td>72.151</td>\n",
              "      <td>0</td>\n",
              "      <td>0</td>\n",
              "      <td>1</td>\n",
              "      <td>0.00</td>\n",
              "      <td>-3.180</td>\n",
              "      <td>CCC(C)C</td>\n",
              "      <td>CCC(C)C</td>\n",
              "      <td>QWTDNUCVQCZILF-UHFFFAOYSA-N</td>\n",
              "      <td>QWTDNUCVQCZILF-UHFFFAOYSA-N</td>\n",
              "    </tr>\n",
              "    <tr>\n",
              "      <th>1127</th>\n",
              "      <td>Stirofos</td>\n",
              "      <td>-4.320</td>\n",
              "      <td>1</td>\n",
              "      <td>365.964</td>\n",
              "      <td>0</td>\n",
              "      <td>1</td>\n",
              "      <td>5</td>\n",
              "      <td>44.76</td>\n",
              "      <td>-4.522</td>\n",
              "      <td>COP(=O)(OC)OC(=CCl)c1cc(Cl)c(Cl)cc1Cl</td>\n",
              "      <td>COP(=O)(OC)OC(=CCl)c1cc(Cl)c(Cl)cc1Cl</td>\n",
              "      <td>UBCKGWBNUIFUST-UHFFFAOYSA-N</td>\n",
              "      <td>UBCKGWBNUIFUST-UHFFFAOYSA-N</td>\n",
              "    </tr>\n",
              "  </tbody>\n",
              "</table>\n",
              "<p>1128 rows × 13 columns</p>\n",
              "</div>"
            ],
            "text/plain": [
              "         Compound ID  ...                  compound_id\n",
              "0          Amigdalin  ...  XUCIJNAGGSZNQT-UHFFFAOYSA-N\n",
              "1           Fenfuram  ...  JFSPBVWPKOEZCB-UHFFFAOYSA-N\n",
              "2             citral  ...  WTEVQBCEXWBHNA-UHFFFAOYSA-N\n",
              "3             Picene  ...  GBROPGWFBFCKAG-UHFFFAOYSA-N\n",
              "4          Thiophene  ...  YTPLMLYBLZKORZ-UHFFFAOYSA-N\n",
              "...              ...  ...                          ...\n",
              "1123       halothane  ...  BCQZXOMGPXTTIC-UHFFFAOYSA-N\n",
              "1124          Oxamyl  ...  KZAUOCCYDRDERY-UHFFFAOYSA-N\n",
              "1125       Thiometon  ...  OPASCBHCTNRLRM-UHFFFAOYSA-N\n",
              "1126  2-Methylbutane  ...  QWTDNUCVQCZILF-UHFFFAOYSA-N\n",
              "1127        Stirofos  ...  UBCKGWBNUIFUST-UHFFFAOYSA-N\n",
              "\n",
              "[1128 rows x 13 columns]"
            ]
          },
          "metadata": {
            "tags": []
          },
          "execution_count": 53
        }
      ]
    },
    {
      "cell_type": "code",
      "metadata": {
        "id": "26UUu-vzTTMs"
      },
      "source": [
        "# del_features = ['VALUE_NUM_mean', 'VALUE_NUM_std', 'Perc_Var', 'Remove_BadDuplicate']\n",
        "# data.drop(labels=del_features, axis=1, inplace=True)"
      ],
      "execution_count": null,
      "outputs": []
    },
    {
      "cell_type": "code",
      "metadata": {
        "colab": {
          "base_uri": "https://localhost:8080/"
        },
        "id": "5ABo-cymSmMJ",
        "outputId": "b2ca45c3-60b8-4354-9051-7c98bc103e7d"
      },
      "source": [
        "# column: Response values column\n",
        "column = 'measured log solubility in mols per litre'\n",
        "\n",
        "# tolerance: Percentage of individual respsonse values allowed to be different \n",
        "# from the average to be included in averaging\n",
        "tolerance = 10\n",
        "\n",
        "# list_bad_duplicates: Print structures with bad duplicates\n",
        "list_bad_duplicates = 'Yes'\n",
        "\n",
        "# max_std: Maximum allowed standard deviation for computed average response value\n",
        "# NOTE: In this example, we set this value very high to disable this feature\n",
        "max_std = 100000\n",
        "\n",
        "# compound_id: Compound ID column\n",
        "compound_id = 'compound_id'\n",
        "\n",
        "# smiles_col: SMILES column\n",
        "smiles_col = 'rdkit_smiles'\n",
        "\n",
        "# call the method `average_and_remove_duplicates` which changes the data and returns\n",
        "# the new object as curated_df, in this case\n",
        " \n",
        "\n",
        "curated_df = curate_data.average_and_remove_duplicates(column, \n",
        "                                                       tolerance, \n",
        "                                                       list_bad_duplicates, \n",
        "                                                       data, \n",
        "                                                       max_std, \n",
        "                                                       compound_id=compound_id, \n",
        "                                                       smiles_col=smiles_col)"
      ],
      "execution_count": null,
      "outputs": [
        {
          "output_type": "stream",
          "text": [
            "Bad duplicates removed from dataset\n",
            "Dataframe size (1128, 17)\n",
            "List of 'bad' duplicates removed\n",
            "Empty DataFrame\n",
            "Columns: [compound_id, measured log solubility in mols per litre, VALUE_NUM_mean, Perc_Var, VALUE_NUM_std]\n",
            "Index: []\n",
            "\n",
            "Dataset de-duplicated\n",
            "Dataframe size (1117, 17)\n",
            "New column created with averaged values:  VALUE_NUM_mean\n"
          ],
          "name": "stdout"
        }
      ]
    },
    {
      "cell_type": "code",
      "metadata": {
        "colab": {
          "base_uri": "https://localhost:8080/",
          "height": 298
        },
        "id": "tlV94ETHTZDP",
        "outputId": "3f8b72de-4cd2-4a7a-c823-d9e703133236"
      },
      "source": [
        "data.head(3)"
      ],
      "execution_count": null,
      "outputs": [
        {
          "output_type": "execute_result",
          "data": {
            "text/html": [
              "<div>\n",
              "<style scoped>\n",
              "    .dataframe tbody tr th:only-of-type {\n",
              "        vertical-align: middle;\n",
              "    }\n",
              "\n",
              "    .dataframe tbody tr th {\n",
              "        vertical-align: top;\n",
              "    }\n",
              "\n",
              "    .dataframe thead th {\n",
              "        text-align: right;\n",
              "    }\n",
              "</style>\n",
              "<table border=\"1\" class=\"dataframe\">\n",
              "  <thead>\n",
              "    <tr style=\"text-align: right;\">\n",
              "      <th></th>\n",
              "      <th>Compound ID</th>\n",
              "      <th>ESOL predicted log solubility in mols per litre</th>\n",
              "      <th>Minimum Degree</th>\n",
              "      <th>Molecular Weight</th>\n",
              "      <th>Number of H-Bond Donors</th>\n",
              "      <th>Number of Rings</th>\n",
              "      <th>Number of Rotatable Bonds</th>\n",
              "      <th>Polar Surface Area</th>\n",
              "      <th>measured log solubility in mols per litre</th>\n",
              "      <th>smiles</th>\n",
              "      <th>rdkit_smiles</th>\n",
              "      <th>inchi_key</th>\n",
              "      <th>compound_id</th>\n",
              "    </tr>\n",
              "  </thead>\n",
              "  <tbody>\n",
              "    <tr>\n",
              "      <th>0</th>\n",
              "      <td>Amigdalin</td>\n",
              "      <td>-0.974</td>\n",
              "      <td>1</td>\n",
              "      <td>457.432</td>\n",
              "      <td>7</td>\n",
              "      <td>3</td>\n",
              "      <td>7</td>\n",
              "      <td>202.32</td>\n",
              "      <td>-0.77</td>\n",
              "      <td>OCC3OC(OCC2OC(OC(C#N)c1ccccc1)C(O)C(O)C2O)C(O)...</td>\n",
              "      <td>N#CC(OC1OC(COC2OC(CO)C(O)C(O)C2O)C(O)C(O)C1O)c...</td>\n",
              "      <td>XUCIJNAGGSZNQT-UHFFFAOYSA-N</td>\n",
              "      <td>XUCIJNAGGSZNQT-UHFFFAOYSA-N</td>\n",
              "    </tr>\n",
              "    <tr>\n",
              "      <th>1</th>\n",
              "      <td>Fenfuram</td>\n",
              "      <td>-2.885</td>\n",
              "      <td>1</td>\n",
              "      <td>201.225</td>\n",
              "      <td>1</td>\n",
              "      <td>2</td>\n",
              "      <td>2</td>\n",
              "      <td>42.24</td>\n",
              "      <td>-3.30</td>\n",
              "      <td>Cc1occc1C(=O)Nc2ccccc2</td>\n",
              "      <td>Cc1occc1C(=O)Nc1ccccc1</td>\n",
              "      <td>JFSPBVWPKOEZCB-UHFFFAOYSA-N</td>\n",
              "      <td>JFSPBVWPKOEZCB-UHFFFAOYSA-N</td>\n",
              "    </tr>\n",
              "    <tr>\n",
              "      <th>2</th>\n",
              "      <td>citral</td>\n",
              "      <td>-2.579</td>\n",
              "      <td>1</td>\n",
              "      <td>152.237</td>\n",
              "      <td>0</td>\n",
              "      <td>0</td>\n",
              "      <td>4</td>\n",
              "      <td>17.07</td>\n",
              "      <td>-2.06</td>\n",
              "      <td>CC(C)=CCCC(C)=CC(=O)</td>\n",
              "      <td>CC(C)=CCCC(C)=CC=O</td>\n",
              "      <td>WTEVQBCEXWBHNA-UHFFFAOYSA-N</td>\n",
              "      <td>WTEVQBCEXWBHNA-UHFFFAOYSA-N</td>\n",
              "    </tr>\n",
              "  </tbody>\n",
              "</table>\n",
              "</div>"
            ],
            "text/plain": [
              "  Compound ID  ...                  compound_id\n",
              "0   Amigdalin  ...  XUCIJNAGGSZNQT-UHFFFAOYSA-N\n",
              "1    Fenfuram  ...  JFSPBVWPKOEZCB-UHFFFAOYSA-N\n",
              "2      citral  ...  WTEVQBCEXWBHNA-UHFFFAOYSA-N\n",
              "\n",
              "[3 rows x 13 columns]"
            ]
          },
          "metadata": {
            "tags": []
          },
          "execution_count": 56
        }
      ]
    },
    {
      "cell_type": "code",
      "metadata": {
        "colab": {
          "base_uri": "https://localhost:8080/",
          "height": 298
        },
        "id": "Yniwt0vbTg4T",
        "outputId": "64d4486b-cf48-4ff2-e011-15f15c0b0338"
      },
      "source": [
        "curated_df.head(3)"
      ],
      "execution_count": null,
      "outputs": [
        {
          "output_type": "execute_result",
          "data": {
            "text/html": [
              "<div>\n",
              "<style scoped>\n",
              "    .dataframe tbody tr th:only-of-type {\n",
              "        vertical-align: middle;\n",
              "    }\n",
              "\n",
              "    .dataframe tbody tr th {\n",
              "        vertical-align: top;\n",
              "    }\n",
              "\n",
              "    .dataframe thead th {\n",
              "        text-align: right;\n",
              "    }\n",
              "</style>\n",
              "<table border=\"1\" class=\"dataframe\">\n",
              "  <thead>\n",
              "    <tr style=\"text-align: right;\">\n",
              "      <th></th>\n",
              "      <th>Compound ID</th>\n",
              "      <th>ESOL predicted log solubility in mols per litre</th>\n",
              "      <th>Minimum Degree</th>\n",
              "      <th>Molecular Weight</th>\n",
              "      <th>Number of H-Bond Donors</th>\n",
              "      <th>Number of Rings</th>\n",
              "      <th>Number of Rotatable Bonds</th>\n",
              "      <th>Polar Surface Area</th>\n",
              "      <th>measured log solubility in mols per litre</th>\n",
              "      <th>smiles</th>\n",
              "      <th>rdkit_smiles</th>\n",
              "      <th>inchi_key</th>\n",
              "      <th>compound_id</th>\n",
              "      <th>VALUE_NUM_mean</th>\n",
              "      <th>VALUE_NUM_std</th>\n",
              "      <th>Perc_Var</th>\n",
              "      <th>Remove_BadDuplicate</th>\n",
              "    </tr>\n",
              "  </thead>\n",
              "  <tbody>\n",
              "    <tr>\n",
              "      <th>0</th>\n",
              "      <td>Amigdalin</td>\n",
              "      <td>-0.974</td>\n",
              "      <td>1</td>\n",
              "      <td>457.432</td>\n",
              "      <td>7</td>\n",
              "      <td>3</td>\n",
              "      <td>7</td>\n",
              "      <td>202.32</td>\n",
              "      <td>-0.77</td>\n",
              "      <td>OCC3OC(OCC2OC(OC(C#N)c1ccccc1)C(O)C(O)C2O)C(O)...</td>\n",
              "      <td>N#CC(OC1OC(COC2OC(CO)C(O)C(O)C2O)C(O)C(O)C1O)c...</td>\n",
              "      <td>XUCIJNAGGSZNQT-UHFFFAOYSA-N</td>\n",
              "      <td>XUCIJNAGGSZNQT-UHFFFAOYSA-N</td>\n",
              "      <td>-0.77</td>\n",
              "      <td>NaN</td>\n",
              "      <td>-0.0</td>\n",
              "      <td>0</td>\n",
              "    </tr>\n",
              "    <tr>\n",
              "      <th>1</th>\n",
              "      <td>Fenfuram</td>\n",
              "      <td>-2.885</td>\n",
              "      <td>1</td>\n",
              "      <td>201.225</td>\n",
              "      <td>1</td>\n",
              "      <td>2</td>\n",
              "      <td>2</td>\n",
              "      <td>42.24</td>\n",
              "      <td>-3.30</td>\n",
              "      <td>Cc1occc1C(=O)Nc2ccccc2</td>\n",
              "      <td>Cc1occc1C(=O)Nc1ccccc1</td>\n",
              "      <td>JFSPBVWPKOEZCB-UHFFFAOYSA-N</td>\n",
              "      <td>JFSPBVWPKOEZCB-UHFFFAOYSA-N</td>\n",
              "      <td>-3.30</td>\n",
              "      <td>NaN</td>\n",
              "      <td>-0.0</td>\n",
              "      <td>0</td>\n",
              "    </tr>\n",
              "    <tr>\n",
              "      <th>2</th>\n",
              "      <td>citral</td>\n",
              "      <td>-2.579</td>\n",
              "      <td>1</td>\n",
              "      <td>152.237</td>\n",
              "      <td>0</td>\n",
              "      <td>0</td>\n",
              "      <td>4</td>\n",
              "      <td>17.07</td>\n",
              "      <td>-2.06</td>\n",
              "      <td>CC(C)=CCCC(C)=CC(=O)</td>\n",
              "      <td>CC(C)=CCCC(C)=CC=O</td>\n",
              "      <td>WTEVQBCEXWBHNA-UHFFFAOYSA-N</td>\n",
              "      <td>WTEVQBCEXWBHNA-UHFFFAOYSA-N</td>\n",
              "      <td>-2.06</td>\n",
              "      <td>NaN</td>\n",
              "      <td>-0.0</td>\n",
              "      <td>0</td>\n",
              "    </tr>\n",
              "  </tbody>\n",
              "</table>\n",
              "</div>"
            ],
            "text/plain": [
              "  Compound ID  ...  Remove_BadDuplicate\n",
              "0   Amigdalin  ...                    0\n",
              "1    Fenfuram  ...                    0\n",
              "2      citral  ...                    0\n",
              "\n",
              "[3 rows x 17 columns]"
            ]
          },
          "metadata": {
            "tags": []
          },
          "execution_count": 57
        }
      ]
    },
    {
      "cell_type": "code",
      "metadata": {
        "id": "RWD0PTp_Vk3C"
      },
      "source": [
        "curated_file = os.path.join(working_dir, 'delaney_curated.csv')\n",
        "curated_df.to_csv(curated_file, index=False)"
      ],
      "execution_count": null,
      "outputs": []
    },
    {
      "cell_type": "markdown",
      "metadata": {
        "id": "2o98pQ8JVk3G"
      },
      "source": [
        "Now that we have a curated dataset, we decide what type of featurizer and model we would like. See documentation for all available options. We also set the name of the new averaged response value column."
      ]
    },
    {
      "cell_type": "code",
      "metadata": {
        "id": "YpzrXMrmVk3H"
      },
      "source": [
        "featurizer = 'ecfp'\n",
        "model_type = 'RF'\n",
        "response_cols = ['VALUE_NUM_mean']"
      ],
      "execution_count": null,
      "outputs": []
    },
    {
      "cell_type": "markdown",
      "metadata": {
        "id": "VJtQSo3UVk3O"
      },
      "source": [
        "Next we set up the parameters for our model. We set datastore and save_results to False to indicate that we are reading the input file and saving the results directly to the file system. There are a wide range of settable parameters; see the documentation for more details."
      ]
    },
    {
      "cell_type": "code",
      "metadata": {
        "id": "TH1aGjcKYOMS",
        "colab": {
          "base_uri": "https://localhost:8080/",
          "height": 35
        },
        "outputId": "16381d7f-5ff0-46d1-d321-223106db374f"
      },
      "source": [
        "smiles_col"
      ],
      "execution_count": null,
      "outputs": [
        {
          "output_type": "execute_result",
          "data": {
            "application/vnd.google.colaboratory.intrinsic+json": {
              "type": "string"
            },
            "text/plain": [
              "'rdkit_smiles'"
            ]
          },
          "metadata": {
            "tags": []
          },
          "execution_count": 60
        }
      ]
    },
    {
      "cell_type": "code",
      "metadata": {
        "id": "1AagWRZkVk3P"
      },
      "source": [
        "params={\"datastore\": \"False\",\n",
        "        \"save_results\": \"False\",\n",
        "        \"id_col\": compound_id,\n",
        "        \"smiles_col\": smiles_col,\n",
        "        \"response_cols\": response_cols,\n",
        "        \"featurizer\": featurizer,\n",
        "        \"model_type\": model_type,\n",
        "        \"result_dir\": working_dir,\n",
        "        \"dataset_key\": curated_file}"
      ],
      "execution_count": null,
      "outputs": []
    },
    {
      "cell_type": "markdown",
      "metadata": {
        "id": "_2i5syhgVk3T"
      },
      "source": [
        "We use parse.wrapper to process our input configuration. We then build the model pipeline, train the model, and plot the predicted versus true values for our train, valid, test sets."
      ]
    },
    {
      "cell_type": "code",
      "metadata": {
        "id": "f8yt7nFjWwKW"
      },
      "source": [
        "pparams = parse.wrapper(params)"
      ],
      "execution_count": null,
      "outputs": []
    },
    {
      "cell_type": "markdown",
      "metadata": {
        "id": "MNxTSotHicIy"
      },
      "source": [
        "## Details of the following code chunk\n",
        " Here we create instances of the class ModelPipeline, called `MP`. The instance `MP` has access to data attributes and methods of the class. "
      ]
    },
    {
      "cell_type": "code",
      "metadata": {
        "id": "sGD1DmlkW1eA"
      },
      "source": [
        "MP = mp.ModelPipeline(pparams)"
      ],
      "execution_count": null,
      "outputs": []
    },
    {
      "cell_type": "markdown",
      "metadata": {
        "id": "M3aHIUuyncFo"
      },
      "source": [
        "## Use `dir` function to explore data attributes and functions associated with the class. \n",
        "\n",
        "The output is a list of data object attributes. Note the attributes that are surrounded by double-underscore (ex., `__le__`) are for internal use\n",
        "and you dont have to worry about them. The regular (non underscore attributes) are of your concern. In the example shown below, these attributes start\n",
        "with `'create_model_metadata'`"
      ]
    },
    {
      "cell_type": "code",
      "metadata": {
        "id": "B3D4pHf4nXON"
      },
      "source": [
        "# dir(MP)"
      ],
      "execution_count": null,
      "outputs": []
    },
    {
      "cell_type": "markdown",
      "metadata": {
        "id": "9SRAFsWMXwfn"
      },
      "source": [
        "### Train_model:\n",
        "Build model described by self.params on the training dataset described by self.params.Generate predictions for the training, validation, and test datasets, and save the predictions and performance metrics in the model results DB or in a JSON file.\n",
        "\n",
        "## Note `train_model` is a method of class `ModelPipeline`. If you are using COLAB, mouse-over the `MP.train_model()` to view the source code"
      ]
    },
    {
      "cell_type": "code",
      "metadata": {
        "id": "CMb8j-6NVk3T",
        "colab": {
          "base_uri": "https://localhost:8080/",
          "height": 1000
        },
        "outputId": "1a95c3f7-20d0-4e40-a72c-d588dd5397d9"
      },
      "source": [
        "MP.train_model()\n",
        "\n",
        "pp.plot_pred_vs_actual(MP)"
      ],
      "execution_count": null,
      "outputs": [
        {
          "output_type": "stream",
          "text": [
            "2021-05-20 23:33:01,054 Splitting data by scaffold\n"
          ],
          "name": "stderr"
        },
        {
          "output_type": "stream",
          "text": [
            "number of features: 1024\n"
          ],
          "name": "stdout"
        },
        {
          "output_type": "stream",
          "text": [
            "2021-05-20 23:33:01,321 Dataset split table saved to /content/delaney_curated_train_valid_test_scaffold_b222a885-c6ea-47ff-96f3-28d75b2f6976.csv\n",
            "2021-05-20 23:33:03,949 Wrote model metadata to file /content/delaney_curated/RF_ecfp_scaffold_regression/7a73c273-0c18-4cb8-865c-f1d9d10f1b48/model_metadata.json\n",
            "2021-05-20 23:33:04,301 Wrote model metrics to file /content/delaney_curated/RF_ecfp_scaffold_regression/7a73c273-0c18-4cb8-865c-f1d9d10f1b48/model_metrics.json\n"
          ],
          "name": "stderr"
        },
        {
          "output_type": "stream",
          "text": [
            "Wrote model tarball to /content/delaney_curated_model_7a73c273-0c18-4cb8-865c-f1d9d10f1b48.tar.gz\n"
          ],
          "name": "stdout"
        },
        {
          "output_type": "display_data",
          "data": {
            "image/png": "[encoded data removed]",
            "text/plain": [
              "<Figure size 864x864 with 1 Axes>"
            ]
          },
          "metadata": {
            "tags": [],
            "needs_background": "light"
          }
        },
        {
          "output_type": "display_data",
          "data": {
            "image/png": "[encoded data removed]",
            "text/plain": [
              "<Figure size 864x864 with 1 Axes>"
            ]
          },
          "metadata": {
            "tags": [],
            "needs_background": "light"
          }
        },
        {
          "output_type": "display_data",
          "data": {
            "image/png": "[encoded data removed]",
            "text/plain": [
              "<Figure size 864x864 with 1 Axes>"
            ]
          },
          "metadata": {
            "tags": [],
            "needs_background": "light"
          }
        }
      ]
    },
    {
      "cell_type": "code",
      "metadata": {
        "id": "7OSh60dtNVbc",
        "colab": {
          "base_uri": "https://localhost:8080/"
        },
        "outputId": "5a072ab5-388a-47f0-c3cd-db2b39b7eb11"
      },
      "source": [
        "pparams\n",
        "# MP.train_model()"
      ],
      "execution_count": null,
      "outputs": [
        {
          "output_type": "execute_result",
          "data": {
            "text/plain": [
              "Namespace(autoencoder_bucket=None, autoencoder_key=None, autoencoder_type='molvae', base_splitter='scaffold', baseline_epoch=30, batch_size=50, bias_init_consts=None, bucket='public', butina_cutoff=0.18, class_name=None, class_number=2, collection_name='model_tracker', config_file=None, cutoff_date=None, data_owner='gsk', data_owner_group='gsk_craa', dataset_key='/content/delaney_curated.csv', dataset_name='delaney_curated', dataset_oid=None, datastore=False, date_col=None, descriptor_bucket='public', descriptor_key=None, descriptor_oid=None, descriptor_spec_bucket='', descriptor_spec_key='/usr/local/lib/python3.7/dist-packages/atomsci/ddm/data/descriptor_sets_sources_by_descr_type.csv', descriptor_type='moe', dp=None, dropout_list=None, dropouts=None, early_stopping_min_improvement=0.0, early_stopping_patience=30, ecfp_radius=2, ecfp_size=1024, feature_transform_type='normalization', featurizer='ecfp', hp_checkpoint_load=None, hp_checkpoint_save=None, hyperparam=False, hyperparam_uuid=None, id_col='compound_id', layer_nums=None, layer_sizes=None, lc_account='baasic', learning_rate=0.0005, lr=None, ls=None, ls_ratio=None, max_epochs=30, max_final_layer_size=32, max_jobs=80, min_compound_number=200, model_bucket='public', model_choice_score_type='r2', model_dataset_oid=None, model_filter=None, model_tarball_path='/content/delaney_curated_model_7a73c273-0c18-4cb8-865c-f1d9d10f1b48.tar.gz', model_type='RF', model_uuid='7a73c273-0c18-4cb8-865c-f1d9d10f1b48', moe_threads=-1, mol_vae_model_file=None, mordred_cpus=None, nn_size_scale_factor=1.0, node_nums=None, num_folds=5, num_model_tasks=1, optimizer_type='adam', output_dir='/content/delaney_curated/RF_ecfp_scaffold_regression/7a73c273-0c18-4cb8-865c-f1d9d10f1b48', prediction_type='regression', previously_featurized=True, previously_split=False, python_path='/usr/bin/python3', rerun=True, response_cols=['VALUE_NUM_mean'], response_transform_type='normalization', result_dir='/content', rf_estimators=500, rf_max_depth=None, rf_max_features=32, rfd=None, rfe=None, rff=None, save_results=False, script_dir='/usr/local/lib/python3.7/dist-packages/atomsci/ddm', search_type='grid', shortlist_key=None, slurm_account=None, slurm_export='ALL', slurm_nodes=1, slurm_options=None, slurm_partition='pbatch', slurm_time_limit=1440, smiles_col='rdkit_smiles', split_only=False, split_strategy='train_valid_test', split_test_frac=0.1, split_uuid=None, split_valid_frac=0.1, splitter='scaffold', system='twintron-blue', transformer_bucket='public', transformer_key='/content/delaney_curated/RF_ecfp_scaffold_regression/7a73c273-0c18-4cb8-865c-f1d9d10f1b48/transformers.pkl', transformer_oid=None, transformers=True, umap_dim=10, umap_metric='euclidean', umap_min_dist=0.05, umap_neighbors=20, umap_targ_wt=0.0, uncertainty=True, use_shortlist=False, verbose=False, weight_decay_penalty=0.0001, weight_decay_penalty_type='l2', weight_init_stddevs=None, xgb_colsample_bytree=1.0, xgb_gamma=0.0, xgb_learning_rate=0.1, xgb_max_depth=6, xgb_min_child_weight=1.0, xgb_n_estimators=100, xgb_subsample=1.0, xgbg=None, xgbl=None)"
            ]
          },
          "metadata": {
            "tags": []
          },
          "execution_count": 66
        }
      ]
    },
    {
      "cell_type": "code",
      "metadata": {
        "id": "BcUlli2L_TbR",
        "colab": {
          "base_uri": "https://localhost:8080/"
        },
        "outputId": "e9e88caf-e8d3-49c7-c0ca-24d33a370dfc"
      },
      "source": [
        "!date"
      ],
      "execution_count": null,
      "outputs": [
        {
          "output_type": "stream",
          "text": [
            "Thu May 20 23:33:04 UTC 2021\n"
          ],
          "name": "stdout"
        }
      ]
    },
    {
      "cell_type": "code",
      "metadata": {
        "id": "X35qLxgVzuN2"
      },
      "source": [
        ""
      ],
      "execution_count": null,
      "outputs": []
    }
  ]
}