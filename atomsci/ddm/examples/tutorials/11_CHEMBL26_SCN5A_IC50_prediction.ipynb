{
  "nbformat": 4,
  "nbformat_minor": 0,
  "metadata": {
    "colab": {
      "name": "11_CHEMBL26_SCN5A_IC50_prediction.ipynb",
      "provenance": [],
      "collapsed_sections": [],
      "machine_shape": "hm",
      "include_colab_link": true
    },
    "kernelspec": {
      "name": "python3",
      "display_name": "Python 3"
    },
    "accelerator": "GPU"
  },
  "cells": [
    {
      "cell_type": "markdown",
      "metadata": {
        "id": "view-in-github",
        "colab_type": "text"
      },
      "source": [
        "<a href=\"https://colab.research.google.com/github/ATOMconsortium/AMPL/blob/master/atomsci/ddm/examples/tutorials/11_CHEMBL26_SCN5A_IC50_prediction.ipynb\" target=\"_parent\"><img src=\"https://colab.research.google.com/assets/colab-badge.svg\" alt=\"Open In Colab\"/></a>"
      ]
    },
    {
      "cell_type": "markdown",
      "metadata": {
        "id": "DKOt6zePpD62"
      },
      "source": [
        "<h1>Building a Graph Convolutional Network Model for Drug Response Prediction</h1>\n",
        "\n",
        "The ATOM Modeling PipeLine (AMPL; https://github.com/ATOMconsortium/AMPL) is an open-source, modular, extensible software pipeline for building and sharing models to advance in silico drug discovery.\n"
      ]
    },
    {
      "cell_type": "markdown",
      "metadata": {
        "id": "3XSTsOdoCORi"
      },
      "source": [
        "## Time to run: 6 minutes"
      ]
    },
    {
      "cell_type": "code",
      "metadata": {
        "colab": {
          "base_uri": "https://localhost:8080/"
        },
        "id": "02yXiu_V_r8F",
        "outputId": "e39e0e26-9b3d-4358-a2cb-e3ad74e47994"
      },
      "source": [
        "!date"
      ],
      "execution_count": 1,
      "outputs": [
        {
          "output_type": "stream",
          "text": [
            "Tue Aug 10 23:45:33 UTC 2021\n"
          ],
          "name": "stdout"
        }
      ]
    },
    {
      "cell_type": "markdown",
      "metadata": {
        "id": "7sGiIPZCi0Cb"
      },
      "source": [
        "## Change your runtime to GPU \n",
        "\n",
        "Go to **Runtime** --> Change **runtime type** to \"GPU\"\n"
      ]
    },
    {
      "cell_type": "markdown",
      "metadata": {
        "id": "aRXuj2Dsj8wR"
      },
      "source": [
        "## Goal: Use AMPL for predicting binding affinities -IC50 values- of ligands that could bind to human **Sodium channel protein type 5 subunit alpha** protein using Graph Convolutional Network Model. ChEMBL database is the source of the binding affinities (pIC50).\n",
        "\n",
        "In this notebook, we describe the following steps using AMPL:\n",
        "\n",
        "1.   Read a ML ready dataset\n",
        "2.   Fit a Graph Convolutional model\n",
        "3.   Predict pIC50 values of withheld compounds"
      ]
    },
    {
      "cell_type": "markdown",
      "metadata": {
        "id": "hT1bl6hojskE"
      },
      "source": [
        "## Set up\n",
        "We first import the AMPL modules for use in this notebook.\n",
        "\n",
        "The relevant AMPL modules for this example are listed below:\n",
        "\n",
        "|module|Description|\n",
        "|-|-|\n",
        "|`atomsci.ddm.pipeline.model_pipeline`|The model pipeline module is used to fit models and load models for prediction.|\n",
        "|`atomsci.ddm.pipeline.parameter_parser`|The parameter parser reads through pipeline options for the model pipeline.|\n",
        "|`atomsci.ddm.utils.curate_data`|The curate data module is used for data loading and pre-processing.|\n",
        "|`atomsci.ddm.utils.struct_utils`|The structure utilities module is used to process loaded structures.|\n",
        "\n",
        "\n",
        "import atomsci.ddm.pipeline.compare_models as cmp\n",
        "import atomsci.ddm.pipeline.model_pipeline as mp\n",
        "import atomsci.ddm.pipeline.parameter_parser as parse"
      ]
    },
    {
      "cell_type": "markdown",
      "metadata": {
        "id": "tsDTjWhwcgWG"
      },
      "source": [
        "## Install AMPL "
      ]
    },
    {
      "cell_type": "code",
      "metadata": {
        "id": "ZOdCTKDjjcMf"
      },
      "source": [
        "! pip install rdkit-pypi\n",
        "! pip install --pre deepchem # 2.6.0 dev \n",
        "# ! pip install deepchem==2.5.0\n",
        "\n",
        "import deepchem\n",
        "# print(deepchem.__version__)\n",
        "! pip install umap\n",
        "! pip install llvmlite==0.35.0  --ignore-installed\n",
        "! pip install umap-learn\n",
        "! pip install molvs\n",
        "! pip install bravado"
      ],
      "execution_count": null,
      "outputs": []
    },
    {
      "cell_type": "code",
      "metadata": {
        "id": "wzNK3wX2O4lu"
      },
      "source": [
        "import deepchem as dc\n",
        "\n",
        "# get the Install AMPL_GPU_test.sh\n",
        "!wget https://raw.githubusercontent.com/ravichas/AMPL-Tutorial/master/config/install_AMPL_GPU_test.sh\n",
        "\n",
        "# run the script to install AMPL\n",
        "! chmod u+x install_AMPL_GPU_test.sh\n",
        "! ./install_AMPL_GPU_test.sh"
      ],
      "execution_count": null,
      "outputs": []
    },
    {
      "cell_type": "code",
      "metadata": {
        "colab": {
          "base_uri": "https://localhost:8080/",
          "height": 35
        },
        "id": "GUJ4DbDqNWn-",
        "outputId": "ea35caf7-e7a7-4945-e4eb-b8f4fb3cacc6"
      },
      "source": [
        "dc.__version__"
      ],
      "execution_count": 4,
      "outputs": [
        {
          "output_type": "execute_result",
          "data": {
            "application/vnd.google.colaboratory.intrinsic+json": {
              "type": "string"
            },
            "text/plain": [
              "'2.6.0.dev'"
            ]
          },
          "metadata": {
            "tags": []
          },
          "execution_count": 4
        }
      ]
    },
    {
      "cell_type": "code",
      "metadata": {
        "id": "9Q12k1c9_m65"
      },
      "source": [
        "# We temporarily disable warnings for demonstration.\n",
        "# FutureWarnings and DeprecationWarnings are present from some of the AMPL \n",
        "# dependency modules.\n",
        "import warnings\n",
        "warnings.filterwarnings('ignore')\n",
        "import json\n",
        "import requests\n",
        "import sys"
      ],
      "execution_count": 5,
      "outputs": []
    },
    {
      "cell_type": "code",
      "metadata": {
        "id": "E8BxcPS4EVt9",
        "colab": {
          "base_uri": "https://localhost:8080/"
        },
        "outputId": "26963c44-1c31-4af1-d62d-f239c53ff98a"
      },
      "source": [
        "import atomsci.ddm.pipeline.compare_models as cmp\n",
        "import atomsci.ddm.pipeline.model_pipeline as mp\n",
        "import atomsci.ddm.pipeline.parameter_parser as parse"
      ],
      "execution_count": 6,
      "outputs": [
        {
          "output_type": "stream",
          "text": [
            "2021-08-10 23:46:32,227 Model tracker client not supported in your environment; can look at models in filesystem only.\n"
          ],
          "name": "stderr"
        }
      ]
    },
    {
      "cell_type": "code",
      "metadata": {
        "id": "MXqJNTpPEYcx"
      },
      "source": [
        "import os\n",
        "os.mkdir('chembl_activity_models')"
      ],
      "execution_count": 7,
      "outputs": []
    },
    {
      "cell_type": "markdown",
      "metadata": {
        "id": "ZIIEHFGZEdlp"
      },
      "source": [
        "**Let us display the dataset**"
      ]
    },
    {
      "cell_type": "code",
      "metadata": {
        "id": "n3RE8OYSKqqd"
      },
      "source": [
        "import pandas as pd\n",
        "import requests\n",
        "import io\n",
        "url = 'https://raw.githubusercontent.com/ravichas/AMPL-Tutorial/master/datasets/ChEMBL26_SCN5A_IC50_human_ml_ready.csv'\n",
        "download = requests.get(url).content\n",
        "df = pd.read_csv(url, index_col=0)\n",
        "# Reading the downloaded content and turning it into a pandas dataframe\n",
        "df = pd.read_csv(io.StringIO(download.decode('utf-8')))\n",
        "df.iloc[0:5, 0:5]\n",
        "df.to_csv('ChEMBL26_SCN5A_IC50_human_ml_ready.csv', index=False)"
      ],
      "execution_count": 8,
      "outputs": []
    },
    {
      "cell_type": "code",
      "metadata": {
        "id": "KJtGUkXmycv3",
        "colab": {
          "base_uri": "https://localhost:8080/",
          "height": 420
        },
        "outputId": "4c554630-2832-4098-fd4a-0ec0582ec819"
      },
      "source": [
        "df"
      ],
      "execution_count": 9,
      "outputs": [
        {
          "output_type": "execute_result",
          "data": {
            "text/html": [
              "<div>\n",
              "<style scoped>\n",
              "    .dataframe tbody tr th:only-of-type {\n",
              "        vertical-align: middle;\n",
              "    }\n",
              "\n",
              "    .dataframe tbody tr th {\n",
              "        vertical-align: top;\n",
              "    }\n",
              "\n",
              "    .dataframe thead th {\n",
              "        text-align: right;\n",
              "    }\n",
              "</style>\n",
              "<table border=\"1\" class=\"dataframe\">\n",
              "  <thead>\n",
              "    <tr style=\"text-align: right;\">\n",
              "      <th></th>\n",
              "      <th>base_rdkit_smiles</th>\n",
              "      <th>compound_id</th>\n",
              "      <th>pIC50</th>\n",
              "      <th>relation</th>\n",
              "      <th>active</th>\n",
              "    </tr>\n",
              "  </thead>\n",
              "  <tbody>\n",
              "    <tr>\n",
              "      <th>0</th>\n",
              "      <td>O=S(=O)(Nc1nccs1)c1ccc2c(c1)OCCN2c1ccc(Cl)cc1O...</td>\n",
              "      <td>CHEMBL3948159</td>\n",
              "      <td>5.806875</td>\n",
              "      <td>NaN</td>\n",
              "      <td>1</td>\n",
              "    </tr>\n",
              "    <tr>\n",
              "      <th>1</th>\n",
              "      <td>Fc1cccc(Cn2ccc3c(OC4CCN(Cc5ccccn5)CC4)ncnc32)c1F</td>\n",
              "      <td>CHEMBL2012299</td>\n",
              "      <td>7.698970</td>\n",
              "      <td>NaN</td>\n",
              "      <td>1</td>\n",
              "    </tr>\n",
              "    <tr>\n",
              "      <th>2</th>\n",
              "      <td>COc1cc(-c2cccc(F)c2)c(Cl)cc1-c1ncc(O)c2cc(S(=O...</td>\n",
              "      <td>CHEMBL4089326</td>\n",
              "      <td>5.000000</td>\n",
              "      <td>&lt;</td>\n",
              "      <td>0</td>\n",
              "    </tr>\n",
              "    <tr>\n",
              "      <th>3</th>\n",
              "      <td>O=C(Nc1cccc(C(F)(F)F)c1-c1ccccn1)c1cccc(-c2ncc...</td>\n",
              "      <td>CHEMBL4084926</td>\n",
              "      <td>5.721246</td>\n",
              "      <td>NaN</td>\n",
              "      <td>1</td>\n",
              "    </tr>\n",
              "    <tr>\n",
              "      <th>4</th>\n",
              "      <td>CC(C)COc1ncc(-c2nn(C)c3cc(C(=O)NS(C)(=O)=O)ccc...</td>\n",
              "      <td>CHEMBL4280298</td>\n",
              "      <td>5.186552</td>\n",
              "      <td>NaN</td>\n",
              "      <td>1</td>\n",
              "    </tr>\n",
              "    <tr>\n",
              "      <th>...</th>\n",
              "      <td>...</td>\n",
              "      <td>...</td>\n",
              "      <td>...</td>\n",
              "      <td>...</td>\n",
              "      <td>...</td>\n",
              "    </tr>\n",
              "    <tr>\n",
              "      <th>1724</th>\n",
              "      <td>O=C(NCc1ccc(C(F)(F)F)cc1)C1c2ccccc2C(=O)N1CCc1...</td>\n",
              "      <td>CHEMBL2164387</td>\n",
              "      <td>5.795880</td>\n",
              "      <td>NaN</td>\n",
              "      <td>1</td>\n",
              "    </tr>\n",
              "    <tr>\n",
              "      <th>1725</th>\n",
              "      <td>COc1ccc(Cl)c(-c2ccc(NC(=O)c3ccnn3C)nc2N)c1</td>\n",
              "      <td>CHEMBL3589904</td>\n",
              "      <td>4.431798</td>\n",
              "      <td>NaN</td>\n",
              "      <td>1</td>\n",
              "    </tr>\n",
              "    <tr>\n",
              "      <th>1726</th>\n",
              "      <td>N#Cc1cc(F)ccc1N1CCOc2cc(S(=O)(=O)Nc3nccs3)ccc21</td>\n",
              "      <td>CHEMBL3955931</td>\n",
              "      <td>5.000000</td>\n",
              "      <td>&lt;</td>\n",
              "      <td>0</td>\n",
              "    </tr>\n",
              "    <tr>\n",
              "      <th>1727</th>\n",
              "      <td>Clc1cn(Cc2ccccc2)c2ncnc(OC3CCN(Cc4cscn4)CC3)c12</td>\n",
              "      <td>CHEMBL2012181</td>\n",
              "      <td>7.096910</td>\n",
              "      <td>NaN</td>\n",
              "      <td>1</td>\n",
              "    </tr>\n",
              "    <tr>\n",
              "      <th>1728</th>\n",
              "      <td>C=C(N)NCCC[C@@H]1NC(=O)[C@@H]2CSSC[C@H](N)C(=O...</td>\n",
              "      <td>CHEMBL3416888</td>\n",
              "      <td>4.602060</td>\n",
              "      <td>&lt;</td>\n",
              "      <td>0</td>\n",
              "    </tr>\n",
              "  </tbody>\n",
              "</table>\n",
              "<p>1729 rows × 5 columns</p>\n",
              "</div>"
            ],
            "text/plain": [
              "                                      base_rdkit_smiles  ... active\n",
              "0     O=S(=O)(Nc1nccs1)c1ccc2c(c1)OCCN2c1ccc(Cl)cc1O...  ...      1\n",
              "1      Fc1cccc(Cn2ccc3c(OC4CCN(Cc5ccccn5)CC4)ncnc32)c1F  ...      1\n",
              "2     COc1cc(-c2cccc(F)c2)c(Cl)cc1-c1ncc(O)c2cc(S(=O...  ...      0\n",
              "3     O=C(Nc1cccc(C(F)(F)F)c1-c1ccccn1)c1cccc(-c2ncc...  ...      1\n",
              "4     CC(C)COc1ncc(-c2nn(C)c3cc(C(=O)NS(C)(=O)=O)ccc...  ...      1\n",
              "...                                                 ...  ...    ...\n",
              "1724  O=C(NCc1ccc(C(F)(F)F)cc1)C1c2ccccc2C(=O)N1CCc1...  ...      1\n",
              "1725         COc1ccc(Cl)c(-c2ccc(NC(=O)c3ccnn3C)nc2N)c1  ...      1\n",
              "1726    N#Cc1cc(F)ccc1N1CCOc2cc(S(=O)(=O)Nc3nccs3)ccc21  ...      0\n",
              "1727    Clc1cn(Cc2ccccc2)c2ncnc(OC3CCN(Cc4cscn4)CC3)c12  ...      1\n",
              "1728  C=C(N)NCCC[C@@H]1NC(=O)[C@@H]2CSSC[C@H](N)C(=O...  ...      0\n",
              "\n",
              "[1729 rows x 5 columns]"
            ]
          },
          "metadata": {
            "tags": []
          },
          "execution_count": 9
        }
      ]
    },
    {
      "cell_type": "markdown",
      "metadata": {
        "id": "N6ZZ33pBeBLK"
      },
      "source": [
        "base_splitter\n",
        "Description:\tType of splitter to use for train/validation split if temporal split used for test set. May be random, scaffold, or ave_min. The allowable choices are set in splitter.py\n",
        "\n",
        "Check here for details, https://github.com/ATOMconsortium/AMPL/blob/master/atomsci/ddm/docs/PARAMETERS.md"
      ]
    },
    {
      "cell_type": "code",
      "metadata": {
        "id": "GdYHTPnvIFFD"
      },
      "source": [
        "split_config = {\n",
        "\"script_dir\": \"/content/AMPL/atomsci/ddm\",\n",
        "\"dataset_key\" : \"/content/ChEMBL26_SCN5A_IC50_human_ml_ready.csv\",\n",
        "\"datastore\": \"False\",\n",
        "\"split_only\": \"True\",\n",
        "\"splitter\": \"scaffold\",\n",
        "\"split_valid_frac\": \"0.15\",\n",
        "\"split_test_frac\": \"0.15\",\n",
        "\"previously_split\": \"False\",\n",
        "\"prediction_type\": \"regression\",\n",
        "\"response_cols\" : \"pIC50\",\n",
        "\"id_col\": \"compound_id\",\n",
        "\"smiles_col\" : \"base_rdkit_smiles\",\n",
        "\"result_dir\": \"/content/chembl_activity_models\",\n",
        "\"system\": \"LC\",\n",
        "\"transformers\": \"True\",\n",
        "\"model_type\": \"NN\",\n",
        "\"featurizer\": \"graphconv\",\n",
        "\"descriptor_type\": \"graphconv\",\n",
        "\"learning_rate\": \"0.0007\",\n",
        "\"layer_sizes\": \"64,64,32\",\n",
        "\"dropouts\" : \"0.0,0.0,0.0\",\n",
        "\"save_results\": \"False\",\n",
        "\"max_epochs\": \"100\",\n",
        "\"verbose\": \"True\"\n",
        "}"
      ],
      "execution_count": 10,
      "outputs": []
    },
    {
      "cell_type": "code",
      "metadata": {
        "id": "rvaovtCdDIiP"
      },
      "source": [
        "split_params = parse.wrapper(split_config)"
      ],
      "execution_count": 11,
      "outputs": []
    },
    {
      "cell_type": "code",
      "metadata": {
        "id": "6256V9lGDKMX"
      },
      "source": [
        "split_model = mp.ModelPipeline(split_params)"
      ],
      "execution_count": 12,
      "outputs": []
    },
    {
      "cell_type": "code",
      "metadata": {
        "id": "Me8mKNyFDMEQ",
        "colab": {
          "base_uri": "https://localhost:8080/",
          "height": 193
        },
        "outputId": "3e950465-9e85-4042-e70e-487d1efa5e78"
      },
      "source": [
        "split_uuid = split_model.split_dataset()\n",
        "split_uuid"
      ],
      "execution_count": 13,
      "outputs": [
        {
          "output_type": "stream",
          "text": [
            "2021-08-10 23:46:32,814 Attempting to load featurized dataset\n",
            "2021-08-10 23:46:32,832 Exception when trying to load featurized data:\n",
            "DynamicFeaturization doesn't support get_featurized_dset_name()\n",
            "2021-08-10 23:46:32,833 Featurized dataset not previously saved for dataset ChEMBL26_SCN5A_IC50_human_ml_ready, creating new\n",
            "2021-08-10 23:46:32,849 Featurizing sample 0\n",
            "2021-08-10 23:46:40,250 Featurizing sample 1000\n"
          ],
          "name": "stderr"
        },
        {
          "output_type": "stream",
          "text": [
            "number of features: 75\n"
          ],
          "name": "stdout"
        },
        {
          "output_type": "stream",
          "text": [
            "2021-08-10 23:46:45,925 Splitting data by scaffold\n",
            "2021-08-10 23:46:57,004 Dataset split table saved to /content/ChEMBL26_SCN5A_IC50_human_ml_ready_train_valid_test_scaffold_bf28f42d-7eba-4ea2-904e-037aa7e098e4.csv\n"
          ],
          "name": "stderr"
        },
        {
          "output_type": "execute_result",
          "data": {
            "application/vnd.google.colaboratory.intrinsic+json": {
              "type": "string"
            },
            "text/plain": [
              "'bf28f42d-7eba-4ea2-904e-037aa7e098e4'"
            ]
          },
          "metadata": {
            "tags": []
          },
          "execution_count": 13
        }
      ]
    },
    {
      "cell_type": "code",
      "metadata": {
        "id": "0d79ivM-I49z"
      },
      "source": [
        "!pip install --upgrade gspread"
      ],
      "execution_count": null,
      "outputs": []
    },
    {
      "cell_type": "code",
      "metadata": {
        "colab": {
          "base_uri": "https://localhost:8080/"
        },
        "id": "N_Cz_Kgv9BM4",
        "outputId": "4c317063-2e1c-4023-d536-20d61044c0ec"
      },
      "source": [
        "!date"
      ],
      "execution_count": 15,
      "outputs": [
        {
          "output_type": "stream",
          "text": [
            "Tue Aug 10 23:46:59 UTC 2021\n"
          ],
          "name": "stdout"
        }
      ]
    },
    {
      "cell_type": "markdown",
      "metadata": {
        "id": "9D2-0F8jbu4K"
      },
      "source": [
        "## Train the mode (~ 10 minutes)"
      ]
    },
    {
      "cell_type": "code",
      "metadata": {
        "id": "eCtts89ZDxLn"
      },
      "source": [
        "train_config = {\n",
        "\"script_dir\": \"/content/AMPL/atomsci/ddm\",\n",
        "\"dataset_key\" : \"/content/ChEMBL26_SCN5A_IC50_human_ml_ready.csv\",\n",
        "\"datastore\": \"False\",\n",
        "\"uncertainty\": \"False\",\n",
        "\"splitter\": \"scaffold\",\n",
        "\"split_valid_frac\": \"0.15\",\n",
        "\"split_test_frac\": \"0.15\",\n",
        "\"previously_split\": \"True\",\n",
        "\"split_uuid\": \"{}\".format(split_uuid),\n",
        "\"prediction_type\": \"regression\",\n",
        "\"response_cols\" : \"pIC50\",\n",
        "\"id_col\": \"compound_id\",\n",
        "\"smiles_col\" : \"base_rdkit_smiles\",\n",
        "\"result_dir\": \"/content/chembl_activity_models\",\n",
        "\"system\": \"LC\",\n",
        "\"transformers\": \"True\",\n",
        "\"model_type\": \"NN\",\n",
        "\"featurizer\": \"graphconv\",\n",
        "\"descriptor_type\": \"graphconv\",\n",
        "\"learning_rate\": \"0.0007\",\n",
        "\"layer_sizes\": \"64,64,32\",\n",
        "\"dropouts\" : \"0.0,0.0,0.0\",\n",
        "\"save_results\": \"False\",\n",
        "\"max_epochs\": \"100\",\n",
        "\"verbose\": \"True\"\n",
        "}"
      ],
      "execution_count": 16,
      "outputs": []
    },
    {
      "cell_type": "code",
      "metadata": {
        "id": "u3Cjkh76F-ym"
      },
      "source": [
        "train_params = parse.wrapper(train_config)"
      ],
      "execution_count": 17,
      "outputs": []
    },
    {
      "cell_type": "code",
      "metadata": {
        "id": "949S5ME0GIOf"
      },
      "source": [
        "train_model = mp.ModelPipeline(train_params)"
      ],
      "execution_count": 18,
      "outputs": []
    },
    {
      "cell_type": "markdown",
      "metadata": {
        "id": "JhVhhldinDid"
      },
      "source": [
        "## Train_model took ~ 18 minutes on a GPU  (~ 30 minutes on a CPU)"
      ]
    },
    {
      "cell_type": "code",
      "metadata": {
        "colab": {
          "base_uri": "https://localhost:8080/",
          "height": 35
        },
        "id": "6Vsa4RRzjGH-",
        "outputId": "4e261ecf-176d-432a-c02f-0d791e57e260"
      },
      "source": [
        "mp.ampl_version"
      ],
      "execution_count": 19,
      "outputs": [
        {
          "output_type": "execute_result",
          "data": {
            "application/vnd.google.colaboratory.intrinsic+json": {
              "type": "string"
            },
            "text/plain": [
              "'1.2.0'"
            ]
          },
          "metadata": {
            "tags": []
          },
          "execution_count": 19
        }
      ]
    },
    {
      "cell_type": "code",
      "metadata": {
        "colab": {
          "base_uri": "https://localhost:8080/",
          "height": 35
        },
        "id": "U8KN2ih8iwtq",
        "outputId": "90ab3b5e-fe72-4fb8-f413-92ce0ab429ad"
      },
      "source": [
        "dc.__version__"
      ],
      "execution_count": 20,
      "outputs": [
        {
          "output_type": "execute_result",
          "data": {
            "application/vnd.google.colaboratory.intrinsic+json": {
              "type": "string"
            },
            "text/plain": [
              "'2.6.0.dev'"
            ]
          },
          "metadata": {
            "tags": []
          },
          "execution_count": 20
        }
      ]
    },
    {
      "cell_type": "code",
      "metadata": {
        "colab": {
          "base_uri": "https://localhost:8080/"
        },
        "id": "VJh99dc1Sms1",
        "outputId": "9926739a-5b51-4bed-d87c-d7da38204f03"
      },
      "source": [
        "%cd github\n",
        "!ls"
      ],
      "execution_count": 21,
      "outputs": [
        {
          "output_type": "stream",
          "text": [
            "/content/github\n",
            "AMPL  AMPL.build  AMPL.dist  __init___py.patch\ttransformations_py.patch\n"
          ],
          "name": "stdout"
        }
      ]
    },
    {
      "cell_type": "code",
      "metadata": {
        "id": "dzoK1kDDGPLn",
        "colab": {
          "base_uri": "https://localhost:8080/"
        },
        "outputId": "d6b59ad8-8c53-4035-8812-12a61ec01ecb"
      },
      "source": [
        "train_model.train_model()"
      ],
      "execution_count": 22,
      "outputs": [
        {
          "output_type": "stream",
          "text": [
            "2021-08-10 23:47:05,904 Attempting to load featurized dataset\n",
            "2021-08-10 23:47:05,917 Exception when trying to load featurized data:\n",
            "DynamicFeaturization doesn't support get_featurized_dset_name()\n",
            "2021-08-10 23:47:05,918 Featurized dataset not previously saved for dataset ChEMBL26_SCN5A_IC50_human_ml_ready, creating new\n",
            "2021-08-10 23:47:05,931 Featurizing sample 0\n",
            "2021-08-10 23:47:12,481 Featurizing sample 1000\n"
          ],
          "name": "stderr"
        },
        {
          "output_type": "stream",
          "text": [
            "number of features: 75\n"
          ],
          "name": "stdout"
        },
        {
          "output_type": "stream",
          "text": [
            "2021-08-10 23:47:18,984 Previous dataset split restored\n",
            "2021-08-10 23:47:19,001 Wrote transformers to /content/chembl_activity_models/ChEMBL26_SCN5A_IC50_human_ml_ready/NN_graphconv_scaffold_regression/a24bea03-41eb-4f0c-8686-96581d4f82c0/transformers.pkl\n",
            "2021-08-10 23:47:19,003 Transforming response data\n",
            "2021-08-10 23:47:19,726 Transforming response data\n",
            "2021-08-10 23:47:19,857 Transforming response data\n"
          ],
          "name": "stderr"
        },
        {
          "output_type": "stream",
          "text": [
            "WARNING:tensorflow:From /usr/local/lib/python3.7/dist-packages/tensorflow/python/ops/array_ops.py:5049: calling gather (from tensorflow.python.ops.array_ops) with validate_indices is deprecated and will be removed in a future version.\n",
            "Instructions for updating:\n",
            "The `validate_indices` argument has no effect. Indices are always validated on CPU and never validated on GPU.\n"
          ],
          "name": "stdout"
        },
        {
          "output_type": "stream",
          "text": [
            "2021-08-10 23:47:22,442 From /usr/local/lib/python3.7/dist-packages/tensorflow/python/ops/array_ops.py:5049: calling gather (from tensorflow.python.ops.array_ops) with validate_indices is deprecated and will be removed in a future version.\n",
            "Instructions for updating:\n",
            "The `validate_indices` argument has no effect. Indices are always validated on CPU and never validated on GPU.\n",
            "2021-08-10 23:47:39,299 Epoch 0: training r2_score = 0.009, validation r2_score = 0.057, test r2_score = -0.084\n",
            "2021-08-10 23:47:40,066 Epoch 1: training r2_score = 0.023, validation r2_score = -0.060, test r2_score = -0.082\n",
            "2021-08-10 23:47:40,711 Epoch 2: training r2_score = -0.190, validation r2_score = -0.367, test r2_score = -0.328\n",
            "2021-08-10 23:47:41,355 Epoch 3: training r2_score = -0.079, validation r2_score = -0.306, test r2_score = -0.256\n",
            "2021-08-10 23:47:41,989 Epoch 4: training r2_score = -0.180, validation r2_score = -0.336, test r2_score = -0.267\n",
            "2021-08-10 23:47:42,617 Epoch 5: training r2_score = 0.010, validation r2_score = -0.200, test r2_score = -0.035\n",
            "2021-08-10 23:47:43,262 Epoch 6: training r2_score = 0.078, validation r2_score = -0.233, test r2_score = -0.053\n",
            "2021-08-10 23:47:43,915 Epoch 7: training r2_score = 0.115, validation r2_score = -0.118, test r2_score = 0.038\n",
            "2021-08-10 23:47:44,563 Epoch 8: training r2_score = 0.080, validation r2_score = -0.150, test r2_score = -0.062\n",
            "2021-08-10 23:47:45,220 Epoch 9: training r2_score = 0.222, validation r2_score = -0.154, test r2_score = -0.025\n",
            "2021-08-10 23:47:45,857 Epoch 10: training r2_score = 0.340, validation r2_score = -0.021, test r2_score = 0.001\n",
            "2021-08-10 23:47:46,457 Epoch 11: training r2_score = 0.426, validation r2_score = 0.008, test r2_score = 0.041\n",
            "2021-08-10 23:47:47,050 Epoch 12: training r2_score = 0.484, validation r2_score = 0.172, test r2_score = 0.137\n",
            "2021-08-10 23:47:47,760 Epoch 13: training r2_score = 0.491, validation r2_score = 0.008, test r2_score = 0.141\n",
            "2021-08-10 23:47:48,360 Epoch 14: training r2_score = 0.586, validation r2_score = 0.038, test r2_score = 0.106\n",
            "2021-08-10 23:47:48,952 Epoch 15: training r2_score = 0.643, validation r2_score = 0.049, test r2_score = 0.176\n",
            "2021-08-10 23:47:49,561 Epoch 16: training r2_score = 0.650, validation r2_score = 0.062, test r2_score = 0.163\n",
            "2021-08-10 23:47:50,144 Epoch 17: training r2_score = 0.688, validation r2_score = 0.162, test r2_score = 0.188\n",
            "2021-08-10 23:47:50,741 Epoch 18: training r2_score = 0.704, validation r2_score = 0.191, test r2_score = 0.217\n",
            "2021-08-10 23:47:51,451 Epoch 19: training r2_score = 0.728, validation r2_score = 0.199, test r2_score = 0.232\n",
            "2021-08-10 23:47:52,137 Epoch 20: training r2_score = 0.741, validation r2_score = 0.136, test r2_score = 0.198\n",
            "2021-08-10 23:47:52,736 Epoch 21: training r2_score = 0.755, validation r2_score = 0.124, test r2_score = 0.249\n",
            "2021-08-10 23:47:53,320 Epoch 22: training r2_score = 0.744, validation r2_score = 0.296, test r2_score = 0.285\n",
            "2021-08-10 23:47:54,040 Epoch 23: training r2_score = 0.761, validation r2_score = 0.271, test r2_score = 0.296\n",
            "2021-08-10 23:47:54,640 Epoch 24: training r2_score = 0.750, validation r2_score = 0.187, test r2_score = 0.235\n",
            "2021-08-10 23:47:55,239 Epoch 25: training r2_score = 0.773, validation r2_score = 0.168, test r2_score = 0.257\n",
            "2021-08-10 23:47:55,831 Epoch 26: training r2_score = 0.718, validation r2_score = 0.200, test r2_score = 0.247\n",
            "2021-08-10 23:47:56,437 Epoch 27: training r2_score = 0.758, validation r2_score = 0.253, test r2_score = 0.214\n",
            "2021-08-10 23:47:57,046 Epoch 28: training r2_score = 0.726, validation r2_score = 0.168, test r2_score = 0.219\n",
            "2021-08-10 23:47:57,660 Epoch 29: training r2_score = 0.774, validation r2_score = 0.237, test r2_score = 0.202\n",
            "2021-08-10 23:47:58,243 Epoch 30: training r2_score = 0.713, validation r2_score = 0.239, test r2_score = 0.165\n",
            "2021-08-10 23:47:58,841 Epoch 31: training r2_score = 0.784, validation r2_score = 0.242, test r2_score = 0.240\n",
            "2021-08-10 23:47:59,441 Epoch 32: training r2_score = 0.787, validation r2_score = 0.234, test r2_score = 0.243\n",
            "2021-08-10 23:48:00,077 Epoch 33: training r2_score = 0.791, validation r2_score = 0.219, test r2_score = 0.264\n",
            "2021-08-10 23:48:00,667 Epoch 34: training r2_score = 0.791, validation r2_score = 0.246, test r2_score = 0.237\n",
            "2021-08-10 23:48:01,242 Epoch 35: training r2_score = 0.787, validation r2_score = 0.214, test r2_score = 0.205\n",
            "2021-08-10 23:48:01,838 Epoch 36: training r2_score = 0.808, validation r2_score = 0.217, test r2_score = 0.179\n",
            "2021-08-10 23:48:02,436 Epoch 37: training r2_score = 0.787, validation r2_score = 0.220, test r2_score = 0.204\n",
            "2021-08-10 23:48:03,018 Epoch 38: training r2_score = 0.800, validation r2_score = 0.246, test r2_score = 0.212\n",
            "2021-08-10 23:48:03,604 Epoch 39: training r2_score = 0.822, validation r2_score = 0.228, test r2_score = 0.175\n",
            "2021-08-10 23:48:04,193 Epoch 40: training r2_score = 0.826, validation r2_score = 0.171, test r2_score = 0.173\n",
            "2021-08-10 23:48:04,779 Epoch 41: training r2_score = 0.813, validation r2_score = 0.233, test r2_score = 0.160\n",
            "2021-08-10 23:48:05,378 Epoch 42: training r2_score = 0.809, validation r2_score = 0.206, test r2_score = 0.207\n",
            "2021-08-10 23:48:05,979 Epoch 43: training r2_score = 0.811, validation r2_score = 0.176, test r2_score = 0.186\n",
            "2021-08-10 23:48:06,562 Epoch 44: training r2_score = 0.837, validation r2_score = 0.246, test r2_score = 0.178\n",
            "2021-08-10 23:48:07,156 Epoch 45: training r2_score = 0.836, validation r2_score = 0.239, test r2_score = 0.182\n",
            "2021-08-10 23:48:07,748 Epoch 46: training r2_score = 0.826, validation r2_score = 0.182, test r2_score = 0.190\n",
            "2021-08-10 23:48:08,329 Epoch 47: training r2_score = 0.828, validation r2_score = 0.237, test r2_score = 0.201\n",
            "2021-08-10 23:48:08,921 Epoch 48: training r2_score = 0.821, validation r2_score = 0.241, test r2_score = 0.258\n",
            "2021-08-10 23:48:09,516 Epoch 49: training r2_score = 0.822, validation r2_score = 0.280, test r2_score = 0.167\n",
            "2021-08-10 23:48:10,107 Epoch 50: training r2_score = 0.838, validation r2_score = 0.180, test r2_score = 0.196\n",
            "2021-08-10 23:48:10,690 Epoch 51: training r2_score = 0.839, validation r2_score = 0.250, test r2_score = 0.244\n",
            "2021-08-10 23:48:11,282 Epoch 52: training r2_score = 0.852, validation r2_score = 0.227, test r2_score = 0.268\n",
            "2021-08-10 23:48:11,858 Epoch 53: training r2_score = 0.847, validation r2_score = 0.195, test r2_score = 0.238\n",
            "2021-08-10 23:48:11,859 No improvement after 30 epochs, stopping training\n",
            "2021-08-10 23:48:12,215 Saved model files to '/content/chembl_activity_models/ChEMBL26_SCN5A_IC50_human_ml_ready/NN_graphconv_scaffold_regression/a24bea03-41eb-4f0c-8686-96581d4f82c0/best_model'\n",
            "2021-08-10 23:48:12,216 Best model from epoch 22 saved to /content/chembl_activity_models/ChEMBL26_SCN5A_IC50_human_ml_ready/NN_graphconv_scaffold_regression/a24bea03-41eb-4f0c-8686-96581d4f82c0/best_model\n",
            "2021-08-10 23:48:12,223 Wrote model metadata to file /content/chembl_activity_models/ChEMBL26_SCN5A_IC50_human_ml_ready/NN_graphconv_scaffold_regression/a24bea03-41eb-4f0c-8686-96581d4f82c0/model_metadata.json\n",
            "2021-08-10 23:48:12,344 Wrote model metrics to file /content/chembl_activity_models/ChEMBL26_SCN5A_IC50_human_ml_ready/NN_graphconv_scaffold_regression/a24bea03-41eb-4f0c-8686-96581d4f82c0/model_metrics.json\n"
          ],
          "name": "stderr"
        },
        {
          "output_type": "stream",
          "text": [
            "Wrote model tarball to /content/chembl_activity_models/ChEMBL26_SCN5A_IC50_human_ml_ready_model_a24bea03-41eb-4f0c-8686-96581d4f82c0.tar.gz\n"
          ],
          "name": "stdout"
        }
      ]
    },
    {
      "cell_type": "code",
      "metadata": {
        "id": "pg58OZzSGfb3",
        "colab": {
          "base_uri": "https://localhost:8080/",
          "height": 169
        },
        "outputId": "3f82a0e4-2247-4f9f-8953-ac7ac0447a5a"
      },
      "source": [
        "perf_df = cmp.get_filesystem_perf_results('/content/chembl_activity_models', pred_type='regression')\n",
        "perf_df"
      ],
      "execution_count": 23,
      "outputs": [
        {
          "output_type": "stream",
          "text": [
            "Found data for 1 models under /content/chembl_activity_models\n"
          ],
          "name": "stdout"
        },
        {
          "output_type": "execute_result",
          "data": {
            "text/html": [
              "<div>\n",
              "<style scoped>\n",
              "    .dataframe tbody tr th:only-of-type {\n",
              "        vertical-align: middle;\n",
              "    }\n",
              "\n",
              "    .dataframe tbody tr th {\n",
              "        vertical-align: top;\n",
              "    }\n",
              "\n",
              "    .dataframe thead th {\n",
              "        text-align: right;\n",
              "    }\n",
              "</style>\n",
              "<table border=\"1\" class=\"dataframe\">\n",
              "  <thead>\n",
              "    <tr style=\"text-align: right;\">\n",
              "      <th></th>\n",
              "      <th>model_uuid</th>\n",
              "      <th>ampl_version</th>\n",
              "      <th>model_type</th>\n",
              "      <th>dataset_key</th>\n",
              "      <th>featurizer</th>\n",
              "      <th>splitter</th>\n",
              "      <th>model_score_type</th>\n",
              "      <th>feature_transform_type</th>\n",
              "      <th>learning_rate</th>\n",
              "      <th>dropouts</th>\n",
              "      <th>layer_sizes</th>\n",
              "      <th>best_epoch</th>\n",
              "      <th>max_epochs</th>\n",
              "      <th>rf_estimators</th>\n",
              "      <th>rf_max_features</th>\n",
              "      <th>rf_max_depth</th>\n",
              "      <th>xgb_gamma</th>\n",
              "      <th>xgb_learning_rate</th>\n",
              "      <th>model_choice_score</th>\n",
              "      <th>train_r2_score</th>\n",
              "      <th>train_rms_score</th>\n",
              "      <th>train_mae_score</th>\n",
              "      <th>train_num_compounds</th>\n",
              "      <th>valid_r2_score</th>\n",
              "      <th>valid_rms_score</th>\n",
              "      <th>valid_mae_score</th>\n",
              "      <th>valid_num_compounds</th>\n",
              "      <th>test_r2_score</th>\n",
              "      <th>test_rms_score</th>\n",
              "      <th>test_mae_score</th>\n",
              "      <th>test_num_compounds</th>\n",
              "    </tr>\n",
              "  </thead>\n",
              "  <tbody>\n",
              "    <tr>\n",
              "      <th>0</th>\n",
              "      <td>a24bea03-41eb-4f0c-8686-96581d4f82c0</td>\n",
              "      <td>1.2.0</td>\n",
              "      <td>NN</td>\n",
              "      <td>/content/ChEMBL26_SCN5A_IC50_human_ml_ready.csv</td>\n",
              "      <td>graphconv</td>\n",
              "      <td>scaffold</td>\n",
              "      <td>r2</td>\n",
              "      <td>normalization</td>\n",
              "      <td>0.0007</td>\n",
              "      <td>0.00,0.00,0.00</td>\n",
              "      <td>64,64,32</td>\n",
              "      <td>22</td>\n",
              "      <td>100</td>\n",
              "      <td>NaN</td>\n",
              "      <td>NaN</td>\n",
              "      <td>NaN</td>\n",
              "      <td>NaN</td>\n",
              "      <td>NaN</td>\n",
              "      <td>0.296437</td>\n",
              "      <td>0.744052</td>\n",
              "      <td>0.324392</td>\n",
              "      <td>0.235616</td>\n",
              "      <td>1210</td>\n",
              "      <td>0.296437</td>\n",
              "      <td>0.49293</td>\n",
              "      <td>0.366969</td>\n",
              "      <td>259</td>\n",
              "      <td>0.284589</td>\n",
              "      <td>0.593709</td>\n",
              "      <td>0.40849</td>\n",
              "      <td>260</td>\n",
              "    </tr>\n",
              "  </tbody>\n",
              "</table>\n",
              "</div>"
            ],
            "text/plain": [
              "                             model_uuid  ... test_num_compounds\n",
              "0  a24bea03-41eb-4f0c-8686-96581d4f82c0  ...                260\n",
              "\n",
              "[1 rows x 31 columns]"
            ]
          },
          "metadata": {
            "tags": []
          },
          "execution_count": 23
        }
      ]
    },
    {
      "cell_type": "code",
      "metadata": {
        "id": "_b5hfx8qP49G",
        "colab": {
          "base_uri": "https://localhost:8080/"
        },
        "outputId": "515a0b8d-3ca5-4a91-b1db-68c0d7b5d2a4"
      },
      "source": [
        "!date"
      ],
      "execution_count": 24,
      "outputs": [
        {
          "output_type": "stream",
          "text": [
            "Tue Aug 10 23:48:12 UTC 2021\n"
          ],
          "name": "stdout"
        }
      ]
    }
  ]
}