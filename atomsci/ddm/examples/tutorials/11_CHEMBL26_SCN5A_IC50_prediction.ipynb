{
  "nbformat": 4,
  "nbformat_minor": 0,
  "metadata": {
    "colab": {
      "name": "11_CHEMBL26_SCN5A_IC50_prediction.ipynb",
      "provenance": [],
      "collapsed_sections": [],
      "machine_shape": "hm",
      "include_colab_link": true
    },
    "kernelspec": {
      "name": "python3",
      "display_name": "Python 3"
    },
    "accelerator": "GPU"
  },
  "cells": [
    {
      "cell_type": "markdown",
      "metadata": {
        "id": "view-in-github",
        "colab_type": "text"
      },
      "source": [
        "<a href=\"https://colab.research.google.com/github/ATOMconsortium/AMPL/blob/Tutorials/atomsci/ddm/examples/tutorials/11_CHEMBL26_SCN5A_IC50_prediction.ipynb\" target=\"_parent\"><img src=\"https://colab.research.google.com/assets/colab-badge.svg\" alt=\"Open In Colab\"/></a>"
      ]
    },
    {
      "cell_type": "markdown",
      "metadata": {
        "id": "DKOt6zePpD62"
      },
      "source": [
        "<h1>Building a Graph Convolutional Network Model for Drug Response Prediction</h1>\n",
        "\n",
        "The ATOM Modeling PipeLine (AMPL; https://github.com/ATOMconsortium/AMPL) is an open-source, modular, extensible software pipeline for building and sharing models to advance in silico drug discovery.\n"
      ]
    },
    {
      "cell_type": "markdown",
      "metadata": {
        "id": "3XSTsOdoCORi"
      },
      "source": [
        "## Time to run: 6 minutes"
      ]
    },
    {
      "cell_type": "code",
      "metadata": {
        "colab": {
          "base_uri": "https://localhost:8080/"
        },
        "id": "02yXiu_V_r8F",
        "outputId": "9b582880-1aaa-4a47-8c81-af2f33a8ded6"
      },
      "source": [
        "!date"
      ],
      "execution_count": null,
      "outputs": [
        {
          "output_type": "stream",
          "text": [
            "Thu May 20 22:57:16 UTC 2021\n"
          ],
          "name": "stdout"
        }
      ]
    },
    {
      "cell_type": "markdown",
      "metadata": {
        "id": "7sGiIPZCi0Cb"
      },
      "source": [
        "## Change your runtime to GPU \n",
        "\n",
        "Go to **Runtime** --> Change **runtime type** to \"GPU\"\n"
      ]
    },
    {
      "cell_type": "markdown",
      "metadata": {
        "id": "aRXuj2Dsj8wR"
      },
      "source": [
        "## Goal: Use AMPL for predicting binding affinities -IC50 values- of ligands that could bind to human **Sodium channel protein type 5 subunit alpha** protein using Graph Convolutional Network Model. ChEMBL database is the source of the binding affinities (pIC50).\n",
        "\n",
        "In this notebook, we describe the following steps using AMPL:\n",
        "\n",
        "1.   Read a ML ready dataset\n",
        "2.   Fit a Graph Convolutional model\n",
        "3.   Predict pIC50 values of withheld compounds"
      ]
    },
    {
      "cell_type": "markdown",
      "metadata": {
        "id": "hT1bl6hojskE"
      },
      "source": [
        "## Set up\n",
        "We first import the AMPL modules for use in this notebook.\n",
        "\n",
        "The relevant AMPL modules for this example are listed below:\n",
        "\n",
        "|module|Description|\n",
        "|-|-|\n",
        "|`atomsci.ddm.pipeline.model_pipeline`|The model pipeline module is used to fit models and load models for prediction.|\n",
        "|`atomsci.ddm.pipeline.parameter_parser`|The parameter parser reads through pipeline options for the model pipeline.|\n",
        "|`atomsci.ddm.utils.curate_data`|The curate data module is used for data loading and pre-processing.|\n",
        "|`atomsci.ddm.utils.struct_utils`|The structure utilities module is used to process loaded structures.|\n",
        "\n",
        "\n",
        "import atomsci.ddm.pipeline.compare_models as cmp\n",
        "import atomsci.ddm.pipeline.model_pipeline as mp\n",
        "import atomsci.ddm.pipeline.parameter_parser as parse"
      ]
    },
    {
      "cell_type": "markdown",
      "metadata": {
        "id": "tsDTjWhwcgWG"
      },
      "source": [
        "## Install AMPL "
      ]
    },
    {
      "cell_type": "code",
      "metadata": {
        "id": "ZOdCTKDjjcMf"
      },
      "source": [
        "!curl -Lo conda_installer.py https://raw.githubusercontent.com/deepchem/deepchem/master/scripts/colab_install.py\n",
        "import conda_installer\n",
        "conda_installer.install()\n",
        "!/root/miniconda/bin/conda info -e\n",
        "\n",
        "!pip install deepchem-nightly\n",
        "\n",
        "import deepchem\n",
        "deepchem.__version__\n",
        "\n",
        "! pip install umap\n",
        "! pip install llvmlite==0.34.0  --ignore-installed\n",
        "! pip install umap-learn\n",
        "! pip install molvs\n",
        "! pip install bravado"
      ],
      "execution_count": null,
      "outputs": []
    },
    {
      "cell_type": "code",
      "metadata": {
        "id": "wzNK3wX2O4lu"
      },
      "source": [
        "import deepchem as dc\n",
        "\n",
        "# get the Install AMPL_GPU_test.sh\n",
        "!wget https://raw.githubusercontent.com/ravichas/AMPL-Tutorial/master/config/install_AMPL_GPU_test.sh\n",
        "\n",
        "# run the script to install AMPL\n",
        "! chmod u+x install_AMPL_GPU_test.sh\n",
        "! ./install_AMPL_GPU_test.sh"
      ],
      "execution_count": null,
      "outputs": []
    },
    {
      "cell_type": "code",
      "metadata": {
        "colab": {
          "base_uri": "https://localhost:8080/",
          "height": 35
        },
        "id": "GUJ4DbDqNWn-",
        "outputId": "560abaf3-5543-4e6d-e545-cee05a5c0084"
      },
      "source": [
        "dc.__version__"
      ],
      "execution_count": null,
      "outputs": [
        {
          "output_type": "execute_result",
          "data": {
            "application/vnd.google.colaboratory.intrinsic+json": {
              "type": "string"
            },
            "text/plain": [
              "'2.3.0'"
            ]
          },
          "metadata": {
            "tags": []
          },
          "execution_count": 4
        }
      ]
    },
    {
      "cell_type": "code",
      "metadata": {
        "id": "9Q12k1c9_m65"
      },
      "source": [
        "# We temporarily disable warnings for demonstration.\n",
        "# FutureWarnings and DeprecationWarnings are present from some of the AMPL \n",
        "# dependency modules.\n",
        "import warnings\n",
        "warnings.filterwarnings('ignore')\n",
        "import json\n",
        "import requests\n",
        "import sys"
      ],
      "execution_count": null,
      "outputs": []
    },
    {
      "cell_type": "code",
      "metadata": {
        "id": "E8BxcPS4EVt9"
      },
      "source": [
        "import atomsci.ddm.pipeline.compare_models as cmp\n",
        "import atomsci.ddm.pipeline.model_pipeline as mp\n",
        "import atomsci.ddm.pipeline.parameter_parser as parse"
      ],
      "execution_count": null,
      "outputs": []
    },
    {
      "cell_type": "code",
      "metadata": {
        "id": "MXqJNTpPEYcx"
      },
      "source": [
        "import os\n",
        "os.mkdir('chembl_activity_models')"
      ],
      "execution_count": null,
      "outputs": []
    },
    {
      "cell_type": "markdown",
      "metadata": {
        "id": "ZIIEHFGZEdlp"
      },
      "source": [
        "**Let us display the dataset**"
      ]
    },
    {
      "cell_type": "code",
      "metadata": {
        "id": "n3RE8OYSKqqd"
      },
      "source": [
        "import pandas as pd\n",
        "import requests\n",
        "import io\n",
        "url = 'https://raw.githubusercontent.com/ravichas/AMPL-Tutorial/master/datasets/ChEMBL26_SCN5A_IC50_human_ml_ready.csv'\n",
        "download = requests.get(url).content\n",
        "df = pd.read_csv(url, index_col=0)\n",
        "# Reading the downloaded content and turning it into a pandas dataframe\n",
        "df = pd.read_csv(io.StringIO(download.decode('utf-8')))\n",
        "df.iloc[0:5, 0:5]\n",
        "df.to_csv('ChEMBL26_SCN5A_IC50_human_ml_ready.csv', index=False)"
      ],
      "execution_count": null,
      "outputs": []
    },
    {
      "cell_type": "code",
      "metadata": {
        "id": "KJtGUkXmycv3",
        "colab": {
          "base_uri": "https://localhost:8080/",
          "height": 417
        },
        "outputId": "22c996b0-6044-4d4b-d283-7be59ce51143"
      },
      "source": [
        "df"
      ],
      "execution_count": null,
      "outputs": [
        {
          "output_type": "execute_result",
          "data": {
            "text/html": [
              "<div>\n",
              "<style scoped>\n",
              "    .dataframe tbody tr th:only-of-type {\n",
              "        vertical-align: middle;\n",
              "    }\n",
              "\n",
              "    .dataframe tbody tr th {\n",
              "        vertical-align: top;\n",
              "    }\n",
              "\n",
              "    .dataframe thead th {\n",
              "        text-align: right;\n",
              "    }\n",
              "</style>\n",
              "<table border=\"1\" class=\"dataframe\">\n",
              "  <thead>\n",
              "    <tr style=\"text-align: right;\">\n",
              "      <th></th>\n",
              "      <th>base_rdkit_smiles</th>\n",
              "      <th>compound_id</th>\n",
              "      <th>pIC50</th>\n",
              "      <th>relation</th>\n",
              "      <th>active</th>\n",
              "    </tr>\n",
              "  </thead>\n",
              "  <tbody>\n",
              "    <tr>\n",
              "      <th>0</th>\n",
              "      <td>O=S(=O)(Nc1nccs1)c1ccc2c(c1)OCCN2c1ccc(Cl)cc1O...</td>\n",
              "      <td>CHEMBL3948159</td>\n",
              "      <td>5.806875</td>\n",
              "      <td>NaN</td>\n",
              "      <td>1</td>\n",
              "    </tr>\n",
              "    <tr>\n",
              "      <th>1</th>\n",
              "      <td>Fc1cccc(Cn2ccc3c(OC4CCN(Cc5ccccn5)CC4)ncnc32)c1F</td>\n",
              "      <td>CHEMBL2012299</td>\n",
              "      <td>7.698970</td>\n",
              "      <td>NaN</td>\n",
              "      <td>1</td>\n",
              "    </tr>\n",
              "    <tr>\n",
              "      <th>2</th>\n",
              "      <td>COc1cc(-c2cccc(F)c2)c(Cl)cc1-c1ncc(O)c2cc(S(=O...</td>\n",
              "      <td>CHEMBL4089326</td>\n",
              "      <td>5.000000</td>\n",
              "      <td>&lt;</td>\n",
              "      <td>0</td>\n",
              "    </tr>\n",
              "    <tr>\n",
              "      <th>3</th>\n",
              "      <td>O=C(Nc1cccc(C(F)(F)F)c1-c1ccccn1)c1cccc(-c2ncc...</td>\n",
              "      <td>CHEMBL4084926</td>\n",
              "      <td>5.721246</td>\n",
              "      <td>NaN</td>\n",
              "      <td>1</td>\n",
              "    </tr>\n",
              "    <tr>\n",
              "      <th>4</th>\n",
              "      <td>CC(C)COc1ncc(-c2nn(C)c3cc(C(=O)NS(C)(=O)=O)ccc...</td>\n",
              "      <td>CHEMBL4280298</td>\n",
              "      <td>5.186552</td>\n",
              "      <td>NaN</td>\n",
              "      <td>1</td>\n",
              "    </tr>\n",
              "    <tr>\n",
              "      <th>...</th>\n",
              "      <td>...</td>\n",
              "      <td>...</td>\n",
              "      <td>...</td>\n",
              "      <td>...</td>\n",
              "      <td>...</td>\n",
              "    </tr>\n",
              "    <tr>\n",
              "      <th>1724</th>\n",
              "      <td>O=C(NCc1ccc(C(F)(F)F)cc1)C1c2ccccc2C(=O)N1CCc1...</td>\n",
              "      <td>CHEMBL2164387</td>\n",
              "      <td>5.795880</td>\n",
              "      <td>NaN</td>\n",
              "      <td>1</td>\n",
              "    </tr>\n",
              "    <tr>\n",
              "      <th>1725</th>\n",
              "      <td>COc1ccc(Cl)c(-c2ccc(NC(=O)c3ccnn3C)nc2N)c1</td>\n",
              "      <td>CHEMBL3589904</td>\n",
              "      <td>4.431798</td>\n",
              "      <td>NaN</td>\n",
              "      <td>1</td>\n",
              "    </tr>\n",
              "    <tr>\n",
              "      <th>1726</th>\n",
              "      <td>N#Cc1cc(F)ccc1N1CCOc2cc(S(=O)(=O)Nc3nccs3)ccc21</td>\n",
              "      <td>CHEMBL3955931</td>\n",
              "      <td>5.000000</td>\n",
              "      <td>&lt;</td>\n",
              "      <td>0</td>\n",
              "    </tr>\n",
              "    <tr>\n",
              "      <th>1727</th>\n",
              "      <td>Clc1cn(Cc2ccccc2)c2ncnc(OC3CCN(Cc4cscn4)CC3)c12</td>\n",
              "      <td>CHEMBL2012181</td>\n",
              "      <td>7.096910</td>\n",
              "      <td>NaN</td>\n",
              "      <td>1</td>\n",
              "    </tr>\n",
              "    <tr>\n",
              "      <th>1728</th>\n",
              "      <td>C=C(N)NCCC[C@@H]1NC(=O)[C@@H]2CSSC[C@H](N)C(=O...</td>\n",
              "      <td>CHEMBL3416888</td>\n",
              "      <td>4.602060</td>\n",
              "      <td>&lt;</td>\n",
              "      <td>0</td>\n",
              "    </tr>\n",
              "  </tbody>\n",
              "</table>\n",
              "<p>1729 rows × 5 columns</p>\n",
              "</div>"
            ],
            "text/plain": [
              "                                      base_rdkit_smiles  ... active\n",
              "0     O=S(=O)(Nc1nccs1)c1ccc2c(c1)OCCN2c1ccc(Cl)cc1O...  ...      1\n",
              "1      Fc1cccc(Cn2ccc3c(OC4CCN(Cc5ccccn5)CC4)ncnc32)c1F  ...      1\n",
              "2     COc1cc(-c2cccc(F)c2)c(Cl)cc1-c1ncc(O)c2cc(S(=O...  ...      0\n",
              "3     O=C(Nc1cccc(C(F)(F)F)c1-c1ccccn1)c1cccc(-c2ncc...  ...      1\n",
              "4     CC(C)COc1ncc(-c2nn(C)c3cc(C(=O)NS(C)(=O)=O)ccc...  ...      1\n",
              "...                                                 ...  ...    ...\n",
              "1724  O=C(NCc1ccc(C(F)(F)F)cc1)C1c2ccccc2C(=O)N1CCc1...  ...      1\n",
              "1725         COc1ccc(Cl)c(-c2ccc(NC(=O)c3ccnn3C)nc2N)c1  ...      1\n",
              "1726    N#Cc1cc(F)ccc1N1CCOc2cc(S(=O)(=O)Nc3nccs3)ccc21  ...      0\n",
              "1727    Clc1cn(Cc2ccccc2)c2ncnc(OC3CCN(Cc4cscn4)CC3)c12  ...      1\n",
              "1728  C=C(N)NCCC[C@@H]1NC(=O)[C@@H]2CSSC[C@H](N)C(=O...  ...      0\n",
              "\n",
              "[1729 rows x 5 columns]"
            ]
          },
          "metadata": {
            "tags": []
          },
          "execution_count": 9
        }
      ]
    },
    {
      "cell_type": "markdown",
      "metadata": {
        "id": "N6ZZ33pBeBLK"
      },
      "source": [
        "base_splitter\n",
        "Description:\tType of splitter to use for train/validation split if temporal split used for test set. May be random, scaffold, or ave_min. The allowable choices are set in splitter.py\n",
        "\n",
        "Check here for details, https://github.com/ATOMconsortium/AMPL/blob/master/atomsci/ddm/docs/PARAMETERS.md"
      ]
    },
    {
      "cell_type": "code",
      "metadata": {
        "id": "GdYHTPnvIFFD"
      },
      "source": [
        "split_config = {\n",
        "\"script_dir\": \"/content/AMPL/atomsci/ddm\",\n",
        "\"dataset_key\" : \"/content/ChEMBL26_SCN5A_IC50_human_ml_ready.csv\",\n",
        "\"datastore\": \"False\",\n",
        "\"split_only\": \"True\",\n",
        "\"splitter\": \"scaffold\",\n",
        "\"split_valid_frac\": \"0.15\",\n",
        "\"split_test_frac\": \"0.15\",\n",
        "\"previously_split\": \"False\",\n",
        "\"prediction_type\": \"regression\",\n",
        "\"response_cols\" : \"pIC50\",\n",
        "\"id_col\": \"compound_id\",\n",
        "\"smiles_col\" : \"base_rdkit_smiles\",\n",
        "\"result_dir\": \"/content/chembl_activity_models\",\n",
        "\"system\": \"LC\",\n",
        "\"transformers\": \"True\",\n",
        "\"model_type\": \"NN\",\n",
        "\"featurizer\": \"graphconv\",\n",
        "\"descriptor_type\": \"graphconv\",\n",
        "\"learning_rate\": \"0.0007\",\n",
        "\"layer_sizes\": \"64,64,32\",\n",
        "\"dropouts\" : \"0.0,0.0,0.0\",\n",
        "\"save_results\": \"False\",\n",
        "\"max_epochs\": \"100\",\n",
        "\"verbose\": \"True\"\n",
        "}"
      ],
      "execution_count": null,
      "outputs": []
    },
    {
      "cell_type": "code",
      "metadata": {
        "id": "rvaovtCdDIiP"
      },
      "source": [
        "split_params = parse.wrapper(split_config)"
      ],
      "execution_count": null,
      "outputs": []
    },
    {
      "cell_type": "code",
      "metadata": {
        "id": "6256V9lGDKMX"
      },
      "source": [
        "split_model = mp.ModelPipeline(split_params)"
      ],
      "execution_count": null,
      "outputs": []
    },
    {
      "cell_type": "code",
      "metadata": {
        "id": "Me8mKNyFDMEQ",
        "colab": {
          "base_uri": "https://localhost:8080/",
          "height": 88
        },
        "outputId": "ad4b951f-cc6b-45ca-a967-44c44c0fb34f"
      },
      "source": [
        "split_uuid = split_model.split_dataset()\n",
        "split_uuid"
      ],
      "execution_count": null,
      "outputs": [
        {
          "output_type": "stream",
          "text": [
            "number of features: 75\n"
          ],
          "name": "stdout"
        },
        {
          "output_type": "stream",
          "text": [
            "2021-05-20 23:00:28,712 Splitting data by scaffold\n",
            "2021-05-20 23:00:42,179 Dataset split table saved to /content/ChEMBL26_SCN5A_IC50_human_ml_ready_train_valid_test_scaffold_4e9ac13a-8e48-43e6-9ca4-64fb9c571661.csv\n"
          ],
          "name": "stderr"
        },
        {
          "output_type": "execute_result",
          "data": {
            "application/vnd.google.colaboratory.intrinsic+json": {
              "type": "string"
            },
            "text/plain": [
              "'4e9ac13a-8e48-43e6-9ca4-64fb9c571661'"
            ]
          },
          "metadata": {
            "tags": []
          },
          "execution_count": 13
        }
      ]
    },
    {
      "cell_type": "code",
      "metadata": {
        "id": "0d79ivM-I49z"
      },
      "source": [
        "!pip install --upgrade gspread"
      ],
      "execution_count": null,
      "outputs": []
    },
    {
      "cell_type": "code",
      "metadata": {
        "colab": {
          "base_uri": "https://localhost:8080/"
        },
        "id": "N_Cz_Kgv9BM4",
        "outputId": "f10740f8-eb7a-4033-fc5a-d94ff61d76df"
      },
      "source": [
        "!date"
      ],
      "execution_count": null,
      "outputs": [
        {
          "output_type": "stream",
          "text": [
            "Thu May 20 23:00:45 UTC 2021\n"
          ],
          "name": "stdout"
        }
      ]
    },
    {
      "cell_type": "markdown",
      "metadata": {
        "id": "9D2-0F8jbu4K"
      },
      "source": [
        "## Train the mode (~ 10 minutes)"
      ]
    },
    {
      "cell_type": "code",
      "metadata": {
        "id": "eCtts89ZDxLn"
      },
      "source": [
        "train_config = {\n",
        "\"script_dir\": \"/content/AMPL/atomsci/ddm\",\n",
        "\"dataset_key\" : \"/content/ChEMBL26_SCN5A_IC50_human_ml_ready.csv\",\n",
        "\"datastore\": \"False\",\n",
        "\"uncertainty\": \"False\",\n",
        "\"splitter\": \"scaffold\",\n",
        "\"split_valid_frac\": \"0.15\",\n",
        "\"split_test_frac\": \"0.15\",\n",
        "\"previously_split\": \"True\",\n",
        "\"split_uuid\": \"{}\".format(split_uuid),\n",
        "\"prediction_type\": \"regression\",\n",
        "\"response_cols\" : \"pIC50\",\n",
        "\"id_col\": \"compound_id\",\n",
        "\"smiles_col\" : \"base_rdkit_smiles\",\n",
        "\"result_dir\": \"/content/chembl_activity_models\",\n",
        "\"system\": \"LC\",\n",
        "\"transformers\": \"True\",\n",
        "\"model_type\": \"NN\",\n",
        "\"featurizer\": \"graphconv\",\n",
        "\"descriptor_type\": \"graphconv\",\n",
        "\"learning_rate\": \"0.0007\",\n",
        "\"layer_sizes\": \"64,64,32\",\n",
        "\"dropouts\" : \"0.0,0.0,0.0\",\n",
        "\"save_results\": \"False\",\n",
        "\"max_epochs\": \"100\",\n",
        "\"verbose\": \"True\"\n",
        "}"
      ],
      "execution_count": null,
      "outputs": []
    },
    {
      "cell_type": "code",
      "metadata": {
        "id": "u3Cjkh76F-ym"
      },
      "source": [
        "train_params = parse.wrapper(train_config)"
      ],
      "execution_count": null,
      "outputs": []
    },
    {
      "cell_type": "code",
      "metadata": {
        "id": "949S5ME0GIOf"
      },
      "source": [
        "train_model = mp.ModelPipeline(train_params)"
      ],
      "execution_count": null,
      "outputs": []
    },
    {
      "cell_type": "markdown",
      "metadata": {
        "id": "JhVhhldinDid"
      },
      "source": [
        "## Train_model took ~ 18 minutes on a GPU  (~ 30 minutes on a CPU)"
      ]
    },
    {
      "cell_type": "code",
      "metadata": {
        "id": "dzoK1kDDGPLn",
        "colab": {
          "base_uri": "https://localhost:8080/"
        },
        "outputId": "23fdc652-d978-4fe4-ed4d-d597377b8ac1"
      },
      "source": [
        "train_model.train_model()"
      ],
      "execution_count": null,
      "outputs": [
        {
          "output_type": "stream",
          "text": [
            "number of features: 75\n"
          ],
          "name": "stdout"
        },
        {
          "output_type": "stream",
          "text": [
            "2021-05-20 23:01:05,121 Previous dataset split restored\n",
            "2021-05-20 23:01:59,971 Wrote model metadata to file /content/chembl_activity_models/ChEMBL26_SCN5A_IC50_human_ml_ready/NN_graphconv_scaffold_regression/0b91d901-e1f2-49aa-b62a-a3676d90b3b1/model_metadata.json\n",
            "2021-05-20 23:02:00,106 Wrote model metrics to file /content/chembl_activity_models/ChEMBL26_SCN5A_IC50_human_ml_ready/NN_graphconv_scaffold_regression/0b91d901-e1f2-49aa-b62a-a3676d90b3b1/model_metrics.json\n"
          ],
          "name": "stderr"
        },
        {
          "output_type": "stream",
          "text": [
            "Wrote model tarball to /content/chembl_activity_models/ChEMBL26_SCN5A_IC50_human_ml_ready_model_0b91d901-e1f2-49aa-b62a-a3676d90b3b1.tar.gz\n"
          ],
          "name": "stdout"
        }
      ]
    },
    {
      "cell_type": "code",
      "metadata": {
        "id": "pg58OZzSGfb3",
        "colab": {
          "base_uri": "https://localhost:8080/",
          "height": 168
        },
        "outputId": "d2177179-f682-4e30-eee9-220c3af96559"
      },
      "source": [
        "perf_df = cmp.get_filesystem_perf_results('/content/chembl_activity_models', pred_type='regression')\n",
        "perf_df"
      ],
      "execution_count": null,
      "outputs": [
        {
          "output_type": "stream",
          "text": [
            "Found data for 1 models under /content/chembl_activity_models\n"
          ],
          "name": "stdout"
        },
        {
          "output_type": "execute_result",
          "data": {
            "text/html": [
              "<div>\n",
              "<style scoped>\n",
              "    .dataframe tbody tr th:only-of-type {\n",
              "        vertical-align: middle;\n",
              "    }\n",
              "\n",
              "    .dataframe tbody tr th {\n",
              "        vertical-align: top;\n",
              "    }\n",
              "\n",
              "    .dataframe thead th {\n",
              "        text-align: right;\n",
              "    }\n",
              "</style>\n",
              "<table border=\"1\" class=\"dataframe\">\n",
              "  <thead>\n",
              "    <tr style=\"text-align: right;\">\n",
              "      <th></th>\n",
              "      <th>model_uuid</th>\n",
              "      <th>ampl_version</th>\n",
              "      <th>model_type</th>\n",
              "      <th>dataset_key</th>\n",
              "      <th>featurizer</th>\n",
              "      <th>splitter</th>\n",
              "      <th>model_score_type</th>\n",
              "      <th>feature_transform_type</th>\n",
              "      <th>learning_rate</th>\n",
              "      <th>dropouts</th>\n",
              "      <th>layer_sizes</th>\n",
              "      <th>best_epoch</th>\n",
              "      <th>max_epochs</th>\n",
              "      <th>rf_estimators</th>\n",
              "      <th>rf_max_features</th>\n",
              "      <th>rf_max_depth</th>\n",
              "      <th>xgb_gamma</th>\n",
              "      <th>xgb_learning_rate</th>\n",
              "      <th>model_choice_score</th>\n",
              "      <th>train_r2_score</th>\n",
              "      <th>train_rms_score</th>\n",
              "      <th>train_mae_score</th>\n",
              "      <th>train_num_compounds</th>\n",
              "      <th>valid_r2_score</th>\n",
              "      <th>valid_rms_score</th>\n",
              "      <th>valid_mae_score</th>\n",
              "      <th>valid_num_compounds</th>\n",
              "      <th>test_r2_score</th>\n",
              "      <th>test_rms_score</th>\n",
              "      <th>test_mae_score</th>\n",
              "      <th>test_num_compounds</th>\n",
              "    </tr>\n",
              "  </thead>\n",
              "  <tbody>\n",
              "    <tr>\n",
              "      <th>0</th>\n",
              "      <td>0b91d901-e1f2-49aa-b62a-a3676d90b3b1</td>\n",
              "      <td>1.2.0</td>\n",
              "      <td>NN</td>\n",
              "      <td>/content/ChEMBL26_SCN5A_IC50_human_ml_ready.csv</td>\n",
              "      <td>graphconv</td>\n",
              "      <td>scaffold</td>\n",
              "      <td>r2</td>\n",
              "      <td>normalization</td>\n",
              "      <td>0.0007</td>\n",
              "      <td>0.00,0.00,0.00</td>\n",
              "      <td>64,64,32</td>\n",
              "      <td>24</td>\n",
              "      <td>100</td>\n",
              "      <td>NaN</td>\n",
              "      <td>NaN</td>\n",
              "      <td>NaN</td>\n",
              "      <td>NaN</td>\n",
              "      <td>NaN</td>\n",
              "      <td>0.132874</td>\n",
              "      <td>0.738705</td>\n",
              "      <td>0.327762</td>\n",
              "      <td>0.239703</td>\n",
              "      <td>1210</td>\n",
              "      <td>0.132874</td>\n",
              "      <td>0.547236</td>\n",
              "      <td>0.406501</td>\n",
              "      <td>259</td>\n",
              "      <td>0.048182</td>\n",
              "      <td>0.684815</td>\n",
              "      <td>0.457751</td>\n",
              "      <td>260</td>\n",
              "    </tr>\n",
              "  </tbody>\n",
              "</table>\n",
              "</div>"
            ],
            "text/plain": [
              "                             model_uuid  ... test_num_compounds\n",
              "0  0b91d901-e1f2-49aa-b62a-a3676d90b3b1  ...                260\n",
              "\n",
              "[1 rows x 31 columns]"
            ]
          },
          "metadata": {
            "tags": []
          },
          "execution_count": 20
        }
      ]
    },
    {
      "cell_type": "code",
      "metadata": {
        "id": "_b5hfx8qP49G",
        "colab": {
          "base_uri": "https://localhost:8080/"
        },
        "outputId": "eca380be-785e-4be2-ca48-63a79a2d0a6b"
      },
      "source": [
        "!date"
      ],
      "execution_count": null,
      "outputs": [
        {
          "output_type": "stream",
          "text": [
            "Thu May 20 23:02:00 UTC 2021\n"
          ],
          "name": "stdout"
        }
      ]
    }
  ]
}