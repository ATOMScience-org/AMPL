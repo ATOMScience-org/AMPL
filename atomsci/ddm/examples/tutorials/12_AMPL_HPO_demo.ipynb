{
  "nbformat": 4,
  "nbformat_minor": 0,
  "metadata": {
    "colab": {
      "name": "12_AMPL_HPO_demo.ipynb",
      "provenance": [],
      "collapsed_sections": [],
      "machine_shape": "hm",
      "include_colab_link": true
    },
    "kernelspec": {
      "name": "python3",
      "display_name": "Python 3"
    },
    "accelerator": "GPU"
  },
  "cells": [
    {
      "cell_type": "markdown",
      "metadata": {
        "id": "view-in-github",
        "colab_type": "text"
      },
      "source": [
        "<a href=\"https://colab.research.google.com/github/ATOMconsortium/AMPL/blob/Tutorials/atomsci/ddm/examples/tutorials/12_AMPL_HPO_demo.ipynb\" target=\"_parent\"><img src=\"https://colab.research.google.com/assets/colab-badge.svg\" alt=\"Open In Colab\"/></a>"
      ]
    },
    {
      "cell_type": "markdown",
      "metadata": {
        "id": "BkwPgkYKIb8r"
      },
      "source": [
        "# Hyperparameter Optimization using AMPL "
      ]
    },
    {
      "cell_type": "markdown",
      "metadata": {
        "id": "gg0kE2IRIlNI"
      },
      "source": [
        "# Time to run the notebook: ~ 3 minutes"
      ]
    },
    {
      "cell_type": "markdown",
      "metadata": {
        "id": "SZ70ierx3pq2"
      },
      "source": [
        "### Install AMPL packages"
      ]
    },
    {
      "cell_type": "code",
      "metadata": {
        "id": "nNuv4Q5KFABw"
      },
      "source": [
        "!curl -Lo conda_installer.py https://raw.githubusercontent.com/deepchem/deepchem/master/scripts/colab_install.py\n",
        "import conda_installer\n",
        "conda_installer.install()\n",
        "!/root/miniconda/bin/conda info -e\n",
        "\n",
        "!pip install deepchem-nightly\n",
        "\n",
        "import deepchem\n",
        "deepchem.__version__\n",
        "\n",
        "! pip install umap\n",
        "! pip install llvmlite==0.34.0  --ignore-installed\n",
        "! pip install umap-learn\n",
        "! pip install molvs\n",
        "! pip install bravado"
      ],
      "execution_count": null,
      "outputs": []
    },
    {
      "cell_type": "code",
      "metadata": {
        "id": "yS2DjAnF9y49"
      },
      "source": [
        "import deepchem as dc\n",
        "\n",
        "# get the Install AMPL_GPU_test.sh\n",
        "!wget https://raw.githubusercontent.com/ravichas/AMPL-Tutorial/master/config/install_AMPL_GPU_test.sh\n",
        "\n",
        "# run the script to install AMPL\n",
        "! chmod u+x install_AMPL_GPU_test.sh\n",
        "! ./install_AMPL_GPU_test.sh"
      ],
      "execution_count": null,
      "outputs": []
    },
    {
      "cell_type": "code",
      "metadata": {
        "id": "InUQE4II1noi",
        "colab": {
          "base_uri": "https://localhost:8080/"
        },
        "outputId": "ee3b8af0-21c2-4b47-d490-278b0d39ff08"
      },
      "source": [
        "!wget https://raw.githubusercontent.com/ravichas/AMPL-Tutorial/master/datasets/H1_std.csv"
      ],
      "execution_count": null,
      "outputs": [
        {
          "output_type": "stream",
          "text": [
            "--2021-05-20 23:39:33--  https://raw.githubusercontent.com/ravichas/AMPL-Tutorial/master/datasets/H1_std.csv\n",
            "Resolving raw.githubusercontent.com (raw.githubusercontent.com)... 185.199.108.133, 185.199.109.133, 185.199.110.133, ...\n",
            "Connecting to raw.githubusercontent.com (raw.githubusercontent.com)|185.199.108.133|:443... connected.\n",
            "HTTP request sent, awaiting response... 200 OK\n",
            "Length: 136759 (134K) [text/plain]\n",
            "Saving to: ‘H1_std.csv’\n",
            "\n",
            "H1_std.csv          100%[===================>] 133.55K  --.-KB/s    in 0.008s  \n",
            "\n",
            "2021-05-20 23:39:34 (15.6 MB/s) - ‘H1_std.csv’ saved [136759/136759]\n",
            "\n"
          ],
          "name": "stdout"
        }
      ]
    },
    {
      "cell_type": "code",
      "metadata": {
        "id": "2PO0-2HKvVpn"
      },
      "source": [
        "!pip install hyperopt"
      ],
      "execution_count": null,
      "outputs": []
    },
    {
      "cell_type": "markdown",
      "metadata": {
        "id": "mTOwqhvR3xL3"
      },
      "source": [
        "### Load packages and dataset"
      ]
    },
    {
      "cell_type": "code",
      "metadata": {
        "id": "EeN9kEMO2R9Z"
      },
      "source": [
        "import matplotlib.pyplot as plt\n",
        "import seaborn as sns\n",
        "import numpy as np\n",
        "sns.set_context(\"poster\")\n",
        "sns.set_style(\"whitegrid\")\n",
        "sns.set_palette(\"Set2\")\n",
        "\n",
        "import pandas as pd\n",
        "import os, json, sys, glob, pickle\n",
        "\n",
        "from atomsci.ddm.pipeline import model_pipeline as mp\n",
        "from atomsci.ddm.pipeline import parameter_parser as parse\n",
        "from atomsci.ddm.pipeline import perf_data\n",
        "\n",
        "from hyperopt import fmin, tpe, hp, Trials, STATUS_OK"
      ],
      "execution_count": null,
      "outputs": []
    },
    {
      "cell_type": "code",
      "metadata": {
        "id": "C5J-cJNz2V5w"
      },
      "source": [
        "h1 = pd.read_csv(\"H1_std.csv\")"
      ],
      "execution_count": null,
      "outputs": []
    },
    {
      "cell_type": "code",
      "metadata": {
        "id": "v_fQuS473N1M",
        "colab": {
          "base_uri": "https://localhost:8080/",
          "height": 417
        },
        "outputId": "310aae9a-3cd1-419f-b3b6-1c36fc759b10"
      },
      "source": [
        "h1"
      ],
      "execution_count": null,
      "outputs": [
        {
          "output_type": "execute_result",
          "data": {
            "text/html": [
              "<div>\n",
              "<style scoped>\n",
              "    .dataframe tbody tr th:only-of-type {\n",
              "        vertical-align: middle;\n",
              "    }\n",
              "\n",
              "    .dataframe tbody tr th {\n",
              "        vertical-align: top;\n",
              "    }\n",
              "\n",
              "    .dataframe thead th {\n",
              "        text-align: right;\n",
              "    }\n",
              "</style>\n",
              "<table border=\"1\" class=\"dataframe\">\n",
              "  <thead>\n",
              "    <tr style=\"text-align: right;\">\n",
              "      <th></th>\n",
              "      <th>rdkit_smiles</th>\n",
              "      <th>compound_id</th>\n",
              "      <th>NofA</th>\n",
              "      <th>pKi_mean</th>\n",
              "      <th>pKi_std</th>\n",
              "    </tr>\n",
              "  </thead>\n",
              "  <tbody>\n",
              "    <tr>\n",
              "      <th>0</th>\n",
              "      <td>C(#Cc1c2c(nc3ccccc13)CCCCC2)CCN1CCCCC1</td>\n",
              "      <td>CHEMBL66660</td>\n",
              "      <td>1</td>\n",
              "      <td>4.803188</td>\n",
              "      <td>0.471982</td>\n",
              "    </tr>\n",
              "    <tr>\n",
              "      <th>1</th>\n",
              "      <td>C(#Cc1cccc(CN2CCOCC2)c1)CCN1CCCCC1</td>\n",
              "      <td>CHEMBL237087</td>\n",
              "      <td>1</td>\n",
              "      <td>5.000000</td>\n",
              "      <td>0.181920</td>\n",
              "    </tr>\n",
              "    <tr>\n",
              "      <th>2</th>\n",
              "      <td>C(=C/c1ccccc1)\\CN1CCN(C(c2ccccc2)c2ccccc2)CC1</td>\n",
              "      <td>CHEMBL43064</td>\n",
              "      <td>1</td>\n",
              "      <td>8.064392</td>\n",
              "      <td>0.163978</td>\n",
              "    </tr>\n",
              "    <tr>\n",
              "      <th>3</th>\n",
              "      <td>C/C=C/C(=O)N1CCC(=C2c3ccc(Cl)cc3CCc3cccnc32)CC1</td>\n",
              "      <td>CHEMBL3357041</td>\n",
              "      <td>1</td>\n",
              "      <td>6.815309</td>\n",
              "      <td>0.095668</td>\n",
              "    </tr>\n",
              "    <tr>\n",
              "      <th>4</th>\n",
              "      <td>C1=C(CCN2CCc3ccccc3C2)CCc2ccccc21</td>\n",
              "      <td>CHEMBL3970994</td>\n",
              "      <td>2</td>\n",
              "      <td>5.841272</td>\n",
              "      <td>0.001272</td>\n",
              "    </tr>\n",
              "    <tr>\n",
              "      <th>...</th>\n",
              "      <td>...</td>\n",
              "      <td>...</td>\n",
              "      <td>...</td>\n",
              "      <td>...</td>\n",
              "      <td>...</td>\n",
              "    </tr>\n",
              "    <tr>\n",
              "      <th>1353</th>\n",
              "      <td>c1cnc(N2CCN(CCCc3nc4ccccc4s3)CC2)nc1</td>\n",
              "      <td>CHEMBL3289656</td>\n",
              "      <td>2</td>\n",
              "      <td>6.138337</td>\n",
              "      <td>0.001660</td>\n",
              "    </tr>\n",
              "    <tr>\n",
              "      <th>1354</th>\n",
              "      <td>c1cnc2c(N3CCN(CCCCc4ccc(OCCCN5CCCCCC5)cc4)CC3)...</td>\n",
              "      <td>CHEMBL3893197</td>\n",
              "      <td>1</td>\n",
              "      <td>7.799971</td>\n",
              "      <td>0.408169</td>\n",
              "    </tr>\n",
              "    <tr>\n",
              "      <th>1355</th>\n",
              "      <td>c1cnc2c(N3CCN(CCCc4ccc(OCCCN5CCCCCC5)cc4)CC3)c...</td>\n",
              "      <td>CHEMBL3921827</td>\n",
              "      <td>1</td>\n",
              "      <td>7.100015</td>\n",
              "      <td>0.408169</td>\n",
              "    </tr>\n",
              "    <tr>\n",
              "      <th>1356</th>\n",
              "      <td>c1cnc2c(N3CCN(CCc4ccc(OCCCN5CCCCCC5)cc4)CC3)cc...</td>\n",
              "      <td>CHEMBL3947980</td>\n",
              "      <td>1</td>\n",
              "      <td>7.700057</td>\n",
              "      <td>0.408169</td>\n",
              "    </tr>\n",
              "    <tr>\n",
              "      <th>1357</th>\n",
              "      <td>c1cnc2c(c1)cc([C@@H]1CCCO1)n2CCN1CCCCC1</td>\n",
              "      <td>CHEMBL3557423</td>\n",
              "      <td>1</td>\n",
              "      <td>5.750000</td>\n",
              "      <td>0.181920</td>\n",
              "    </tr>\n",
              "  </tbody>\n",
              "</table>\n",
              "<p>1358 rows × 5 columns</p>\n",
              "</div>"
            ],
            "text/plain": [
              "                                           rdkit_smiles  ...   pKi_std\n",
              "0                C(#Cc1c2c(nc3ccccc13)CCCCC2)CCN1CCCCC1  ...  0.471982\n",
              "1                    C(#Cc1cccc(CN2CCOCC2)c1)CCN1CCCCC1  ...  0.181920\n",
              "2         C(=C/c1ccccc1)\\CN1CCN(C(c2ccccc2)c2ccccc2)CC1  ...  0.163978\n",
              "3       C/C=C/C(=O)N1CCC(=C2c3ccc(Cl)cc3CCc3cccnc32)CC1  ...  0.095668\n",
              "4                     C1=C(CCN2CCc3ccccc3C2)CCc2ccccc21  ...  0.001272\n",
              "...                                                 ...  ...       ...\n",
              "1353               c1cnc(N2CCN(CCCc3nc4ccccc4s3)CC2)nc1  ...  0.001660\n",
              "1354  c1cnc2c(N3CCN(CCCCc4ccc(OCCCN5CCCCCC5)cc4)CC3)...  ...  0.408169\n",
              "1355  c1cnc2c(N3CCN(CCCc4ccc(OCCCN5CCCCCC5)cc4)CC3)c...  ...  0.408169\n",
              "1356  c1cnc2c(N3CCN(CCc4ccc(OCCCN5CCCCCC5)cc4)CC3)cc...  ...  0.408169\n",
              "1357            c1cnc2c(c1)cc([C@@H]1CCCO1)n2CCN1CCCCC1  ...  0.181920\n",
              "\n",
              "[1358 rows x 5 columns]"
            ]
          },
          "metadata": {
            "tags": []
          },
          "execution_count": 7
        }
      ]
    },
    {
      "cell_type": "markdown",
      "metadata": {
        "id": "XA8ARleo3h53"
      },
      "source": [
        "### Split the dataset"
      ]
    },
    {
      "cell_type": "code",
      "metadata": {
        "id": "1eQC31_fA2wD",
        "colab": {
          "base_uri": "https://localhost:8080/"
        },
        "outputId": "769a444b-7070-42f8-921e-a77caf146fee"
      },
      "source": [
        "train_file = \"H1_std.csv\"\n",
        "response_col = \"pKi_mean\"\n",
        "compound_id = \"compound_id\"\n",
        "smiles_col = \"rdkit_smiles\"\n",
        "\n",
        "params = {\n",
        "        \"system\": \"LC\",\n",
        "        \"lc_account\": 'None',\n",
        "        \"datastore\": \"False\",\n",
        "        \"save_results\": \"False\",\n",
        "        \"data_owner\": \"username\",\n",
        "        \"prediction_type\": \"regression\",\n",
        "        \"dataset_key\": train_file,\n",
        "        \"id_col\": compound_id,\n",
        "        \"smiles_col\": smiles_col,\n",
        "        \"response_cols\": response_col,\n",
        "        \"previously_split\": \"False\",\n",
        "        \"split_only\": \"True\",\n",
        "        \"featurizer\": \"ecfp\",\n",
        "        \"model_type\": \"RF\",\n",
        "        \"verbose\": \"True\",\n",
        "        \"transformers\": \"True\",\n",
        "        'max_epochs': '70',\n",
        "        \"rerun\": \"False\",\n",
        "        \"result_dir\": \"split\"\n",
        "    }\n",
        "\n",
        "ampl_param = parse.wrapper(params)\n",
        "pl = mp.ModelPipeline(ampl_param)\n",
        "pl.train_model()"
      ],
      "execution_count": null,
      "outputs": [
        {
          "output_type": "stream",
          "text": [
            "2021-05-20 23:39:44,664 Splitting data by scaffold\n"
          ],
          "name": "stderr"
        },
        {
          "output_type": "stream",
          "text": [
            "number of features: 1024\n"
          ],
          "name": "stdout"
        },
        {
          "output_type": "stream",
          "text": [
            "2021-05-20 23:39:45,192 Dataset split table saved to /H1_std_train_valid_test_scaffold_47a94536-988a-4f22-b0e4-99ad7c69ee82.csv\n"
          ],
          "name": "stderr"
        }
      ]
    },
    {
      "cell_type": "markdown",
      "metadata": {
        "id": "xSdgxZNU43TM"
      },
      "source": [
        "### Train an initial model"
      ]
    },
    {
      "cell_type": "code",
      "metadata": {
        "id": "IjhIVGpJ42eE"
      },
      "source": [
        "listing = glob.glob(os.path.join(\"/\", \"H1_std_train_valid_test_scaffold_*\"))\n",
        "name = listing[0]\n",
        "split_uuid = name.split(\"_\")[-1].split(\".\")[0]\n",
        "response_col = \"pKi_mean\"\n",
        "\n",
        "params = {\n",
        "        \"system\": \"LC\",\n",
        "        \"lc_account\": 'None',\n",
        "        \"datastore\": \"False\",\n",
        "        \"save_results\": \"False\",\n",
        "        \"data_owner\": \"username\",\n",
        "        \"prediction_type\": \"regression\",\n",
        "        \"dataset_key\": train_file,\n",
        "        \"id_col\": compound_id,\n",
        "        \"smiles_col\": smiles_col,\n",
        "        \"response_cols\": response_col,\n",
        "        \"split_uuid\": split_uuid,\n",
        "        \"previously_split\": \"True\",\n",
        "        \"featurizer\": \"ecfp\",\n",
        "        \"model_type\": \"RF\",\n",
        "        \"verbose\": \"True\",\n",
        "        \"transformers\": \"True\",\n",
        "        'max_epochs': '70',\n",
        "        \"rerun\": \"False\",\n",
        "        \"result_dir\": \"ampl_output\"\n",
        "    }"
      ],
      "execution_count": null,
      "outputs": []
    },
    {
      "cell_type": "code",
      "metadata": {
        "id": "qjbLbmri5Rhl",
        "colab": {
          "base_uri": "https://localhost:8080/"
        },
        "outputId": "5b38b253-1a85-47f4-b8cd-80bebd3883f9"
      },
      "source": [
        "ampl_param = parse.wrapper(params)\n",
        "pl = mp.ModelPipeline(ampl_param)\n",
        "pl.train_model()"
      ],
      "execution_count": null,
      "outputs": [
        {
          "output_type": "stream",
          "text": [
            "2021-05-20 23:39:52,022 Previous dataset split restored\n"
          ],
          "name": "stderr"
        },
        {
          "output_type": "stream",
          "text": [
            "number of features: 1024\n"
          ],
          "name": "stdout"
        },
        {
          "output_type": "stream",
          "text": [
            "2021-05-20 23:39:54,690 Wrote model metadata to file ampl_output/H1_std/RF_ecfp_scaffold_regression/ac24461c-0df8-4e34-8e08-3d194fc86136/model_metadata.json\n",
            "2021-05-20 23:39:55,081 Wrote model metrics to file ampl_output/H1_std/RF_ecfp_scaffold_regression/ac24461c-0df8-4e34-8e08-3d194fc86136/model_metrics.json\n"
          ],
          "name": "stderr"
        },
        {
          "output_type": "stream",
          "text": [
            "Wrote model tarball to ampl_output/H1_std_model_ac24461c-0df8-4e34-8e08-3d194fc86136.tar.gz\n"
          ],
          "name": "stdout"
        }
      ]
    },
    {
      "cell_type": "code",
      "metadata": {
        "id": "ol3jooPm5Yd0",
        "colab": {
          "base_uri": "https://localhost:8080/"
        },
        "outputId": "dcd7368f-cda5-44ed-8c70-69d77d148d64"
      },
      "source": [
        "pred_data = pl.model_wrapper.get_perf_data(subset=\"valid\", epoch_label=\"best\")\n",
        "pred_results = pred_data.get_prediction_results()\n",
        "print(f\"R2 score of validation set: {pred_results['r2_score']:.3f}\")"
      ],
      "execution_count": null,
      "outputs": [
        {
          "output_type": "stream",
          "text": [
            "R2 score of validation set: 0.444\n"
          ],
          "name": "stdout"
        }
      ]
    },
    {
      "cell_type": "markdown",
      "metadata": {
        "id": "vJ2mT3kfi_ed"
      },
      "source": [
        "### Train an model with uncertainty prediction"
      ]
    },
    {
      "cell_type": "code",
      "metadata": {
        "id": "WKUZYCUDi_en"
      },
      "source": [
        "listing = glob.glob(os.path.join(\"/\", \"H1_std_train_valid_test_scaffold_*\"))\n",
        "name = listing[0]\n",
        "split_uuid = name.split(\"_\")[-1].split(\".\")[0]\n",
        "response_col = \"pKi_mean\"\n",
        "\n",
        "params = {\n",
        "        \"system\": \"LC\",\n",
        "        \"lc_account\": 'None',\n",
        "        \"datastore\": \"False\",\n",
        "        \"save_results\": \"False\",\n",
        "        \"data_owner\": \"username\",\n",
        "        \"prediction_type\": \"regression\",\n",
        "        \"dataset_key\": train_file,\n",
        "        \"id_col\": compound_id,\n",
        "        \"smiles_col\": smiles_col,\n",
        "        \"response_cols\": response_col,\n",
        "        \"split_uuid\": split_uuid,\n",
        "        \"previously_split\": \"True\",\n",
        "        \"featurizer\": \"ecfp\",\n",
        "        \"model_type\": \"RF\",\n",
        "        \"verbose\": \"True\",\n",
        "        \"transformers\": \"True\",\n",
        "        'max_epochs': '70',\n",
        "        \"rerun\": \"False\",\n",
        "        \"result_dir\": \"ampl_output\",\n",
        "        \"uncertainty\": \"True\"\n",
        "    }"
      ],
      "execution_count": null,
      "outputs": []
    },
    {
      "cell_type": "code",
      "metadata": {
        "id": "zwSTjKBei_eo",
        "colab": {
          "base_uri": "https://localhost:8080/"
        },
        "outputId": "a99fb8ff-73ec-4a69-93ec-346e04d5cded"
      },
      "source": [
        "ampl_param = parse.wrapper(params)\n",
        "pl = mp.ModelPipeline(ampl_param)\n",
        "pl.train_model()"
      ],
      "execution_count": null,
      "outputs": [
        {
          "output_type": "stream",
          "text": [
            "2021-05-20 23:40:01,977 Previous dataset split restored\n"
          ],
          "name": "stderr"
        },
        {
          "output_type": "stream",
          "text": [
            "number of features: 1024\n"
          ],
          "name": "stdout"
        },
        {
          "output_type": "stream",
          "text": [
            "2021-05-20 23:40:04,646 Wrote model metadata to file ampl_output/H1_std/RF_ecfp_scaffold_regression/615c189d-3bd3-407e-b3c1-154225db72ac/model_metadata.json\n",
            "2021-05-20 23:40:05,037 Wrote model metrics to file ampl_output/H1_std/RF_ecfp_scaffold_regression/615c189d-3bd3-407e-b3c1-154225db72ac/model_metrics.json\n"
          ],
          "name": "stderr"
        },
        {
          "output_type": "stream",
          "text": [
            "Wrote model tarball to ampl_output/H1_std_model_615c189d-3bd3-407e-b3c1-154225db72ac.tar.gz\n"
          ],
          "name": "stdout"
        }
      ]
    },
    {
      "cell_type": "code",
      "metadata": {
        "id": "wy8fLhm9i_eo",
        "colab": {
          "base_uri": "https://localhost:8080/"
        },
        "outputId": "4d99a74c-49ea-4793-86bd-0e68f42bb7b2"
      },
      "source": [
        "pred_data = pl.model_wrapper.get_perf_data(subset=\"valid\", epoch_label=\"best\")\n",
        "pred_results = pred_data.get_prediction_results()\n",
        "print(f\"R2 score of validation set: {pred_results['r2_score']:.3f}\")"
      ],
      "execution_count": null,
      "outputs": [
        {
          "output_type": "stream",
          "text": [
            "R2 score of validation set: 0.449\n"
          ],
          "name": "stdout"
        }
      ]
    },
    {
      "cell_type": "code",
      "metadata": {
        "id": "wnaag-HhjY-X",
        "colab": {
          "base_uri": "https://localhost:8080/"
        },
        "outputId": "0fcf892a-f39a-496b-d440-bb549651c71e"
      },
      "source": [
        "pred_df = pl.predict_on_dataframe(h1)\n",
        "pred_df = pred_df.merge(h1[[\"rdkit_smiles\", \"pKi_mean\"]], on=\"rdkit_smiles\")\n",
        "pred_df = pred_df.assign(pred_error=pred_df.pKi_mean-pred_df.pred)"
      ],
      "execution_count": null,
      "outputs": [
        {
          "output_type": "stream",
          "text": [
            "2021-05-20 23:40:05,053 Featurizing data...\n",
            "2021-05-20 23:40:11,851 Done\n"
          ],
          "name": "stderr"
        },
        {
          "output_type": "stream",
          "text": [
            "number of features: 1024\n"
          ],
          "name": "stdout"
        }
      ]
    },
    {
      "cell_type": "code",
      "metadata": {
        "id": "h4dHK5omm0YJ",
        "colab": {
          "base_uri": "https://localhost:8080/",
          "height": 546
        },
        "outputId": "e8f317a9-d957-47cb-b101-ea9197c1bb49"
      },
      "source": [
        "fig, ax = plt.subplots(1,1,figsize=(8,8))\n",
        "sns.scatterplot(data=pred_df, x=\"std\", y=\"pred_error\", ax=ax)"
      ],
      "execution_count": null,
      "outputs": [
        {
          "output_type": "execute_result",
          "data": {
            "text/plain": [
              "<matplotlib.axes._subplots.AxesSubplot at 0x7f2e0307bad0>"
            ]
          },
          "metadata": {
            "tags": []
          },
          "execution_count": 16
        },
        {
          "output_type": "display_data",
          "data": {
            "image/png": "[encoded data removed]",
            "text/plain": [
              "<Figure size 576x576 with 1 Axes>"
            ]
          },
          "metadata": {
            "tags": []
          }
        }
      ]
    },
    {
      "cell_type": "markdown",
      "metadata": {
        "id": "pKP_mFuB5giz"
      },
      "source": [
        "### Grid search\n",
        "#### Tunable parameters for Random Forest models\n",
        "- rf_estimators: number of estimators to use in random forest models\n",
        "- rf_max_depth: the maximum depth of a decision tree in the random forest\n",
        "- rf_max_features: max number of features to split random forest nodes"
      ]
    },
    {
      "cell_type": "markdown",
      "metadata": {
        "id": "3FFnpPw1PWqx"
      },
      "source": [
        "## Time for running the following code chunk: ~ 10 minutes on COLAB-Pro"
      ]
    },
    {
      "cell_type": "code",
      "metadata": {
        "id": "i6FBeUGh5mGJ"
      },
      "source": [
        "param_choice = [16,32,64,128]\n",
        "\n",
        "rfe_list = []\n",
        "rfd_list = []\n",
        "rff_list = []\n",
        "valid_r2_list = []\n",
        "for rf_estimator in param_choice:\n",
        "    for rf_depth in param_choice:\n",
        "        for rf_feature in param_choice:\n",
        "            params[\"rf_estimators\"] = rf_estimator\n",
        "            params[\"rf_max_depth\"] = rf_depth\n",
        "            params[\"rf_max_features\"] = rf_feature\n",
        "            rfe_list.append(rf_estimator)\n",
        "            rfd_list.append(rf_depth)\n",
        "            rff_list.append(rf_feature)\n",
        "            tp = parse.wrapper(params)\n",
        "            pl = mp.ModelPipeline(tp)\n",
        "            pl.train_model()\n",
        "            pred_data = pl.model_wrapper.get_perf_data(subset=\"valid\", epoch_label=\"best\")\n",
        "            pred_results = pred_data.get_prediction_results()\n",
        "            valid_r2 = pred_results['r2_score']\n",
        "            valid_r2_list.append(valid_r2)\n",
        "            print(f\"rf_estimators: {rf_estimator}, rf_max_depth: {rf_depth}, rf_max_features: {rf_feature}, valid_r2: {valid_r2}\")"
      ],
      "execution_count": null,
      "outputs": []
    },
    {
      "cell_type": "markdown",
      "metadata": {
        "id": "NmzppbsRPtG9"
      },
      "source": [
        "# You will see output such as shown below:\n",
        "\n",
        "```\n",
        "2021-05-20 23:40:21,639 Previous dataset split restored\n",
        "number of features: 1024\n",
        "2021-05-20 23:40:22,145 Wrote model metadata to file ampl_output/H1_std/RF_ecfp_scaffold_regression/d14c9db0-5aec-4326-8b66-ebd60454786b/model_metadata.json\n",
        "2021-05-20 23:40:22,159 Wrote model metrics to file ampl_output/H1_std/RF_ecfp_scaffold_regression/d14c9db0-5aec-4326-8b66-ebd60454786b/model_metrics.json\n",
        "Wrote model tarball to ampl_output/H1_std_model_d14c9db0-5aec-4326-8b66-ebd60454786b.tar.gz\n",
        "rf_estimators: 16, rf_max_depth: 16, rf_max_features: 16, valid_r2: 0.3960169267773953\n",
        "......\n",
        ".......\n",
        "\n",
        "2021-05-20 23:48:22,091 Wrote model metadata to file ampl_output/H1_std/RF_ecfp_scaffold_regression/1010b739-7736-4505-99c4-ba50b33d90df/model_metadata.json\n",
        "2021-05-20 23:48:22,193 Wrote model metrics to file ampl_output/H1_std/RF_ecfp_scaffold_regression/1010b739-7736-4505-99c4-ba50b33d90df/model_metrics.json\n",
        "Wrote model tarball to ampl_output/H1_std_model_1010b739-7736-4505-99c4-ba50b33d90df.tar.gz\n",
        "rf_estimators: 128, rf_max_depth: 128, rf_max_features: 128, valid_r2: 0.4739461661466364\n",
        "\n",
        "```\n",
        "\n"
      ]
    },
    {
      "cell_type": "code",
      "metadata": {
        "id": "XSDa2HTH6wbD",
        "colab": {
          "base_uri": "https://localhost:8080/",
          "height": 417
        },
        "outputId": "adcf763c-8548-4c4d-e743-90da1c899ba3"
      },
      "source": [
        "perf_df = pd.DataFrame({\"rf_estimators\": rfe_list, \"rf_max_depth\": rfd_list, \"rf_max_features\": rff_list, \"valid_r2_score\": valid_r2_list})\n",
        "perf_df.sort_values(by=\"valid_r2_score\", ascending=False)"
      ],
      "execution_count": null,
      "outputs": [
        {
          "output_type": "execute_result",
          "data": {
            "text/html": [
              "<div>\n",
              "<style scoped>\n",
              "    .dataframe tbody tr th:only-of-type {\n",
              "        vertical-align: middle;\n",
              "    }\n",
              "\n",
              "    .dataframe tbody tr th {\n",
              "        vertical-align: top;\n",
              "    }\n",
              "\n",
              "    .dataframe thead th {\n",
              "        text-align: right;\n",
              "    }\n",
              "</style>\n",
              "<table border=\"1\" class=\"dataframe\">\n",
              "  <thead>\n",
              "    <tr style=\"text-align: right;\">\n",
              "      <th></th>\n",
              "      <th>rf_estimators</th>\n",
              "      <th>rf_max_depth</th>\n",
              "      <th>rf_max_features</th>\n",
              "      <th>valid_r2_score</th>\n",
              "    </tr>\n",
              "  </thead>\n",
              "  <tbody>\n",
              "    <tr>\n",
              "      <th>55</th>\n",
              "      <td>128</td>\n",
              "      <td>32</td>\n",
              "      <td>128</td>\n",
              "      <td>0.478960</td>\n",
              "    </tr>\n",
              "    <tr>\n",
              "      <th>63</th>\n",
              "      <td>128</td>\n",
              "      <td>128</td>\n",
              "      <td>128</td>\n",
              "      <td>0.473946</td>\n",
              "    </tr>\n",
              "    <tr>\n",
              "      <th>19</th>\n",
              "      <td>32</td>\n",
              "      <td>16</td>\n",
              "      <td>128</td>\n",
              "      <td>0.470190</td>\n",
              "    </tr>\n",
              "    <tr>\n",
              "      <th>11</th>\n",
              "      <td>16</td>\n",
              "      <td>64</td>\n",
              "      <td>128</td>\n",
              "      <td>0.468356</td>\n",
              "    </tr>\n",
              "    <tr>\n",
              "      <th>23</th>\n",
              "      <td>32</td>\n",
              "      <td>32</td>\n",
              "      <td>128</td>\n",
              "      <td>0.461676</td>\n",
              "    </tr>\n",
              "    <tr>\n",
              "      <th>...</th>\n",
              "      <td>...</td>\n",
              "      <td>...</td>\n",
              "      <td>...</td>\n",
              "      <td>...</td>\n",
              "    </tr>\n",
              "    <tr>\n",
              "      <th>32</th>\n",
              "      <td>64</td>\n",
              "      <td>16</td>\n",
              "      <td>16</td>\n",
              "      <td>0.352474</td>\n",
              "    </tr>\n",
              "    <tr>\n",
              "      <th>1</th>\n",
              "      <td>16</td>\n",
              "      <td>16</td>\n",
              "      <td>32</td>\n",
              "      <td>0.350530</td>\n",
              "    </tr>\n",
              "    <tr>\n",
              "      <th>4</th>\n",
              "      <td>16</td>\n",
              "      <td>32</td>\n",
              "      <td>16</td>\n",
              "      <td>0.341084</td>\n",
              "    </tr>\n",
              "    <tr>\n",
              "      <th>12</th>\n",
              "      <td>16</td>\n",
              "      <td>128</td>\n",
              "      <td>16</td>\n",
              "      <td>0.325659</td>\n",
              "    </tr>\n",
              "    <tr>\n",
              "      <th>16</th>\n",
              "      <td>32</td>\n",
              "      <td>16</td>\n",
              "      <td>16</td>\n",
              "      <td>0.323615</td>\n",
              "    </tr>\n",
              "  </tbody>\n",
              "</table>\n",
              "<p>64 rows × 4 columns</p>\n",
              "</div>"
            ],
            "text/plain": [
              "    rf_estimators  rf_max_depth  rf_max_features  valid_r2_score\n",
              "55            128            32              128        0.478960\n",
              "63            128           128              128        0.473946\n",
              "19             32            16              128        0.470190\n",
              "11             16            64              128        0.468356\n",
              "23             32            32              128        0.461676\n",
              "..            ...           ...              ...             ...\n",
              "32             64            16               16        0.352474\n",
              "1              16            16               32        0.350530\n",
              "4              16            32               16        0.341084\n",
              "12             16           128               16        0.325659\n",
              "16             32            16               16        0.323615\n",
              "\n",
              "[64 rows x 4 columns]"
            ]
          },
          "metadata": {
            "tags": []
          },
          "execution_count": 18
        }
      ]
    },
    {
      "cell_type": "code",
      "metadata": {
        "id": "9bVXltSu6z0f",
        "colab": {
          "base_uri": "https://localhost:8080/",
          "height": 483
        },
        "outputId": "38245620-461e-4723-881d-db4d5e5971b3"
      },
      "source": [
        "fig, ax = plt.subplots(1,3,figsize=(21,7))\n",
        "sns.boxplot(data=perf_df, x=\"rf_estimators\", y=\"valid_r2_score\", ax=ax[0])\n",
        "sns.boxplot(data=perf_df, x=\"rf_max_depth\", y=\"valid_r2_score\", ax=ax[1])\n",
        "sns.boxplot(data=perf_df, x=\"rf_max_features\", y=\"valid_r2_score\", ax=ax[2])\n",
        "fig.tight_layout()"
      ],
      "execution_count": null,
      "outputs": [
        {
          "output_type": "display_data",
          "data": {
            "image/png": "[encoded data removed]",
            "text/plain": [
              "<Figure size 1512x504 with 3 Axes>"
            ]
          },
          "metadata": {
            "tags": []
          }
        }
      ]
    },
    {
      "cell_type": "markdown",
      "metadata": {
        "id": "AHNcKhLVRVpp"
      },
      "source": [
        "## Time for running the following code chunk: ~ 10 minutes on COLAB-Pro"
      ]
    },
    {
      "cell_type": "markdown",
      "metadata": {
        "id": "qpAq__JA61wy"
      },
      "source": [
        "### Random search"
      ]
    },
    {
      "cell_type": "code",
      "metadata": {
        "id": "LMNkU4rs648c"
      },
      "source": [
        "rfe_list = []\n",
        "rfd_list = []\n",
        "rff_list = []\n",
        "valid_r2_list = []\n",
        "\n",
        "num_trials = 50\n",
        "\n",
        "for i in range(num_trials):\n",
        "    params[\"rf_estimators\"] = np.random.randint(8,256)\n",
        "    params[\"rf_max_depth\"] = np.random.randint(8,256)\n",
        "    params[\"rf_max_features\"] = np.random.randint(8,256)\n",
        "    rfe_list.append(params[\"rf_estimators\"])\n",
        "    rfd_list.append(params[\"rf_max_depth\"])\n",
        "    rff_list.append(params[\"rf_max_features\"])\n",
        "    tp = parse.wrapper(params)\n",
        "    pl = mp.ModelPipeline(tp)\n",
        "    pl.train_model()\n",
        "    pred_data = pl.model_wrapper.get_perf_data(subset=\"valid\", epoch_label=\"best\")\n",
        "    pred_results = pred_data.get_prediction_results()\n",
        "    valid_r2 = pred_results['r2_score']\n",
        "    valid_r2_list.append(valid_r2)\n",
        "    print(f\"rf_estimators: {rf_estimator}, rf_max_depth: {rf_depth}, rf_max_features: {rf_feature}, valid_r2: {valid_r2}\")"
      ],
      "execution_count": null,
      "outputs": []
    },
    {
      "cell_type": "markdown",
      "metadata": {
        "id": "u8oGDBsiQt44"
      },
      "source": [
        "## Output from the above code chunk was deleted for clarity. Few lines of output are shown below for information.\n",
        "\n",
        "```\n",
        "021-05-20 23:48:29,932 Previous dataset split restored\n",
        "number of features: 1024\n",
        "2021-05-20 23:48:30,837 Wrote model metadata to file ampl_output/H1_std/RF_ecfp_scaffold_regression/a00e92de-6f13-4304-8fd5-eb2059dc1827/model_metadata.json\n",
        "2021-05-20 23:48:30,891 Wrote model metrics to file ampl_output/H1_std/RF_ecfp_scaffold_regression/a00e92de-6f13-4304-8fd5-eb2059dc1827/model_metrics.json\n",
        "Wrote model tarball to ampl_output/H1_std_model_a00e92de-6f13-4304-8fd5-eb2059dc1827.tar.gz\n",
        "rf_estimators: 128, rf_max_depth: 128, rf_max_features: 128, valid_r2: 0.4531709372933693\n",
        "2021-05-20 23:48:37,728 Previous dataset split restored\n",
        "number of features: 1024\n",
        "2021-05-20 23:48:38,394 Wrote model metadata to file ampl_output/H1_std/RF_ecfp_scaffold_regression/4fe38ff4-f72e-4fcb-8b24-b0ab5f90c38b/model_metadata.json\n",
        "2021-05-20 23:48:38,432 Wrote model metrics to file ampl_output/H1_std/RF_ecfp_scaffold_regression/4fe38ff4-f72e-4fcb-8b24-b0ab5f90c38b/model_metrics.json\n",
        "Wrote model tarball to ampl_output/H1_std_model_4fe38ff4-f72e-4fcb-8b24-b0ab5f90c38b.tar.gz\n",
        "rf_estimators: 128, rf_max_depth: 128, rf_max_features: 128, valid_r2: 0.44850337544269825\n",
        "\n",
        "...\n",
        "....\n",
        "2021-05-20 23:55:05,063 Wrote model metadata to file ampl_output/H1_std/RF_ecfp_scaffold_regression/f2a9f900-e5aa-4b46-bfbe-dbff6dc60ae7/model_metadata.json\n",
        "2021-05-20 23:55:05,158 Wrote model metrics to file ampl_output/H1_std/RF_ecfp_scaffold_regression/f2a9f900-e5aa-4b46-bfbe-dbff6dc60ae7/model_metrics.json\n",
        "Wrote model tarball to ampl_output/H1_std_model_f2a9f900-e5aa-4b46-bfbe-dbff6dc60ae7.tar.gz\n",
        "rf_estimators: 128, rf_max_depth: 128, rf_max_features: 128, valid_r2: 0.4447336201887926\n",
        "2021-05-20 23:55:11,980 Previous dataset split restored\n",
        "number of features: 1024\n",
        "2021-05-20 23:55:13,133 Wrote model metadata to file ampl_output/H1_std/RF_ecfp_scaffold_regression/ac340685-91a5-4864-a351-4a66c6f096b2/model_metadata.json\n",
        "2021-05-20 23:55:13,254 Wrote model metrics to file ampl_output/H1_std/RF_ecfp_scaffold_regression/ac340685-91a5-4864-a351-4a66c6f096b2/model_metrics.json\n",
        "Wrote model tarball to ampl_output/H1_std_model_ac340685-91a5-4864-a351-4a66c6f096b2.tar.gz\n",
        "rf_estimators: 128, rf_max_depth: 128, rf_max_features: 128, valid_r2: 0.47147476253815945\n",
        "```\n",
        "\n"
      ]
    },
    {
      "cell_type": "code",
      "metadata": {
        "id": "EP7Oub5L67o_",
        "colab": {
          "base_uri": "https://localhost:8080/",
          "height": 1000
        },
        "outputId": "1bee3aff-5d73-4095-a71d-92516221de1b"
      },
      "source": [
        "perf_df = pd.DataFrame({\"rf_estimators\": rfe_list, \"rf_max_depth\": rfd_list, \"rf_max_features\": rff_list, \"valid_r2_score\": valid_r2_list})\n",
        "perf_df.sort_values(by=\"valid_r2_score\", ascending=False)"
      ],
      "execution_count": null,
      "outputs": [
        {
          "output_type": "execute_result",
          "data": {
            "text/html": [
              "<div>\n",
              "<style scoped>\n",
              "    .dataframe tbody tr th:only-of-type {\n",
              "        vertical-align: middle;\n",
              "    }\n",
              "\n",
              "    .dataframe tbody tr th {\n",
              "        vertical-align: top;\n",
              "    }\n",
              "\n",
              "    .dataframe thead th {\n",
              "        text-align: right;\n",
              "    }\n",
              "</style>\n",
              "<table border=\"1\" class=\"dataframe\">\n",
              "  <thead>\n",
              "    <tr style=\"text-align: right;\">\n",
              "      <th></th>\n",
              "      <th>rf_estimators</th>\n",
              "      <th>rf_max_depth</th>\n",
              "      <th>rf_max_features</th>\n",
              "      <th>valid_r2_score</th>\n",
              "    </tr>\n",
              "  </thead>\n",
              "  <tbody>\n",
              "    <tr>\n",
              "      <th>41</th>\n",
              "      <td>22</td>\n",
              "      <td>35</td>\n",
              "      <td>252</td>\n",
              "      <td>0.490220</td>\n",
              "    </tr>\n",
              "    <tr>\n",
              "      <th>43</th>\n",
              "      <td>218</td>\n",
              "      <td>233</td>\n",
              "      <td>236</td>\n",
              "      <td>0.478414</td>\n",
              "    </tr>\n",
              "    <tr>\n",
              "      <th>13</th>\n",
              "      <td>222</td>\n",
              "      <td>211</td>\n",
              "      <td>141</td>\n",
              "      <td>0.477369</td>\n",
              "    </tr>\n",
              "    <tr>\n",
              "      <th>2</th>\n",
              "      <td>240</td>\n",
              "      <td>134</td>\n",
              "      <td>247</td>\n",
              "      <td>0.473999</td>\n",
              "    </tr>\n",
              "    <tr>\n",
              "      <th>40</th>\n",
              "      <td>23</td>\n",
              "      <td>248</td>\n",
              "      <td>215</td>\n",
              "      <td>0.472263</td>\n",
              "    </tr>\n",
              "    <tr>\n",
              "      <th>49</th>\n",
              "      <td>152</td>\n",
              "      <td>72</td>\n",
              "      <td>53</td>\n",
              "      <td>0.471475</td>\n",
              "    </tr>\n",
              "    <tr>\n",
              "      <th>6</th>\n",
              "      <td>97</td>\n",
              "      <td>200</td>\n",
              "      <td>127</td>\n",
              "      <td>0.470279</td>\n",
              "    </tr>\n",
              "    <tr>\n",
              "      <th>34</th>\n",
              "      <td>197</td>\n",
              "      <td>85</td>\n",
              "      <td>235</td>\n",
              "      <td>0.469994</td>\n",
              "    </tr>\n",
              "    <tr>\n",
              "      <th>37</th>\n",
              "      <td>11</td>\n",
              "      <td>95</td>\n",
              "      <td>214</td>\n",
              "      <td>0.467105</td>\n",
              "    </tr>\n",
              "    <tr>\n",
              "      <th>27</th>\n",
              "      <td>139</td>\n",
              "      <td>115</td>\n",
              "      <td>134</td>\n",
              "      <td>0.465827</td>\n",
              "    </tr>\n",
              "    <tr>\n",
              "      <th>35</th>\n",
              "      <td>187</td>\n",
              "      <td>199</td>\n",
              "      <td>88</td>\n",
              "      <td>0.465302</td>\n",
              "    </tr>\n",
              "    <tr>\n",
              "      <th>20</th>\n",
              "      <td>195</td>\n",
              "      <td>103</td>\n",
              "      <td>66</td>\n",
              "      <td>0.463845</td>\n",
              "    </tr>\n",
              "    <tr>\n",
              "      <th>21</th>\n",
              "      <td>115</td>\n",
              "      <td>143</td>\n",
              "      <td>53</td>\n",
              "      <td>0.462418</td>\n",
              "    </tr>\n",
              "    <tr>\n",
              "      <th>4</th>\n",
              "      <td>86</td>\n",
              "      <td>165</td>\n",
              "      <td>88</td>\n",
              "      <td>0.461333</td>\n",
              "    </tr>\n",
              "    <tr>\n",
              "      <th>33</th>\n",
              "      <td>251</td>\n",
              "      <td>86</td>\n",
              "      <td>71</td>\n",
              "      <td>0.457644</td>\n",
              "    </tr>\n",
              "    <tr>\n",
              "      <th>32</th>\n",
              "      <td>176</td>\n",
              "      <td>20</td>\n",
              "      <td>174</td>\n",
              "      <td>0.457271</td>\n",
              "    </tr>\n",
              "    <tr>\n",
              "      <th>25</th>\n",
              "      <td>202</td>\n",
              "      <td>241</td>\n",
              "      <td>119</td>\n",
              "      <td>0.456960</td>\n",
              "    </tr>\n",
              "    <tr>\n",
              "      <th>42</th>\n",
              "      <td>207</td>\n",
              "      <td>196</td>\n",
              "      <td>40</td>\n",
              "      <td>0.456194</td>\n",
              "    </tr>\n",
              "    <tr>\n",
              "      <th>30</th>\n",
              "      <td>107</td>\n",
              "      <td>228</td>\n",
              "      <td>185</td>\n",
              "      <td>0.455735</td>\n",
              "    </tr>\n",
              "    <tr>\n",
              "      <th>8</th>\n",
              "      <td>224</td>\n",
              "      <td>152</td>\n",
              "      <td>224</td>\n",
              "      <td>0.455215</td>\n",
              "    </tr>\n",
              "    <tr>\n",
              "      <th>29</th>\n",
              "      <td>236</td>\n",
              "      <td>224</td>\n",
              "      <td>52</td>\n",
              "      <td>0.455184</td>\n",
              "    </tr>\n",
              "    <tr>\n",
              "      <th>36</th>\n",
              "      <td>111</td>\n",
              "      <td>113</td>\n",
              "      <td>141</td>\n",
              "      <td>0.453786</td>\n",
              "    </tr>\n",
              "    <tr>\n",
              "      <th>0</th>\n",
              "      <td>66</td>\n",
              "      <td>58</td>\n",
              "      <td>170</td>\n",
              "      <td>0.453171</td>\n",
              "    </tr>\n",
              "    <tr>\n",
              "      <th>15</th>\n",
              "      <td>92</td>\n",
              "      <td>80</td>\n",
              "      <td>81</td>\n",
              "      <td>0.452498</td>\n",
              "    </tr>\n",
              "    <tr>\n",
              "      <th>16</th>\n",
              "      <td>231</td>\n",
              "      <td>191</td>\n",
              "      <td>46</td>\n",
              "      <td>0.452135</td>\n",
              "    </tr>\n",
              "    <tr>\n",
              "      <th>22</th>\n",
              "      <td>149</td>\n",
              "      <td>32</td>\n",
              "      <td>56</td>\n",
              "      <td>0.451906</td>\n",
              "    </tr>\n",
              "    <tr>\n",
              "      <th>28</th>\n",
              "      <td>17</td>\n",
              "      <td>90</td>\n",
              "      <td>225</td>\n",
              "      <td>0.451400</td>\n",
              "    </tr>\n",
              "    <tr>\n",
              "      <th>24</th>\n",
              "      <td>182</td>\n",
              "      <td>160</td>\n",
              "      <td>117</td>\n",
              "      <td>0.450659</td>\n",
              "    </tr>\n",
              "    <tr>\n",
              "      <th>3</th>\n",
              "      <td>169</td>\n",
              "      <td>98</td>\n",
              "      <td>254</td>\n",
              "      <td>0.449959</td>\n",
              "    </tr>\n",
              "    <tr>\n",
              "      <th>19</th>\n",
              "      <td>245</td>\n",
              "      <td>105</td>\n",
              "      <td>211</td>\n",
              "      <td>0.449268</td>\n",
              "    </tr>\n",
              "    <tr>\n",
              "      <th>9</th>\n",
              "      <td>202</td>\n",
              "      <td>18</td>\n",
              "      <td>114</td>\n",
              "      <td>0.448846</td>\n",
              "    </tr>\n",
              "    <tr>\n",
              "      <th>1</th>\n",
              "      <td>44</td>\n",
              "      <td>212</td>\n",
              "      <td>123</td>\n",
              "      <td>0.448503</td>\n",
              "    </tr>\n",
              "    <tr>\n",
              "      <th>7</th>\n",
              "      <td>253</td>\n",
              "      <td>74</td>\n",
              "      <td>252</td>\n",
              "      <td>0.446033</td>\n",
              "    </tr>\n",
              "    <tr>\n",
              "      <th>26</th>\n",
              "      <td>103</td>\n",
              "      <td>69</td>\n",
              "      <td>200</td>\n",
              "      <td>0.445031</td>\n",
              "    </tr>\n",
              "    <tr>\n",
              "      <th>48</th>\n",
              "      <td>121</td>\n",
              "      <td>252</td>\n",
              "      <td>225</td>\n",
              "      <td>0.444734</td>\n",
              "    </tr>\n",
              "    <tr>\n",
              "      <th>39</th>\n",
              "      <td>8</td>\n",
              "      <td>128</td>\n",
              "      <td>38</td>\n",
              "      <td>0.443177</td>\n",
              "    </tr>\n",
              "    <tr>\n",
              "      <th>18</th>\n",
              "      <td>247</td>\n",
              "      <td>18</td>\n",
              "      <td>60</td>\n",
              "      <td>0.440292</td>\n",
              "    </tr>\n",
              "    <tr>\n",
              "      <th>23</th>\n",
              "      <td>10</td>\n",
              "      <td>152</td>\n",
              "      <td>249</td>\n",
              "      <td>0.438454</td>\n",
              "    </tr>\n",
              "    <tr>\n",
              "      <th>31</th>\n",
              "      <td>96</td>\n",
              "      <td>16</td>\n",
              "      <td>72</td>\n",
              "      <td>0.437841</td>\n",
              "    </tr>\n",
              "    <tr>\n",
              "      <th>14</th>\n",
              "      <td>56</td>\n",
              "      <td>76</td>\n",
              "      <td>230</td>\n",
              "      <td>0.435603</td>\n",
              "    </tr>\n",
              "    <tr>\n",
              "      <th>17</th>\n",
              "      <td>195</td>\n",
              "      <td>58</td>\n",
              "      <td>32</td>\n",
              "      <td>0.434560</td>\n",
              "    </tr>\n",
              "    <tr>\n",
              "      <th>47</th>\n",
              "      <td>42</td>\n",
              "      <td>48</td>\n",
              "      <td>170</td>\n",
              "      <td>0.432564</td>\n",
              "    </tr>\n",
              "    <tr>\n",
              "      <th>12</th>\n",
              "      <td>194</td>\n",
              "      <td>243</td>\n",
              "      <td>15</td>\n",
              "      <td>0.431556</td>\n",
              "    </tr>\n",
              "    <tr>\n",
              "      <th>44</th>\n",
              "      <td>122</td>\n",
              "      <td>193</td>\n",
              "      <td>42</td>\n",
              "      <td>0.427933</td>\n",
              "    </tr>\n",
              "    <tr>\n",
              "      <th>45</th>\n",
              "      <td>161</td>\n",
              "      <td>246</td>\n",
              "      <td>30</td>\n",
              "      <td>0.424718</td>\n",
              "    </tr>\n",
              "    <tr>\n",
              "      <th>11</th>\n",
              "      <td>119</td>\n",
              "      <td>26</td>\n",
              "      <td>41</td>\n",
              "      <td>0.421633</td>\n",
              "    </tr>\n",
              "    <tr>\n",
              "      <th>38</th>\n",
              "      <td>17</td>\n",
              "      <td>70</td>\n",
              "      <td>250</td>\n",
              "      <td>0.404689</td>\n",
              "    </tr>\n",
              "    <tr>\n",
              "      <th>10</th>\n",
              "      <td>232</td>\n",
              "      <td>111</td>\n",
              "      <td>11</td>\n",
              "      <td>0.403450</td>\n",
              "    </tr>\n",
              "    <tr>\n",
              "      <th>46</th>\n",
              "      <td>39</td>\n",
              "      <td>9</td>\n",
              "      <td>248</td>\n",
              "      <td>0.401664</td>\n",
              "    </tr>\n",
              "    <tr>\n",
              "      <th>5</th>\n",
              "      <td>62</td>\n",
              "      <td>8</td>\n",
              "      <td>15</td>\n",
              "      <td>0.249758</td>\n",
              "    </tr>\n",
              "  </tbody>\n",
              "</table>\n",
              "</div>"
            ],
            "text/plain": [
              "    rf_estimators  rf_max_depth  rf_max_features  valid_r2_score\n",
              "41             22            35              252        0.490220\n",
              "43            218           233              236        0.478414\n",
              "13            222           211              141        0.477369\n",
              "2             240           134              247        0.473999\n",
              "40             23           248              215        0.472263\n",
              "49            152            72               53        0.471475\n",
              "6              97           200              127        0.470279\n",
              "34            197            85              235        0.469994\n",
              "37             11            95              214        0.467105\n",
              "27            139           115              134        0.465827\n",
              "35            187           199               88        0.465302\n",
              "20            195           103               66        0.463845\n",
              "21            115           143               53        0.462418\n",
              "4              86           165               88        0.461333\n",
              "33            251            86               71        0.457644\n",
              "32            176            20              174        0.457271\n",
              "25            202           241              119        0.456960\n",
              "42            207           196               40        0.456194\n",
              "30            107           228              185        0.455735\n",
              "8             224           152              224        0.455215\n",
              "29            236           224               52        0.455184\n",
              "36            111           113              141        0.453786\n",
              "0              66            58              170        0.453171\n",
              "15             92            80               81        0.452498\n",
              "16            231           191               46        0.452135\n",
              "22            149            32               56        0.451906\n",
              "28             17            90              225        0.451400\n",
              "24            182           160              117        0.450659\n",
              "3             169            98              254        0.449959\n",
              "19            245           105              211        0.449268\n",
              "9             202            18              114        0.448846\n",
              "1              44           212              123        0.448503\n",
              "7             253            74              252        0.446033\n",
              "26            103            69              200        0.445031\n",
              "48            121           252              225        0.444734\n",
              "39              8           128               38        0.443177\n",
              "18            247            18               60        0.440292\n",
              "23             10           152              249        0.438454\n",
              "31             96            16               72        0.437841\n",
              "14             56            76              230        0.435603\n",
              "17            195            58               32        0.434560\n",
              "47             42            48              170        0.432564\n",
              "12            194           243               15        0.431556\n",
              "44            122           193               42        0.427933\n",
              "45            161           246               30        0.424718\n",
              "11            119            26               41        0.421633\n",
              "38             17            70              250        0.404689\n",
              "10            232           111               11        0.403450\n",
              "46             39             9              248        0.401664\n",
              "5              62             8               15        0.249758"
            ]
          },
          "metadata": {
            "tags": []
          },
          "execution_count": 21
        }
      ]
    },
    {
      "cell_type": "code",
      "metadata": {
        "id": "hL40_7KF6-BT",
        "colab": {
          "base_uri": "https://localhost:8080/",
          "height": 483
        },
        "outputId": "e3323a83-0a08-4160-ce83-e3ba9c542637"
      },
      "source": [
        "fig, ax = plt.subplots(1,3,figsize=(21,7))\n",
        "sns.scatterplot(data=perf_df, x=\"rf_estimators\", y=\"valid_r2_score\", ax=ax[0])\n",
        "sns.scatterplot(data=perf_df, x=\"rf_max_depth\", y=\"valid_r2_score\", ax=ax[1])\n",
        "sns.scatterplot(data=perf_df, x=\"rf_max_features\", y=\"valid_r2_score\", ax=ax[2])\n",
        "fig.tight_layout()"
      ],
      "execution_count": null,
      "outputs": [
        {
          "output_type": "display_data",
          "data": {
            "image/png": "[encoded data removed]",
            "text/plain": [
              "<Figure size 1512x504 with 3 Axes>"
            ]
          },
          "metadata": {
            "tags": []
          }
        }
      ]
    },
    {
      "cell_type": "markdown",
      "metadata": {
        "id": "Za2roo8B7AfH"
      },
      "source": [
        "### Bayesian search"
      ]
    },
    {
      "cell_type": "code",
      "metadata": {
        "id": "iIHILV2R7Fz4"
      },
      "source": [
        "#define loss function\n",
        "def lossfn(p):\n",
        "    params[\"rf_estimators\"] = int(p[\"rf_estimator\"])\n",
        "    params[\"rf_max_depth\"] = int(p[\"rf_depth\"])\n",
        "    params[\"rf_max_features\"] = int(p[\"rf_feature\"])\n",
        "    \n",
        "    tparam = parse.wrapper(params)\n",
        "    pl = mp.ModelPipeline(tparam)\n",
        "    pl.train_model()\n",
        "    perf_data = pl.model_wrapper.get_perf_data(subset=\"valid\", epoch_label=\"best\")\n",
        "    pred_results = perf_data.get_prediction_results()\n",
        "    r2 = pred_results['r2_score']\n",
        "    return {'loss': 1-r2, \n",
        "            'status': STATUS_OK, \n",
        "            'model': tparam.model_tarball_path, \n",
        "            'rf_estimator': params[\"rf_estimators\"],\n",
        "            'rf_depth': params[\"rf_max_depth\"],\n",
        "            'rf_feature': params[\"rf_max_features\"]}\n",
        "\n",
        "space = {\n",
        "    \"rf_estimator\": hp.uniform(\"rf_estimator\", 8, 256),\n",
        "    \"rf_depth\": hp.uniform(\"rf_depth\", 8, 256),\n",
        "    \"rf_feature\": hp.uniform(\"rf_feature\", 8, 256)\n",
        "}"
      ],
      "execution_count": null,
      "outputs": []
    },
    {
      "cell_type": "code",
      "metadata": {
        "id": "ndFs9n6f7G-Y",
        "colab": {
          "base_uri": "https://localhost:8080/"
        },
        "outputId": "4d85b17f-dd24-44db-d608-1774cd6c9238"
      },
      "source": [
        "trials = Trials()\n",
        "best = fmin(lossfn, space, algo=tpe.suggest, max_evals=5, trials=trials)"
      ],
      "execution_count": null,
      "outputs": [
        {
          "output_type": "stream",
          "text": [
            "number of features: 1024\n",
            "  0%|          | 0/5 [00:06<?, ?it/s, best loss: ?]"
          ],
          "name": "stdout"
        },
        {
          "output_type": "stream",
          "text": [
            "2021-05-20 23:55:21,050 Previous dataset split restored\n",
            "2021-05-20 23:55:21,557 Wrote model metadata to file ampl_output/H1_std/RF_ecfp_scaffold_regression/3f0f58e9-245b-4c49-9dbd-aa39aa4905a4/model_metadata.json\n"
          ],
          "name": "stderr"
        },
        {
          "output_type": "stream",
          "text": [
            "Wrote model tarball to ampl_output/H1_std_model_3f0f58e9-245b-4c49-9dbd-aa39aa4905a4.tar.gz\n",
            "  0%|          | 0/5 [00:07<?, ?it/s, best loss: ?]"
          ],
          "name": "stdout"
        },
        {
          "output_type": "stream",
          "text": [
            "2021-05-20 23:55:21,574 Wrote model metrics to file ampl_output/H1_std/RF_ecfp_scaffold_regression/3f0f58e9-245b-4c49-9dbd-aa39aa4905a4/model_metrics.json\n"
          ],
          "name": "stderr"
        },
        {
          "output_type": "stream",
          "text": [
            "number of features: 1024\n",
            " 20%|██        | 1/5 [00:14<00:29,  7.38s/it, best loss: 0.539012919835863]"
          ],
          "name": "stdout"
        },
        {
          "output_type": "stream",
          "text": [
            "2021-05-20 23:55:28,520 Previous dataset split restored\n",
            "2021-05-20 23:55:29,195 Wrote model metadata to file ampl_output/H1_std/RF_ecfp_scaffold_regression/5e59725e-993e-4c0b-a493-fc90c7480f56/model_metadata.json\n"
          ],
          "name": "stderr"
        },
        {
          "output_type": "stream",
          "text": [
            "Wrote model tarball to ampl_output/H1_std_model_5e59725e-993e-4c0b-a493-fc90c7480f56.tar.gz\n",
            " 20%|██        | 1/5 [00:15<00:29,  7.38s/it, best loss: 0.539012919835863]"
          ],
          "name": "stdout"
        },
        {
          "output_type": "stream",
          "text": [
            "2021-05-20 23:55:29,243 Wrote model metrics to file ampl_output/H1_std/RF_ecfp_scaffold_regression/5e59725e-993e-4c0b-a493-fc90c7480f56/model_metrics.json\n"
          ],
          "name": "stderr"
        },
        {
          "output_type": "stream",
          "text": [
            "number of features: 1024\n",
            " 40%|████      | 2/5 [00:21<00:22,  7.47s/it, best loss: 0.539012919835863]"
          ],
          "name": "stdout"
        },
        {
          "output_type": "stream",
          "text": [
            "2021-05-20 23:55:36,168 Previous dataset split restored\n",
            "2021-05-20 23:55:36,681 Wrote model metadata to file ampl_output/H1_std/RF_ecfp_scaffold_regression/b0162b01-786c-4461-806f-b7a4c6c0a453/model_metadata.json\n"
          ],
          "name": "stderr"
        },
        {
          "output_type": "stream",
          "text": [
            "Wrote model tarball to ampl_output/H1_std_model_b0162b01-786c-4461-806f-b7a4c6c0a453.tar.gz\n",
            " 40%|████      | 2/5 [00:22<00:22,  7.47s/it, best loss: 0.539012919835863]"
          ],
          "name": "stdout"
        },
        {
          "output_type": "stream",
          "text": [
            "2021-05-20 23:55:36,702 Wrote model metrics to file ampl_output/H1_std/RF_ecfp_scaffold_regression/b0162b01-786c-4461-806f-b7a4c6c0a453/model_metrics.json\n"
          ],
          "name": "stderr"
        },
        {
          "output_type": "stream",
          "text": [
            "number of features: 1024\n",
            " 60%|██████    | 3/5 [00:29<00:14,  7.47s/it, best loss: 0.539012919835863]"
          ],
          "name": "stdout"
        },
        {
          "output_type": "stream",
          "text": [
            "2021-05-20 23:55:43,568 Previous dataset split restored\n",
            "2021-05-20 23:55:45,014 Wrote model metadata to file ampl_output/H1_std/RF_ecfp_scaffold_regression/63af8fb4-4ffc-4d38-8065-aa8a4cc8d822/model_metadata.json\n"
          ],
          "name": "stderr"
        },
        {
          "output_type": "stream",
          "text": [
            "Wrote model tarball to ampl_output/H1_std_model_63af8fb4-4ffc-4d38-8065-aa8a4cc8d822.tar.gz\n",
            " 60%|██████    | 3/5 [00:30<00:14,  7.47s/it, best loss: 0.539012919835863]"
          ],
          "name": "stdout"
        },
        {
          "output_type": "stream",
          "text": [
            "2021-05-20 23:55:45,129 Wrote model metrics to file ampl_output/H1_std/RF_ecfp_scaffold_regression/63af8fb4-4ffc-4d38-8065-aa8a4cc8d822/model_metrics.json\n"
          ],
          "name": "stderr"
        },
        {
          "output_type": "stream",
          "text": [
            "number of features: 1024\n",
            " 80%|████████  | 4/5 [00:37<00:07,  7.75s/it, best loss: 0.5256434531695915]"
          ],
          "name": "stdout"
        },
        {
          "output_type": "stream",
          "text": [
            "2021-05-20 23:55:52,009 Previous dataset split restored\n",
            "2021-05-20 23:55:53,052 Wrote model metadata to file ampl_output/H1_std/RF_ecfp_scaffold_regression/039b0772-11f5-4d5c-8ce8-178a733e79b3/model_metadata.json\n"
          ],
          "name": "stderr"
        },
        {
          "output_type": "stream",
          "text": [
            "Wrote model tarball to ampl_output/H1_std_model_039b0772-11f5-4d5c-8ce8-178a733e79b3.tar.gz\n",
            " 80%|████████  | 4/5 [00:38<00:07,  7.75s/it, best loss: 0.5256434531695915]"
          ],
          "name": "stdout"
        },
        {
          "output_type": "stream",
          "text": [
            "2021-05-20 23:55:53,126 Wrote model metrics to file ampl_output/H1_std/RF_ecfp_scaffold_regression/039b0772-11f5-4d5c-8ce8-178a733e79b3/model_metrics.json\n"
          ],
          "name": "stderr"
        },
        {
          "output_type": "stream",
          "text": [
            "100%|██████████| 5/5 [00:38<00:00,  7.79s/it, best loss: 0.5256434531695915]\n"
          ],
          "name": "stdout"
        }
      ]
    },
    {
      "cell_type": "code",
      "metadata": {
        "id": "sC-LVt3VtPDc",
        "colab": {
          "base_uri": "https://localhost:8080/",
          "height": 636
        },
        "outputId": "24e52fb8-347f-42a7-dd1f-2b9564e2e396"
      },
      "source": [
        "r2_list = [1-trials.trials[i][\"result\"][\"loss\"] for i in range(len(trials.trials))]\n",
        "fig, ax = plt.subplots(1,1,figsize=(10,10))\n",
        "sns.lineplot(x=list(range(1,len(trials.trials)+1)), y=r2_list, ax=ax)\n",
        "ax.set_ylim(0.2,0.6)"
      ],
      "execution_count": null,
      "outputs": [
        {
          "output_type": "execute_result",
          "data": {
            "text/plain": [
              "(0.2, 0.6)"
            ]
          },
          "metadata": {
            "tags": []
          },
          "execution_count": 25
        },
        {
          "output_type": "display_data",
          "data": {
            "image/png": "[encoded data removed]",
            "text/plain": [
              "<Figure size 720x720 with 1 Axes>"
            ]
          },
          "metadata": {
            "tags": []
          }
        }
      ]
    },
    {
      "cell_type": "code",
      "metadata": {
        "id": "-2_z-vFLtUYb"
      },
      "source": [
        "rfe_list = [trials.trials[i][\"result\"][\"rf_estimator\"] for i in range(len(trials.trials))]\n",
        "rfd_list = [trials.trials[i][\"result\"][\"rf_depth\"] for i in range(len(trials.trials))]\n",
        "rff_list = [trials.trials[i][\"result\"][\"rf_feature\"] for i in range(len(trials.trials))]"
      ],
      "execution_count": null,
      "outputs": []
    },
    {
      "cell_type": "code",
      "metadata": {
        "id": "sDMxDhM5tXHa",
        "colab": {
          "base_uri": "https://localhost:8080/",
          "height": 203
        },
        "outputId": "3046c6fa-56d9-4627-f79b-550fd1ddb2df"
      },
      "source": [
        "perf_df = pd.DataFrame({\"rf_estimators\": rfe_list, \"rf_max_depth\": rfd_list, \"rf_max_features\": rff_list, \"valid_r2_score\": r2_list})\n",
        "perf_df.sort_values(by=\"valid_r2_score\", ascending=False)"
      ],
      "execution_count": null,
      "outputs": [
        {
          "output_type": "execute_result",
          "data": {
            "text/html": [
              "<div>\n",
              "<style scoped>\n",
              "    .dataframe tbody tr th:only-of-type {\n",
              "        vertical-align: middle;\n",
              "    }\n",
              "\n",
              "    .dataframe tbody tr th {\n",
              "        vertical-align: top;\n",
              "    }\n",
              "\n",
              "    .dataframe thead th {\n",
              "        text-align: right;\n",
              "    }\n",
              "</style>\n",
              "<table border=\"1\" class=\"dataframe\">\n",
              "  <thead>\n",
              "    <tr style=\"text-align: right;\">\n",
              "      <th></th>\n",
              "      <th>rf_estimators</th>\n",
              "      <th>rf_max_depth</th>\n",
              "      <th>rf_max_features</th>\n",
              "      <th>valid_r2_score</th>\n",
              "    </tr>\n",
              "  </thead>\n",
              "  <tbody>\n",
              "    <tr>\n",
              "      <th>3</th>\n",
              "      <td>156</td>\n",
              "      <td>26</td>\n",
              "      <td>179</td>\n",
              "      <td>0.474357</td>\n",
              "    </tr>\n",
              "    <tr>\n",
              "      <th>4</th>\n",
              "      <td>87</td>\n",
              "      <td>201</td>\n",
              "      <td>163</td>\n",
              "      <td>0.462818</td>\n",
              "    </tr>\n",
              "    <tr>\n",
              "      <th>0</th>\n",
              "      <td>12</td>\n",
              "      <td>48</td>\n",
              "      <td>161</td>\n",
              "      <td>0.460987</td>\n",
              "    </tr>\n",
              "    <tr>\n",
              "      <th>2</th>\n",
              "      <td>13</td>\n",
              "      <td>177</td>\n",
              "      <td>143</td>\n",
              "      <td>0.433084</td>\n",
              "    </tr>\n",
              "    <tr>\n",
              "      <th>1</th>\n",
              "      <td>51</td>\n",
              "      <td>91</td>\n",
              "      <td>85</td>\n",
              "      <td>0.411533</td>\n",
              "    </tr>\n",
              "  </tbody>\n",
              "</table>\n",
              "</div>"
            ],
            "text/plain": [
              "   rf_estimators  rf_max_depth  rf_max_features  valid_r2_score\n",
              "3            156            26              179        0.474357\n",
              "4             87           201              163        0.462818\n",
              "0             12            48              161        0.460987\n",
              "2             13           177              143        0.433084\n",
              "1             51            91               85        0.411533"
            ]
          },
          "metadata": {
            "tags": []
          },
          "execution_count": 27
        }
      ]
    },
    {
      "cell_type": "markdown",
      "metadata": {
        "id": "XB0K5BimtYDS"
      },
      "source": [
        "#### Save Bayesian optimization trial object and continue later"
      ]
    },
    {
      "cell_type": "code",
      "metadata": {
        "id": "VzXDDEF_r8h8"
      },
      "source": [
        "# save the trial object\n",
        "trial_file = os.path.join(\"hp_trial.pkl\")\n",
        "with open(trial_file, \"wb\") as f:\n",
        "    pickle.dump(trials, f)"
      ],
      "execution_count": null,
      "outputs": []
    },
    {
      "cell_type": "code",
      "metadata": {
        "id": "jSWVhsjfsINl"
      },
      "source": [
        "# load the trial object\n",
        "with open(trial_file, \"rb\") as f:\n",
        "    new_trials = pickle.load(f)"
      ],
      "execution_count": null,
      "outputs": []
    },
    {
      "cell_type": "code",
      "metadata": {
        "id": "IXcOynF7sLMn"
      },
      "source": [
        "# continue HPO\n",
        "best = fmin(lossfn, space, algo=tpe.suggest, max_evals=50, trials=new_trials)"
      ],
      "execution_count": null,
      "outputs": []
    },
    {
      "cell_type": "code",
      "metadata": {
        "id": "2l-of-gh7Jaq",
        "colab": {
          "base_uri": "https://localhost:8080/",
          "height": 636
        },
        "outputId": "41153f98-ff2b-46b0-cea2-ce12d50fbdb9"
      },
      "source": [
        "r2_list = [1-new_trials.trials[i][\"result\"][\"loss\"] for i in range(len(new_trials.trials))]\n",
        "fig, ax = plt.subplots(1,1,figsize=(10,10))\n",
        "sns.lineplot(x=list(range(1,len(new_trials.trials)+1)), y=r2_list, ax=ax)\n",
        "ax.set_ylim(0.2,0.6)"
      ],
      "execution_count": null,
      "outputs": [
        {
          "output_type": "execute_result",
          "data": {
            "text/plain": [
              "(0.2, 0.6)"
            ]
          },
          "metadata": {
            "tags": []
          },
          "execution_count": 31
        },
        {
          "output_type": "display_data",
          "data": {
            "image/png": "[encoded data removed]",
            "text/plain": [
              "<Figure size 720x720 with 1 Axes>"
            ]
          },
          "metadata": {
            "tags": []
          }
        }
      ]
    },
    {
      "cell_type": "code",
      "metadata": {
        "id": "lhvjj4tx7LQB"
      },
      "source": [
        "rfe_list = [new_trials.trials[i][\"result\"][\"rf_estimator\"] for i in range(len(new_trials.trials))]\n",
        "rfd_list = [new_trials.trials[i][\"result\"][\"rf_depth\"] for i in range(len(new_trials.trials))]\n",
        "rff_list = [new_trials.trials[i][\"result\"][\"rf_feature\"] for i in range(len(new_trials.trials))]"
      ],
      "execution_count": null,
      "outputs": []
    },
    {
      "cell_type": "code",
      "metadata": {
        "id": "1ELOR0Ij7OVJ",
        "colab": {
          "base_uri": "https://localhost:8080/",
          "height": 1000
        },
        "outputId": "faa32f7a-67cb-4ed5-f29b-89ed4684326a"
      },
      "source": [
        "perf_df = pd.DataFrame({\"rf_estimators\": rfe_list, \"rf_max_depth\": rfd_list, \"rf_max_features\": rff_list, \"valid_r2_score\": r2_list})\n",
        "perf_df.sort_values(by=\"valid_r2_score\", ascending=False)"
      ],
      "execution_count": null,
      "outputs": [
        {
          "output_type": "execute_result",
          "data": {
            "text/html": [
              "<div>\n",
              "<style scoped>\n",
              "    .dataframe tbody tr th:only-of-type {\n",
              "        vertical-align: middle;\n",
              "    }\n",
              "\n",
              "    .dataframe tbody tr th {\n",
              "        vertical-align: top;\n",
              "    }\n",
              "\n",
              "    .dataframe thead th {\n",
              "        text-align: right;\n",
              "    }\n",
              "</style>\n",
              "<table border=\"1\" class=\"dataframe\">\n",
              "  <thead>\n",
              "    <tr style=\"text-align: right;\">\n",
              "      <th></th>\n",
              "      <th>rf_estimators</th>\n",
              "      <th>rf_max_depth</th>\n",
              "      <th>rf_max_features</th>\n",
              "      <th>valid_r2_score</th>\n",
              "    </tr>\n",
              "  </thead>\n",
              "  <tbody>\n",
              "    <tr>\n",
              "      <th>38</th>\n",
              "      <td>36</td>\n",
              "      <td>155</td>\n",
              "      <td>254</td>\n",
              "      <td>0.483576</td>\n",
              "    </tr>\n",
              "    <tr>\n",
              "      <th>13</th>\n",
              "      <td>168</td>\n",
              "      <td>217</td>\n",
              "      <td>177</td>\n",
              "      <td>0.480496</td>\n",
              "    </tr>\n",
              "    <tr>\n",
              "      <th>27</th>\n",
              "      <td>255</td>\n",
              "      <td>244</td>\n",
              "      <td>199</td>\n",
              "      <td>0.478098</td>\n",
              "    </tr>\n",
              "    <tr>\n",
              "      <th>18</th>\n",
              "      <td>190</td>\n",
              "      <td>246</td>\n",
              "      <td>237</td>\n",
              "      <td>0.476780</td>\n",
              "    </tr>\n",
              "    <tr>\n",
              "      <th>29</th>\n",
              "      <td>251</td>\n",
              "      <td>221</td>\n",
              "      <td>199</td>\n",
              "      <td>0.475595</td>\n",
              "    </tr>\n",
              "    <tr>\n",
              "      <th>7</th>\n",
              "      <td>112</td>\n",
              "      <td>146</td>\n",
              "      <td>140</td>\n",
              "      <td>0.475326</td>\n",
              "    </tr>\n",
              "    <tr>\n",
              "      <th>3</th>\n",
              "      <td>156</td>\n",
              "      <td>26</td>\n",
              "      <td>179</td>\n",
              "      <td>0.474357</td>\n",
              "    </tr>\n",
              "    <tr>\n",
              "      <th>36</th>\n",
              "      <td>63</td>\n",
              "      <td>106</td>\n",
              "      <td>112</td>\n",
              "      <td>0.473495</td>\n",
              "    </tr>\n",
              "    <tr>\n",
              "      <th>23</th>\n",
              "      <td>164</td>\n",
              "      <td>237</td>\n",
              "      <td>212</td>\n",
              "      <td>0.469228</td>\n",
              "    </tr>\n",
              "    <tr>\n",
              "      <th>12</th>\n",
              "      <td>90</td>\n",
              "      <td>124</td>\n",
              "      <td>54</td>\n",
              "      <td>0.468658</td>\n",
              "    </tr>\n",
              "    <tr>\n",
              "      <th>24</th>\n",
              "      <td>178</td>\n",
              "      <td>211</td>\n",
              "      <td>196</td>\n",
              "      <td>0.468652</td>\n",
              "    </tr>\n",
              "    <tr>\n",
              "      <th>48</th>\n",
              "      <td>125</td>\n",
              "      <td>90</td>\n",
              "      <td>245</td>\n",
              "      <td>0.466935</td>\n",
              "    </tr>\n",
              "    <tr>\n",
              "      <th>22</th>\n",
              "      <td>218</td>\n",
              "      <td>231</td>\n",
              "      <td>251</td>\n",
              "      <td>0.466643</td>\n",
              "    </tr>\n",
              "    <tr>\n",
              "      <th>6</th>\n",
              "      <td>37</td>\n",
              "      <td>78</td>\n",
              "      <td>178</td>\n",
              "      <td>0.466289</td>\n",
              "    </tr>\n",
              "    <tr>\n",
              "      <th>20</th>\n",
              "      <td>210</td>\n",
              "      <td>255</td>\n",
              "      <td>213</td>\n",
              "      <td>0.465406</td>\n",
              "    </tr>\n",
              "    <tr>\n",
              "      <th>46</th>\n",
              "      <td>48</td>\n",
              "      <td>139</td>\n",
              "      <td>120</td>\n",
              "      <td>0.465091</td>\n",
              "    </tr>\n",
              "    <tr>\n",
              "      <th>40</th>\n",
              "      <td>29</td>\n",
              "      <td>103</td>\n",
              "      <td>252</td>\n",
              "      <td>0.464926</td>\n",
              "    </tr>\n",
              "    <tr>\n",
              "      <th>15</th>\n",
              "      <td>246</td>\n",
              "      <td>76</td>\n",
              "      <td>124</td>\n",
              "      <td>0.464736</td>\n",
              "    </tr>\n",
              "    <tr>\n",
              "      <th>31</th>\n",
              "      <td>174</td>\n",
              "      <td>239</td>\n",
              "      <td>199</td>\n",
              "      <td>0.464243</td>\n",
              "    </tr>\n",
              "    <tr>\n",
              "      <th>17</th>\n",
              "      <td>113</td>\n",
              "      <td>221</td>\n",
              "      <td>128</td>\n",
              "      <td>0.464189</td>\n",
              "    </tr>\n",
              "    <tr>\n",
              "      <th>11</th>\n",
              "      <td>180</td>\n",
              "      <td>43</td>\n",
              "      <td>243</td>\n",
              "      <td>0.463831</td>\n",
              "    </tr>\n",
              "    <tr>\n",
              "      <th>28</th>\n",
              "      <td>246</td>\n",
              "      <td>145</td>\n",
              "      <td>106</td>\n",
              "      <td>0.463386</td>\n",
              "    </tr>\n",
              "    <tr>\n",
              "      <th>4</th>\n",
              "      <td>87</td>\n",
              "      <td>201</td>\n",
              "      <td>163</td>\n",
              "      <td>0.462818</td>\n",
              "    </tr>\n",
              "    <tr>\n",
              "      <th>16</th>\n",
              "      <td>123</td>\n",
              "      <td>67</td>\n",
              "      <td>161</td>\n",
              "      <td>0.461420</td>\n",
              "    </tr>\n",
              "    <tr>\n",
              "      <th>0</th>\n",
              "      <td>12</td>\n",
              "      <td>48</td>\n",
              "      <td>161</td>\n",
              "      <td>0.460987</td>\n",
              "    </tr>\n",
              "    <tr>\n",
              "      <th>26</th>\n",
              "      <td>228</td>\n",
              "      <td>197</td>\n",
              "      <td>99</td>\n",
              "      <td>0.459627</td>\n",
              "    </tr>\n",
              "    <tr>\n",
              "      <th>32</th>\n",
              "      <td>140</td>\n",
              "      <td>218</td>\n",
              "      <td>178</td>\n",
              "      <td>0.459001</td>\n",
              "    </tr>\n",
              "    <tr>\n",
              "      <th>35</th>\n",
              "      <td>230</td>\n",
              "      <td>206</td>\n",
              "      <td>171</td>\n",
              "      <td>0.457843</td>\n",
              "    </tr>\n",
              "    <tr>\n",
              "      <th>45</th>\n",
              "      <td>148</td>\n",
              "      <td>54</td>\n",
              "      <td>255</td>\n",
              "      <td>0.457650</td>\n",
              "    </tr>\n",
              "    <tr>\n",
              "      <th>49</th>\n",
              "      <td>65</td>\n",
              "      <td>157</td>\n",
              "      <td>139</td>\n",
              "      <td>0.455849</td>\n",
              "    </tr>\n",
              "    <tr>\n",
              "      <th>21</th>\n",
              "      <td>197</td>\n",
              "      <td>255</td>\n",
              "      <td>218</td>\n",
              "      <td>0.454554</td>\n",
              "    </tr>\n",
              "    <tr>\n",
              "      <th>33</th>\n",
              "      <td>199</td>\n",
              "      <td>255</td>\n",
              "      <td>151</td>\n",
              "      <td>0.453980</td>\n",
              "    </tr>\n",
              "    <tr>\n",
              "      <th>25</th>\n",
              "      <td>142</td>\n",
              "      <td>120</td>\n",
              "      <td>231</td>\n",
              "      <td>0.451970</td>\n",
              "    </tr>\n",
              "    <tr>\n",
              "      <th>9</th>\n",
              "      <td>121</td>\n",
              "      <td>88</td>\n",
              "      <td>128</td>\n",
              "      <td>0.451852</td>\n",
              "    </tr>\n",
              "    <tr>\n",
              "      <th>10</th>\n",
              "      <td>154</td>\n",
              "      <td>165</td>\n",
              "      <td>186</td>\n",
              "      <td>0.450814</td>\n",
              "    </tr>\n",
              "    <tr>\n",
              "      <th>34</th>\n",
              "      <td>96</td>\n",
              "      <td>187</td>\n",
              "      <td>225</td>\n",
              "      <td>0.450033</td>\n",
              "    </tr>\n",
              "    <tr>\n",
              "      <th>30</th>\n",
              "      <td>209</td>\n",
              "      <td>193</td>\n",
              "      <td>76</td>\n",
              "      <td>0.449618</td>\n",
              "    </tr>\n",
              "    <tr>\n",
              "      <th>43</th>\n",
              "      <td>134</td>\n",
              "      <td>175</td>\n",
              "      <td>186</td>\n",
              "      <td>0.446780</td>\n",
              "    </tr>\n",
              "    <tr>\n",
              "      <th>19</th>\n",
              "      <td>77</td>\n",
              "      <td>180</td>\n",
              "      <td>156</td>\n",
              "      <td>0.445155</td>\n",
              "    </tr>\n",
              "    <tr>\n",
              "      <th>41</th>\n",
              "      <td>102</td>\n",
              "      <td>129</td>\n",
              "      <td>37</td>\n",
              "      <td>0.444182</td>\n",
              "    </tr>\n",
              "    <tr>\n",
              "      <th>44</th>\n",
              "      <td>56</td>\n",
              "      <td>153</td>\n",
              "      <td>146</td>\n",
              "      <td>0.444177</td>\n",
              "    </tr>\n",
              "    <tr>\n",
              "      <th>14</th>\n",
              "      <td>74</td>\n",
              "      <td>166</td>\n",
              "      <td>137</td>\n",
              "      <td>0.441687</td>\n",
              "    </tr>\n",
              "    <tr>\n",
              "      <th>47</th>\n",
              "      <td>82</td>\n",
              "      <td>107</td>\n",
              "      <td>168</td>\n",
              "      <td>0.440603</td>\n",
              "    </tr>\n",
              "    <tr>\n",
              "      <th>2</th>\n",
              "      <td>13</td>\n",
              "      <td>177</td>\n",
              "      <td>143</td>\n",
              "      <td>0.433084</td>\n",
              "    </tr>\n",
              "    <tr>\n",
              "      <th>8</th>\n",
              "      <td>39</td>\n",
              "      <td>69</td>\n",
              "      <td>24</td>\n",
              "      <td>0.418214</td>\n",
              "    </tr>\n",
              "    <tr>\n",
              "      <th>39</th>\n",
              "      <td>11</td>\n",
              "      <td>150</td>\n",
              "      <td>66</td>\n",
              "      <td>0.416451</td>\n",
              "    </tr>\n",
              "    <tr>\n",
              "      <th>1</th>\n",
              "      <td>51</td>\n",
              "      <td>91</td>\n",
              "      <td>85</td>\n",
              "      <td>0.411533</td>\n",
              "    </tr>\n",
              "    <tr>\n",
              "      <th>37</th>\n",
              "      <td>161</td>\n",
              "      <td>162</td>\n",
              "      <td>8</td>\n",
              "      <td>0.410309</td>\n",
              "    </tr>\n",
              "    <tr>\n",
              "      <th>5</th>\n",
              "      <td>236</td>\n",
              "      <td>9</td>\n",
              "      <td>237</td>\n",
              "      <td>0.404304</td>\n",
              "    </tr>\n",
              "    <tr>\n",
              "      <th>42</th>\n",
              "      <td>26</td>\n",
              "      <td>14</td>\n",
              "      <td>92</td>\n",
              "      <td>0.394510</td>\n",
              "    </tr>\n",
              "  </tbody>\n",
              "</table>\n",
              "</div>"
            ],
            "text/plain": [
              "    rf_estimators  rf_max_depth  rf_max_features  valid_r2_score\n",
              "38             36           155              254        0.483576\n",
              "13            168           217              177        0.480496\n",
              "27            255           244              199        0.478098\n",
              "18            190           246              237        0.476780\n",
              "29            251           221              199        0.475595\n",
              "7             112           146              140        0.475326\n",
              "3             156            26              179        0.474357\n",
              "36             63           106              112        0.473495\n",
              "23            164           237              212        0.469228\n",
              "12             90           124               54        0.468658\n",
              "24            178           211              196        0.468652\n",
              "48            125            90              245        0.466935\n",
              "22            218           231              251        0.466643\n",
              "6              37            78              178        0.466289\n",
              "20            210           255              213        0.465406\n",
              "46             48           139              120        0.465091\n",
              "40             29           103              252        0.464926\n",
              "15            246            76              124        0.464736\n",
              "31            174           239              199        0.464243\n",
              "17            113           221              128        0.464189\n",
              "11            180            43              243        0.463831\n",
              "28            246           145              106        0.463386\n",
              "4              87           201              163        0.462818\n",
              "16            123            67              161        0.461420\n",
              "0              12            48              161        0.460987\n",
              "26            228           197               99        0.459627\n",
              "32            140           218              178        0.459001\n",
              "35            230           206              171        0.457843\n",
              "45            148            54              255        0.457650\n",
              "49             65           157              139        0.455849\n",
              "21            197           255              218        0.454554\n",
              "33            199           255              151        0.453980\n",
              "25            142           120              231        0.451970\n",
              "9             121            88              128        0.451852\n",
              "10            154           165              186        0.450814\n",
              "34             96           187              225        0.450033\n",
              "30            209           193               76        0.449618\n",
              "43            134           175              186        0.446780\n",
              "19             77           180              156        0.445155\n",
              "41            102           129               37        0.444182\n",
              "44             56           153              146        0.444177\n",
              "14             74           166              137        0.441687\n",
              "47             82           107              168        0.440603\n",
              "2              13           177              143        0.433084\n",
              "8              39            69               24        0.418214\n",
              "39             11           150               66        0.416451\n",
              "1              51            91               85        0.411533\n",
              "37            161           162                8        0.410309\n",
              "5             236             9              237        0.404304\n",
              "42             26            14               92        0.394510"
            ]
          },
          "metadata": {
            "tags": []
          },
          "execution_count": 33
        }
      ]
    },
    {
      "cell_type": "code",
      "metadata": {
        "colab": {
          "base_uri": "https://localhost:8080/"
        },
        "id": "R2WuSZVVNoDs",
        "outputId": "71e08817-2387-4bd4-98bb-b2b0c2b629d3"
      },
      "source": [
        "!date"
      ],
      "execution_count": null,
      "outputs": [
        {
          "output_type": "stream",
          "text": [
            "Fri May 21 00:03:30 UTC 2021\n"
          ],
          "name": "stdout"
        }
      ]
    },
    {
      "cell_type": "code",
      "metadata": {
        "id": "6eoKct36O9PL"
      },
      "source": [
        ""
      ],
      "execution_count": null,
      "outputs": []
    }
  ]
}