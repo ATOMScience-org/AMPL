{
 "cells": [
  {
   "cell_type": "markdown",
   "metadata": {
    "colab_type": "text",
    "id": "view-in-github"
   },
   "source": [
    "<a href=\"https://colab.research.google.com/github/ATOMScience-org/AMPL/blob/master/atomsci/ddm/examples/tutorials/14_BSEP_modeling.ipynb\" target=\"_parent\"><img src=\"https://colab.research.google.com/assets/colab-badge.svg\" alt=\"Open In Colab\"/></a>"
   ]
  },
  {
   "cell_type": "markdown",
   "metadata": {
    "id": "0V2ybLgAH-0V"
   },
   "source": [
    "# BSEP Inhibition Model Creation and Prediction\n",
    "The data source is https://github.com/ATOMScience-org/AMPL/tree/master/atomsci/ddm/examples/BSEP.  "
   ]
  },
  {
   "cell_type": "markdown",
   "metadata": {
    "id": "FYelWdOkIGwC"
   },
   "source": [
    "The notebook is based on the modeling procedure published in the following manscript, https://pubmed.ncbi.nlm.nih.gov/33502191/, and provides AMPL code to create/test Random Forest (RF) model. The notebook ends by testing the RF model using an external test data. Please note the datasets used in this notebook came from AMPL github site.  "
   ]
  },
  {
   "cell_type": "markdown",
   "metadata": {
    "id": "7J41ky8ULQdh"
   },
   "source": [
    "# Basic biology of BSEP gene\n",
    "You can read about BSEP gene here, \n",
    "\n",
    "https://en.wikipedia.org/wiki/ABCB11\n",
    "\n",
    "and/or here,\n",
    "\n",
    "http://useast.ensembl.org/Homo_sapiens/Gene/Summary?db=core;g=ENSG00000276582;r=CHR_HSCHR2_1_CTG7_2:168939927-168953422 \n",
    "\n",
    "BSEP or ABCB11 is a gene associated with the disease progressive familial intrahepatic cholestasis type 2 (PFIC2).PFIC2 is shown to be caused by mutations in the ABCB11 gene which increases the risk of hepatocellular carcinoma in early life.\n",
    "\n",
    "\n"
   ]
  },
  {
   "cell_type": "markdown",
   "metadata": {
    "id": "VyhYeRqMxO_3"
   },
   "source": [
    "The notebook will run through the following steps: \n",
    "\n",
    "1.   Clone the AMPL git repository and install the software  \n",
    "2.   Use a data file from AMPL repository as input\n",
    "3.   Split the data \n",
    "4.   Train a model\n",
    "5.   Show how you can make predictions on the model.   \n",
    "6.   If you want to use your input data, please make sure your input data should be in CSV format that contains the following information: \n",
    "        *   Row of column headers\n",
    "        *   contain a column of SMILES strings for the compounds you want to run predictions on.\n",
    "        * Optional information: \n",
    "                *   A column of unique compound IDs; if none is provided, one will be generated for you\n",
    "                *   A column of binary activity values, if you have measured IC50s for the input compounds: 0 if the IC50 < 100 uM, 1 if IC50 >= 100 uM."
   ]
  },
  {
   "cell_type": "markdown",
   "metadata": {
    "id": "VMHN84qZXZNO"
   },
   "source": [
    "## Here is a sample input dataset with four componds"
   ]
  },
  {
   "cell_type": "markdown",
   "metadata": {
    "id": "JIxydMlpdWxS"
   },
   "source": [
    "|base_rdkit_smiles | compound_name| pIC50 |relation|active |\n",
    "|------------------|------------|-------|--------|-------|\n",
    "|CN(C)[C@@H]1C(O)=C(C(N)=O)C(=O)[C@@]2(O)C(O)=C3C(=O)c4c(O)cccc4[C@@](C)(O)C3CC12\"\t|CHEMBL198\t|3.000000\t|<\t|0 |\n",
    "|C[C@]12C[C@H](O)[C@@]3(F)C(CCC4=CC(=O)C=C[C@@]43C)C1C[C@@H](O)[C@]2(O)C(=O)CO|CHEMBL3039453\t|3.627825\t|NaN\t|1 |\n",
    "|Nc1nc2cc(Cl)ccc2o1\t|CHEMBL472566\t|3.000000\t|< |0|\n",
    "|COc1cc([C@@H]2c3cc4c(cc3[C@@H](O[C@@H]3O[C@@H]5CO[C@@H](C)O[C@H]5[C@H](O)[C@H]3O)[C@H]3COC(=O)[C@H]23)OCO4)cc(OC)c1O\t|CHEMBL44657\t|3.876148\t|<|\t0 |\n",
    "\n"
   ]
  },
  {
   "cell_type": "markdown",
   "metadata": {
    "id": "od_Bn9W5gCh9"
   },
   "source": [
    "## Before you begin, make sure you close all other COLAB notebooks. "
   ]
  },
  {
   "cell_type": "markdown",
   "metadata": {
    "id": "2DWqm4Cxm5h_"
   },
   "source": [
    "# Change Runtime settings\n",
    "\n",
    "## Plesae change your runtime settings to use GPU and high-memory, if you have \n",
    "\n",
    "## Runtime --> Change Runtime Type --> GPU"
   ]
  },
  {
   "cell_type": "code",
   "execution_count": 1,
   "metadata": {
    "colab": {
     "base_uri": "https://localhost:8080/"
    },
    "id": "rlYz7j65MDcb",
    "outputId": "7ee710db-2cd4-4896-cd4a-c56208844158"
   },
   "outputs": [
    {
     "name": "stdout",
     "output_type": "stream",
     "text": [
      "Sat Sep 18 16:06:10 UTC 2021\n"
     ]
    }
   ],
   "source": [
    "!date # starting time"
   ]
  },
  {
   "cell_type": "markdown",
   "metadata": {
    "id": "HxuncCafRD2q"
   },
   "source": [
    "# AMPL Installation"
   ]
  },
  {
   "cell_type": "code",
   "execution_count": null,
   "metadata": {
    "id": "_rNx7PY_S4ew"
   },
   "outputs": [],
   "source": [
    "! pip install rdkit-pypi\n",
    "! pip install deepchem\n",
    "\n",
    "import deepchem\n",
    "# print(deepchem.__version__)\n",
    "! pip install umap\n",
    "! pip install -U --ignore-installed numba\n",
    "! pip install umap-learn\n",
    "! pip install molvs\n",
    "! pip install bravado"
   ]
  },
  {
   "cell_type": "code",
   "execution_count": null,
   "metadata": {
    "id": "GTCkT2vpt4LP"
   },
   "outputs": [],
   "source": [
    "import deepchem as dc\n",
    "\n",
    "# get the Install AMPL_GPU_test.sh\n",
    "! wget 'https://raw.githubusercontent.com/ATOMScience-org/AMPL/master/atomsci/ddm/examples/tutorials/config/install_AMPL_GPU_test.sh' >& /dev/null\n",
    "\n",
    "# run the script to install AMPL\n",
    "! chmod u+x install_AMPL_GPU_test.sh\n",
    "! ./install_AMPL_GPU_test.sh"
   ]
  },
  {
   "cell_type": "code",
   "execution_count": null,
   "metadata": {
    "id": "-BT3RB2wviMd"
   },
   "outputs": [],
   "source": [
    "# Obtain the files from GitHub\n",
    "! wget https://raw.githubusercontent.com/ATOMScience-org/AMPL/master/atomsci/ddm/examples/BSEP/data/small_test_data.csv \n",
    "! wget https://raw.githubusercontent.com/ATOMScience-org/AMPL/master/atomsci/ddm/examples/BSEP/data/morgan_warner_combined_bsep_data.csv"
   ]
  },
  {
   "cell_type": "markdown",
   "metadata": {
    "id": "wtT7wqY0mXmX"
   },
   "source": [
    "# Load the libraries"
   ]
  },
  {
   "cell_type": "code",
   "execution_count": 5,
   "metadata": {
    "colab": {
     "base_uri": "https://localhost:8080/"
    },
    "id": "jkE19oitxcFG",
    "outputId": "fbb97f29-a5c7-4f7a-8b13-93c8ccea5b8b"
   },
   "outputs": [
    {
     "name": "stderr",
     "output_type": "stream",
     "text": [
      "2021-09-18 16:07:44,504 Model tracker client not supported in your environment; will save models in filesystem only.\n"
     ]
    }
   ],
   "source": [
    "import matplotlib.pyplot as plt\n",
    "import seaborn as sns\n",
    "import numpy as np\n",
    "sns.set_context(\"poster\")\n",
    "sns.set_style(\"whitegrid\")\n",
    "sns.set_palette(\"Set2\")\n",
    "\n",
    "import pandas as pd\n",
    "import os, json, sys, glob, pickle\n",
    "\n",
    "from atomsci.ddm.pipeline import model_pipeline as mp\n",
    "from atomsci.ddm.pipeline import parameter_parser as parse\n",
    "from atomsci.ddm.pipeline import perf_data"
   ]
  },
  {
   "cell_type": "markdown",
   "metadata": {
    "id": "TECUt-ajmbkb"
   },
   "source": [
    "# Load the Data"
   ]
  },
  {
   "cell_type": "code",
   "execution_count": 6,
   "metadata": {
    "id": "oYE_k-gty67Y"
   },
   "outputs": [],
   "source": [
    "df = pd.read_csv(\"morgan_warner_combined_bsep_data.csv\")"
   ]
  },
  {
   "cell_type": "code",
   "execution_count": 7,
   "metadata": {
    "colab": {
     "base_uri": "https://localhost:8080/",
     "height": 144
    },
    "id": "2msnpfXmzDsR",
    "outputId": "8c8dbb7e-2cff-44d1-e8b9-49f885985b80"
   },
   "outputs": [
    {
     "data": {
      "text/html": [
       "<div>\n",
       "<style scoped>\n",
       "    .dataframe tbody tr th:only-of-type {\n",
       "        vertical-align: middle;\n",
       "    }\n",
       "\n",
       "    .dataframe tbody tr th {\n",
       "        vertical-align: top;\n",
       "    }\n",
       "\n",
       "    .dataframe thead th {\n",
       "        text-align: right;\n",
       "    }\n",
       "</style>\n",
       "<table border=\"1\" class=\"dataframe\">\n",
       "  <thead>\n",
       "    <tr style=\"text-align: right;\">\n",
       "      <th></th>\n",
       "      <th>compound_name</th>\n",
       "      <th>source</th>\n",
       "      <th>base_rdkit_smiles</th>\n",
       "      <th>relation</th>\n",
       "      <th>pIC50</th>\n",
       "      <th>active</th>\n",
       "    </tr>\n",
       "  </thead>\n",
       "  <tbody>\n",
       "    <tr>\n",
       "      <th>0</th>\n",
       "      <td>fenoximone</td>\n",
       "      <td>Morgan</td>\n",
       "      <td>CSc1ccc(C(=O)c2[nH]c(=O)[nH]c2C)cc1</td>\n",
       "      <td>&lt;</td>\n",
       "      <td>3.876148</td>\n",
       "      <td>0</td>\n",
       "    </tr>\n",
       "    <tr>\n",
       "      <th>1</th>\n",
       "      <td>OXEDRINE</td>\n",
       "      <td>Warner</td>\n",
       "      <td>CNCC(O)c1ccc(O)cc1</td>\n",
       "      <td>&lt;</td>\n",
       "      <td>3.000000</td>\n",
       "      <td>0</td>\n",
       "    </tr>\n",
       "    <tr>\n",
       "      <th>2</th>\n",
       "      <td>ccl4</td>\n",
       "      <td>Morgan</td>\n",
       "      <td>ClC(Cl)(Cl)Cl</td>\n",
       "      <td>&lt;</td>\n",
       "      <td>3.876148</td>\n",
       "      <td>0</td>\n",
       "    </tr>\n",
       "  </tbody>\n",
       "</table>\n",
       "</div>"
      ],
      "text/plain": [
       "  compound_name  source  ...     pIC50 active\n",
       "0    fenoximone  Morgan  ...  3.876148      0\n",
       "1      OXEDRINE  Warner  ...  3.000000      0\n",
       "2          ccl4  Morgan  ...  3.876148      0\n",
       "\n",
       "[3 rows x 6 columns]"
      ]
     },
     "execution_count": 7,
     "metadata": {},
     "output_type": "execute_result"
    }
   ],
   "source": [
    "df.head(3)"
   ]
  },
  {
   "cell_type": "markdown",
   "metadata": {
    "id": "-1jKkKXOmsUl"
   },
   "source": [
    "## Display some molecules"
   ]
  },
  {
   "cell_type": "code",
   "execution_count": 8,
   "metadata": {
    "colab": {
     "base_uri": "https://localhost:8080/",
     "height": 1000
    },
    "id": "_iGdSjKXctjv",
    "outputId": "9880f799-d925-404c-c0af-d1a0995ceab8"
   },
   "outputs": [
    {
     "data": {
      "image/png": "[encoded data removed]",
      "text/plain": [
       "<IPython.core.display.Image object>"
      ]
     },
     "execution_count": 8,
     "metadata": {},
     "output_type": "execute_result"
    }
   ],
   "source": [
    "from rdkit import Chem\n",
    "from rdkit.Chem import AllChem\n",
    "from rdkit.Chem import Draw\n",
    "from rdkit.Chem import rdDepictor\n",
    "from itertools import islice\n",
    "\n",
    "#Needed to show molecules\n",
    "from rdkit.Chem.Draw import IPythonConsole \n",
    "\n",
    "from rdkit.Chem.Draw.MolDrawing import MolDrawing, DrawingOptions \n",
    "from rdkit.Chem import PandasTools\n",
    "from rdkit.Chem.Draw import IPythonConsole\n",
    "\n",
    "\n",
    "molecules = [Chem.MolFromSmiles(smiles)\n",
    "             for smiles in islice(df['base_rdkit_smiles'],15)]\n",
    "\n",
    "Draw.MolsToGridImage(molecules,  subImgSize=(450,250))"
   ]
  },
  {
   "cell_type": "markdown",
   "metadata": {
    "id": "4tyzWOcBmzTg"
   },
   "source": [
    "# Modeling: Training"
   ]
  },
  {
   "cell_type": "code",
   "execution_count": 9,
   "metadata": {
    "colab": {
     "base_uri": "https://localhost:8080/"
    },
    "id": "eHnYylOmxxQU",
    "outputId": "cf7385d3-8856-46a8-aaf4-a26a2d591a07"
   },
   "outputs": [
    {
     "name": "stderr",
     "output_type": "stream",
     "text": [
      "2021-09-18 16:07:44,834 Attempting to load featurized dataset\n",
      "2021-09-18 16:07:44,843 Exception when trying to load featurized data:\n",
      "DynamicFeaturization doesn't support get_featurized_dset_name()\n",
      "2021-09-18 16:07:44,845 Featurized dataset not previously saved for dataset morgan_warner_combined_bsep_data, creating new\n",
      "2021-09-18 16:07:44,858 Featurizing sample 0\n",
      "2021-09-18 16:07:49,246 Splitting data by scaffold\n"
     ]
    },
    {
     "name": "stdout",
     "output_type": "stream",
     "text": [
      "number of features: 1024\n"
     ]
    },
    {
     "name": "stderr",
     "output_type": "stream",
     "text": [
      "2021-09-18 16:07:49,687 Dataset split table saved to /content/morgan_warner_combined_bsep_data_train_valid_test_scaffold_8400760b-9111-466a-b23c-824bd0c3ed4c.csv\n",
      "2021-09-18 16:07:49,720 Fitting random forest model\n",
      "2021-09-18 16:07:52,206 Fold 0: training roc_auc_score = 1.000, validation roc_auc_score = 0.795, test roc_auc_score = 0.747\n",
      "2021-09-18 16:07:52,741 Wrote model tarball to /content/morgan_warner_combined_bsep_data_model_b2172bb4-2e81-401e-9d81-0a2b9a5bb53a.tar.gz\n"
     ]
    }
   ],
   "source": [
    "response_col = \"active\"\n",
    "compound_id = \"compound_name\"\n",
    "smiles_col = \"base_rdkit_smiles\"\n",
    "\n",
    "params = {\n",
    "        \"verbose\": \"True\",\n",
    "        \"system\": \"LC\",\n",
    "        \"lc_account\": 'None',\n",
    "        \"datastore\": \"False\",\n",
    "        \"save_results\": \"False\",\n",
    "        \"data_owner\": \"username\",\n",
    "        \"prediction_type\": \"classification\",\n",
    "        \"dataset_key\": \"/content/morgan_warner_combined_bsep_data.csv\",\n",
    "        \"id_col\": compound_id,\n",
    "        \"smiles_col\": smiles_col,\n",
    "        \"response_cols\": response_col,\n",
    "        \"previously_split\": \"False\",\n",
    "        \"split_only\": \"False\",\n",
    "        \"featurizer\": \"ecfp\",\n",
    "        \"model_type\": \"RF\",\n",
    "        \"verbose\": \"True\",\n",
    "        \"transformers\": \"True\",\n",
    "        'max_epochs': '70',\n",
    "        \"rerun\": \"False\",\n",
    "        \"result_dir\": \"/content\"\n",
    "        # \"ampl_version\": \" \"\n",
    "    }\n",
    "\n",
    "ampl_param = parse.wrapper(params)\n",
    "pl = mp.ModelPipeline(ampl_param)\n",
    "pl.train_model()"
   ]
  },
  {
   "cell_type": "markdown",
   "metadata": {
    "id": "h6zieHQJSGiv"
   },
   "source": [
    "# Explore the model tar and metadata files "
   ]
  },
  {
   "cell_type": "code",
   "execution_count": 10,
   "metadata": {
    "colab": {
     "base_uri": "https://localhost:8080/"
    },
    "id": "K47a88Gya95C",
    "outputId": "7bfd9dea-4267-4427-87c8-040453a3bb75"
   },
   "outputs": [
    {
     "name": "stdout",
     "output_type": "stream",
     "text": [
      "./best_model/\n",
      "./best_model/model.joblib\n",
      "./model_metadata.json\n",
      "./model_metrics.json\n"
     ]
    }
   ],
   "source": [
    "!tar -tf *.tar.gz"
   ]
  },
  {
   "cell_type": "code",
   "execution_count": 11,
   "metadata": {
    "id": "PXcTKu4Gc50z"
   },
   "outputs": [],
   "source": [
    "!tar xzf *.tar.gz -C /tmp"
   ]
  },
  {
   "cell_type": "code",
   "execution_count": 12,
   "metadata": {
    "colab": {
     "base_uri": "https://localhost:8080/"
    },
    "id": "eRcW-Y1ohH71",
    "outputId": "47986392-1a46-42d5-bb06-30241864bd81"
   },
   "outputs": [
    {
     "name": "stdout",
     "output_type": "stream",
     "text": [
      "{\n",
      "    \"ecfp_specific\": {\n",
      "        \"ecfp_radius\": 2,\n",
      "        \"ecfp_size\": 1024\n",
      "    },\n",
      "    \"model_parameters\": {\n",
      "        \"ampl_version\": \"1.2.0\",\n",
      "        \"featurizer\": \"ecfp\",\n",
      "        \"hyperparam_uuid\": null,\n",
      "        \"model_bucket\": \"public\",\n"
     ]
    }
   ],
   "source": [
    "!cat /tmp/model_metadata.json | head"
   ]
  },
  {
   "cell_type": "code",
   "execution_count": 13,
   "metadata": {
    "colab": {
     "base_uri": "https://localhost:8080/"
    },
    "id": "JjbADzw15u9C",
    "outputId": "944e85dc-7b56-41f6-ade4-f4bba12c6b2a"
   },
   "outputs": [
    {
     "data": {
      "text/plain": [
       "RandomForestClassifier(bootstrap=True, ccp_alpha=0.0, class_weight=None,\n",
       "                       criterion='gini', max_depth=None, max_features=32,\n",
       "                       max_leaf_nodes=None, max_samples=None,\n",
       "                       min_impurity_decrease=0.0, min_impurity_split=None,\n",
       "                       min_samples_leaf=1, min_samples_split=2,\n",
       "                       min_weight_fraction_leaf=0.0, n_estimators=500,\n",
       "                       n_jobs=-1, oob_score=False, random_state=None, verbose=0,\n",
       "                       warm_start=False)"
      ]
     },
     "execution_count": 13,
     "metadata": {},
     "output_type": "execute_result"
    }
   ],
   "source": [
    "import joblib\n",
    "# load the model from disk\n",
    "loaded_model = joblib.load(\"/tmp/best_model/model.joblib\")\n",
    "loaded_model"
   ]
  },
  {
   "cell_type": "code",
   "execution_count": 14,
   "metadata": {
    "colab": {
     "base_uri": "https://localhost:8080/"
    },
    "id": "JUrEbaxteRmi",
    "outputId": "65f44b08-94cc-4612-b172-d44678b4ad60"
   },
   "outputs": [
    {
     "data": {
      "text/plain": [
       "{'ampl_version': '1.2.0',\n",
       " 'featurizer': 'ecfp',\n",
       " 'hyperparam_uuid': None,\n",
       " 'model_bucket': 'public',\n",
       " 'model_choice_score_type': 'roc_auc',\n",
       " 'model_type': 'RF',\n",
       " 'num_model_tasks': 1,\n",
       " 'prediction_type': 'classification',\n",
       " 'save_results': False,\n",
       " 'system': 'LC',\n",
       " 'time_generated': 1631981272.6411622,\n",
       " 'transformer_bucket': 'public',\n",
       " 'transformer_key': None,\n",
       " 'transformer_oid': None,\n",
       " 'transformers': True,\n",
       " 'uncertainty': True}"
      ]
     },
     "execution_count": 14,
     "metadata": {},
     "output_type": "execute_result"
    }
   ],
   "source": [
    "import json\n",
    "import pandas as pd\n",
    "data = json.load(open('/tmp/model_metadata.json'))\n",
    "# pd.DataFrame(data[\"model_parameters\"])\n",
    "data['model_parameters']"
   ]
  },
  {
   "cell_type": "markdown",
   "metadata": {
    "id": "wsuaH3EaSKEa"
   },
   "source": [
    "# Make a prediction on the validation test"
   ]
  },
  {
   "cell_type": "code",
   "execution_count": 15,
   "metadata": {
    "colab": {
     "base_uri": "https://localhost:8080/"
    },
    "id": "QDmeonI6AQTq",
    "outputId": "c102f84f-9e96-482c-e896-f05d925af67e"
   },
   "outputs": [
    {
     "name": "stdout",
     "output_type": "stream",
     "text": [
      "AUC score of validation set: 0.743\n"
     ]
    }
   ],
   "source": [
    "pred_data = pl.model_wrapper.get_perf_data(subset=\"valid\", epoch_label=\"best\")\n",
    "pred_results = pred_data.get_prediction_results()\n",
    "pred_results\n",
    "print(f\"AUC score of validation set: {pred_results['prc_auc_score']:.3f}\")"
   ]
  },
  {
   "cell_type": "code",
   "execution_count": 16,
   "metadata": {
    "id": "A-7cboqQEmZz"
   },
   "outputs": [],
   "source": [
    "pred_data = pl.model_wrapper.get_perf_data(subset=\"test\", epoch_label=\"best\")\n",
    "pred_results = pred_data.get_prediction_results()\n",
    "# print(f\"R2 score of validation set: {pred_results['r2_score']:.3f}\")"
   ]
  },
  {
   "cell_type": "code",
   "execution_count": 17,
   "metadata": {
    "colab": {
     "base_uri": "https://localhost:8080/"
    },
    "id": "NjGuDF46EpDj",
    "outputId": "16d63564-3619-40be-c4bf-c10e7be77691"
   },
   "outputs": [
    {
     "data": {
      "text/plain": [
       "{'accuracy_score': 0.696969696969697,\n",
       " 'bal_accuracy': 0.6948529411764706,\n",
       " 'confusion_matrix': [[[26, 8], [12, 20]]],\n",
       " 'cross_entropy': 0.5918038827402821,\n",
       " 'kappa': 0.3911439114391144,\n",
       " 'matthews_cc': 0.39407655228132893,\n",
       " 'npv': 0.6842105263157895,\n",
       " 'num_compounds': 66,\n",
       " 'prc_auc_score': 0.7296276022625086,\n",
       " 'precision': 0.7142857142857143,\n",
       " 'recall_score': 0.625,\n",
       " 'roc_auc_score': 0.7472426470588235}"
      ]
     },
     "execution_count": 17,
     "metadata": {},
     "output_type": "execute_result"
    }
   ],
   "source": [
    "pred_results"
   ]
  },
  {
   "cell_type": "markdown",
   "metadata": {
    "id": "ARMFa7QroT_H"
   },
   "source": [
    "# Use an external data set for prediction\n",
    "If you want to use your input data, please make sure your input data should be in CSV format that contains the following information:\n",
    "Row of column headers\n",
    "contain a column of SMILES strings for the compounds you want to run predictions on.\n",
    "Optional information:\n",
    "  *   A column of unique compound IDs; if none is provided, one will be generated for you\n",
    "  *   A column of binary activity values, if you have measured IC50s for the input compounds: 0 if the IC50 < 100 uM, 1 if IC50 >= 100 uM.\n",
    "\n",
    "Let us read a sample test data and make predictions.\n"
   ]
  },
  {
   "cell_type": "code",
   "execution_count": 18,
   "metadata": {
    "colab": {
     "base_uri": "https://localhost:8080/",
     "height": 174
    },
    "id": "pIslyPkKIYrr",
    "outputId": "036b4f86-34a0-4c27-8394-c8a62f01b1fe"
   },
   "outputs": [
    {
     "data": {
      "text/html": [
       "<div>\n",
       "<style scoped>\n",
       "    .dataframe tbody tr th:only-of-type {\n",
       "        vertical-align: middle;\n",
       "    }\n",
       "\n",
       "    .dataframe tbody tr th {\n",
       "        vertical-align: top;\n",
       "    }\n",
       "\n",
       "    .dataframe thead th {\n",
       "        text-align: right;\n",
       "    }\n",
       "</style>\n",
       "<table border=\"1\" class=\"dataframe\">\n",
       "  <thead>\n",
       "    <tr style=\"text-align: right;\">\n",
       "      <th></th>\n",
       "      <th>base_rdkit_smiles</th>\n",
       "      <th>compound_id</th>\n",
       "      <th>pIC50</th>\n",
       "      <th>relation</th>\n",
       "      <th>active</th>\n",
       "    </tr>\n",
       "  </thead>\n",
       "  <tbody>\n",
       "    <tr>\n",
       "      <th>0</th>\n",
       "      <td>CN(C)[C@@H]1C(O)=C(C(N)=O)C(=O)[C@@]2(O)C(O)=C...</td>\n",
       "      <td>CHEMBL198</td>\n",
       "      <td>3.000000</td>\n",
       "      <td>&lt;</td>\n",
       "      <td>0</td>\n",
       "    </tr>\n",
       "    <tr>\n",
       "      <th>1</th>\n",
       "      <td>C[C@]12C[C@H](O)[C@@]3(F)C(CCC4=CC(=O)C=C[C@@]...</td>\n",
       "      <td>CHEMBL3039453</td>\n",
       "      <td>3.627825</td>\n",
       "      <td>NaN</td>\n",
       "      <td>1</td>\n",
       "    </tr>\n",
       "    <tr>\n",
       "      <th>2</th>\n",
       "      <td>Nc1nc2cc(Cl)ccc2o1</td>\n",
       "      <td>CHEMBL472566</td>\n",
       "      <td>3.000000</td>\n",
       "      <td>&lt;</td>\n",
       "      <td>0</td>\n",
       "    </tr>\n",
       "    <tr>\n",
       "      <th>3</th>\n",
       "      <td>COc1cc([C@@H]2c3cc4c(cc3[C@@H](O[C@@H]3O[C@@H]...</td>\n",
       "      <td>CHEMBL44657</td>\n",
       "      <td>3.876148</td>\n",
       "      <td>&lt;</td>\n",
       "      <td>0</td>\n",
       "    </tr>\n",
       "  </tbody>\n",
       "</table>\n",
       "</div>"
      ],
      "text/plain": [
       "                                   base_rdkit_smiles  ... active\n",
       "0  CN(C)[C@@H]1C(O)=C(C(N)=O)C(=O)[C@@]2(O)C(O)=C...  ...      0\n",
       "1  C[C@]12C[C@H](O)[C@@]3(F)C(CCC4=CC(=O)C=C[C@@]...  ...      1\n",
       "2                                 Nc1nc2cc(Cl)ccc2o1  ...      0\n",
       "3  COc1cc([C@@H]2c3cc4c(cc3[C@@H](O[C@@H]3O[C@@H]...  ...      0\n",
       "\n",
       "[4 rows x 5 columns]"
      ]
     },
     "execution_count": 18,
     "metadata": {},
     "output_type": "execute_result"
    }
   ],
   "source": [
    "test_data = pd.read_csv(\"small_test_data.csv\")\n",
    "test_data.head(4)"
   ]
  },
  {
   "cell_type": "code",
   "execution_count": 19,
   "metadata": {
    "id": "p4IaisQqJAt7"
   },
   "outputs": [],
   "source": [
    "# ?pl.predict_on_smiles\n",
    "list_cpds = list(test_data.base_rdkit_smiles.values)"
   ]
  },
  {
   "cell_type": "code",
   "execution_count": 20,
   "metadata": {
    "colab": {
     "base_uri": "https://localhost:8080/",
     "height": 206
    },
    "id": "iFg5Juy_JuX-",
    "outputId": "f969cb1f-038f-4496-ed4a-fef6d548c315"
   },
   "outputs": [
    {
     "data": {
      "text/html": [
       "<div>\n",
       "<style scoped>\n",
       "    .dataframe tbody tr th:only-of-type {\n",
       "        vertical-align: middle;\n",
       "    }\n",
       "\n",
       "    .dataframe tbody tr th {\n",
       "        vertical-align: top;\n",
       "    }\n",
       "\n",
       "    .dataframe thead th {\n",
       "        text-align: right;\n",
       "    }\n",
       "</style>\n",
       "<table border=\"1\" class=\"dataframe\">\n",
       "  <thead>\n",
       "    <tr style=\"text-align: right;\">\n",
       "      <th></th>\n",
       "      <th>base_rdkit_smiles</th>\n",
       "      <th>compound_name</th>\n",
       "      <th>pIC50</th>\n",
       "      <th>relation</th>\n",
       "      <th>active</th>\n",
       "    </tr>\n",
       "  </thead>\n",
       "  <tbody>\n",
       "    <tr>\n",
       "      <th>0</th>\n",
       "      <td>CN(C)[C@@H]1C(O)=C(C(N)=O)C(=O)[C@@]2(O)C(O)=C...</td>\n",
       "      <td>CHEMBL198</td>\n",
       "      <td>3.000000</td>\n",
       "      <td>&lt;</td>\n",
       "      <td>0</td>\n",
       "    </tr>\n",
       "    <tr>\n",
       "      <th>1</th>\n",
       "      <td>C[C@]12C[C@H](O)[C@@]3(F)C(CCC4=CC(=O)C=C[C@@]...</td>\n",
       "      <td>CHEMBL3039453</td>\n",
       "      <td>3.627825</td>\n",
       "      <td>NaN</td>\n",
       "      <td>1</td>\n",
       "    </tr>\n",
       "    <tr>\n",
       "      <th>2</th>\n",
       "      <td>Nc1nc2cc(Cl)ccc2o1</td>\n",
       "      <td>CHEMBL472566</td>\n",
       "      <td>3.000000</td>\n",
       "      <td>&lt;</td>\n",
       "      <td>0</td>\n",
       "    </tr>\n",
       "    <tr>\n",
       "      <th>3</th>\n",
       "      <td>COc1cc([C@@H]2c3cc4c(cc3[C@@H](O[C@@H]3O[C@@H]...</td>\n",
       "      <td>CHEMBL44657</td>\n",
       "      <td>3.876148</td>\n",
       "      <td>&lt;</td>\n",
       "      <td>0</td>\n",
       "    </tr>\n",
       "    <tr>\n",
       "      <th>4</th>\n",
       "      <td>CC(=O)[C@H]1[C@H](C#N)C[C@H]2[C@@H]3CC=C4CC(O)...</td>\n",
       "      <td>CHEMBL4063685</td>\n",
       "      <td>3.876148</td>\n",
       "      <td>&lt;</td>\n",
       "      <td>0</td>\n",
       "    </tr>\n",
       "  </tbody>\n",
       "</table>\n",
       "</div>"
      ],
      "text/plain": [
       "                                   base_rdkit_smiles  ... active\n",
       "0  CN(C)[C@@H]1C(O)=C(C(N)=O)C(=O)[C@@]2(O)C(O)=C...  ...      0\n",
       "1  C[C@]12C[C@H](O)[C@@]3(F)C(CCC4=CC(=O)C=C[C@@]...  ...      1\n",
       "2                                 Nc1nc2cc(Cl)ccc2o1  ...      0\n",
       "3  COc1cc([C@@H]2c3cc4c(cc3[C@@H](O[C@@H]3O[C@@H]...  ...      0\n",
       "4  CC(=O)[C@H]1[C@H](C#N)C[C@H]2[C@@H]3CC=C4CC(O)...  ...      0\n",
       "\n",
       "[5 rows x 5 columns]"
      ]
     },
     "execution_count": 20,
     "metadata": {},
     "output_type": "execute_result"
    }
   ],
   "source": [
    "test_data.rename(columns={\"compound_id\": \"compound_name\"}, inplace=True)\n",
    "test_data.head(5)"
   ]
  },
  {
   "cell_type": "markdown",
   "metadata": {
    "id": "F-i4wUBPnKFx"
   },
   "source": [
    "# Inference on the external dataset"
   ]
  },
  {
   "cell_type": "code",
   "execution_count": 21,
   "metadata": {
    "colab": {
     "base_uri": "https://localhost:8080/",
     "height": 762
    },
    "id": "XFdorY-KIp93",
    "outputId": "b4646e03-0c51-41e3-9111-13384c3bc050"
   },
   "outputs": [
    {
     "name": "stderr",
     "output_type": "stream",
     "text": [
      "2021-09-18 16:07:53,729 Featurizing data...\n",
      "2021-09-18 16:07:53,738 Featurizing sample 0\n",
      "2021-09-18 16:07:53,890 Done\n",
      "2021-09-18 16:07:53,905 Evaluating current model\n"
     ]
    },
    {
     "name": "stdout",
     "output_type": "stream",
     "text": [
      "number of features: 1024\n"
     ]
    },
    {
     "data": {
      "text/html": [
       "<div>\n",
       "<style scoped>\n",
       "    .dataframe tbody tr th:only-of-type {\n",
       "        vertical-align: middle;\n",
       "    }\n",
       "\n",
       "    .dataframe tbody tr th {\n",
       "        vertical-align: top;\n",
       "    }\n",
       "\n",
       "    .dataframe thead th {\n",
       "        text-align: right;\n",
       "    }\n",
       "</style>\n",
       "<table border=\"1\" class=\"dataframe\">\n",
       "  <thead>\n",
       "    <tr style=\"text-align: right;\">\n",
       "      <th></th>\n",
       "      <th>base_rdkit_smiles</th>\n",
       "      <th>actual</th>\n",
       "      <th>pred</th>\n",
       "    </tr>\n",
       "    <tr>\n",
       "      <th>compound_name</th>\n",
       "      <th></th>\n",
       "      <th></th>\n",
       "      <th></th>\n",
       "    </tr>\n",
       "  </thead>\n",
       "  <tbody>\n",
       "    <tr>\n",
       "      <th>CHEMBL198</th>\n",
       "      <td>CN(C)[C@@H]1C(O)=C(C(N)=O)C(=O)[C@@]2(O)C(O)=C...</td>\n",
       "      <td>0.0</td>\n",
       "      <td>0</td>\n",
       "    </tr>\n",
       "    <tr>\n",
       "      <th>CHEMBL3039453</th>\n",
       "      <td>C[C@]12C[C@H](O)[C@@]3(F)C(CCC4=CC(=O)C=C[C@@]...</td>\n",
       "      <td>1.0</td>\n",
       "      <td>0</td>\n",
       "    </tr>\n",
       "    <tr>\n",
       "      <th>CHEMBL472566</th>\n",
       "      <td>Nc1nc2cc(Cl)ccc2o1</td>\n",
       "      <td>0.0</td>\n",
       "      <td>0</td>\n",
       "    </tr>\n",
       "    <tr>\n",
       "      <th>CHEMBL44657</th>\n",
       "      <td>COc1cc([C@@H]2c3cc4c(cc3[C@@H](O[C@@H]3O[C@@H]...</td>\n",
       "      <td>0.0</td>\n",
       "      <td>1</td>\n",
       "    </tr>\n",
       "    <tr>\n",
       "      <th>CHEMBL4063685</th>\n",
       "      <td>CC(=O)[C@H]1[C@H](C#N)C[C@H]2[C@@H]3CC=C4CC(O)...</td>\n",
       "      <td>0.0</td>\n",
       "      <td>1</td>\n",
       "    </tr>\n",
       "    <tr>\n",
       "      <th>CHEMBL1200777</th>\n",
       "      <td>N[C@H](Cc1cc(I)c(Oc2cc(I)c(O)c(I)c2)c(I)c1)C(=...</td>\n",
       "      <td>1.0</td>\n",
       "      <td>1</td>\n",
       "    </tr>\n",
       "    <tr>\n",
       "      <th>CHEMBL452231</th>\n",
       "      <td>COc1cc([C@@H]2c3cc4c(cc3[C@@H](O[C@@H]3O[C@@H]...</td>\n",
       "      <td>0.0</td>\n",
       "      <td>1</td>\n",
       "    </tr>\n",
       "    <tr>\n",
       "      <th>CHEMBL640</th>\n",
       "      <td>CCN(CC)CCNC(=O)c1ccc(N)cc1</td>\n",
       "      <td>0.0</td>\n",
       "      <td>0</td>\n",
       "    </tr>\n",
       "    <tr>\n",
       "      <th>CHEMBL95804</th>\n",
       "      <td>CCN(CC)CCNC(=O)c1ccc(NS(C)(=O)=O)cc1</td>\n",
       "      <td>0.0</td>\n",
       "      <td>0</td>\n",
       "    </tr>\n",
       "    <tr>\n",
       "      <th>CHEMBL1231530</th>\n",
       "      <td>O=C(O)CCNC(=O)c1ccccc1</td>\n",
       "      <td>0.0</td>\n",
       "      <td>0</td>\n",
       "    </tr>\n",
       "    <tr>\n",
       "      <th>CHEMBL373742</th>\n",
       "      <td>N=C(N)NCCC[C@H](NC(=O)[C@@H]1CCCN1C(=O)[C@@H]1...</td>\n",
       "      <td>0.0</td>\n",
       "      <td>0</td>\n",
       "    </tr>\n",
       "    <tr>\n",
       "      <th>CHEMBL1200820</th>\n",
       "      <td>CCN1CCN(C(=O)N[C@@H](C(=O)N[C@@H]2C(=O)N3[C@@H...</td>\n",
       "      <td>0.0</td>\n",
       "      <td>1</td>\n",
       "    </tr>\n",
       "    <tr>\n",
       "      <th>CHEMBL15677</th>\n",
       "      <td>O=C(O)Cc1ccccc1Oc1ccc(Cl)cc1Cl</td>\n",
       "      <td>1.0</td>\n",
       "      <td>0</td>\n",
       "    </tr>\n",
       "    <tr>\n",
       "      <th>CHEMBL403</th>\n",
       "      <td>CC1(C)[C@H](C(=O)O)N2C(=O)C[C@H]2S1(=O)=O</td>\n",
       "      <td>0.0</td>\n",
       "      <td>0</td>\n",
       "    </tr>\n",
       "    <tr>\n",
       "      <th>CHEMBL184</th>\n",
       "      <td>Nc1nc(O)c2ncn(COCCO)c2n1</td>\n",
       "      <td>0.0</td>\n",
       "      <td>0</td>\n",
       "    </tr>\n",
       "    <tr>\n",
       "      <th>CHEMBL438</th>\n",
       "      <td>Cc1ccnc(NS(=O)(=O)c2ccc(N)cc2)n1</td>\n",
       "      <td>0.0</td>\n",
       "      <td>0</td>\n",
       "    </tr>\n",
       "    <tr>\n",
       "      <th>CHEMBL4088943</th>\n",
       "      <td>Cc1ccc(CCCN[C@H](C)CO)cc1C(=O)NCC12CC3CC(CC(C3...</td>\n",
       "      <td>1.0</td>\n",
       "      <td>0</td>\n",
       "    </tr>\n",
       "    <tr>\n",
       "      <th>CHEMBL35505</th>\n",
       "      <td>NNc1nnc(NN)c2ccccc12</td>\n",
       "      <td>0.0</td>\n",
       "      <td>0</td>\n",
       "    </tr>\n",
       "    <tr>\n",
       "      <th>CHEMBL1201203</th>\n",
       "      <td>CN1[C@H]2CC[C@@H]1C[C@H](OC(c1ccccc1)c1ccccc1)C2</td>\n",
       "      <td>1.0</td>\n",
       "      <td>0</td>\n",
       "    </tr>\n",
       "  </tbody>\n",
       "</table>\n",
       "</div>"
      ],
      "text/plain": [
       "                                               base_rdkit_smiles  actual  pred\n",
       "compound_name                                                                 \n",
       "CHEMBL198      CN(C)[C@@H]1C(O)=C(C(N)=O)C(=O)[C@@]2(O)C(O)=C...     0.0     0\n",
       "CHEMBL3039453  C[C@]12C[C@H](O)[C@@]3(F)C(CCC4=CC(=O)C=C[C@@]...     1.0     0\n",
       "CHEMBL472566                                  Nc1nc2cc(Cl)ccc2o1     0.0     0\n",
       "CHEMBL44657    COc1cc([C@@H]2c3cc4c(cc3[C@@H](O[C@@H]3O[C@@H]...     0.0     1\n",
       "CHEMBL4063685  CC(=O)[C@H]1[C@H](C#N)C[C@H]2[C@@H]3CC=C4CC(O)...     0.0     1\n",
       "CHEMBL1200777  N[C@H](Cc1cc(I)c(Oc2cc(I)c(O)c(I)c2)c(I)c1)C(=...     1.0     1\n",
       "CHEMBL452231   COc1cc([C@@H]2c3cc4c(cc3[C@@H](O[C@@H]3O[C@@H]...     0.0     1\n",
       "CHEMBL640                             CCN(CC)CCNC(=O)c1ccc(N)cc1     0.0     0\n",
       "CHEMBL95804                 CCN(CC)CCNC(=O)c1ccc(NS(C)(=O)=O)cc1     0.0     0\n",
       "CHEMBL1231530                             O=C(O)CCNC(=O)c1ccccc1     0.0     0\n",
       "CHEMBL373742   N=C(N)NCCC[C@H](NC(=O)[C@@H]1CCCN1C(=O)[C@@H]1...     0.0     0\n",
       "CHEMBL1200820  CCN1CCN(C(=O)N[C@@H](C(=O)N[C@@H]2C(=O)N3[C@@H...     0.0     1\n",
       "CHEMBL15677                       O=C(O)Cc1ccccc1Oc1ccc(Cl)cc1Cl     1.0     0\n",
       "CHEMBL403              CC1(C)[C@H](C(=O)O)N2C(=O)C[C@H]2S1(=O)=O     0.0     0\n",
       "CHEMBL184                               Nc1nc(O)c2ncn(COCCO)c2n1     0.0     0\n",
       "CHEMBL438                       Cc1ccnc(NS(=O)(=O)c2ccc(N)cc2)n1     0.0     0\n",
       "CHEMBL4088943  Cc1ccc(CCCN[C@H](C)CO)cc1C(=O)NCC12CC3CC(CC(C3...     1.0     0\n",
       "CHEMBL35505                                 NNc1nnc(NN)c2ccccc12     0.0     0\n",
       "CHEMBL1201203   CN1[C@H]2CC[C@@H]1C[C@H](OC(c1ccccc1)c1ccccc1)C2     1.0     0"
      ]
     },
     "execution_count": 21,
     "metadata": {},
     "output_type": "execute_result"
    }
   ],
   "source": [
    "results_df = pl.predict_on_dataframe(test_data, contains_responses=True)\n",
    "results_df"
   ]
  },
  {
   "cell_type": "markdown",
   "metadata": {
    "id": "2Y7Bc7avABke"
   },
   "source": [
    "### New AMPL version function can be used instead of the previous cell command"
   ]
  },
  {
   "cell_type": "code",
   "execution_count": 22,
   "metadata": {
    "colab": {
     "base_uri": "https://localhost:8080/"
    },
    "id": "x8T1AIW5U5j_",
    "outputId": "da1f0db2-bfc1-4f65-e823-b6b069cd48bb"
   },
   "outputs": [
    {
     "name": "stdout",
     "output_type": "stream",
     "text": [
      "morgan_warner_combined_bsep_data_model_b2172bb4-2e81-401e-9d81-0a2b9a5bb53a.tar.gz\n"
     ]
    }
   ],
   "source": [
    "import os\n",
    "files = os.listdir()\n",
    "for f in files: \n",
    "  if (f.endswith(\".tar.gz\")):\n",
    "    mfile = f \n",
    "\n",
    "print(mfile)"
   ]
  },
  {
   "cell_type": "markdown",
   "metadata": {
    "id": "QOcw6dOEVhIH"
   },
   "source": [
    "## Replace the mfile with the file that is shown above. Note the filename will be different for each run "
   ]
  },
  {
   "cell_type": "code",
   "execution_count": 23,
   "metadata": {
    "colab": {
     "base_uri": "https://localhost:8080/",
     "height": 714
    },
    "id": "0INOGdDl__Yq",
    "outputId": "a13f3cb1-5622-4b7a-dbc0-f35d82361a2c"
   },
   "outputs": [
    {
     "name": "stdout",
     "output_type": "stream",
     "text": [
      "Standardizing SMILES strings for 19 compounds.\n"
     ]
    },
    {
     "name": "stderr",
     "output_type": "stream",
     "text": [
      "2021-09-18 16:07:54,645 ['ampl_version', 'time_generated', 'time_built', 'dataset_metadata', 'training_metrics'] are not part of the accepted list of parameters and will be ignored\n"
     ]
    },
    {
     "name": "stdout",
     "output_type": "stream",
     "text": [
      "Featurization = DynamicFeaturization with ecfp features\n",
      "number of features: 1024\n"
     ]
    },
    {
     "data": {
      "text/html": [
       "<div>\n",
       "<style scoped>\n",
       "    .dataframe tbody tr th:only-of-type {\n",
       "        vertical-align: middle;\n",
       "    }\n",
       "\n",
       "    .dataframe tbody tr th {\n",
       "        vertical-align: top;\n",
       "    }\n",
       "\n",
       "    .dataframe thead th {\n",
       "        text-align: right;\n",
       "    }\n",
       "</style>\n",
       "<table border=\"1\" class=\"dataframe\">\n",
       "  <thead>\n",
       "    <tr style=\"text-align: right;\">\n",
       "      <th></th>\n",
       "      <th>compound_id</th>\n",
       "      <th>standardized_smiles</th>\n",
       "      <th>active_actual</th>\n",
       "      <th>active_prob</th>\n",
       "      <th>active_pred</th>\n",
       "    </tr>\n",
       "  </thead>\n",
       "  <tbody>\n",
       "    <tr>\n",
       "      <th>0</th>\n",
       "      <td>compound_000000</td>\n",
       "      <td>CN(C)[C@@H]1C(O)=C(C(N)=O)C(=O)[C@@]2(O)C(O)=C...</td>\n",
       "      <td>0.0</td>\n",
       "      <td>0.317333</td>\n",
       "      <td>0</td>\n",
       "    </tr>\n",
       "    <tr>\n",
       "      <th>1</th>\n",
       "      <td>compound_000001</td>\n",
       "      <td>C[C@]12C[C@H](O)[C@@]3(F)C(CCC4=CC(=O)C=C[C@@]...</td>\n",
       "      <td>1.0</td>\n",
       "      <td>0.262000</td>\n",
       "      <td>0</td>\n",
       "    </tr>\n",
       "    <tr>\n",
       "      <th>2</th>\n",
       "      <td>compound_000002</td>\n",
       "      <td>Nc1nc2cc(Cl)ccc2o1</td>\n",
       "      <td>0.0</td>\n",
       "      <td>0.296000</td>\n",
       "      <td>0</td>\n",
       "    </tr>\n",
       "    <tr>\n",
       "      <th>3</th>\n",
       "      <td>compound_000003</td>\n",
       "      <td>COc1cc([C@@H]2c3cc4c(cc3[C@@H](O[C@@H]3O[C@@H]...</td>\n",
       "      <td>0.0</td>\n",
       "      <td>0.513417</td>\n",
       "      <td>1</td>\n",
       "    </tr>\n",
       "    <tr>\n",
       "      <th>4</th>\n",
       "      <td>compound_000004</td>\n",
       "      <td>CC(=O)[C@H]1[C@H](C#N)C[C@H]2[C@@H]3CC=C4CC(O)...</td>\n",
       "      <td>0.0</td>\n",
       "      <td>0.743000</td>\n",
       "      <td>1</td>\n",
       "    </tr>\n",
       "    <tr>\n",
       "      <th>5</th>\n",
       "      <td>compound_000005</td>\n",
       "      <td>N[C@H](Cc1cc(I)c(Oc2cc(I)c(O)c(I)c2)c(I)c1)C(=...</td>\n",
       "      <td>1.0</td>\n",
       "      <td>0.800000</td>\n",
       "      <td>1</td>\n",
       "    </tr>\n",
       "    <tr>\n",
       "      <th>6</th>\n",
       "      <td>compound_000006</td>\n",
       "      <td>COc1cc([C@@H]2c3cc4c(cc3[C@@H](O[C@@H]3O[C@@H]...</td>\n",
       "      <td>0.0</td>\n",
       "      <td>0.522000</td>\n",
       "      <td>1</td>\n",
       "    </tr>\n",
       "    <tr>\n",
       "      <th>7</th>\n",
       "      <td>compound_000007</td>\n",
       "      <td>CCN(CC)CCNC(=O)c1ccc(N)cc1</td>\n",
       "      <td>0.0</td>\n",
       "      <td>0.134000</td>\n",
       "      <td>0</td>\n",
       "    </tr>\n",
       "    <tr>\n",
       "      <th>8</th>\n",
       "      <td>compound_000008</td>\n",
       "      <td>CCN(CC)CCNC(=O)c1ccc(NS(C)(=O)=O)cc1</td>\n",
       "      <td>0.0</td>\n",
       "      <td>0.260000</td>\n",
       "      <td>0</td>\n",
       "    </tr>\n",
       "    <tr>\n",
       "      <th>9</th>\n",
       "      <td>compound_000009</td>\n",
       "      <td>O=C(O)CCNC(=O)c1ccccc1</td>\n",
       "      <td>0.0</td>\n",
       "      <td>0.118000</td>\n",
       "      <td>0</td>\n",
       "    </tr>\n",
       "    <tr>\n",
       "      <th>10</th>\n",
       "      <td>compound_000010</td>\n",
       "      <td>N=C(N)NCCC[C@H](NC(=O)[C@@H]1CCCN1C(=O)[C@@H]1...</td>\n",
       "      <td>0.0</td>\n",
       "      <td>0.332000</td>\n",
       "      <td>0</td>\n",
       "    </tr>\n",
       "    <tr>\n",
       "      <th>11</th>\n",
       "      <td>compound_000011</td>\n",
       "      <td>CCN1CCN(C(=O)N[C@@H](C(=O)N[C@@H]2C(=O)N3[C@@H...</td>\n",
       "      <td>0.0</td>\n",
       "      <td>0.557667</td>\n",
       "      <td>1</td>\n",
       "    </tr>\n",
       "    <tr>\n",
       "      <th>12</th>\n",
       "      <td>compound_000012</td>\n",
       "      <td>O=C(O)Cc1ccccc1Oc1ccc(Cl)cc1Cl</td>\n",
       "      <td>1.0</td>\n",
       "      <td>0.420000</td>\n",
       "      <td>0</td>\n",
       "    </tr>\n",
       "    <tr>\n",
       "      <th>13</th>\n",
       "      <td>compound_000013</td>\n",
       "      <td>CC1(C)[C@H](C(=O)O)N2C(=O)C[C@H]2S1(=O)=O</td>\n",
       "      <td>0.0</td>\n",
       "      <td>0.427000</td>\n",
       "      <td>0</td>\n",
       "    </tr>\n",
       "    <tr>\n",
       "      <th>14</th>\n",
       "      <td>compound_000014</td>\n",
       "      <td>Nc1nc(O)c2ncn(COCCO)c2n1</td>\n",
       "      <td>0.0</td>\n",
       "      <td>0.364000</td>\n",
       "      <td>0</td>\n",
       "    </tr>\n",
       "    <tr>\n",
       "      <th>15</th>\n",
       "      <td>compound_000015</td>\n",
       "      <td>Cc1ccnc(NS(=O)(=O)c2ccc(N)cc2)n1</td>\n",
       "      <td>0.0</td>\n",
       "      <td>0.341000</td>\n",
       "      <td>0</td>\n",
       "    </tr>\n",
       "    <tr>\n",
       "      <th>16</th>\n",
       "      <td>compound_000016</td>\n",
       "      <td>Cc1ccc(CCCN[C@H](C)CO)cc1C(=O)NCC12CC3CC(CC(C3...</td>\n",
       "      <td>1.0</td>\n",
       "      <td>0.233667</td>\n",
       "      <td>0</td>\n",
       "    </tr>\n",
       "    <tr>\n",
       "      <th>17</th>\n",
       "      <td>compound_000017</td>\n",
       "      <td>NNc1nnc(NN)c2ccccc12</td>\n",
       "      <td>0.0</td>\n",
       "      <td>0.192000</td>\n",
       "      <td>0</td>\n",
       "    </tr>\n",
       "    <tr>\n",
       "      <th>18</th>\n",
       "      <td>compound_000018</td>\n",
       "      <td>CN1[C@H]2CC[C@@H]1C[C@H](OC(c1ccccc1)c1ccccc1)C2</td>\n",
       "      <td>1.0</td>\n",
       "      <td>0.152000</td>\n",
       "      <td>0</td>\n",
       "    </tr>\n",
       "  </tbody>\n",
       "</table>\n",
       "</div>"
      ],
      "text/plain": [
       "        compound_id  ... active_pred\n",
       "0   compound_000000  ...           0\n",
       "1   compound_000001  ...           0\n",
       "2   compound_000002  ...           0\n",
       "3   compound_000003  ...           1\n",
       "4   compound_000004  ...           1\n",
       "5   compound_000005  ...           1\n",
       "6   compound_000006  ...           1\n",
       "7   compound_000007  ...           0\n",
       "8   compound_000008  ...           0\n",
       "9   compound_000009  ...           0\n",
       "10  compound_000010  ...           0\n",
       "11  compound_000011  ...           1\n",
       "12  compound_000012  ...           0\n",
       "13  compound_000013  ...           0\n",
       "14  compound_000014  ...           0\n",
       "15  compound_000015  ...           0\n",
       "16  compound_000016  ...           0\n",
       "17  compound_000017  ...           0\n",
       "18  compound_000018  ...           0\n",
       "\n",
       "[19 rows x 5 columns]"
      ]
     },
     "execution_count": 23,
     "metadata": {},
     "output_type": "execute_result"
    }
   ],
   "source": [
    "from atomsci.ddm.pipeline import predict_from_model as pfm\n",
    "# mfile = \"morgan_warner_combined_bsep_data_model_c6623e4c-b43c-404d-9bd7-59b86fa138bc.tar.gz\"\n",
    "mpath = '/content'\n",
    "input_df = test_data\n",
    "response_col = \"active\"\n",
    "smiles_col = \"base_rdkit_smiles\"\n",
    "pfm.predict_from_model_file(model_path = mfile, \n",
    "                            input_df = input_df, \n",
    "                            smiles_col = smiles_col, \n",
    "                            response_col = response_col)"
   ]
  },
  {
   "cell_type": "markdown",
   "metadata": {
    "id": "W1SipNLBnP1p"
   },
   "source": [
    "# Report some performance metrics"
   ]
  },
  {
   "cell_type": "code",
   "execution_count": 24,
   "metadata": {
    "colab": {
     "base_uri": "https://localhost:8080/"
    },
    "id": "Iss-mPZuKoXx",
    "outputId": "2866b708-6d39-4cb2-899e-1af9bbcc1b47"
   },
   "outputs": [
    {
     "data": {
      "text/plain": [
       "0.4571428571428572"
      ]
     },
     "execution_count": 24,
     "metadata": {},
     "output_type": "execute_result"
    }
   ],
   "source": [
    "from sklearn.metrics import balanced_accuracy_score\n",
    "y_true = results_df['actual'].values\n",
    "y_pred = results_df['pred'].values\n",
    "balanced_accuracy_score(y_true, y_pred)"
   ]
  },
  {
   "cell_type": "code",
   "execution_count": 25,
   "metadata": {
    "colab": {
     "base_uri": "https://localhost:8080/"
    },
    "id": "4cTVESd_6mtW",
    "outputId": "9c312fb8-ab8f-49c5-b59d-2b1fd497fe77"
   },
   "outputs": [
    {
     "data": {
      "text/plain": [
       "array([[10,  4],\n",
       "       [ 4,  1]])"
      ]
     },
     "execution_count": 25,
     "metadata": {},
     "output_type": "execute_result"
    }
   ],
   "source": [
    "from sklearn.metrics import confusion_matrix\n",
    "confusion_matrix(y_true, y_pred)"
   ]
  },
  {
   "cell_type": "code",
   "execution_count": 26,
   "metadata": {
    "colab": {
     "base_uri": "https://localhost:8080/"
    },
    "id": "ISuW9k5-8pvs",
    "outputId": "0d478504-95da-482f-a39d-aa648f0b447b"
   },
   "outputs": [
    {
     "name": "stdout",
     "output_type": "stream",
     "text": [
      "Sat Sep 18 16:07:55 UTC 2021\n"
     ]
    }
   ],
   "source": [
    "!date"
   ]
  },
  {
   "cell_type": "code",
   "execution_count": 26,
   "metadata": {
    "id": "4PRAlkJT-3Gt"
   },
   "outputs": [],
   "source": []
  }
 ],
 "metadata": {
  "accelerator": "GPU",
  "colab": {
   "collapsed_sections": [],
   "include_colab_link": true,
   "machine_shape": "hm",
   "name": "14_BSEP-modeling.ipynb",
   "provenance": []
  },
  "extensions": {
   "jupyter_dashboards": {
    "activeView": "report_default",
    "version": 1,
    "views": {
     "grid_default": {
      "cellMargin": 10,
      "defaultCellHeight": 20,
      "maxColumns": 12,
      "name": "grid",
      "type": "grid"
     },
     "report_default": {
      "name": "report",
      "type": "report"
     }
    }
   }
  },
  "kernelspec": {
   "display_name": "Python 3",
   "language": "python",
   "name": "python3"
  },
  "language_info": {
   "codemirror_mode": {
    "name": "ipython",
    "version": 3
   },
   "file_extension": ".py",
   "mimetype": "text/x-python",
   "name": "python",
   "nbconvert_exporter": "python",
   "pygments_lexer": "ipython3",
   "version": "3.7.2"
  }
 },
 "nbformat": 4,
 "nbformat_minor": 4
}
