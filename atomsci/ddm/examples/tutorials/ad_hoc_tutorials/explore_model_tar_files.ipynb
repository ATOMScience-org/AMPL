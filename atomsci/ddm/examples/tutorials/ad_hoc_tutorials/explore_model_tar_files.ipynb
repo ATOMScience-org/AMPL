{
 "cells": [
  {
   "cell_type": "markdown",
   "id": "1ae260d6",
   "metadata": {},
   "source": [
    "# Explore the model tar and metadata files\n",
    "\n",
    "This tutorial will detial how to explore the model tar and metadata files."
   ]
  },
  {
   "cell_type": "code",
   "execution_count": 1,
   "id": "6ca58149",
   "metadata": {},
   "outputs": [
    {
     "name": "stdout",
     "output_type": "stream",
     "text": [
      "./best_model/\n",
      "./best_model/model.joblib\n",
      "./model_metadata.json\n",
      "./model_metrics.json\n",
      "./transformers.pkl\n"
     ]
    }
   ],
   "source": [
    "# list what is in the tarfile\n",
    "!tar -tf dataset/SLC6A3_models/SLC6A3_Ki_curated_model_9ff5a924-ef49-407c-a4d4-868a1288a67e.tar.gz"
   ]
  },
  {
   "cell_type": "code",
   "execution_count": 2,
   "id": "965bb773",
   "metadata": {},
   "outputs": [],
   "source": [
    "# unpack tarfile to tmp directory\n",
    "!tar xzf dataset/SLC6A3_models/SLC6A3_Ki_curated_model_9ff5a924-ef49-407c-a4d4-868a1288a67e.tar.gz -C /tmp/"
   ]
  },
  {
   "cell_type": "code",
   "execution_count": 6,
   "id": "71724108-d5b9-48a2-bf3d-45c8ea335099",
   "metadata": {},
   "outputs": [
    {
     "name": "stdout",
     "output_type": "stream",
     "text": [
      "{\n",
      "    \"descriptor_specific\": {\n",
      "        \"descriptor_bucket\": \"public\",\n",
      "        \"descriptor_key\": null,\n",
      "        \"descriptor_type\": \"rdkit_raw\"\n",
      "    },\n",
      "    \"model_parameters\": {\n",
      "        \"ampl_version\": \"1.6.1\",\n",
      "        \"class_number\": 2,\n",
      "        \"featurizer\": \"computed_descriptors\",\n"
     ]
    }
   ],
   "source": [
    "# show the beginning of the model_metadata.json file\n",
    "!cat /tmp/model_metadata.json | head"
   ]
  },
  {
   "cell_type": "code",
   "execution_count": 7,
   "id": "8afa1fdf",
   "metadata": {},
   "outputs": [
    {
     "data": {
      "text/html": [
       "<style>#sk-container-id-2 {color: black;background-color: white;}#sk-container-id-2 pre{padding: 0;}#sk-container-id-2 div.sk-toggleable {background-color: white;}#sk-container-id-2 label.sk-toggleable__label {cursor: pointer;display: block;width: 100%;margin-bottom: 0;padding: 0.3em;box-sizing: border-box;text-align: center;}#sk-container-id-2 label.sk-toggleable__label-arrow:before {content: \"▸\";float: left;margin-right: 0.25em;color: #696969;}#sk-container-id-2 label.sk-toggleable__label-arrow:hover:before {color: black;}#sk-container-id-2 div.sk-estimator:hover label.sk-toggleable__label-arrow:before {color: black;}#sk-container-id-2 div.sk-toggleable__content {max-height: 0;max-width: 0;overflow: hidden;text-align: left;background-color: #f0f8ff;}#sk-container-id-2 div.sk-toggleable__content pre {margin: 0.2em;color: black;border-radius: 0.25em;background-color: #f0f8ff;}#sk-container-id-2 input.sk-toggleable__control:checked~div.sk-toggleable__content {max-height: 200px;max-width: 100%;overflow: auto;}#sk-container-id-2 input.sk-toggleable__control:checked~label.sk-toggleable__label-arrow:before {content: \"▾\";}#sk-container-id-2 div.sk-estimator input.sk-toggleable__control:checked~label.sk-toggleable__label {background-color: #d4ebff;}#sk-container-id-2 div.sk-label input.sk-toggleable__control:checked~label.sk-toggleable__label {background-color: #d4ebff;}#sk-container-id-2 input.sk-hidden--visually {border: 0;clip: rect(1px 1px 1px 1px);clip: rect(1px, 1px, 1px, 1px);height: 1px;margin: -1px;overflow: hidden;padding: 0;position: absolute;width: 1px;}#sk-container-id-2 div.sk-estimator {font-family: monospace;background-color: #f0f8ff;border: 1px dotted black;border-radius: 0.25em;box-sizing: border-box;margin-bottom: 0.5em;}#sk-container-id-2 div.sk-estimator:hover {background-color: #d4ebff;}#sk-container-id-2 div.sk-parallel-item::after {content: \"\";width: 100%;border-bottom: 1px solid gray;flex-grow: 1;}#sk-container-id-2 div.sk-label:hover label.sk-toggleable__label {background-color: #d4ebff;}#sk-container-id-2 div.sk-serial::before {content: \"\";position: absolute;border-left: 1px solid gray;box-sizing: border-box;top: 0;bottom: 0;left: 50%;z-index: 0;}#sk-container-id-2 div.sk-serial {display: flex;flex-direction: column;align-items: center;background-color: white;padding-right: 0.2em;padding-left: 0.2em;position: relative;}#sk-container-id-2 div.sk-item {position: relative;z-index: 1;}#sk-container-id-2 div.sk-parallel {display: flex;align-items: stretch;justify-content: center;background-color: white;position: relative;}#sk-container-id-2 div.sk-item::before, #sk-container-id-2 div.sk-parallel-item::before {content: \"\";position: absolute;border-left: 1px solid gray;box-sizing: border-box;top: 0;bottom: 0;left: 50%;z-index: -1;}#sk-container-id-2 div.sk-parallel-item {display: flex;flex-direction: column;z-index: 1;position: relative;background-color: white;}#sk-container-id-2 div.sk-parallel-item:first-child::after {align-self: flex-end;width: 50%;}#sk-container-id-2 div.sk-parallel-item:last-child::after {align-self: flex-start;width: 50%;}#sk-container-id-2 div.sk-parallel-item:only-child::after {width: 0;}#sk-container-id-2 div.sk-dashed-wrapped {border: 1px dashed gray;margin: 0 0.4em 0.5em 0.4em;box-sizing: border-box;padding-bottom: 0.4em;background-color: white;}#sk-container-id-2 div.sk-label label {font-family: monospace;font-weight: bold;display: inline-block;line-height: 1.2em;}#sk-container-id-2 div.sk-label-container {text-align: center;}#sk-container-id-2 div.sk-container {/* jupyter's `normalize.less` sets `[hidden] { display: none; }` but bootstrap.min.css set `[hidden] { display: none !important; }` so we also need the `!important` here to be able to override the default hidden behavior on the sphinx rendered scikit-learn.org. See: https://github.com/scikit-learn/scikit-learn/issues/21755 */display: inline-block !important;position: relative;}#sk-container-id-2 div.sk-text-repr-fallback {display: none;}</style><div id=\"sk-container-id-2\" class=\"sk-top-container\"><div class=\"sk-text-repr-fallback\"><pre>RandomForestRegressor(max_features=32, n_estimators=500, n_jobs=-1)</pre><b>In a Jupyter environment, please rerun this cell to show the HTML representation or trust the notebook. <br />On GitHub, the HTML representation is unable to render, please try loading this page with nbviewer.org.</b></div><div class=\"sk-container\" hidden><div class=\"sk-item\"><div class=\"sk-estimator sk-toggleable\"><input class=\"sk-toggleable__control sk-hidden--visually\" id=\"sk-estimator-id-2\" type=\"checkbox\" checked><label for=\"sk-estimator-id-2\" class=\"sk-toggleable__label sk-toggleable__label-arrow\">RandomForestRegressor</label><div class=\"sk-toggleable__content\"><pre>RandomForestRegressor(max_features=32, n_estimators=500, n_jobs=-1)</pre></div></div></div></div></div>"
      ],
      "text/plain": [
       "RandomForestRegressor(max_features=32, n_estimators=500, n_jobs=-1)"
      ]
     },
     "execution_count": 7,
     "metadata": {},
     "output_type": "execute_result"
    }
   ],
   "source": [
    "# load the model from tmp\n",
    "\n",
    "import joblib\n",
    "# load the model from disk\n",
    "loaded_model = joblib.load(\"/tmp/best_model/model.joblib\")\n",
    "loaded_model"
   ]
  },
  {
   "cell_type": "code",
   "execution_count": 12,
   "id": "e9ca0082",
   "metadata": {},
   "outputs": [],
   "source": [
    "# load the model_metadata from tmp \n",
    "\n",
    "import json\n",
    "import pandas as pd\n",
    "data = json.load(open('/tmp/model_metadata.json'))"
   ]
  },
  {
   "cell_type": "code",
   "execution_count": 13,
   "id": "0862b9f7-854a-4d7f-8b2c-30afc35dfb2c",
   "metadata": {},
   "outputs": [
    {
     "data": {
      "text/plain": [
       "dict_keys(['descriptor_specific', 'model_parameters', 'model_uuid', 'rf_specific', 'splitting_parameters', 'time_built', 'training_dataset', 'training_metrics'])"
      ]
     },
     "execution_count": 13,
     "metadata": {},
     "output_type": "execute_result"
    }
   ],
   "source": [
    "data.keys()"
   ]
  },
  {
   "cell_type": "code",
   "execution_count": 14,
   "id": "6b258cf9-5574-456a-8dbb-11b0cb1d5e26",
   "metadata": {},
   "outputs": [
    {
     "data": {
      "text/plain": [
       "{'ampl_version': '1.6.1',\n",
       " 'class_number': 2,\n",
       " 'featurizer': 'computed_descriptors',\n",
       " 'hyperparam_uuid': None,\n",
       " 'model_bucket': 'public',\n",
       " 'model_choice_score_type': 'r2',\n",
       " 'model_type': 'RF',\n",
       " 'num_model_tasks': 1,\n",
       " 'prediction_type': 'regression',\n",
       " 'save_results': False,\n",
       " 'system': 'twintron-blue',\n",
       " 'time_generated': 1716230199.727409,\n",
       " 'transformer_bucket': '',\n",
       " 'transformer_key': 'dataset/SLC6A3_models/SLC6A3_Ki_curated/RF_computed_descriptors_scaffold_regression/9ff5a924-ef49-407c-a4d4-868a1288a67e/transformers.pkl',\n",
       " 'transformer_oid': '',\n",
       " 'transformers': True,\n",
       " 'uncertainty': True}"
      ]
     },
     "execution_count": 14,
     "metadata": {},
     "output_type": "execute_result"
    }
   ],
   "source": [
    "data['model_parameters']"
   ]
  },
  {
   "cell_type": "code",
   "execution_count": null,
   "id": "4ac151a1-b803-4249-9f5a-14e698be87d3",
   "metadata": {},
   "outputs": [],
   "source": []
  }
 ],
 "metadata": {
  "kernelspec": {
   "display_name": "Python 3 (ipykernel)",
   "language": "python",
   "name": "python3"
  },
  "language_info": {
   "codemirror_mode": {
    "name": "ipython",
    "version": 3
   },
   "file_extension": ".py",
   "mimetype": "text/x-python",
   "name": "python",
   "nbconvert_exporter": "python",
   "pygments_lexer": "ipython3",
   "version": "3.9.12"
  }
 },
 "nbformat": 4,
 "nbformat_minor": 5
}
