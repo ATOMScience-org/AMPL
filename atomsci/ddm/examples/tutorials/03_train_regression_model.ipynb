{
 "cells": [
  {
   "cell_type": "markdown",
   "id": "7f70f3f5",
   "metadata": {},
   "source": [
    "# Train a Simple Regression Model\n",
    "\n",
    "The process of training a machine learning (ML) model can be thought of as fitting a\n",
    "highly parameterized function to map inputs to outputs. An ML algorithm needs to train\n",
    "numerous examples of input and output pairs to accurately map an input to an output,\n",
    "i. e., make a prediction. After training, the result is referred to as a trained ML model or an artifact.\n",
    "\n",
    "This tutorial will detail how we can use **[AMPL](https://github.com/ATOMScience-org/AMPL)** tools to train a regression model to predict \n",
    "how much a compound will inhibit the **[SLC6A3](https://www.ebi.ac.uk/chembl/target_report_card/CHEMBL238/)** protein as measured by $pK_i$. \n",
    "We will train a random forest model using the following inputs:\n",
    "\n",
    "1. The curated **[SLC6A3](https://www.ebi.ac.uk/chembl/target_report_card/CHEMBL238)** dataset from **Tutorial 1, \"Data Curation\"**.\n",
    "2. The split file generated in **Tutorial 2, \"Splitting Datasets for Validation and Testing\"**.\n",
    "3. **[RDKit](https://github.com/rdkit/rdkit)** features calculated by the **[AMPL](https://github.com/ATOMScience-org/AMPL)** pipeline.\n",
    "\n",
    "The tutorial will present the following functions and classes:\n",
    "\n",
    "* [ModelPipeline](https://ampl.readthedocs.io/en/latest/pipeline.html#module-pipeline.model_pipeline)\n",
    "* [parameter_parser.wrapper](https://ampl.readthedocs.io/en/latest/pipeline.html#pipeline.parameter_parser.wrapper)\n",
    "* [compare_models.get_filesystem_perf_results](https://ampl.readthedocs.io/en/latest/pipeline.html#pipeline.compare_models.get_filesystem_perf_results)\n",
    "\n",
    "We will explain the use of descriptors, how to evaluate model performance,\n",
    "and where the model is saved as a .tar.gz file.\n",
    "\n",
    "> **Note**: *Training a random forest model and splitting the dataset are non-deterministic. \n",
    "You will obtain a slightly different random forest model by running this tutorial each time.*"
   ]
  },
  {
   "cell_type": "markdown",
   "id": "8ddf45a6",
   "metadata": {},
   "source": [
    "## Model Training (Using Previously Split Data)\n",
    "\n",
    "In our first example, we train a model using a curated dataset (as described in **Tutorial 1, “Data Curation”**) that was already split using the procedure in **Tutorial 2, “Splitting Datasets for Validation and Testing”**. To use an existing split file, we specify its `split_uuid` in the model parameters and set the `previously_split` parameter to True. In the example code, we set `split_uuid` to point to a split file provided with AMPL, in case you’re running this tutorial without having previously done **Tutorial 2, \"Splitting Datasets for Validation and Testing\"**.\n",
    "\n",
    "Here, we will use `\"split_uuid\": \"c35aeaab-910c-4dcf-8f9f-04b55179aa1a\"` which is saved in `dataset/` as a convenience for these tutorials.\n",
    "\n",
    "**[AMPL](https://github.com/ATOMScience-org/AMPL)** provides an extensive featurization module that can generate a \n",
    "variety of molecular feature types, given **[SMILES](https://en.wikipedia.org/wiki/Simplified_molecular-input_line-entry_system)** strings as input. \n",
    "For demonstration purposes, we choose to use **[RDKit](https://github.com/rdkit/rdkit)** features in this tutorial.\n",
    "\n",
    "When the featurized dataset is not previously saved for SLC6A3_Ki, \n",
    "**[AMPL](https://github.com/ATOMScience-org/AMPL)** will create a featurized dataset and save it in a folder called `scaled_descriptors` \n",
    "as a csv file e.g. `dataset/scaled_descriptors/SLC6A3_Ki_curated_with_rdkit_raw_descriptors.csv`. \n",
    "\n",
    "After training, **[AMPL](https://github.com/ATOMScience-org/AMPL)** saves the model and all of its parameters as a tarball in the directory given by `result_dir`."
   ]
  },
  {
   "cell_type": "code",
   "execution_count": 1,
   "id": "cd12dbd6",
   "metadata": {},
   "outputs": [
    {
     "name": "stderr",
     "output_type": "stream",
     "text": [
      "Skipped loading some Jax models, missing a dependency. No module named 'haiku'\n"
     ]
    }
   ],
   "source": [
    "# importing relevant libraries\n",
    "import pandas as pd\n",
    "pd.set_option('display.max_columns', None)\n",
    "from atomsci.ddm.pipeline import model_pipeline as mp\n",
    "from atomsci.ddm.pipeline import parameter_parser as parse\n",
    "\n",
    "# Set up\n",
    "dataset_file = 'dataset/SLC6A3_Ki_curated.csv'\n",
    "odir='dataset/SLC6A3_models/'\n",
    "\n",
    "response_col = \"avg_pKi\"\n",
    "compound_id = \"compound_id\"\n",
    "smiles_col = \"base_rdkit_smiles\"\n",
    "split_uuid = \"c35aeaab-910c-4dcf-8f9f-04b55179aa1a\"\n",
    "\n",
    "params = {\n",
    "        \"prediction_type\": \"regression\",\n",
    "        \"dataset_key\": dataset_file,\n",
    "        \"id_col\": compound_id,\n",
    "        \"smiles_col\": smiles_col,\n",
    "        \"response_cols\": response_col,\n",
    "        \"previously_split\": \"True\",\n",
    "        \"split_uuid\" : split_uuid,\n",
    "        \"split_only\": \"False\",\n",
    "        \"featurizer\": \"computed_descriptors\",\n",
    "        \"descriptor_type\" : \"rdkit_raw\",\n",
    "        \"model_type\": \"RF\",\n",
    "        \"verbose\": \"True\",\n",
    "        \"transformers\": \"True\",\n",
    "        \"rerun\": \"False\",\n",
    "        \"result_dir\": odir\n",
    "    }\n",
    "\n",
    "ampl_param = parse.wrapper(params)\n",
    "pl = mp.ModelPipeline(ampl_param)\n",
    "pl.train_model()\n"
   ]
  },
  {
   "cell_type": "markdown",
   "id": "409083fb",
   "metadata": {},
   "source": [
    "## Model Training (Split Data and Train)\n",
    "\n",
    "**[AMPL](https://github.com/ATOMScience-org/AMPL)** also provides an option to split a dataset and train a model in one step, by setting the `previously_split` parameter to False and omitting the `split_uuid` parameter. \n",
    "**[AMPL](https://github.com/ATOMScience-org/AMPL)** splits the data by the type of split specified in the splitter parameter, \n",
    "scaffold in this example, and writes the split file in\n",
    "`dataset/SLC6A3_Ki_curated_train_valid_test_scaffold_{split_uuid}.csv` \n",
    "\n",
    "Although it's convenient, it is not a good idea to use the one-step option if you intend to train multiple models with different parameters on the same dataset and compare their performance. If you do, you will end up with different splits for each model, and won't be able to tell if the differences in performance are due to the parameter settings or to the random variations between splits."
   ]
  },
  {
   "cell_type": "code",
   "execution_count": 2,
   "id": "1c5bbc2c",
   "metadata": {},
   "outputs": [],
   "source": [
    "params = {\n",
    "        \"prediction_type\": \"regression\",\n",
    "        \"dataset_key\": dataset_file,\n",
    "        \"id_col\": compound_id,\n",
    "        \"smiles_col\": smiles_col,\n",
    "        \"response_cols\": response_col,\n",
    "    \n",
    "        \"previously_split\": \"False\",\n",
    "        \"split_only\": \"False\",\n",
    "        \"splitter\": \"scaffold\",\n",
    "        \"split_valid_frac\": \"0.15\",\n",
    "        \"split_test_frac\": \"0.15\",\n",
    "    \n",
    "        \"featurizer\": \"computed_descriptors\",\n",
    "        \"descriptor_type\" : \"rdkit_raw\",\n",
    "        \"model_type\": \"RF\",\n",
    "        \"transformers\": \"True\",\n",
    "        \"rerun\": \"False\",\n",
    "        \"result_dir\": odir\n",
    "    }\n",
    "\n",
    "ampl_param = parse.wrapper(params)\n",
    "pl = mp.ModelPipeline(ampl_param)\n",
    "pl.train_model()"
   ]
  },
  {
   "cell_type": "markdown",
   "id": "572d4387",
   "metadata": {},
   "source": [
    "## Performance of the Model\n",
    "We evaluate model performance by measuring how accurate \n",
    "models are on validation and test sets. \n",
    "The validation set is used while optimizing the model and choosing the best\n",
    "parameter settings. Finally, we use the model's performance on the test set to judge the model.\n",
    "\n",
    "**[AMPL](https://github.com/ATOMScience-org/AMPL)** has several popular metrics to evaulate regression models; \n",
    "**Mean Absolute Error (MAE)**, **Root Mean Squared Error (RMSE)** and $R^2$ (R-Squared).\n",
    "In our tutorials, we will use $R^2$ metric to compare our models. The best model will have the highest\n",
    "$R^2$ score.\n"
   ]
  },
  {
   "cell_type": "code",
   "execution_count": 3,
   "id": "93d34b0e",
   "metadata": {},
   "outputs": [
    {
     "name": "stdout",
     "output_type": "stream",
     "text": [
      "Found data for 2 models under dataset/SLC6A3_models/\n"
     ]
    }
   ],
   "source": [
    "# Model Performance\n",
    "from atomsci.ddm.pipeline import compare_models as cm\n",
    "perf_df = cm.get_filesystem_perf_results(odir, pred_type='regression')"
   ]
  },
  {
   "cell_type": "markdown",
   "id": "1bf89a52",
   "metadata": {},
   "source": [
    "The `perf_df` dataframe has details about the `model_uuid`, `model_path`, `ampl_version`, `model_type`, `features`, `splitter `and the results for popular metrics that help evaluate the performance. Let us view the contents of the `perf_df` dataframe."
   ]
  },
  {
   "cell_type": "code",
   "execution_count": 4,
   "id": "605a4f10-17d5-4af1-b2e0-3d040b4fe1d5",
   "metadata": {
    "tags": []
   },
   "outputs": [],
   "source": [
    "# save perf_df\n",
    "import os\n",
    "perf_df.to_csv(os.path.join(odir, 'perf_df.csv'))"
   ]
  },
  {
   "cell_type": "code",
   "execution_count": 5,
   "id": "b7fe7829",
   "metadata": {},
   "outputs": [
    {
     "data": {
      "text/html": [
       "<div>\n",
       "<style scoped>\n",
       "    .dataframe tbody tr th:only-of-type {\n",
       "        vertical-align: middle;\n",
       "    }\n",
       "\n",
       "    .dataframe tbody tr th {\n",
       "        vertical-align: top;\n",
       "    }\n",
       "\n",
       "    .dataframe thead th {\n",
       "        text-align: right;\n",
       "    }\n",
       "</style>\n",
       "<table border=\"1\" class=\"dataframe\">\n",
       "  <thead>\n",
       "    <tr style=\"text-align: right;\">\n",
       "      <th></th>\n",
       "      <th>model_uuid</th>\n",
       "      <th>split_uuid</th>\n",
       "      <th>best_train_r2_score</th>\n",
       "      <th>best_valid_r2_score</th>\n",
       "      <th>best_test_r2_score</th>\n",
       "    </tr>\n",
       "  </thead>\n",
       "  <tbody>\n",
       "    <tr>\n",
       "      <th>0</th>\n",
       "      <td>9ff5a924-ef49-407c-a4d4-868a1288a67e</td>\n",
       "      <td>c35aeaab-910c-4dcf-8f9f-04b55179aa1a</td>\n",
       "      <td>0.949835</td>\n",
       "      <td>0.500110</td>\n",
       "      <td>0.426594</td>\n",
       "    </tr>\n",
       "    <tr>\n",
       "      <th>1</th>\n",
       "      <td>f69409b0-33ce-404f-b1e5-0e9f5128ebc7</td>\n",
       "      <td>f6351696-363f-411a-8720-4892bc4f700e</td>\n",
       "      <td>0.949919</td>\n",
       "      <td>0.472619</td>\n",
       "      <td>0.436174</td>\n",
       "    </tr>\n",
       "  </tbody>\n",
       "</table>\n",
       "</div>"
      ],
      "text/plain": [
       "                             model_uuid                            split_uuid  \\\n",
       "0  9ff5a924-ef49-407c-a4d4-868a1288a67e  c35aeaab-910c-4dcf-8f9f-04b55179aa1a   \n",
       "1  f69409b0-33ce-404f-b1e5-0e9f5128ebc7  f6351696-363f-411a-8720-4892bc4f700e   \n",
       "\n",
       "   best_train_r2_score  best_valid_r2_score  best_test_r2_score  \n",
       "0             0.949835             0.500110            0.426594  \n",
       "1             0.949919             0.472619            0.436174  "
      ]
     },
     "execution_count": 5,
     "metadata": {},
     "output_type": "execute_result"
    }
   ],
   "source": [
    "# View the perf_df dataframe\n",
    "\n",
    "# show most useful columns\n",
    "perf_df[['model_uuid', 'split_uuid', 'best_train_r2_score', 'best_valid_r2_score', 'best_test_r2_score']]"
   ]
  },
  {
   "cell_type": "markdown",
   "id": "6629959c",
   "metadata": {},
   "source": [
    "## Finding the Top Performing Model\n",
    "To pick the top performing model, we sort the performance table by `best_valid_r2_score` in descending order and examine the top row. "
   ]
  },
  {
   "cell_type": "code",
   "execution_count": 6,
   "id": "87973dc1",
   "metadata": {},
   "outputs": [
    {
     "data": {
      "text/plain": [
       "model_uuid                               9ff5a924-ef49-407c-a4d4-868a1288a67e\n",
       "model_path                  dataset/SLC6A3_models/SLC6A3_Ki_curated_model_...\n",
       "ampl_version                                                            1.6.1\n",
       "model_type                                                                 RF\n",
       "dataset_key                 /Users/rwilfong/Downloads/2024_LLNL/fork_ampl/...\n",
       "features                                                            rdkit_raw\n",
       "splitter                                                             scaffold\n",
       "split_strategy                                               train_valid_test\n",
       "split_uuid                               c35aeaab-910c-4dcf-8f9f-04b55179aa1a\n",
       "model_score_type                                                           r2\n",
       "feature_transform_type                                          normalization\n",
       "weight_transform_type                                                    None\n",
       "model_choice_score                                                    0.50011\n",
       "best_train_r2_score                                                  0.949835\n",
       "best_train_rms_score                                                  0.27884\n",
       "best_train_mae_score                                                 0.198072\n",
       "best_train_num_compounds                                                 1273\n",
       "best_valid_r2_score                                                   0.50011\n",
       "best_valid_rms_score                                                 0.854443\n",
       "best_valid_mae_score                                                 0.700053\n",
       "best_valid_num_compounds                                                  273\n",
       "best_test_r2_score                                                   0.426594\n",
       "best_test_rms_score                                                   0.92241\n",
       "best_test_mae_score                                                  0.746781\n",
       "best_test_num_compounds                                                   273\n",
       "rf_estimators                                                             500\n",
       "rf_max_features                                                            32\n",
       "rf_max_depth                                                             None\n",
       "max_epochs                                                                NaN\n",
       "best_epoch                                                                NaN\n",
       "learning_rate                                                             NaN\n",
       "layer_sizes                                                               NaN\n",
       "dropouts                                                                  NaN\n",
       "xgb_gamma                                                                 NaN\n",
       "xgb_learning_rate                                                         NaN\n",
       "xgb_max_depth                                                             NaN\n",
       "xgb_colsample_bytree                                                      NaN\n",
       "xgb_subsample                                                             NaN\n",
       "xgb_n_estimators                                                          NaN\n",
       "xgb_min_child_weight                                                      NaN\n",
       "model_parameters_dict       {\"rf_estimators\": 500, \"rf_max_depth\": null, \"...\n",
       "feat_parameters_dict                                                       {}\n",
       "Name: 0, dtype: object"
      ]
     },
     "execution_count": 6,
     "metadata": {},
     "output_type": "execute_result"
    }
   ],
   "source": [
    "# Top performing model\n",
    "top_model=perf_df.sort_values(by=\"best_valid_r2_score\", ascending=False).iloc[0]\n",
    "top_model"
   ]
  },
  {
   "cell_type": "markdown",
   "id": "ca7761e8",
   "metadata": {},
   "source": [
    "You can find the path to the .tar.gz file (\"tarball\") where the top performing model is saved by examining `top_model.model_path`. You will need this path to run predictions with the model at a later time."
   ]
  },
  {
   "cell_type": "code",
   "execution_count": 7,
   "id": "05ea394b-614d-4786-94b7-1fde464b73ca",
   "metadata": {},
   "outputs": [
    {
     "data": {
      "text/plain": [
       "'dataset/SLC6A3_models/SLC6A3_Ki_curated_model_9ff5a924-ef49-407c-a4d4-868a1288a67e.tar.gz'"
      ]
     },
     "execution_count": 7,
     "metadata": {},
     "output_type": "execute_result"
    }
   ],
   "source": [
    "# Top performing model path\n",
    "top_model.model_path"
   ]
  },
  {
   "cell_type": "markdown",
   "id": "391b04b1-170f-4a90-89e0-02b4625ee56b",
   "metadata": {},
   "source": [
    "In **Tutorial 4\n",
    ", \"Application of a Trained Model\"**, we will learn how to use a selected model to make predictions and evaluate those predictions\n",
    "\n",
    "If you have specific feedback about a tutorial, please complete the **[AMPL Tutorial Evaluation](https://forms.gle/pa9sHj4MHbS5zG7A6)**."
   ]
  }
 ],
 "metadata": {
  "kernelspec": {
   "display_name": "atomsci-env-1.6.1",
   "language": "python",
   "name": "atomsci-env-1.6.1"
  },
  "language_info": {
   "codemirror_mode": {
    "name": "ipython",
    "version": 3
   },
   "file_extension": ".py",
   "mimetype": "text/x-python",
   "name": "python",
   "nbconvert_exporter": "python",
   "pygments_lexer": "ipython3",
   "version": "3.9.12"
  }
 },
 "nbformat": 4,
 "nbformat_minor": 5
}
