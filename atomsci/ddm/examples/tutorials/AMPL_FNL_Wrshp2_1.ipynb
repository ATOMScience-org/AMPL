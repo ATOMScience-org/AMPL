{
 "cells": [
  {
   "cell_type": "markdown",
   "metadata": {
    "colab_type": "text",
    "id": "view-in-github"
   },
   "source": [
    "<a href=\"https://colab.research.google.com/github/ATOMScience-org/AMPL/blob/master/atomsci/ddm/examples/tutorials/AMPL_FNL_Wrshp2_1.ipynb\" target=\"_parent\"><img src=\"https://colab.research.google.com/assets/colab-badge.svg\" alt=\"Open In Colab\"/></a>"
   ]
  },
  {
   "cell_type": "code",
   "execution_count": 1,
   "metadata": {
    "colab": {
     "base_uri": "https://localhost:8080/",
     "height": 174
    },
    "id": "gXIlJU16bPmh",
    "outputId": "b4f4da7d-4ce0-4b73-b33a-96928110bd79"
   },
   "outputs": [
    {
     "data": {
      "text/html": [
       "<img src=\"https://github.com/ATOMconsortium/AMPL/blob/master/atomsci/ddm/examples/tutorials/Img/ml-ready.png?raw=true\"/>"
      ],
      "text/plain": [
       "<IPython.core.display.Image object>"
      ]
     },
     "execution_count": 1,
     "metadata": {},
     "output_type": "execute_result"
    }
   ],
   "source": [
    "from IPython.display import Image\n",
    "Image(url='https://raw.githubusercontent.com/ATOMScience-org/AMPL/master/atomsci/ddm/examples/tutorials/Img/ml-ready.png')"
   ]
  },
  {
   "cell_type": "markdown",
   "metadata": {
    "id": "KE5g6pelTr3S"
   },
   "source": [
    "# AMPL Workshop2-1: Exploratory data analysis to create partially curated datasets\n"
   ]
  },
  {
   "cell_type": "markdown",
   "metadata": {
    "id": "rdDQCbZEccGN"
   },
   "source": [
    "## Goal\n",
    "\n",
    "The goal of the workshop is to take single target binding assay \n",
    "data collected from three different chemoinformatics data sources\n",
    "(ChEMBL, DTC and ExCAPE-DB) and use AMPL to create a single harmonized \n",
    "Machine-Learning ready data. For demonstation, we will use HRH1 protein target binding data. \n",
    "\n",
    "We use the following three sequential notebooks to accomplish the tasks:\n",
    "\n",
    "\n",
    "1.   https://github.com/ATOMScience-org/AMPL/blob/master/atomsci/ddm/examples/tutorials/AMPL_FNL_Wrshp2_1.ipynb\n",
    "2.   https://github.com/ATOMScience-org/AMPL/blob/master/atomsci/ddm/examples/tutorials/AMPL_FNL_Wrshp2_2.ipynb\n",
    "3.   https://github.com/ATOMScience-org/AMPL/blob/master/atomsci/ddm/examples/tutorials/AMPL_FNL_Wrshp2_3.ipynb\n",
    "\n",
    "**raw_datasets (input) --> AMPL_FNL_Wrshp2_1.ipynb --> AMPL_FNL_Wrshp2_2.ipynb --> AMPL_FNL_Wrshp2_3.ipynb --> ML-ready data**\n",
    "\n",
    "Links for the chemoinformatics datbases: \n",
    "* ChEMBL: https://www.ebi.ac.uk/chembl/\n",
    "* DTC: https://drugtargetcommons.fimm.fi/\n",
    "* ExCAPE-DB: https://solr.ideaconsult.net/search/excape/\n",
    "* NCBI Gene information: https://www.ncbi.nlm.nih.gov/gene?Db=gene&Cmd=DetailsSearch&Term=3269\n",
    "\n"
   ]
  },
  {
   "cell_type": "markdown",
   "metadata": {
    "id": "B4qXxe611idf"
   },
   "source": [
    "**In this notebook, we will not be covering the details of the protein receptor biology (visualizing 3D structures of receptors, small molecules etc) and why HRH1 is chosen as a target.If you are interested, please check out our previous workshop links:\n",
    "* https://github.com/ATOMScience-org/AMPL/blob/master/atomsci/ddm/examples/tutorials/AMPL_FNL_Workshop_06052021.ipynb \n",
    "* https://github.com/ravichas/AMPL-workshop-1 "
   ]
  },
  {
   "cell_type": "markdown",
   "metadata": {
    "id": "vIAOrI1GbNWU"
   },
   "source": [
    "## Here is an overview of the steps we will follow in this notebook"
   ]
  },
  {
   "cell_type": "code",
   "execution_count": 2,
   "metadata": {
    "colab": {
     "base_uri": "https://localhost:8080/",
     "height": 690
    },
    "id": "y0WDwNc1yRQl",
    "outputId": "4b7b2aba-b6da-405b-d65e-d1f18eb3d311"
   },
   "outputs": [
    {
     "data": {
      "text/html": [
       "<img src=\"https://github.com/ATOMconsortium/AMPL/blob/master/atomsci/ddm/examples/tutorials/Img/GCP-AMPL-FNL_Wrshp2-1-overview.png?raw=true\"/>"
      ],
      "text/plain": [
       "<IPython.core.display.Image object>"
      ]
     },
     "execution_count": 2,
     "metadata": {},
     "output_type": "execute_result"
    }
   ],
   "source": [
    "# from IPython.display import Image\n",
    "Image(url='https://raw.githubusercontent.com/ATOMScience-org/AMPL/master/atomsci/ddm/examples/tutorials/Img/GCP-AMPL-FNL_Wrshp2-1-overview.png')"
   ]
  },
  {
   "cell_type": "markdown",
   "metadata": {
    "id": "PGNFdFD7yRQn"
   },
   "source": [
    "# Install AMPL software  "
   ]
  },
  {
   "cell_type": "code",
   "execution_count": null,
   "metadata": {
    "id": "ZMTkNAjGyRQn"
   },
   "outputs": [],
   "source": [
    "! pip install rdkit-pypi\n",
    "! pip install deepchem\n",
    "\n",
    "import deepchem\n",
    "# print(deepchem.__version__)\n",
    "! pip install umap\n",
    "! pip install -U --ignore-installed numba\n",
    "! pip install umap-learn\n",
    "! pip install molvs\n",
    "! pip install bravado"
   ]
  },
  {
   "cell_type": "code",
   "execution_count": null,
   "metadata": {
    "id": "evUJPQvuyRQo"
   },
   "outputs": [],
   "source": [
    "import deepchem as dc\n",
    "\n",
    "# get the Install AMPL_GPU_test.sh\n",
    "!wget 'https://raw.githubusercontent.com/ATOMScience-org/AMPL/master/atomsci/ddm/examples/tutorials/config/install_AMPL_GPU_test.sh'\n",
    "\n",
    "# run the script to install AMPL\n",
    "! chmod u+x install_AMPL_GPU_test.sh\n",
    "! ./install_AMPL_GPU_test.sh"
   ]
  },
  {
   "cell_type": "markdown",
   "metadata": {
    "id": "daaIPMHmUuDr"
   },
   "source": [
    "# Load packages"
   ]
  },
  {
   "cell_type": "code",
   "execution_count": 5,
   "metadata": {
    "id": "47JZtCAHheTd"
   },
   "outputs": [],
   "source": [
    "%matplotlib inline\n",
    "# manipulate data\n",
    "import pandas as pd\n",
    "\n",
    "# plot data\n",
    "import numpy as np\n",
    "import matplotlib.pyplot as plt\n",
    "\n",
    "# curate data\n",
    "from atomsci.ddm.utils import struct_utils\n",
    "from atomsci.ddm.utils import curate_data\n",
    "from atomsci.ddm.pipeline import dist_metrics\n",
    "\n",
    "# visualize compound structures\n",
    "import tempfile\n",
    "from rdkit import Chem\n",
    "from rdkit.Chem import Draw\n",
    "from itertools import islice\n",
    "from IPython.display import Image, display\n",
    "\n",
    "# visualize data\n",
    "import seaborn as sns\n",
    "import matplotlib_venn as mpv\n",
    "from scipy.stats import pearsonr\n",
    "\n",
    "# set pandas options\n",
    "pd.set_option('display.max_columns',(90))\n",
    "pd.set_option('display.max_rows',(20))"
   ]
  },
  {
   "cell_type": "code",
   "execution_count": 6,
   "metadata": {
    "colab": {
     "base_uri": "https://localhost:8080/",
     "height": 85
    },
    "id": "3pEauk3qyRQq",
    "outputId": "b6f071f3-31a3-4015-d98b-3cf93a20ae0d"
   },
   "outputs": [
    {
     "data": {
      "image/png": "[encoded data removed]",
      "text/plain": [
       "<Figure size 576x72 with 1 Axes>"
      ]
     },
     "metadata": {},
     "output_type": "display_data"
    }
   ],
   "source": [
    "# set up visualization parameters\n",
    "sns.set_context(\"paper\")\n",
    "sns.set_style(\"whitegrid\")\n",
    "plt.rcParams['figure.figsize'] = [10,10]\n",
    "\n",
    "colors = [\n",
    "    \"#6EC8BE\",\n",
    "    \"#BE2369\",\n",
    "    \"#FFC30F\",\n",
    "    \"#694691\",\n",
    "    \"#EB1E23\",\n",
    "    \"#7682A4\",\n",
    "    \"#A7DDD8\",\n",
    "    \"#373C50\",\n",
    "]\n",
    "# Set your custom color palette\n",
    "pal=sns.color_palette(colors)\n",
    "sns.set_palette(pal)\n",
    "sns.palplot(pal)"
   ]
  },
  {
   "cell_type": "markdown",
   "metadata": {
    "id": "XxXGcK-tyRQr"
   },
   "source": [
    "# Input files needed for this notebook\n",
    "\n",
    "The following files will be downloaded from a GitHub repository.\n",
    "\n",
    "> __`hrh1_chembl.csv`__<br>\n",
    "> __`hrh1_dtc.csv`__<br>\n",
    "> __`hrh1_excape.csv`__<br>\n",
    "> __`1591412781568494159.txt`__<br>\n",
    "> __`904065732039684223.txt`__<br>"
   ]
  },
  {
   "cell_type": "markdown",
   "metadata": {
    "id": "gaSNKzZ50Qf-"
   },
   "source": [
    "# Questions for the data exploration phase of the project"
   ]
  },
  {
   "cell_type": "markdown",
   "metadata": {
    "id": "qCbvi9jB0UOd"
   },
   "source": [
    "Here is a list of possible questions during exploration:\n",
    "- Number of data points in each DB?\n",
    "- Molecular identifier types from each DB? \n",
    "  - For example, #HBD is it an integer or a string variable? \n",
    "- Outcome variable (types, units) from each DB? \n",
    "- Modeling works well in log-transformed data, pIC50 (IC50 -> pIC50)?\n",
    "  - pIC50 = -log(IC50)\n",
    "- What molecular (and other) identifiers exist for compounds from each database?\n",
    "- What assay response types are there in each file?\n",
    "- How we might combine these data sources together?"
   ]
  },
  {
   "cell_type": "markdown",
   "metadata": {
    "id": "aSgq_7LLEGmZ"
   },
   "source": [
    "# Load ChEMBL data"
   ]
  },
  {
   "cell_type": "code",
   "execution_count": 7,
   "metadata": {
    "id": "RD53GhTvEGD-"
   },
   "outputs": [],
   "source": [
    "! wget https://raw.githubusercontent.com/ATOMScience-org/AMPL/master/atomsci/ddm/examples/tutorials/datasets/hrh1_chembl.csv >& /dev/null\n",
    "chembl = pd.read_csv(\"hrh1_chembl.csv\", sep=';')"
   ]
  },
  {
   "cell_type": "markdown",
   "metadata": {
    "id": "FSU3n2TZ0KKK"
   },
   "source": [
    "## Examine data\n",
    "> __What molecular (and other) identifiers exist for compounds from each database?__<br>\n",
    "> __What assay response types are there in each file?__<br>\n",
    "> __How we might combine these data sources together?__<br>"
   ]
  },
  {
   "cell_type": "code",
   "execution_count": 8,
   "metadata": {
    "colab": {
     "base_uri": "https://localhost:8080/"
    },
    "id": "KKqI998_y0hZ",
    "outputId": "d090256b-cac6-42fa-918f-c028186a0f85"
   },
   "outputs": [
    {
     "data": {
      "text/plain": [
       "Index(['Molecule ChEMBL ID', 'Molecule Name', 'Molecule Max Phase',\n",
       "       'Molecular Weight', '#RO5 Violations', 'AlogP', 'Compound Key',\n",
       "       'Smiles', 'Standard Type', 'Standard Relation', 'Standard Value',\n",
       "       'Standard Units', 'pChEMBL Value', 'Data Validity Comment', 'Comment',\n",
       "       'Uo Units', 'Ligand Efficiency BEI', 'Ligand Efficiency LE',\n",
       "       'Ligand Efficiency LLE', 'Ligand Efficiency SEI', 'Potential Duplicate',\n",
       "       'Assay ChEMBL ID', 'Assay Description', 'Assay Type', 'BAO Format ID',\n",
       "       'BAO Label', 'Assay Organism', 'Assay Tissue ChEMBL ID',\n",
       "       'Assay Tissue Name', 'Assay Cell Type', 'Assay Subcellular Fraction',\n",
       "       'Assay Parameters', 'Assay Variant Accession', 'Assay Variant Mutation',\n",
       "       'Target ChEMBL ID', 'Target Name', 'Target Organism', 'Target Type',\n",
       "       'Document ChEMBL ID', 'Source ID', 'Source Description',\n",
       "       'Document Journal', 'Document Year', 'Cell ChEMBL ID', 'Properties'],\n",
       "      dtype='object')"
      ]
     },
     "execution_count": 8,
     "metadata": {},
     "output_type": "execute_result"
    }
   ],
   "source": [
    "chembl.columns"
   ]
  },
  {
   "cell_type": "code",
   "execution_count": 9,
   "metadata": {
    "colab": {
     "base_uri": "https://localhost:8080/"
    },
    "id": "F-Gxgxo_h5-2",
    "outputId": "213913b4-e587-4953-af81-ad29f71e371c"
   },
   "outputs": [
    {
     "name": "stdout",
     "output_type": "stream",
     "text": [
      "(5341, 45)\n"
     ]
    }
   ],
   "source": [
    "chembl.columns = chembl.columns.str.replace(' ','_') # get rid of annoying spaces in column names\n",
    "print(chembl.shape)"
   ]
  },
  {
   "cell_type": "markdown",
   "metadata": {
    "id": "DZpbWaIQ3_6I"
   },
   "source": [
    "<font color=\"green\">**You can add other cleaning or tidying steps here**</font>"
   ]
  },
  {
   "cell_type": "code",
   "execution_count": 10,
   "metadata": {
    "colab": {
     "base_uri": "https://localhost:8080/",
     "height": 268
    },
    "id": "3VUB_5yg0EbD",
    "outputId": "0a4920cc-7244-4d7f-fb08-656659e243b0"
   },
   "outputs": [
    {
     "data": {
      "text/html": [
       "<div>\n",
       "<style scoped>\n",
       "    .dataframe tbody tr th:only-of-type {\n",
       "        vertical-align: middle;\n",
       "    }\n",
       "\n",
       "    .dataframe tbody tr th {\n",
       "        vertical-align: top;\n",
       "    }\n",
       "\n",
       "    .dataframe thead th {\n",
       "        text-align: right;\n",
       "    }\n",
       "</style>\n",
       "<table border=\"1\" class=\"dataframe\">\n",
       "  <thead>\n",
       "    <tr style=\"text-align: right;\">\n",
       "      <th></th>\n",
       "      <th>Molecule_ChEMBL_ID</th>\n",
       "      <th>Molecule_Name</th>\n",
       "      <th>Molecule_Max_Phase</th>\n",
       "      <th>Molecular_Weight</th>\n",
       "      <th>#RO5_Violations</th>\n",
       "      <th>AlogP</th>\n",
       "      <th>Compound_Key</th>\n",
       "      <th>Smiles</th>\n",
       "      <th>Standard_Type</th>\n",
       "      <th>Standard_Relation</th>\n",
       "      <th>Standard_Value</th>\n",
       "      <th>Standard_Units</th>\n",
       "      <th>pChEMBL_Value</th>\n",
       "      <th>Data_Validity_Comment</th>\n",
       "      <th>Comment</th>\n",
       "      <th>Uo_Units</th>\n",
       "      <th>Ligand_Efficiency_BEI</th>\n",
       "      <th>Ligand_Efficiency_LE</th>\n",
       "      <th>Ligand_Efficiency_LLE</th>\n",
       "      <th>Ligand_Efficiency_SEI</th>\n",
       "      <th>Potential_Duplicate</th>\n",
       "      <th>Assay_ChEMBL_ID</th>\n",
       "      <th>Assay_Description</th>\n",
       "      <th>Assay_Type</th>\n",
       "      <th>BAO_Format_ID</th>\n",
       "      <th>BAO_Label</th>\n",
       "      <th>Assay_Organism</th>\n",
       "      <th>Assay_Tissue_ChEMBL_ID</th>\n",
       "      <th>Assay_Tissue_Name</th>\n",
       "      <th>Assay_Cell_Type</th>\n",
       "      <th>Assay_Subcellular_Fraction</th>\n",
       "      <th>Assay_Parameters</th>\n",
       "      <th>Assay_Variant_Accession</th>\n",
       "      <th>Assay_Variant_Mutation</th>\n",
       "      <th>Target_ChEMBL_ID</th>\n",
       "      <th>Target_Name</th>\n",
       "      <th>Target_Organism</th>\n",
       "      <th>Target_Type</th>\n",
       "      <th>Document_ChEMBL_ID</th>\n",
       "      <th>Source_ID</th>\n",
       "      <th>Source_Description</th>\n",
       "      <th>Document_Journal</th>\n",
       "      <th>Document_Year</th>\n",
       "      <th>Cell_ChEMBL_ID</th>\n",
       "      <th>Properties</th>\n",
       "    </tr>\n",
       "  </thead>\n",
       "  <tbody>\n",
       "    <tr>\n",
       "      <th>0</th>\n",
       "      <td>CHEMBL157217</td>\n",
       "      <td>NaN</td>\n",
       "      <td>0</td>\n",
       "      <td>277.46</td>\n",
       "      <td>0</td>\n",
       "      <td>4.17</td>\n",
       "      <td>1j</td>\n",
       "      <td>c1nc(CCCCCCCCCCN2CCCC2)c[nH]1</td>\n",
       "      <td>Ki</td>\n",
       "      <td>'='</td>\n",
       "      <td>2.511886e+14</td>\n",
       "      <td>nM</td>\n",
       "      <td>NaN</td>\n",
       "      <td>Outside typical range</td>\n",
       "      <td>NaN</td>\n",
       "      <td>UO_0000065</td>\n",
       "      <td>NaN</td>\n",
       "      <td>NaN</td>\n",
       "      <td>NaN</td>\n",
       "      <td>NaN</td>\n",
       "      <td>False</td>\n",
       "      <td>CHEMBL692992</td>\n",
       "      <td>Inhibitory activity against human Histamine H1...</td>\n",
       "      <td>B</td>\n",
       "      <td>BAO_0000357</td>\n",
       "      <td>single protein format</td>\n",
       "      <td>None</td>\n",
       "      <td>None</td>\n",
       "      <td>None</td>\n",
       "      <td>None</td>\n",
       "      <td>None</td>\n",
       "      <td>NaN</td>\n",
       "      <td>NaN</td>\n",
       "      <td>NaN</td>\n",
       "      <td>CHEMBL231</td>\n",
       "      <td>Histamine H1 receptor</td>\n",
       "      <td>Homo sapiens</td>\n",
       "      <td>SINGLE PROTEIN</td>\n",
       "      <td>CHEMBL1145948</td>\n",
       "      <td>1</td>\n",
       "      <td>Scientific Literature</td>\n",
       "      <td>J. Med. Chem.</td>\n",
       "      <td>2003.0</td>\n",
       "      <td>None</td>\n",
       "      <td>NaN</td>\n",
       "    </tr>\n",
       "    <tr>\n",
       "      <th>1</th>\n",
       "      <td>CHEMBL307115</td>\n",
       "      <td>NaN</td>\n",
       "      <td>0</td>\n",
       "      <td>557.70</td>\n",
       "      <td>1</td>\n",
       "      <td>1.84</td>\n",
       "      <td>16</td>\n",
       "      <td>CNC(=O)CNC(=O)C(Cc1ccccc1)N(NC(=O)CCCC(C)NCCc1...</td>\n",
       "      <td>Change</td>\n",
       "      <td>'='</td>\n",
       "      <td>0.000000e+00</td>\n",
       "      <td>%</td>\n",
       "      <td>NaN</td>\n",
       "      <td>NaN</td>\n",
       "      <td>NaN</td>\n",
       "      <td>UO_0000187</td>\n",
       "      <td>NaN</td>\n",
       "      <td>NaN</td>\n",
       "      <td>NaN</td>\n",
       "      <td>NaN</td>\n",
       "      <td>False</td>\n",
       "      <td>CHEMBL699237</td>\n",
       "      <td>Effect on peripheral vasculature of the rabbit...</td>\n",
       "      <td>F</td>\n",
       "      <td>BAO_0000221</td>\n",
       "      <td>tissue-based format</td>\n",
       "      <td>Oryctolagus cuniculus</td>\n",
       "      <td>CHEMBL3988033</td>\n",
       "      <td>Vasculature</td>\n",
       "      <td>None</td>\n",
       "      <td>None</td>\n",
       "      <td>NaN</td>\n",
       "      <td>NaN</td>\n",
       "      <td>NaN</td>\n",
       "      <td>CHEMBL231</td>\n",
       "      <td>Histamine H1 receptor</td>\n",
       "      <td>Homo sapiens</td>\n",
       "      <td>SINGLE PROTEIN</td>\n",
       "      <td>CHEMBL1123649</td>\n",
       "      <td>1</td>\n",
       "      <td>Scientific Literature</td>\n",
       "      <td>J. Med. Chem.</td>\n",
       "      <td>1987.0</td>\n",
       "      <td>None</td>\n",
       "      <td>NaN</td>\n",
       "    </tr>\n",
       "    <tr>\n",
       "      <th>2</th>\n",
       "      <td>CHEMBL444083</td>\n",
       "      <td>NaN</td>\n",
       "      <td>0</td>\n",
       "      <td>562.66</td>\n",
       "      <td>2</td>\n",
       "      <td>5.04</td>\n",
       "      <td>1</td>\n",
       "      <td>NC(=O)N(O)CCC#Cc1ccc(OCCCCN2CCN(C(c3ccc(F)cc3)...</td>\n",
       "      <td>Ki</td>\n",
       "      <td>'='</td>\n",
       "      <td>3.630000e+00</td>\n",
       "      <td>nM</td>\n",
       "      <td>8.44</td>\n",
       "      <td>NaN</td>\n",
       "      <td>NaN</td>\n",
       "      <td>UO_0000065</td>\n",
       "      <td>15.0</td>\n",
       "      <td>0.28</td>\n",
       "      <td>3.40</td>\n",
       "      <td>10.26</td>\n",
       "      <td>False</td>\n",
       "      <td>CHEMBL828761</td>\n",
       "      <td>Binding affinity for recombinant human Histami...</td>\n",
       "      <td>B</td>\n",
       "      <td>BAO_0000219</td>\n",
       "      <td>cell-based format</td>\n",
       "      <td>Homo sapiens</td>\n",
       "      <td>None</td>\n",
       "      <td>None</td>\n",
       "      <td>CHO</td>\n",
       "      <td>None</td>\n",
       "      <td>NaN</td>\n",
       "      <td>NaN</td>\n",
       "      <td>NaN</td>\n",
       "      <td>CHEMBL231</td>\n",
       "      <td>Histamine H1 receptor</td>\n",
       "      <td>Homo sapiens</td>\n",
       "      <td>SINGLE PROTEIN</td>\n",
       "      <td>CHEMBL1141893</td>\n",
       "      <td>1</td>\n",
       "      <td>Scientific Literature</td>\n",
       "      <td>Bioorg. Med. Chem. Lett.</td>\n",
       "      <td>2005.0</td>\n",
       "      <td>CHEMBL3308072</td>\n",
       "      <td>NaN</td>\n",
       "    </tr>\n",
       "  </tbody>\n",
       "</table>\n",
       "</div>"
      ],
      "text/plain": [
       "  Molecule_ChEMBL_ID Molecule_Name  Molecule_Max_Phase Molecular_Weight  \\\n",
       "0       CHEMBL157217           NaN                   0           277.46   \n",
       "1       CHEMBL307115           NaN                   0           557.70   \n",
       "2       CHEMBL444083           NaN                   0           562.66   \n",
       "\n",
       "  #RO5_Violations AlogP Compound_Key  \\\n",
       "0               0  4.17           1j   \n",
       "1               1  1.84           16   \n",
       "2               2  5.04            1   \n",
       "\n",
       "                                              Smiles Standard_Type  \\\n",
       "0                      c1nc(CCCCCCCCCCN2CCCC2)c[nH]1            Ki   \n",
       "1  CNC(=O)CNC(=O)C(Cc1ccccc1)N(NC(=O)CCCC(C)NCCc1...        Change   \n",
       "2  NC(=O)N(O)CCC#Cc1ccc(OCCCCN2CCN(C(c3ccc(F)cc3)...            Ki   \n",
       "\n",
       "  Standard_Relation  Standard_Value Standard_Units  pChEMBL_Value  \\\n",
       "0               '='    2.511886e+14             nM            NaN   \n",
       "1               '='    0.000000e+00              %            NaN   \n",
       "2               '='    3.630000e+00             nM           8.44   \n",
       "\n",
       "   Data_Validity_Comment Comment    Uo_Units  Ligand_Efficiency_BEI  \\\n",
       "0  Outside typical range     NaN  UO_0000065                    NaN   \n",
       "1                    NaN     NaN  UO_0000187                    NaN   \n",
       "2                    NaN     NaN  UO_0000065                   15.0   \n",
       "\n",
       "  Ligand_Efficiency_LE Ligand_Efficiency_LLE Ligand_Efficiency_SEI  \\\n",
       "0                  NaN                   NaN                   NaN   \n",
       "1                  NaN                   NaN                   NaN   \n",
       "2                 0.28                  3.40                 10.26   \n",
       "\n",
       "   Potential_Duplicate Assay_ChEMBL_ID  \\\n",
       "0                False    CHEMBL692992   \n",
       "1                False    CHEMBL699237   \n",
       "2                False    CHEMBL828761   \n",
       "\n",
       "                                   Assay_Description Assay_Type BAO_Format_ID  \\\n",
       "0  Inhibitory activity against human Histamine H1...          B   BAO_0000357   \n",
       "1  Effect on peripheral vasculature of the rabbit...          F   BAO_0000221   \n",
       "2  Binding affinity for recombinant human Histami...          B   BAO_0000219   \n",
       "\n",
       "               BAO_Label         Assay_Organism Assay_Tissue_ChEMBL_ID  \\\n",
       "0  single protein format                   None                   None   \n",
       "1    tissue-based format  Oryctolagus cuniculus          CHEMBL3988033   \n",
       "2      cell-based format           Homo sapiens                   None   \n",
       "\n",
       "  Assay_Tissue_Name Assay_Cell_Type Assay_Subcellular_Fraction  \\\n",
       "0              None            None                       None   \n",
       "1       Vasculature            None                       None   \n",
       "2              None             CHO                       None   \n",
       "\n",
       "  Assay_Parameters Assay_Variant_Accession Assay_Variant_Mutation  \\\n",
       "0              NaN                     NaN                    NaN   \n",
       "1              NaN                     NaN                    NaN   \n",
       "2              NaN                     NaN                    NaN   \n",
       "\n",
       "  Target_ChEMBL_ID            Target_Name Target_Organism     Target_Type  \\\n",
       "0        CHEMBL231  Histamine H1 receptor    Homo sapiens  SINGLE PROTEIN   \n",
       "1        CHEMBL231  Histamine H1 receptor    Homo sapiens  SINGLE PROTEIN   \n",
       "2        CHEMBL231  Histamine H1 receptor    Homo sapiens  SINGLE PROTEIN   \n",
       "\n",
       "  Document_ChEMBL_ID  Source_ID     Source_Description  \\\n",
       "0      CHEMBL1145948          1  Scientific Literature   \n",
       "1      CHEMBL1123649          1  Scientific Literature   \n",
       "2      CHEMBL1141893          1  Scientific Literature   \n",
       "\n",
       "           Document_Journal  Document_Year Cell_ChEMBL_ID Properties  \n",
       "0             J. Med. Chem.         2003.0           None        NaN  \n",
       "1             J. Med. Chem.         1987.0           None        NaN  \n",
       "2  Bioorg. Med. Chem. Lett.         2005.0  CHEMBL3308072        NaN  "
      ]
     },
     "execution_count": 10,
     "metadata": {},
     "output_type": "execute_result"
    }
   ],
   "source": [
    "chembl.head(3)"
   ]
  },
  {
   "cell_type": "markdown",
   "metadata": {
    "id": "G_icYvu84V92"
   },
   "source": [
    "## **Chembl Standard Units:**\n",
    "\n",
    "According to Chembl, *The published units are taken directly from the literature and we then attempt to standardise these to report as a **standard type**. This is an ongoing curation task, which was started with the most common units first.*"
   ]
  },
  {
   "cell_type": "code",
   "execution_count": 11,
   "metadata": {
    "colab": {
     "base_uri": "https://localhost:8080/",
     "height": 188
    },
    "id": "9FJDxwQIW3An",
    "outputId": "2efc6752-e575-48d4-d937-146b167d46af"
   },
   "outputs": [
    {
     "data": {
      "text/html": [
       "<div>\n",
       "<style scoped>\n",
       "    .dataframe tbody tr th:only-of-type {\n",
       "        vertical-align: middle;\n",
       "    }\n",
       "\n",
       "    .dataframe tbody tr th {\n",
       "        vertical-align: top;\n",
       "    }\n",
       "\n",
       "    .dataframe thead th {\n",
       "        text-align: right;\n",
       "    }\n",
       "</style>\n",
       "<table border=\"1\" class=\"dataframe\">\n",
       "  <thead>\n",
       "    <tr style=\"text-align: right;\">\n",
       "      <th></th>\n",
       "      <th>Ki</th>\n",
       "      <th>IC50</th>\n",
       "      <th>Inhibition</th>\n",
       "      <th>Activity</th>\n",
       "      <th>pKb</th>\n",
       "      <th>EC50</th>\n",
       "      <th>Intrinsic activity</th>\n",
       "      <th>Kd</th>\n",
       "      <th>Kb</th>\n",
       "      <th>pEC50</th>\n",
       "      <th>Alpha</th>\n",
       "      <th>Activity_index</th>\n",
       "      <th>pKB</th>\n",
       "      <th>Effect</th>\n",
       "      <th>Change</th>\n",
       "      <th>Log IC50</th>\n",
       "      <th>pKi</th>\n",
       "      <th>% Ctrl</th>\n",
       "      <th>% Inhibition of Control Specific Binding (Mean n=2)</th>\n",
       "      <th>Emax</th>\n",
       "      <th>Efficacy</th>\n",
       "      <th>pIC50</th>\n",
       "      <th>TIME</th>\n",
       "      <th>Ratio</th>\n",
       "      <th>% Inhibition of Control Agonist Response (Mean n=2)</th>\n",
       "      <th>K</th>\n",
       "      <th>% of Control Agonist Response (Mean n=2)</th>\n",
       "      <th>p[A50]</th>\n",
       "      <th>Activation (% of control)</th>\n",
       "      <th>Selectivity ratio</th>\n",
       "      <th>pKp</th>\n",
       "      <th>Inhibition (% of control)</th>\n",
       "      <th>Log EC50</th>\n",
       "      <th>Mean fold stimulation</th>\n",
       "      <th>KB</th>\n",
       "    </tr>\n",
       "  </thead>\n",
       "  <tbody>\n",
       "    <tr>\n",
       "      <th>Standard_Type</th>\n",
       "      <td>2550</td>\n",
       "      <td>1281</td>\n",
       "      <td>690</td>\n",
       "      <td>192</td>\n",
       "      <td>128</td>\n",
       "      <td>77</td>\n",
       "      <td>68</td>\n",
       "      <td>52</td>\n",
       "      <td>47</td>\n",
       "      <td>47</td>\n",
       "      <td>41</td>\n",
       "      <td>24</td>\n",
       "      <td>22</td>\n",
       "      <td>20</td>\n",
       "      <td>19</td>\n",
       "      <td>18</td>\n",
       "      <td>17</td>\n",
       "      <td>9</td>\n",
       "      <td>8</td>\n",
       "      <td>5</td>\n",
       "      <td>4</td>\n",
       "      <td>3</td>\n",
       "      <td>3</td>\n",
       "      <td>2</td>\n",
       "      <td>2</td>\n",
       "      <td>2</td>\n",
       "      <td>2</td>\n",
       "      <td>1</td>\n",
       "      <td>1</td>\n",
       "      <td>1</td>\n",
       "      <td>1</td>\n",
       "      <td>1</td>\n",
       "      <td>1</td>\n",
       "      <td>1</td>\n",
       "      <td>1</td>\n",
       "    </tr>\n",
       "  </tbody>\n",
       "</table>\n",
       "</div>"
      ],
      "text/plain": [
       "                 Ki  IC50  Inhibition  Activity  pKb  EC50  \\\n",
       "Standard_Type  2550  1281         690       192  128    77   \n",
       "\n",
       "               Intrinsic activity  Kd  Kb  pEC50  Alpha  Activity_index  pKB  \\\n",
       "Standard_Type                  68  52  47     47     41              24   22   \n",
       "\n",
       "               Effect  Change  Log IC50  pKi  % Ctrl  \\\n",
       "Standard_Type      20      19        18   17       9   \n",
       "\n",
       "               % Inhibition of Control Specific Binding (Mean n=2)  Emax  \\\n",
       "Standard_Type                                                  8       5   \n",
       "\n",
       "               Efficacy  pIC50  TIME  Ratio  \\\n",
       "Standard_Type         4      3     3      2   \n",
       "\n",
       "               % Inhibition of Control Agonist Response (Mean n=2)  K  \\\n",
       "Standard_Type                                                  2    2   \n",
       "\n",
       "               % of Control Agonist Response (Mean n=2)  p[A50]  \\\n",
       "Standard_Type                                         2       1   \n",
       "\n",
       "               Activation (% of control)  Selectivity ratio  pKp  \\\n",
       "Standard_Type                          1                  1    1   \n",
       "\n",
       "               Inhibition (% of control)  Log EC50  Mean fold stimulation  KB  \n",
       "Standard_Type                          1         1                      1   1  "
      ]
     },
     "execution_count": 11,
     "metadata": {},
     "output_type": "execute_result"
    }
   ],
   "source": [
    "pd.DataFrame(chembl.Standard_Type.value_counts()).T"
   ]
  },
  {
   "cell_type": "markdown",
   "metadata": {
    "id": "l8kqG3KQyRQw",
    "outputId": "6709c6a2-dbd9-48a8-97c3-9831ba016bf1"
   },
   "source": [
    "## Curation Step: Subset data for the standard types you want to keep\n",
    "> __ML algorithms need lots of data, in general keep the most abundant types__<br>\n",
    "> __IC50, Log IC50, pIC50 may be combined with proper care__<br>"
   ]
  },
  {
   "cell_type": "code",
   "execution_count": 12,
   "metadata": {
    "colab": {
     "base_uri": "https://localhost:8080/"
    },
    "id": "gmUisRyzyRQw",
    "outputId": "e5f9e39f-e835-4a07-8bfb-e84a84d6f65d"
   },
   "outputs": [
    {
     "name": "stdout",
     "output_type": "stream",
     "text": [
      "(5341, 45)\n"
     ]
    },
    {
     "data": {
      "text/plain": [
       "(3908, 45)"
      ]
     },
     "execution_count": 12,
     "metadata": {},
     "output_type": "execute_result"
    }
   ],
   "source": [
    "print(chembl.shape)\n",
    "chembl = chembl[chembl.Standard_Type.isin(['Ki', 'IC50', 'EC50'])]\n",
    "chembl.shape"
   ]
  },
  {
   "cell_type": "markdown",
   "metadata": {
    "id": "DbgcaPs2yRQw",
    "outputId": "6709c6a2-dbd9-48a8-97c3-9831ba016bf1"
   },
   "source": [
    "### Examine assay types"
   ]
  },
  {
   "cell_type": "code",
   "execution_count": 13,
   "metadata": {
    "colab": {
     "base_uri": "https://localhost:8080/",
     "height": 441
    },
    "id": "ABUJyhisyRQw",
    "outputId": "de432e53-7787-4bc5-f8d3-2e4fe6365169"
   },
   "outputs": [
    {
     "name": "stdout",
     "output_type": "stream",
     "text": [
      "Ki assays:\n"
     ]
    },
    {
     "data": {
      "text/html": [
       "<div>\n",
       "<style scoped>\n",
       "    .dataframe tbody tr th:only-of-type {\n",
       "        vertical-align: middle;\n",
       "    }\n",
       "\n",
       "    .dataframe tbody tr th {\n",
       "        vertical-align: top;\n",
       "    }\n",
       "\n",
       "    .dataframe thead th {\n",
       "        text-align: right;\n",
       "    }\n",
       "</style>\n",
       "<table border=\"1\" class=\"dataframe\">\n",
       "  <thead>\n",
       "    <tr style=\"text-align: right;\">\n",
       "      <th></th>\n",
       "      <th>Assay_Description</th>\n",
       "      <th>count</th>\n",
       "    </tr>\n",
       "  </thead>\n",
       "  <tbody>\n",
       "    <tr>\n",
       "      <th>0</th>\n",
       "      <td>DRUGMATRIX: Histamine H1, Central radioligand ...</td>\n",
       "      <td>871</td>\n",
       "    </tr>\n",
       "    <tr>\n",
       "      <th>1</th>\n",
       "      <td>Antagonist activity at histamine H1 receptor b...</td>\n",
       "      <td>115</td>\n",
       "    </tr>\n",
       "    <tr>\n",
       "      <th>2</th>\n",
       "      <td>Binding affinity to histamine H1 receptor</td>\n",
       "      <td>93</td>\n",
       "    </tr>\n",
       "    <tr>\n",
       "      <th>3</th>\n",
       "      <td>Binding affinity for the human Histamine H1 Re...</td>\n",
       "      <td>58</td>\n",
       "    </tr>\n",
       "    <tr>\n",
       "      <th>4</th>\n",
       "      <td>Binding affinity towards Histamine H1 receptor...</td>\n",
       "      <td>54</td>\n",
       "    </tr>\n",
       "    <tr>\n",
       "      <th>...</th>\n",
       "      <td>...</td>\n",
       "      <td>...</td>\n",
       "    </tr>\n",
       "    <tr>\n",
       "      <th>146</th>\n",
       "      <td>Displacement of [3H]pyrilamine from histamine ...</td>\n",
       "      <td>1</td>\n",
       "    </tr>\n",
       "    <tr>\n",
       "      <th>147</th>\n",
       "      <td>Binding affinity to histamine H1 (unknown origin)</td>\n",
       "      <td>1</td>\n",
       "    </tr>\n",
       "    <tr>\n",
       "      <th>148</th>\n",
       "      <td>Displacement of [3H]Pyrilamine from human reco...</td>\n",
       "      <td>1</td>\n",
       "    </tr>\n",
       "    <tr>\n",
       "      <th>149</th>\n",
       "      <td>Displacement of [3H]pyrilamine from human hist...</td>\n",
       "      <td>1</td>\n",
       "    </tr>\n",
       "    <tr>\n",
       "      <th>150</th>\n",
       "      <td>Displacement of [3H]mepyramine from human hist...</td>\n",
       "      <td>1</td>\n",
       "    </tr>\n",
       "  </tbody>\n",
       "</table>\n",
       "<p>151 rows × 2 columns</p>\n",
       "</div>"
      ],
      "text/plain": [
       "                                     Assay_Description  count\n",
       "0    DRUGMATRIX: Histamine H1, Central radioligand ...    871\n",
       "1    Antagonist activity at histamine H1 receptor b...    115\n",
       "2            Binding affinity to histamine H1 receptor     93\n",
       "3    Binding affinity for the human Histamine H1 Re...     58\n",
       "4    Binding affinity towards Histamine H1 receptor...     54\n",
       "..                                                 ...    ...\n",
       "146  Displacement of [3H]pyrilamine from histamine ...      1\n",
       "147  Binding affinity to histamine H1 (unknown origin)      1\n",
       "148  Displacement of [3H]Pyrilamine from human reco...      1\n",
       "149  Displacement of [3H]pyrilamine from human hist...      1\n",
       "150  Displacement of [3H]mepyramine from human hist...      1\n",
       "\n",
       "[151 rows x 2 columns]"
      ]
     },
     "metadata": {},
     "output_type": "display_data"
    }
   ],
   "source": [
    "assays = pd.DataFrame(chembl[chembl.Standard_Type=='Ki'].Assay_Description.value_counts()).reset_index()\n",
    "assays.columns=['Assay_Description', 'count']\n",
    "assays.to_csv('HRH1_ChEMBL_Assays_Ki.csv')\n",
    "print('Ki assays:')\n",
    "display(assays)"
   ]
  },
  {
   "cell_type": "code",
   "execution_count": 14,
   "metadata": {
    "colab": {
     "base_uri": "https://localhost:8080/",
     "height": 441
    },
    "id": "kWaM-BInyRQx",
    "outputId": "8f827098-b6df-49c1-99e0-a8bcd3d5a737"
   },
   "outputs": [
    {
     "name": "stdout",
     "output_type": "stream",
     "text": [
      "XC50 assays:\n"
     ]
    },
    {
     "data": {
      "text/html": [
       "<div>\n",
       "<style scoped>\n",
       "    .dataframe tbody tr th:only-of-type {\n",
       "        vertical-align: middle;\n",
       "    }\n",
       "\n",
       "    .dataframe tbody tr th {\n",
       "        vertical-align: top;\n",
       "    }\n",
       "\n",
       "    .dataframe thead th {\n",
       "        text-align: right;\n",
       "    }\n",
       "</style>\n",
       "<table border=\"1\" class=\"dataframe\">\n",
       "  <thead>\n",
       "    <tr style=\"text-align: right;\">\n",
       "      <th></th>\n",
       "      <th>Assay_Description</th>\n",
       "      <th>count</th>\n",
       "    </tr>\n",
       "  </thead>\n",
       "  <tbody>\n",
       "    <tr>\n",
       "      <th>0</th>\n",
       "      <td>DRUGMATRIX: Histamine H1, Central radioligand ...</td>\n",
       "      <td>871</td>\n",
       "    </tr>\n",
       "    <tr>\n",
       "      <th>1</th>\n",
       "      <td>Antagonistic activity against histamine H1 rec...</td>\n",
       "      <td>38</td>\n",
       "    </tr>\n",
       "    <tr>\n",
       "      <th>2</th>\n",
       "      <td>Agonist activity at human histamine H1 recepto...</td>\n",
       "      <td>27</td>\n",
       "    </tr>\n",
       "    <tr>\n",
       "      <th>3</th>\n",
       "      <td>Antagonism of the human histamine H1 receptor</td>\n",
       "      <td>24</td>\n",
       "    </tr>\n",
       "    <tr>\n",
       "      <th>4</th>\n",
       "      <td>Antagonist activity at human histamine H1 rece...</td>\n",
       "      <td>24</td>\n",
       "    </tr>\n",
       "    <tr>\n",
       "      <th>...</th>\n",
       "      <td>...</td>\n",
       "      <td>...</td>\n",
       "    </tr>\n",
       "    <tr>\n",
       "      <th>70</th>\n",
       "      <td>Displacement of [3H]pyrilamine from human reco...</td>\n",
       "      <td>1</td>\n",
       "    </tr>\n",
       "    <tr>\n",
       "      <th>71</th>\n",
       "      <td>Inverse agonist activity at human wild-type hi...</td>\n",
       "      <td>1</td>\n",
       "    </tr>\n",
       "    <tr>\n",
       "      <th>72</th>\n",
       "      <td>Compound was tested for the binding affinity a...</td>\n",
       "      <td>1</td>\n",
       "    </tr>\n",
       "    <tr>\n",
       "      <th>73</th>\n",
       "      <td>Displacement of radiolabeled pyrilamine from h...</td>\n",
       "      <td>1</td>\n",
       "    </tr>\n",
       "    <tr>\n",
       "      <th>74</th>\n",
       "      <td>Binding affinity to human recombinant histamin...</td>\n",
       "      <td>1</td>\n",
       "    </tr>\n",
       "  </tbody>\n",
       "</table>\n",
       "<p>75 rows × 2 columns</p>\n",
       "</div>"
      ],
      "text/plain": [
       "                                    Assay_Description  count\n",
       "0   DRUGMATRIX: Histamine H1, Central radioligand ...    871\n",
       "1   Antagonistic activity against histamine H1 rec...     38\n",
       "2   Agonist activity at human histamine H1 recepto...     27\n",
       "3       Antagonism of the human histamine H1 receptor     24\n",
       "4   Antagonist activity at human histamine H1 rece...     24\n",
       "..                                                ...    ...\n",
       "70  Displacement of [3H]pyrilamine from human reco...      1\n",
       "71  Inverse agonist activity at human wild-type hi...      1\n",
       "72  Compound was tested for the binding affinity a...      1\n",
       "73  Displacement of radiolabeled pyrilamine from h...      1\n",
       "74  Binding affinity to human recombinant histamin...      1\n",
       "\n",
       "[75 rows x 2 columns]"
      ]
     },
     "metadata": {},
     "output_type": "display_data"
    }
   ],
   "source": [
    "assays = pd.DataFrame(chembl[chembl.Standard_Type.isin(['IC50', 'EC50'])].Assay_Description.value_counts()).reset_index()\n",
    "assays.columns=['Assay_Description', 'count']\n",
    "assays.to_csv('HRH1_ChEMBL_Assays_XC50.csv')\n",
    "print('XC50 assays:')\n",
    "display(assays)"
   ]
  },
  {
   "cell_type": "markdown",
   "metadata": {
    "id": "WcLf97G8W0D6"
   },
   "source": [
    "## Exercise: Explore datasets\n",
    "> load dtc and excape datasets<br>\n",
    "> explore the loaded (dtc and excape) dataframes to answer the following questions<br>\n",
    "\n",
    "## Possible list of questions:\n",
    "> How many assay values in each dataset?<br>\n",
    "> What are the molecular identifiers from each dataset?<br>\n",
    "> What are the data types from each dataset?<br>\n",
    "> What are the data units available from each dataset?<br>\n",
    "> What is the formula to translate IC50 to pIC50? (Hint: Check the following wikipedia link, https://en.wikipedia.org/wiki/IC50)<br>\n",
    "> What kinds of assays are represented in the datasets?<br>"
   ]
  },
  {
   "cell_type": "markdown",
   "metadata": {
    "id": "Il2DVUloh7eL",
    "outputId": "f4d8bd46-b884-4dac-c0a6-1db6111816be"
   },
   "source": [
    "---\n",
    "# Load DTC data"
   ]
  },
  {
   "cell_type": "code",
   "execution_count": 15,
   "metadata": {
    "id": "7dUGl9U5yRQy"
   },
   "outputs": [],
   "source": [
    "! wget https://raw.githubusercontent.com/ATOMScience-org/AMPL/master/atomsci/ddm/examples/tutorials/datasets/hrh1_dtc.csv >& /dev/null\n",
    "dtc = pd.read_csv(\"hrh1_dtc.csv\")"
   ]
  },
  {
   "cell_type": "markdown",
   "metadata": {
    "id": "rnSXmBxAyRQy"
   },
   "source": [
    "\n",
    "<div class=\"alert alert-success\">\n",
    "    <b>DTC Exercise-1: EDA of DTC dataset </b>:\n",
    "    <it>\n",
    "    <li> Replace column name empty spaces with \"_\"\n",
    "    <li> Print the dimensions of the dataframe\n",
    "    <li> Filter the dataset to retain only standard types, KI, Ki, IC50, EC50 \n",
    "    <li> How many unique values of standard types are available?\n",
    "            \n",
    "</div>"
   ]
  },
  {
   "cell_type": "markdown",
   "metadata": {
    "id": "qz8zjxn5yRQz"
   },
   "source": [
    "<div class=\"alert alert-info\">\n",
    "    <b> Solution for DTC Exercise-1: Try on your own. If you want to see the solution, click the following cell </b>\n",
    "    \n",
    "</div>"
   ]
  },
  {
   "cell_type": "markdown",
   "metadata": {
    "id": "N8MizOZzyRQz"
   },
   "source": [
    "<details><summary>Click here for the solution</summary>\n",
    "\n",
    "```python\n",
    "dtc.columns = dtc.columns.str.replace(' ','_')\n",
    "print(\"dtc.shape: \", dtc.shape)\n",
    "temp = pd.DataFrame(dtc['standard_type'].value_counts()).T\n",
    "print(temp)\n",
    "\n",
    "dtc = dtc[dtc.standard_type.isin(['KI', 'Ki', 'IC50', 'EC50'])]\n",
    "\n",
    "# change KI to Ki\n",
    "dtc.standard_type = np.where(dtc.standard_type == 'KI', 'Ki', dtc.standard_type)\n",
    "dtc.standard_type.unique()\n",
    "```\n",
    "\n",
    "</details>"
   ]
  },
  {
   "cell_type": "code",
   "execution_count": 16,
   "metadata": {
    "colab": {
     "base_uri": "https://localhost:8080/"
    },
    "id": "o3EGM47cyRQz",
    "outputId": "f466ab8c-9d4d-4a54-d8fc-75838dc2dcb0"
   },
   "outputs": [
    {
     "name": "stdout",
     "output_type": "stream",
     "text": [
      "dtc.shape:  (4819, 33)\n",
      "                 KI  IC50  INHIBITION  PKB   Ki  ACTIVITY  EC50  PEC50  ALPHA  \\\n",
      "standard_type  2491  1230         354  150  118        87    49     47     41   \n",
      "\n",
      "               KB  INTRINSIC ACTIVITY  Inhibition  Intrinsic activity  KD  \\\n",
      "standard_type  39                  38          35                  23  23   \n",
      "\n",
      "               EFFECT  CHANGE  LOG IC50  PKI  EMAX  Activity  EFFICACY  PIC50  \\\n",
      "standard_type      20      19        18   13     5         4         4      3   \n",
      "\n",
      "               RATIO  Kb  PKP  SELECTIVITY RATIO  P[A50]  LOG EC50  \n",
      "standard_type      2   2    1                  1       1         1  \n"
     ]
    },
    {
     "data": {
      "text/plain": [
       "array(['IC50', 'Ki', 'EC50'], dtype=object)"
      ]
     },
     "execution_count": 16,
     "metadata": {},
     "output_type": "execute_result"
    }
   ],
   "source": [
    "#***********************************************************\n",
    "# solution cell code chunk copied here to run the notebook *\n",
    "#***********************************************************\n",
    "\n",
    "dtc.columns = dtc.columns.str.replace(' ','_')\n",
    "print(\"dtc.shape: \", dtc.shape)\n",
    "temp = pd.DataFrame(dtc['standard_type'].value_counts()).T\n",
    "print(temp)\n",
    "\n",
    "dtc = dtc[dtc.standard_type.isin(['KI', 'Ki', 'IC50', 'EC50'])]\n",
    "\n",
    "# change KI to Ki\n",
    "dtc.standard_type = np.where(dtc.standard_type == 'KI', 'Ki', dtc.standard_type)\n",
    "dtc.standard_type.unique()"
   ]
  },
  {
   "cell_type": "code",
   "execution_count": 16,
   "metadata": {
    "id": "n-iXJpIf6ulG"
   },
   "outputs": [],
   "source": []
  },
  {
   "cell_type": "code",
   "execution_count": 16,
   "metadata": {
    "id": "ZT0u2BDr6uBd"
   },
   "outputs": [],
   "source": []
  },
  {
   "cell_type": "code",
   "execution_count": 16,
   "metadata": {
    "id": "q4L4Q0bPyRQz"
   },
   "outputs": [],
   "source": []
  },
  {
   "cell_type": "code",
   "execution_count": 16,
   "metadata": {
    "id": "96OgTEVWCBPV"
   },
   "outputs": [],
   "source": []
  },
  {
   "cell_type": "markdown",
   "metadata": {
    "id": "u3QJ84-nVoRl",
    "outputId": "b64937ff-fb32-430f-a292-89fa4b72e1a2"
   },
   "source": [
    "---\n",
    "# Load ExCAPE-DB data"
   ]
  },
  {
   "cell_type": "code",
   "execution_count": 17,
   "metadata": {
    "id": "XokiDhC7yRQ0"
   },
   "outputs": [],
   "source": [
    "! wget https://raw.githubusercontent.com/ATOMScience-org/AMPL/master/atomsci/ddm/examples/tutorials/datasets/hrh1_excape.csv >& /dev/null\n",
    "excape = pd.read_csv(\"hrh1_excape.csv\")\n"
   ]
  },
  {
   "cell_type": "markdown",
   "metadata": {
    "id": "jGr-8RDIyRQ0"
   },
   "source": [
    "<div class=\"alert alert-success\">\n",
    "    <b>Excape Exercise-1: EDA of ExCAPE-DB dataset</b>:\n",
    "    <it>\n",
    "    <li> Replace column name empty spaces with \"_\"\n",
    "    <li> Print the dimensions of the dataframe\n",
    "    <li> Explore assay information\n",
    "</div>"
   ]
  },
  {
   "cell_type": "markdown",
   "metadata": {
    "id": "sYukWhZzyRQ0"
   },
   "source": [
    "<div class=\"alert alert-info\">\n",
    "    <b> Solution for Excape Exercise-1: Try on your own. If you want to see the solution, click the following cell  </b>\n",
    "    \n",
    "</div>"
   ]
  },
  {
   "cell_type": "markdown",
   "metadata": {
    "id": "Us7Zv6EfyRQ0"
   },
   "source": [
    "<details><summary>Click here for the solution</summary>\n",
    "\n",
    "```python\n",
    "# replace excape column names with empty space with underscore \"_\"\n",
    "excape.columns = excape.columns.str.replace(' ','_')\n",
    "\n",
    "# print the dimensions of excape dataframe\n",
    "print(excape.shape)\n",
    "\n",
    "excape.Activity_Flag.unique()\n",
    "\n",
    "#  log10 of concentration value in MOLAR units\n",
    "#  np.log10(1.81e-9)\n",
    "\n",
    "#other useful info:\n",
    "#- standard relation column\n",
    "#- assay information\n",
    "\n",
    "# important: need to verify that all the assays are measuring the same thing\n",
    "len(chembl.Assay_Description.unique()) \n",
    "```\n",
    "\n",
    "</details>"
   ]
  },
  {
   "cell_type": "code",
   "execution_count": 18,
   "metadata": {
    "colab": {
     "base_uri": "https://localhost:8080/"
    },
    "id": "TvKiYgGHyRQ0",
    "outputId": "8173cbd1-b844-402a-af67-7d0d6465ee5b"
   },
   "outputs": [
    {
     "name": "stdout",
     "output_type": "stream",
     "text": [
      "(1283, 11)\n"
     ]
    },
    {
     "data": {
      "text/plain": [
       "209"
      ]
     },
     "execution_count": 18,
     "metadata": {},
     "output_type": "execute_result"
    }
   ],
   "source": [
    "#***********************************************************\n",
    "# solution cell code chunk copied here to run the notebook *\n",
    "#***********************************************************\n",
    "\n",
    "# replace excape column names with empty space with underscore \"_\"\n",
    "excape.columns = excape.columns.str.replace(' ','_')\n",
    "\n",
    "# print the dimensions of excape dataframe\n",
    "print(excape.shape)\n",
    "\n",
    "excape.Activity_Flag.unique()\n",
    "\n",
    "#  log10 of concentration value in MOLAR units\n",
    "#  np.log10(1.81e-9)\n",
    "\n",
    "# other useful info:\n",
    "# - standard relation column\n",
    "# - assay information\n",
    "\n",
    "# important: need to verify that all the assays are measuring the same thing\n",
    "len(chembl.Assay_Description.unique()) "
   ]
  },
  {
   "cell_type": "code",
   "execution_count": 18,
   "metadata": {
    "id": "XVE6zm3s6wyR"
   },
   "outputs": [],
   "source": []
  },
  {
   "cell_type": "code",
   "execution_count": 18,
   "metadata": {
    "id": "YvuoNpH66wmO"
   },
   "outputs": [],
   "source": []
  },
  {
   "cell_type": "code",
   "execution_count": 18,
   "metadata": {
    "id": "qQaY0DKBCAKK"
   },
   "outputs": [],
   "source": []
  },
  {
   "cell_type": "code",
   "execution_count": 18,
   "metadata": {
    "id": "swjJfp-3yRQ1"
   },
   "outputs": [],
   "source": []
  },
  {
   "cell_type": "markdown",
   "metadata": {
    "id": "_RpY3ZapzKSz"
   },
   "source": [
    "# EDA: Assay data responses\n",
    "> __What type of variable are the data responses?__<br>\n",
    "> __What kind of ML model would you build to predict this data?__<br>\n",
    "> __What kind of visualizations & analysis can you use to understand more about the data?__<br>"
   ]
  },
  {
   "cell_type": "code",
   "execution_count": 19,
   "metadata": {
    "colab": {
     "base_uri": "https://localhost:8080/",
     "height": 268
    },
    "id": "kQa2m9lX1Wqt",
    "outputId": "bb185061-5ee4-4788-8d0e-ab3c218e4725"
   },
   "outputs": [
    {
     "data": {
      "text/html": [
       "<div>\n",
       "<style scoped>\n",
       "    .dataframe tbody tr th:only-of-type {\n",
       "        vertical-align: middle;\n",
       "    }\n",
       "\n",
       "    .dataframe tbody tr th {\n",
       "        vertical-align: top;\n",
       "    }\n",
       "\n",
       "    .dataframe thead th {\n",
       "        text-align: right;\n",
       "    }\n",
       "</style>\n",
       "<table border=\"1\" class=\"dataframe\">\n",
       "  <thead>\n",
       "    <tr style=\"text-align: right;\">\n",
       "      <th></th>\n",
       "      <th>Molecule_ChEMBL_ID</th>\n",
       "      <th>Molecule_Name</th>\n",
       "      <th>Molecule_Max_Phase</th>\n",
       "      <th>Molecular_Weight</th>\n",
       "      <th>#RO5_Violations</th>\n",
       "      <th>AlogP</th>\n",
       "      <th>Compound_Key</th>\n",
       "      <th>Smiles</th>\n",
       "      <th>Standard_Type</th>\n",
       "      <th>Standard_Relation</th>\n",
       "      <th>Standard_Value</th>\n",
       "      <th>Standard_Units</th>\n",
       "      <th>pChEMBL_Value</th>\n",
       "      <th>Data_Validity_Comment</th>\n",
       "      <th>Comment</th>\n",
       "      <th>Uo_Units</th>\n",
       "      <th>Ligand_Efficiency_BEI</th>\n",
       "      <th>Ligand_Efficiency_LE</th>\n",
       "      <th>Ligand_Efficiency_LLE</th>\n",
       "      <th>Ligand_Efficiency_SEI</th>\n",
       "      <th>Potential_Duplicate</th>\n",
       "      <th>Assay_ChEMBL_ID</th>\n",
       "      <th>Assay_Description</th>\n",
       "      <th>Assay_Type</th>\n",
       "      <th>BAO_Format_ID</th>\n",
       "      <th>BAO_Label</th>\n",
       "      <th>Assay_Organism</th>\n",
       "      <th>Assay_Tissue_ChEMBL_ID</th>\n",
       "      <th>Assay_Tissue_Name</th>\n",
       "      <th>Assay_Cell_Type</th>\n",
       "      <th>Assay_Subcellular_Fraction</th>\n",
       "      <th>Assay_Parameters</th>\n",
       "      <th>Assay_Variant_Accession</th>\n",
       "      <th>Assay_Variant_Mutation</th>\n",
       "      <th>Target_ChEMBL_ID</th>\n",
       "      <th>Target_Name</th>\n",
       "      <th>Target_Organism</th>\n",
       "      <th>Target_Type</th>\n",
       "      <th>Document_ChEMBL_ID</th>\n",
       "      <th>Source_ID</th>\n",
       "      <th>Source_Description</th>\n",
       "      <th>Document_Journal</th>\n",
       "      <th>Document_Year</th>\n",
       "      <th>Cell_ChEMBL_ID</th>\n",
       "      <th>Properties</th>\n",
       "    </tr>\n",
       "  </thead>\n",
       "  <tbody>\n",
       "    <tr>\n",
       "      <th>5326</th>\n",
       "      <td>CHEMBL3337895</td>\n",
       "      <td>NaN</td>\n",
       "      <td>0</td>\n",
       "      <td>448.55</td>\n",
       "      <td>0</td>\n",
       "      <td>3.56</td>\n",
       "      <td>None</td>\n",
       "      <td>COc1cccc(CNC(=O)c2nc3scc(CN(C)Cc4ccccc4)c3c(=O...</td>\n",
       "      <td>Ki</td>\n",
       "      <td>'='</td>\n",
       "      <td>19.00</td>\n",
       "      <td>nM</td>\n",
       "      <td>7.72</td>\n",
       "      <td>NaN</td>\n",
       "      <td>NaN</td>\n",
       "      <td>UO_0000065</td>\n",
       "      <td>17.21</td>\n",
       "      <td>0.33</td>\n",
       "      <td>4.16</td>\n",
       "      <td>8.84</td>\n",
       "      <td>False</td>\n",
       "      <td>CHEMBL4507824</td>\n",
       "      <td>GPCRScan assay: inhibition of H1</td>\n",
       "      <td>B</td>\n",
       "      <td>BAO_0000357</td>\n",
       "      <td>single protein format</td>\n",
       "      <td>Homo sapiens</td>\n",
       "      <td>None</td>\n",
       "      <td>None</td>\n",
       "      <td>None</td>\n",
       "      <td>None</td>\n",
       "      <td>Parental cells: stable HEK | PMID: 9794809/792...</td>\n",
       "      <td>NaN</td>\n",
       "      <td>NaN</td>\n",
       "      <td>CHEMBL231</td>\n",
       "      <td>Histamine H1 receptor</td>\n",
       "      <td>Homo sapiens</td>\n",
       "      <td>SINGLE PROTEIN</td>\n",
       "      <td>CHEMBL4507300</td>\n",
       "      <td>54</td>\n",
       "      <td>Donated Chemical Probes - SGC Frankfurt</td>\n",
       "      <td>NaN</td>\n",
       "      <td>NaN</td>\n",
       "      <td>None</td>\n",
       "      <td>NaN</td>\n",
       "    </tr>\n",
       "    <tr>\n",
       "      <th>5330</th>\n",
       "      <td>CHEMBL440687</td>\n",
       "      <td>NaN</td>\n",
       "      <td>0</td>\n",
       "      <td>293.37</td>\n",
       "      <td>0</td>\n",
       "      <td>2.28</td>\n",
       "      <td>None</td>\n",
       "      <td>c1ccc(N2CCN(Cc3nc4ccccc4[nH]3)CC2)nc1</td>\n",
       "      <td>Ki</td>\n",
       "      <td>'='</td>\n",
       "      <td>6760.83</td>\n",
       "      <td>nM</td>\n",
       "      <td>5.17</td>\n",
       "      <td>NaN</td>\n",
       "      <td>NaN</td>\n",
       "      <td>UO_0000065</td>\n",
       "      <td>17.62</td>\n",
       "      <td>0.32</td>\n",
       "      <td>2.89</td>\n",
       "      <td>10.76</td>\n",
       "      <td>False</td>\n",
       "      <td>CHEMBL4507824</td>\n",
       "      <td>GPCRScan assay: inhibition of H1</td>\n",
       "      <td>B</td>\n",
       "      <td>BAO_0000357</td>\n",
       "      <td>single protein format</td>\n",
       "      <td>Homo sapiens</td>\n",
       "      <td>None</td>\n",
       "      <td>None</td>\n",
       "      <td>None</td>\n",
       "      <td>None</td>\n",
       "      <td>Parental cells: stable HEK | PMID: 9794809/792...</td>\n",
       "      <td>NaN</td>\n",
       "      <td>NaN</td>\n",
       "      <td>CHEMBL231</td>\n",
       "      <td>Histamine H1 receptor</td>\n",
       "      <td>Homo sapiens</td>\n",
       "      <td>SINGLE PROTEIN</td>\n",
       "      <td>CHEMBL4507260</td>\n",
       "      <td>54</td>\n",
       "      <td>Donated Chemical Probes - SGC Frankfurt</td>\n",
       "      <td>NaN</td>\n",
       "      <td>NaN</td>\n",
       "      <td>None</td>\n",
       "      <td>NaN</td>\n",
       "    </tr>\n",
       "    <tr>\n",
       "      <th>5331</th>\n",
       "      <td>CHEMBL1651534</td>\n",
       "      <td>PF-04457845</td>\n",
       "      <td>2</td>\n",
       "      <td>455.44</td>\n",
       "      <td>1</td>\n",
       "      <td>5.39</td>\n",
       "      <td>PF-04457845</td>\n",
       "      <td>O=C(Nc1cccnn1)N1CCC(=Cc2cccc(Oc3ccc(C(F)(F)F)c...</td>\n",
       "      <td>Ki</td>\n",
       "      <td>'='</td>\n",
       "      <td>0.00</td>\n",
       "      <td>nM</td>\n",
       "      <td>NaN</td>\n",
       "      <td>Outside typical range</td>\n",
       "      <td>NaN</td>\n",
       "      <td>UO_0000065</td>\n",
       "      <td>NaN</td>\n",
       "      <td>NaN</td>\n",
       "      <td>NaN</td>\n",
       "      <td>NaN</td>\n",
       "      <td>False</td>\n",
       "      <td>CHEMBL4510786</td>\n",
       "      <td>H1 (h) CEREP ligand profiling</td>\n",
       "      <td>B</td>\n",
       "      <td>BAO_0000357</td>\n",
       "      <td>single protein format</td>\n",
       "      <td>Homo sapiens</td>\n",
       "      <td>None</td>\n",
       "      <td>None</td>\n",
       "      <td>None</td>\n",
       "      <td>None</td>\n",
       "      <td>NaN</td>\n",
       "      <td>NaN</td>\n",
       "      <td>NaN</td>\n",
       "      <td>CHEMBL231</td>\n",
       "      <td>Histamine H1 receptor</td>\n",
       "      <td>Homo sapiens</td>\n",
       "      <td>SINGLE PROTEIN</td>\n",
       "      <td>CHEMBL4507297</td>\n",
       "      <td>54</td>\n",
       "      <td>Donated Chemical Probes - SGC Frankfurt</td>\n",
       "      <td>NaN</td>\n",
       "      <td>NaN</td>\n",
       "      <td>None</td>\n",
       "      <td>NaN</td>\n",
       "    </tr>\n",
       "  </tbody>\n",
       "</table>\n",
       "</div>"
      ],
      "text/plain": [
       "     Molecule_ChEMBL_ID Molecule_Name  Molecule_Max_Phase Molecular_Weight  \\\n",
       "5326      CHEMBL3337895           NaN                   0           448.55   \n",
       "5330       CHEMBL440687           NaN                   0           293.37   \n",
       "5331      CHEMBL1651534   PF-04457845                   2           455.44   \n",
       "\n",
       "     #RO5_Violations AlogP Compound_Key  \\\n",
       "5326               0  3.56         None   \n",
       "5330               0  2.28         None   \n",
       "5331               1  5.39  PF-04457845   \n",
       "\n",
       "                                                 Smiles Standard_Type  \\\n",
       "5326  COc1cccc(CNC(=O)c2nc3scc(CN(C)Cc4ccccc4)c3c(=O...            Ki   \n",
       "5330              c1ccc(N2CCN(Cc3nc4ccccc4[nH]3)CC2)nc1            Ki   \n",
       "5331  O=C(Nc1cccnn1)N1CCC(=Cc2cccc(Oc3ccc(C(F)(F)F)c...            Ki   \n",
       "\n",
       "     Standard_Relation  Standard_Value Standard_Units  pChEMBL_Value  \\\n",
       "5326               '='           19.00             nM           7.72   \n",
       "5330               '='         6760.83             nM           5.17   \n",
       "5331               '='            0.00             nM            NaN   \n",
       "\n",
       "      Data_Validity_Comment Comment    Uo_Units  Ligand_Efficiency_BEI  \\\n",
       "5326                    NaN     NaN  UO_0000065                  17.21   \n",
       "5330                    NaN     NaN  UO_0000065                  17.62   \n",
       "5331  Outside typical range     NaN  UO_0000065                    NaN   \n",
       "\n",
       "     Ligand_Efficiency_LE Ligand_Efficiency_LLE Ligand_Efficiency_SEI  \\\n",
       "5326                 0.33                  4.16                  8.84   \n",
       "5330                 0.32                  2.89                 10.76   \n",
       "5331                  NaN                   NaN                   NaN   \n",
       "\n",
       "      Potential_Duplicate Assay_ChEMBL_ID                 Assay_Description  \\\n",
       "5326                False   CHEMBL4507824  GPCRScan assay: inhibition of H1   \n",
       "5330                False   CHEMBL4507824  GPCRScan assay: inhibition of H1   \n",
       "5331                False   CHEMBL4510786     H1 (h) CEREP ligand profiling   \n",
       "\n",
       "     Assay_Type BAO_Format_ID              BAO_Label Assay_Organism  \\\n",
       "5326          B   BAO_0000357  single protein format   Homo sapiens   \n",
       "5330          B   BAO_0000357  single protein format   Homo sapiens   \n",
       "5331          B   BAO_0000357  single protein format   Homo sapiens   \n",
       "\n",
       "     Assay_Tissue_ChEMBL_ID Assay_Tissue_Name Assay_Cell_Type  \\\n",
       "5326                   None              None            None   \n",
       "5330                   None              None            None   \n",
       "5331                   None              None            None   \n",
       "\n",
       "     Assay_Subcellular_Fraction  \\\n",
       "5326                       None   \n",
       "5330                       None   \n",
       "5331                       None   \n",
       "\n",
       "                                       Assay_Parameters  \\\n",
       "5326  Parental cells: stable HEK | PMID: 9794809/792...   \n",
       "5330  Parental cells: stable HEK | PMID: 9794809/792...   \n",
       "5331                                                NaN   \n",
       "\n",
       "     Assay_Variant_Accession Assay_Variant_Mutation Target_ChEMBL_ID  \\\n",
       "5326                     NaN                    NaN        CHEMBL231   \n",
       "5330                     NaN                    NaN        CHEMBL231   \n",
       "5331                     NaN                    NaN        CHEMBL231   \n",
       "\n",
       "                Target_Name Target_Organism     Target_Type  \\\n",
       "5326  Histamine H1 receptor    Homo sapiens  SINGLE PROTEIN   \n",
       "5330  Histamine H1 receptor    Homo sapiens  SINGLE PROTEIN   \n",
       "5331  Histamine H1 receptor    Homo sapiens  SINGLE PROTEIN   \n",
       "\n",
       "     Document_ChEMBL_ID  Source_ID                       Source_Description  \\\n",
       "5326      CHEMBL4507300         54  Donated Chemical Probes - SGC Frankfurt   \n",
       "5330      CHEMBL4507260         54  Donated Chemical Probes - SGC Frankfurt   \n",
       "5331      CHEMBL4507297         54  Donated Chemical Probes - SGC Frankfurt   \n",
       "\n",
       "     Document_Journal  Document_Year Cell_ChEMBL_ID Properties  \n",
       "5326              NaN            NaN           None        NaN  \n",
       "5330              NaN            NaN           None        NaN  \n",
       "5331              NaN            NaN           None        NaN  "
      ]
     },
     "execution_count": 19,
     "metadata": {},
     "output_type": "execute_result"
    }
   ],
   "source": [
    "chembl.tail(3)"
   ]
  },
  {
   "cell_type": "code",
   "execution_count": 20,
   "metadata": {
    "colab": {
     "base_uri": "https://localhost:8080/"
    },
    "id": "ncvrHyxwIqKe",
    "outputId": "6ca4282c-2fe3-4c79-9211-0b09d8681ced"
   },
   "outputs": [
    {
     "data": {
      "text/plain": [
       "array(['nM', nan], dtype=object)"
      ]
     },
     "execution_count": 20,
     "metadata": {},
     "output_type": "execute_result"
    }
   ],
   "source": [
    "chembl.Standard_Units.unique()"
   ]
  },
  {
   "cell_type": "code",
   "execution_count": 21,
   "metadata": {
    "colab": {
     "base_uri": "https://localhost:8080/"
    },
    "id": "xq4MLIQ2yRQ2",
    "outputId": "b3e5be20-8403-452c-baad-7b55dc767ec8"
   },
   "outputs": [
    {
     "data": {
      "text/plain": [
       "array([\"'='\", nan, \"'>'\", \"'<'\", \"'~'\"], dtype=object)"
      ]
     },
     "execution_count": 21,
     "metadata": {},
     "output_type": "execute_result"
    }
   ],
   "source": [
    "chembl.Standard_Relation.unique()"
   ]
  },
  {
   "cell_type": "markdown",
   "metadata": {
    "id": "YrbtfGTuE-Lt"
   },
   "source": [
    "## **Curation step**: Change `Standard Units` to be the same for all responses. \n",
    "> __This task may not be necessary for HRH1, but might be essential for other datasets__<br>\n",
    "> __create the column anyway for use later__<br>"
   ]
  },
  {
   "cell_type": "code",
   "execution_count": 22,
   "metadata": {
    "colab": {
     "base_uri": "https://localhost:8080/"
    },
    "id": "s0wS-rt8yRQ2",
    "outputId": "95b88aba-34ca-4cee-999e-18e2a185cd2c"
   },
   "outputs": [
    {
     "data": {
      "text/plain": [
       "nM    2149\n",
       "Name: Standard_Units, dtype: int64"
      ]
     },
     "execution_count": 22,
     "metadata": {},
     "output_type": "execute_result"
    }
   ],
   "source": [
    "chembl['Standard_Units'].value_counts()"
   ]
  },
  {
   "cell_type": "code",
   "execution_count": 23,
   "metadata": {
    "id": "etUe6MK7IwQ3"
   },
   "outputs": [],
   "source": [
    "# change uM to nM units so they're all the same\n",
    "chembl.loc[:, 'Standard_Value_nM'] = np.where(chembl.Standard_Units == 'uM',    # where units are uM,\n",
    "                                              chembl.Standard_Value * 1000, # multiply Standard_Value by 1000, \n",
    "                                              chembl.Standard_Value)        # otherwise take the Standard_Value"
   ]
  },
  {
   "cell_type": "markdown",
   "metadata": {
    "id": "NIXq3TYQFEjJ"
   },
   "source": [
    "## EDA: Summarize, describe, plot data for analysis"
   ]
  },
  {
   "cell_type": "code",
   "execution_count": 24,
   "metadata": {
    "colab": {
     "base_uri": "https://localhost:8080/",
     "height": 300
    },
    "id": "vBSBTEn419sA",
    "outputId": "357ef558-48e4-4b26-8a2f-e68ee6d77f13"
   },
   "outputs": [
    {
     "data": {
      "text/html": [
       "<div>\n",
       "<style scoped>\n",
       "    .dataframe tbody tr th:only-of-type {\n",
       "        vertical-align: middle;\n",
       "    }\n",
       "\n",
       "    .dataframe tbody tr th {\n",
       "        vertical-align: top;\n",
       "    }\n",
       "\n",
       "    .dataframe thead th {\n",
       "        text-align: right;\n",
       "    }\n",
       "</style>\n",
       "<table border=\"1\" class=\"dataframe\">\n",
       "  <thead>\n",
       "    <tr style=\"text-align: right;\">\n",
       "      <th></th>\n",
       "      <th>Molecule_Max_Phase</th>\n",
       "      <th>Standard_Value</th>\n",
       "      <th>pChEMBL_Value</th>\n",
       "      <th>Ligand_Efficiency_BEI</th>\n",
       "      <th>Source_ID</th>\n",
       "      <th>Document_Year</th>\n",
       "      <th>Standard_Value_nM</th>\n",
       "    </tr>\n",
       "  </thead>\n",
       "  <tbody>\n",
       "    <tr>\n",
       "      <th>count</th>\n",
       "      <td>3908.000000</td>\n",
       "      <td>2.149000e+03</td>\n",
       "      <td>1745.000000</td>\n",
       "      <td>1355.000000</td>\n",
       "      <td>3908.000000</td>\n",
       "      <td>2144.000000</td>\n",
       "      <td>2.149000e+03</td>\n",
       "    </tr>\n",
       "    <tr>\n",
       "      <th>mean</th>\n",
       "      <td>1.542477</td>\n",
       "      <td>2.867579e+14</td>\n",
       "      <td>6.959989</td>\n",
       "      <td>19.275137</td>\n",
       "      <td>7.714176</td>\n",
       "      <td>2009.235541</td>\n",
       "      <td>2.867579e+14</td>\n",
       "    </tr>\n",
       "    <tr>\n",
       "      <th>std</th>\n",
       "      <td>1.918612</td>\n",
       "      <td>1.102390e+16</td>\n",
       "      <td>1.280191</td>\n",
       "      <td>7.063546</td>\n",
       "      <td>8.027240</td>\n",
       "      <td>5.344678</td>\n",
       "      <td>1.102390e+16</td>\n",
       "    </tr>\n",
       "    <tr>\n",
       "      <th>min</th>\n",
       "      <td>0.000000</td>\n",
       "      <td>0.000000e+00</td>\n",
       "      <td>4.000000</td>\n",
       "      <td>8.120000</td>\n",
       "      <td>1.000000</td>\n",
       "      <td>1991.000000</td>\n",
       "      <td>0.000000e+00</td>\n",
       "    </tr>\n",
       "    <tr>\n",
       "      <th>25%</th>\n",
       "      <td>0.000000</td>\n",
       "      <td>1.780000e+01</td>\n",
       "      <td>6.000000</td>\n",
       "      <td>14.255000</td>\n",
       "      <td>1.000000</td>\n",
       "      <td>2005.000000</td>\n",
       "      <td>1.780000e+01</td>\n",
       "    </tr>\n",
       "    <tr>\n",
       "      <th>50%</th>\n",
       "      <td>0.000000</td>\n",
       "      <td>3.110000e+02</td>\n",
       "      <td>6.980000</td>\n",
       "      <td>17.100000</td>\n",
       "      <td>1.000000</td>\n",
       "      <td>2010.000000</td>\n",
       "      <td>3.110000e+02</td>\n",
       "    </tr>\n",
       "    <tr>\n",
       "      <th>75%</th>\n",
       "      <td>4.000000</td>\n",
       "      <td>2.511890e+03</td>\n",
       "      <td>8.000000</td>\n",
       "      <td>23.755000</td>\n",
       "      <td>15.000000</td>\n",
       "      <td>2012.000000</td>\n",
       "      <td>2.511890e+03</td>\n",
       "    </tr>\n",
       "    <tr>\n",
       "      <th>max</th>\n",
       "      <td>4.000000</td>\n",
       "      <td>5.011872e+17</td>\n",
       "      <td>10.850000</td>\n",
       "      <td>70.950000</td>\n",
       "      <td>54.000000</td>\n",
       "      <td>2020.000000</td>\n",
       "      <td>5.011872e+17</td>\n",
       "    </tr>\n",
       "  </tbody>\n",
       "</table>\n",
       "</div>"
      ],
      "text/plain": [
       "       Molecule_Max_Phase  Standard_Value  pChEMBL_Value  \\\n",
       "count         3908.000000    2.149000e+03    1745.000000   \n",
       "mean             1.542477    2.867579e+14       6.959989   \n",
       "std              1.918612    1.102390e+16       1.280191   \n",
       "min              0.000000    0.000000e+00       4.000000   \n",
       "25%              0.000000    1.780000e+01       6.000000   \n",
       "50%              0.000000    3.110000e+02       6.980000   \n",
       "75%              4.000000    2.511890e+03       8.000000   \n",
       "max              4.000000    5.011872e+17      10.850000   \n",
       "\n",
       "       Ligand_Efficiency_BEI    Source_ID  Document_Year  Standard_Value_nM  \n",
       "count            1355.000000  3908.000000    2144.000000       2.149000e+03  \n",
       "mean               19.275137     7.714176    2009.235541       2.867579e+14  \n",
       "std                 7.063546     8.027240       5.344678       1.102390e+16  \n",
       "min                 8.120000     1.000000    1991.000000       0.000000e+00  \n",
       "25%                14.255000     1.000000    2005.000000       1.780000e+01  \n",
       "50%                17.100000     1.000000    2010.000000       3.110000e+02  \n",
       "75%                23.755000    15.000000    2012.000000       2.511890e+03  \n",
       "max                70.950000    54.000000    2020.000000       5.011872e+17  "
      ]
     },
     "execution_count": 24,
     "metadata": {},
     "output_type": "execute_result"
    }
   ],
   "source": [
    "# summary statistics\n",
    "chembl.describe()"
   ]
  },
  {
   "cell_type": "code",
   "execution_count": 25,
   "metadata": {
    "colab": {
     "base_uri": "https://localhost:8080/",
     "height": 268
    },
    "id": "nplWfMJeyRQ3",
    "outputId": "7756ca4d-8ff0-4694-ccb2-a562a0b0602a"
   },
   "outputs": [
    {
     "data": {
      "text/html": [
       "<div>\n",
       "<style scoped>\n",
       "    .dataframe tbody tr th:only-of-type {\n",
       "        vertical-align: middle;\n",
       "    }\n",
       "\n",
       "    .dataframe tbody tr th {\n",
       "        vertical-align: top;\n",
       "    }\n",
       "\n",
       "    .dataframe thead th {\n",
       "        text-align: right;\n",
       "    }\n",
       "</style>\n",
       "<table border=\"1\" class=\"dataframe\">\n",
       "  <thead>\n",
       "    <tr style=\"text-align: right;\">\n",
       "      <th></th>\n",
       "      <th>Molecule_ChEMBL_ID</th>\n",
       "      <th>Molecule_Name</th>\n",
       "      <th>Molecule_Max_Phase</th>\n",
       "      <th>Molecular_Weight</th>\n",
       "      <th>#RO5_Violations</th>\n",
       "      <th>AlogP</th>\n",
       "      <th>Compound_Key</th>\n",
       "      <th>Smiles</th>\n",
       "      <th>Standard_Type</th>\n",
       "      <th>Standard_Relation</th>\n",
       "      <th>Standard_Value</th>\n",
       "      <th>Standard_Units</th>\n",
       "      <th>pChEMBL_Value</th>\n",
       "      <th>Data_Validity_Comment</th>\n",
       "      <th>Comment</th>\n",
       "      <th>Uo_Units</th>\n",
       "      <th>Ligand_Efficiency_BEI</th>\n",
       "      <th>Ligand_Efficiency_LE</th>\n",
       "      <th>Ligand_Efficiency_LLE</th>\n",
       "      <th>Ligand_Efficiency_SEI</th>\n",
       "      <th>Potential_Duplicate</th>\n",
       "      <th>Assay_ChEMBL_ID</th>\n",
       "      <th>Assay_Description</th>\n",
       "      <th>Assay_Type</th>\n",
       "      <th>BAO_Format_ID</th>\n",
       "      <th>BAO_Label</th>\n",
       "      <th>Assay_Organism</th>\n",
       "      <th>Assay_Tissue_ChEMBL_ID</th>\n",
       "      <th>Assay_Tissue_Name</th>\n",
       "      <th>Assay_Cell_Type</th>\n",
       "      <th>Assay_Subcellular_Fraction</th>\n",
       "      <th>Assay_Parameters</th>\n",
       "      <th>Assay_Variant_Accession</th>\n",
       "      <th>Assay_Variant_Mutation</th>\n",
       "      <th>Target_ChEMBL_ID</th>\n",
       "      <th>Target_Name</th>\n",
       "      <th>Target_Organism</th>\n",
       "      <th>Target_Type</th>\n",
       "      <th>Document_ChEMBL_ID</th>\n",
       "      <th>Source_ID</th>\n",
       "      <th>Source_Description</th>\n",
       "      <th>Document_Journal</th>\n",
       "      <th>Document_Year</th>\n",
       "      <th>Cell_ChEMBL_ID</th>\n",
       "      <th>Properties</th>\n",
       "      <th>Standard_Value_nM</th>\n",
       "    </tr>\n",
       "  </thead>\n",
       "  <tbody>\n",
       "    <tr>\n",
       "      <th>0</th>\n",
       "      <td>CHEMBL157217</td>\n",
       "      <td>NaN</td>\n",
       "      <td>0</td>\n",
       "      <td>277.46</td>\n",
       "      <td>0</td>\n",
       "      <td>4.17</td>\n",
       "      <td>1j</td>\n",
       "      <td>c1nc(CCCCCCCCCCN2CCCC2)c[nH]1</td>\n",
       "      <td>Ki</td>\n",
       "      <td>'='</td>\n",
       "      <td>2.511886e+14</td>\n",
       "      <td>nM</td>\n",
       "      <td>NaN</td>\n",
       "      <td>Outside typical range</td>\n",
       "      <td>NaN</td>\n",
       "      <td>UO_0000065</td>\n",
       "      <td>NaN</td>\n",
       "      <td>NaN</td>\n",
       "      <td>NaN</td>\n",
       "      <td>NaN</td>\n",
       "      <td>False</td>\n",
       "      <td>CHEMBL692992</td>\n",
       "      <td>Inhibitory activity against human Histamine H1...</td>\n",
       "      <td>B</td>\n",
       "      <td>BAO_0000357</td>\n",
       "      <td>single protein format</td>\n",
       "      <td>None</td>\n",
       "      <td>None</td>\n",
       "      <td>None</td>\n",
       "      <td>None</td>\n",
       "      <td>None</td>\n",
       "      <td>NaN</td>\n",
       "      <td>NaN</td>\n",
       "      <td>NaN</td>\n",
       "      <td>CHEMBL231</td>\n",
       "      <td>Histamine H1 receptor</td>\n",
       "      <td>Homo sapiens</td>\n",
       "      <td>SINGLE PROTEIN</td>\n",
       "      <td>CHEMBL1145948</td>\n",
       "      <td>1</td>\n",
       "      <td>Scientific Literature</td>\n",
       "      <td>J. Med. Chem.</td>\n",
       "      <td>2003.0</td>\n",
       "      <td>None</td>\n",
       "      <td>NaN</td>\n",
       "      <td>2.511886e+14</td>\n",
       "    </tr>\n",
       "    <tr>\n",
       "      <th>2</th>\n",
       "      <td>CHEMBL444083</td>\n",
       "      <td>NaN</td>\n",
       "      <td>0</td>\n",
       "      <td>562.66</td>\n",
       "      <td>2</td>\n",
       "      <td>5.04</td>\n",
       "      <td>1</td>\n",
       "      <td>NC(=O)N(O)CCC#Cc1ccc(OCCCCN2CCN(C(c3ccc(F)cc3)...</td>\n",
       "      <td>Ki</td>\n",
       "      <td>'='</td>\n",
       "      <td>3.630000e+00</td>\n",
       "      <td>nM</td>\n",
       "      <td>8.44</td>\n",
       "      <td>NaN</td>\n",
       "      <td>NaN</td>\n",
       "      <td>UO_0000065</td>\n",
       "      <td>15.00</td>\n",
       "      <td>0.28</td>\n",
       "      <td>3.40</td>\n",
       "      <td>10.26</td>\n",
       "      <td>False</td>\n",
       "      <td>CHEMBL828761</td>\n",
       "      <td>Binding affinity for recombinant human Histami...</td>\n",
       "      <td>B</td>\n",
       "      <td>BAO_0000219</td>\n",
       "      <td>cell-based format</td>\n",
       "      <td>Homo sapiens</td>\n",
       "      <td>None</td>\n",
       "      <td>None</td>\n",
       "      <td>CHO</td>\n",
       "      <td>None</td>\n",
       "      <td>NaN</td>\n",
       "      <td>NaN</td>\n",
       "      <td>NaN</td>\n",
       "      <td>CHEMBL231</td>\n",
       "      <td>Histamine H1 receptor</td>\n",
       "      <td>Homo sapiens</td>\n",
       "      <td>SINGLE PROTEIN</td>\n",
       "      <td>CHEMBL1141893</td>\n",
       "      <td>1</td>\n",
       "      <td>Scientific Literature</td>\n",
       "      <td>Bioorg. Med. Chem. Lett.</td>\n",
       "      <td>2005.0</td>\n",
       "      <td>CHEMBL3308072</td>\n",
       "      <td>NaN</td>\n",
       "      <td>3.630000e+00</td>\n",
       "    </tr>\n",
       "    <tr>\n",
       "      <th>3</th>\n",
       "      <td>CHEMBL101691</td>\n",
       "      <td>NaN</td>\n",
       "      <td>0</td>\n",
       "      <td>428.55</td>\n",
       "      <td>0</td>\n",
       "      <td>3.10</td>\n",
       "      <td>33</td>\n",
       "      <td>O=C(c1ccc(OCCCN2CC[C@H](NS(=O)(=O)c3ccccc3)C2)...</td>\n",
       "      <td>Ki</td>\n",
       "      <td>'='</td>\n",
       "      <td>9.100000e+03</td>\n",
       "      <td>nM</td>\n",
       "      <td>5.04</td>\n",
       "      <td>NaN</td>\n",
       "      <td>NaN</td>\n",
       "      <td>UO_0000065</td>\n",
       "      <td>11.76</td>\n",
       "      <td>0.23</td>\n",
       "      <td>1.94</td>\n",
       "      <td>6.66</td>\n",
       "      <td>False</td>\n",
       "      <td>CHEMBL691613</td>\n",
       "      <td>Binding affinity to the human Histamine H1 rec...</td>\n",
       "      <td>B</td>\n",
       "      <td>BAO_0000357</td>\n",
       "      <td>single protein format</td>\n",
       "      <td>None</td>\n",
       "      <td>None</td>\n",
       "      <td>None</td>\n",
       "      <td>None</td>\n",
       "      <td>None</td>\n",
       "      <td>NaN</td>\n",
       "      <td>NaN</td>\n",
       "      <td>NaN</td>\n",
       "      <td>CHEMBL231</td>\n",
       "      <td>Histamine H1 receptor</td>\n",
       "      <td>Homo sapiens</td>\n",
       "      <td>SINGLE PROTEIN</td>\n",
       "      <td>CHEMBL1134928</td>\n",
       "      <td>1</td>\n",
       "      <td>Scientific Literature</td>\n",
       "      <td>Bioorg. Med. Chem. Lett.</td>\n",
       "      <td>2002.0</td>\n",
       "      <td>None</td>\n",
       "      <td>NaN</td>\n",
       "      <td>9.100000e+03</td>\n",
       "    </tr>\n",
       "  </tbody>\n",
       "</table>\n",
       "</div>"
      ],
      "text/plain": [
       "  Molecule_ChEMBL_ID Molecule_Name  Molecule_Max_Phase Molecular_Weight  \\\n",
       "0       CHEMBL157217           NaN                   0           277.46   \n",
       "2       CHEMBL444083           NaN                   0           562.66   \n",
       "3       CHEMBL101691           NaN                   0           428.55   \n",
       "\n",
       "  #RO5_Violations AlogP Compound_Key  \\\n",
       "0               0  4.17           1j   \n",
       "2               2  5.04            1   \n",
       "3               0  3.10           33   \n",
       "\n",
       "                                              Smiles Standard_Type  \\\n",
       "0                      c1nc(CCCCCCCCCCN2CCCC2)c[nH]1            Ki   \n",
       "2  NC(=O)N(O)CCC#Cc1ccc(OCCCCN2CCN(C(c3ccc(F)cc3)...            Ki   \n",
       "3  O=C(c1ccc(OCCCN2CC[C@H](NS(=O)(=O)c3ccccc3)C2)...            Ki   \n",
       "\n",
       "  Standard_Relation  Standard_Value Standard_Units  pChEMBL_Value  \\\n",
       "0               '='    2.511886e+14             nM            NaN   \n",
       "2               '='    3.630000e+00             nM           8.44   \n",
       "3               '='    9.100000e+03             nM           5.04   \n",
       "\n",
       "   Data_Validity_Comment Comment    Uo_Units  Ligand_Efficiency_BEI  \\\n",
       "0  Outside typical range     NaN  UO_0000065                    NaN   \n",
       "2                    NaN     NaN  UO_0000065                  15.00   \n",
       "3                    NaN     NaN  UO_0000065                  11.76   \n",
       "\n",
       "  Ligand_Efficiency_LE Ligand_Efficiency_LLE Ligand_Efficiency_SEI  \\\n",
       "0                  NaN                   NaN                   NaN   \n",
       "2                 0.28                  3.40                 10.26   \n",
       "3                 0.23                  1.94                  6.66   \n",
       "\n",
       "   Potential_Duplicate Assay_ChEMBL_ID  \\\n",
       "0                False    CHEMBL692992   \n",
       "2                False    CHEMBL828761   \n",
       "3                False    CHEMBL691613   \n",
       "\n",
       "                                   Assay_Description Assay_Type BAO_Format_ID  \\\n",
       "0  Inhibitory activity against human Histamine H1...          B   BAO_0000357   \n",
       "2  Binding affinity for recombinant human Histami...          B   BAO_0000219   \n",
       "3  Binding affinity to the human Histamine H1 rec...          B   BAO_0000357   \n",
       "\n",
       "               BAO_Label Assay_Organism Assay_Tissue_ChEMBL_ID  \\\n",
       "0  single protein format           None                   None   \n",
       "2      cell-based format   Homo sapiens                   None   \n",
       "3  single protein format           None                   None   \n",
       "\n",
       "  Assay_Tissue_Name Assay_Cell_Type Assay_Subcellular_Fraction  \\\n",
       "0              None            None                       None   \n",
       "2              None             CHO                       None   \n",
       "3              None            None                       None   \n",
       "\n",
       "  Assay_Parameters Assay_Variant_Accession Assay_Variant_Mutation  \\\n",
       "0              NaN                     NaN                    NaN   \n",
       "2              NaN                     NaN                    NaN   \n",
       "3              NaN                     NaN                    NaN   \n",
       "\n",
       "  Target_ChEMBL_ID            Target_Name Target_Organism     Target_Type  \\\n",
       "0        CHEMBL231  Histamine H1 receptor    Homo sapiens  SINGLE PROTEIN   \n",
       "2        CHEMBL231  Histamine H1 receptor    Homo sapiens  SINGLE PROTEIN   \n",
       "3        CHEMBL231  Histamine H1 receptor    Homo sapiens  SINGLE PROTEIN   \n",
       "\n",
       "  Document_ChEMBL_ID  Source_ID     Source_Description  \\\n",
       "0      CHEMBL1145948          1  Scientific Literature   \n",
       "2      CHEMBL1141893          1  Scientific Literature   \n",
       "3      CHEMBL1134928          1  Scientific Literature   \n",
       "\n",
       "           Document_Journal  Document_Year Cell_ChEMBL_ID Properties  \\\n",
       "0             J. Med. Chem.         2003.0           None        NaN   \n",
       "2  Bioorg. Med. Chem. Lett.         2005.0  CHEMBL3308072        NaN   \n",
       "3  Bioorg. Med. Chem. Lett.         2002.0           None        NaN   \n",
       "\n",
       "   Standard_Value_nM  \n",
       "0       2.511886e+14  \n",
       "2       3.630000e+00  \n",
       "3       9.100000e+03  "
      ]
     },
     "execution_count": 25,
     "metadata": {},
     "output_type": "execute_result"
    }
   ],
   "source": [
    "chembl.head(3)"
   ]
  },
  {
   "cell_type": "markdown",
   "metadata": {
    "id": "HJR3tLH74CGK"
   },
   "source": [
    "**Why do some columns seem numeric (ex., Molecular Weight, AlogP etc)  but not listed in the `describe()` command? Examine chembl csv file. The reason for this behavior is due to some cells for these columns contain `None` entries that make it an `object` datatype rather than `float64`**"
   ]
  },
  {
   "cell_type": "code",
   "execution_count": 26,
   "metadata": {
    "id": "IeqO3iPP3LXL"
   },
   "outputs": [],
   "source": [
    "chembl=chembl.replace('None',np.nan)"
   ]
  },
  {
   "cell_type": "code",
   "execution_count": 27,
   "metadata": {
    "id": "Ftvkvqtt5AtP"
   },
   "outputs": [],
   "source": [
    "# after removing None you have to recast the column as numeric\n",
    "numeric_cols=['Molecule_Max_Phase', 'Molecular_Weight', \n",
    "              '#RO5_Violations', 'AlogP', \n",
    "              'Standard_Value_nM', 'pChEMBL_Value']\n",
    "for col in numeric_cols:\n",
    "    chembl[col]=chembl[col].astype(float)"
   ]
  },
  {
   "cell_type": "code",
   "execution_count": 28,
   "metadata": {
    "colab": {
     "base_uri": "https://localhost:8080/",
     "height": 400
    },
    "id": "TY67LezS7HRu",
    "outputId": "f610d920-bfce-454d-886c-df7c770d0dba"
   },
   "outputs": [
    {
     "data": {
      "text/html": [
       "<div>\n",
       "<style scoped>\n",
       "    .dataframe tbody tr th:only-of-type {\n",
       "        vertical-align: middle;\n",
       "    }\n",
       "\n",
       "    .dataframe tbody tr th {\n",
       "        vertical-align: top;\n",
       "    }\n",
       "\n",
       "    .dataframe thead th {\n",
       "        text-align: right;\n",
       "    }\n",
       "</style>\n",
       "<table border=\"1\" class=\"dataframe\">\n",
       "  <thead>\n",
       "    <tr style=\"text-align: right;\">\n",
       "      <th></th>\n",
       "      <th>Molecule_ChEMBL_ID</th>\n",
       "      <th>Molecule_Name</th>\n",
       "      <th>Molecule_Max_Phase</th>\n",
       "      <th>Molecular_Weight</th>\n",
       "      <th>#RO5_Violations</th>\n",
       "      <th>AlogP</th>\n",
       "      <th>Compound_Key</th>\n",
       "      <th>Smiles</th>\n",
       "      <th>Standard_Type</th>\n",
       "      <th>Standard_Relation</th>\n",
       "      <th>Standard_Value</th>\n",
       "      <th>Standard_Units</th>\n",
       "      <th>pChEMBL_Value</th>\n",
       "      <th>Data_Validity_Comment</th>\n",
       "      <th>Comment</th>\n",
       "      <th>Uo_Units</th>\n",
       "      <th>Ligand_Efficiency_BEI</th>\n",
       "      <th>Ligand_Efficiency_LE</th>\n",
       "      <th>Ligand_Efficiency_LLE</th>\n",
       "      <th>Ligand_Efficiency_SEI</th>\n",
       "      <th>Potential_Duplicate</th>\n",
       "      <th>Assay_ChEMBL_ID</th>\n",
       "      <th>Assay_Description</th>\n",
       "      <th>Assay_Type</th>\n",
       "      <th>BAO_Format_ID</th>\n",
       "      <th>BAO_Label</th>\n",
       "      <th>Assay_Organism</th>\n",
       "      <th>Assay_Tissue_ChEMBL_ID</th>\n",
       "      <th>Assay_Tissue_Name</th>\n",
       "      <th>Assay_Cell_Type</th>\n",
       "      <th>Assay_Subcellular_Fraction</th>\n",
       "      <th>Assay_Parameters</th>\n",
       "      <th>Assay_Variant_Accession</th>\n",
       "      <th>Assay_Variant_Mutation</th>\n",
       "      <th>Target_ChEMBL_ID</th>\n",
       "      <th>Target_Name</th>\n",
       "      <th>Target_Organism</th>\n",
       "      <th>Target_Type</th>\n",
       "      <th>Document_ChEMBL_ID</th>\n",
       "      <th>Source_ID</th>\n",
       "      <th>Source_Description</th>\n",
       "      <th>Document_Journal</th>\n",
       "      <th>Document_Year</th>\n",
       "      <th>Cell_ChEMBL_ID</th>\n",
       "      <th>Properties</th>\n",
       "      <th>Standard_Value_nM</th>\n",
       "    </tr>\n",
       "  </thead>\n",
       "  <tbody>\n",
       "    <tr>\n",
       "      <th>0</th>\n",
       "      <td>CHEMBL157217</td>\n",
       "      <td>NaN</td>\n",
       "      <td>0.0</td>\n",
       "      <td>277.46</td>\n",
       "      <td>0.0</td>\n",
       "      <td>4.17</td>\n",
       "      <td>1j</td>\n",
       "      <td>c1nc(CCCCCCCCCCN2CCCC2)c[nH]1</td>\n",
       "      <td>Ki</td>\n",
       "      <td>'='</td>\n",
       "      <td>2.511886e+14</td>\n",
       "      <td>nM</td>\n",
       "      <td>NaN</td>\n",
       "      <td>Outside typical range</td>\n",
       "      <td>NaN</td>\n",
       "      <td>UO_0000065</td>\n",
       "      <td>NaN</td>\n",
       "      <td>NaN</td>\n",
       "      <td>NaN</td>\n",
       "      <td>NaN</td>\n",
       "      <td>False</td>\n",
       "      <td>CHEMBL692992</td>\n",
       "      <td>Inhibitory activity against human Histamine H1...</td>\n",
       "      <td>B</td>\n",
       "      <td>BAO_0000357</td>\n",
       "      <td>single protein format</td>\n",
       "      <td>NaN</td>\n",
       "      <td>NaN</td>\n",
       "      <td>NaN</td>\n",
       "      <td>NaN</td>\n",
       "      <td>NaN</td>\n",
       "      <td>NaN</td>\n",
       "      <td>NaN</td>\n",
       "      <td>NaN</td>\n",
       "      <td>CHEMBL231</td>\n",
       "      <td>Histamine H1 receptor</td>\n",
       "      <td>Homo sapiens</td>\n",
       "      <td>SINGLE PROTEIN</td>\n",
       "      <td>CHEMBL1145948</td>\n",
       "      <td>1</td>\n",
       "      <td>Scientific Literature</td>\n",
       "      <td>J. Med. Chem.</td>\n",
       "      <td>2003.0</td>\n",
       "      <td>NaN</td>\n",
       "      <td>NaN</td>\n",
       "      <td>2.511886e+14</td>\n",
       "    </tr>\n",
       "    <tr>\n",
       "      <th>2</th>\n",
       "      <td>CHEMBL444083</td>\n",
       "      <td>NaN</td>\n",
       "      <td>0.0</td>\n",
       "      <td>562.66</td>\n",
       "      <td>2.0</td>\n",
       "      <td>5.04</td>\n",
       "      <td>1</td>\n",
       "      <td>NC(=O)N(O)CCC#Cc1ccc(OCCCCN2CCN(C(c3ccc(F)cc3)...</td>\n",
       "      <td>Ki</td>\n",
       "      <td>'='</td>\n",
       "      <td>3.630000e+00</td>\n",
       "      <td>nM</td>\n",
       "      <td>8.44</td>\n",
       "      <td>NaN</td>\n",
       "      <td>NaN</td>\n",
       "      <td>UO_0000065</td>\n",
       "      <td>15.00</td>\n",
       "      <td>0.28</td>\n",
       "      <td>3.40</td>\n",
       "      <td>10.26</td>\n",
       "      <td>False</td>\n",
       "      <td>CHEMBL828761</td>\n",
       "      <td>Binding affinity for recombinant human Histami...</td>\n",
       "      <td>B</td>\n",
       "      <td>BAO_0000219</td>\n",
       "      <td>cell-based format</td>\n",
       "      <td>Homo sapiens</td>\n",
       "      <td>NaN</td>\n",
       "      <td>NaN</td>\n",
       "      <td>CHO</td>\n",
       "      <td>NaN</td>\n",
       "      <td>NaN</td>\n",
       "      <td>NaN</td>\n",
       "      <td>NaN</td>\n",
       "      <td>CHEMBL231</td>\n",
       "      <td>Histamine H1 receptor</td>\n",
       "      <td>Homo sapiens</td>\n",
       "      <td>SINGLE PROTEIN</td>\n",
       "      <td>CHEMBL1141893</td>\n",
       "      <td>1</td>\n",
       "      <td>Scientific Literature</td>\n",
       "      <td>Bioorg. Med. Chem. Lett.</td>\n",
       "      <td>2005.0</td>\n",
       "      <td>CHEMBL3308072</td>\n",
       "      <td>NaN</td>\n",
       "      <td>3.630000e+00</td>\n",
       "    </tr>\n",
       "    <tr>\n",
       "      <th>3</th>\n",
       "      <td>CHEMBL101691</td>\n",
       "      <td>NaN</td>\n",
       "      <td>0.0</td>\n",
       "      <td>428.55</td>\n",
       "      <td>0.0</td>\n",
       "      <td>3.10</td>\n",
       "      <td>33</td>\n",
       "      <td>O=C(c1ccc(OCCCN2CC[C@H](NS(=O)(=O)c3ccccc3)C2)...</td>\n",
       "      <td>Ki</td>\n",
       "      <td>'='</td>\n",
       "      <td>9.100000e+03</td>\n",
       "      <td>nM</td>\n",
       "      <td>5.04</td>\n",
       "      <td>NaN</td>\n",
       "      <td>NaN</td>\n",
       "      <td>UO_0000065</td>\n",
       "      <td>11.76</td>\n",
       "      <td>0.23</td>\n",
       "      <td>1.94</td>\n",
       "      <td>6.66</td>\n",
       "      <td>False</td>\n",
       "      <td>CHEMBL691613</td>\n",
       "      <td>Binding affinity to the human Histamine H1 rec...</td>\n",
       "      <td>B</td>\n",
       "      <td>BAO_0000357</td>\n",
       "      <td>single protein format</td>\n",
       "      <td>NaN</td>\n",
       "      <td>NaN</td>\n",
       "      <td>NaN</td>\n",
       "      <td>NaN</td>\n",
       "      <td>NaN</td>\n",
       "      <td>NaN</td>\n",
       "      <td>NaN</td>\n",
       "      <td>NaN</td>\n",
       "      <td>CHEMBL231</td>\n",
       "      <td>Histamine H1 receptor</td>\n",
       "      <td>Homo sapiens</td>\n",
       "      <td>SINGLE PROTEIN</td>\n",
       "      <td>CHEMBL1134928</td>\n",
       "      <td>1</td>\n",
       "      <td>Scientific Literature</td>\n",
       "      <td>Bioorg. Med. Chem. Lett.</td>\n",
       "      <td>2002.0</td>\n",
       "      <td>NaN</td>\n",
       "      <td>NaN</td>\n",
       "      <td>9.100000e+03</td>\n",
       "    </tr>\n",
       "    <tr>\n",
       "      <th>4</th>\n",
       "      <td>CHEMBL420108</td>\n",
       "      <td>NaN</td>\n",
       "      <td>0.0</td>\n",
       "      <td>453.56</td>\n",
       "      <td>0.0</td>\n",
       "      <td>2.97</td>\n",
       "      <td>40</td>\n",
       "      <td>N#Cc1ccccc1S(=O)(=O)N[C@H]1CCN(CCCOc2ccc(C(=O)...</td>\n",
       "      <td>Ki</td>\n",
       "      <td>'='</td>\n",
       "      <td>6.200000e+03</td>\n",
       "      <td>nM</td>\n",
       "      <td>5.21</td>\n",
       "      <td>NaN</td>\n",
       "      <td>NaN</td>\n",
       "      <td>UO_0000065</td>\n",
       "      <td>11.48</td>\n",
       "      <td>0.22</td>\n",
       "      <td>2.24</td>\n",
       "      <td>5.23</td>\n",
       "      <td>False</td>\n",
       "      <td>CHEMBL691613</td>\n",
       "      <td>Binding affinity to the human Histamine H1 rec...</td>\n",
       "      <td>B</td>\n",
       "      <td>BAO_0000357</td>\n",
       "      <td>single protein format</td>\n",
       "      <td>NaN</td>\n",
       "      <td>NaN</td>\n",
       "      <td>NaN</td>\n",
       "      <td>NaN</td>\n",
       "      <td>NaN</td>\n",
       "      <td>NaN</td>\n",
       "      <td>NaN</td>\n",
       "      <td>NaN</td>\n",
       "      <td>CHEMBL231</td>\n",
       "      <td>Histamine H1 receptor</td>\n",
       "      <td>Homo sapiens</td>\n",
       "      <td>SINGLE PROTEIN</td>\n",
       "      <td>CHEMBL1134928</td>\n",
       "      <td>1</td>\n",
       "      <td>Scientific Literature</td>\n",
       "      <td>Bioorg. Med. Chem. Lett.</td>\n",
       "      <td>2002.0</td>\n",
       "      <td>NaN</td>\n",
       "      <td>NaN</td>\n",
       "      <td>6.200000e+03</td>\n",
       "    </tr>\n",
       "    <tr>\n",
       "      <th>6</th>\n",
       "      <td>CHEMBL172233</td>\n",
       "      <td>NaN</td>\n",
       "      <td>0.0</td>\n",
       "      <td>324.44</td>\n",
       "      <td>0.0</td>\n",
       "      <td>4.49</td>\n",
       "      <td>20</td>\n",
       "      <td>CC(C1=C(CCN(C)CCF)Cc2ccccc21)c1ccccn1</td>\n",
       "      <td>Ki</td>\n",
       "      <td>'='</td>\n",
       "      <td>7.244000e+00</td>\n",
       "      <td>nM</td>\n",
       "      <td>8.14</td>\n",
       "      <td>NaN</td>\n",
       "      <td>NaN</td>\n",
       "      <td>UO_0000065</td>\n",
       "      <td>25.09</td>\n",
       "      <td>0.46</td>\n",
       "      <td>3.65</td>\n",
       "      <td>50.47</td>\n",
       "      <td>False</td>\n",
       "      <td>CHEMBL692990</td>\n",
       "      <td>Compound was evaluated for binding affinity to...</td>\n",
       "      <td>B</td>\n",
       "      <td>BAO_0000219</td>\n",
       "      <td>cell-based format</td>\n",
       "      <td>NaN</td>\n",
       "      <td>NaN</td>\n",
       "      <td>NaN</td>\n",
       "      <td>CHO-K1</td>\n",
       "      <td>NaN</td>\n",
       "      <td>NaN</td>\n",
       "      <td>NaN</td>\n",
       "      <td>NaN</td>\n",
       "      <td>CHEMBL231</td>\n",
       "      <td>Histamine H1 receptor</td>\n",
       "      <td>Homo sapiens</td>\n",
       "      <td>SINGLE PROTEIN</td>\n",
       "      <td>CHEMBL1136812</td>\n",
       "      <td>1</td>\n",
       "      <td>Scientific Literature</td>\n",
       "      <td>J. Med. Chem.</td>\n",
       "      <td>2003.0</td>\n",
       "      <td>CHEMBL3307512</td>\n",
       "      <td>NaN</td>\n",
       "      <td>7.244000e+00</td>\n",
       "    </tr>\n",
       "  </tbody>\n",
       "</table>\n",
       "</div>"
      ],
      "text/plain": [
       "  Molecule_ChEMBL_ID Molecule_Name  Molecule_Max_Phase  Molecular_Weight  \\\n",
       "0       CHEMBL157217           NaN                 0.0            277.46   \n",
       "2       CHEMBL444083           NaN                 0.0            562.66   \n",
       "3       CHEMBL101691           NaN                 0.0            428.55   \n",
       "4       CHEMBL420108           NaN                 0.0            453.56   \n",
       "6       CHEMBL172233           NaN                 0.0            324.44   \n",
       "\n",
       "   #RO5_Violations  AlogP Compound_Key  \\\n",
       "0              0.0   4.17           1j   \n",
       "2              2.0   5.04            1   \n",
       "3              0.0   3.10           33   \n",
       "4              0.0   2.97           40   \n",
       "6              0.0   4.49           20   \n",
       "\n",
       "                                              Smiles Standard_Type  \\\n",
       "0                      c1nc(CCCCCCCCCCN2CCCC2)c[nH]1            Ki   \n",
       "2  NC(=O)N(O)CCC#Cc1ccc(OCCCCN2CCN(C(c3ccc(F)cc3)...            Ki   \n",
       "3  O=C(c1ccc(OCCCN2CC[C@H](NS(=O)(=O)c3ccccc3)C2)...            Ki   \n",
       "4  N#Cc1ccccc1S(=O)(=O)N[C@H]1CCN(CCCOc2ccc(C(=O)...            Ki   \n",
       "6              CC(C1=C(CCN(C)CCF)Cc2ccccc21)c1ccccn1            Ki   \n",
       "\n",
       "  Standard_Relation  Standard_Value Standard_Units  pChEMBL_Value  \\\n",
       "0               '='    2.511886e+14             nM            NaN   \n",
       "2               '='    3.630000e+00             nM           8.44   \n",
       "3               '='    9.100000e+03             nM           5.04   \n",
       "4               '='    6.200000e+03             nM           5.21   \n",
       "6               '='    7.244000e+00             nM           8.14   \n",
       "\n",
       "   Data_Validity_Comment Comment    Uo_Units  Ligand_Efficiency_BEI  \\\n",
       "0  Outside typical range     NaN  UO_0000065                    NaN   \n",
       "2                    NaN     NaN  UO_0000065                  15.00   \n",
       "3                    NaN     NaN  UO_0000065                  11.76   \n",
       "4                    NaN     NaN  UO_0000065                  11.48   \n",
       "6                    NaN     NaN  UO_0000065                  25.09   \n",
       "\n",
       "  Ligand_Efficiency_LE Ligand_Efficiency_LLE Ligand_Efficiency_SEI  \\\n",
       "0                  NaN                   NaN                   NaN   \n",
       "2                 0.28                  3.40                 10.26   \n",
       "3                 0.23                  1.94                  6.66   \n",
       "4                 0.22                  2.24                  5.23   \n",
       "6                 0.46                  3.65                 50.47   \n",
       "\n",
       "   Potential_Duplicate Assay_ChEMBL_ID  \\\n",
       "0                False    CHEMBL692992   \n",
       "2                False    CHEMBL828761   \n",
       "3                False    CHEMBL691613   \n",
       "4                False    CHEMBL691613   \n",
       "6                False    CHEMBL692990   \n",
       "\n",
       "                                   Assay_Description Assay_Type BAO_Format_ID  \\\n",
       "0  Inhibitory activity against human Histamine H1...          B   BAO_0000357   \n",
       "2  Binding affinity for recombinant human Histami...          B   BAO_0000219   \n",
       "3  Binding affinity to the human Histamine H1 rec...          B   BAO_0000357   \n",
       "4  Binding affinity to the human Histamine H1 rec...          B   BAO_0000357   \n",
       "6  Compound was evaluated for binding affinity to...          B   BAO_0000219   \n",
       "\n",
       "               BAO_Label Assay_Organism  Assay_Tissue_ChEMBL_ID  \\\n",
       "0  single protein format            NaN                     NaN   \n",
       "2      cell-based format   Homo sapiens                     NaN   \n",
       "3  single protein format            NaN                     NaN   \n",
       "4  single protein format            NaN                     NaN   \n",
       "6      cell-based format            NaN                     NaN   \n",
       "\n",
       "   Assay_Tissue_Name Assay_Cell_Type Assay_Subcellular_Fraction  \\\n",
       "0                NaN             NaN                        NaN   \n",
       "2                NaN             CHO                        NaN   \n",
       "3                NaN             NaN                        NaN   \n",
       "4                NaN             NaN                        NaN   \n",
       "6                NaN          CHO-K1                        NaN   \n",
       "\n",
       "  Assay_Parameters Assay_Variant_Accession Assay_Variant_Mutation  \\\n",
       "0              NaN                     NaN                    NaN   \n",
       "2              NaN                     NaN                    NaN   \n",
       "3              NaN                     NaN                    NaN   \n",
       "4              NaN                     NaN                    NaN   \n",
       "6              NaN                     NaN                    NaN   \n",
       "\n",
       "  Target_ChEMBL_ID            Target_Name Target_Organism     Target_Type  \\\n",
       "0        CHEMBL231  Histamine H1 receptor    Homo sapiens  SINGLE PROTEIN   \n",
       "2        CHEMBL231  Histamine H1 receptor    Homo sapiens  SINGLE PROTEIN   \n",
       "3        CHEMBL231  Histamine H1 receptor    Homo sapiens  SINGLE PROTEIN   \n",
       "4        CHEMBL231  Histamine H1 receptor    Homo sapiens  SINGLE PROTEIN   \n",
       "6        CHEMBL231  Histamine H1 receptor    Homo sapiens  SINGLE PROTEIN   \n",
       "\n",
       "  Document_ChEMBL_ID  Source_ID     Source_Description  \\\n",
       "0      CHEMBL1145948          1  Scientific Literature   \n",
       "2      CHEMBL1141893          1  Scientific Literature   \n",
       "3      CHEMBL1134928          1  Scientific Literature   \n",
       "4      CHEMBL1134928          1  Scientific Literature   \n",
       "6      CHEMBL1136812          1  Scientific Literature   \n",
       "\n",
       "           Document_Journal  Document_Year Cell_ChEMBL_ID  Properties  \\\n",
       "0             J. Med. Chem.         2003.0            NaN         NaN   \n",
       "2  Bioorg. Med. Chem. Lett.         2005.0  CHEMBL3308072         NaN   \n",
       "3  Bioorg. Med. Chem. Lett.         2002.0            NaN         NaN   \n",
       "4  Bioorg. Med. Chem. Lett.         2002.0            NaN         NaN   \n",
       "6             J. Med. Chem.         2003.0  CHEMBL3307512         NaN   \n",
       "\n",
       "   Standard_Value_nM  \n",
       "0       2.511886e+14  \n",
       "2       3.630000e+00  \n",
       "3       9.100000e+03  \n",
       "4       6.200000e+03  \n",
       "6       7.244000e+00  "
      ]
     },
     "execution_count": 28,
     "metadata": {},
     "output_type": "execute_result"
    }
   ],
   "source": [
    "chembl.head(5)"
   ]
  },
  {
   "cell_type": "code",
   "execution_count": 29,
   "metadata": {
    "colab": {
     "base_uri": "https://localhost:8080/",
     "height": 618
    },
    "id": "ce0uXL9e0eTS",
    "outputId": "eed52701-587f-4dbc-e1df-24ffc39cac3c"
   },
   "outputs": [
    {
     "data": {
      "image/png": "[encoded data removed]",
      "text/plain": [
       "<Figure size 720x720 with 6 Axes>"
      ]
     },
     "metadata": {},
     "output_type": "display_data"
    }
   ],
   "source": [
    "chembl[numeric_cols].hist(figsize=(10,10));"
   ]
  },
  {
   "cell_type": "markdown",
   "metadata": {
    "id": "YkcLiIBO8fk1"
   },
   "source": [
    "> __Note that pChembl value is better normalized than standard value__<br>\n",
    "> __Recall that there are lots of different activity types / assays represented in the value columns. Let's split those up:__<br>"
   ]
  },
  {
   "cell_type": "code",
   "execution_count": 30,
   "metadata": {
    "colab": {
     "base_uri": "https://localhost:8080/",
     "height": 1000
    },
    "id": "g0yAPOEw7fdZ",
    "outputId": "b7acaa62-b8a8-494f-ad11-7ad8b0dafa69"
   },
   "outputs": [
    {
     "data": {
      "text/html": [
       "<div>\n",
       "<style scoped>\n",
       "    .dataframe tbody tr th:only-of-type {\n",
       "        vertical-align: middle;\n",
       "    }\n",
       "\n",
       "    .dataframe tbody tr th {\n",
       "        vertical-align: top;\n",
       "    }\n",
       "\n",
       "    .dataframe thead th {\n",
       "        text-align: right;\n",
       "    }\n",
       "</style>\n",
       "<table border=\"1\" class=\"dataframe\">\n",
       "  <thead>\n",
       "    <tr style=\"text-align: right;\">\n",
       "      <th>Standard_Type</th>\n",
       "      <th>EC50</th>\n",
       "      <th>IC50</th>\n",
       "      <th>Ki</th>\n",
       "    </tr>\n",
       "  </thead>\n",
       "  <tbody>\n",
       "    <tr>\n",
       "      <th>count</th>\n",
       "      <td>42.000000</td>\n",
       "      <td>361.000000</td>\n",
       "      <td>1.451000e+03</td>\n",
       "    </tr>\n",
       "    <tr>\n",
       "      <th>mean</th>\n",
       "      <td>5807.889939</td>\n",
       "      <td>7630.341078</td>\n",
       "      <td>1.106850e+14</td>\n",
       "    </tr>\n",
       "    <tr>\n",
       "      <th>std</th>\n",
       "      <td>8720.786746</td>\n",
       "      <td>46197.420774</td>\n",
       "      <td>2.886940e+15</td>\n",
       "    </tr>\n",
       "    <tr>\n",
       "      <th>min</th>\n",
       "      <td>0.000100</td>\n",
       "      <td>0.421000</td>\n",
       "      <td>0.000000e+00</td>\n",
       "    </tr>\n",
       "    <tr>\n",
       "      <th>25%</th>\n",
       "      <td>3.640250</td>\n",
       "      <td>32.000000</td>\n",
       "      <td>2.512000e+01</td>\n",
       "    </tr>\n",
       "    <tr>\n",
       "      <th>50%</th>\n",
       "      <td>1943.000000</td>\n",
       "      <td>239.665000</td>\n",
       "      <td>5.011900e+02</td>\n",
       "    </tr>\n",
       "    <tr>\n",
       "      <th>75%</th>\n",
       "      <td>10000.000000</td>\n",
       "      <td>2070.000000</td>\n",
       "      <td>3.162280e+03</td>\n",
       "    </tr>\n",
       "    <tr>\n",
       "      <th>max</th>\n",
       "      <td>50000.000000</td>\n",
       "      <td>750115.000000</td>\n",
       "      <td>1.000000e+17</td>\n",
       "    </tr>\n",
       "  </tbody>\n",
       "</table>\n",
       "</div>"
      ],
      "text/plain": [
       "Standard_Type          EC50           IC50            Ki\n",
       "count             42.000000     361.000000  1.451000e+03\n",
       "mean            5807.889939    7630.341078  1.106850e+14\n",
       "std             8720.786746   46197.420774  2.886940e+15\n",
       "min                0.000100       0.421000  0.000000e+00\n",
       "25%                3.640250      32.000000  2.512000e+01\n",
       "50%             1943.000000     239.665000  5.011900e+02\n",
       "75%            10000.000000    2070.000000  3.162280e+03\n",
       "max            50000.000000  750115.000000  1.000000e+17"
      ]
     },
     "metadata": {},
     "output_type": "display_data"
    },
    {
     "data": {
      "image/png": "[encoded data removed]",
      "text/plain": [
       "<Figure size 936x936 with 4 Axes>"
      ]
     },
     "metadata": {},
     "output_type": "display_data"
    }
   ],
   "source": [
    "# examine STANDARD values and pChembl values PER standard type\n",
    "chembl_types=chembl.pivot_table(index = 'Molecule_ChEMBL_ID', columns = 'Standard_Type', values='Standard_Value_nM', aggfunc='mean')\n",
    "display(chembl_types.describe())\n",
    "chembl_types.hist(figsize=(13,13), bins = 20);"
   ]
  },
  {
   "cell_type": "markdown",
   "metadata": {
    "id": "CPF-grlt-T6l"
   },
   "source": [
    "- **What do you notice about the standard values?**"
   ]
  },
  {
   "cell_type": "code",
   "execution_count": 31,
   "metadata": {
    "colab": {
     "base_uri": "https://localhost:8080/",
     "height": 672
    },
    "id": "6Z88GB5J-ZUG",
    "outputId": "3eeb2ec4-6a02-4427-9591-a508c6a77265"
   },
   "outputs": [
    {
     "data": {
      "text/html": [
       "<div>\n",
       "<style scoped>\n",
       "    .dataframe tbody tr th:only-of-type {\n",
       "        vertical-align: middle;\n",
       "    }\n",
       "\n",
       "    .dataframe tbody tr th {\n",
       "        vertical-align: top;\n",
       "    }\n",
       "\n",
       "    .dataframe thead th {\n",
       "        text-align: right;\n",
       "    }\n",
       "</style>\n",
       "<table border=\"1\" class=\"dataframe\">\n",
       "  <thead>\n",
       "    <tr style=\"text-align: right;\">\n",
       "      <th>Standard_Type</th>\n",
       "      <th>EC50</th>\n",
       "      <th>IC50</th>\n",
       "      <th>Ki</th>\n",
       "    </tr>\n",
       "  </thead>\n",
       "  <tbody>\n",
       "    <tr>\n",
       "      <th>count</th>\n",
       "      <td>19.000000</td>\n",
       "      <td>302.000000</td>\n",
       "      <td>1149.000000</td>\n",
       "    </tr>\n",
       "    <tr>\n",
       "      <th>mean</th>\n",
       "      <td>6.369883</td>\n",
       "      <td>6.932082</td>\n",
       "      <td>6.899663</td>\n",
       "    </tr>\n",
       "    <tr>\n",
       "      <th>std</th>\n",
       "      <td>1.289900</td>\n",
       "      <td>1.083643</td>\n",
       "      <td>1.287188</td>\n",
       "    </tr>\n",
       "    <tr>\n",
       "      <th>min</th>\n",
       "      <td>4.800000</td>\n",
       "      <td>4.300000</td>\n",
       "      <td>4.000000</td>\n",
       "    </tr>\n",
       "    <tr>\n",
       "      <th>25%</th>\n",
       "      <td>5.525000</td>\n",
       "      <td>6.100000</td>\n",
       "      <td>5.900000</td>\n",
       "    </tr>\n",
       "    <tr>\n",
       "      <th>50%</th>\n",
       "      <td>6.080000</td>\n",
       "      <td>7.022500</td>\n",
       "      <td>6.920000</td>\n",
       "    </tr>\n",
       "    <tr>\n",
       "      <th>75%</th>\n",
       "      <td>6.983889</td>\n",
       "      <td>7.795000</td>\n",
       "      <td>7.850000</td>\n",
       "    </tr>\n",
       "    <tr>\n",
       "      <th>max</th>\n",
       "      <td>9.400000</td>\n",
       "      <td>9.380000</td>\n",
       "      <td>10.310000</td>\n",
       "    </tr>\n",
       "  </tbody>\n",
       "</table>\n",
       "</div>"
      ],
      "text/plain": [
       "Standard_Type       EC50        IC50           Ki\n",
       "count          19.000000  302.000000  1149.000000\n",
       "mean            6.369883    6.932082     6.899663\n",
       "std             1.289900    1.083643     1.287188\n",
       "min             4.800000    4.300000     4.000000\n",
       "25%             5.525000    6.100000     5.900000\n",
       "50%             6.080000    7.022500     6.920000\n",
       "75%             6.983889    7.795000     7.850000\n",
       "max             9.400000    9.380000    10.310000"
      ]
     },
     "metadata": {},
     "output_type": "display_data"
    },
    {
     "data": {
      "image/png": "[encoded data removed]",
      "text/plain": [
       "<Figure size 432x432 with 4 Axes>"
      ]
     },
     "metadata": {},
     "output_type": "display_data"
    }
   ],
   "source": [
    "chembl_types=chembl.pivot_table(index = 'Molecule_ChEMBL_ID', \n",
    "                                columns = 'Standard_Type', \n",
    "                                values='pChEMBL_Value', \n",
    "                                aggfunc='mean')\n",
    "display(chembl_types.describe())\n",
    "chembl_types.hist(figsize=(6,6));"
   ]
  },
  {
   "cell_type": "markdown",
   "metadata": {
    "id": "XrdsPL5v_F-B"
   },
   "source": [
    "- **What do you notice about the pChEMBL values?**"
   ]
  },
  {
   "cell_type": "markdown",
   "metadata": {
    "id": "853Wn4xlyRQ5"
   },
   "source": [
    "<div class=\"alert alert-success\">\n",
    "    <b>DTC-Exercise 2: Explore DTC dataset </b>:\n",
    "            \n",
    "</div>"
   ]
  },
  {
   "cell_type": "markdown",
   "metadata": {
    "id": "p1G8Jm23yRQ5"
   },
   "source": [
    "<div class=\"alert alert-info\">\n",
    "    <b> Solution for DTC Exercise-2: Try on your own. If you want to see the solution, click the following cell  </b>\n",
    "    \n",
    "</div>"
   ]
  },
  {
   "cell_type": "markdown",
   "metadata": {
    "id": "Ja_eWg43yRQ5"
   },
   "source": [
    "<details><summary>Click here for the solution</summary>\n",
    "\n",
    "```python\n",
    "dtc=dtc.replace('None', np.nan)\n",
    "dtc.head()\n",
    "\n",
    "dtc.standard_units.unique() #already all nM\n",
    "\n",
    "dtc.standard_type.unique()\n",
    "\n",
    "dtc[dtc.standard_units=='NM'].standard_type.unique()\n",
    "\n",
    "## **Curation step:** create pValues from normal values\n",
    "\n",
    "# add pX column\n",
    "dtc['pDTC_Value'] = np.where(dtc.standard_units == 'NM',\n",
    "                             -np.log10(dtc.standard_value/1000000000 ),\n",
    "                             dtc.standard_value)\n",
    "\n",
    "dtc.describe()\n",
    "\n",
    "numeric_cols=['standard_value', 'pDTC_Value']\n",
    "dtc[numeric_cols].hist(bins=20, figsize=(10,5));\n",
    "\n",
    "dtc_types=dtc.pivot_table(index = 'compound_id', columns = 'standard_type', values='standard_value', aggfunc='mean')\n",
    "display(dtc_types.describe())\n",
    "dtc_types.hist(figsize=(13,13));\n",
    "\n",
    "dtc_types=dtc.pivot_table(index = 'compound_id', columns = 'standard_type', values='pDTC_Value', aggfunc='mean')\n",
    "display(dtc_types.describe())\n",
    "dtc_types.hist(figsize=(10,10));\n",
    "```\n",
    "\n",
    "</details>"
   ]
  },
  {
   "cell_type": "code",
   "execution_count": 32,
   "metadata": {
    "colab": {
     "base_uri": "https://localhost:8080/",
     "height": 1000
    },
    "id": "E0CY3IKR2UaN",
    "outputId": "2b868b0a-1df8-4c01-adf9-601d3c549481"
   },
   "outputs": [
    {
     "data": {
      "text/html": [
       "<div>\n",
       "<style scoped>\n",
       "    .dataframe tbody tr th:only-of-type {\n",
       "        vertical-align: middle;\n",
       "    }\n",
       "\n",
       "    .dataframe tbody tr th {\n",
       "        vertical-align: top;\n",
       "    }\n",
       "\n",
       "    .dataframe thead th {\n",
       "        text-align: right;\n",
       "    }\n",
       "</style>\n",
       "<table border=\"1\" class=\"dataframe\">\n",
       "  <thead>\n",
       "    <tr style=\"text-align: right;\">\n",
       "      <th>standard_type</th>\n",
       "      <th>EC50</th>\n",
       "      <th>IC50</th>\n",
       "      <th>Ki</th>\n",
       "    </tr>\n",
       "  </thead>\n",
       "  <tbody>\n",
       "    <tr>\n",
       "      <th>count</th>\n",
       "      <td>41.000000</td>\n",
       "      <td>323.000000</td>\n",
       "      <td>1.386000e+03</td>\n",
       "    </tr>\n",
       "    <tr>\n",
       "      <th>mean</th>\n",
       "      <td>5705.643328</td>\n",
       "      <td>7345.781627</td>\n",
       "      <td>1.055454e+14</td>\n",
       "    </tr>\n",
       "    <tr>\n",
       "      <th>std</th>\n",
       "      <td>8803.599514</td>\n",
       "      <td>37635.639024</td>\n",
       "      <td>2.817236e+15</td>\n",
       "    </tr>\n",
       "    <tr>\n",
       "      <th>min</th>\n",
       "      <td>0.000100</td>\n",
       "      <td>0.421000</td>\n",
       "      <td>4.900000e-02</td>\n",
       "    </tr>\n",
       "    <tr>\n",
       "      <th>25%</th>\n",
       "      <td>2.600000</td>\n",
       "      <td>37.575000</td>\n",
       "      <td>2.512000e+01</td>\n",
       "    </tr>\n",
       "    <tr>\n",
       "      <th>50%</th>\n",
       "      <td>1698.240000</td>\n",
       "      <td>280.000000</td>\n",
       "      <td>5.666700e+02</td>\n",
       "    </tr>\n",
       "    <tr>\n",
       "      <th>75%</th>\n",
       "      <td>10000.000000</td>\n",
       "      <td>2290.945000</td>\n",
       "      <td>3.311310e+03</td>\n",
       "    </tr>\n",
       "    <tr>\n",
       "      <th>max</th>\n",
       "      <td>50000.000000</td>\n",
       "      <td>500153.333333</td>\n",
       "      <td>1.000000e+17</td>\n",
       "    </tr>\n",
       "  </tbody>\n",
       "</table>\n",
       "</div>"
      ],
      "text/plain": [
       "standard_type          EC50           IC50            Ki\n",
       "count             41.000000     323.000000  1.386000e+03\n",
       "mean            5705.643328    7345.781627  1.055454e+14\n",
       "std             8803.599514   37635.639024  2.817236e+15\n",
       "min                0.000100       0.421000  4.900000e-02\n",
       "25%                2.600000      37.575000  2.512000e+01\n",
       "50%             1698.240000     280.000000  5.666700e+02\n",
       "75%            10000.000000    2290.945000  3.311310e+03\n",
       "max            50000.000000  500153.333333  1.000000e+17"
      ]
     },
     "metadata": {},
     "output_type": "display_data"
    },
    {
     "data": {
      "text/html": [
       "<div>\n",
       "<style scoped>\n",
       "    .dataframe tbody tr th:only-of-type {\n",
       "        vertical-align: middle;\n",
       "    }\n",
       "\n",
       "    .dataframe tbody tr th {\n",
       "        vertical-align: top;\n",
       "    }\n",
       "\n",
       "    .dataframe thead th {\n",
       "        text-align: right;\n",
       "    }\n",
       "</style>\n",
       "<table border=\"1\" class=\"dataframe\">\n",
       "  <thead>\n",
       "    <tr style=\"text-align: right;\">\n",
       "      <th>standard_type</th>\n",
       "      <th>EC50</th>\n",
       "      <th>IC50</th>\n",
       "      <th>Ki</th>\n",
       "    </tr>\n",
       "  </thead>\n",
       "  <tbody>\n",
       "    <tr>\n",
       "      <th>count</th>\n",
       "      <td>41.000000</td>\n",
       "      <td>323.000000</td>\n",
       "      <td>1386.000000</td>\n",
       "    </tr>\n",
       "    <tr>\n",
       "      <th>mean</th>\n",
       "      <td>7.373774</td>\n",
       "      <td>6.615236</td>\n",
       "      <td>6.255850</td>\n",
       "    </tr>\n",
       "    <tr>\n",
       "      <th>std</th>\n",
       "      <td>3.205532</td>\n",
       "      <td>1.213146</td>\n",
       "      <td>2.329032</td>\n",
       "    </tr>\n",
       "    <tr>\n",
       "      <th>min</th>\n",
       "      <td>4.301030</td>\n",
       "      <td>3.500000</td>\n",
       "      <td>-8.000000</td>\n",
       "    </tr>\n",
       "    <tr>\n",
       "      <th>25%</th>\n",
       "      <td>5.000000</td>\n",
       "      <td>5.707222</td>\n",
       "      <td>5.500000</td>\n",
       "    </tr>\n",
       "    <tr>\n",
       "      <th>50%</th>\n",
       "      <td>5.770001</td>\n",
       "      <td>6.693608</td>\n",
       "      <td>6.251295</td>\n",
       "    </tr>\n",
       "    <tr>\n",
       "      <th>75%</th>\n",
       "      <td>8.585027</td>\n",
       "      <td>7.501744</td>\n",
       "      <td>7.599980</td>\n",
       "    </tr>\n",
       "    <tr>\n",
       "      <th>max</th>\n",
       "      <td>13.000000</td>\n",
       "      <td>9.375718</td>\n",
       "      <td>10.309804</td>\n",
       "    </tr>\n",
       "  </tbody>\n",
       "</table>\n",
       "</div>"
      ],
      "text/plain": [
       "standard_type       EC50        IC50           Ki\n",
       "count          41.000000  323.000000  1386.000000\n",
       "mean            7.373774    6.615236     6.255850\n",
       "std             3.205532    1.213146     2.329032\n",
       "min             4.301030    3.500000    -8.000000\n",
       "25%             5.000000    5.707222     5.500000\n",
       "50%             5.770001    6.693608     6.251295\n",
       "75%             8.585027    7.501744     7.599980\n",
       "max            13.000000    9.375718    10.309804"
      ]
     },
     "metadata": {},
     "output_type": "display_data"
    },
    {
     "data": {
      "image/png": "[encoded data removed]",
      "text/plain": [
       "<Figure size 720x360 with 2 Axes>"
      ]
     },
     "metadata": {},
     "output_type": "display_data"
    },
    {
     "data": {
      "image/png": "[encoded data removed]",
      "text/plain": [
       "<Figure size 936x936 with 4 Axes>"
      ]
     },
     "metadata": {},
     "output_type": "display_data"
    },
    {
     "data": {
      "image/png": "[encoded data removed]",
      "text/plain": [
       "<Figure size 720x720 with 4 Axes>"
      ]
     },
     "metadata": {},
     "output_type": "display_data"
    }
   ],
   "source": [
    "#***********************************************************\n",
    "# solution cell code chunk copied here to run the notebook *\n",
    "#***********************************************************\n",
    "\n",
    "dtc=dtc.replace('None', np.nan)\n",
    "dtc.head()\n",
    "\n",
    "dtc.standard_units.unique() #already all nM\n",
    "\n",
    "dtc.standard_type.unique()\n",
    "\n",
    "dtc[dtc.standard_units=='NM'].standard_type.unique()\n",
    "\n",
    "## **Curation step:** create pValues from normal values\n",
    "\n",
    "# add pX column\n",
    "dtc['pDTC_Value'] = np.where(dtc.standard_units == 'NM',\n",
    "                             -np.log10(dtc.standard_value/1000000000 ),\n",
    "                             dtc.standard_value)\n",
    "\n",
    "dtc.describe()\n",
    "\n",
    "numeric_cols=['standard_value', 'pDTC_Value']\n",
    "dtc[numeric_cols].hist(bins=20, figsize=(10,5));\n",
    "\n",
    "dtc_types=dtc.pivot_table(index = 'compound_id', columns = 'standard_type', values='standard_value', aggfunc='mean')\n",
    "display(dtc_types.describe())\n",
    "dtc_types.hist(figsize=(13,13));\n",
    "\n",
    "dtc_types=dtc.pivot_table(index = 'compound_id', columns = 'standard_type', values='pDTC_Value', aggfunc='mean')\n",
    "display(dtc_types.describe())\n",
    "dtc_types.hist(figsize=(10,10));"
   ]
  },
  {
   "cell_type": "code",
   "execution_count": 32,
   "metadata": {
    "id": "gP0tuUqD7-KS"
   },
   "outputs": [],
   "source": []
  },
  {
   "cell_type": "code",
   "execution_count": 32,
   "metadata": {
    "id": "a44R96z47-Ee"
   },
   "outputs": [],
   "source": []
  },
  {
   "cell_type": "code",
   "execution_count": 32,
   "metadata": {
    "id": "rRGN9fr679-r"
   },
   "outputs": [],
   "source": []
  },
  {
   "cell_type": "code",
   "execution_count": 32,
   "metadata": {
    "id": "00hIEzxzCNaT"
   },
   "outputs": [],
   "source": []
  },
  {
   "cell_type": "code",
   "execution_count": 32,
   "metadata": {
    "id": "vxcaTki-yRQ5"
   },
   "outputs": [],
   "source": []
  },
  {
   "cell_type": "markdown",
   "metadata": {
    "id": "rmbT0Sr_yRQ5"
   },
   "source": [
    "<div class=\"alert alert-success\">\n",
    "    <b>Excape Exercise 2: Explore ExCAPE-DB dataset </b>:\n",
    "            \n",
    "</div>"
   ]
  },
  {
   "cell_type": "markdown",
   "metadata": {
    "id": "Nl_MlfLgyRQ5"
   },
   "source": [
    "<div class=\"alert alert-info\">\n",
    "    <b> Solution for ExCAPE Exercise-2: Try on your own. If you want to see the solution, click the following cell  </b>\n",
    "    \n",
    "</div>"
   ]
  },
  {
   "cell_type": "markdown",
   "metadata": {
    "id": "tF5OBt7fyRQ6"
   },
   "source": [
    "<details><summary>Click here for the solution</summary>\n",
    "\n",
    "```python\n",
    "excape=excape.replace('None', np.nan)\n",
    "excape.head()\n",
    "\n",
    "# excape only has one column we care about\n",
    "display(excape.describe())\n",
    "excape.pXC50.hist(figsize=(5,5));\n",
    "```\n",
    "\n",
    "</details>"
   ]
  },
  {
   "cell_type": "code",
   "execution_count": 33,
   "metadata": {
    "colab": {
     "base_uri": "https://localhost:8080/",
     "height": 604
    },
    "id": "jRhj_9TqyRQ6",
    "outputId": "97b2af9c-62b3-4de4-a81f-bf928b0cad95"
   },
   "outputs": [
    {
     "data": {
      "text/html": [
       "<div>\n",
       "<style scoped>\n",
       "    .dataframe tbody tr th:only-of-type {\n",
       "        vertical-align: middle;\n",
       "    }\n",
       "\n",
       "    .dataframe tbody tr th {\n",
       "        vertical-align: top;\n",
       "    }\n",
       "\n",
       "    .dataframe thead th {\n",
       "        text-align: right;\n",
       "    }\n",
       "</style>\n",
       "<table border=\"1\" class=\"dataframe\">\n",
       "  <thead>\n",
       "    <tr style=\"text-align: right;\">\n",
       "      <th></th>\n",
       "      <th>Entrez_ID</th>\n",
       "      <th>pXC50</th>\n",
       "      <th>Original_Assay_ID</th>\n",
       "      <th>Tax_ID</th>\n",
       "      <th>Ortholog_Group</th>\n",
       "    </tr>\n",
       "  </thead>\n",
       "  <tbody>\n",
       "    <tr>\n",
       "      <th>count</th>\n",
       "      <td>1283.000000</td>\n",
       "      <td>1268.000000</td>\n",
       "      <td>1.283000e+03</td>\n",
       "      <td>1283.000000</td>\n",
       "      <td>1283.0</td>\n",
       "    </tr>\n",
       "    <tr>\n",
       "      <th>mean</th>\n",
       "      <td>5299.410756</td>\n",
       "      <td>7.007668</td>\n",
       "      <td>5.353520e+05</td>\n",
       "      <td>9654.893219</td>\n",
       "      <td>2055.0</td>\n",
       "    </tr>\n",
       "    <tr>\n",
       "      <th>std</th>\n",
       "      <td>6237.774346</td>\n",
       "      <td>1.310143</td>\n",
       "      <td>3.051988e+05</td>\n",
       "      <td>150.208457</td>\n",
       "      <td>0.0</td>\n",
       "    </tr>\n",
       "    <tr>\n",
       "      <th>min</th>\n",
       "      <td>3269.000000</td>\n",
       "      <td>3.500000</td>\n",
       "      <td>8.441800e+04</td>\n",
       "      <td>9606.000000</td>\n",
       "      <td>2055.0</td>\n",
       "    </tr>\n",
       "    <tr>\n",
       "      <th>25%</th>\n",
       "      <td>3269.000000</td>\n",
       "      <td>5.967500</td>\n",
       "      <td>3.028830e+05</td>\n",
       "      <td>9606.000000</td>\n",
       "      <td>2055.0</td>\n",
       "    </tr>\n",
       "    <tr>\n",
       "      <th>50%</th>\n",
       "      <td>3269.000000</td>\n",
       "      <td>7.100000</td>\n",
       "      <td>5.945670e+05</td>\n",
       "      <td>9606.000000</td>\n",
       "      <td>2055.0</td>\n",
       "    </tr>\n",
       "    <tr>\n",
       "      <th>75%</th>\n",
       "      <td>3269.000000</td>\n",
       "      <td>8.050000</td>\n",
       "      <td>7.671370e+05</td>\n",
       "      <td>9606.000000</td>\n",
       "      <td>2055.0</td>\n",
       "    </tr>\n",
       "    <tr>\n",
       "      <th>max</th>\n",
       "      <td>24448.000000</td>\n",
       "      <td>11.520000</td>\n",
       "      <td>1.365249e+06</td>\n",
       "      <td>10116.000000</td>\n",
       "      <td>2055.0</td>\n",
       "    </tr>\n",
       "  </tbody>\n",
       "</table>\n",
       "</div>"
      ],
      "text/plain": [
       "          Entrez_ID        pXC50  Original_Assay_ID        Tax_ID  \\\n",
       "count   1283.000000  1268.000000       1.283000e+03   1283.000000   \n",
       "mean    5299.410756     7.007668       5.353520e+05   9654.893219   \n",
       "std     6237.774346     1.310143       3.051988e+05    150.208457   \n",
       "min     3269.000000     3.500000       8.441800e+04   9606.000000   \n",
       "25%     3269.000000     5.967500       3.028830e+05   9606.000000   \n",
       "50%     3269.000000     7.100000       5.945670e+05   9606.000000   \n",
       "75%     3269.000000     8.050000       7.671370e+05   9606.000000   \n",
       "max    24448.000000    11.520000       1.365249e+06  10116.000000   \n",
       "\n",
       "       Ortholog_Group  \n",
       "count          1283.0  \n",
       "mean           2055.0  \n",
       "std               0.0  \n",
       "min            2055.0  \n",
       "25%            2055.0  \n",
       "50%            2055.0  \n",
       "75%            2055.0  \n",
       "max            2055.0  "
      ]
     },
     "metadata": {},
     "output_type": "display_data"
    },
    {
     "data": {
      "image/png": "[encoded data removed]",
      "text/plain": [
       "<Figure size 360x360 with 1 Axes>"
      ]
     },
     "metadata": {},
     "output_type": "display_data"
    }
   ],
   "source": [
    "#***********************************************************\n",
    "# solution cell code chunk copied here to run the notebook *\n",
    "#***********************************************************\n",
    "\n",
    "excape=excape.replace('None', np.nan)\n",
    "excape.head()\n",
    "\n",
    "# excape only has one column we care about\n",
    "display(excape.describe())\n",
    "excape.pXC50.hist(figsize=(5,5));"
   ]
  },
  {
   "cell_type": "code",
   "execution_count": 33,
   "metadata": {
    "id": "Rzjhr9Dn7_Qr"
   },
   "outputs": [],
   "source": []
  },
  {
   "cell_type": "code",
   "execution_count": 33,
   "metadata": {
    "id": "5000oRZx7_Mi"
   },
   "outputs": [],
   "source": []
  },
  {
   "cell_type": "code",
   "execution_count": 33,
   "metadata": {
    "id": "OddZRjQJ7_Hh"
   },
   "outputs": [],
   "source": []
  },
  {
   "cell_type": "code",
   "execution_count": 33,
   "metadata": {
    "id": "cE9vvmisCQp_"
   },
   "outputs": [],
   "source": []
  },
  {
   "cell_type": "code",
   "execution_count": 33,
   "metadata": {
    "id": "HaFQ2-X_yRQ6"
   },
   "outputs": [],
   "source": []
  },
  {
   "cell_type": "markdown",
   "metadata": {
    "id": "nVZzqoAo7J7f"
   },
   "source": [
    "# **What are the relevant input and the outputs for modeling?** \n",
    "\n",
    "**ChEMBL**\n",
    "*   Input: SMILES\n",
    "*   Output: IC50 or other units\n",
    "\n",
    "**ExCAPE-DB**\n",
    "* Input: SMILES\n",
    "* Output: PXC50 or Activity_Flag\n",
    "\n",
    "**DTC**\n",
    "* Input: ChEMBL ID or InChi key\n",
    "* Output pDTC\n",
    "\n"
   ]
  },
  {
   "cell_type": "markdown",
   "metadata": {
    "id": "2jhzsoeU7l76"
   },
   "source": [
    "# Exercise: compare pResponse values across all three datasets\n",
    "- which responses can you compare across all three datasets?\n",
    "- create a histogram or kde plot with legend showing distributions for all three datasets on the same plot\n",
    "- (try later) use numpy's `arange()` function with the `bins` argument in the `distplot` function to create equal sized bins for every dataset (find information on how to specify bins here: https://matplotlib.org/stable/api/_as_gen/matplotlib.pyplot.hist.html)"
   ]
  },
  {
   "cell_type": "code",
   "execution_count": 34,
   "metadata": {
    "colab": {
     "base_uri": "https://localhost:8080/",
     "height": 268
    },
    "id": "4B-9zbio7pic",
    "outputId": "08a7c203-df5c-4a3f-c861-c612a865358f"
   },
   "outputs": [
    {
     "data": {
      "text/html": [
       "<div>\n",
       "<style scoped>\n",
       "    .dataframe tbody tr th:only-of-type {\n",
       "        vertical-align: middle;\n",
       "    }\n",
       "\n",
       "    .dataframe tbody tr th {\n",
       "        vertical-align: top;\n",
       "    }\n",
       "\n",
       "    .dataframe thead th {\n",
       "        text-align: right;\n",
       "    }\n",
       "</style>\n",
       "<table border=\"1\" class=\"dataframe\">\n",
       "  <thead>\n",
       "    <tr style=\"text-align: right;\">\n",
       "      <th></th>\n",
       "      <th>Molecule_ChEMBL_ID</th>\n",
       "      <th>Molecule_Name</th>\n",
       "      <th>Molecule_Max_Phase</th>\n",
       "      <th>Molecular_Weight</th>\n",
       "      <th>#RO5_Violations</th>\n",
       "      <th>AlogP</th>\n",
       "      <th>Compound_Key</th>\n",
       "      <th>Smiles</th>\n",
       "      <th>Standard_Type</th>\n",
       "      <th>Standard_Relation</th>\n",
       "      <th>Standard_Value</th>\n",
       "      <th>Standard_Units</th>\n",
       "      <th>pChEMBL_Value</th>\n",
       "      <th>Data_Validity_Comment</th>\n",
       "      <th>Comment</th>\n",
       "      <th>Uo_Units</th>\n",
       "      <th>Ligand_Efficiency_BEI</th>\n",
       "      <th>Ligand_Efficiency_LE</th>\n",
       "      <th>Ligand_Efficiency_LLE</th>\n",
       "      <th>Ligand_Efficiency_SEI</th>\n",
       "      <th>Potential_Duplicate</th>\n",
       "      <th>Assay_ChEMBL_ID</th>\n",
       "      <th>Assay_Description</th>\n",
       "      <th>Assay_Type</th>\n",
       "      <th>BAO_Format_ID</th>\n",
       "      <th>BAO_Label</th>\n",
       "      <th>Assay_Organism</th>\n",
       "      <th>Assay_Tissue_ChEMBL_ID</th>\n",
       "      <th>Assay_Tissue_Name</th>\n",
       "      <th>Assay_Cell_Type</th>\n",
       "      <th>Assay_Subcellular_Fraction</th>\n",
       "      <th>Assay_Parameters</th>\n",
       "      <th>Assay_Variant_Accession</th>\n",
       "      <th>Assay_Variant_Mutation</th>\n",
       "      <th>Target_ChEMBL_ID</th>\n",
       "      <th>Target_Name</th>\n",
       "      <th>Target_Organism</th>\n",
       "      <th>Target_Type</th>\n",
       "      <th>Document_ChEMBL_ID</th>\n",
       "      <th>Source_ID</th>\n",
       "      <th>Source_Description</th>\n",
       "      <th>Document_Journal</th>\n",
       "      <th>Document_Year</th>\n",
       "      <th>Cell_ChEMBL_ID</th>\n",
       "      <th>Properties</th>\n",
       "      <th>Standard_Value_nM</th>\n",
       "    </tr>\n",
       "  </thead>\n",
       "  <tbody>\n",
       "    <tr>\n",
       "      <th>0</th>\n",
       "      <td>CHEMBL157217</td>\n",
       "      <td>NaN</td>\n",
       "      <td>0.0</td>\n",
       "      <td>277.46</td>\n",
       "      <td>0.0</td>\n",
       "      <td>4.17</td>\n",
       "      <td>1j</td>\n",
       "      <td>c1nc(CCCCCCCCCCN2CCCC2)c[nH]1</td>\n",
       "      <td>Ki</td>\n",
       "      <td>'='</td>\n",
       "      <td>2.511886e+14</td>\n",
       "      <td>nM</td>\n",
       "      <td>NaN</td>\n",
       "      <td>Outside typical range</td>\n",
       "      <td>NaN</td>\n",
       "      <td>UO_0000065</td>\n",
       "      <td>NaN</td>\n",
       "      <td>NaN</td>\n",
       "      <td>NaN</td>\n",
       "      <td>NaN</td>\n",
       "      <td>False</td>\n",
       "      <td>CHEMBL692992</td>\n",
       "      <td>Inhibitory activity against human Histamine H1...</td>\n",
       "      <td>B</td>\n",
       "      <td>BAO_0000357</td>\n",
       "      <td>single protein format</td>\n",
       "      <td>NaN</td>\n",
       "      <td>NaN</td>\n",
       "      <td>NaN</td>\n",
       "      <td>NaN</td>\n",
       "      <td>NaN</td>\n",
       "      <td>NaN</td>\n",
       "      <td>NaN</td>\n",
       "      <td>NaN</td>\n",
       "      <td>CHEMBL231</td>\n",
       "      <td>Histamine H1 receptor</td>\n",
       "      <td>Homo sapiens</td>\n",
       "      <td>SINGLE PROTEIN</td>\n",
       "      <td>CHEMBL1145948</td>\n",
       "      <td>1</td>\n",
       "      <td>Scientific Literature</td>\n",
       "      <td>J. Med. Chem.</td>\n",
       "      <td>2003.0</td>\n",
       "      <td>NaN</td>\n",
       "      <td>NaN</td>\n",
       "      <td>2.511886e+14</td>\n",
       "    </tr>\n",
       "    <tr>\n",
       "      <th>2</th>\n",
       "      <td>CHEMBL444083</td>\n",
       "      <td>NaN</td>\n",
       "      <td>0.0</td>\n",
       "      <td>562.66</td>\n",
       "      <td>2.0</td>\n",
       "      <td>5.04</td>\n",
       "      <td>1</td>\n",
       "      <td>NC(=O)N(O)CCC#Cc1ccc(OCCCCN2CCN(C(c3ccc(F)cc3)...</td>\n",
       "      <td>Ki</td>\n",
       "      <td>'='</td>\n",
       "      <td>3.630000e+00</td>\n",
       "      <td>nM</td>\n",
       "      <td>8.44</td>\n",
       "      <td>NaN</td>\n",
       "      <td>NaN</td>\n",
       "      <td>UO_0000065</td>\n",
       "      <td>15.00</td>\n",
       "      <td>0.28</td>\n",
       "      <td>3.40</td>\n",
       "      <td>10.26</td>\n",
       "      <td>False</td>\n",
       "      <td>CHEMBL828761</td>\n",
       "      <td>Binding affinity for recombinant human Histami...</td>\n",
       "      <td>B</td>\n",
       "      <td>BAO_0000219</td>\n",
       "      <td>cell-based format</td>\n",
       "      <td>Homo sapiens</td>\n",
       "      <td>NaN</td>\n",
       "      <td>NaN</td>\n",
       "      <td>CHO</td>\n",
       "      <td>NaN</td>\n",
       "      <td>NaN</td>\n",
       "      <td>NaN</td>\n",
       "      <td>NaN</td>\n",
       "      <td>CHEMBL231</td>\n",
       "      <td>Histamine H1 receptor</td>\n",
       "      <td>Homo sapiens</td>\n",
       "      <td>SINGLE PROTEIN</td>\n",
       "      <td>CHEMBL1141893</td>\n",
       "      <td>1</td>\n",
       "      <td>Scientific Literature</td>\n",
       "      <td>Bioorg. Med. Chem. Lett.</td>\n",
       "      <td>2005.0</td>\n",
       "      <td>CHEMBL3308072</td>\n",
       "      <td>NaN</td>\n",
       "      <td>3.630000e+00</td>\n",
       "    </tr>\n",
       "    <tr>\n",
       "      <th>3</th>\n",
       "      <td>CHEMBL101691</td>\n",
       "      <td>NaN</td>\n",
       "      <td>0.0</td>\n",
       "      <td>428.55</td>\n",
       "      <td>0.0</td>\n",
       "      <td>3.10</td>\n",
       "      <td>33</td>\n",
       "      <td>O=C(c1ccc(OCCCN2CC[C@H](NS(=O)(=O)c3ccccc3)C2)...</td>\n",
       "      <td>Ki</td>\n",
       "      <td>'='</td>\n",
       "      <td>9.100000e+03</td>\n",
       "      <td>nM</td>\n",
       "      <td>5.04</td>\n",
       "      <td>NaN</td>\n",
       "      <td>NaN</td>\n",
       "      <td>UO_0000065</td>\n",
       "      <td>11.76</td>\n",
       "      <td>0.23</td>\n",
       "      <td>1.94</td>\n",
       "      <td>6.66</td>\n",
       "      <td>False</td>\n",
       "      <td>CHEMBL691613</td>\n",
       "      <td>Binding affinity to the human Histamine H1 rec...</td>\n",
       "      <td>B</td>\n",
       "      <td>BAO_0000357</td>\n",
       "      <td>single protein format</td>\n",
       "      <td>NaN</td>\n",
       "      <td>NaN</td>\n",
       "      <td>NaN</td>\n",
       "      <td>NaN</td>\n",
       "      <td>NaN</td>\n",
       "      <td>NaN</td>\n",
       "      <td>NaN</td>\n",
       "      <td>NaN</td>\n",
       "      <td>CHEMBL231</td>\n",
       "      <td>Histamine H1 receptor</td>\n",
       "      <td>Homo sapiens</td>\n",
       "      <td>SINGLE PROTEIN</td>\n",
       "      <td>CHEMBL1134928</td>\n",
       "      <td>1</td>\n",
       "      <td>Scientific Literature</td>\n",
       "      <td>Bioorg. Med. Chem. Lett.</td>\n",
       "      <td>2002.0</td>\n",
       "      <td>NaN</td>\n",
       "      <td>NaN</td>\n",
       "      <td>9.100000e+03</td>\n",
       "    </tr>\n",
       "  </tbody>\n",
       "</table>\n",
       "</div>"
      ],
      "text/plain": [
       "  Molecule_ChEMBL_ID Molecule_Name  Molecule_Max_Phase  Molecular_Weight  \\\n",
       "0       CHEMBL157217           NaN                 0.0            277.46   \n",
       "2       CHEMBL444083           NaN                 0.0            562.66   \n",
       "3       CHEMBL101691           NaN                 0.0            428.55   \n",
       "\n",
       "   #RO5_Violations  AlogP Compound_Key  \\\n",
       "0              0.0   4.17           1j   \n",
       "2              2.0   5.04            1   \n",
       "3              0.0   3.10           33   \n",
       "\n",
       "                                              Smiles Standard_Type  \\\n",
       "0                      c1nc(CCCCCCCCCCN2CCCC2)c[nH]1            Ki   \n",
       "2  NC(=O)N(O)CCC#Cc1ccc(OCCCCN2CCN(C(c3ccc(F)cc3)...            Ki   \n",
       "3  O=C(c1ccc(OCCCN2CC[C@H](NS(=O)(=O)c3ccccc3)C2)...            Ki   \n",
       "\n",
       "  Standard_Relation  Standard_Value Standard_Units  pChEMBL_Value  \\\n",
       "0               '='    2.511886e+14             nM            NaN   \n",
       "2               '='    3.630000e+00             nM           8.44   \n",
       "3               '='    9.100000e+03             nM           5.04   \n",
       "\n",
       "   Data_Validity_Comment Comment    Uo_Units  Ligand_Efficiency_BEI  \\\n",
       "0  Outside typical range     NaN  UO_0000065                    NaN   \n",
       "2                    NaN     NaN  UO_0000065                  15.00   \n",
       "3                    NaN     NaN  UO_0000065                  11.76   \n",
       "\n",
       "  Ligand_Efficiency_LE Ligand_Efficiency_LLE Ligand_Efficiency_SEI  \\\n",
       "0                  NaN                   NaN                   NaN   \n",
       "2                 0.28                  3.40                 10.26   \n",
       "3                 0.23                  1.94                  6.66   \n",
       "\n",
       "   Potential_Duplicate Assay_ChEMBL_ID  \\\n",
       "0                False    CHEMBL692992   \n",
       "2                False    CHEMBL828761   \n",
       "3                False    CHEMBL691613   \n",
       "\n",
       "                                   Assay_Description Assay_Type BAO_Format_ID  \\\n",
       "0  Inhibitory activity against human Histamine H1...          B   BAO_0000357   \n",
       "2  Binding affinity for recombinant human Histami...          B   BAO_0000219   \n",
       "3  Binding affinity to the human Histamine H1 rec...          B   BAO_0000357   \n",
       "\n",
       "               BAO_Label Assay_Organism  Assay_Tissue_ChEMBL_ID  \\\n",
       "0  single protein format            NaN                     NaN   \n",
       "2      cell-based format   Homo sapiens                     NaN   \n",
       "3  single protein format            NaN                     NaN   \n",
       "\n",
       "   Assay_Tissue_Name Assay_Cell_Type Assay_Subcellular_Fraction  \\\n",
       "0                NaN             NaN                        NaN   \n",
       "2                NaN             CHO                        NaN   \n",
       "3                NaN             NaN                        NaN   \n",
       "\n",
       "  Assay_Parameters Assay_Variant_Accession Assay_Variant_Mutation  \\\n",
       "0              NaN                     NaN                    NaN   \n",
       "2              NaN                     NaN                    NaN   \n",
       "3              NaN                     NaN                    NaN   \n",
       "\n",
       "  Target_ChEMBL_ID            Target_Name Target_Organism     Target_Type  \\\n",
       "0        CHEMBL231  Histamine H1 receptor    Homo sapiens  SINGLE PROTEIN   \n",
       "2        CHEMBL231  Histamine H1 receptor    Homo sapiens  SINGLE PROTEIN   \n",
       "3        CHEMBL231  Histamine H1 receptor    Homo sapiens  SINGLE PROTEIN   \n",
       "\n",
       "  Document_ChEMBL_ID  Source_ID     Source_Description  \\\n",
       "0      CHEMBL1145948          1  Scientific Literature   \n",
       "2      CHEMBL1141893          1  Scientific Literature   \n",
       "3      CHEMBL1134928          1  Scientific Literature   \n",
       "\n",
       "           Document_Journal  Document_Year Cell_ChEMBL_ID  Properties  \\\n",
       "0             J. Med. Chem.         2003.0            NaN         NaN   \n",
       "2  Bioorg. Med. Chem. Lett.         2005.0  CHEMBL3308072         NaN   \n",
       "3  Bioorg. Med. Chem. Lett.         2002.0            NaN         NaN   \n",
       "\n",
       "   Standard_Value_nM  \n",
       "0       2.511886e+14  \n",
       "2       3.630000e+00  \n",
       "3       9.100000e+03  "
      ]
     },
     "execution_count": 34,
     "metadata": {},
     "output_type": "execute_result"
    }
   ],
   "source": [
    "chembl.head(3)"
   ]
  },
  {
   "cell_type": "code",
   "execution_count": 35,
   "metadata": {
    "colab": {
     "base_uri": "https://localhost:8080/"
    },
    "id": "xQF2RwFLyRQ6",
    "outputId": "7116e6e4-6e89-4aba-e9dc-0541ae83050a"
   },
   "outputs": [
    {
     "data": {
      "text/plain": [
       "array(['Ki', 'IC50', 'EC50'], dtype=object)"
      ]
     },
     "execution_count": 35,
     "metadata": {},
     "output_type": "execute_result"
    }
   ],
   "source": [
    "chembl.Standard_Type.unique()"
   ]
  },
  {
   "cell_type": "code",
   "execution_count": 36,
   "metadata": {
    "colab": {
     "base_uri": "https://localhost:8080/"
    },
    "id": "Z0H_YLnwyRQ7",
    "outputId": "2c551e42-2620-4c0d-a457-7bc45130cab2"
   },
   "outputs": [
    {
     "data": {
      "text/plain": [
       "array(['IC50', 'Ki', 'EC50'], dtype=object)"
      ]
     },
     "execution_count": 36,
     "metadata": {},
     "output_type": "execute_result"
    }
   ],
   "source": [
    "dtc.standard_type.unique()"
   ]
  },
  {
   "cell_type": "code",
   "execution_count": 37,
   "metadata": {
    "colab": {
     "base_uri": "https://localhost:8080/"
    },
    "id": "4fXCL2VsyRQ7",
    "outputId": "a8a66cea-c19e-4758-c425-f142890bfe55"
   },
   "outputs": [
    {
     "data": {
      "text/plain": [
       "(1283, 11)"
      ]
     },
     "execution_count": 37,
     "metadata": {},
     "output_type": "execute_result"
    }
   ],
   "source": [
    "excape.shape"
   ]
  },
  {
   "cell_type": "markdown",
   "metadata": {
    "id": "1u8TgVjeyRQ7"
   },
   "source": [
    "---\n",
    "# Histogram plot\n",
    "\n",
    "https://seaborn.pydata.org/generated/seaborn.histplot.html"
   ]
  },
  {
   "cell_type": "code",
   "execution_count": 38,
   "metadata": {
    "colab": {
     "base_uri": "https://localhost:8080/"
    },
    "id": "f4kQdJbKVKD1",
    "outputId": "be609ef5-1073-4c59-be2f-d6a66b67f306"
   },
   "outputs": [
    {
     "data": {
      "text/plain": [
       "Ki      2609\n",
       "IC50    1230\n",
       "EC50      49\n",
       "Name: standard_type, dtype: int64"
      ]
     },
     "execution_count": 38,
     "metadata": {},
     "output_type": "execute_result"
    }
   ],
   "source": [
    "dtc.standard_type.value_counts()"
   ]
  },
  {
   "cell_type": "code",
   "execution_count": 39,
   "metadata": {
    "colab": {
     "base_uri": "https://localhost:8080/"
    },
    "id": "gSRRIxKJ1ens",
    "outputId": "b185080d-adb0-4631-ad35-070f59539d0b"
   },
   "outputs": [
    {
     "data": {
      "text/plain": [
       "0       False\n",
       "2       False\n",
       "3       False\n",
       "4       False\n",
       "6       False\n",
       "        ...  \n",
       "5313    False\n",
       "5314    False\n",
       "5326    False\n",
       "5330    False\n",
       "5331    False\n",
       "Name: Standard_Type, Length: 3908, dtype: bool"
      ]
     },
     "execution_count": 39,
     "metadata": {},
     "output_type": "execute_result"
    }
   ],
   "source": [
    "chembl.Standard_Type.isin(['IC50','EC50'])"
   ]
  },
  {
   "cell_type": "code",
   "execution_count": 40,
   "metadata": {
    "colab": {
     "base_uri": "https://localhost:8080/",
     "height": 606
    },
    "id": "nJvjhLFRyRQ7",
    "outputId": "3e204ba9-cf96-4b80-fc18-358ef2650553"
   },
   "outputs": [
    {
     "data": {
      "image/png": "[encoded data removed]",
      "text/plain": [
       "<Figure size 720x720 with 1 Axes>"
      ]
     },
     "metadata": {},
     "output_type": "display_data"
    }
   ],
   "source": [
    "fig, ax = plt.subplots(1, sharex=True, figsize=(10,10))\n",
    "sns.histplot(data=chembl[chembl.Standard_Type.isin(['IC50', 'EC50'])], x='pChEMBL_Value', ax=ax, color=pal[0])\n",
    "sns.histplot(dtc[dtc.standard_type.isin(['IC50', 'EC50'])].pDTC_Value, ax=ax, color=pal[1])\n",
    "sns.histplot(excape.pXC50, ax=ax, color=pal[2], alpha = 0.2)\n",
    "ax.legend(labels=['chembl', 'dtc', 'excape']);"
   ]
  },
  {
   "cell_type": "markdown",
   "metadata": {
    "id": "s-E7560YyRQ7"
   },
   "source": [
    "---\n",
    "# KDE Plot\n",
    "\n",
    "\"A kernel density estimate (KDE) plot is a method for visualizing the distribution of observations in a dataset, analagous to a histogram. KDE represents the data using a continuous probability density curve in one or more dimensions.\" taken from https://seaborn.pydata.org/generated/seaborn.kdeplot.html"
   ]
  },
  {
   "cell_type": "code",
   "execution_count": 41,
   "metadata": {
    "colab": {
     "base_uri": "https://localhost:8080/",
     "height": 606
    },
    "id": "nizUYkDCyRQ7",
    "outputId": "a17e8157-1f15-4c3e-cb5b-c28b57facdaa"
   },
   "outputs": [
    {
     "data": {
      "image/png": "[encoded data removed]",
      "text/plain": [
       "<Figure size 720x720 with 1 Axes>"
      ]
     },
     "metadata": {},
     "output_type": "display_data"
    }
   ],
   "source": [
    "fig, ax = plt.subplots(1, sharex=True, figsize=(10,10))\n",
    "sns.kdeplot(data=chembl[chembl.Standard_Type.isin(['IC50', 'EC50'])], x='pChEMBL_Value', ax=ax, color=pal[0])\n",
    "sns.kdeplot(dtc[dtc.standard_type.isin(['IC50', 'EC50'])].pDTC_Value, ax=ax, color=pal[1])\n",
    "sns.kdeplot(excape.pXC50, ax=ax, color=pal[2])\n",
    "ax.legend(labels=['chembl', 'dtc', 'excape']);"
   ]
  },
  {
   "cell_type": "code",
   "execution_count": 41,
   "metadata": {
    "id": "aea_-nYcyRQ7"
   },
   "outputs": [],
   "source": []
  },
  {
   "cell_type": "code",
   "execution_count": 41,
   "metadata": {
    "id": "gpC52dT1yRQ8"
   },
   "outputs": [],
   "source": []
  },
  {
   "cell_type": "code",
   "execution_count": 41,
   "metadata": {
    "id": "QICFwPREyRQ8"
   },
   "outputs": [],
   "source": []
  },
  {
   "cell_type": "code",
   "execution_count": 41,
   "metadata": {
    "id": "vIX68vp_8DsD"
   },
   "outputs": [],
   "source": []
  },
  {
   "cell_type": "code",
   "execution_count": 41,
   "metadata": {
    "id": "OwdaBF1g8DoL"
   },
   "outputs": [],
   "source": []
  },
  {
   "cell_type": "code",
   "execution_count": 41,
   "metadata": {
    "id": "LbPYrPoAyRQ8"
   },
   "outputs": [],
   "source": []
  },
  {
   "cell_type": "markdown",
   "metadata": {
    "id": "n09fMB0BFQSp"
   },
   "source": [
    "# Analysis\n",
    "- What value types you would model and why?\n",
    "- How would you use this data for a classification model?"
   ]
  },
  {
   "cell_type": "markdown",
   "metadata": {
    "id": "kpyAehbTHLcY"
   },
   "source": [
    "- For this dataset we could model either pXC50 or pKI values. They are the most abundant in the dataset and commonly used for modeling. pKI is more normally distributed, but pXC50 values allow inclusion of excape data. \n",
    "\n",
    "According to some sources, these two datapoints can be combined in various ways, as well, but that's beyond the scope of this class.\n",
    "\n",
    "- For this dataset, one could choose a reasonable IC50 concentration to use as a threshold (perhaps 10uM, or consult an experimental scientist), and anything with an IC50 `above` that threshold is `inactive` and IC50s `below` this threshold is `active`."
   ]
  },
  {
   "cell_type": "markdown",
   "metadata": {
    "id": "8JtH7swwunPI"
   },
   "source": [
    "# DTC: Fill in empty SMILES string using InChi Keys"
   ]
  },
  {
   "cell_type": "code",
   "execution_count": 42,
   "metadata": {
    "colab": {
     "base_uri": "https://localhost:8080/",
     "height": 320
    },
    "id": "kq1g2RUtyRQ8",
    "outputId": "442d23c2-4728-4f22-ba96-524d8d6a42f8"
   },
   "outputs": [
    {
     "data": {
      "text/html": [
       "<div>\n",
       "<style scoped>\n",
       "    .dataframe tbody tr th:only-of-type {\n",
       "        vertical-align: middle;\n",
       "    }\n",
       "\n",
       "    .dataframe tbody tr th {\n",
       "        vertical-align: top;\n",
       "    }\n",
       "\n",
       "    .dataframe thead th {\n",
       "        text-align: right;\n",
       "    }\n",
       "</style>\n",
       "<table border=\"1\" class=\"dataframe\">\n",
       "  <thead>\n",
       "    <tr style=\"text-align: right;\">\n",
       "      <th></th>\n",
       "      <th>compound_id</th>\n",
       "      <th>standard_inchi_key</th>\n",
       "      <th>compound_name</th>\n",
       "      <th>synonym</th>\n",
       "      <th>target_id</th>\n",
       "      <th>target_pref_name</th>\n",
       "      <th>gene_names</th>\n",
       "      <th>wildtype_or_mutant</th>\n",
       "      <th>mutation_info</th>\n",
       "      <th>pubmed_id</th>\n",
       "      <th>standard_type</th>\n",
       "      <th>standard_relation</th>\n",
       "      <th>standard_value</th>\n",
       "      <th>standard_units</th>\n",
       "      <th>activity_comment</th>\n",
       "      <th>ep_action_mode</th>\n",
       "      <th>assay_format</th>\n",
       "      <th>assaytype</th>\n",
       "      <th>assay_subtype</th>\n",
       "      <th>inhibitor_type</th>\n",
       "      <th>detection_tech</th>\n",
       "      <th>assay_cell_line</th>\n",
       "      <th>compound_concentration_value</th>\n",
       "      <th>compound_concentration_value_unit</th>\n",
       "      <th>substrate_type</th>\n",
       "      <th>substrate_relation</th>\n",
       "      <th>substrate_value</th>\n",
       "      <th>substrate_units</th>\n",
       "      <th>assay_description</th>\n",
       "      <th>title</th>\n",
       "      <th>journal</th>\n",
       "      <th>doc_type</th>\n",
       "      <th>annotation_comments</th>\n",
       "      <th>pDTC_Value</th>\n",
       "    </tr>\n",
       "  </thead>\n",
       "  <tbody>\n",
       "    <tr>\n",
       "      <th>0</th>\n",
       "      <td>CHEMBL12</td>\n",
       "      <td>AAOVKJBEBIDNHE-UHFFFAOYSA-N</td>\n",
       "      <td>DIAZEPAM</td>\n",
       "      <td>NaN</td>\n",
       "      <td>P35367</td>\n",
       "      <td>HISTAMINE H1 RECEPTOR</td>\n",
       "      <td>HRH1</td>\n",
       "      <td>NaN</td>\n",
       "      <td>NaN</td>\n",
       "      <td>NaN</td>\n",
       "      <td>IC50</td>\n",
       "      <td>NaN</td>\n",
       "      <td>NaN</td>\n",
       "      <td>NaN</td>\n",
       "      <td>Not Active (inhibition &lt; 50% @ 10 uM and thus ...</td>\n",
       "      <td>NaN</td>\n",
       "      <td>NaN</td>\n",
       "      <td>NaN</td>\n",
       "      <td>NaN</td>\n",
       "      <td>NaN</td>\n",
       "      <td>NaN</td>\n",
       "      <td>CHO-K1</td>\n",
       "      <td>NaN</td>\n",
       "      <td>NaN</td>\n",
       "      <td>NaN</td>\n",
       "      <td>NaN</td>\n",
       "      <td>NaN</td>\n",
       "      <td>NaN</td>\n",
       "      <td>DRUGMATRIX: Histamine H1, Central radioligand ...</td>\n",
       "      <td>DrugMatrix in vitro pharmacology data</td>\n",
       "      <td>NaN</td>\n",
       "      <td>DATASET</td>\n",
       "      <td>NaN</td>\n",
       "      <td>NaN</td>\n",
       "    </tr>\n",
       "    <tr>\n",
       "      <th>1</th>\n",
       "      <td>CHEMBL12</td>\n",
       "      <td>AAOVKJBEBIDNHE-UHFFFAOYSA-N</td>\n",
       "      <td>DIAZEPAM</td>\n",
       "      <td>NaN</td>\n",
       "      <td>P35367</td>\n",
       "      <td>HISTAMINE H1 RECEPTOR</td>\n",
       "      <td>HRH1</td>\n",
       "      <td>NaN</td>\n",
       "      <td>NaN</td>\n",
       "      <td>NaN</td>\n",
       "      <td>Ki</td>\n",
       "      <td>NaN</td>\n",
       "      <td>NaN</td>\n",
       "      <td>NaN</td>\n",
       "      <td>Not Active (inhibition &lt; 50% @ 10 uM and thus ...</td>\n",
       "      <td>NaN</td>\n",
       "      <td>NaN</td>\n",
       "      <td>NaN</td>\n",
       "      <td>NaN</td>\n",
       "      <td>NaN</td>\n",
       "      <td>NaN</td>\n",
       "      <td>CHO-K1</td>\n",
       "      <td>NaN</td>\n",
       "      <td>NaN</td>\n",
       "      <td>NaN</td>\n",
       "      <td>NaN</td>\n",
       "      <td>NaN</td>\n",
       "      <td>NaN</td>\n",
       "      <td>DRUGMATRIX: Histamine H1, Central radioligand ...</td>\n",
       "      <td>DrugMatrix in vitro pharmacology data</td>\n",
       "      <td>NaN</td>\n",
       "      <td>DATASET</td>\n",
       "      <td>NaN</td>\n",
       "      <td>NaN</td>\n",
       "    </tr>\n",
       "    <tr>\n",
       "      <th>2</th>\n",
       "      <td>CHEMBL1090526</td>\n",
       "      <td>ABDWUBPDHWDFCV-CYBMUJFWSA-N</td>\n",
       "      <td>NaN</td>\n",
       "      <td>NaN</td>\n",
       "      <td>P35367</td>\n",
       "      <td>HISTAMINE H1 RECEPTOR</td>\n",
       "      <td>HRH1</td>\n",
       "      <td>NaN</td>\n",
       "      <td>NaN</td>\n",
       "      <td>20227880.0</td>\n",
       "      <td>Ki</td>\n",
       "      <td>=</td>\n",
       "      <td>0.7</td>\n",
       "      <td>NM</td>\n",
       "      <td>NaN</td>\n",
       "      <td>NaN</td>\n",
       "      <td>NaN</td>\n",
       "      <td>NaN</td>\n",
       "      <td>NaN</td>\n",
       "      <td>NaN</td>\n",
       "      <td>NaN</td>\n",
       "      <td>NaN</td>\n",
       "      <td>NaN</td>\n",
       "      <td>NaN</td>\n",
       "      <td>NaN</td>\n",
       "      <td>NaN</td>\n",
       "      <td>NaN</td>\n",
       "      <td>NaN</td>\n",
       "      <td>Binding affinity at histamine H1 receptor</td>\n",
       "      <td>Selectivity profiling of novel indene H(1)-ant...</td>\n",
       "      <td>Bioorg. Med. Chem. Lett.</td>\n",
       "      <td>PUBLICATION</td>\n",
       "      <td>NaN</td>\n",
       "      <td>9.154902</td>\n",
       "    </tr>\n",
       "  </tbody>\n",
       "</table>\n",
       "</div>"
      ],
      "text/plain": [
       "     compound_id           standard_inchi_key compound_name  synonym  \\\n",
       "0       CHEMBL12  AAOVKJBEBIDNHE-UHFFFAOYSA-N      DIAZEPAM      NaN   \n",
       "1       CHEMBL12  AAOVKJBEBIDNHE-UHFFFAOYSA-N      DIAZEPAM      NaN   \n",
       "2  CHEMBL1090526  ABDWUBPDHWDFCV-CYBMUJFWSA-N           NaN      NaN   \n",
       "\n",
       "  target_id       target_pref_name gene_names  wildtype_or_mutant  \\\n",
       "0    P35367  HISTAMINE H1 RECEPTOR       HRH1                 NaN   \n",
       "1    P35367  HISTAMINE H1 RECEPTOR       HRH1                 NaN   \n",
       "2    P35367  HISTAMINE H1 RECEPTOR       HRH1                 NaN   \n",
       "\n",
       "   mutation_info   pubmed_id standard_type standard_relation  standard_value  \\\n",
       "0            NaN         NaN          IC50               NaN             NaN   \n",
       "1            NaN         NaN            Ki               NaN             NaN   \n",
       "2            NaN  20227880.0            Ki                 =             0.7   \n",
       "\n",
       "  standard_units                                   activity_comment  \\\n",
       "0            NaN  Not Active (inhibition < 50% @ 10 uM and thus ...   \n",
       "1            NaN  Not Active (inhibition < 50% @ 10 uM and thus ...   \n",
       "2             NM                                                NaN   \n",
       "\n",
       "  ep_action_mode assay_format assaytype  assay_subtype  inhibitor_type  \\\n",
       "0            NaN          NaN       NaN            NaN             NaN   \n",
       "1            NaN          NaN       NaN            NaN             NaN   \n",
       "2            NaN          NaN       NaN            NaN             NaN   \n",
       "\n",
       "   detection_tech assay_cell_line  compound_concentration_value  \\\n",
       "0             NaN          CHO-K1                           NaN   \n",
       "1             NaN          CHO-K1                           NaN   \n",
       "2             NaN             NaN                           NaN   \n",
       "\n",
       "   compound_concentration_value_unit  substrate_type  substrate_relation  \\\n",
       "0                                NaN             NaN                 NaN   \n",
       "1                                NaN             NaN                 NaN   \n",
       "2                                NaN             NaN                 NaN   \n",
       "\n",
       "   substrate_value  substrate_units  \\\n",
       "0              NaN              NaN   \n",
       "1              NaN              NaN   \n",
       "2              NaN              NaN   \n",
       "\n",
       "                                   assay_description  \\\n",
       "0  DRUGMATRIX: Histamine H1, Central radioligand ...   \n",
       "1  DRUGMATRIX: Histamine H1, Central radioligand ...   \n",
       "2          Binding affinity at histamine H1 receptor   \n",
       "\n",
       "                                               title  \\\n",
       "0              DrugMatrix in vitro pharmacology data   \n",
       "1              DrugMatrix in vitro pharmacology data   \n",
       "2  Selectivity profiling of novel indene H(1)-ant...   \n",
       "\n",
       "                    journal     doc_type  annotation_comments  pDTC_Value  \n",
       "0                       NaN      DATASET                  NaN         NaN  \n",
       "1                       NaN      DATASET                  NaN         NaN  \n",
       "2  Bioorg. Med. Chem. Lett.  PUBLICATION                  NaN    9.154902  "
      ]
     },
     "execution_count": 42,
     "metadata": {},
     "output_type": "execute_result"
    }
   ],
   "source": [
    "dtc.head(3)"
   ]
  },
  {
   "cell_type": "markdown",
   "metadata": {
    "id": "9C31wIGnyRQ8"
   },
   "source": [
    "Let us start with `compound_id` column and try to convert them to SMILES string using PubChem ID Exchange service"
   ]
  },
  {
   "cell_type": "markdown",
   "metadata": {
    "id": "AxgJzcg-WbWq"
   },
   "source": [
    "# **Curation step** & exercise: Get SMILES for DTC data from chemical identifiers"
   ]
  },
  {
   "cell_type": "code",
   "execution_count": 43,
   "metadata": {
    "colab": {
     "base_uri": "https://localhost:8080/"
    },
    "id": "60B38Ph3yRQ9",
    "outputId": "11c62e2b-a710-4914-f25d-b4415010cdcf"
   },
   "outputs": [
    {
     "data": {
      "text/plain": [
       "0         CHEMBL12\n",
       "1         CHEMBL12\n",
       "2    CHEMBL1090526\n",
       "3    CHEMBL1090526\n",
       "4      CHEMBL60435\n",
       "Name: compound_id, dtype: object"
      ]
     },
     "execution_count": 43,
     "metadata": {},
     "output_type": "execute_result"
    }
   ],
   "source": [
    "dtc['compound_id'].head(5)"
   ]
  },
  {
   "cell_type": "code",
   "execution_count": 44,
   "metadata": {
    "colab": {
     "base_uri": "https://localhost:8080/"
    },
    "id": "LFtrYZZoyRQ9",
    "outputId": "e5cb7d70-429d-4f1e-8399-7e5b16446893"
   },
   "outputs": [
    {
     "data": {
      "text/plain": [
       "152"
      ]
     },
     "execution_count": 44,
     "metadata": {},
     "output_type": "execute_result"
    }
   ],
   "source": [
    "dtc['standard_inchi_key'].isna().sum()"
   ]
  },
  {
   "cell_type": "code",
   "execution_count": 45,
   "metadata": {
    "colab": {
     "base_uri": "https://localhost:8080/"
    },
    "id": "wn13PO42yRQ9",
    "outputId": "6657b243-0d53-4ad8-e5c3-2087234197f3"
   },
   "outputs": [
    {
     "data": {
      "text/plain": [
       "44"
      ]
     },
     "execution_count": 45,
     "metadata": {},
     "output_type": "execute_result"
    }
   ],
   "source": [
    "dtc['compound_id'].isna().sum()"
   ]
  },
  {
   "cell_type": "markdown",
   "metadata": {
    "id": "c_QlpCoAyRQ9"
   },
   "source": [
    "Since AMPL uses SMILES strings as input, we will use them as our primary data curation tool.\n",
    "1. open DTC file in excel or google sheets\n",
    "2. copy/paste the compound ID (ChEMBLXXXXXXX) column into pubchem ID exchange service: https://pubchem.ncbi.nlm.nih.gov/idexchange/idexchange.cgi\n",
    "    * Did you get the whole column??\n",
    "    * Be sure to select the correct `registry ID` for the input id list (see below for a screenshot of PubChem)\n",
    "    * Select `Operator_type` as `Same CID` and `Ouput IDs` as \"SMILES\" \n",
    "3. upload the resulting text file from `PubChem Identifier Exchange Service` into jupyter"
   ]
  },
  {
   "cell_type": "code",
   "execution_count": 46,
   "metadata": {
    "colab": {
     "base_uri": "https://localhost:8080/",
     "height": 917
    },
    "id": "af1WGtM1VvVP",
    "outputId": "6dc198fb-9599-42ea-96c7-14a9ca301006"
   },
   "outputs": [
    {
     "data": {
      "image/png": "[encoded data removed]",
      "text/plain": [
       "<IPython.core.display.Image object>"
      ]
     },
     "execution_count": 46,
     "metadata": {
      "image/png": {
       "height": 900,
       "width": 900
      }
     },
     "output_type": "execute_result"
    }
   ],
   "source": [
    "from IPython.display import Image\n",
    "Image(\"https://raw.githubusercontent.com/ATOMScience-org/AMPL/master/atomsci/ddm/examples/tutorials/Img/PubChemCIDExchange.png\",\n",
    "      width = 900, height = 900)"
   ]
  },
  {
   "cell_type": "code",
   "execution_count": 47,
   "metadata": {
    "colab": {
     "base_uri": "https://localhost:8080/",
     "height": 206
    },
    "id": "LbbB3Ld5yRQ9",
    "outputId": "7e22b029-5374-47ac-9f95-f555aabda6c6"
   },
   "outputs": [
    {
     "data": {
      "text/html": [
       "<div>\n",
       "<style scoped>\n",
       "    .dataframe tbody tr th:only-of-type {\n",
       "        vertical-align: middle;\n",
       "    }\n",
       "\n",
       "    .dataframe tbody tr th {\n",
       "        vertical-align: top;\n",
       "    }\n",
       "\n",
       "    .dataframe thead th {\n",
       "        text-align: right;\n",
       "    }\n",
       "</style>\n",
       "<table border=\"1\" class=\"dataframe\">\n",
       "  <thead>\n",
       "    <tr style=\"text-align: right;\">\n",
       "      <th></th>\n",
       "      <th>ChEMBL_ID</th>\n",
       "      <th>SMILES</th>\n",
       "    </tr>\n",
       "  </thead>\n",
       "  <tbody>\n",
       "    <tr>\n",
       "      <th>0</th>\n",
       "      <td>CHEMBL10</td>\n",
       "      <td>CS(=O)C1=CC=C(C=C1)C2=NC(=C(N2)C3=CC=NC=C3)C4=...</td>\n",
       "    </tr>\n",
       "    <tr>\n",
       "      <th>1</th>\n",
       "      <td>CHEMBL10</td>\n",
       "      <td>CS(=O)C1=CC=C(C=C1)C2=NC(=C(N2)C3=CC=NC=C3)C4=...</td>\n",
       "    </tr>\n",
       "    <tr>\n",
       "      <th>2</th>\n",
       "      <td>CHEMBL1000</td>\n",
       "      <td>C1CN(CCN1CCOCC(=O)O)C(C2=CC=CC=C2)C3=CC=C(C=C3)Cl</td>\n",
       "    </tr>\n",
       "    <tr>\n",
       "      <th>3</th>\n",
       "      <td>CHEMBL1000</td>\n",
       "      <td>C1CN(CCN1CCOCC(=O)O)C(C2=CC=CC=C2)C3=CC=C(C=C3)Cl</td>\n",
       "    </tr>\n",
       "    <tr>\n",
       "      <th>4</th>\n",
       "      <td>CHEMBL1000</td>\n",
       "      <td>C1CN(CCN1CCOCC(=O)O)C(C2=CC=CC=C2)C3=CC=C(C=C3)Cl</td>\n",
       "    </tr>\n",
       "  </tbody>\n",
       "</table>\n",
       "</div>"
      ],
      "text/plain": [
       "    ChEMBL_ID                                             SMILES\n",
       "0    CHEMBL10  CS(=O)C1=CC=C(C=C1)C2=NC(=C(N2)C3=CC=NC=C3)C4=...\n",
       "1    CHEMBL10  CS(=O)C1=CC=C(C=C1)C2=NC(=C(N2)C3=CC=NC=C3)C4=...\n",
       "2  CHEMBL1000  C1CN(CCN1CCOCC(=O)O)C(C2=CC=CC=C2)C3=CC=C(C=C3)Cl\n",
       "3  CHEMBL1000  C1CN(CCN1CCOCC(=O)O)C(C2=CC=CC=C2)C3=CC=C(C=C3)Cl\n",
       "4  CHEMBL1000  C1CN(CCN1CCOCC(=O)O)C(C2=CC=CC=C2)C3=CC=C(C=C3)Cl"
      ]
     },
     "execution_count": 47,
     "metadata": {},
     "output_type": "execute_result"
    }
   ],
   "source": [
    "# open file from pubchem ID exchange service\n",
    "!wget https://raw.githubusercontent.com/ATOMScience-org/AMPL/master/atomsci/ddm/examples/tutorials/datasets/1591412781568494159.txt >& /dev/null\n",
    "dtc_smiles = pd.read_csv(\"1591412781568494159.txt\", sep=\"\\t\", header=None)\n",
    "dtc_smiles=dtc_smiles.rename(columns = {0:'ChEMBL_ID',1:'SMILES'})\n",
    "dtc_smiles.head()"
   ]
  },
  {
   "cell_type": "code",
   "execution_count": 48,
   "metadata": {
    "id": "cq75ZDrwY7fB"
   },
   "outputs": [],
   "source": [
    "# map chembl id to smiles using a dict\n",
    "dtc['SMILES'] = dtc['compound_id'].map(dict(zip(dtc_smiles.ChEMBL_ID, dtc_smiles.SMILES)))"
   ]
  },
  {
   "cell_type": "code",
   "execution_count": 49,
   "metadata": {
    "colab": {
     "base_uri": "https://localhost:8080/"
    },
    "id": "4eCK3TOmelj4",
    "outputId": "7402ecf7-0718-421b-f0a2-527ca76fc74f"
   },
   "outputs": [
    {
     "name": "stdout",
     "output_type": "stream",
     "text": [
      "Number of compounds in dtc:  4774\n",
      "DTC compounds that dont have Chembl IDs: 44\n",
      "DTC compounds after convertion have No SMILES string: 110\n"
     ]
    }
   ],
   "source": [
    "# what's missing?\n",
    "print(\"Number of compounds in dtc: \", dtc_smiles.shape[0])\n",
    "print(\"DTC compounds that dont have Chembl IDs:\", len(dtc[dtc['compound_id'].isna()]))\n",
    "print(\"DTC compounds after convertion have No SMILES string:\", len(dtc[dtc.SMILES.isna()]))"
   ]
  },
  {
   "cell_type": "code",
   "execution_count": 50,
   "metadata": {
    "colab": {
     "base_uri": "https://localhost:8080/",
     "height": 216
    },
    "id": "c9XYLQWQyRQ-",
    "outputId": "0e9183a7-9eef-493b-85db-9fcafefc43c8"
   },
   "outputs": [
    {
     "data": {
      "text/html": [
       "<div>\n",
       "<style scoped>\n",
       "    .dataframe tbody tr th:only-of-type {\n",
       "        vertical-align: middle;\n",
       "    }\n",
       "\n",
       "    .dataframe tbody tr th {\n",
       "        vertical-align: top;\n",
       "    }\n",
       "\n",
       "    .dataframe thead th {\n",
       "        text-align: right;\n",
       "    }\n",
       "</style>\n",
       "<table border=\"1\" class=\"dataframe\">\n",
       "  <thead>\n",
       "    <tr style=\"text-align: right;\">\n",
       "      <th></th>\n",
       "      <th>compound_id</th>\n",
       "      <th>standard_inchi_key</th>\n",
       "      <th>compound_name</th>\n",
       "      <th>synonym</th>\n",
       "      <th>target_id</th>\n",
       "      <th>target_pref_name</th>\n",
       "      <th>gene_names</th>\n",
       "      <th>wildtype_or_mutant</th>\n",
       "      <th>mutation_info</th>\n",
       "      <th>pubmed_id</th>\n",
       "      <th>standard_type</th>\n",
       "      <th>standard_relation</th>\n",
       "      <th>standard_value</th>\n",
       "      <th>standard_units</th>\n",
       "      <th>activity_comment</th>\n",
       "      <th>ep_action_mode</th>\n",
       "      <th>assay_format</th>\n",
       "      <th>assaytype</th>\n",
       "      <th>assay_subtype</th>\n",
       "      <th>inhibitor_type</th>\n",
       "      <th>detection_tech</th>\n",
       "      <th>assay_cell_line</th>\n",
       "      <th>compound_concentration_value</th>\n",
       "      <th>compound_concentration_value_unit</th>\n",
       "      <th>substrate_type</th>\n",
       "      <th>substrate_relation</th>\n",
       "      <th>substrate_value</th>\n",
       "      <th>substrate_units</th>\n",
       "      <th>assay_description</th>\n",
       "      <th>title</th>\n",
       "      <th>journal</th>\n",
       "      <th>doc_type</th>\n",
       "      <th>annotation_comments</th>\n",
       "      <th>pDTC_Value</th>\n",
       "      <th>SMILES</th>\n",
       "    </tr>\n",
       "  </thead>\n",
       "  <tbody>\n",
       "    <tr>\n",
       "      <th>12</th>\n",
       "      <td>NaN</td>\n",
       "      <td>ABZSPJVXTTUFAA-UHFFFAOYSA-N</td>\n",
       "      <td>NaN</td>\n",
       "      <td>NaN</td>\n",
       "      <td>P35367</td>\n",
       "      <td>HISTAMINE H1 RECEPTOR</td>\n",
       "      <td>HRH1</td>\n",
       "      <td>NaN</td>\n",
       "      <td>NaN</td>\n",
       "      <td>-1.0</td>\n",
       "      <td>IC50</td>\n",
       "      <td>=</td>\n",
       "      <td>11000.0</td>\n",
       "      <td>NM</td>\n",
       "      <td>NaN</td>\n",
       "      <td>NaN</td>\n",
       "      <td>NaN</td>\n",
       "      <td>binding</td>\n",
       "      <td>NaN</td>\n",
       "      <td>NaN</td>\n",
       "      <td>NaN</td>\n",
       "      <td>NaN</td>\n",
       "      <td>NaN</td>\n",
       "      <td>NaN</td>\n",
       "      <td>NaN</td>\n",
       "      <td>NaN</td>\n",
       "      <td>NaN</td>\n",
       "      <td>NaN</td>\n",
       "      <td>NaN</td>\n",
       "      <td>NaN</td>\n",
       "      <td>NaN</td>\n",
       "      <td>NaN</td>\n",
       "      <td>NaN</td>\n",
       "      <td>4.958607</td>\n",
       "      <td>NaN</td>\n",
       "    </tr>\n",
       "    <tr>\n",
       "      <th>13</th>\n",
       "      <td>NaN</td>\n",
       "      <td>ABZSPJVXTTUFAA-UHFFFAOYSA-N</td>\n",
       "      <td>NaN</td>\n",
       "      <td>NaN</td>\n",
       "      <td>P35367</td>\n",
       "      <td>HISTAMINE H1 RECEPTOR</td>\n",
       "      <td>HRH1</td>\n",
       "      <td>NaN</td>\n",
       "      <td>NaN</td>\n",
       "      <td>-1.0</td>\n",
       "      <td>IC50</td>\n",
       "      <td>=</td>\n",
       "      <td>17000.0</td>\n",
       "      <td>NM</td>\n",
       "      <td>NaN</td>\n",
       "      <td>NaN</td>\n",
       "      <td>NaN</td>\n",
       "      <td>binding</td>\n",
       "      <td>NaN</td>\n",
       "      <td>NaN</td>\n",
       "      <td>NaN</td>\n",
       "      <td>NaN</td>\n",
       "      <td>NaN</td>\n",
       "      <td>NaN</td>\n",
       "      <td>NaN</td>\n",
       "      <td>NaN</td>\n",
       "      <td>NaN</td>\n",
       "      <td>NaN</td>\n",
       "      <td>NaN</td>\n",
       "      <td>NaN</td>\n",
       "      <td>NaN</td>\n",
       "      <td>NaN</td>\n",
       "      <td>NaN</td>\n",
       "      <td>4.769551</td>\n",
       "      <td>NaN</td>\n",
       "    </tr>\n",
       "    <tr>\n",
       "      <th>14</th>\n",
       "      <td>NaN</td>\n",
       "      <td>ABZSPJVXTTUFAA-UHFFFAOYSA-N</td>\n",
       "      <td>NaN</td>\n",
       "      <td>NaN</td>\n",
       "      <td>P35367</td>\n",
       "      <td>HISTAMINE H1 RECEPTOR</td>\n",
       "      <td>HRH1</td>\n",
       "      <td>NaN</td>\n",
       "      <td>NaN</td>\n",
       "      <td>-1.0</td>\n",
       "      <td>IC50</td>\n",
       "      <td>=</td>\n",
       "      <td>23000.0</td>\n",
       "      <td>NM</td>\n",
       "      <td>NaN</td>\n",
       "      <td>NaN</td>\n",
       "      <td>NaN</td>\n",
       "      <td>binding</td>\n",
       "      <td>NaN</td>\n",
       "      <td>NaN</td>\n",
       "      <td>NaN</td>\n",
       "      <td>NaN</td>\n",
       "      <td>NaN</td>\n",
       "      <td>NaN</td>\n",
       "      <td>NaN</td>\n",
       "      <td>NaN</td>\n",
       "      <td>NaN</td>\n",
       "      <td>NaN</td>\n",
       "      <td>NaN</td>\n",
       "      <td>NaN</td>\n",
       "      <td>NaN</td>\n",
       "      <td>NaN</td>\n",
       "      <td>NaN</td>\n",
       "      <td>4.638272</td>\n",
       "      <td>NaN</td>\n",
       "    </tr>\n",
       "  </tbody>\n",
       "</table>\n",
       "</div>"
      ],
      "text/plain": [
       "   compound_id           standard_inchi_key compound_name  synonym target_id  \\\n",
       "12         NaN  ABZSPJVXTTUFAA-UHFFFAOYSA-N           NaN      NaN    P35367   \n",
       "13         NaN  ABZSPJVXTTUFAA-UHFFFAOYSA-N           NaN      NaN    P35367   \n",
       "14         NaN  ABZSPJVXTTUFAA-UHFFFAOYSA-N           NaN      NaN    P35367   \n",
       "\n",
       "         target_pref_name gene_names  wildtype_or_mutant  mutation_info  \\\n",
       "12  HISTAMINE H1 RECEPTOR       HRH1                 NaN            NaN   \n",
       "13  HISTAMINE H1 RECEPTOR       HRH1                 NaN            NaN   \n",
       "14  HISTAMINE H1 RECEPTOR       HRH1                 NaN            NaN   \n",
       "\n",
       "    pubmed_id standard_type standard_relation  standard_value standard_units  \\\n",
       "12       -1.0          IC50                 =         11000.0             NM   \n",
       "13       -1.0          IC50                 =         17000.0             NM   \n",
       "14       -1.0          IC50                 =         23000.0             NM   \n",
       "\n",
       "   activity_comment ep_action_mode assay_format assaytype  assay_subtype  \\\n",
       "12              NaN            NaN          NaN   binding            NaN   \n",
       "13              NaN            NaN          NaN   binding            NaN   \n",
       "14              NaN            NaN          NaN   binding            NaN   \n",
       "\n",
       "    inhibitor_type  detection_tech assay_cell_line  \\\n",
       "12             NaN             NaN             NaN   \n",
       "13             NaN             NaN             NaN   \n",
       "14             NaN             NaN             NaN   \n",
       "\n",
       "    compound_concentration_value  compound_concentration_value_unit  \\\n",
       "12                           NaN                                NaN   \n",
       "13                           NaN                                NaN   \n",
       "14                           NaN                                NaN   \n",
       "\n",
       "    substrate_type  substrate_relation  substrate_value  substrate_units  \\\n",
       "12             NaN                 NaN              NaN              NaN   \n",
       "13             NaN                 NaN              NaN              NaN   \n",
       "14             NaN                 NaN              NaN              NaN   \n",
       "\n",
       "   assay_description title journal doc_type  annotation_comments  pDTC_Value  \\\n",
       "12               NaN   NaN     NaN      NaN                  NaN    4.958607   \n",
       "13               NaN   NaN     NaN      NaN                  NaN    4.769551   \n",
       "14               NaN   NaN     NaN      NaN                  NaN    4.638272   \n",
       "\n",
       "   SMILES  \n",
       "12    NaN  \n",
       "13    NaN  \n",
       "14    NaN  "
      ]
     },
     "execution_count": 50,
     "metadata": {},
     "output_type": "execute_result"
    }
   ],
   "source": [
    "dtc[dtc.SMILES.isna()].head(3)"
   ]
  },
  {
   "cell_type": "markdown",
   "metadata": {
    "id": "MgURrDBafLkX"
   },
   "source": [
    "# Try to recover the missing smiles from other chemical identifiers in the DTC file."
   ]
  },
  {
   "cell_type": "code",
   "execution_count": 51,
   "metadata": {
    "colab": {
     "base_uri": "https://localhost:8080/"
    },
    "id": "vTrdI1qEgw5f",
    "outputId": "f195ec88-3b59-44c4-dbf2-459ff3b7dda5"
   },
   "outputs": [
    {
     "data": {
      "text/plain": [
       "['ABZSPJVXTTUFAA-UHFFFAOYSA-N',\n",
       " 'FERVXSHGEVPGHF-UHFFFAOYSA-N',\n",
       " 'FTCWKSGDHXCEMZ-UHFFFAOYSA-N',\n",
       " 'HXTGXYRHXAGCFP-UHFFFAOYSA-N',\n",
       " 'IHIXIJGXTJIKRB-UHFFFAOYSA-N',\n",
       " 'KIWQWJKWBHZMDT-GSVOUGTGSA-N',\n",
       " 'PDNJLMZEGXHSCU-GSVOUGTGSA-N',\n",
       " 'QUROTGLADLKIIK-UHFFFAOYSA-N',\n",
       " 'SUGVYNSRNKFXQM-ACSDJOOWSA-N',\n",
       " 'VBOQYPQEPHKASR-GSVOUGTGSA-N',\n",
       " 'VGFZCFWVSYIXEK-UHFFFAOYSA-N',\n",
       " 'VQOXZBDYSJBXMA-VHFLTRTASA-N',\n",
       " 'ZQAHOENZMFACFJ-UHFFFAOYSA-N',\n",
       " nan]"
      ]
     },
     "execution_count": 51,
     "metadata": {},
     "output_type": "execute_result"
    }
   ],
   "source": [
    "# select inchikeys from the 110 missing smiles rows\n",
    "dtc[dtc.SMILES.isna()]['standard_inchi_key'].unique().tolist()"
   ]
  },
  {
   "cell_type": "markdown",
   "metadata": {
    "id": "ZPFySRD8fUrc",
    "outputId": "832beb56-8cd2-4e84-d7c4-9b0417275d3e"
   },
   "source": [
    "#### Copy the following `standard_inchi_key` ids into PubChem exchange service and convert it to SMILES\n",
    "```\n",
    "ABZSPJVXTTUFAA-UHFFFAOYSA-N\n",
    "FERVXSHGEVPGHF-UHFFFAOYSA-N\n",
    "FTCWKSGDHXCEMZ-UHFFFAOYSA-N\n",
    "HXTGXYRHXAGCFP-UHFFFAOYSA-N\n",
    "IHIXIJGXTJIKRB-UHFFFAOYSA-N\n",
    "KIWQWJKWBHZMDT-GSVOUGTGSA-N\n",
    "PDNJLMZEGXHSCU-GSVOUGTGSA-N\n",
    "QUROTGLADLKIIK-UHFFFAOYSA-N\n",
    "SUGVYNSRNKFXQM-ACSDJOOWSA-N\n",
    "TXZPMHLMPKIUGK-UHFFFAOYSA-N\n",
    "VBOQYPQEPHKASR-GSVOUGTGSA-N\n",
    "VGFZCFWVSYIXEK-UHFFFAOYSA-N\n",
    "VQOXZBDYSJBXMA-VHFLTRTASA-N\n",
    "ZQAHOENZMFACFJ-UHFFFAOYSA-N\n",
    "```"
   ]
  },
  {
   "cell_type": "code",
   "execution_count": 52,
   "metadata": {
    "colab": {
     "base_uri": "https://localhost:8080/",
     "height": 144
    },
    "id": "Ps9BvSk6yRQ-",
    "outputId": "63f41627-ce4e-4dbd-fbde-080962fbc4c5"
   },
   "outputs": [
    {
     "data": {
      "text/html": [
       "<div>\n",
       "<style scoped>\n",
       "    .dataframe tbody tr th:only-of-type {\n",
       "        vertical-align: middle;\n",
       "    }\n",
       "\n",
       "    .dataframe tbody tr th {\n",
       "        vertical-align: top;\n",
       "    }\n",
       "\n",
       "    .dataframe thead th {\n",
       "        text-align: right;\n",
       "    }\n",
       "</style>\n",
       "<table border=\"1\" class=\"dataframe\">\n",
       "  <thead>\n",
       "    <tr style=\"text-align: right;\">\n",
       "      <th></th>\n",
       "      <th>INCHIKEY</th>\n",
       "      <th>SMILES</th>\n",
       "    </tr>\n",
       "  </thead>\n",
       "  <tbody>\n",
       "    <tr>\n",
       "      <th>0</th>\n",
       "      <td>ABZSPJVXTTUFAA-UHFFFAOYSA-N</td>\n",
       "      <td>CC(=O)NC1=CC=C(C=C1)C(=O)NC2=C(C=CC(=C2)C3=CC=...</td>\n",
       "    </tr>\n",
       "    <tr>\n",
       "      <th>1</th>\n",
       "      <td>FERVXSHGEVPGHF-UHFFFAOYSA-N</td>\n",
       "      <td>CC1=CC=C(C=C1)C(C2=CC=CC=C2)OCC[N+](C)(C)C</td>\n",
       "    </tr>\n",
       "    <tr>\n",
       "      <th>2</th>\n",
       "      <td>FTCWKSGDHXCEMZ-UHFFFAOYSA-N</td>\n",
       "      <td>CC1CC(C2=CC=CC=C2N1C(=O)C3=CC=CC=C3)N(C4=CC=CC...</td>\n",
       "    </tr>\n",
       "  </tbody>\n",
       "</table>\n",
       "</div>"
      ],
      "text/plain": [
       "                      INCHIKEY  \\\n",
       "0  ABZSPJVXTTUFAA-UHFFFAOYSA-N   \n",
       "1  FERVXSHGEVPGHF-UHFFFAOYSA-N   \n",
       "2  FTCWKSGDHXCEMZ-UHFFFAOYSA-N   \n",
       "\n",
       "                                              SMILES  \n",
       "0  CC(=O)NC1=CC=C(C=C1)C(=O)NC2=C(C=CC(=C2)C3=CC=...  \n",
       "1         CC1=CC=C(C=C1)C(C2=CC=CC=C2)OCC[N+](C)(C)C  \n",
       "2  CC1CC(C2=CC=CC=C2N1C(=O)C3=CC=CC=C3)N(C4=CC=CC...  "
      ]
     },
     "execution_count": 52,
     "metadata": {},
     "output_type": "execute_result"
    }
   ],
   "source": [
    "! wget https://raw.githubusercontent.com/ATOMScience-org/AMPL/master/atomsci/ddm/examples/tutorials/datasets/904065732039684223.txt >& /dev/null\n",
    "inchi_smiles = pd.read_csv(\"904065732039684223.txt\", sep='\\t', header=None)\n",
    "inchi_smiles=inchi_smiles.rename(columns = {0:'INCHIKEY',1:'SMILES'})\n",
    "inchi_smiles.head(3)"
   ]
  },
  {
   "cell_type": "code",
   "execution_count": 53,
   "metadata": {
    "colab": {
     "base_uri": "https://localhost:8080/",
     "height": 320
    },
    "id": "dwZeW8gGjJz4",
    "outputId": "13a5e39b-1ac7-4b51-8ead-e3ee51c6c818"
   },
   "outputs": [
    {
     "data": {
      "text/html": [
       "<div>\n",
       "<style scoped>\n",
       "    .dataframe tbody tr th:only-of-type {\n",
       "        vertical-align: middle;\n",
       "    }\n",
       "\n",
       "    .dataframe tbody tr th {\n",
       "        vertical-align: top;\n",
       "    }\n",
       "\n",
       "    .dataframe thead th {\n",
       "        text-align: right;\n",
       "    }\n",
       "</style>\n",
       "<table border=\"1\" class=\"dataframe\">\n",
       "  <thead>\n",
       "    <tr style=\"text-align: right;\">\n",
       "      <th></th>\n",
       "      <th>compound_id</th>\n",
       "      <th>standard_inchi_key</th>\n",
       "      <th>compound_name</th>\n",
       "      <th>synonym</th>\n",
       "      <th>target_id</th>\n",
       "      <th>target_pref_name</th>\n",
       "      <th>gene_names</th>\n",
       "      <th>wildtype_or_mutant</th>\n",
       "      <th>mutation_info</th>\n",
       "      <th>pubmed_id</th>\n",
       "      <th>standard_type</th>\n",
       "      <th>standard_relation</th>\n",
       "      <th>standard_value</th>\n",
       "      <th>standard_units</th>\n",
       "      <th>activity_comment</th>\n",
       "      <th>ep_action_mode</th>\n",
       "      <th>assay_format</th>\n",
       "      <th>assaytype</th>\n",
       "      <th>assay_subtype</th>\n",
       "      <th>inhibitor_type</th>\n",
       "      <th>detection_tech</th>\n",
       "      <th>assay_cell_line</th>\n",
       "      <th>compound_concentration_value</th>\n",
       "      <th>compound_concentration_value_unit</th>\n",
       "      <th>substrate_type</th>\n",
       "      <th>substrate_relation</th>\n",
       "      <th>substrate_value</th>\n",
       "      <th>substrate_units</th>\n",
       "      <th>assay_description</th>\n",
       "      <th>title</th>\n",
       "      <th>journal</th>\n",
       "      <th>doc_type</th>\n",
       "      <th>annotation_comments</th>\n",
       "      <th>pDTC_Value</th>\n",
       "      <th>SMILES</th>\n",
       "    </tr>\n",
       "  </thead>\n",
       "  <tbody>\n",
       "    <tr>\n",
       "      <th>0</th>\n",
       "      <td>CHEMBL12</td>\n",
       "      <td>AAOVKJBEBIDNHE-UHFFFAOYSA-N</td>\n",
       "      <td>DIAZEPAM</td>\n",
       "      <td>NaN</td>\n",
       "      <td>P35367</td>\n",
       "      <td>HISTAMINE H1 RECEPTOR</td>\n",
       "      <td>HRH1</td>\n",
       "      <td>NaN</td>\n",
       "      <td>NaN</td>\n",
       "      <td>NaN</td>\n",
       "      <td>IC50</td>\n",
       "      <td>NaN</td>\n",
       "      <td>NaN</td>\n",
       "      <td>NaN</td>\n",
       "      <td>Not Active (inhibition &lt; 50% @ 10 uM and thus ...</td>\n",
       "      <td>NaN</td>\n",
       "      <td>NaN</td>\n",
       "      <td>NaN</td>\n",
       "      <td>NaN</td>\n",
       "      <td>NaN</td>\n",
       "      <td>NaN</td>\n",
       "      <td>CHO-K1</td>\n",
       "      <td>NaN</td>\n",
       "      <td>NaN</td>\n",
       "      <td>NaN</td>\n",
       "      <td>NaN</td>\n",
       "      <td>NaN</td>\n",
       "      <td>NaN</td>\n",
       "      <td>DRUGMATRIX: Histamine H1, Central radioligand ...</td>\n",
       "      <td>DrugMatrix in vitro pharmacology data</td>\n",
       "      <td>NaN</td>\n",
       "      <td>DATASET</td>\n",
       "      <td>NaN</td>\n",
       "      <td>NaN</td>\n",
       "      <td>CN1C(=O)CN=C(C2=C1C=CC(=C2)Cl)C3=CC=CC=C3</td>\n",
       "    </tr>\n",
       "    <tr>\n",
       "      <th>1</th>\n",
       "      <td>CHEMBL12</td>\n",
       "      <td>AAOVKJBEBIDNHE-UHFFFAOYSA-N</td>\n",
       "      <td>DIAZEPAM</td>\n",
       "      <td>NaN</td>\n",
       "      <td>P35367</td>\n",
       "      <td>HISTAMINE H1 RECEPTOR</td>\n",
       "      <td>HRH1</td>\n",
       "      <td>NaN</td>\n",
       "      <td>NaN</td>\n",
       "      <td>NaN</td>\n",
       "      <td>Ki</td>\n",
       "      <td>NaN</td>\n",
       "      <td>NaN</td>\n",
       "      <td>NaN</td>\n",
       "      <td>Not Active (inhibition &lt; 50% @ 10 uM and thus ...</td>\n",
       "      <td>NaN</td>\n",
       "      <td>NaN</td>\n",
       "      <td>NaN</td>\n",
       "      <td>NaN</td>\n",
       "      <td>NaN</td>\n",
       "      <td>NaN</td>\n",
       "      <td>CHO-K1</td>\n",
       "      <td>NaN</td>\n",
       "      <td>NaN</td>\n",
       "      <td>NaN</td>\n",
       "      <td>NaN</td>\n",
       "      <td>NaN</td>\n",
       "      <td>NaN</td>\n",
       "      <td>DRUGMATRIX: Histamine H1, Central radioligand ...</td>\n",
       "      <td>DrugMatrix in vitro pharmacology data</td>\n",
       "      <td>NaN</td>\n",
       "      <td>DATASET</td>\n",
       "      <td>NaN</td>\n",
       "      <td>NaN</td>\n",
       "      <td>CN1C(=O)CN=C(C2=C1C=CC(=C2)Cl)C3=CC=CC=C3</td>\n",
       "    </tr>\n",
       "    <tr>\n",
       "      <th>2</th>\n",
       "      <td>CHEMBL1090526</td>\n",
       "      <td>ABDWUBPDHWDFCV-CYBMUJFWSA-N</td>\n",
       "      <td>NaN</td>\n",
       "      <td>NaN</td>\n",
       "      <td>P35367</td>\n",
       "      <td>HISTAMINE H1 RECEPTOR</td>\n",
       "      <td>HRH1</td>\n",
       "      <td>NaN</td>\n",
       "      <td>NaN</td>\n",
       "      <td>20227880.0</td>\n",
       "      <td>Ki</td>\n",
       "      <td>=</td>\n",
       "      <td>0.7</td>\n",
       "      <td>NM</td>\n",
       "      <td>NaN</td>\n",
       "      <td>NaN</td>\n",
       "      <td>NaN</td>\n",
       "      <td>NaN</td>\n",
       "      <td>NaN</td>\n",
       "      <td>NaN</td>\n",
       "      <td>NaN</td>\n",
       "      <td>NaN</td>\n",
       "      <td>NaN</td>\n",
       "      <td>NaN</td>\n",
       "      <td>NaN</td>\n",
       "      <td>NaN</td>\n",
       "      <td>NaN</td>\n",
       "      <td>NaN</td>\n",
       "      <td>Binding affinity at histamine H1 receptor</td>\n",
       "      <td>Selectivity profiling of novel indene H(1)-ant...</td>\n",
       "      <td>Bioorg. Med. Chem. Lett.</td>\n",
       "      <td>PUBLICATION</td>\n",
       "      <td>NaN</td>\n",
       "      <td>9.154902</td>\n",
       "      <td>C[C@H](C1=C(CC2=C1C=CC(=C2)F)CCN(C)C)C3=NC=CN=...</td>\n",
       "    </tr>\n",
       "  </tbody>\n",
       "</table>\n",
       "</div>"
      ],
      "text/plain": [
       "     compound_id           standard_inchi_key compound_name  synonym  \\\n",
       "0       CHEMBL12  AAOVKJBEBIDNHE-UHFFFAOYSA-N      DIAZEPAM      NaN   \n",
       "1       CHEMBL12  AAOVKJBEBIDNHE-UHFFFAOYSA-N      DIAZEPAM      NaN   \n",
       "2  CHEMBL1090526  ABDWUBPDHWDFCV-CYBMUJFWSA-N           NaN      NaN   \n",
       "\n",
       "  target_id       target_pref_name gene_names  wildtype_or_mutant  \\\n",
       "0    P35367  HISTAMINE H1 RECEPTOR       HRH1                 NaN   \n",
       "1    P35367  HISTAMINE H1 RECEPTOR       HRH1                 NaN   \n",
       "2    P35367  HISTAMINE H1 RECEPTOR       HRH1                 NaN   \n",
       "\n",
       "   mutation_info   pubmed_id standard_type standard_relation  standard_value  \\\n",
       "0            NaN         NaN          IC50               NaN             NaN   \n",
       "1            NaN         NaN            Ki               NaN             NaN   \n",
       "2            NaN  20227880.0            Ki                 =             0.7   \n",
       "\n",
       "  standard_units                                   activity_comment  \\\n",
       "0            NaN  Not Active (inhibition < 50% @ 10 uM and thus ...   \n",
       "1            NaN  Not Active (inhibition < 50% @ 10 uM and thus ...   \n",
       "2             NM                                                NaN   \n",
       "\n",
       "  ep_action_mode assay_format assaytype  assay_subtype  inhibitor_type  \\\n",
       "0            NaN          NaN       NaN            NaN             NaN   \n",
       "1            NaN          NaN       NaN            NaN             NaN   \n",
       "2            NaN          NaN       NaN            NaN             NaN   \n",
       "\n",
       "   detection_tech assay_cell_line  compound_concentration_value  \\\n",
       "0             NaN          CHO-K1                           NaN   \n",
       "1             NaN          CHO-K1                           NaN   \n",
       "2             NaN             NaN                           NaN   \n",
       "\n",
       "   compound_concentration_value_unit  substrate_type  substrate_relation  \\\n",
       "0                                NaN             NaN                 NaN   \n",
       "1                                NaN             NaN                 NaN   \n",
       "2                                NaN             NaN                 NaN   \n",
       "\n",
       "   substrate_value  substrate_units  \\\n",
       "0              NaN              NaN   \n",
       "1              NaN              NaN   \n",
       "2              NaN              NaN   \n",
       "\n",
       "                                   assay_description  \\\n",
       "0  DRUGMATRIX: Histamine H1, Central radioligand ...   \n",
       "1  DRUGMATRIX: Histamine H1, Central radioligand ...   \n",
       "2          Binding affinity at histamine H1 receptor   \n",
       "\n",
       "                                               title  \\\n",
       "0              DrugMatrix in vitro pharmacology data   \n",
       "1              DrugMatrix in vitro pharmacology data   \n",
       "2  Selectivity profiling of novel indene H(1)-ant...   \n",
       "\n",
       "                    journal     doc_type  annotation_comments  pDTC_Value  \\\n",
       "0                       NaN      DATASET                  NaN         NaN   \n",
       "1                       NaN      DATASET                  NaN         NaN   \n",
       "2  Bioorg. Med. Chem. Lett.  PUBLICATION                  NaN    9.154902   \n",
       "\n",
       "                                              SMILES  \n",
       "0          CN1C(=O)CN=C(C2=C1C=CC(=C2)Cl)C3=CC=CC=C3  \n",
       "1          CN1C(=O)CN=C(C2=C1C=CC(=C2)Cl)C3=CC=CC=C3  \n",
       "2  C[C@H](C1=C(CC2=C1C=CC(=C2)F)CCN(C)C)C3=NC=CN=...  "
      ]
     },
     "execution_count": 53,
     "metadata": {},
     "output_type": "execute_result"
    }
   ],
   "source": [
    "dtc.head(3)"
   ]
  },
  {
   "cell_type": "code",
   "execution_count": 54,
   "metadata": {
    "colab": {
     "base_uri": "https://localhost:8080/"
    },
    "id": "jArLB1xKyRQ_",
    "outputId": "6aaa07c3-747c-4fe7-9c3b-7c8f70bcdba1"
   },
   "outputs": [
    {
     "name": "stdout",
     "output_type": "stream",
     "text": [
      "No InchiKey in DTC: 152\n",
      "No SMILES from InchiKey or ChemblID in DTC: 66\n"
     ]
    }
   ],
   "source": [
    "# map inchikey to smiles using a dict - map ONLY where there are NA values, don't overwrite existing smiles!\n",
    "dtc.loc[dtc.SMILES.isna(), 'SMILES'] = dtc.loc[dtc.SMILES.isna(), 'standard_inchi_key'].map(dict(zip(inchi_smiles.INCHIKEY, inchi_smiles.SMILES)))\n",
    "\n",
    "# what's missing?\n",
    "print(\"No InchiKey in DTC:\", len(dtc[dtc['standard_inchi_key'].isna()]))\n",
    "print(\"No SMILES from InchiKey or ChemblID in DTC:\", len(dtc[dtc.SMILES.isna()]))"
   ]
  },
  {
   "cell_type": "markdown",
   "metadata": {
    "id": "kd1tWFeoyRQ_"
   },
   "source": [
    "Pubchem doesn't ID some of these compounds. Depending on how precious your data is and how many data points are missing, it may be worth going to other sources manually, such as chemspider: http://www.chemspider.com/Search.aspx?q=InChIKey=BXTUHNWXQLWICJ-DIXMSKSGSA-L"
   ]
  },
  {
   "cell_type": "code",
   "execution_count": 55,
   "metadata": {
    "colab": {
     "base_uri": "https://localhost:8080/",
     "height": 216
    },
    "id": "J5W6br8ZyRQ_",
    "outputId": "39086ae4-7599-48e0-8b78-3cf1300e342e"
   },
   "outputs": [
    {
     "data": {
      "text/html": [
       "<div>\n",
       "<style scoped>\n",
       "    .dataframe tbody tr th:only-of-type {\n",
       "        vertical-align: middle;\n",
       "    }\n",
       "\n",
       "    .dataframe tbody tr th {\n",
       "        vertical-align: top;\n",
       "    }\n",
       "\n",
       "    .dataframe thead th {\n",
       "        text-align: right;\n",
       "    }\n",
       "</style>\n",
       "<table border=\"1\" class=\"dataframe\">\n",
       "  <thead>\n",
       "    <tr style=\"text-align: right;\">\n",
       "      <th></th>\n",
       "      <th>compound_id</th>\n",
       "      <th>standard_inchi_key</th>\n",
       "      <th>compound_name</th>\n",
       "      <th>synonym</th>\n",
       "      <th>target_id</th>\n",
       "      <th>target_pref_name</th>\n",
       "      <th>gene_names</th>\n",
       "      <th>wildtype_or_mutant</th>\n",
       "      <th>mutation_info</th>\n",
       "      <th>pubmed_id</th>\n",
       "      <th>standard_type</th>\n",
       "      <th>standard_relation</th>\n",
       "      <th>standard_value</th>\n",
       "      <th>standard_units</th>\n",
       "      <th>activity_comment</th>\n",
       "      <th>ep_action_mode</th>\n",
       "      <th>assay_format</th>\n",
       "      <th>assaytype</th>\n",
       "      <th>assay_subtype</th>\n",
       "      <th>inhibitor_type</th>\n",
       "      <th>detection_tech</th>\n",
       "      <th>assay_cell_line</th>\n",
       "      <th>compound_concentration_value</th>\n",
       "      <th>compound_concentration_value_unit</th>\n",
       "      <th>substrate_type</th>\n",
       "      <th>substrate_relation</th>\n",
       "      <th>substrate_value</th>\n",
       "      <th>substrate_units</th>\n",
       "      <th>assay_description</th>\n",
       "      <th>title</th>\n",
       "      <th>journal</th>\n",
       "      <th>doc_type</th>\n",
       "      <th>annotation_comments</th>\n",
       "      <th>pDTC_Value</th>\n",
       "      <th>SMILES</th>\n",
       "    </tr>\n",
       "  </thead>\n",
       "  <tbody>\n",
       "    <tr>\n",
       "      <th>4538</th>\n",
       "      <td>NaN</td>\n",
       "      <td>ZQAHOENZMFACFJ-UHFFFAOYSA-N</td>\n",
       "      <td>AC1O5RVW</td>\n",
       "      <td>NaN</td>\n",
       "      <td>P35367</td>\n",
       "      <td>HISTAMINE H1 RECEPTOR</td>\n",
       "      <td>HRH1</td>\n",
       "      <td>NaN</td>\n",
       "      <td>NaN</td>\n",
       "      <td>6146381.0</td>\n",
       "      <td>Ki</td>\n",
       "      <td>=</td>\n",
       "      <td>1200.00</td>\n",
       "      <td>NM</td>\n",
       "      <td>NaN</td>\n",
       "      <td>NaN</td>\n",
       "      <td>NaN</td>\n",
       "      <td>NaN</td>\n",
       "      <td>NaN</td>\n",
       "      <td>NaN</td>\n",
       "      <td>NaN</td>\n",
       "      <td>NaN</td>\n",
       "      <td>NaN</td>\n",
       "      <td>NaN</td>\n",
       "      <td>NaN</td>\n",
       "      <td>NaN</td>\n",
       "      <td>NaN</td>\n",
       "      <td>NaN</td>\n",
       "      <td>NaN</td>\n",
       "      <td>NaN</td>\n",
       "      <td>NaN</td>\n",
       "      <td>NaN</td>\n",
       "      <td>NaN</td>\n",
       "      <td>5.920819</td>\n",
       "      <td>NaN</td>\n",
       "    </tr>\n",
       "    <tr>\n",
       "      <th>4539</th>\n",
       "      <td>NaN</td>\n",
       "      <td>ZQAHOENZMFACFJ-UHFFFAOYSA-N</td>\n",
       "      <td>AC1O5RVW</td>\n",
       "      <td>NaN</td>\n",
       "      <td>P35367</td>\n",
       "      <td>HISTAMINE H1 RECEPTOR</td>\n",
       "      <td>HRH1</td>\n",
       "      <td>NaN</td>\n",
       "      <td>NaN</td>\n",
       "      <td>11809864.0</td>\n",
       "      <td>Ki</td>\n",
       "      <td>=</td>\n",
       "      <td>2.51</td>\n",
       "      <td>NM</td>\n",
       "      <td>NaN</td>\n",
       "      <td>NaN</td>\n",
       "      <td>NaN</td>\n",
       "      <td>NaN</td>\n",
       "      <td>NaN</td>\n",
       "      <td>NaN</td>\n",
       "      <td>NaN</td>\n",
       "      <td>NaN</td>\n",
       "      <td>NaN</td>\n",
       "      <td>NaN</td>\n",
       "      <td>NaN</td>\n",
       "      <td>NaN</td>\n",
       "      <td>NaN</td>\n",
       "      <td>NaN</td>\n",
       "      <td>NaN</td>\n",
       "      <td>NaN</td>\n",
       "      <td>NaN</td>\n",
       "      <td>NaN</td>\n",
       "      <td>NaN</td>\n",
       "      <td>8.600326</td>\n",
       "      <td>NaN</td>\n",
       "    </tr>\n",
       "    <tr>\n",
       "      <th>4540</th>\n",
       "      <td>NaN</td>\n",
       "      <td>ZQAHOENZMFACFJ-UHFFFAOYSA-N</td>\n",
       "      <td>AC1O5RVW</td>\n",
       "      <td>NaN</td>\n",
       "      <td>P35367</td>\n",
       "      <td>HISTAMINE H1 RECEPTOR</td>\n",
       "      <td>HRH1</td>\n",
       "      <td>NaN</td>\n",
       "      <td>NaN</td>\n",
       "      <td>12065734.0</td>\n",
       "      <td>Ki</td>\n",
       "      <td>=</td>\n",
       "      <td>211.00</td>\n",
       "      <td>NM</td>\n",
       "      <td>NaN</td>\n",
       "      <td>NaN</td>\n",
       "      <td>NaN</td>\n",
       "      <td>NaN</td>\n",
       "      <td>NaN</td>\n",
       "      <td>NaN</td>\n",
       "      <td>NaN</td>\n",
       "      <td>NaN</td>\n",
       "      <td>NaN</td>\n",
       "      <td>NaN</td>\n",
       "      <td>NaN</td>\n",
       "      <td>NaN</td>\n",
       "      <td>NaN</td>\n",
       "      <td>NaN</td>\n",
       "      <td>NaN</td>\n",
       "      <td>NaN</td>\n",
       "      <td>NaN</td>\n",
       "      <td>NaN</td>\n",
       "      <td>NaN</td>\n",
       "      <td>6.675718</td>\n",
       "      <td>NaN</td>\n",
       "    </tr>\n",
       "  </tbody>\n",
       "</table>\n",
       "</div>"
      ],
      "text/plain": [
       "     compound_id           standard_inchi_key compound_name  synonym  \\\n",
       "4538         NaN  ZQAHOENZMFACFJ-UHFFFAOYSA-N      AC1O5RVW      NaN   \n",
       "4539         NaN  ZQAHOENZMFACFJ-UHFFFAOYSA-N      AC1O5RVW      NaN   \n",
       "4540         NaN  ZQAHOENZMFACFJ-UHFFFAOYSA-N      AC1O5RVW      NaN   \n",
       "\n",
       "     target_id       target_pref_name gene_names  wildtype_or_mutant  \\\n",
       "4538    P35367  HISTAMINE H1 RECEPTOR       HRH1                 NaN   \n",
       "4539    P35367  HISTAMINE H1 RECEPTOR       HRH1                 NaN   \n",
       "4540    P35367  HISTAMINE H1 RECEPTOR       HRH1                 NaN   \n",
       "\n",
       "      mutation_info   pubmed_id standard_type standard_relation  \\\n",
       "4538            NaN   6146381.0            Ki                 =   \n",
       "4539            NaN  11809864.0            Ki                 =   \n",
       "4540            NaN  12065734.0            Ki                 =   \n",
       "\n",
       "      standard_value standard_units activity_comment ep_action_mode  \\\n",
       "4538         1200.00             NM              NaN            NaN   \n",
       "4539            2.51             NM              NaN            NaN   \n",
       "4540          211.00             NM              NaN            NaN   \n",
       "\n",
       "     assay_format assaytype  assay_subtype  inhibitor_type  detection_tech  \\\n",
       "4538          NaN       NaN            NaN             NaN             NaN   \n",
       "4539          NaN       NaN            NaN             NaN             NaN   \n",
       "4540          NaN       NaN            NaN             NaN             NaN   \n",
       "\n",
       "     assay_cell_line  compound_concentration_value  \\\n",
       "4538             NaN                           NaN   \n",
       "4539             NaN                           NaN   \n",
       "4540             NaN                           NaN   \n",
       "\n",
       "      compound_concentration_value_unit  substrate_type  substrate_relation  \\\n",
       "4538                                NaN             NaN                 NaN   \n",
       "4539                                NaN             NaN                 NaN   \n",
       "4540                                NaN             NaN                 NaN   \n",
       "\n",
       "      substrate_value  substrate_units assay_description title journal  \\\n",
       "4538              NaN              NaN               NaN   NaN     NaN   \n",
       "4539              NaN              NaN               NaN   NaN     NaN   \n",
       "4540              NaN              NaN               NaN   NaN     NaN   \n",
       "\n",
       "     doc_type  annotation_comments  pDTC_Value SMILES  \n",
       "4538      NaN                  NaN    5.920819    NaN  \n",
       "4539      NaN                  NaN    8.600326    NaN  \n",
       "4540      NaN                  NaN    6.675718    NaN  "
      ]
     },
     "execution_count": 55,
     "metadata": {},
     "output_type": "execute_result"
    }
   ],
   "source": [
    "dtc[dtc.SMILES.isna()].head(3)"
   ]
  },
  {
   "cell_type": "markdown",
   "metadata": {
    "id": "WVefoYj_yH7W"
   },
   "source": [
    "# Save partially curated files"
   ]
  },
  {
   "cell_type": "code",
   "execution_count": 56,
   "metadata": {
    "id": "V23GEXvdyRQ_"
   },
   "outputs": [],
   "source": [
    "chembl.to_csv('HRH1_ChEMBL_sel.csv')"
   ]
  },
  {
   "cell_type": "code",
   "execution_count": 57,
   "metadata": {
    "id": "L62QjKqsyRQ_"
   },
   "outputs": [],
   "source": [
    "## If you have completed curating DTC and ExCAPE-DB, you can save them with the following command:"
   ]
  },
  {
   "cell_type": "code",
   "execution_count": 58,
   "metadata": {
    "id": "WEB7lR-oyRRA"
   },
   "outputs": [],
   "source": [
    "dtc.to_csv('HRH1_DTC_sel.csv')\n",
    "excape.to_csv('HRH1_Excape_sel.csv')"
   ]
  },
  {
   "cell_type": "code",
   "execution_count": 59,
   "metadata": {
    "colab": {
     "base_uri": "https://localhost:8080/"
    },
    "id": "rPKpeth1yRRA",
    "outputId": "121432cb-9670-4ffc-c8bb-a12262f9607f"
   },
   "outputs": [
    {
     "name": "stdout",
     "output_type": "stream",
     "text": [
      "Sat Sep 18 12:48:39 UTC 2021\n"
     ]
    }
   ],
   "source": [
    "!date"
   ]
  }
 ],
 "metadata": {
  "accelerator": "GPU",
  "colab": {
   "collapsed_sections": [],
   "include_colab_link": true,
   "name": "AMPL_FNL_Wrshp2_1.ipynb",
   "provenance": []
  },
  "environment": {
   "name": "common-cu110.m69",
   "type": "gcloud",
   "uri": "gcr.io/deeplearning-platform-release/base-cu110:m69"
  },
  "kernelspec": {
   "display_name": "Python 3",
   "language": "python",
   "name": "python3"
  },
  "language_info": {
   "codemirror_mode": {
    "name": "ipython",
    "version": 3
   },
   "file_extension": ".py",
   "mimetype": "text/x-python",
   "name": "python",
   "nbconvert_exporter": "python",
   "pygments_lexer": "ipython3",
   "version": "3.7.2"
  }
 },
 "nbformat": 4,
 "nbformat_minor": 4
}
