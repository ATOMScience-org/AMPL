{
 "cells": [
  {
   "cell_type": "markdown",
   "metadata": {
    "colab_type": "text",
    "id": "view-in-github"
   },
   "source": [
    "<a href=\"https://colab.research.google.com/github/ATOMScience-org/AMPL/blob/Tutorials/atomsci/ddm/examples/tutorials/00_BasicCOLAB_Tutorial.ipynb\" target=\"_parent\"><img src=\"https://colab.research.google.com/assets/colab-badge.svg\" alt=\"Open In Colab\"/></a>"
   ]
  },
  {
   "cell_type": "markdown",
   "metadata": {
    "id": "4DBgYLbPH2Zm"
   },
   "source": [
    "<h1>AMPL Using COLAB: Basic Introduction to Google COLAB</h1>\n",
    "\n",
    "The ATOM Modeling PipeLine (AMPL; https://github.com/ATOMScience-org/AMPL) is an open-source, modular, extensible software pipeline for building and sharing models to advance in silico drug discovery.\n",
    "\n",
    "**Warning: This is an experimental notebook**\n",
    "\n",
    "This notebook will provide basic introduction to Google COLAB environment. \n",
    "---\n",
    "\n"
   ]
  },
  {
   "cell_type": "markdown",
   "metadata": {
    "id": "9lro3Vjc8-qj"
   },
   "source": [
    "## COLAB *environment*"
   ]
  },
  {
   "cell_type": "markdown",
   "metadata": {
    "id": "YQpwPdwsDFJu"
   },
   "source": [
    "* **Main requirement: GMAIL account**\n",
    "* COLAB is a VM on the cloud\n",
    "* You get 12 hours for one session. But, if a session is idle for 20 minutes, it can disconnect. \n",
    "* Hardware\n",
    "  - Navigate to Runtime -> Change Runtime to select TPU or GPU \n",
    "  - GPU: Nvidia K80s, T4s, P4s and P100s (no option to request a specific GPU in the free version. Check COLAB Pro)\n",
    "  - TPU: Tensor Processer Unit\n",
    "\n",
    "Make sure to turn on GPU/TPU as the runtype before begin running the notebook "
   ]
  },
  {
   "cell_type": "markdown",
   "metadata": {
    "id": "Tms4HGclFFBl"
   },
   "source": [
    "**Runtime environments**\n",
    "\n",
    "CPU vs TPU vs GPU\n",
    "\n",
    "https://colab.research.google.com/github/zaidalyafeai/Notebooks/blob/master/GPUvsTPU.ipynb#scrollTo=5moeHHv4shGw"
   ]
  },
  {
   "cell_type": "markdown",
   "metadata": {
    "id": "94UHQ6agBwuK"
   },
   "source": [
    "## Explore System settings"
   ]
  },
  {
   "cell_type": "markdown",
   "metadata": {
    "id": "EOAbKoEW7T3L"
   },
   "source": [
    "\n",
    "\n",
    "*   Ubuntu 18.94.3 LTS \n",
    "*   Single core, Intel Xeon CPU 2.3 GHz\n",
    "*   Memory: 13.6 GB \n",
    "*   Accelerator: TPU and GPU support \n",
    "\n"
   ]
  },
  {
   "cell_type": "code",
   "execution_count": null,
   "metadata": {
    "colab": {
     "base_uri": "https://localhost:8080/"
    },
    "id": "PEFD3frj4oYc",
    "outputId": "6f431d94-93ad-4db6-cc80-832eb4d501f6"
   },
   "outputs": [
    {
     "name": "stdout",
     "output_type": "stream",
     "text": [
      "Ubuntu 18.04.5 LTS \\n \\l\n",
      "\n"
     ]
    }
   ],
   "source": [
    "! cat /etc/issue"
   ]
  },
  {
   "cell_type": "code",
   "execution_count": null,
   "metadata": {
    "colab": {
     "base_uri": "https://localhost:8080/"
    },
    "id": "8dgUSUBT4q31",
    "outputId": "9e574533-f888-4e7b-ec8a-432c8a2caa1e"
   },
   "outputs": [
    {
     "name": "stdout",
     "output_type": "stream",
     "text": [
      "processor\t: 0\n",
      "processor\t: 1\n",
      "processor\t: 2\n",
      "processor\t: 3\n"
     ]
    }
   ],
   "source": [
    "!cat /proc/cpu* | grep proc*"
   ]
  },
  {
   "cell_type": "code",
   "execution_count": null,
   "metadata": {
    "colab": {
     "base_uri": "https://localhost:8080/"
    },
    "id": "xb93MXXz4snS",
    "outputId": "886be2b4-6989-4708-cdd7-e491c2b51da9"
   },
   "outputs": [
    {
     "name": "stdout",
     "output_type": "stream",
     "text": [
      "core id\t\t: 0\n",
      "core id\t\t: 1\n",
      "core id\t\t: 0\n",
      "core id\t\t: 1\n"
     ]
    }
   ],
   "source": [
    "!cat /proc/cpu* | grep 'core id'"
   ]
  },
  {
   "cell_type": "code",
   "execution_count": null,
   "metadata": {
    "colab": {
     "base_uri": "https://localhost:8080/"
    },
    "id": "vrgjXekt4uKJ",
    "outputId": "99405d16-d47b-4b4a-843a-05331ee46e46"
   },
   "outputs": [
    {
     "name": "stdout",
     "output_type": "stream",
     "text": [
      "Linux version 4.19.112+ (builder@a12462ca91c8) (Chromium OS 10.0_pre377782_p20200113-r10 clang version 10.0.0 (/var/cache/chromeos-cache/distfiles/host/egit-src/llvm-project 4e8231b5cf0f5f62c7a51a857e29f5be5cb55734)) #1 SMP Thu Jul 23 08:00:38 PDT 2020\n"
     ]
    }
   ],
   "source": [
    "!cat /proc/version   "
   ]
  },
  {
   "cell_type": "code",
   "execution_count": null,
   "metadata": {
    "colab": {
     "base_uri": "https://localhost:8080/"
    },
    "id": "g3kUz6U14vbx",
    "outputId": "0c8d27d9-ed78-401b-e458-de518b0e3534"
   },
   "outputs": [
    {
     "name": "stdout",
     "output_type": "stream",
     "text": [
      "processor\t: 0\n",
      "vendor_id\t: GenuineIntel\n",
      "cpu family\t: 6\n",
      "model\t\t: 63\n",
      "model name\t: Intel(R) Xeon(R) CPU @ 2.30GHz\n",
      "stepping\t: 0\n",
      "microcode\t: 0x1\n",
      "cpu MHz\t\t: 2299.998\n",
      "cache size\t: 46080 KB\n",
      "physical id\t: 0\n",
      "siblings\t: 4\n",
      "core id\t\t: 0\n",
      "cpu cores\t: 2\n",
      "apicid\t\t: 0\n",
      "initial apicid\t: 0\n",
      "fpu\t\t: yes\n",
      "fpu_exception\t: yes\n",
      "cpuid level\t: 13\n",
      "wp\t\t: yes\n",
      "flags\t\t: fpu vme de pse tsc msr pae mce cx8 apic sep mtrr pge mca cmov pat pse36 clflush mmx fxsr sse sse2 ss ht syscall nx pdpe1gb rdtscp lm constant_tsc rep_good nopl xtopology nonstop_tsc cpuid tsc_known_freq pni pclmulqdq ssse3 fma cx16 pcid sse4_1 sse4_2 x2apic movbe popcnt aes xsave avx f16c rdrand hypervisor lahf_lm abm invpcid_single ssbd ibrs ibpb stibp fsgsbase tsc_adjust bmi1 avx2 smep bmi2 erms invpcid xsaveopt arat md_clear arch_capabilities\n",
      "bugs\t\t: cpu_meltdown spectre_v1 spectre_v2 spec_store_bypass l1tf mds swapgs\n",
      "bogomips\t: 4599.99\n",
      "clflush size\t: 64\n",
      "cache_alignment\t: 64\n",
      "address sizes\t: 46 bits physical, 48 bits virtual\n",
      "power management:\n",
      "\n",
      "processor\t: 1\n",
      "vendor_id\t: GenuineIntel\n",
      "cpu family\t: 6\n",
      "model\t\t: 63\n",
      "model name\t: Intel(R) Xeon(R) CPU @ 2.30GHz\n",
      "stepping\t: 0\n",
      "microcode\t: 0x1\n",
      "cpu MHz\t\t: 2299.998\n",
      "cache size\t: 46080 KB\n",
      "physical id\t: 0\n",
      "siblings\t: 4\n",
      "core id\t\t: 1\n",
      "cpu cores\t: 2\n",
      "apicid\t\t: 2\n",
      "initial apicid\t: 2\n",
      "fpu\t\t: yes\n",
      "fpu_exception\t: yes\n",
      "cpuid level\t: 13\n",
      "wp\t\t: yes\n",
      "flags\t\t: fpu vme de pse tsc msr pae mce cx8 apic sep mtrr pge mca cmov pat pse36 clflush mmx fxsr sse sse2 ss ht syscall nx pdpe1gb rdtscp lm constant_tsc rep_good nopl xtopology nonstop_tsc cpuid tsc_known_freq pni pclmulqdq ssse3 fma cx16 pcid sse4_1 sse4_2 x2apic movbe popcnt aes xsave avx f16c rdrand hypervisor lahf_lm abm invpcid_single ssbd ibrs ibpb stibp fsgsbase tsc_adjust bmi1 avx2 smep bmi2 erms invpcid xsaveopt arat md_clear arch_capabilities\n",
      "bugs\t\t: cpu_meltdown spectre_v1 spectre_v2 spec_store_bypass l1tf mds swapgs\n",
      "bogomips\t: 4599.99\n",
      "clflush size\t: 64\n",
      "cache_alignment\t: 64\n",
      "address sizes\t: 46 bits physical, 48 bits virtual\n",
      "power management:\n",
      "\n",
      "processor\t: 2\n",
      "vendor_id\t: GenuineIntel\n",
      "cpu family\t: 6\n",
      "model\t\t: 63\n",
      "model name\t: Intel(R) Xeon(R) CPU @ 2.30GHz\n",
      "stepping\t: 0\n",
      "microcode\t: 0x1\n",
      "cpu MHz\t\t: 2299.998\n",
      "cache size\t: 46080 KB\n",
      "physical id\t: 0\n",
      "siblings\t: 4\n",
      "core id\t\t: 0\n",
      "cpu cores\t: 2\n",
      "apicid\t\t: 1\n",
      "initial apicid\t: 1\n",
      "fpu\t\t: yes\n",
      "fpu_exception\t: yes\n",
      "cpuid level\t: 13\n",
      "wp\t\t: yes\n",
      "flags\t\t: fpu vme de pse tsc msr pae mce cx8 apic sep mtrr pge mca cmov pat pse36 clflush mmx fxsr sse sse2 ss ht syscall nx pdpe1gb rdtscp lm constant_tsc rep_good nopl xtopology nonstop_tsc cpuid tsc_known_freq pni pclmulqdq ssse3 fma cx16 pcid sse4_1 sse4_2 x2apic movbe popcnt aes xsave avx f16c rdrand hypervisor lahf_lm abm invpcid_single ssbd ibrs ibpb stibp fsgsbase tsc_adjust bmi1 avx2 smep bmi2 erms invpcid xsaveopt arat md_clear arch_capabilities\n",
      "bugs\t\t: cpu_meltdown spectre_v1 spectre_v2 spec_store_bypass l1tf mds swapgs\n",
      "bogomips\t: 4599.99\n",
      "clflush size\t: 64\n",
      "cache_alignment\t: 64\n",
      "address sizes\t: 46 bits physical, 48 bits virtual\n",
      "power management:\n",
      "\n",
      "processor\t: 3\n",
      "vendor_id\t: GenuineIntel\n",
      "cpu family\t: 6\n",
      "model\t\t: 63\n",
      "model name\t: Intel(R) Xeon(R) CPU @ 2.30GHz\n",
      "stepping\t: 0\n",
      "microcode\t: 0x1\n",
      "cpu MHz\t\t: 2299.998\n",
      "cache size\t: 46080 KB\n",
      "physical id\t: 0\n",
      "siblings\t: 4\n",
      "core id\t\t: 1\n",
      "cpu cores\t: 2\n",
      "apicid\t\t: 3\n",
      "initial apicid\t: 3\n",
      "fpu\t\t: yes\n",
      "fpu_exception\t: yes\n",
      "cpuid level\t: 13\n",
      "wp\t\t: yes\n",
      "flags\t\t: fpu vme de pse tsc msr pae mce cx8 apic sep mtrr pge mca cmov pat pse36 clflush mmx fxsr sse sse2 ss ht syscall nx pdpe1gb rdtscp lm constant_tsc rep_good nopl xtopology nonstop_tsc cpuid tsc_known_freq pni pclmulqdq ssse3 fma cx16 pcid sse4_1 sse4_2 x2apic movbe popcnt aes xsave avx f16c rdrand hypervisor lahf_lm abm invpcid_single ssbd ibrs ibpb stibp fsgsbase tsc_adjust bmi1 avx2 smep bmi2 erms invpcid xsaveopt arat md_clear arch_capabilities\n",
      "bugs\t\t: cpu_meltdown spectre_v1 spectre_v2 spec_store_bypass l1tf mds swapgs\n",
      "bogomips\t: 4599.99\n",
      "clflush size\t: 64\n",
      "cache_alignment\t: 64\n",
      "address sizes\t: 46 bits physical, 48 bits virtual\n",
      "power management:\n",
      "\n"
     ]
    }
   ],
   "source": [
    "!cat /proc/cpuinfo  # Intel Xeon CPU 2.3 GHz, 1 CPU core"
   ]
  },
  {
   "cell_type": "code",
   "execution_count": null,
   "metadata": {
    "colab": {
     "base_uri": "https://localhost:8080/"
    },
    "id": "dsa9Sr1FUU-5",
    "outputId": "267d81b6-4df8-456b-8585-f86dc35b5703"
   },
   "outputs": [
    {
     "name": "stdout",
     "output_type": "stream",
     "text": [
      "MemTotal:       26751704 kB\n",
      "MemFree:        23971132 kB\n",
      "MemAvailable:   25739064 kB\n",
      "Buffers:          102612 kB\n",
      "Cached:          1889620 kB\n",
      "SwapCached:            0 kB\n",
      "Active:           973268 kB\n",
      "Inactive:        1425828 kB\n",
      "Active(anon):     378772 kB\n",
      "Inactive(anon):      412 kB\n",
      "Active(file):     594496 kB\n",
      "Inactive(file):  1425416 kB\n",
      "Unevictable:           0 kB\n",
      "Mlocked:               0 kB\n",
      "SwapTotal:             0 kB\n",
      "SwapFree:              0 kB\n",
      "Dirty:              9496 kB\n",
      "Writeback:             0 kB\n",
      "AnonPages:        406600 kB\n",
      "Mapped:           216484 kB\n",
      "Shmem:              1008 kB\n",
      "Slab:             202692 kB\n",
      "SReclaimable:     141588 kB\n",
      "SUnreclaim:        61104 kB\n",
      "KernelStack:        4896 kB\n",
      "PageTables:         5772 kB\n",
      "NFS_Unstable:          0 kB\n",
      "Bounce:                0 kB\n",
      "WritebackTmp:          0 kB\n",
      "CommitLimit:    13375852 kB\n",
      "Committed_AS:    3443592 kB\n",
      "VmallocTotal:   34359738367 kB\n",
      "VmallocUsed:           0 kB\n",
      "VmallocChunk:          0 kB\n",
      "Percpu:             2096 kB\n",
      "AnonHugePages:         0 kB\n",
      "ShmemHugePages:        0 kB\n",
      "ShmemPmdMapped:        0 kB\n",
      "HugePages_Total:       0\n",
      "HugePages_Free:        0\n",
      "HugePages_Rsvd:        0\n",
      "HugePages_Surp:        0\n",
      "Hugepagesize:       2048 kB\n",
      "Hugetlb:               0 kB\n",
      "DirectMap4k:      146636 kB\n",
      "DirectMap2M:     4046848 kB\n",
      "DirectMap1G:    25165824 kB\n"
     ]
    }
   ],
   "source": [
    "!cat /proc/meminfo  # 13 GB "
   ]
  },
  {
   "cell_type": "markdown",
   "metadata": {
    "id": "oM_8ELnJq_wd"
   },
   "source": [
    "## Enabling/testing   (code taken from Google COLAB)\n",
    "\n",
    "First, you have to enable GPUs for the notebook:\n",
    "\n",
    "- Go to Edit→Notebook Settings\n",
    "- select GPU from the Hardware Accelerator drop-down\n",
    "\n",
    "Now, let us check whether we can connect to the GPU with tensorflow:"
   ]
  },
  {
   "cell_type": "code",
   "execution_count": null,
   "metadata": {
    "colab": {
     "base_uri": "https://localhost:8080/"
    },
    "id": "sXnDmXR7RDr2",
    "outputId": "4fb6b408-bfdc-4a7a-f226-57f88f01335e"
   },
   "outputs": [
    {
     "name": "stdout",
     "output_type": "stream",
     "text": [
      "Found GPU at: /device:GPU:0\n"
     ]
    }
   ],
   "source": [
    "%tensorflow_version 2.x\n",
    "import tensorflow as tf\n",
    "device_name = tf.test.gpu_device_name()\n",
    "if device_name != '/device:GPU:0':\n",
    "  raise SystemError('GPU device not found')\n",
    "print('Found GPU at: {}'.format(device_name))"
   ]
  },
  {
   "cell_type": "markdown",
   "metadata": {
    "id": "v3fE7KmKRDsH"
   },
   "source": [
    "## Speedup CPU/GPU comparison using TensorFlow\n",
    "\n",
    "\"This example constructs a typical convolutional neural network layer over a\n",
    "random image and manually places the resulting ops on either the CPU or the GPU\n",
    "to compare execution speed.\" (taken from Google COLAB tutorial)"
   ]
  },
  {
   "cell_type": "code",
   "execution_count": null,
   "metadata": {
    "colab": {
     "base_uri": "https://localhost:8080/"
    },
    "id": "Y04m-jvKRDsJ",
    "outputId": "aeb28571-034b-4ada-bfdf-a376a0ec4946"
   },
   "outputs": [
    {
     "name": "stdout",
     "output_type": "stream",
     "text": [
      "Time (s) to convolve 32x7x7x3 filter over random 100x100x100x3 images (batch x height x width x channel). Sum of ten runs.\n",
      "CPU (s):\n"
     ]
    }
   ],
   "source": [
    "%tensorflow_version 2.x\n",
    "import tensorflow as tf\n",
    "import timeit\n",
    "\n",
    "device_name = tf.test.gpu_device_name()\n",
    "if device_name != '/device:GPU:0':\n",
    "  print(\n",
    "      '\\n\\nThis error most likely means that this notebook is not '\n",
    "      'configured to use a GPU.  Change this in Notebook Settings via the '\n",
    "      'command palette (cmd/ctrl-shift-P) or the Edit menu.\\n\\n')\n",
    "  raise SystemError('GPU device not found')\n",
    "\n",
    "def cpu():\n",
    "  with tf.device('/cpu:0'):\n",
    "    random_image_cpu = tf.random.normal((100, 100, 100, 3))\n",
    "    net_cpu = tf.keras.layers.Conv2D(32, 7)(random_image_cpu)\n",
    "    return tf.math.reduce_sum(net_cpu)\n",
    "\n",
    "def gpu():\n",
    "  with tf.device('/device:GPU:0'):\n",
    "    random_image_gpu = tf.random.normal((100, 100, 100, 3))\n",
    "    net_gpu = tf.keras.layers.Conv2D(32, 7)(random_image_gpu)\n",
    "    return tf.math.reduce_sum(net_gpu)\n",
    "  \n",
    "# We run each op once to warm up; see: https://stackoverflow.com/a/45067900\n",
    "cpu()\n",
    "gpu()\n",
    "\n",
    "# Run the op several times.\n",
    "print('Time (s) to convolve 32x7x7x3 filter over random 100x100x100x3 images '\n",
    "      '(batch x height x width x channel). Sum of ten runs.')\n",
    "print('CPU (s):')\n",
    "cpu_time = timeit.timeit('cpu()', number=10, setup=\"from __main__ import cpu\")\n",
    "print(cpu_time)\n",
    "print('GPU (s):')\n",
    "gpu_time = timeit.timeit('gpu()', number=10, setup=\"from __main__ import gpu\")\n",
    "print(gpu_time)\n",
    "print('GPU speedup over CPU: {}x'.format(int(cpu_time/gpu_time)))"
   ]
  },
  {
   "cell_type": "markdown",
   "metadata": {
    "id": "rSyhFClBFWOm"
   },
   "source": [
    "## COLAB CODE snippets\n",
    "\n",
    "Code snippet templates are available from the left-hand side menu ( look for < > ) \n",
    "Here are a couple of sample visualization code chunks using Altair, https://altair-viz.github.io/ "
   ]
  },
  {
   "cell_type": "code",
   "execution_count": null,
   "metadata": {
    "id": "WRxbQeXEEAEr"
   },
   "outputs": [],
   "source": [
    "# load an example dataset\n",
    "from vega_datasets import data\n",
    "cars = data.cars()\n",
    "\n",
    "import altair as alt\n",
    "\n",
    "interval = alt.selection_interval()\n",
    "\n",
    "alt.Chart(cars).mark_point().encode(\n",
    "  x='Horsepower',\n",
    "  y='Miles_per_Gallon',\n",
    "  color=alt.condition(interval, 'Origin', alt.value('lightgray'))\n",
    ").properties(\n",
    "  selection=interval\n",
    ")"
   ]
  },
  {
   "cell_type": "markdown",
   "metadata": {
    "id": "665GTk4D4SKL"
   },
   "source": [
    "## You can uncomment the following code block to mount your Google Drive"
   ]
  },
  {
   "cell_type": "code",
   "execution_count": null,
   "metadata": {
    "id": "W52Wak1VwhCj"
   },
   "outputs": [],
   "source": [
    "# from google.colab import drive\n",
    "# drive.mount('/content/drive')"
   ]
  },
  {
   "cell_type": "code",
   "execution_count": null,
   "metadata": {
    "id": "voVznuW-wW1y"
   },
   "outputs": [],
   "source": [
    "# load an example dataset\n",
    "from vega_datasets import data\n",
    "cars = data.cars()\n",
    "\n",
    "# plot the dataset, referencing dataframe column names\n",
    "import altair as alt\n",
    "alt.Chart(cars).mark_bar().encode(\n",
    "  x='mean(Miles_per_Gallon)',\n",
    "  y='Origin',\n",
    "  color='Origin'\n",
    ")"
   ]
  },
  {
   "cell_type": "code",
   "execution_count": null,
   "metadata": {
    "id": "-ZjmwA4XBdZ0"
   },
   "outputs": [],
   "source": [
    "# load an example dataset\n",
    "from vega_datasets import data\n",
    "cars = data.cars()\n",
    "\n",
    "import altair as alt\n",
    "\n",
    "interval = alt.selection_interval()\n",
    "\n",
    "points = alt.Chart(cars).mark_point().encode(\n",
    "  x='Horsepower',\n",
    "  y='Miles_per_Gallon',\n",
    "  color=alt.condition(interval, 'Origin', alt.value('lightgray'))\n",
    ").properties(\n",
    "  selection=interval\n",
    ")\n",
    "\n",
    "histogram = alt.Chart(cars).mark_bar().encode(\n",
    "  x='count()',\n",
    "  y='Origin',\n",
    "  color='Origin'\n",
    ").transform_filter(interval)\n",
    "\n",
    "points & histogram"
   ]
  },
  {
   "cell_type": "markdown",
   "metadata": {
    "id": "xGoLpR-1CF6k"
   },
   "source": [
    "## Exploring COLAB file system"
   ]
  },
  {
   "cell_type": "markdown",
   "metadata": {
    "id": "7t1-RgWjCc1G"
   },
   "source": [
    "When you start your notebook, your home directory will be `/content` "
   ]
  },
  {
   "cell_type": "code",
   "execution_count": null,
   "metadata": {
    "id": "VtcZydpx5tZc"
   },
   "outputs": [],
   "source": [
    "!pwd"
   ]
  },
  {
   "cell_type": "code",
   "execution_count": null,
   "metadata": {
    "id": "W26kkDLuCNrW"
   },
   "outputs": [],
   "source": [
    "# COLAB version of Python \n",
    "!python --version\n",
    "!which python"
   ]
  },
  {
   "cell_type": "markdown",
   "metadata": {
    "id": "UGI0xS5p5VzI"
   },
   "source": [
    "## What modules are available via Pip"
   ]
  },
  {
   "cell_type": "code",
   "execution_count": null,
   "metadata": {
    "id": "1zTRzXTos2Xo"
   },
   "outputs": [],
   "source": [
    "!pip freeze | head -15"
   ]
  },
  {
   "cell_type": "code",
   "execution_count": null,
   "metadata": {
    "id": "ImIeY80v5Kab"
   },
   "outputs": [],
   "source": []
  }
 ],
 "metadata": {
  "accelerator": "GPU",
  "colab": {
   "collapsed_sections": [],
   "include_colab_link": true,
   "machine_shape": "hm",
   "name": "00_BasicCOLAB_Tutorial.ipynb",
   "provenance": []
  },
  "kernelspec": {
   "display_name": "Python 3",
   "language": "python",
   "name": "python3"
  },
  "language_info": {
   "codemirror_mode": {
    "name": "ipython",
    "version": 3
   },
   "file_extension": ".py",
   "mimetype": "text/x-python",
   "name": "python",
   "nbconvert_exporter": "python",
   "pygments_lexer": "ipython3",
   "version": "3.7.2"
  }
 },
 "nbformat": 4,
 "nbformat_minor": 4
}
