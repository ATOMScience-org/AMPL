{
 "cells": [
  {
   "cell_type": "markdown",
   "id": "208ed0d8",
   "metadata": {},
   "source": [
    "# Train a Production Model\n",
    "\n",
    "In this tutorial, you will use the existing hyperparameters that yielded the best performing model in the previous **Tutorial 6, \"Compare models to select the best hyperparameters\"** to train a production model on the full dataset, rather than just the training subset from a **scaffold split**. Training a model on the full dataset is one approach for creating a production model. Another approach, not demonstrated in this tutorial, is to combine the training and validation subsets for training and evaluating with the test subset. **[K-fold cross validation](https://en.wikipedia.org/wiki/Cross-validation_\\(statistics\\)#k-fold_cross-validation)** makes use of this approach. The production model could be shared with other researchers to predict on new data. \n",
    "\n",
    "We will use the functions below to retrain the best original model for production and compare the production model with the original model. **We use the word \"retrain\" here to describe \n",
    "creating a new model based on the same hyperparameters; retraining doesn't replace the existing model.** \n",
    "\n",
    "We will use functions covered in **Tutorial 3, \"Train a Simple Regression Model\"** to evaluate the original and production models on an external test dataset.\n",
    "\n",
    "We will focus on these functions in this tutorial:\n",
    "\n",
    "- [create_prediction_pipeline_from_file](https://ampl.readthedocs.io/en/latest/pipeline.html#pipeline.model_pipeline.create_prediction_pipeline_from_file)\n",
    "- [train_model_from_tar](https://ampl.readthedocs.io/en/latest/utils.html#utils.model_retrain.train_model_from_tar)"
   ]
  },
  {
   "cell_type": "markdown",
   "id": "1dc6947f",
   "metadata": {},
   "source": [
    ">**Notes:**\n",
    ">\n",
    ">*1. `train_model_from_tar` and other functions in the `model_retrain` module can be used to update a previously trained model when there is a new **[AMPL](https://github.com/ATOMScience-org/AMPL)** release that is not compatible with previous versions. This is not covered in this tutorial.*\n",
    ">\n",
    ">*2. When a model input dataset is updated with additional data, the model should be trained from scratch with a new hyperparameter optimization run; *then* a new version of the production model can be generated*. "
   ]
  },
  {
   "cell_type": "markdown",
   "id": "254fc8be",
   "metadata": {},
   "source": [
    "## Import Packages"
   ]
  },
  {
   "cell_type": "code",
   "execution_count": 1,
   "id": "5ec4c370",
   "metadata": {},
   "outputs": [
    {
     "name": "stderr",
     "output_type": "stream",
     "text": [
      "WARNING:deepchem.models:Skipped loading some Jax models, missing a dependency. No module named 'haiku'\n",
      "WARNING:atomsci.ddm.utils.model_retrain:Model tracker client not supported in your environment; will save models in filesystem only.\n"
     ]
    }
   ],
   "source": [
    "import pandas as pd\n",
    "import os\n",
    "from atomsci.ddm.utils import model_retrain as mr\n",
    "from atomsci.ddm.utils import model_version_utils as mv\n",
    "from atomsci.ddm.pipeline import model_pipeline as mp\n",
    "from atomsci.ddm.pipeline import predict_from_model as pfm\n",
    "from atomsci.ddm.pipeline import perf_plots as pp\n",
    "from sklearn.metrics import r2_score\n",
    "import numpy as np\n",
    "import matplotlib.pyplot as plt\n",
    "\n",
    "import warnings\n",
    "warnings.filterwarnings('ignore', category=FutureWarning)"
   ]
  },
  {
   "cell_type": "markdown",
   "id": "1ddf9c33",
   "metadata": {},
   "source": [
    "## Start From Saved Best Model\n",
    "\n",
    "We're using the best performing model by validation set $R^2$ from **Tutorial 6, \"Compare models to select the best hyperparameters\"**. This was a **random forest** model. The model path, validation set $R^2$\n",
    "and RF-specific parameters were as follows:\n",
    "\n",
    "|Parameter|Value|\n",
    "|---|---|\n",
    "|Model Path|dataset/SLC6A3_models/SLC6A3_Ki_curated_model_9b6c9332-15f3-4f96-9579-bf407d0b69a8.tar.gz|\n",
    "|Best valid r2 score| 0.5595899501867392|\n",
    "|Model Parameters|{\"rf_estimators\": 129, \"rf_max_depth\": 32, \"rf_max_features\": 95}|\n",
    "\n",
    "When you load a previously trained model, either for running predictions or retraining, the parameters used to train the model are obtained from a file called 'model_metadata.json' that is stored\n",
    "in the model's .tar.gz file. The `production` parameter controls whether the data is split into training, validation and test sets. During normal training and hyperparameter optimization, the \n",
    "`production` parameter is set False; setting it True causes all splitting related parameters to be ignored. When you call `train_model_from_tar` with the `production` argument set True, the code\n",
    "overrides the `production` parameter in the model parameters to set it True, so that all the data is used for training.\n",
    "\n",
    "In the following code, `create_prediction_pipeline_from_file` is used to reload the original best model. We then verify that it was trained with `production` set to `False`. \n",
    "\n",
    "We also check the **[AMPL](https://github.com/ATOMScience-org/AMPL)** version to make sure the saved model was trained with a version of **[AMPL](https://github.com/ATOMScience-org/AMPL)** that is compatible with the installed version. The versions must be compatible in order to be used by `create_prediction_pipeline_from_file`, which we will be calling later to run predictions from the saved model."
   ]
  },
  {
   "cell_type": "code",
   "execution_count": 2,
   "id": "a358aa53",
   "metadata": {},
   "outputs": [
    {
     "name": "stderr",
     "output_type": "stream",
     "text": [
      "INFO:atomsci.ddm.utils.model_version_utils:dataset/SLC6A3_models/SLC6A3_Ki_curated_model_9b6c9332-15f3-4f96-9579-bf407d0b69a8.tar.gz, 1.6.0\n",
      "INFO:atomsci.ddm.utils.model_version_utils:dataset/SLC6A3_models/SLC6A3_Ki_curated_model_9b6c9332-15f3-4f96-9579-bf407d0b69a8.tar.gz, 1.6.0\n",
      "INFO:atomsci.ddm.utils.model_version_utils:Version compatible check: dataset/SLC6A3_models/SLC6A3_Ki_curated_model_9b6c9332-15f3-4f96-9579-bf407d0b69a8.tar.gz version = \"1.6\", AMPL version = \"1.6\"\n",
      "INFO:atomsci.ddm.utils.model_version_utils:dataset/SLC6A3_models/SLC6A3_Ki_curated_model_9b6c9332-15f3-4f96-9579-bf407d0b69a8.tar.gz, 1.6.0\n",
      "INFO:atomsci.ddm.utils.model_version_utils:Version compatible check: dataset/SLC6A3_models/SLC6A3_Ki_curated_model_9b6c9332-15f3-4f96-9579-bf407d0b69a8.tar.gz version = \"1.6\", AMPL version = \"1.6\"\n"
     ]
    },
    {
     "name": "stdout",
     "output_type": "stream",
     "text": [
      "installed AMPL version: 1.6.1\n",
      "best model AMPL version: 1.6.0\n",
      "orig_params.production: False\n"
     ]
    }
   ],
   "source": [
    "#Tutorial 7 RF saved model_path\n",
    "best_model_path='dataset/SLC6A3_models/SLC6A3_Ki_curated_model_9b6c9332-15f3-4f96-9579-bf407d0b69a8.tar.gz'\n",
    "\n",
    "#get installed AMPL version\n",
    "print(\"installed AMPL version: \" + str(mv.get_ampl_version()))\n",
    "\n",
    "#get AMPL model version\n",
    "print(\"best model AMPL version: \" + str(mv.get_ampl_version_from_model(best_model_path)))\n",
    "\n",
    "# check versions are compatible\n",
    "assert(mv.check_version_compatible(best_model_path))\n",
    "\n",
    "#load best model production params\n",
    "best_model_pipe = mp.create_prediction_pipeline_from_file(params=None, reload_dir=None, model_path=best_model_path, model_type='best_model', featurization=None, verbose=False)\n",
    "\n",
    "#show production is false\n",
    "print(\"orig_params.production: \" + str(best_model_pipe.orig_params.production))"
   ]
  },
  {
   "cell_type": "markdown",
   "id": "52d032a9",
   "metadata": {},
   "source": [
    "## Retrain Best Model as Production Model\n",
    "\n",
    "Setting the `production` argument for `train_model_from_tar` to `True` will set `production=True` in the model params. If the `production` argument for `train_model_from_tar` is `False`, the model will be retrained without changing any parameters. Note the production model's model parameter `production` is set to `True`."
   ]
  },
  {
   "cell_type": "code",
   "execution_count": 3,
   "id": "447740de",
   "metadata": {},
   "outputs": [
    {
     "name": "stderr",
     "output_type": "stream",
     "text": [
      "INFO:atomsci.ddm.utils.model_version_utils:dataset/SLC6A3_models/SLC6A3_Ki_curated_model_4f266a2a-64ce-46fd-9c43-d2f14720f788.tar.gz, 1.6.1\n"
     ]
    },
    {
     "name": "stdout",
     "output_type": "stream",
     "text": [
      "production_model.params.production: True\n",
      "production_model.params.model_tarball_path: dataset/SLC6A3_models/SLC6A3_Ki_curated_model_4f266a2a-64ce-46fd-9c43-d2f14720f788.tar.gz\n",
      "production model AMPL version: 1.6.1\n"
     ]
    }
   ],
   "source": [
    "odir='dataset/SLC6A3_models'\n",
    "\n",
    "production_model = mr.train_model_from_tar(input=best_model_path, output=odir, production=True)\n",
    "\n",
    "#check for parameters\n",
    "print(\"production_model.params.production: \" + str(production_model.params.production))\n",
    "print(\"production_model.params.model_tarball_path: \" + str(production_model.params.model_tarball_path))\n",
    "\n",
    "print(\"production model AMPL version: \" + str(mv.get_ampl_version_from_model(production_model.params.model_tarball_path)))"
   ]
  },
  {
   "cell_type": "markdown",
   "id": "dddd8709",
   "metadata": {},
   "source": [
    "## Compare Performance on a Separate External Test Dataset\n",
    "\n",
    "Here we will apply **Tutorial 4, \"Application of a Trained Model\"**'s steps to run predictions with the original best model and the production model, using an independent dataset of \n",
    "compounds that are structurally different (with Tanimoto distance > 0.4) from all compounds in the production dataset. We use this approach\n",
    "to compare the performance of the two models. Since the production model is trained on all data, including the test subset, the original \n",
    "test subset **should not** be used to evaluate its performance.\n",
    "\n",
    "First we'll load the external test dataset, which we've already featurized with **[RDKit](https://github.com/rdkit/rdkit)** descriptors:"
   ]
  },
  {
   "cell_type": "code",
   "execution_count": 4,
   "id": "624990bc",
   "metadata": {},
   "outputs": [
    {
     "data": {
      "text/html": [
       "<div>\n",
       "<style scoped>\n",
       "    .dataframe tbody tr th:only-of-type {\n",
       "        vertical-align: middle;\n",
       "    }\n",
       "\n",
       "    .dataframe tbody tr th {\n",
       "        vertical-align: top;\n",
       "    }\n",
       "\n",
       "    .dataframe thead th {\n",
       "        text-align: right;\n",
       "    }\n",
       "</style>\n",
       "<table border=\"1\" class=\"dataframe\">\n",
       "  <thead>\n",
       "    <tr style=\"text-align: right;\">\n",
       "      <th></th>\n",
       "      <th>compound_id</th>\n",
       "      <th>base_rdkit_smiles</th>\n",
       "      <th>avg_pKi</th>\n",
       "    </tr>\n",
       "  </thead>\n",
       "  <tbody>\n",
       "    <tr>\n",
       "      <th>0</th>\n",
       "      <td>compound_346</td>\n",
       "      <td>OC(C[NH2+]C1CCC1)C1(c2ccc(Cl)c(Cl)c2)CCC1</td>\n",
       "      <td>7.958607</td>\n",
       "    </tr>\n",
       "    <tr>\n",
       "      <th>1</th>\n",
       "      <td>compound_225</td>\n",
       "      <td>CN1Cc2ccccc2C(C)(c2ccc3[nH]ncc3c2)C1</td>\n",
       "      <td>6.587660</td>\n",
       "    </tr>\n",
       "    <tr>\n",
       "      <th>2</th>\n",
       "      <td>compound_166</td>\n",
       "      <td>O=C(O)C(/C=C/c1ccccc1)C1CCN(CCOC(c2ccccc2)c2cc...</td>\n",
       "      <td>5.430275</td>\n",
       "    </tr>\n",
       "    <tr>\n",
       "      <th>3</th>\n",
       "      <td>compound_310</td>\n",
       "      <td>CN1Cc2cc(-c3cccnn3)ccc2C(C)(c2cc3ccccc3[nH]2)C1</td>\n",
       "      <td>6.000000</td>\n",
       "    </tr>\n",
       "    <tr>\n",
       "      <th>4</th>\n",
       "      <td>compound_284</td>\n",
       "      <td>CN1Cc2ccccc2C(F)(c2ccc3sccc3c2)C1</td>\n",
       "      <td>6.587660</td>\n",
       "    </tr>\n",
       "  </tbody>\n",
       "</table>\n",
       "</div>"
      ],
      "text/plain": [
       "    compound_id                                  base_rdkit_smiles   avg_pKi\n",
       "0  compound_346          OC(C[NH2+]C1CCC1)C1(c2ccc(Cl)c(Cl)c2)CCC1  7.958607\n",
       "1  compound_225               CN1Cc2ccccc2C(C)(c2ccc3[nH]ncc3c2)C1  6.587660\n",
       "2  compound_166  O=C(O)C(/C=C/c1ccccc1)C1CCN(CCOC(c2ccccc2)c2cc...  5.430275\n",
       "3  compound_310    CN1Cc2cc(-c3cccnn3)ccc2C(C)(c2cc3ccccc3[nH]2)C1  6.000000\n",
       "4  compound_284                  CN1Cc2ccccc2C(F)(c2ccc3sccc3c2)C1  6.587660"
      ]
     },
     "execution_count": 4,
     "metadata": {},
     "output_type": "execute_result"
    }
   ],
   "source": [
    "test_file_path = 'dataset/scaled_descriptors/SLC6A3_Ki_ext_test_data_with_rdkit_raw_descriptors.csv'\n",
    "test_data = pd.read_csv(test_file_path)\n",
    "\n",
    "# show most important columns\n",
    "test_data[['compound_id', 'base_rdkit_smiles', 'avg_pKi']].head()"
   ]
  },
  {
   "cell_type": "markdown",
   "id": "52d78fb0",
   "metadata": {},
   "source": [
    "We now predict $pK_i$ values with the original best model:"
   ]
  },
  {
   "cell_type": "code",
   "execution_count": 5,
   "id": "91259674",
   "metadata": {},
   "outputs": [
    {
     "name": "stdout",
     "output_type": "stream",
     "text": [
      "Standardizing SMILES strings for 533 compounds.\n"
     ]
    },
    {
     "name": "stderr",
     "output_type": "stream",
     "text": [
      "INFO:atomsci.ddm.utils.model_version_utils:dataset/SLC6A3_models/SLC6A3_Ki_curated_model_9b6c9332-15f3-4f96-9579-bf407d0b69a8.tar.gz, 1.6.0\n",
      "INFO:atomsci.ddm.utils.model_version_utils:Version compatible check: dataset/SLC6A3_models/SLC6A3_Ki_curated_model_9b6c9332-15f3-4f96-9579-bf407d0b69a8.tar.gz version = \"1.6\", AMPL version = \"1.6\"\n"
     ]
    },
    {
     "data": {
      "text/html": [
       "<div>\n",
       "<style scoped>\n",
       "    .dataframe tbody tr th:only-of-type {\n",
       "        vertical-align: middle;\n",
       "    }\n",
       "\n",
       "    .dataframe tbody tr th {\n",
       "        vertical-align: top;\n",
       "    }\n",
       "\n",
       "    .dataframe thead th {\n",
       "        text-align: right;\n",
       "    }\n",
       "</style>\n",
       "<table border=\"1\" class=\"dataframe\">\n",
       "  <thead>\n",
       "    <tr style=\"text-align: right;\">\n",
       "      <th></th>\n",
       "      <th>compound_id</th>\n",
       "      <th>base_rdkit_smiles</th>\n",
       "      <th>avg_pKi</th>\n",
       "      <th>avg_pKi_actual</th>\n",
       "      <th>avg_pKi_pred</th>\n",
       "      <th>avg_pKi_std</th>\n",
       "    </tr>\n",
       "  </thead>\n",
       "  <tbody>\n",
       "    <tr>\n",
       "      <th>0</th>\n",
       "      <td>compound_346</td>\n",
       "      <td>OC(C[NH2+]C1CCC1)C1(c2ccc(Cl)c(Cl)c2)CCC1</td>\n",
       "      <td>7.958607</td>\n",
       "      <td>7.958607</td>\n",
       "      <td>7.284956</td>\n",
       "      <td>0.955853</td>\n",
       "    </tr>\n",
       "    <tr>\n",
       "      <th>1</th>\n",
       "      <td>compound_225</td>\n",
       "      <td>CN1Cc2ccccc2C(C)(c2ccc3[nH]ncc3c2)C1</td>\n",
       "      <td>6.587660</td>\n",
       "      <td>6.587660</td>\n",
       "      <td>7.143886</td>\n",
       "      <td>0.801133</td>\n",
       "    </tr>\n",
       "    <tr>\n",
       "      <th>2</th>\n",
       "      <td>compound_166</td>\n",
       "      <td>O=C(O)C(/C=C/c1ccccc1)C1CCN(CCOC(c2ccccc2)c2cc...</td>\n",
       "      <td>5.430275</td>\n",
       "      <td>5.430275</td>\n",
       "      <td>7.676473</td>\n",
       "      <td>0.947577</td>\n",
       "    </tr>\n",
       "    <tr>\n",
       "      <th>3</th>\n",
       "      <td>compound_310</td>\n",
       "      <td>CN1Cc2cc(-c3cccnn3)ccc2C(C)(c2cc3ccccc3[nH]2)C1</td>\n",
       "      <td>6.000000</td>\n",
       "      <td>6.000000</td>\n",
       "      <td>6.379872</td>\n",
       "      <td>1.014355</td>\n",
       "    </tr>\n",
       "    <tr>\n",
       "      <th>4</th>\n",
       "      <td>compound_284</td>\n",
       "      <td>CN1Cc2ccccc2C(F)(c2ccc3sccc3c2)C1</td>\n",
       "      <td>6.587660</td>\n",
       "      <td>6.587660</td>\n",
       "      <td>6.949374</td>\n",
       "      <td>0.964244</td>\n",
       "    </tr>\n",
       "  </tbody>\n",
       "</table>\n",
       "</div>"
      ],
      "text/plain": [
       "    compound_id                                  base_rdkit_smiles   avg_pKi  \\\n",
       "0  compound_346          OC(C[NH2+]C1CCC1)C1(c2ccc(Cl)c(Cl)c2)CCC1  7.958607   \n",
       "1  compound_225               CN1Cc2ccccc2C(C)(c2ccc3[nH]ncc3c2)C1  6.587660   \n",
       "2  compound_166  O=C(O)C(/C=C/c1ccccc1)C1CCN(CCOC(c2ccccc2)c2cc...  5.430275   \n",
       "3  compound_310    CN1Cc2cc(-c3cccnn3)ccc2C(C)(c2cc3ccccc3[nH]2)C1  6.000000   \n",
       "4  compound_284                  CN1Cc2ccccc2C(F)(c2ccc3sccc3c2)C1  6.587660   \n",
       "\n",
       "   avg_pKi_actual  avg_pKi_pred  avg_pKi_std  \n",
       "0        7.958607      7.284956     0.955853  \n",
       "1        6.587660      7.143886     0.801133  \n",
       "2        5.430275      7.676473     0.947577  \n",
       "3        6.000000      6.379872     1.014355  \n",
       "4        6.587660      6.949374     0.964244  "
      ]
     },
     "execution_count": 5,
     "metadata": {},
     "output_type": "execute_result"
    }
   ],
   "source": [
    "id_col = 'compound_id'\n",
    "smiles_col = 'base_rdkit_smiles'\n",
    "response_col = 'avg_pKi'\n",
    "\n",
    "best_pred_df = pfm.predict_from_model_file(model_path = best_model_path, \n",
    "                                      input_df = test_data,\n",
    "                                      id_col = id_col ,\n",
    "                                      smiles_col = smiles_col, \n",
    "                                      response_col = response_col,\n",
    "                                      is_featurized=False) #throws error if is_featurized=True\n",
    "                                      \n",
    "# show most important columns\n",
    "best_pred_df[['compound_id', 'base_rdkit_smiles', 'avg_pKi', 'avg_pKi_actual', 'avg_pKi_pred', 'avg_pKi_std']].head()"
   ]
  },
  {
   "cell_type": "markdown",
   "id": "d684218f",
   "metadata": {},
   "source": [
    "Now we'll run predictions on the same dataset with the production model:"
   ]
  },
  {
   "cell_type": "code",
   "execution_count": 6,
   "id": "32b0156a",
   "metadata": {
    "scrolled": true
   },
   "outputs": [
    {
     "name": "stdout",
     "output_type": "stream",
     "text": [
      "Standardizing SMILES strings for 533 compounds.\n"
     ]
    },
    {
     "name": "stderr",
     "output_type": "stream",
     "text": [
      "INFO:atomsci.ddm.utils.model_version_utils:dataset/SLC6A3_models/SLC6A3_Ki_curated_model_4f266a2a-64ce-46fd-9c43-d2f14720f788.tar.gz, 1.6.1\n",
      "INFO:atomsci.ddm.utils.model_version_utils:Version compatible check: dataset/SLC6A3_models/SLC6A3_Ki_curated_model_4f266a2a-64ce-46fd-9c43-d2f14720f788.tar.gz version = \"1.6\", AMPL version = \"1.6\"\n"
     ]
    },
    {
     "data": {
      "text/html": [
       "<div>\n",
       "<style scoped>\n",
       "    .dataframe tbody tr th:only-of-type {\n",
       "        vertical-align: middle;\n",
       "    }\n",
       "\n",
       "    .dataframe tbody tr th {\n",
       "        vertical-align: top;\n",
       "    }\n",
       "\n",
       "    .dataframe thead th {\n",
       "        text-align: right;\n",
       "    }\n",
       "</style>\n",
       "<table border=\"1\" class=\"dataframe\">\n",
       "  <thead>\n",
       "    <tr style=\"text-align: right;\">\n",
       "      <th></th>\n",
       "      <th>compound_id</th>\n",
       "      <th>base_rdkit_smiles</th>\n",
       "      <th>avg_pKi</th>\n",
       "      <th>avg_pKi_actual</th>\n",
       "      <th>avg_pKi_pred</th>\n",
       "      <th>avg_pKi_std</th>\n",
       "    </tr>\n",
       "  </thead>\n",
       "  <tbody>\n",
       "    <tr>\n",
       "      <th>0</th>\n",
       "      <td>compound_346</td>\n",
       "      <td>OC(C[NH2+]C1CCC1)C1(c2ccc(Cl)c(Cl)c2)CCC1</td>\n",
       "      <td>7.958607</td>\n",
       "      <td>7.958607</td>\n",
       "      <td>7.273634</td>\n",
       "      <td>0.846191</td>\n",
       "    </tr>\n",
       "    <tr>\n",
       "      <th>1</th>\n",
       "      <td>compound_225</td>\n",
       "      <td>CN1Cc2ccccc2C(C)(c2ccc3[nH]ncc3c2)C1</td>\n",
       "      <td>6.587660</td>\n",
       "      <td>6.587660</td>\n",
       "      <td>6.546206</td>\n",
       "      <td>1.096473</td>\n",
       "    </tr>\n",
       "    <tr>\n",
       "      <th>2</th>\n",
       "      <td>compound_166</td>\n",
       "      <td>O=C(O)C(/C=C/c1ccccc1)C1CCN(CCOC(c2ccccc2)c2cc...</td>\n",
       "      <td>5.430275</td>\n",
       "      <td>5.430275</td>\n",
       "      <td>7.063624</td>\n",
       "      <td>0.735218</td>\n",
       "    </tr>\n",
       "    <tr>\n",
       "      <th>3</th>\n",
       "      <td>compound_310</td>\n",
       "      <td>CN1Cc2cc(-c3cccnn3)ccc2C(C)(c2cc3ccccc3[nH]2)C1</td>\n",
       "      <td>6.000000</td>\n",
       "      <td>6.000000</td>\n",
       "      <td>6.230782</td>\n",
       "      <td>1.045009</td>\n",
       "    </tr>\n",
       "    <tr>\n",
       "      <th>4</th>\n",
       "      <td>compound_284</td>\n",
       "      <td>CN1Cc2ccccc2C(F)(c2ccc3sccc3c2)C1</td>\n",
       "      <td>6.587660</td>\n",
       "      <td>6.587660</td>\n",
       "      <td>6.676182</td>\n",
       "      <td>1.178339</td>\n",
       "    </tr>\n",
       "  </tbody>\n",
       "</table>\n",
       "</div>"
      ],
      "text/plain": [
       "    compound_id                                  base_rdkit_smiles   avg_pKi  \\\n",
       "0  compound_346          OC(C[NH2+]C1CCC1)C1(c2ccc(Cl)c(Cl)c2)CCC1  7.958607   \n",
       "1  compound_225               CN1Cc2ccccc2C(C)(c2ccc3[nH]ncc3c2)C1  6.587660   \n",
       "2  compound_166  O=C(O)C(/C=C/c1ccccc1)C1CCN(CCOC(c2ccccc2)c2cc...  5.430275   \n",
       "3  compound_310    CN1Cc2cc(-c3cccnn3)ccc2C(C)(c2cc3ccccc3[nH]2)C1  6.000000   \n",
       "4  compound_284                  CN1Cc2ccccc2C(F)(c2ccc3sccc3c2)C1  6.587660   \n",
       "\n",
       "   avg_pKi_actual  avg_pKi_pred  avg_pKi_std  \n",
       "0        7.958607      7.273634     0.846191  \n",
       "1        6.587660      6.546206     1.096473  \n",
       "2        5.430275      7.063624     0.735218  \n",
       "3        6.000000      6.230782     1.045009  \n",
       "4        6.587660      6.676182     1.178339  "
      ]
     },
     "execution_count": 6,
     "metadata": {},
     "output_type": "execute_result"
    }
   ],
   "source": [
    "prod_pred_df = pfm.predict_from_model_file(model_path = production_model.params.model_tarball_path, \n",
    "                                      input_df = test_data,\n",
    "                                      id_col = id_col ,\n",
    "                                      smiles_col = smiles_col, \n",
    "                                      response_col = response_col,\n",
    "                                      is_featurized=False)\n",
    "                                      \n",
    "# show most important columns\n",
    "prod_pred_df[['compound_id', 'base_rdkit_smiles', 'avg_pKi', 'avg_pKi_actual', 'avg_pKi_pred', 'avg_pKi_std']].head()"
   ]
  },
  {
   "cell_type": "markdown",
   "id": "fe2b03c1",
   "metadata": {},
   "source": [
    "To compare the performance of the production model with the original best model, we'll compute the $R^2$ scores for the predictions\n",
    "from each model and then plot the predicted vs actual values:"
   ]
  },
  {
   "cell_type": "code",
   "execution_count": 7,
   "id": "cfbcaba2",
   "metadata": {},
   "outputs": [
    {
     "name": "stdout",
     "output_type": "stream",
     "text": [
      "Best model r2_score: 0.156877\n",
      "Production model r2_score: 0.271881\n"
     ]
    }
   ],
   "source": [
    "best_r2 = np.round(r2_score(best_pred_df.avg_pKi_actual.values, best_pred_df.avg_pKi_pred.values), 6)\n",
    "prod_r2 = np.round(r2_score(prod_pred_df.avg_pKi_actual.values, prod_pred_df.avg_pKi_pred.values), 6)\n",
    "print(\"Best model r2_score: \" + str(best_r2))\n",
    "print(\"Production model r2_score: \" + str(prod_r2))"
   ]
  },
  {
   "cell_type": "code",
   "execution_count": 8,
   "id": "6c8c728f",
   "metadata": {},
   "outputs": [
    {
     "name": "stderr",
     "output_type": "stream",
     "text": [
      "/var/folders/rf/_d6b2mgd3p9f422kk977zjlh0000gn/T/ipykernel_13082/3922647534.py:7: UserWarning: FigureCanvasAgg is non-interactive, and thus cannot be shown\n",
      "  fig.show()\n"
     ]
    },
    {
     "data": {
      "image/png": "[encoded data removed]",
      "text/plain": [
       "<Figure size 1200x600 with 2 Axes>"
      ]
     },
     "metadata": {},
     "output_type": "display_data"
    }
   ],
   "source": [
    "fig, ax = plt.subplots(1,2, figsize=(12,6))\n",
    "pp.plot_pred_vs_actual_from_df(best_pred_df, actual_col='avg_pKi_actual', pred_col='avg_pKi_pred', \n",
    "    label=f\"Best model, $R^2$ = {best_r2:.3f}\", ax=ax[0])\n",
    "pp.plot_pred_vs_actual_from_df(prod_pred_df, actual_col='avg_pKi_actual', pred_col='avg_pKi_pred', \n",
    "    label=f\"Production model, $R^2$ = {prod_r2:.3f}\", ax=ax[1])\n",
    "fig.tight_layout(pad=3.0)\n",
    "fig.show()"
   ]
  },
  {
   "cell_type": "markdown",
   "id": "55117b90",
   "metadata": {},
   "source": [
    "Although neither model has a great $R^2$ score, the production model *does* perform better, with $R^2$ = 0.267 vs 0.157 for the original best model.\n",
    "Also, the points in the production model plot are slightly more concentrated along the diagonal. A possible explanation for the\n",
    "mediocre performance is that the external dataset compounds were filtered so that none have Tanimoto distance  < 0.4 to any \n",
    "compound in the original model dataset, so that the test set compounds are outside of the \n",
    "**[applicability domain](https://en.wikipedia.org/wiki/Applicability_domain)** of both models.\n",
    "We expect that the models' performance would improve on a dataset filtered with a smaller **[Tanimoto distance](https://en.wikipedia.org/wiki/Jaccard_index#Tanimoto_similarity_and_distance)**  threshold.\n",
    "\n",
    "Developing models that generalize well to diverse sets of compounds (i.e., that have a broader applicability domain) is one of the major\n",
    "challenges in machine learning for chemistry. Training a **production model** is one approach to this problem. To do better we may need to explore\n",
    "other model types or methods of featurizing molecules, with additional rounds of **hyperparameter optimization**."
   ]
  },
  {
   "cell_type": "markdown",
   "id": "6343b5bb",
   "metadata": {},
   "source": [
    "## Other Functions With Production Parameters\n",
    "A boolean `production` parameter is available in these other functions in the **[AMPL](https://github.com/ATOMScience-org/AMPL)** `model_retrain` module. \n",
    "If `production` is set to True, the model will be trained in \n",
    "production mode, using the entire dataset for training. Note that for **neural network models**, the model will be trained for the number of epochs\n",
    "corresponding to the best epoch from the original model training run.\n",
    "- [train_model](https://ampl.readthedocs.io/en/latest/utils.html#utils.model_retrain.train_model)\n",
    "- [train_models_from_dataset_keys](https://ampl.readthedocs.io/en/latest/utils.html#utils.model_retrain.train_models_from_dataset_keys)"
   ]
  },
  {
   "cell_type": "markdown",
   "id": "ae588878",
   "metadata": {},
   "source": [
    "In **Tutorial 8, \"Visualizations of Model Performances\"**, we'll explore a wide range of methods for visualizing and evaluating the performance of **[AMPL](https://github.com/ATOMScience-org/AMPL)** models.\n",
    "\n",
    "If you have specific feedback about a tutorial, please complete the **[AMPL Tutorial Evaluation](https://forms.gle/pa9sHj4MHbS5zG7A6)**."
   ]
  }
 ],
 "metadata": {
  "kernelspec": {
   "display_name": "atomsci-env",
   "language": "python",
   "name": "atomsci-env"
  },
  "language_info": {
   "codemirror_mode": {
    "name": "ipython",
    "version": 3
   },
   "file_extension": ".py",
   "mimetype": "text/x-python",
   "name": "python",
   "nbconvert_exporter": "python",
   "pygments_lexer": "ipython3",
   "version": "3.9.12"
  }
 },
 "nbformat": 4,
 "nbformat_minor": 5
}
