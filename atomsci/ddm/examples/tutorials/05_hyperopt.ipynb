{
 "cells": [
  {
   "cell_type": "markdown",
   "metadata": {},
   "source": [
    "# Hyperparameter Optimization\n",
    "Hyperparameters dictate the parameters of the training process and the architecture of the model itself. For example, the \n",
    "number of random trees is a hyperparameter for a **random forest**. In contrast, a learned parameter for a **random forest** is the set of features that is contained in a single node (in a single tree) and the cutoff values for each of those features that determines how the data is split at that node. A full discussion of hyperparameter optimization can be found on **[Wikipedia](https://en.wikipedia.org/wiki/Hyperparameter_optimization)**.\n",
    "\n",
    "The choice of hyperparameters strongly influences model performance,\n",
    "so it is important to be able to optimize them as well. **[AMPL](https://github.com/ATOMScience-org/AMPL)**\n",
    "offers a variety of hyperparameter optimization methods including\n",
    "random sampling, grid search, and Bayesian optimization. Please refer to the parameter documentation \n",
    "**[page](https://github.com/ATOMScience-org/AMPL#hyperparameter-optimization)** for further information.\n",
    "\n",
    "In this tutorial we demonstrate the following:\n",
    "- Build a parameter dictionary to perform a hyperparameter search for a **random forest** using Bayesian optimization.\n",
    "- Perform the optimization process.\n",
    "- Review the results\n",
    "\n",
    "We will use these **[AMPL](https://github.com/ATOMScience-org/AMPL)** functions:\n",
    "- [parse_params](https://ampl.readthedocs.io/en/latest/utils.html#utils.hyperparam_search_wrapper.parse_params)\n",
    "- [build_search](https://ampl.readthedocs.io/en/latest/utils.html#utils.hyperparam_search_wrapper.build_search)\n",
    "- [run_search](https://ampl.readthedocs.io/en/latest/utils.html#utils.hyperparam_search_wrapper.HyperOptSearch.run_search)\n",
    "- [get_filesystem_perf_results](https://ampl.readthedocs.io/en/latest/pipeline.html#pipeline.compare_models.get_filesystem_perf_results)\n",
    "\n",
    "The first three functions in the above list come from the `hyperparameter_search_wrapper` module. "
   ]
  },
  {
   "cell_type": "markdown",
   "metadata": {},
   "source": [
    "## Set Up Directories\n",
    "\n",
    "Here we set up a few important variables corresponding to required directories and specific features for the **hyperparameter optimization (HPO)** process. Then, we ensure that the directories are created before saving models into them.\n",
    "\n",
    "|Variable|Description|\n",
    "|---|---|\n",
    "|`dataset_key`|The relative path to the dataset you want to use for HPO|\n",
    "|`descriptor_type`|The type of features you want to use during HPO|\n",
    "|`model_dir`|The directory where you want to save all of the models|\n",
    "|`best_model_dir`|For Bayesian optimization, the winning model is saved in this separate folder|\n",
    "|`split_uuid`|The presaved split uuid from **Tutorial 2, \"Splitting Datasets for Validation and Testing\"**|"
   ]
  },
  {
   "cell_type": "code",
   "execution_count": 1,
   "metadata": {},
   "outputs": [],
   "source": [
    "import warnings\n",
    "warnings.filterwarnings('ignore', category=FutureWarning)\n",
    "warnings.filterwarnings('ignore', category=RuntimeWarning)\n",
    "\n",
    "import os\n",
    "\n",
    "dataset_key='dataset/SLC6A3_Ki_curated.csv'\n",
    "descriptor_type = 'rdkit_raw'\n",
    "model_dir = 'dataset/SLC6A3_models'\n",
    "best_model_dir = 'dataset/SLC6A3_models/best_models'\n",
    "split_uuid = \"c35aeaab-910c-4dcf-8f9f-04b55179aa1a\"\n",
    "\n",
    "\n",
    "if not os.path.exists(f'./{best_model_dir}'):\n",
    "    os.mkdir(f'./{best_model_dir}')\n",
    "    \n",
    "if not os.path.exists(f'./{model_dir}'):\n",
    "    os.mkdir(f'./{model_dir}')"
   ]
  },
  {
   "cell_type": "markdown",
   "metadata": {},
   "source": [
    "To run a hyperparameter search, we first create a parameter dictionary with parameter settings that will be common to all models, along with some special parameters that control the search and indicate which parameters will be varied and how. The table below describes the special parameter settings for our random forest search."
   ]
  },
  {
   "cell_type": "markdown",
   "metadata": {},
   "source": [
    "## Parameter Dictionary Settings\n",
    "\n",
    "|Parameter|Description|\n",
    "|---|---|\n",
    "|`'hyperparam':'True'`|This setting indicates that we are performing a hyperparameter search instead of just training one model.|\n",
    "|`'previously_featurized':'True'`|This tells **[AMPL](https://github.com/ATOMScience-org/AMPL)** to search for previously generated features in `../dataset/scaled_descriptors` instead of regenerating them on the fly.|\n",
    "|`'search_type':'hyperopt'`|This specifies the hyperparameter search method. Other options include `grid`, `random`, and `geometric`. Specifications for each hyperparameter search method is different, please refer to the full documentation. Here we are using the Bayesian optimization method.|\n",
    "|`'model_type':'RF\\|10'`|This means **[AMPL](https://github.com/ATOMScience-org/AMPL)** will try 10 times to find the best set of hyperparameters using **random forests**. In practice, this parameter could be set to 100 or more.|\n",
    "|`'rfe':'uniformint\\|8,512'`|The Bayesian optimizer will uniformly search between 8 and 512 for the best number of random forest estimators. Similarly `rfd` stands for **random forest depth** and `rff` stands for **random forest features**.|\n",
    "|`result_dir`|Now expects two parameters. The first directory will contain the best trained models while the second directory will contain all models trained in the search.|\n",
    "\n",
    "Regression models are optimized to maximize the $R^2$ and\n",
    "classification models are optimized using area under the \n",
    "receiver operating characteristic curve.\n",
    "A full list of parameters can be found on our\n",
    "**[github](https://github.com/ATOMScience-org/AMPL/blob/master/atomsci/ddm/docs/PARAMETERS.md)**."
   ]
  },
  {
   "cell_type": "code",
   "execution_count": 2,
   "metadata": {},
   "outputs": [],
   "source": [
    "params = {\n",
    "    \"hyperparam\": \"True\",\n",
    "    \"prediction_type\": \"regression\",\n",
    "\n",
    "    \"dataset_key\": dataset_key,\n",
    "    \"id_col\": \"compound_id\",\n",
    "    \"smiles_col\": \"base_rdkit_smiles\",\n",
    "    \"response_cols\": \"avg_pKi\",\n",
    "\n",
    "    \"splitter\":\"scaffold\",\n",
    "    \"split_uuid\": split_uuid,\n",
    "    \"previously_split\": \"True\",\n",
    "\n",
    "    \"featurizer\": \"computed_descriptors\",\n",
    "    \"descriptor_type\" : descriptor_type,\n",
    "    \"transformers\": \"True\",\n",
    "\n",
    "    \"search_type\": \"hyperopt\",\n",
    "    \"model_type\": \"RF|10\",\n",
    "    \"rfe\": \"uniformint|8,512\",\n",
    "    \"rfd\": \"uniformint|6,32\",\n",
    "    \"rff\": \"uniformint|8,200\",\n",
    "\n",
    "    \"result_dir\": f\"./{best_model_dir},./{model_dir}\"\n",
    "}"
   ]
  },
  {
   "cell_type": "markdown",
   "metadata": {},
   "source": [
    "## Run Hyperparameter Search\n",
    "In **Tutorial 3, \"Train a Simple Regression Model\"**, we directly imported the `parameter_parser` and `model_pipeline` objects to parse the `config` dict and train a single model. Here, we use `hyperparameter_search_wrapper` to handle many models for us. First we build the search by creating a list of parameters to use, and then we run the search."
   ]
  },
  {
   "cell_type": "code",
   "execution_count": 4,
   "metadata": {
    "scrolled": true
   },
   "outputs": [
    {
     "name": "stdout",
     "output_type": "stream",
     "text": [
      "model_performance|train_r2|train_rms|valid_r2|valid_rms|test_r2|test_rms|model_params|model\n",
      "\n",
      "rf_estimators: 65, rf_max_depth: 22, rf_max_feature: 33\n",
      "RF model with computed_descriptors and rdkit_raw      \n",
      "  0%|          | 0/10 [00:00<?, ?trial/s, best loss=?]"
     ]
    },
    {
     "name": "stderr",
     "output_type": "stream",
     "text": [
      "2024-04-16 11:19:29,471 Previous dataset split restored\n"
     ]
    },
    {
     "name": "stdout",
     "output_type": "stream",
     "text": [
      "model_performance|0.948|0.284|0.463|0.885|0.385|0.955|65_22_33|./dataset/SLC6A3_models/SLC6A3_Ki_curated_model_65d93c86-11e8-4f79-a6be-384db6956d26.tar.gz\n",
      "\n",
      "rf_estimators: 233, rf_max_depth: 28, rf_max_feature: 12                        \n",
      "RF model with computed_descriptors and rdkit_raw                                \n",
      " 10%|█         | 1/10 [00:00<00:06,  1.44trial/s, best loss: 0.5365818670592989]"
     ]
    },
    {
     "name": "stderr",
     "output_type": "stream",
     "text": [
      "2024-04-16 11:19:30,177 Previous dataset split restored\n"
     ]
    },
    {
     "name": "stdout",
     "output_type": "stream",
     "text": [
      "model_performance|0.948|0.284|0.481|0.871|0.400|0.944|233_28_12|./dataset/SLC6A3_models/SLC6A3_Ki_curated_model_2b63bedb-7983-49cd-8d9b-b2039439ae98.tar.gz\n",
      "\n",
      "rf_estimators: 60, rf_max_depth: 28, rf_max_feature: 73                         \n",
      "RF model with computed_descriptors and rdkit_raw                                \n",
      " 20%|██        | 2/10 [00:02<00:09,  1.25s/trial, best loss: 0.5194165178690741]"
     ]
    },
    {
     "name": "stderr",
     "output_type": "stream",
     "text": [
      "2024-04-16 11:19:31,809 Previous dataset split restored\n"
     ]
    },
    {
     "name": "stdout",
     "output_type": "stream",
     "text": [
      "model_performance|0.947|0.287|0.481|0.871|0.450|0.903|60_28_73|./dataset/SLC6A3_models/SLC6A3_Ki_curated_model_9da5fa7a-610f-469a-9562-b760c03581bc.tar.gz\n",
      "\n",
      "rf_estimators: 158, rf_max_depth: 7, rf_max_feature: 92                         \n",
      "RF model with computed_descriptors and rdkit_raw                                \n",
      " 30%|███       | 3/10 [00:03<00:06,  1.00trial/s, best loss: 0.5190614320716579]"
     ]
    },
    {
     "name": "stderr",
     "output_type": "stream",
     "text": [
      "2024-04-16 11:19:32,512 Previous dataset split restored\n"
     ]
    },
    {
     "name": "stdout",
     "output_type": "stream",
     "text": [
      "model_performance|0.836|0.503|0.471|0.879|0.418|0.929|158_7_92|./dataset/SLC6A3_models/SLC6A3_Ki_curated_model_4f36098e-a8fe-4469-922e-5dca432f355b.tar.gz\n",
      "\n",
      "rf_estimators: 262, rf_max_depth: 16, rf_max_feature: 40                        \n",
      "RF model with computed_descriptors and rdkit_raw                                \n",
      " 40%|████      | 4/10 [00:04<00:06,  1.04s/trial, best loss: 0.5190614320716579]"
     ]
    },
    {
     "name": "stderr",
     "output_type": "stream",
     "text": [
      "2024-04-16 11:19:33,614 Previous dataset split restored\n"
     ]
    },
    {
     "name": "stdout",
     "output_type": "stream",
     "text": [
      "model_performance|0.948|0.285|0.488|0.864|0.424|0.924|262_16_40|./dataset/SLC6A3_models/SLC6A3_Ki_curated_model_dbd1d89c-05f5-4224-bce4-7dbeafaba313.tar.gz\n",
      "\n",
      "rf_estimators: 393, rf_max_depth: 28, rf_max_feature: 190                       \n",
      "RF model with computed_descriptors and rdkit_raw                                \n",
      " 50%|█████     | 5/10 [00:05<00:06,  1.28s/trial, best loss: 0.5115391017103005]"
     ]
    },
    {
     "name": "stderr",
     "output_type": "stream",
     "text": [
      "2024-04-16 11:19:35,308 Previous dataset split restored\n"
     ]
    },
    {
     "name": "stdout",
     "output_type": "stream",
     "text": [
      "model_performance|0.950|0.277|0.476|0.875|0.428|0.921|393_28_190|./dataset/SLC6A3_models/SLC6A3_Ki_curated_model_8e7bb4a7-40ef-4400-8c9d-c07dbf496e56.tar.gz\n",
      "\n",
      "rf_estimators: 29, rf_max_depth: 23, rf_max_feature: 177                        \n",
      "RF model with computed_descriptors and rdkit_raw                                \n",
      " 60%|██████    | 6/10 [00:08<00:07,  1.83s/trial, best loss: 0.5115391017103005]"
     ]
    },
    {
     "name": "stderr",
     "output_type": "stream",
     "text": [
      "2024-04-16 11:19:38,210 Previous dataset split restored\n"
     ]
    },
    {
     "name": "stdout",
     "output_type": "stream",
     "text": [
      "model_performance|0.946|0.288|0.471|0.879|0.427|0.922|29_23_177|./dataset/SLC6A3_models/SLC6A3_Ki_curated_model_4596c9af-f98c-4ce4-bb79-91fedb4c0ea6.tar.gz\n",
      "\n",
      "rf_estimators: 106, rf_max_depth: 10, rf_max_feature: 112                       \n",
      "RF model with computed_descriptors and rdkit_raw                                \n",
      " 70%|███████   | 7/10 [00:09<00:04,  1.40s/trial, best loss: 0.5115391017103005]"
     ]
    },
    {
     "name": "stderr",
     "output_type": "stream",
     "text": [
      "2024-04-16 11:19:38,736 Previous dataset split restored\n"
     ]
    },
    {
     "name": "stdout",
     "output_type": "stream",
     "text": [
      "model_performance|0.914|0.366|0.474|0.876|0.414|0.932|106_10_112|./dataset/SLC6A3_models/SLC6A3_Ki_curated_model_67b2be27-3a1f-4e16-9d0a-2337e431907c.tar.gz\n",
      "\n",
      "rf_estimators: 190, rf_max_depth: 15, rf_max_feature: 135                       \n",
      "RF model with computed_descriptors and rdkit_raw                                \n",
      " 80%|████████  | 8/10 [00:10<00:02,  1.21s/trial, best loss: 0.5115391017103005]"
     ]
    },
    {
     "name": "stderr",
     "output_type": "stream",
     "text": [
      "2024-04-16 11:19:39,511 Previous dataset split restored\n"
     ]
    },
    {
     "name": "stdout",
     "output_type": "stream",
     "text": [
      "model_performance|0.947|0.286|0.484|0.868|0.449|0.905|190_15_135|./dataset/SLC6A3_models/SLC6A3_Ki_curated_model_601ae89f-a8bb-4da2-b7a7-b434a2bdcbbe.tar.gz\n",
      "\n",
      "rf_estimators: 146, rf_max_depth: 27, rf_max_feature: 112                       \n",
      "RF model with computed_descriptors and rdkit_raw                                \n",
      " 90%|█████████ | 9/10 [00:11<00:01,  1.28s/trial, best loss: 0.5115391017103005]"
     ]
    },
    {
     "name": "stderr",
     "output_type": "stream",
     "text": [
      "2024-04-16 11:19:40,938 Previous dataset split restored\n"
     ]
    },
    {
     "name": "stdout",
     "output_type": "stream",
     "text": [
      "model_performance|0.949|0.280|0.483|0.869|0.436|0.915|146_27_112|./dataset/SLC6A3_models/SLC6A3_Ki_curated_model_0967e5ea-64a1-4509-80da-176bd8773775.tar.gz\n",
      "\n",
      "100%|██████████| 10/10 [00:12<00:00,  1.27s/trial, best loss: 0.5115391017103005]\n",
      "Generating the performance -- iteration table and Copy the best model tarball.\n",
      "Best model: ./dataset/SLC6A3_models/SLC6A3_Ki_curated_model_dbd1d89c-05f5-4224-bce4-7dbeafaba313.tar.gz, valid R2: 0.4884608982896995\n"
     ]
    }
   ],
   "source": [
    "import atomsci.ddm.utils.hyperparam_search_wrapper as hsw\n",
    "import importlib\n",
    "importlib.reload(hsw)\n",
    "ampl_param = hsw.parse_params(params)\n",
    "hs = hsw.build_search(ampl_param)\n",
    "hs.run_search()"
   ]
  },
  {
   "cell_type": "markdown",
   "metadata": {},
   "source": [
    "The top scoring model will be saved in `dataset/SLC6A3_models/best_models` along with a csv file\n",
    "containing regression performance for all trained models.\n",
    "\n",
    "All of the models are saved in `dataset/SLC6A3_models`. These models can be\n",
    "explored using `get_filesystem_perf_results`. A full analysis of the hyperparameter performance is explored in **Tutorial 6, \"Compare models to select the best hyperparameters\"**."
   ]
  },
  {
   "cell_type": "code",
   "execution_count": 5,
   "metadata": {},
   "outputs": [
    {
     "name": "stdout",
     "output_type": "stream",
     "text": [
      "Found data for 10 models under dataset/SLC6A3_models\n"
     ]
    },
    {
     "data": {
      "text/html": [
       "<div>\n",
       "<style scoped>\n",
       "    .dataframe tbody tr th:only-of-type {\n",
       "        vertical-align: middle;\n",
       "    }\n",
       "\n",
       "    .dataframe tbody tr th {\n",
       "        vertical-align: top;\n",
       "    }\n",
       "\n",
       "    .dataframe thead th {\n",
       "        text-align: right;\n",
       "    }\n",
       "</style>\n",
       "<table border=\"1\" class=\"dataframe\">\n",
       "  <thead>\n",
       "    <tr style=\"text-align: right;\">\n",
       "      <th></th>\n",
       "      <th>model_uuid</th>\n",
       "      <th>model_parameters_dict</th>\n",
       "      <th>best_valid_r2_score</th>\n",
       "      <th>best_test_r2_score</th>\n",
       "    </tr>\n",
       "  </thead>\n",
       "  <tbody>\n",
       "    <tr>\n",
       "      <th>4</th>\n",
       "      <td>dbd1d89c-05f5-4224-bce4-7dbeafaba313</td>\n",
       "      <td>{\"rf_estimators\": 262, \"rf_max_depth\": 16, \"rf...</td>\n",
       "      <td>0.488461</td>\n",
       "      <td>0.424234</td>\n",
       "    </tr>\n",
       "    <tr>\n",
       "      <th>8</th>\n",
       "      <td>601ae89f-a8bb-4da2-b7a7-b434a2bdcbbe</td>\n",
       "      <td>{\"rf_estimators\": 190, \"rf_max_depth\": 15, \"rf...</td>\n",
       "      <td>0.483822</td>\n",
       "      <td>0.448591</td>\n",
       "    </tr>\n",
       "    <tr>\n",
       "      <th>9</th>\n",
       "      <td>0967e5ea-64a1-4509-80da-176bd8773775</td>\n",
       "      <td>{\"rf_estimators\": 146, \"rf_max_depth\": 27, \"rf...</td>\n",
       "      <td>0.483401</td>\n",
       "      <td>0.436227</td>\n",
       "    </tr>\n",
       "    <tr>\n",
       "      <th>2</th>\n",
       "      <td>9da5fa7a-610f-469a-9562-b760c03581bc</td>\n",
       "      <td>{\"rf_estimators\": 60, \"rf_max_depth\": 28, \"rf_...</td>\n",
       "      <td>0.480939</td>\n",
       "      <td>0.450400</td>\n",
       "    </tr>\n",
       "    <tr>\n",
       "      <th>1</th>\n",
       "      <td>2b63bedb-7983-49cd-8d9b-b2039439ae98</td>\n",
       "      <td>{\"rf_estimators\": 233, \"rf_max_depth\": 28, \"rf...</td>\n",
       "      <td>0.480583</td>\n",
       "      <td>0.399987</td>\n",
       "    </tr>\n",
       "  </tbody>\n",
       "</table>\n",
       "</div>"
      ],
      "text/plain": [
       "                             model_uuid  \\\n",
       "4  dbd1d89c-05f5-4224-bce4-7dbeafaba313   \n",
       "8  601ae89f-a8bb-4da2-b7a7-b434a2bdcbbe   \n",
       "9  0967e5ea-64a1-4509-80da-176bd8773775   \n",
       "2  9da5fa7a-610f-469a-9562-b760c03581bc   \n",
       "1  2b63bedb-7983-49cd-8d9b-b2039439ae98   \n",
       "\n",
       "                               model_parameters_dict  best_valid_r2_score  \\\n",
       "4  {\"rf_estimators\": 262, \"rf_max_depth\": 16, \"rf...             0.488461   \n",
       "8  {\"rf_estimators\": 190, \"rf_max_depth\": 15, \"rf...             0.483822   \n",
       "9  {\"rf_estimators\": 146, \"rf_max_depth\": 27, \"rf...             0.483401   \n",
       "2  {\"rf_estimators\": 60, \"rf_max_depth\": 28, \"rf_...             0.480939   \n",
       "1  {\"rf_estimators\": 233, \"rf_max_depth\": 28, \"rf...             0.480583   \n",
       "\n",
       "   best_test_r2_score  \n",
       "4            0.424234  \n",
       "8            0.448591  \n",
       "9            0.436227  \n",
       "2            0.450400  \n",
       "1            0.399987  "
      ]
     },
     "execution_count": 5,
     "metadata": {},
     "output_type": "execute_result"
    }
   ],
   "source": [
    "import atomsci.ddm.pipeline.compare_models as cm\n",
    "\n",
    "result_df = cm.get_filesystem_perf_results(\n",
    "    result_dir=model_dir,\n",
    "    pred_type='regression'\n",
    ")\n",
    "\n",
    "# sort by validation r2 score to see top performing models\n",
    "result_df = result_df.sort_values(by='best_valid_r2_score', ascending=False)\n",
    "result_df[['model_uuid','model_parameters_dict','best_valid_r2_score','best_test_r2_score']].head()"
   ]
  },
  {
   "cell_type": "markdown",
   "metadata": {},
   "source": [
    "## Examples of Other Parameter Sets\n",
    "Below are some parameters that can be used for **neural networks**, \n",
    "**[XGBoost](https://en.wikipedia.org/wiki/XGBoost)** models, \n",
    "**fingerprint splits** and **[ECFP](https://pubs.acs.org/doi/10.1021/ci100050t)** features.\n",
    "Each set of parameters can be used to replace the parameters above. \n",
    "Trying them out is left as an exercise for the reader.\n",
    "\n",
    "#### Neural Network Hyperopt Search\n",
    "\n",
    "|Parameter|Description|\n",
    "|---|---|\n",
    "|`lr`| This controls the learning rate. loguniform\\|-13.8,-3 means the logarithm of the learning rate is uniformly distributed between -13.8 and -3.|\n",
    "|`ls` |This controls layer sizes. 3\\|8,512 means 3 layers with sizes ranging between 8 and 512 neurons. A good strategy is to start with a fewer layers and slowly increase the number until performance plateaus.| \n",
    "|`dp`| This controls dropout. 3\\|0,0.4 means 3 dropout layers with probability of zeroing a weight between 0 and 40%. This needs to match the number of layers specified with `ls` and should range between 0% and 50%. |\n",
    "|`max_epochs`| This controls how long to train each model. Training for more epochs increases runtime, but allows models more time to optimize. |"
   ]
  },
  {
   "cell_type": "code",
   "execution_count": null,
   "metadata": {},
   "outputs": [],
   "source": [
    "params = {\n",
    "    \"hyperparam\": \"True\",\n",
    "    \"prediction_type\": \"regression\",\n",
    "\n",
    "    \"dataset_key\": dataset_key,\n",
    "    \"id_col\": \"compound_id\",\n",
    "    \"smiles_col\": \"base_rdkit_smiles\",\n",
    "    \"response_cols\": \"avg_pKi\",\n",
    "\n",
    "    \"splitter\":\"scaffold\",\n",
    "    \"split_uuid\": split_uuid,\n",
    "    \"previously_split\": \"True\",\n",
    "\n",
    "    \"featurizer\": \"computed_descriptors\",\n",
    "    \"descriptor_type\" : descriptor_type,\n",
    "    \"transformers\": \"True\",\n",
    "\n",
    "    ### Use a NN model\n",
    "    \"search_type\": \"hyperopt\",\n",
    "    \"model_type\": \"NN|10\",\n",
    "    \"lr\": \"loguniform|-13.8,-3\",\n",
    "    \"ls\": \"uniformint|3|8,512\",\n",
    "    \"dp\": \"uniform|3|0,0.4\",\n",
    "    \"max_epochs\":100,\n",
    "    ###\n",
    "\n",
    "    \"result_dir\": f\"./{best_model_dir},./{model_dir}\"\n",
    "}"
   ]
  },
  {
   "cell_type": "markdown",
   "metadata": {},
   "source": [
    "#### XGBoost\n",
    "- `xgbg` Stands for `xgb_gamma` and controls the minimum loss \n",
    "reduction required to make a further partition on a leaf node of the tree.\n",
    "- `xgbl` Stands for `xgb_learning_rate` and controls the boosting \n",
    "learning rate searching domain of  **[XGBoost](https://en.wikipedia.org/wiki/XGBoost)** models."
   ]
  },
  {
   "cell_type": "code",
   "execution_count": null,
   "metadata": {},
   "outputs": [],
   "source": [
    "params = {\n",
    "    \"hyperparam\": \"True\",\n",
    "    \"prediction_type\": \"regression\",\n",
    "\n",
    "    \"dataset_key\": dataset_key,\n",
    "    \"id_col\": \"compound_id\",\n",
    "    \"smiles_col\": \"base_rdkit_smiles\",\n",
    "    \"response_cols\": \"avg_pKi\",\n",
    "\n",
    "    \"splitter\":\"scaffold\",\n",
    "    \"split_uuid\": split_uuid,\n",
    "    \"previously_split\": \"True\",\n",
    "\n",
    "    \"featurizer\": \"computed_descriptors\",\n",
    "    \"descriptor_type\" : descriptor_type,\n",
    "    \"transformers\": \"True\",\n",
    "\n",
    "    ### Use an XGBoost model\n",
    "    \"search_type\": \"hyperopt\",\n",
    "    \"model_type\": \"xgboost|10\",\n",
    "    \"xgbg\": \"uniform|0,0.2\",\n",
    "    \"xgbl\": \"loguniform|-2,2\",\n",
    "    ###\n",
    "\n",
    "    \"result_dir\": f\"./{best_model_dir},./{model_dir}\"\n",
    "}"
   ]
  },
  {
   "cell_type": "markdown",
   "metadata": {},
   "source": [
    "#### Fingerprint Split\n",
    "This trains an  **[XGBoost](https://en.wikipedia.org/wiki/XGBoost)** model using a\n",
    "**fingerprint split**. The fingerprint split is provided with the dataset files. "
   ]
  },
  {
   "cell_type": "code",
   "execution_count": null,
   "metadata": {},
   "outputs": [],
   "source": [
    "fp_split_uuid=\"be60c264-6ac0-4841-a6b6-41bf846e4ae4\"\n",
    "\n",
    "params = {\n",
    "    \"hyperparam\": \"True\",\n",
    "    \"prediction_type\": \"regression\",\n",
    "\n",
    "    \"dataset_key\": dataset_key,\n",
    "    \"id_col\": \"compound_id\",\n",
    "    \"smiles_col\": \"base_rdkit_smiles\",\n",
    "    \"response_cols\": \"avg_pKi\",\n",
    "\n",
    "    ### Use a fingerprint split\n",
    "    \"splitter\":\"fingerprint\",\n",
    "    \"split_uuid\": fp_split_uuid,\n",
    "    \"previously_split\": \"True\",\n",
    "    ###\n",
    "\n",
    "    \"featurizer\": \"computed_descriptors\",\n",
    "    \"descriptor_type\" : descriptor_type,\n",
    "    \"transformers\": \"True\",\n",
    "\n",
    "    \"search_type\": \"hyperopt\",\n",
    "    \"model_type\": \"xgboost|10\",\n",
    "    \"xgbg\": \"uniform|0,0.2\",\n",
    "    \"xgbl\": \"loguniform|-2,2\",\n",
    "\n",
    "    \"result_dir\": f\"./{best_model_dir},./{model_dir}\"\n",
    "}"
   ]
  },
  {
   "cell_type": "markdown",
   "metadata": {},
   "source": [
    "#### ECFP Features\n",
    "This uses an  **[XGBoost](https://en.wikipedia.org/wiki/XGBoost)** model with **[ECFP fingerprints](https://pubs.acs.org/doi/10.1021/ci100050t)** features and a **scaffold split**."
   ]
  },
  {
   "cell_type": "code",
   "execution_count": null,
   "metadata": {},
   "outputs": [],
   "source": [
    "params = {\n",
    "    \"hyperparam\": \"True\",\n",
    "    \"prediction_type\": \"regression\",\n",
    "\n",
    "    \"dataset_key\": dataset_key,\n",
    "    \"id_col\": \"compound_id\",\n",
    "    \"smiles_col\": \"base_rdkit_smiles\",\n",
    "    \"response_cols\": \"avg_pKi\",\n",
    "\n",
    "    \"splitter\":\"scaffold\",\n",
    "    \"split_uuid\": split_uuid,\n",
    "    \"previously_split\": \"True\",\n",
    "\n",
    "    ### Use ECFP Features\n",
    "    \"featurizer\": \"ecfp\",\n",
    "    \"ecfp_radius\" : 2,\n",
    "    \"ecfp_size\" : 1024,\n",
    "    \"transformers\": \"True\",\n",
    "    ###\n",
    "\n",
    "    \"search_type\": \"hyperopt\",\n",
    "    \"model_type\": \"xgboost|10\",\n",
    "    \"xgbg\": \"uniform|0,0.2\",\n",
    "    \"xgbl\": \"loguniform|-2,2\",\n",
    "\n",
    "    \"result_dir\": f\"./{best_model_dir},./{model_dir}\"\n",
    "}"
   ]
  },
  {
   "cell_type": "markdown",
   "metadata": {},
   "source": [
    "In **Tutorial 6, \"Compare Models to Select the Best Hyperparameters\"**, we analyze the performance of these large sets of models to select the best hyperparameters for production models.\n",
    "\n",
    "If you have specific feedback about a tutorial, please complete the **[AMPL Tutorial Evaluation](https://forms.gle/pa9sHj4MHbS5zG7A6)**."
   ]
  }
 ],
 "metadata": {
  "kernelspec": {
   "display_name": "atomsci-env",
   "language": "python",
   "name": "atomsci-env"
  },
  "language_info": {
   "codemirror_mode": {
    "name": "ipython",
    "version": 3
   },
   "file_extension": ".py",
   "mimetype": "text/x-python",
   "name": "python",
   "nbconvert_exporter": "python",
   "pygments_lexer": "ipython3",
   "version": "3.9.19"
  }
 },
 "nbformat": 4,
 "nbformat_minor": 4
}
