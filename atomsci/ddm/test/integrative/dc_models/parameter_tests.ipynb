{
 "cells": [
  {
   "cell_type": "code",
   "execution_count": 1,
   "metadata": {},
   "outputs": [],
   "source": [
    "%load_ext autoreload\n",
    "%autoreload 2"
   ]
  },
  {
   "cell_type": "code",
   "execution_count": 2,
   "metadata": {},
   "outputs": [
    {
     "data": {
      "text/plain": [
       "Namespace(a='2')"
      ]
     },
     "execution_count": 2,
     "metadata": {},
     "output_type": "execute_result"
    }
   ],
   "source": [
    "import argparse\n",
    "\n",
    "parser = argparse.ArgumentParser()\n",
    "\n",
    "parser.add_argument('--a')\n",
    "parser.add_argument('--b', dest='a')\n",
    "\n",
    "parser.parse_args('--a 1 --b 2'.split())"
   ]
  },
  {
   "cell_type": "code",
   "execution_count": 5,
   "metadata": {},
   "outputs": [
    {
     "data": {
      "text/plain": [
       "Namespace(a=None, c='1')"
      ]
     },
     "execution_count": 5,
     "metadata": {},
     "output_type": "execute_result"
    }
   ],
   "source": [
    "parser = argparse.ArgumentParser()\n",
    "\n",
    "parser.add_argument('--b', dest='a')\n",
    "parser.add_argument('--a', default='0.5')\n",
    "parser.add_argument('--c')\n",
    "\n",
    "parser.parse_args('--c 1'.split())"
   ]
  },
  {
   "cell_type": "code",
   "execution_count": 2,
   "metadata": {},
   "outputs": [
    {
     "data": {
      "text/plain": [
       "'/usr/WS1/he6/code/ATOM/AMPL1.2_fork/atomsci/__init__.py'"
      ]
     },
     "execution_count": 2,
     "metadata": {},
     "output_type": "execute_result"
    }
   ],
   "source": [
    "import atomsci\n",
    "atomsci.__file__"
   ]
  },
  {
   "cell_type": "code",
   "execution_count": 3,
   "metadata": {},
   "outputs": [],
   "source": [
    "import deepchem as dc\n",
    "import deepchem.models as dcm"
   ]
  },
  {
   "cell_type": "code",
   "execution_count": 6,
   "metadata": {},
   "outputs": [
    {
     "name": "stdout",
     "output_type": "stream",
     "text": [
      "<class 'deepchem.models.torch_models.attentivefp.AttentiveFPModel'>\n",
      "\tn_tasks\n",
      "\t\t<class 'int'>\n",
      "\tself_loop\n",
      "\t\t<class 'bool'>\n",
      "\tnum_layers\n",
      "\t\t<class 'int'>\n",
      "\tgraph_feat_size\n",
      "\t\t<class 'int'>\n",
      "\tnum_timesteps\n",
      "\t\t<class 'int'>\n",
      "\tdropout\n",
      "\t\t<class 'float'>\n",
      "\tn_classes\n",
      "\t\t<class 'int'>\n",
      "\tnumber_bond_features\n",
      "\t\t<class 'int'>\n",
      "\tmode\n",
      "\t\t<class 'str'>\n",
      "\tnumber_atom_features\n",
      "\t\t<class 'int'>\n",
      "<class 'deepchem.models.torch_models.torch_model.TorchModel'>\n",
      "\tmodel_dir\n",
      "\t\ttyping.Union[str, NoneType]\n",
      "\tmodel\n",
      "\t\t<class 'torch.nn.modules.module.Module'>\n",
      "\tlog_frequency\n",
      "\t\t<class 'int'>\n",
      "\tdevice\n",
      "\t\ttyping.Union[torch.device, NoneType]\n",
      "\ttensorboard\n",
      "\t\t<class 'bool'>\n",
      "\toutput_types\n",
      "\t\ttyping.Union[typing.List[str], NoneType]\n",
      "\toptimizer\n",
      "\t\ttyping.Union[deepchem.models.optimizers.Optimizer, NoneType]\n",
      "\twandb\n",
      "\t\t<class 'bool'>\n",
      "\tbatch_size\n",
      "\t\t<class 'int'>\n",
      "\tloss\n",
      "\t\ttyping.Union[deepchem.models.losses.Loss, typing.Callable[[typing.List, typing.List, typing.List], typing.Any]]\n",
      "\tlearning_rate\n",
      "\t\ttyping.Union[float, deepchem.models.optimizers.LearningRateSchedule]\n",
      "<class 'deepchem.models.models.Model'>\n",
      "\tmodel_dir\n",
      "\t\ttyping.Union[str, NoneType]\n",
      "<class 'sklearn.base.BaseEstimator'>\n",
      "<class 'object'>\n",
      "<class 'deepchem.models.torch_models.gcn.GCNModel'>\n",
      "\tn_tasks\n",
      "\t\t<class 'int'>\n",
      "\tresidual\n",
      "\t\t<class 'bool'>\n",
      "\tself_loop\n",
      "\t\t<class 'bool'>\n",
      "\tn_classes\n",
      "\t\t<class 'int'>\n",
      "\tdropout\n",
      "\t\t<class 'float'>\n",
      "\tpredictor_hidden_feats\n",
      "\t\t<class 'int'>\n",
      "\tbatchnorm\n",
      "\t\t<class 'bool'>\n",
      "\tmode\n",
      "\t\t<class 'str'>\n",
      "\tpredictor_dropout\n",
      "\t\t<class 'float'>\n",
      "\tgraph_conv_layers\n",
      "\t\t<class 'list'>\n",
      "<class 'deepchem.models.torch_models.torch_model.TorchModel'>\n",
      "\tmodel_dir\n",
      "\t\ttyping.Union[str, NoneType]\n",
      "\tmodel\n",
      "\t\t<class 'torch.nn.modules.module.Module'>\n",
      "\tlog_frequency\n",
      "\t\t<class 'int'>\n",
      "\tdevice\n",
      "\t\ttyping.Union[torch.device, NoneType]\n",
      "\ttensorboard\n",
      "\t\t<class 'bool'>\n",
      "\toutput_types\n",
      "\t\ttyping.Union[typing.List[str], NoneType]\n",
      "\toptimizer\n",
      "\t\ttyping.Union[deepchem.models.optimizers.Optimizer, NoneType]\n",
      "\twandb\n",
      "\t\t<class 'bool'>\n",
      "\tbatch_size\n",
      "\t\t<class 'int'>\n",
      "\tloss\n",
      "\t\ttyping.Union[deepchem.models.losses.Loss, typing.Callable[[typing.List, typing.List, typing.List], typing.Any]]\n",
      "\tlearning_rate\n",
      "\t\ttyping.Union[float, deepchem.models.optimizers.LearningRateSchedule]\n",
      "<class 'deepchem.models.models.Model'>\n",
      "\tmodel_dir\n",
      "\t\ttyping.Union[str, NoneType]\n",
      "<class 'sklearn.base.BaseEstimator'>\n",
      "<class 'object'>\n",
      "<class 'deepchem.models.graph_models.MPNNModel'>\n",
      "<class 'deepchem.models.keras_model.KerasModel'>\n",
      "\tmodel_dir\n",
      "\t\ttyping.Union[str, NoneType]\n",
      "\tmodel\n",
      "\t\t<class 'tensorflow.python.keras.engine.training.Model'>\n",
      "\tlog_frequency\n",
      "\t\t<class 'int'>\n",
      "\ttensorboard\n",
      "\t\t<class 'bool'>\n",
      "\toutput_types\n",
      "\t\ttyping.Union[typing.List[str], NoneType]\n",
      "\toptimizer\n",
      "\t\ttyping.Union[deepchem.models.optimizers.Optimizer, NoneType]\n",
      "\twandb\n",
      "\t\t<class 'bool'>\n",
      "\tbatch_size\n",
      "\t\t<class 'int'>\n",
      "\tloss\n",
      "\t\ttyping.Union[deepchem.models.losses.Loss, typing.Callable[[typing.List, typing.List, typing.List], typing.Any]]\n",
      "\tlearning_rate\n",
      "\t\ttyping.Union[float, deepchem.models.optimizers.LearningRateSchedule]\n",
      "<class 'deepchem.models.models.Model'>\n",
      "\tmodel_dir\n",
      "\t\ttyping.Union[str, NoneType]\n",
      "<class 'sklearn.base.BaseEstimator'>\n",
      "<class 'object'>\n",
      "<class 'deepchem.feat.molecule_featurizers.mol_graph_conv_featurizer.MolGraphConvFeaturizer'>\n",
      "\tuse_chirality\n",
      "\t\t<class 'bool'>\n",
      "\tuse_edges\n",
      "\t\t<class 'bool'>\n",
      "\tuse_partial_charge\n",
      "\t\t<class 'bool'>\n",
      "<class 'deepchem.feat.base_classes.MolecularFeaturizer'>\n",
      "<class 'deepchem.feat.base_classes.Featurizer'>\n",
      "<class 'object'>\n",
      "AttentiveFPModel_model\n",
      "AttentiveFPModel_num_timesteps\n",
      "AttentiveFPModel_device\n",
      "AttentiveFPModel_optimizer\n",
      "AttentiveFPModel_wandb\n",
      "AttentiveFPModel_batch_size\n",
      "AttentiveFPModel_mode\n",
      "AttentiveFPModel_learning_rate\n",
      "AttentiveFPModel_n_tasks\n",
      "AttentiveFPModel_self_loop\n",
      "AttentiveFPModel_num_layers\n",
      "AttentiveFPModel_model_dir\n",
      "AttentiveFPModel_graph_feat_size\n",
      "AttentiveFPModel_log_frequency\n",
      "AttentiveFPModel_n_classes\n",
      "AttentiveFPModel_dropout\n",
      "AttentiveFPModel_tensorboard\n",
      "AttentiveFPModel_output_types\n",
      "AttentiveFPModel_number_bond_features\n",
      "AttentiveFPModel_loss\n",
      "AttentiveFPModel_number_atom_features\n",
      "GCNModel_residual\n",
      "GCNModel_model\n",
      "GCNModel_device\n",
      "GCNModel_optimizer\n",
      "GCNModel_wandb\n",
      "GCNModel_batch_size\n",
      "GCNModel_mode\n",
      "GCNModel_learning_rate\n",
      "GCNModel_n_tasks\n",
      "GCNModel_self_loop\n",
      "GCNModel_model_dir\n",
      "GCNModel_log_frequency\n",
      "GCNModel_n_classes\n",
      "GCNModel_dropout\n",
      "GCNModel_tensorboard\n",
      "GCNModel_predictor_hidden_feats\n",
      "GCNModel_output_types\n",
      "GCNModel_activation\n",
      "GCNModel_batchnorm\n",
      "GCNModel_loss\n",
      "GCNModel_number_atom_features\n",
      "GCNModel_predictor_dropout\n",
      "GCNModel_graph_conv_layers\n",
      "MPNNModel_model\n",
      "MPNNModel_n_atom_feat\n",
      "MPNNModel_M\n",
      "MPNNModel_optimizer\n",
      "MPNNModel_wandb\n",
      "MPNNModel_batch_size\n",
      "MPNNModel_n_pair_feat\n",
      "MPNNModel_mode\n",
      "MPNNModel_uncertainty\n",
      "MPNNModel_n_hidden\n",
      "MPNNModel_learning_rate\n",
      "MPNNModel_n_tasks\n",
      "MPNNModel_model_dir\n",
      "MPNNModel_log_frequency\n",
      "MPNNModel_n_classes\n",
      "MPNNModel_dropout\n",
      "MPNNModel_tensorboard\n",
      "MPNNModel_output_types\n",
      "MPNNModel_loss\n",
      "MPNNModel_T\n"
     ]
    }
   ],
   "source": [
    "import atomsci.ddm.pipeline.parameter_parser as pp\n",
    "defaults = pp.list_defaults()\n",
    "#print(defaults)\n",
    "#print(vars(defaults))\n",
    "for k, v in vars(defaults).items():\n",
    "    prefix = k.split('_')[0]\n",
    "    if prefix in pp.model_wl:\n",
    "        print(k)"
   ]
  },
  {
   "cell_type": "code",
   "execution_count": 7,
   "metadata": {},
   "outputs": [
    {
     "name": "stdout",
     "output_type": "stream",
     "text": [
      "<class 'list'>\n"
     ]
    }
   ],
   "source": [
    "print(list)"
   ]
  }
 ],
 "metadata": {
  "interpreter": {
   "hash": "c4dc08a6c8990c5978b1f51217a9350c9d116c52b21b25c0ecf60563852e616d"
  },
  "kernelspec": {
   "display_name": "Python 3.7.10 64-bit ('AMPL_stable_env': conda)",
   "language": "python",
   "name": "python3"
  },
  "language_info": {
   "codemirror_mode": {
    "name": "ipython",
    "version": 3
   },
   "file_extension": ".py",
   "mimetype": "text/x-python",
   "name": "python",
   "nbconvert_exporter": "python",
   "pygments_lexer": "ipython3",
   "version": "3.7.10"
  },
  "orig_nbformat": 4
 },
 "nbformat": 4,
 "nbformat_minor": 2
}
