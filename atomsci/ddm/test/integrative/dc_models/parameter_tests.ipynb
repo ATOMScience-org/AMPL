{
 "cells": [
  {
   "cell_type": "code",
   "execution_count": 1,
   "metadata": {},
   "outputs": [],
   "source": [
    "%load_ext autoreload\n",
    "%autoreload 2"
   ]
  },
  {
   "cell_type": "code",
   "execution_count": 2,
   "metadata": {},
   "outputs": [
    {
     "data": {
      "text/plain": [
       "'/usr/WS1/he6/code/ATOM/AMPL1.2_fork/atomsci/__init__.py'"
      ]
     },
     "execution_count": 2,
     "metadata": {},
     "output_type": "execute_result"
    }
   ],
   "source": [
    "import atomsci\n",
    "atomsci.__file__"
   ]
  },
  {
   "cell_type": "code",
   "execution_count": 3,
   "metadata": {},
   "outputs": [],
   "source": [
    "import deepchem as dc\n",
    "import deepchem.models as dcm"
   ]
  },
  {
   "cell_type": "code",
   "execution_count": 4,
   "metadata": {},
   "outputs": [],
   "source": [
    "model_wl = [dcm.AttentiveFPModel]#, dcm.MPNNModel, dcm.GCNModel, dcm.GATModel]"
   ]
  },
  {
   "cell_type": "code",
   "execution_count": 5,
   "metadata": {},
   "outputs": [
    {
     "name": "stdout",
     "output_type": "stream",
     "text": [
      "<class 'int'>\n",
      "{'graph_feat_size', 'dropout', 'number_atom_features', 'n_classes', 'n_tasks', 'number_bond_features', 'num_timesteps', 'self', 'num_layers', 'self_loop', 'mode'}\n"
     ]
    }
   ],
   "source": [
    "import inspect\n",
    "\n",
    "params = set()\n",
    "annots = []\n",
    "for m in model_wl:\n",
    "    spec = inspect.getfullargspec(m)\n",
    "    p = set(spec.args)\n",
    "    params = p.union(params)\n",
    "\n",
    "    annots.append(spec.annotations)\n",
    "\n",
    "for a in annots:\n",
    "    for b in annots:\n",
    "        a_keys = set(a.keys())\n",
    "        b_keys = set(b.keys())\n",
    "        both_keys = a_keys.intersection(b_keys)\n",
    "        for k in both_keys:\n",
    "            assert str(a[k]) == str(b[k])\n",
    "\n",
    "print(str(annots[0]['n_tasks']))\n",
    "print(params)\n"
   ]
  },
  {
   "cell_type": "code",
   "execution_count": 30,
   "metadata": {},
   "outputs": [
    {
     "name": "stdout",
     "output_type": "stream",
     "text": [
      "adding parameter: --dcm_self\n",
      "adding parameter: --dcm_n_tasks\n",
      "adding parameter: --dcm_num_layers\n",
      "adding parameter: --dcm_num_timesteps\n",
      "adding parameter: --dcm_graph_feat_size\n",
      "adding parameter: --dcm_dropout\n",
      "adding parameter: --dcm_mode\n",
      "adding parameter: --dcm_number_atom_features\n",
      "adding parameter: --dcm_number_bond_features\n",
      "adding parameter: --dcm_n_classes\n",
      "adding parameter: --dcm_self_loop\n",
      "adding parameter: --dcm_self\n",
      "adding parameter: --dcm_n_tasks\n",
      "adding parameter: --dcm_graph_conv_layers\n",
      "adding parameter: --dcm_activation\n",
      "adding parameter: --dcm_residual\n",
      "adding parameter: --dcm_batchnorm\n",
      "adding parameter: --dcm_dropout\n",
      "adding parameter: --dcm_predictor_hidden_feats\n",
      "adding parameter: --dcm_predictor_dropout\n",
      "adding parameter: --dcm_mode\n",
      "adding parameter: --dcm_number_atom_features\n",
      "adding parameter: --dcm_n_classes\n",
      "adding parameter: --dcm_self_loop\n",
      "adding parameter: --dcf_self\n",
      "adding parameter: --dcf_use_edges\n",
      "adding parameter: --dcf_use_chirality\n",
      "adding parameter: --dcf_use_partial_charge\n"
     ]
    },
    {
     "data": {
      "text/plain": [
       "{'dropout',\n",
       " 'graph_feat_size',\n",
       " 'mode',\n",
       " 'n_classes',\n",
       " 'n_tasks',\n",
       " 'num_layers',\n",
       " 'num_timesteps',\n",
       " 'number_atom_features',\n",
       " 'number_bond_features',\n",
       " 'self',\n",
       " 'self_loop'}"
      ]
     },
     "execution_count": 30,
     "metadata": {},
     "output_type": "execute_result"
    }
   ],
   "source": [
    "import atomsci.ddm.pipeline.parameter_parser as pp\n",
    "\n",
    "parser = pp.get_parser()\n",
    "existing_args = list(vars(parser)['_option_string_actions'].keys())\n",
    "existing_args = set([e.replace('-', '') for e in existing_args])\n",
    "\n",
    "new_args = params.difference(existing_args)\n",
    "new_args"
   ]
  },
  {
   "cell_type": "code",
   "execution_count": 35,
   "metadata": {},
   "outputs": [
    {
     "data": {
      "text/plain": [
       "{'use_edges': True}"
      ]
     },
     "execution_count": 35,
     "metadata": {},
     "output_type": "execute_result"
    }
   ],
   "source": [
    "pparams = parser.parse_args('--model_type asdf --dropouts 2 --dcf_use_edges False'.split())\n",
    "pp.extract_featurizer_params(pparams)"
   ]
  },
  {
   "cell_type": "code",
   "execution_count": null,
   "metadata": {},
   "outputs": [],
   "source": [
    "model_wl[3].__bases__[0].__bases__[0].__bases__[0].__bases__[0].__bases__"
   ]
  },
  {
   "cell_type": "code",
   "execution_count": null,
   "metadata": {},
   "outputs": [],
   "source": [
    "def all_parameters_recursive(func):\n",
    "    spec = inspect.getfullargspec(func)\n",
    "    params = set(spec.args)\n",
    "    annots = spec.annotations\n",
    "    for base in func.__bases__:\n",
    "        p, a = all_parameters_recursive(base)\n",
    "        params = p.union(params)\n",
    "        a = a.copy()\n",
    "        a.update(annots)\n",
    "        annots = a # update with annots so this overrides recursive call.\n",
    "    return params, annots\n",
    "\n",
    "print(all_parameters(model_wl[3]))"
   ]
  }
 ],
 "metadata": {
  "interpreter": {
   "hash": "c4dc08a6c8990c5978b1f51217a9350c9d116c52b21b25c0ecf60563852e616d"
  },
  "kernelspec": {
   "display_name": "Python 3.7.10 64-bit ('AMPL_stable_env': conda)",
   "language": "python",
   "name": "python3"
  },
  "language_info": {
   "codemirror_mode": {
    "name": "ipython",
    "version": 3
   },
   "file_extension": ".py",
   "mimetype": "text/x-python",
   "name": "python",
   "nbconvert_exporter": "python",
   "pygments_lexer": "ipython3",
   "version": "3.7.10"
  },
  "orig_nbformat": 4
 },
 "nbformat": 4,
 "nbformat_minor": 2
}
